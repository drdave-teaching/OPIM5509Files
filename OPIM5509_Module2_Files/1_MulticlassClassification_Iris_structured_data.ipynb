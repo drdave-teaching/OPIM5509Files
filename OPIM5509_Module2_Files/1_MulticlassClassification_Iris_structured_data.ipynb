{
  "nbformat": 4,
  "nbformat_minor": 0,
  "metadata": {
    "colab": {
      "provenance": [],
      "toc_visible": true
    },
    "kernelspec": {
      "name": "python3",
      "display_name": "Python 3"
    }
  },
  "cells": [
    {
      "cell_type": "markdown",
      "source": [
        "[![Open In Colab](https://colab.research.google.com/assets/colab-badge.svg)](https://colab.research.google.com/github/drdave-teaching/OPIM5509Files/blob/main/OPIM5509_Module2_Files/1_MulticlassClassification_Iris_structured_data.ipynb)"
      ],
      "metadata": {
        "id": "0dmctChhcAX3"
      }
    },
    {
      "cell_type": "markdown",
      "metadata": {
        "id": "13Rp37euaxC1"
      },
      "source": [
        "# Dense Neural Networks: Multiclass Classification\n",
        "----------------------------------\n",
        "**Dr. Dave Wanik**\n",
        "\n",
        "Let's try to fit a dense neural network with the Iris dataset."
      ]
    },
    {
      "cell_type": "code",
      "metadata": {
        "id": "xBm-P-oBap7G",
        "colab": {
          "base_uri": "https://localhost:8080/"
        },
        "outputId": "7c6ee2cf-7c81-4d0a-aae0-9390c9dd5c02"
      },
      "source": [
        "# for reading data\n",
        "import pandas as pd\n",
        "import numpy as np\n",
        "from sklearn.preprocessing import LabelEncoder\n",
        "\n",
        "!pip install scikeras\n",
        "from scikeras.wrappers import KerasClassifier # updated 2023\n",
        "\n",
        "# from keras.utils import np_utils\n",
        "from keras.utils import to_categorical\n",
        "\n",
        "# for modeling\n",
        "from keras.models import Sequential\n",
        "from keras.layers import Dense, Dropout\n",
        "from keras.callbacks import EarlyStopping\n",
        "\n",
        "# useful link: https://shrikar.com/deep-learning-with-keras-and-python-for-multiclass-classification/\n",
        "# useful link: https://machinelearningmastery.com/multi-class-classification-tutorial-keras-deep-learning-library/"
      ],
      "execution_count": null,
      "outputs": [
        {
          "output_type": "stream",
          "name": "stdout",
          "text": [
            "Requirement already satisfied: scikeras in /usr/local/lib/python3.11/dist-packages (0.13.0)\n",
            "Requirement already satisfied: keras>=3.2.0 in /usr/local/lib/python3.11/dist-packages (from scikeras) (3.8.0)\n",
            "Requirement already satisfied: scikit-learn>=1.4.2 in /usr/local/lib/python3.11/dist-packages (from scikeras) (1.6.1)\n",
            "Requirement already satisfied: absl-py in /usr/local/lib/python3.11/dist-packages (from keras>=3.2.0->scikeras) (1.4.0)\n",
            "Requirement already satisfied: numpy in /usr/local/lib/python3.11/dist-packages (from keras>=3.2.0->scikeras) (2.0.2)\n",
            "Requirement already satisfied: rich in /usr/local/lib/python3.11/dist-packages (from keras>=3.2.0->scikeras) (13.9.4)\n",
            "Requirement already satisfied: namex in /usr/local/lib/python3.11/dist-packages (from keras>=3.2.0->scikeras) (0.0.8)\n",
            "Requirement already satisfied: h5py in /usr/local/lib/python3.11/dist-packages (from keras>=3.2.0->scikeras) (3.13.0)\n",
            "Requirement already satisfied: optree in /usr/local/lib/python3.11/dist-packages (from keras>=3.2.0->scikeras) (0.14.1)\n",
            "Requirement already satisfied: ml-dtypes in /usr/local/lib/python3.11/dist-packages (from keras>=3.2.0->scikeras) (0.4.1)\n",
            "Requirement already satisfied: packaging in /usr/local/lib/python3.11/dist-packages (from keras>=3.2.0->scikeras) (24.2)\n",
            "Requirement already satisfied: scipy>=1.6.0 in /usr/local/lib/python3.11/dist-packages (from scikit-learn>=1.4.2->scikeras) (1.14.1)\n",
            "Requirement already satisfied: joblib>=1.2.0 in /usr/local/lib/python3.11/dist-packages (from scikit-learn>=1.4.2->scikeras) (1.4.2)\n",
            "Requirement already satisfied: threadpoolctl>=3.1.0 in /usr/local/lib/python3.11/dist-packages (from scikit-learn>=1.4.2->scikeras) (3.6.0)\n",
            "Requirement already satisfied: typing-extensions>=4.5.0 in /usr/local/lib/python3.11/dist-packages (from optree->keras>=3.2.0->scikeras) (4.13.0)\n",
            "Requirement already satisfied: markdown-it-py>=2.2.0 in /usr/local/lib/python3.11/dist-packages (from rich->keras>=3.2.0->scikeras) (3.0.0)\n",
            "Requirement already satisfied: pygments<3.0.0,>=2.13.0 in /usr/local/lib/python3.11/dist-packages (from rich->keras>=3.2.0->scikeras) (2.18.0)\n",
            "Requirement already satisfied: mdurl~=0.1 in /usr/local/lib/python3.11/dist-packages (from markdown-it-py>=2.2.0->rich->keras>=3.2.0->scikeras) (0.1.2)\n"
          ]
        }
      ]
    },
    {
      "cell_type": "code",
      "metadata": {
        "id": "M7mt6w2hbToc"
      },
      "source": [
        "# # read in the data\n",
        "# url = 'https://gist.githubusercontent.com/curran/a08a1080b88344b0c8a7/raw/639388c2cbc2120a14dcf466e85730eb8be498bb/iris.csv'\n",
        "# df = pd.read_csv(url)\n",
        "# df.info()"
      ],
      "execution_count": null,
      "outputs": []
    },
    {
      "cell_type": "code",
      "source": [
        "# # read from shareable link\n",
        "# # https://drive.google.com/file/d/1hcnnt2HJ6Iiv6yJJrk0thlPSibu_1q3x/view?usp=sharing\n",
        "# !gdown 1hcnnt2HJ6Iiv6yJJrk0thlPSibu_1q3x\n",
        "# df = pd.read_csv('Iris.csv')"
      ],
      "metadata": {
        "colab": {
          "base_uri": "https://localhost:8080/"
        },
        "id": "f5BbaEhFEUGJ",
        "outputId": "3d18bdfc-35f3-4d30-b34a-9c8b75dad919"
      },
      "execution_count": null,
      "outputs": [
        {
          "output_type": "stream",
          "name": "stdout",
          "text": [
            "Downloading...\n",
            "From: https://drive.google.com/uc?id=1hcnnt2HJ6Iiv6yJJrk0thlPSibu_1q3x\n",
            "To: /content/Iris.csv\n",
            "\r  0% 0.00/4.61k [00:00<?, ?B/s]\r100% 4.61k/4.61k [00:00<00:00, 5.08MB/s]\n"
          ]
        }
      ]
    },
    {
      "cell_type": "code",
      "source": [
        "# Link to the data file on Github\n",
        "url = \"https://raw.githubusercontent.com/drdave-teaching/OPIM5509Files/refs/heads/main/OPIM5509_Module2_Files/Iris.csv\"\n",
        "\n",
        "# retrieve the data and build a dataframe\n",
        "df = pd.read_csv(url)\n",
        "\n",
        "df.shape"
      ],
      "metadata": {
        "colab": {
          "base_uri": "https://localhost:8080/"
        },
        "id": "vzLrvfWSpbs8",
        "outputId": "6a727e03-c3c6-4705-dbf4-d329de4f7b2c"
      },
      "execution_count": null,
      "outputs": [
        {
          "output_type": "execute_result",
          "data": {
            "text/plain": [
              "(150, 5)"
            ]
          },
          "metadata": {},
          "execution_count": 6
        }
      ]
    },
    {
      "cell_type": "code",
      "metadata": {
        "id": "1kMLXqntbbv2",
        "colab": {
          "base_uri": "https://localhost:8080/",
          "height": 206
        },
        "outputId": "2c360221-49eb-43d5-d8aa-445315703b77"
      },
      "source": [
        "# show the head\n",
        "df.head()"
      ],
      "execution_count": null,
      "outputs": [
        {
          "output_type": "execute_result",
          "data": {
            "text/plain": [
              "   sepal length  sepal width  petal length  petal width         iris\n",
              "0           5.1          3.5           1.4          0.2  Iris-setosa\n",
              "1           4.9          3.0           1.4          0.2  Iris-setosa\n",
              "2           4.7          3.2           1.3          0.2  Iris-setosa\n",
              "3           4.6          3.1           1.5          0.2  Iris-setosa\n",
              "4           5.0          3.6           1.4          0.2  Iris-setosa"
            ],
            "text/html": [
              "\n",
              "  <div id=\"df-7d97c7c6-8df7-44a8-9a8d-fbaa27148691\">\n",
              "    <div class=\"colab-df-container\">\n",
              "      <div>\n",
              "<style scoped>\n",
              "    .dataframe tbody tr th:only-of-type {\n",
              "        vertical-align: middle;\n",
              "    }\n",
              "\n",
              "    .dataframe tbody tr th {\n",
              "        vertical-align: top;\n",
              "    }\n",
              "\n",
              "    .dataframe thead th {\n",
              "        text-align: right;\n",
              "    }\n",
              "</style>\n",
              "<table border=\"1\" class=\"dataframe\">\n",
              "  <thead>\n",
              "    <tr style=\"text-align: right;\">\n",
              "      <th></th>\n",
              "      <th>sepal length</th>\n",
              "      <th>sepal width</th>\n",
              "      <th>petal length</th>\n",
              "      <th>petal width</th>\n",
              "      <th>iris</th>\n",
              "    </tr>\n",
              "  </thead>\n",
              "  <tbody>\n",
              "    <tr>\n",
              "      <th>0</th>\n",
              "      <td>5.1</td>\n",
              "      <td>3.5</td>\n",
              "      <td>1.4</td>\n",
              "      <td>0.2</td>\n",
              "      <td>Iris-setosa</td>\n",
              "    </tr>\n",
              "    <tr>\n",
              "      <th>1</th>\n",
              "      <td>4.9</td>\n",
              "      <td>3.0</td>\n",
              "      <td>1.4</td>\n",
              "      <td>0.2</td>\n",
              "      <td>Iris-setosa</td>\n",
              "    </tr>\n",
              "    <tr>\n",
              "      <th>2</th>\n",
              "      <td>4.7</td>\n",
              "      <td>3.2</td>\n",
              "      <td>1.3</td>\n",
              "      <td>0.2</td>\n",
              "      <td>Iris-setosa</td>\n",
              "    </tr>\n",
              "    <tr>\n",
              "      <th>3</th>\n",
              "      <td>4.6</td>\n",
              "      <td>3.1</td>\n",
              "      <td>1.5</td>\n",
              "      <td>0.2</td>\n",
              "      <td>Iris-setosa</td>\n",
              "    </tr>\n",
              "    <tr>\n",
              "      <th>4</th>\n",
              "      <td>5.0</td>\n",
              "      <td>3.6</td>\n",
              "      <td>1.4</td>\n",
              "      <td>0.2</td>\n",
              "      <td>Iris-setosa</td>\n",
              "    </tr>\n",
              "  </tbody>\n",
              "</table>\n",
              "</div>\n",
              "      <button class=\"colab-df-convert\" onclick=\"convertToInteractive('df-7d97c7c6-8df7-44a8-9a8d-fbaa27148691')\"\n",
              "              title=\"Convert this dataframe to an interactive table.\"\n",
              "              style=\"display:none;\">\n",
              "        \n",
              "  <svg xmlns=\"http://www.w3.org/2000/svg\" height=\"24px\"viewBox=\"0 0 24 24\"\n",
              "       width=\"24px\">\n",
              "    <path d=\"M0 0h24v24H0V0z\" fill=\"none\"/>\n",
              "    <path d=\"M18.56 5.44l.94 2.06.94-2.06 2.06-.94-2.06-.94-.94-2.06-.94 2.06-2.06.94zm-11 1L8.5 8.5l.94-2.06 2.06-.94-2.06-.94L8.5 2.5l-.94 2.06-2.06.94zm10 10l.94 2.06.94-2.06 2.06-.94-2.06-.94-.94-2.06-.94 2.06-2.06.94z\"/><path d=\"M17.41 7.96l-1.37-1.37c-.4-.4-.92-.59-1.43-.59-.52 0-1.04.2-1.43.59L10.3 9.45l-7.72 7.72c-.78.78-.78 2.05 0 2.83L4 21.41c.39.39.9.59 1.41.59.51 0 1.02-.2 1.41-.59l7.78-7.78 2.81-2.81c.8-.78.8-2.07 0-2.86zM5.41 20L4 18.59l7.72-7.72 1.47 1.35L5.41 20z\"/>\n",
              "  </svg>\n",
              "      </button>\n",
              "      \n",
              "  <style>\n",
              "    .colab-df-container {\n",
              "      display:flex;\n",
              "      flex-wrap:wrap;\n",
              "      gap: 12px;\n",
              "    }\n",
              "\n",
              "    .colab-df-convert {\n",
              "      background-color: #E8F0FE;\n",
              "      border: none;\n",
              "      border-radius: 50%;\n",
              "      cursor: pointer;\n",
              "      display: none;\n",
              "      fill: #1967D2;\n",
              "      height: 32px;\n",
              "      padding: 0 0 0 0;\n",
              "      width: 32px;\n",
              "    }\n",
              "\n",
              "    .colab-df-convert:hover {\n",
              "      background-color: #E2EBFA;\n",
              "      box-shadow: 0px 1px 2px rgba(60, 64, 67, 0.3), 0px 1px 3px 1px rgba(60, 64, 67, 0.15);\n",
              "      fill: #174EA6;\n",
              "    }\n",
              "\n",
              "    [theme=dark] .colab-df-convert {\n",
              "      background-color: #3B4455;\n",
              "      fill: #D2E3FC;\n",
              "    }\n",
              "\n",
              "    [theme=dark] .colab-df-convert:hover {\n",
              "      background-color: #434B5C;\n",
              "      box-shadow: 0px 1px 3px 1px rgba(0, 0, 0, 0.15);\n",
              "      filter: drop-shadow(0px 1px 2px rgba(0, 0, 0, 0.3));\n",
              "      fill: #FFFFFF;\n",
              "    }\n",
              "  </style>\n",
              "\n",
              "      <script>\n",
              "        const buttonEl =\n",
              "          document.querySelector('#df-7d97c7c6-8df7-44a8-9a8d-fbaa27148691 button.colab-df-convert');\n",
              "        buttonEl.style.display =\n",
              "          google.colab.kernel.accessAllowed ? 'block' : 'none';\n",
              "\n",
              "        async function convertToInteractive(key) {\n",
              "          const element = document.querySelector('#df-7d97c7c6-8df7-44a8-9a8d-fbaa27148691');\n",
              "          const dataTable =\n",
              "            await google.colab.kernel.invokeFunction('convertToInteractive',\n",
              "                                                     [key], {});\n",
              "          if (!dataTable) return;\n",
              "\n",
              "          const docLinkHtml = 'Like what you see? Visit the ' +\n",
              "            '<a target=\"_blank\" href=https://colab.research.google.com/notebooks/data_table.ipynb>data table notebook</a>'\n",
              "            + ' to learn more about interactive tables.';\n",
              "          element.innerHTML = '';\n",
              "          dataTable['output_type'] = 'display_data';\n",
              "          await google.colab.output.renderOutput(dataTable, element);\n",
              "          const docLink = document.createElement('div');\n",
              "          docLink.innerHTML = docLinkHtml;\n",
              "          element.appendChild(docLink);\n",
              "        }\n",
              "      </script>\n",
              "    </div>\n",
              "  </div>\n",
              "  "
            ]
          },
          "metadata": {},
          "execution_count": 4
        }
      ]
    },
    {
      "cell_type": "code",
      "metadata": {
        "id": "ldGFRANLq-m8",
        "colab": {
          "base_uri": "https://localhost:8080/"
        },
        "outputId": "1f74b4c0-ce61-4b65-a052-71bf6b589b10"
      },
      "source": [
        "# show counts per species\n",
        "df['iris'].value_counts()"
      ],
      "execution_count": null,
      "outputs": [
        {
          "output_type": "execute_result",
          "data": {
            "text/plain": [
              "Iris-setosa        50\n",
              "Iris-versicolor    50\n",
              "Iris-virginica     50\n",
              "Name: iris, dtype: int64"
            ]
          },
          "metadata": {},
          "execution_count": 5
        }
      ]
    },
    {
      "cell_type": "code",
      "metadata": {
        "id": "kcGZp0EKl0RO",
        "colab": {
          "base_uri": "https://localhost:8080/",
          "height": 206
        },
        "outputId": "636e2022-876a-466c-f937-7d7a777b5676"
      },
      "source": [
        "# don't forget to shuffle! this way our data has some order...\n",
        "df = df.sample(frac=1).reset_index(drop=True)\n",
        "df.head()\n",
        "# link: https://stackoverflow.com/questions/29576430/shuffle-dataframe-rows"
      ],
      "execution_count": null,
      "outputs": [
        {
          "output_type": "execute_result",
          "data": {
            "text/plain": [
              "   sepal length  sepal width  petal length  petal width             iris\n",
              "0           5.1          3.8           1.5          0.3      Iris-setosa\n",
              "1           6.7          3.1           4.7          1.5  Iris-versicolor\n",
              "2           5.0          3.2           1.2          0.2      Iris-setosa\n",
              "3           5.6          2.5           3.9          1.1  Iris-versicolor\n",
              "4           7.7          3.8           6.7          2.2   Iris-virginica"
            ],
            "text/html": [
              "\n",
              "  <div id=\"df-da67be2b-20da-440b-894c-bae3747d28c3\">\n",
              "    <div class=\"colab-df-container\">\n",
              "      <div>\n",
              "<style scoped>\n",
              "    .dataframe tbody tr th:only-of-type {\n",
              "        vertical-align: middle;\n",
              "    }\n",
              "\n",
              "    .dataframe tbody tr th {\n",
              "        vertical-align: top;\n",
              "    }\n",
              "\n",
              "    .dataframe thead th {\n",
              "        text-align: right;\n",
              "    }\n",
              "</style>\n",
              "<table border=\"1\" class=\"dataframe\">\n",
              "  <thead>\n",
              "    <tr style=\"text-align: right;\">\n",
              "      <th></th>\n",
              "      <th>sepal length</th>\n",
              "      <th>sepal width</th>\n",
              "      <th>petal length</th>\n",
              "      <th>petal width</th>\n",
              "      <th>iris</th>\n",
              "    </tr>\n",
              "  </thead>\n",
              "  <tbody>\n",
              "    <tr>\n",
              "      <th>0</th>\n",
              "      <td>5.1</td>\n",
              "      <td>3.8</td>\n",
              "      <td>1.5</td>\n",
              "      <td>0.3</td>\n",
              "      <td>Iris-setosa</td>\n",
              "    </tr>\n",
              "    <tr>\n",
              "      <th>1</th>\n",
              "      <td>6.7</td>\n",
              "      <td>3.1</td>\n",
              "      <td>4.7</td>\n",
              "      <td>1.5</td>\n",
              "      <td>Iris-versicolor</td>\n",
              "    </tr>\n",
              "    <tr>\n",
              "      <th>2</th>\n",
              "      <td>5.0</td>\n",
              "      <td>3.2</td>\n",
              "      <td>1.2</td>\n",
              "      <td>0.2</td>\n",
              "      <td>Iris-setosa</td>\n",
              "    </tr>\n",
              "    <tr>\n",
              "      <th>3</th>\n",
              "      <td>5.6</td>\n",
              "      <td>2.5</td>\n",
              "      <td>3.9</td>\n",
              "      <td>1.1</td>\n",
              "      <td>Iris-versicolor</td>\n",
              "    </tr>\n",
              "    <tr>\n",
              "      <th>4</th>\n",
              "      <td>7.7</td>\n",
              "      <td>3.8</td>\n",
              "      <td>6.7</td>\n",
              "      <td>2.2</td>\n",
              "      <td>Iris-virginica</td>\n",
              "    </tr>\n",
              "  </tbody>\n",
              "</table>\n",
              "</div>\n",
              "      <button class=\"colab-df-convert\" onclick=\"convertToInteractive('df-da67be2b-20da-440b-894c-bae3747d28c3')\"\n",
              "              title=\"Convert this dataframe to an interactive table.\"\n",
              "              style=\"display:none;\">\n",
              "        \n",
              "  <svg xmlns=\"http://www.w3.org/2000/svg\" height=\"24px\"viewBox=\"0 0 24 24\"\n",
              "       width=\"24px\">\n",
              "    <path d=\"M0 0h24v24H0V0z\" fill=\"none\"/>\n",
              "    <path d=\"M18.56 5.44l.94 2.06.94-2.06 2.06-.94-2.06-.94-.94-2.06-.94 2.06-2.06.94zm-11 1L8.5 8.5l.94-2.06 2.06-.94-2.06-.94L8.5 2.5l-.94 2.06-2.06.94zm10 10l.94 2.06.94-2.06 2.06-.94-2.06-.94-.94-2.06-.94 2.06-2.06.94z\"/><path d=\"M17.41 7.96l-1.37-1.37c-.4-.4-.92-.59-1.43-.59-.52 0-1.04.2-1.43.59L10.3 9.45l-7.72 7.72c-.78.78-.78 2.05 0 2.83L4 21.41c.39.39.9.59 1.41.59.51 0 1.02-.2 1.41-.59l7.78-7.78 2.81-2.81c.8-.78.8-2.07 0-2.86zM5.41 20L4 18.59l7.72-7.72 1.47 1.35L5.41 20z\"/>\n",
              "  </svg>\n",
              "      </button>\n",
              "      \n",
              "  <style>\n",
              "    .colab-df-container {\n",
              "      display:flex;\n",
              "      flex-wrap:wrap;\n",
              "      gap: 12px;\n",
              "    }\n",
              "\n",
              "    .colab-df-convert {\n",
              "      background-color: #E8F0FE;\n",
              "      border: none;\n",
              "      border-radius: 50%;\n",
              "      cursor: pointer;\n",
              "      display: none;\n",
              "      fill: #1967D2;\n",
              "      height: 32px;\n",
              "      padding: 0 0 0 0;\n",
              "      width: 32px;\n",
              "    }\n",
              "\n",
              "    .colab-df-convert:hover {\n",
              "      background-color: #E2EBFA;\n",
              "      box-shadow: 0px 1px 2px rgba(60, 64, 67, 0.3), 0px 1px 3px 1px rgba(60, 64, 67, 0.15);\n",
              "      fill: #174EA6;\n",
              "    }\n",
              "\n",
              "    [theme=dark] .colab-df-convert {\n",
              "      background-color: #3B4455;\n",
              "      fill: #D2E3FC;\n",
              "    }\n",
              "\n",
              "    [theme=dark] .colab-df-convert:hover {\n",
              "      background-color: #434B5C;\n",
              "      box-shadow: 0px 1px 3px 1px rgba(0, 0, 0, 0.15);\n",
              "      filter: drop-shadow(0px 1px 2px rgba(0, 0, 0, 0.3));\n",
              "      fill: #FFFFFF;\n",
              "    }\n",
              "  </style>\n",
              "\n",
              "      <script>\n",
              "        const buttonEl =\n",
              "          document.querySelector('#df-da67be2b-20da-440b-894c-bae3747d28c3 button.colab-df-convert');\n",
              "        buttonEl.style.display =\n",
              "          google.colab.kernel.accessAllowed ? 'block' : 'none';\n",
              "\n",
              "        async function convertToInteractive(key) {\n",
              "          const element = document.querySelector('#df-da67be2b-20da-440b-894c-bae3747d28c3');\n",
              "          const dataTable =\n",
              "            await google.colab.kernel.invokeFunction('convertToInteractive',\n",
              "                                                     [key], {});\n",
              "          if (!dataTable) return;\n",
              "\n",
              "          const docLinkHtml = 'Like what you see? Visit the ' +\n",
              "            '<a target=\"_blank\" href=https://colab.research.google.com/notebooks/data_table.ipynb>data table notebook</a>'\n",
              "            + ' to learn more about interactive tables.';\n",
              "          element.innerHTML = '';\n",
              "          dataTable['output_type'] = 'display_data';\n",
              "          await google.colab.output.renderOutput(dataTable, element);\n",
              "          const docLink = document.createElement('div');\n",
              "          docLink.innerHTML = docLinkHtml;\n",
              "          element.appendChild(docLink);\n",
              "        }\n",
              "      </script>\n",
              "    </div>\n",
              "  </div>\n",
              "  "
            ]
          },
          "metadata": {},
          "execution_count": 6
        }
      ]
    },
    {
      "cell_type": "code",
      "metadata": {
        "id": "qQr22_5odcMO",
        "colab": {
          "base_uri": "https://localhost:8080/"
        },
        "outputId": "5ac0ba16-c9c6-437e-94b0-1972772da37d"
      },
      "source": [
        "# split into X and Y\n",
        "Y = df['iris']\n",
        "X = df.drop(['iris'], axis=1)\n",
        "\n",
        "print(X.shape)\n",
        "print(Y.shape)"
      ],
      "execution_count": null,
      "outputs": [
        {
          "output_type": "stream",
          "name": "stdout",
          "text": [
            "(150, 4)\n",
            "(150,)\n"
          ]
        }
      ]
    },
    {
      "cell_type": "code",
      "metadata": {
        "id": "4fHqolEVd2Lr"
      },
      "source": [
        "# convert to numpy arrays\n",
        "X = np.array(X)"
      ],
      "execution_count": null,
      "outputs": []
    },
    {
      "cell_type": "code",
      "metadata": {
        "id": "exmvntwjtF2M",
        "colab": {
          "base_uri": "https://localhost:8080/"
        },
        "outputId": "4a21282e-e7f1-4581-f736-a827cb97e79c"
      },
      "source": [
        "# show Y\n",
        "Y.head()"
      ],
      "execution_count": null,
      "outputs": [
        {
          "output_type": "execute_result",
          "data": {
            "text/plain": [
              "0        Iris-setosa\n",
              "1    Iris-versicolor\n",
              "2        Iris-setosa\n",
              "3    Iris-versicolor\n",
              "4     Iris-virginica\n",
              "Name: iris, dtype: object"
            ]
          },
          "metadata": {},
          "execution_count": 9
        }
      ]
    },
    {
      "cell_type": "code",
      "metadata": {
        "id": "R7GXPcovklGs"
      },
      "source": [
        "# work with labels\n",
        "# encode class values as integers\n",
        "encoder = LabelEncoder()\n",
        "encoded_Y = encoder.fit_transform(Y)\n",
        "# convert integers to dummy variables (i.e. one hot encoded)\n",
        "dummy_y = np_utils.to_categorical(encoded_Y)"
      ],
      "execution_count": null,
      "outputs": []
    },
    {
      "cell_type": "code",
      "source": [
        "encoded_Y"
      ],
      "metadata": {
        "colab": {
          "base_uri": "https://localhost:8080/"
        },
        "id": "wD3DnBFxT9d7",
        "outputId": "0a589601-d8ea-4edc-f629-467b2e96513a"
      },
      "execution_count": null,
      "outputs": [
        {
          "output_type": "execute_result",
          "data": {
            "text/plain": [
              "array([0, 1, 0, 1, 2, 1, 1, 0, 0, 2, 1, 2, 0, 0, 0, 0, 0, 1, 1, 1, 1, 2,\n",
              "       0, 1, 0, 0, 1, 0, 2, 2, 0, 1, 2, 0, 2, 0, 1, 2, 0, 0, 0, 2, 0, 0,\n",
              "       0, 1, 1, 1, 2, 1, 1, 1, 1, 0, 0, 2, 2, 2, 1, 0, 1, 0, 1, 1, 1, 2,\n",
              "       0, 1, 1, 0, 1, 0, 1, 2, 1, 2, 2, 1, 0, 2, 2, 2, 1, 0, 0, 2, 0, 2,\n",
              "       2, 1, 2, 2, 1, 2, 2, 2, 0, 2, 1, 0, 1, 0, 1, 1, 0, 1, 2, 1, 0, 2,\n",
              "       0, 0, 2, 0, 1, 0, 1, 2, 2, 2, 0, 2, 1, 2, 1, 2, 2, 1, 0, 0, 2, 1,\n",
              "       2, 1, 2, 2, 1, 1, 0, 2, 2, 2, 0, 2, 0, 0, 1, 2, 2, 0])"
            ]
          },
          "metadata": {},
          "execution_count": 32
        }
      ]
    },
    {
      "cell_type": "code",
      "source": [
        "print(dummy_y.shape)\n",
        "dummy_y"
      ],
      "metadata": {
        "colab": {
          "base_uri": "https://localhost:8080/"
        },
        "id": "aZ5FOlxAT_ZD",
        "outputId": "fb2f2b04-8ba3-44ff-a079-0124eb8d828d"
      },
      "execution_count": null,
      "outputs": [
        {
          "output_type": "stream",
          "name": "stdout",
          "text": [
            "(150, 3)\n"
          ]
        },
        {
          "output_type": "execute_result",
          "data": {
            "text/plain": [
              "array([[1., 0., 0.],\n",
              "       [0., 1., 0.],\n",
              "       [1., 0., 0.],\n",
              "       [0., 1., 0.],\n",
              "       [0., 0., 1.],\n",
              "       [0., 1., 0.],\n",
              "       [0., 1., 0.],\n",
              "       [1., 0., 0.],\n",
              "       [1., 0., 0.],\n",
              "       [0., 0., 1.],\n",
              "       [0., 1., 0.],\n",
              "       [0., 0., 1.],\n",
              "       [1., 0., 0.],\n",
              "       [1., 0., 0.],\n",
              "       [1., 0., 0.],\n",
              "       [1., 0., 0.],\n",
              "       [1., 0., 0.],\n",
              "       [0., 1., 0.],\n",
              "       [0., 1., 0.],\n",
              "       [0., 1., 0.],\n",
              "       [0., 1., 0.],\n",
              "       [0., 0., 1.],\n",
              "       [1., 0., 0.],\n",
              "       [0., 1., 0.],\n",
              "       [1., 0., 0.],\n",
              "       [1., 0., 0.],\n",
              "       [0., 1., 0.],\n",
              "       [1., 0., 0.],\n",
              "       [0., 0., 1.],\n",
              "       [0., 0., 1.],\n",
              "       [1., 0., 0.],\n",
              "       [0., 1., 0.],\n",
              "       [0., 0., 1.],\n",
              "       [1., 0., 0.],\n",
              "       [0., 0., 1.],\n",
              "       [1., 0., 0.],\n",
              "       [0., 1., 0.],\n",
              "       [0., 0., 1.],\n",
              "       [1., 0., 0.],\n",
              "       [1., 0., 0.],\n",
              "       [1., 0., 0.],\n",
              "       [0., 0., 1.],\n",
              "       [1., 0., 0.],\n",
              "       [1., 0., 0.],\n",
              "       [1., 0., 0.],\n",
              "       [0., 1., 0.],\n",
              "       [0., 1., 0.],\n",
              "       [0., 1., 0.],\n",
              "       [0., 0., 1.],\n",
              "       [0., 1., 0.],\n",
              "       [0., 1., 0.],\n",
              "       [0., 1., 0.],\n",
              "       [0., 1., 0.],\n",
              "       [1., 0., 0.],\n",
              "       [1., 0., 0.],\n",
              "       [0., 0., 1.],\n",
              "       [0., 0., 1.],\n",
              "       [0., 0., 1.],\n",
              "       [0., 1., 0.],\n",
              "       [1., 0., 0.],\n",
              "       [0., 1., 0.],\n",
              "       [1., 0., 0.],\n",
              "       [0., 1., 0.],\n",
              "       [0., 1., 0.],\n",
              "       [0., 1., 0.],\n",
              "       [0., 0., 1.],\n",
              "       [1., 0., 0.],\n",
              "       [0., 1., 0.],\n",
              "       [0., 1., 0.],\n",
              "       [1., 0., 0.],\n",
              "       [0., 1., 0.],\n",
              "       [1., 0., 0.],\n",
              "       [0., 1., 0.],\n",
              "       [0., 0., 1.],\n",
              "       [0., 1., 0.],\n",
              "       [0., 0., 1.],\n",
              "       [0., 0., 1.],\n",
              "       [0., 1., 0.],\n",
              "       [1., 0., 0.],\n",
              "       [0., 0., 1.],\n",
              "       [0., 0., 1.],\n",
              "       [0., 0., 1.],\n",
              "       [0., 1., 0.],\n",
              "       [1., 0., 0.],\n",
              "       [1., 0., 0.],\n",
              "       [0., 0., 1.],\n",
              "       [1., 0., 0.],\n",
              "       [0., 0., 1.],\n",
              "       [0., 0., 1.],\n",
              "       [0., 1., 0.],\n",
              "       [0., 0., 1.],\n",
              "       [0., 0., 1.],\n",
              "       [0., 1., 0.],\n",
              "       [0., 0., 1.],\n",
              "       [0., 0., 1.],\n",
              "       [0., 0., 1.],\n",
              "       [1., 0., 0.],\n",
              "       [0., 0., 1.],\n",
              "       [0., 1., 0.],\n",
              "       [1., 0., 0.],\n",
              "       [0., 1., 0.],\n",
              "       [1., 0., 0.],\n",
              "       [0., 1., 0.],\n",
              "       [0., 1., 0.],\n",
              "       [1., 0., 0.],\n",
              "       [0., 1., 0.],\n",
              "       [0., 0., 1.],\n",
              "       [0., 1., 0.],\n",
              "       [1., 0., 0.],\n",
              "       [0., 0., 1.],\n",
              "       [1., 0., 0.],\n",
              "       [1., 0., 0.],\n",
              "       [0., 0., 1.],\n",
              "       [1., 0., 0.],\n",
              "       [0., 1., 0.],\n",
              "       [1., 0., 0.],\n",
              "       [0., 1., 0.],\n",
              "       [0., 0., 1.],\n",
              "       [0., 0., 1.],\n",
              "       [0., 0., 1.],\n",
              "       [1., 0., 0.],\n",
              "       [0., 0., 1.],\n",
              "       [0., 1., 0.],\n",
              "       [0., 0., 1.],\n",
              "       [0., 1., 0.],\n",
              "       [0., 0., 1.],\n",
              "       [0., 0., 1.],\n",
              "       [0., 1., 0.],\n",
              "       [1., 0., 0.],\n",
              "       [1., 0., 0.],\n",
              "       [0., 0., 1.],\n",
              "       [0., 1., 0.],\n",
              "       [0., 0., 1.],\n",
              "       [0., 1., 0.],\n",
              "       [0., 0., 1.],\n",
              "       [0., 0., 1.],\n",
              "       [0., 1., 0.],\n",
              "       [0., 1., 0.],\n",
              "       [1., 0., 0.],\n",
              "       [0., 0., 1.],\n",
              "       [0., 0., 1.],\n",
              "       [0., 0., 1.],\n",
              "       [1., 0., 0.],\n",
              "       [0., 0., 1.],\n",
              "       [1., 0., 0.],\n",
              "       [1., 0., 0.],\n",
              "       [0., 1., 0.],\n",
              "       [0., 0., 1.],\n",
              "       [0., 0., 1.],\n",
              "       [1., 0., 0.]], dtype=float32)"
            ]
          },
          "metadata": {},
          "execution_count": 34
        }
      ]
    },
    {
      "cell_type": "code",
      "metadata": {
        "id": "10FZQ2OebndP",
        "colab": {
          "base_uri": "https://localhost:8080/"
        },
        "outputId": "6af13a55-3b37-4c16-831c-7c0ffa2993c7"
      },
      "source": [
        "# build a model\n",
        "model = Sequential()\n",
        "model.add(Dense(16, input_shape=(X.shape[1],), activation='relu')) # input shape is (features,)\n",
        "model.add(Dense(3, activation='softmax')) # output\n",
        "model.summary()\n",
        "\n",
        "# make sure in a multiclass problem that you have one output node per target class\n",
        "# and use a 'softmax' activation function which forces your model to split\n",
        "# it's prediction among 3 classes (all adds up to 1)"
      ],
      "execution_count": null,
      "outputs": [
        {
          "output_type": "stream",
          "name": "stdout",
          "text": [
            "Model: \"sequential\"\n",
            "_________________________________________________________________\n",
            " Layer (type)                Output Shape              Param #   \n",
            "=================================================================\n",
            " dense (Dense)               (None, 16)                80        \n",
            "                                                                 \n",
            " dense_1 (Dense)             (None, 3)                 51        \n",
            "                                                                 \n",
            "=================================================================\n",
            "Total params: 131\n",
            "Trainable params: 131\n",
            "Non-trainable params: 0\n",
            "_________________________________________________________________\n"
          ]
        }
      ]
    },
    {
      "cell_type": "code",
      "metadata": {
        "id": "mqBOCy6tcmyU"
      },
      "source": [
        "# compile the model\n",
        "model.compile(optimizer='rmsprop', # use rmsprop or Adam\n",
        "              loss='categorical_crossentropy', # this is different instead of binary_crossentropy (for regular classification)\n",
        "              metrics=['accuracy'])"
      ],
      "execution_count": null,
      "outputs": []
    },
    {
      "cell_type": "code",
      "metadata": {
        "id": "0ZA82zb7cpHM"
      },
      "source": [
        "# fit the model\n",
        "history = model.fit(X,\n",
        "                    dummy_y,\n",
        "                    epochs=40,\n",
        "                    batch_size=10,\n",
        "                    validation_split=0.2, # last 20% of data used as validation\n",
        "                    shuffle=True)"
      ],
      "execution_count": null,
      "outputs": []
    },
    {
      "cell_type": "markdown",
      "metadata": {
        "id": "g5K-bm3uqft2"
      },
      "source": [
        "## Callbacks (Early Stopping, return best weights, patience)\n",
        "Remember that you will just use early_stopping in the future - no need to hard-code epochs."
      ]
    },
    {
      "cell_type": "code",
      "metadata": {
        "id": "eq_7Lrfoqk5q",
        "colab": {
          "base_uri": "https://localhost:8080/"
        },
        "outputId": "c111200a-5e93-4ef8-e0cd-06093b9e351a"
      },
      "source": [
        "# we will keep the same model architecture as before,\n",
        "# but we will make this a little simpler...\n",
        "\n",
        "import keras\n",
        "from keras.callbacks import EarlyStopping\n",
        "\n",
        "# early stopping callback\n",
        "# This callback will stop the training when there is no improvement in\n",
        "# the validation loss for 10 consecutive epochs.\n",
        "es = keras.callbacks.EarlyStopping(monitor='val_loss',\n",
        "                                   mode='min',\n",
        "                                   patience=10, # you can play with this!\n",
        "                                   restore_best_weights=True) # important - otherwise you just return the last weigths...\n",
        "\n",
        "# now we just update our model fit call\n",
        "history = model.fit(X,\n",
        "                    dummy_y,\n",
        "                    callbacks=[es],\n",
        "                    epochs=1000000, # you can set this to a big number!\n",
        "                    batch_size=10,\n",
        "                    shuffle=True,\n",
        "                    validation_split=0.2,\n",
        "                    verbose=1)"
      ],
      "execution_count": null,
      "outputs": [
        {
          "output_type": "stream",
          "name": "stdout",
          "text": [
            "Epoch 1/1000000\n",
            "12/12 [==============================] - 1s 24ms/step - loss: 1.9784 - accuracy: 0.0083 - val_loss: 1.8260 - val_accuracy: 0.0333\n",
            "Epoch 2/1000000\n",
            "12/12 [==============================] - 0s 7ms/step - loss: 1.6986 - accuracy: 0.0417 - val_loss: 1.5819 - val_accuracy: 0.2000\n",
            "Epoch 3/1000000\n",
            "12/12 [==============================] - 0s 5ms/step - loss: 1.5435 - accuracy: 0.2167 - val_loss: 1.4122 - val_accuracy: 0.2000\n",
            "Epoch 4/1000000\n",
            "12/12 [==============================] - 0s 7ms/step - loss: 1.4243 - accuracy: 0.2333 - val_loss: 1.2915 - val_accuracy: 0.2667\n",
            "Epoch 5/1000000\n",
            "12/12 [==============================] - 0s 8ms/step - loss: 1.3251 - accuracy: 0.2917 - val_loss: 1.1962 - val_accuracy: 0.4333\n",
            "Epoch 6/1000000\n",
            "12/12 [==============================] - 0s 5ms/step - loss: 1.2341 - accuracy: 0.3667 - val_loss: 1.1302 - val_accuracy: 0.5667\n",
            "Epoch 7/1000000\n",
            "12/12 [==============================] - 0s 4ms/step - loss: 1.1479 - accuracy: 0.3750 - val_loss: 1.0556 - val_accuracy: 0.5667\n",
            "Epoch 8/1000000\n",
            "12/12 [==============================] - 0s 6ms/step - loss: 1.0700 - accuracy: 0.4083 - val_loss: 0.9736 - val_accuracy: 0.4667\n",
            "Epoch 9/1000000\n",
            "12/12 [==============================] - 0s 5ms/step - loss: 1.0091 - accuracy: 0.3667 - val_loss: 0.9369 - val_accuracy: 0.4333\n",
            "Epoch 10/1000000\n",
            "12/12 [==============================] - 0s 8ms/step - loss: 0.9575 - accuracy: 0.3500 - val_loss: 0.8990 - val_accuracy: 0.4333\n",
            "Epoch 11/1000000\n",
            "12/12 [==============================] - 0s 5ms/step - loss: 0.9103 - accuracy: 0.4583 - val_loss: 0.8669 - val_accuracy: 0.6333\n",
            "Epoch 12/1000000\n",
            "12/12 [==============================] - 0s 7ms/step - loss: 0.8668 - accuracy: 0.6833 - val_loss: 0.8340 - val_accuracy: 0.7000\n",
            "Epoch 13/1000000\n",
            "12/12 [==============================] - 0s 6ms/step - loss: 0.8281 - accuracy: 0.6833 - val_loss: 0.8022 - val_accuracy: 0.7000\n",
            "Epoch 14/1000000\n",
            "12/12 [==============================] - 0s 6ms/step - loss: 0.7901 - accuracy: 0.7083 - val_loss: 0.7727 - val_accuracy: 0.8000\n",
            "Epoch 15/1000000\n",
            "12/12 [==============================] - 0s 6ms/step - loss: 0.7568 - accuracy: 0.7417 - val_loss: 0.7326 - val_accuracy: 0.7000\n",
            "Epoch 16/1000000\n",
            "12/12 [==============================] - 0s 7ms/step - loss: 0.7269 - accuracy: 0.7833 - val_loss: 0.7068 - val_accuracy: 0.7333\n",
            "Epoch 17/1000000\n",
            "12/12 [==============================] - 0s 7ms/step - loss: 0.7008 - accuracy: 0.7667 - val_loss: 0.6809 - val_accuracy: 0.7333\n",
            "Epoch 18/1000000\n",
            "12/12 [==============================] - 0s 6ms/step - loss: 0.6787 - accuracy: 0.7083 - val_loss: 0.6778 - val_accuracy: 0.8333\n",
            "Epoch 19/1000000\n",
            "12/12 [==============================] - 0s 5ms/step - loss: 0.6603 - accuracy: 0.7583 - val_loss: 0.6501 - val_accuracy: 0.8000\n",
            "Epoch 20/1000000\n",
            "12/12 [==============================] - 0s 5ms/step - loss: 0.6381 - accuracy: 0.7833 - val_loss: 0.6323 - val_accuracy: 0.8000\n",
            "Epoch 21/1000000\n",
            "12/12 [==============================] - 0s 6ms/step - loss: 0.6199 - accuracy: 0.7583 - val_loss: 0.6364 - val_accuracy: 0.8000\n",
            "Epoch 22/1000000\n",
            "12/12 [==============================] - 0s 5ms/step - loss: 0.6050 - accuracy: 0.7667 - val_loss: 0.6183 - val_accuracy: 0.8333\n",
            "Epoch 23/1000000\n",
            "12/12 [==============================] - 0s 6ms/step - loss: 0.5883 - accuracy: 0.7917 - val_loss: 0.6138 - val_accuracy: 0.7667\n",
            "Epoch 24/1000000\n",
            "12/12 [==============================] - 0s 4ms/step - loss: 0.5820 - accuracy: 0.8000 - val_loss: 0.5895 - val_accuracy: 0.8667\n",
            "Epoch 25/1000000\n",
            "12/12 [==============================] - 0s 5ms/step - loss: 0.5639 - accuracy: 0.8167 - val_loss: 0.5762 - val_accuracy: 0.8667\n",
            "Epoch 26/1000000\n",
            "12/12 [==============================] - 0s 4ms/step - loss: 0.5516 - accuracy: 0.8417 - val_loss: 0.5645 - val_accuracy: 0.8667\n",
            "Epoch 27/1000000\n",
            "12/12 [==============================] - 0s 4ms/step - loss: 0.5405 - accuracy: 0.8250 - val_loss: 0.5456 - val_accuracy: 0.8667\n",
            "Epoch 28/1000000\n",
            "12/12 [==============================] - 0s 4ms/step - loss: 0.5284 - accuracy: 0.8333 - val_loss: 0.5417 - val_accuracy: 0.9000\n",
            "Epoch 29/1000000\n",
            "12/12 [==============================] - 0s 5ms/step - loss: 0.5188 - accuracy: 0.8417 - val_loss: 0.5403 - val_accuracy: 0.8667\n",
            "Epoch 30/1000000\n",
            "12/12 [==============================] - 0s 5ms/step - loss: 0.5072 - accuracy: 0.8333 - val_loss: 0.5312 - val_accuracy: 0.8667\n",
            "Epoch 31/1000000\n",
            "12/12 [==============================] - 0s 7ms/step - loss: 0.4973 - accuracy: 0.8667 - val_loss: 0.5195 - val_accuracy: 0.8667\n",
            "Epoch 32/1000000\n",
            "12/12 [==============================] - 0s 4ms/step - loss: 0.4872 - accuracy: 0.8417 - val_loss: 0.5021 - val_accuracy: 0.9000\n",
            "Epoch 33/1000000\n",
            "12/12 [==============================] - 0s 7ms/step - loss: 0.4790 - accuracy: 0.8583 - val_loss: 0.4904 - val_accuracy: 0.9000\n",
            "Epoch 34/1000000\n",
            "12/12 [==============================] - 0s 5ms/step - loss: 0.4705 - accuracy: 0.8500 - val_loss: 0.4921 - val_accuracy: 0.9000\n",
            "Epoch 35/1000000\n",
            "12/12 [==============================] - 0s 6ms/step - loss: 0.4617 - accuracy: 0.8583 - val_loss: 0.4803 - val_accuracy: 0.9000\n",
            "Epoch 36/1000000\n",
            "12/12 [==============================] - 0s 5ms/step - loss: 0.4527 - accuracy: 0.8667 - val_loss: 0.4707 - val_accuracy: 0.9000\n",
            "Epoch 37/1000000\n",
            "12/12 [==============================] - 0s 5ms/step - loss: 0.4481 - accuracy: 0.8500 - val_loss: 0.4777 - val_accuracy: 0.8667\n",
            "Epoch 38/1000000\n",
            "12/12 [==============================] - 0s 6ms/step - loss: 0.4393 - accuracy: 0.8750 - val_loss: 0.4639 - val_accuracy: 0.9000\n",
            "Epoch 39/1000000\n",
            "12/12 [==============================] - 0s 7ms/step - loss: 0.4328 - accuracy: 0.8750 - val_loss: 0.4556 - val_accuracy: 0.9000\n",
            "Epoch 40/1000000\n",
            "12/12 [==============================] - 0s 5ms/step - loss: 0.4260 - accuracy: 0.8667 - val_loss: 0.4445 - val_accuracy: 0.9333\n",
            "Epoch 41/1000000\n",
            "12/12 [==============================] - 0s 6ms/step - loss: 0.4234 - accuracy: 0.8833 - val_loss: 0.4462 - val_accuracy: 0.9000\n",
            "Epoch 42/1000000\n",
            "12/12 [==============================] - 0s 6ms/step - loss: 0.4136 - accuracy: 0.8917 - val_loss: 0.4401 - val_accuracy: 0.9000\n",
            "Epoch 43/1000000\n",
            "12/12 [==============================] - 0s 6ms/step - loss: 0.4083 - accuracy: 0.8750 - val_loss: 0.4469 - val_accuracy: 0.8667\n",
            "Epoch 44/1000000\n",
            "12/12 [==============================] - 0s 5ms/step - loss: 0.4023 - accuracy: 0.8833 - val_loss: 0.4256 - val_accuracy: 0.9333\n",
            "Epoch 45/1000000\n",
            "12/12 [==============================] - 0s 6ms/step - loss: 0.3954 - accuracy: 0.9083 - val_loss: 0.4378 - val_accuracy: 0.8667\n",
            "Epoch 46/1000000\n",
            "12/12 [==============================] - 0s 5ms/step - loss: 0.3941 - accuracy: 0.8917 - val_loss: 0.4227 - val_accuracy: 0.9333\n",
            "Epoch 47/1000000\n",
            "12/12 [==============================] - 0s 5ms/step - loss: 0.3867 - accuracy: 0.9000 - val_loss: 0.4081 - val_accuracy: 0.9667\n",
            "Epoch 48/1000000\n",
            "12/12 [==============================] - 0s 6ms/step - loss: 0.3781 - accuracy: 0.8833 - val_loss: 0.4317 - val_accuracy: 0.8333\n",
            "Epoch 49/1000000\n",
            "12/12 [==============================] - 0s 4ms/step - loss: 0.3802 - accuracy: 0.8667 - val_loss: 0.3979 - val_accuracy: 0.9667\n",
            "Epoch 50/1000000\n",
            "12/12 [==============================] - 0s 8ms/step - loss: 0.3724 - accuracy: 0.9083 - val_loss: 0.4027 - val_accuracy: 0.9333\n",
            "Epoch 51/1000000\n",
            "12/12 [==============================] - 0s 9ms/step - loss: 0.3667 - accuracy: 0.9083 - val_loss: 0.4183 - val_accuracy: 0.8667\n",
            "Epoch 52/1000000\n",
            "12/12 [==============================] - 0s 8ms/step - loss: 0.3636 - accuracy: 0.8917 - val_loss: 0.3873 - val_accuracy: 0.9667\n",
            "Epoch 53/1000000\n",
            "12/12 [==============================] - 0s 14ms/step - loss: 0.3614 - accuracy: 0.9167 - val_loss: 0.3908 - val_accuracy: 0.9667\n",
            "Epoch 54/1000000\n",
            "12/12 [==============================] - 0s 13ms/step - loss: 0.3542 - accuracy: 0.9167 - val_loss: 0.4104 - val_accuracy: 0.8333\n",
            "Epoch 55/1000000\n",
            "12/12 [==============================] - 0s 11ms/step - loss: 0.3523 - accuracy: 0.8833 - val_loss: 0.3688 - val_accuracy: 0.9667\n",
            "Epoch 56/1000000\n",
            "12/12 [==============================] - 0s 10ms/step - loss: 0.3456 - accuracy: 0.9333 - val_loss: 0.3831 - val_accuracy: 0.9000\n",
            "Epoch 57/1000000\n",
            "12/12 [==============================] - 0s 13ms/step - loss: 0.3456 - accuracy: 0.9083 - val_loss: 0.3730 - val_accuracy: 0.9667\n",
            "Epoch 58/1000000\n",
            "12/12 [==============================] - 0s 13ms/step - loss: 0.3410 - accuracy: 0.8917 - val_loss: 0.3757 - val_accuracy: 0.9333\n",
            "Epoch 59/1000000\n",
            "12/12 [==============================] - 0s 9ms/step - loss: 0.3362 - accuracy: 0.9250 - val_loss: 0.3710 - val_accuracy: 0.9333\n",
            "Epoch 60/1000000\n",
            "12/12 [==============================] - 0s 9ms/step - loss: 0.3315 - accuracy: 0.9083 - val_loss: 0.3446 - val_accuracy: 1.0000\n",
            "Epoch 61/1000000\n",
            "12/12 [==============================] - 0s 11ms/step - loss: 0.3265 - accuracy: 0.9250 - val_loss: 0.3844 - val_accuracy: 0.9000\n",
            "Epoch 62/1000000\n",
            "12/12 [==============================] - 0s 15ms/step - loss: 0.3262 - accuracy: 0.9250 - val_loss: 0.3633 - val_accuracy: 0.9333\n",
            "Epoch 63/1000000\n",
            "12/12 [==============================] - 0s 18ms/step - loss: 0.3252 - accuracy: 0.9333 - val_loss: 0.3524 - val_accuracy: 0.9667\n",
            "Epoch 64/1000000\n",
            "12/12 [==============================] - 0s 8ms/step - loss: 0.3188 - accuracy: 0.9167 - val_loss: 0.3453 - val_accuracy: 0.9667\n",
            "Epoch 65/1000000\n",
            "12/12 [==============================] - 0s 15ms/step - loss: 0.3152 - accuracy: 0.9167 - val_loss: 0.3206 - val_accuracy: 1.0000\n",
            "Epoch 66/1000000\n",
            "12/12 [==============================] - 0s 15ms/step - loss: 0.3123 - accuracy: 0.9417 - val_loss: 0.3508 - val_accuracy: 0.9333\n",
            "Epoch 67/1000000\n",
            "12/12 [==============================] - 0s 19ms/step - loss: 0.3105 - accuracy: 0.9083 - val_loss: 0.3245 - val_accuracy: 1.0000\n",
            "Epoch 68/1000000\n",
            "12/12 [==============================] - 0s 12ms/step - loss: 0.3058 - accuracy: 0.9417 - val_loss: 0.3436 - val_accuracy: 0.9333\n",
            "Epoch 69/1000000\n",
            "12/12 [==============================] - 0s 9ms/step - loss: 0.3058 - accuracy: 0.9333 - val_loss: 0.3378 - val_accuracy: 0.9333\n",
            "Epoch 70/1000000\n",
            "12/12 [==============================] - 0s 12ms/step - loss: 0.3017 - accuracy: 0.9167 - val_loss: 0.3202 - val_accuracy: 1.0000\n",
            "Epoch 71/1000000\n",
            "12/12 [==============================] - 0s 14ms/step - loss: 0.2945 - accuracy: 0.9333 - val_loss: 0.3172 - val_accuracy: 1.0000\n",
            "Epoch 72/1000000\n",
            "12/12 [==============================] - 0s 10ms/step - loss: 0.2919 - accuracy: 0.9417 - val_loss: 0.3282 - val_accuracy: 0.9333\n",
            "Epoch 73/1000000\n",
            "12/12 [==============================] - 0s 10ms/step - loss: 0.2871 - accuracy: 0.9083 - val_loss: 0.2996 - val_accuracy: 1.0000\n",
            "Epoch 74/1000000\n",
            "12/12 [==============================] - 0s 8ms/step - loss: 0.2878 - accuracy: 0.9333 - val_loss: 0.3068 - val_accuracy: 1.0000\n",
            "Epoch 75/1000000\n",
            "12/12 [==============================] - 0s 15ms/step - loss: 0.2811 - accuracy: 0.9333 - val_loss: 0.2887 - val_accuracy: 1.0000\n",
            "Epoch 76/1000000\n",
            "12/12 [==============================] - 0s 13ms/step - loss: 0.2786 - accuracy: 0.9417 - val_loss: 0.2981 - val_accuracy: 1.0000\n",
            "Epoch 77/1000000\n",
            "12/12 [==============================] - 0s 12ms/step - loss: 0.2745 - accuracy: 0.9333 - val_loss: 0.3078 - val_accuracy: 0.9333\n",
            "Epoch 78/1000000\n",
            "12/12 [==============================] - 0s 12ms/step - loss: 0.2719 - accuracy: 0.9333 - val_loss: 0.2910 - val_accuracy: 1.0000\n",
            "Epoch 79/1000000\n",
            "12/12 [==============================] - 0s 17ms/step - loss: 0.2671 - accuracy: 0.9250 - val_loss: 0.2698 - val_accuracy: 1.0000\n",
            "Epoch 80/1000000\n",
            "12/12 [==============================] - 0s 9ms/step - loss: 0.2656 - accuracy: 0.9333 - val_loss: 0.2892 - val_accuracy: 0.9667\n",
            "Epoch 81/1000000\n",
            "12/12 [==============================] - 0s 14ms/step - loss: 0.2608 - accuracy: 0.9250 - val_loss: 0.2822 - val_accuracy: 1.0000\n",
            "Epoch 82/1000000\n",
            "12/12 [==============================] - 0s 16ms/step - loss: 0.2569 - accuracy: 0.9250 - val_loss: 0.2724 - val_accuracy: 1.0000\n",
            "Epoch 83/1000000\n",
            "12/12 [==============================] - 0s 12ms/step - loss: 0.2553 - accuracy: 0.9333 - val_loss: 0.2519 - val_accuracy: 1.0000\n",
            "Epoch 84/1000000\n",
            "12/12 [==============================] - 0s 8ms/step - loss: 0.2545 - accuracy: 0.9250 - val_loss: 0.2494 - val_accuracy: 1.0000\n",
            "Epoch 85/1000000\n",
            "12/12 [==============================] - 0s 9ms/step - loss: 0.2490 - accuracy: 0.9500 - val_loss: 0.2686 - val_accuracy: 1.0000\n",
            "Epoch 86/1000000\n",
            "12/12 [==============================] - 0s 10ms/step - loss: 0.2490 - accuracy: 0.9250 - val_loss: 0.2580 - val_accuracy: 1.0000\n",
            "Epoch 87/1000000\n",
            "12/12 [==============================] - 0s 7ms/step - loss: 0.2429 - accuracy: 0.9333 - val_loss: 0.2387 - val_accuracy: 1.0000\n",
            "Epoch 88/1000000\n",
            "12/12 [==============================] - 0s 11ms/step - loss: 0.2429 - accuracy: 0.9417 - val_loss: 0.2473 - val_accuracy: 1.0000\n",
            "Epoch 89/1000000\n",
            "12/12 [==============================] - 0s 8ms/step - loss: 0.2368 - accuracy: 0.9333 - val_loss: 0.2254 - val_accuracy: 1.0000\n",
            "Epoch 90/1000000\n",
            "12/12 [==============================] - 0s 10ms/step - loss: 0.2386 - accuracy: 0.9500 - val_loss: 0.2401 - val_accuracy: 1.0000\n",
            "Epoch 91/1000000\n",
            "12/12 [==============================] - 0s 8ms/step - loss: 0.2352 - accuracy: 0.9333 - val_loss: 0.2456 - val_accuracy: 1.0000\n",
            "Epoch 92/1000000\n",
            "12/12 [==============================] - 0s 8ms/step - loss: 0.2298 - accuracy: 0.9417 - val_loss: 0.2381 - val_accuracy: 1.0000\n",
            "Epoch 93/1000000\n",
            "12/12 [==============================] - 0s 12ms/step - loss: 0.2285 - accuracy: 0.9417 - val_loss: 0.2509 - val_accuracy: 0.9667\n",
            "Epoch 94/1000000\n",
            "12/12 [==============================] - 0s 9ms/step - loss: 0.2253 - accuracy: 0.9417 - val_loss: 0.2261 - val_accuracy: 1.0000\n",
            "Epoch 95/1000000\n",
            "12/12 [==============================] - 0s 10ms/step - loss: 0.2237 - accuracy: 0.9417 - val_loss: 0.2124 - val_accuracy: 1.0000\n",
            "Epoch 96/1000000\n",
            "12/12 [==============================] - 0s 10ms/step - loss: 0.2247 - accuracy: 0.9417 - val_loss: 0.2237 - val_accuracy: 1.0000\n",
            "Epoch 97/1000000\n",
            "12/12 [==============================] - 0s 9ms/step - loss: 0.2219 - accuracy: 0.9333 - val_loss: 0.2113 - val_accuracy: 1.0000\n",
            "Epoch 98/1000000\n",
            "12/12 [==============================] - 0s 11ms/step - loss: 0.2168 - accuracy: 0.9500 - val_loss: 0.2141 - val_accuracy: 1.0000\n",
            "Epoch 99/1000000\n",
            "12/12 [==============================] - 0s 10ms/step - loss: 0.2167 - accuracy: 0.9500 - val_loss: 0.2185 - val_accuracy: 1.0000\n",
            "Epoch 100/1000000\n",
            "12/12 [==============================] - 0s 9ms/step - loss: 0.2117 - accuracy: 0.9583 - val_loss: 0.2412 - val_accuracy: 0.9667\n",
            "Epoch 101/1000000\n",
            "12/12 [==============================] - 0s 11ms/step - loss: 0.2110 - accuracy: 0.9500 - val_loss: 0.2078 - val_accuracy: 1.0000\n",
            "Epoch 102/1000000\n",
            "12/12 [==============================] - 0s 12ms/step - loss: 0.2092 - accuracy: 0.9417 - val_loss: 0.2335 - val_accuracy: 0.9667\n",
            "Epoch 103/1000000\n",
            "12/12 [==============================] - 0s 8ms/step - loss: 0.2061 - accuracy: 0.9500 - val_loss: 0.2175 - val_accuracy: 1.0000\n",
            "Epoch 104/1000000\n",
            "12/12 [==============================] - 0s 8ms/step - loss: 0.2047 - accuracy: 0.9500 - val_loss: 0.1883 - val_accuracy: 1.0000\n",
            "Epoch 105/1000000\n",
            "12/12 [==============================] - 0s 12ms/step - loss: 0.2028 - accuracy: 0.9500 - val_loss: 0.2027 - val_accuracy: 1.0000\n",
            "Epoch 106/1000000\n",
            "12/12 [==============================] - 0s 10ms/step - loss: 0.2014 - accuracy: 0.9500 - val_loss: 0.2077 - val_accuracy: 1.0000\n",
            "Epoch 107/1000000\n",
            "12/12 [==============================] - 0s 19ms/step - loss: 0.2043 - accuracy: 0.9500 - val_loss: 0.1979 - val_accuracy: 1.0000\n",
            "Epoch 108/1000000\n",
            "12/12 [==============================] - 0s 14ms/step - loss: 0.1992 - accuracy: 0.9500 - val_loss: 0.1905 - val_accuracy: 1.0000\n",
            "Epoch 109/1000000\n",
            "12/12 [==============================] - 0s 11ms/step - loss: 0.1955 - accuracy: 0.9500 - val_loss: 0.1880 - val_accuracy: 1.0000\n",
            "Epoch 110/1000000\n",
            "12/12 [==============================] - 0s 8ms/step - loss: 0.1919 - accuracy: 0.9500 - val_loss: 0.1914 - val_accuracy: 1.0000\n",
            "Epoch 111/1000000\n",
            "12/12 [==============================] - 0s 11ms/step - loss: 0.1947 - accuracy: 0.9417 - val_loss: 0.1886 - val_accuracy: 1.0000\n",
            "Epoch 112/1000000\n",
            "12/12 [==============================] - 0s 8ms/step - loss: 0.1933 - accuracy: 0.9500 - val_loss: 0.1913 - val_accuracy: 1.0000\n",
            "Epoch 113/1000000\n",
            "12/12 [==============================] - 0s 8ms/step - loss: 0.1885 - accuracy: 0.9500 - val_loss: 0.2006 - val_accuracy: 0.9667\n",
            "Epoch 114/1000000\n",
            "12/12 [==============================] - 0s 7ms/step - loss: 0.1880 - accuracy: 0.9583 - val_loss: 0.2045 - val_accuracy: 0.9667\n",
            "Epoch 115/1000000\n",
            "12/12 [==============================] - 0s 9ms/step - loss: 0.1867 - accuracy: 0.9417 - val_loss: 0.1752 - val_accuracy: 1.0000\n",
            "Epoch 116/1000000\n",
            "12/12 [==============================] - 0s 7ms/step - loss: 0.1843 - accuracy: 0.9500 - val_loss: 0.1758 - val_accuracy: 1.0000\n",
            "Epoch 117/1000000\n",
            "12/12 [==============================] - 0s 7ms/step - loss: 0.1846 - accuracy: 0.9500 - val_loss: 0.1830 - val_accuracy: 1.0000\n",
            "Epoch 118/1000000\n",
            "12/12 [==============================] - 0s 8ms/step - loss: 0.1804 - accuracy: 0.9500 - val_loss: 0.1737 - val_accuracy: 1.0000\n",
            "Epoch 119/1000000\n",
            "12/12 [==============================] - 0s 11ms/step - loss: 0.1813 - accuracy: 0.9583 - val_loss: 0.1793 - val_accuracy: 1.0000\n",
            "Epoch 120/1000000\n",
            "12/12 [==============================] - 0s 8ms/step - loss: 0.1776 - accuracy: 0.9500 - val_loss: 0.1779 - val_accuracy: 1.0000\n",
            "Epoch 121/1000000\n",
            "12/12 [==============================] - 0s 7ms/step - loss: 0.1786 - accuracy: 0.9500 - val_loss: 0.1736 - val_accuracy: 1.0000\n",
            "Epoch 122/1000000\n",
            "12/12 [==============================] - 0s 8ms/step - loss: 0.1764 - accuracy: 0.9500 - val_loss: 0.1825 - val_accuracy: 0.9667\n",
            "Epoch 123/1000000\n",
            "12/12 [==============================] - 0s 12ms/step - loss: 0.1742 - accuracy: 0.9500 - val_loss: 0.1757 - val_accuracy: 1.0000\n",
            "Epoch 124/1000000\n",
            "12/12 [==============================] - 0s 6ms/step - loss: 0.1731 - accuracy: 0.9500 - val_loss: 0.1619 - val_accuracy: 1.0000\n",
            "Epoch 125/1000000\n",
            "12/12 [==============================] - 0s 13ms/step - loss: 0.1759 - accuracy: 0.9500 - val_loss: 0.1626 - val_accuracy: 1.0000\n",
            "Epoch 126/1000000\n",
            "12/12 [==============================] - 0s 7ms/step - loss: 0.1705 - accuracy: 0.9583 - val_loss: 0.1710 - val_accuracy: 1.0000\n",
            "Epoch 127/1000000\n",
            "12/12 [==============================] - 0s 8ms/step - loss: 0.1682 - accuracy: 0.9500 - val_loss: 0.1663 - val_accuracy: 1.0000\n",
            "Epoch 128/1000000\n",
            "12/12 [==============================] - 0s 10ms/step - loss: 0.1668 - accuracy: 0.9500 - val_loss: 0.1471 - val_accuracy: 1.0000\n",
            "Epoch 129/1000000\n",
            "12/12 [==============================] - 0s 11ms/step - loss: 0.1689 - accuracy: 0.9583 - val_loss: 0.1611 - val_accuracy: 1.0000\n",
            "Epoch 130/1000000\n",
            "12/12 [==============================] - 0s 12ms/step - loss: 0.1649 - accuracy: 0.9417 - val_loss: 0.1479 - val_accuracy: 1.0000\n",
            "Epoch 131/1000000\n",
            "12/12 [==============================] - 0s 17ms/step - loss: 0.1645 - accuracy: 0.9500 - val_loss: 0.1593 - val_accuracy: 1.0000\n",
            "Epoch 132/1000000\n",
            "12/12 [==============================] - 0s 7ms/step - loss: 0.1630 - accuracy: 0.9500 - val_loss: 0.1627 - val_accuracy: 1.0000\n",
            "Epoch 133/1000000\n",
            "12/12 [==============================] - 0s 8ms/step - loss: 0.1638 - accuracy: 0.9417 - val_loss: 0.1471 - val_accuracy: 1.0000\n",
            "Epoch 134/1000000\n",
            "12/12 [==============================] - 0s 13ms/step - loss: 0.1619 - accuracy: 0.9500 - val_loss: 0.1615 - val_accuracy: 0.9667\n",
            "Epoch 135/1000000\n",
            "12/12 [==============================] - 0s 7ms/step - loss: 0.1590 - accuracy: 0.9333 - val_loss: 0.1308 - val_accuracy: 1.0000\n",
            "Epoch 136/1000000\n",
            "12/12 [==============================] - 0s 13ms/step - loss: 0.1614 - accuracy: 0.9500 - val_loss: 0.1427 - val_accuracy: 1.0000\n",
            "Epoch 137/1000000\n",
            "12/12 [==============================] - 0s 7ms/step - loss: 0.1575 - accuracy: 0.9500 - val_loss: 0.1506 - val_accuracy: 1.0000\n",
            "Epoch 138/1000000\n",
            "12/12 [==============================] - 0s 12ms/step - loss: 0.1561 - accuracy: 0.9417 - val_loss: 0.1346 - val_accuracy: 1.0000\n",
            "Epoch 139/1000000\n",
            "12/12 [==============================] - 0s 10ms/step - loss: 0.1554 - accuracy: 0.9500 - val_loss: 0.1293 - val_accuracy: 1.0000\n",
            "Epoch 140/1000000\n",
            "12/12 [==============================] - 0s 15ms/step - loss: 0.1559 - accuracy: 0.9500 - val_loss: 0.1337 - val_accuracy: 1.0000\n",
            "Epoch 141/1000000\n",
            "12/12 [==============================] - 0s 5ms/step - loss: 0.1555 - accuracy: 0.9417 - val_loss: 0.1388 - val_accuracy: 1.0000\n",
            "Epoch 142/1000000\n",
            "12/12 [==============================] - 0s 4ms/step - loss: 0.1509 - accuracy: 0.9583 - val_loss: 0.1412 - val_accuracy: 1.0000\n",
            "Epoch 143/1000000\n",
            "12/12 [==============================] - 0s 5ms/step - loss: 0.1516 - accuracy: 0.9583 - val_loss: 0.1534 - val_accuracy: 0.9667\n",
            "Epoch 144/1000000\n",
            "12/12 [==============================] - 0s 6ms/step - loss: 0.1494 - accuracy: 0.9417 - val_loss: 0.1264 - val_accuracy: 1.0000\n",
            "Epoch 145/1000000\n",
            "12/12 [==============================] - 0s 5ms/step - loss: 0.1479 - accuracy: 0.9583 - val_loss: 0.1360 - val_accuracy: 1.0000\n",
            "Epoch 146/1000000\n",
            "12/12 [==============================] - 0s 7ms/step - loss: 0.1504 - accuracy: 0.9583 - val_loss: 0.1472 - val_accuracy: 0.9667\n",
            "Epoch 147/1000000\n",
            "12/12 [==============================] - 0s 5ms/step - loss: 0.1465 - accuracy: 0.9417 - val_loss: 0.1115 - val_accuracy: 1.0000\n",
            "Epoch 148/1000000\n",
            "12/12 [==============================] - 0s 6ms/step - loss: 0.1473 - accuracy: 0.9500 - val_loss: 0.1262 - val_accuracy: 1.0000\n",
            "Epoch 149/1000000\n",
            "12/12 [==============================] - 0s 5ms/step - loss: 0.1454 - accuracy: 0.9583 - val_loss: 0.1473 - val_accuracy: 0.9667\n",
            "Epoch 150/1000000\n",
            "12/12 [==============================] - 0s 6ms/step - loss: 0.1436 - accuracy: 0.9500 - val_loss: 0.1067 - val_accuracy: 1.0000\n",
            "Epoch 151/1000000\n",
            "12/12 [==============================] - 0s 6ms/step - loss: 0.1449 - accuracy: 0.9500 - val_loss: 0.1106 - val_accuracy: 1.0000\n",
            "Epoch 152/1000000\n",
            "12/12 [==============================] - 0s 6ms/step - loss: 0.1442 - accuracy: 0.9750 - val_loss: 0.1413 - val_accuracy: 0.9667\n",
            "Epoch 153/1000000\n",
            "12/12 [==============================] - 0s 4ms/step - loss: 0.1430 - accuracy: 0.9500 - val_loss: 0.1269 - val_accuracy: 1.0000\n",
            "Epoch 154/1000000\n",
            "12/12 [==============================] - 0s 6ms/step - loss: 0.1429 - accuracy: 0.9500 - val_loss: 0.1298 - val_accuracy: 1.0000\n",
            "Epoch 155/1000000\n",
            "12/12 [==============================] - 0s 6ms/step - loss: 0.1402 - accuracy: 0.9500 - val_loss: 0.1269 - val_accuracy: 1.0000\n",
            "Epoch 156/1000000\n",
            "12/12 [==============================] - 0s 6ms/step - loss: 0.1411 - accuracy: 0.9333 - val_loss: 0.1080 - val_accuracy: 1.0000\n",
            "Epoch 157/1000000\n",
            "12/12 [==============================] - 0s 5ms/step - loss: 0.1392 - accuracy: 0.9583 - val_loss: 0.1015 - val_accuracy: 1.0000\n",
            "Epoch 158/1000000\n",
            "12/12 [==============================] - 0s 5ms/step - loss: 0.1400 - accuracy: 0.9583 - val_loss: 0.1306 - val_accuracy: 1.0000\n",
            "Epoch 159/1000000\n",
            "12/12 [==============================] - 0s 5ms/step - loss: 0.1366 - accuracy: 0.9583 - val_loss: 0.1393 - val_accuracy: 0.9667\n",
            "Epoch 160/1000000\n",
            "12/12 [==============================] - 0s 5ms/step - loss: 0.1389 - accuracy: 0.9500 - val_loss: 0.1221 - val_accuracy: 1.0000\n",
            "Epoch 161/1000000\n",
            "12/12 [==============================] - 0s 7ms/step - loss: 0.1354 - accuracy: 0.9333 - val_loss: 0.1051 - val_accuracy: 1.0000\n",
            "Epoch 162/1000000\n",
            "12/12 [==============================] - 0s 6ms/step - loss: 0.1354 - accuracy: 0.9500 - val_loss: 0.1091 - val_accuracy: 1.0000\n",
            "Epoch 163/1000000\n",
            "12/12 [==============================] - 0s 7ms/step - loss: 0.1372 - accuracy: 0.9417 - val_loss: 0.1204 - val_accuracy: 1.0000\n",
            "Epoch 164/1000000\n",
            "12/12 [==============================] - 0s 5ms/step - loss: 0.1325 - accuracy: 0.9500 - val_loss: 0.0989 - val_accuracy: 1.0000\n",
            "Epoch 165/1000000\n",
            "12/12 [==============================] - 0s 6ms/step - loss: 0.1362 - accuracy: 0.9500 - val_loss: 0.1098 - val_accuracy: 1.0000\n",
            "Epoch 166/1000000\n",
            "12/12 [==============================] - 0s 4ms/step - loss: 0.1336 - accuracy: 0.9500 - val_loss: 0.1033 - val_accuracy: 1.0000\n",
            "Epoch 167/1000000\n",
            "12/12 [==============================] - 0s 4ms/step - loss: 0.1327 - accuracy: 0.9417 - val_loss: 0.1029 - val_accuracy: 1.0000\n",
            "Epoch 168/1000000\n",
            "12/12 [==============================] - 0s 5ms/step - loss: 0.1316 - accuracy: 0.9500 - val_loss: 0.0975 - val_accuracy: 1.0000\n",
            "Epoch 169/1000000\n",
            "12/12 [==============================] - 0s 6ms/step - loss: 0.1334 - accuracy: 0.9583 - val_loss: 0.1057 - val_accuracy: 1.0000\n",
            "Epoch 170/1000000\n",
            "12/12 [==============================] - 0s 5ms/step - loss: 0.1342 - accuracy: 0.9667 - val_loss: 0.1061 - val_accuracy: 1.0000\n",
            "Epoch 171/1000000\n",
            "12/12 [==============================] - 0s 5ms/step - loss: 0.1301 - accuracy: 0.9417 - val_loss: 0.0959 - val_accuracy: 1.0000\n",
            "Epoch 172/1000000\n",
            "12/12 [==============================] - 0s 5ms/step - loss: 0.1299 - accuracy: 0.9583 - val_loss: 0.1162 - val_accuracy: 1.0000\n",
            "Epoch 173/1000000\n",
            "12/12 [==============================] - 0s 4ms/step - loss: 0.1273 - accuracy: 0.9333 - val_loss: 0.0953 - val_accuracy: 1.0000\n",
            "Epoch 174/1000000\n",
            "12/12 [==============================] - 0s 6ms/step - loss: 0.1284 - accuracy: 0.9500 - val_loss: 0.1030 - val_accuracy: 1.0000\n",
            "Epoch 175/1000000\n",
            "12/12 [==============================] - 0s 7ms/step - loss: 0.1280 - accuracy: 0.9500 - val_loss: 0.0858 - val_accuracy: 1.0000\n",
            "Epoch 176/1000000\n",
            "12/12 [==============================] - 0s 6ms/step - loss: 0.1303 - accuracy: 0.9583 - val_loss: 0.0955 - val_accuracy: 1.0000\n",
            "Epoch 177/1000000\n",
            "12/12 [==============================] - 0s 5ms/step - loss: 0.1280 - accuracy: 0.9500 - val_loss: 0.0960 - val_accuracy: 1.0000\n",
            "Epoch 178/1000000\n",
            "12/12 [==============================] - 0s 6ms/step - loss: 0.1261 - accuracy: 0.9583 - val_loss: 0.1046 - val_accuracy: 1.0000\n",
            "Epoch 179/1000000\n",
            "12/12 [==============================] - 0s 5ms/step - loss: 0.1249 - accuracy: 0.9500 - val_loss: 0.1091 - val_accuracy: 1.0000\n",
            "Epoch 180/1000000\n",
            "12/12 [==============================] - 0s 6ms/step - loss: 0.1252 - accuracy: 0.9500 - val_loss: 0.0833 - val_accuracy: 1.0000\n",
            "Epoch 181/1000000\n",
            "12/12 [==============================] - 0s 6ms/step - loss: 0.1267 - accuracy: 0.9500 - val_loss: 0.0932 - val_accuracy: 1.0000\n",
            "Epoch 182/1000000\n",
            "12/12 [==============================] - 0s 5ms/step - loss: 0.1229 - accuracy: 0.9583 - val_loss: 0.1039 - val_accuracy: 1.0000\n",
            "Epoch 183/1000000\n",
            "12/12 [==============================] - 0s 6ms/step - loss: 0.1240 - accuracy: 0.9500 - val_loss: 0.0823 - val_accuracy: 1.0000\n",
            "Epoch 184/1000000\n",
            "12/12 [==============================] - 0s 5ms/step - loss: 0.1239 - accuracy: 0.9500 - val_loss: 0.0884 - val_accuracy: 1.0000\n",
            "Epoch 185/1000000\n",
            "12/12 [==============================] - 0s 5ms/step - loss: 0.1214 - accuracy: 0.9667 - val_loss: 0.1109 - val_accuracy: 1.0000\n",
            "Epoch 186/1000000\n",
            "12/12 [==============================] - 0s 4ms/step - loss: 0.1229 - accuracy: 0.9500 - val_loss: 0.0949 - val_accuracy: 1.0000\n",
            "Epoch 187/1000000\n",
            "12/12 [==============================] - 0s 4ms/step - loss: 0.1229 - accuracy: 0.9583 - val_loss: 0.1127 - val_accuracy: 0.9667\n",
            "Epoch 188/1000000\n",
            "12/12 [==============================] - 0s 5ms/step - loss: 0.1232 - accuracy: 0.9500 - val_loss: 0.1037 - val_accuracy: 1.0000\n",
            "Epoch 189/1000000\n",
            "12/12 [==============================] - 0s 6ms/step - loss: 0.1202 - accuracy: 0.9500 - val_loss: 0.0918 - val_accuracy: 1.0000\n",
            "Epoch 190/1000000\n",
            "12/12 [==============================] - 0s 6ms/step - loss: 0.1186 - accuracy: 0.9667 - val_loss: 0.1106 - val_accuracy: 0.9667\n",
            "Epoch 191/1000000\n",
            "12/12 [==============================] - 0s 5ms/step - loss: 0.1217 - accuracy: 0.9417 - val_loss: 0.0914 - val_accuracy: 1.0000\n",
            "Epoch 192/1000000\n",
            "12/12 [==============================] - 0s 4ms/step - loss: 0.1201 - accuracy: 0.9667 - val_loss: 0.1062 - val_accuracy: 1.0000\n",
            "Epoch 193/1000000\n",
            "12/12 [==============================] - 0s 5ms/step - loss: 0.1210 - accuracy: 0.9583 - val_loss: 0.1018 - val_accuracy: 1.0000\n"
          ]
        }
      ]
    },
    {
      "cell_type": "markdown",
      "metadata": {
        "id": "nTgedaLnrXad"
      },
      "source": [
        "## Evaluate The Model"
      ]
    },
    {
      "cell_type": "code",
      "metadata": {
        "id": "WSKqQ_2AraGK",
        "colab": {
          "base_uri": "https://localhost:8080/",
          "height": 295
        },
        "outputId": "97646506-2cc2-463f-96f6-3c1b2372ade9"
      },
      "source": [
        "# learning curve\n",
        "import matplotlib.pyplot as plt\n",
        "\n",
        "# accuracy\n",
        "acc = history.history['accuracy']\n",
        "val_acc = history.history['val_accuracy']\n",
        "\n",
        "# loss\n",
        "loss = history.history['loss']\n",
        "val_loss = history.history['val_loss']\n",
        "\n",
        "epochs = range(1, len(acc) + 1)\n",
        "\n",
        "# \"r\" is for \"solid red line\"\n",
        "plt.plot(epochs, acc, 'r', label='Training accuracy')\n",
        "# b is for \"solid blue line\"\n",
        "plt.plot(epochs, val_acc, 'b', label='Validation accuracy')\n",
        "plt.title('Training and validation accuracy')\n",
        "plt.xlabel('Epochs')\n",
        "plt.ylabel('Accuracy')\n",
        "plt.legend()\n",
        "\n",
        "plt.show()"
      ],
      "execution_count": null,
      "outputs": [
        {
          "output_type": "display_data",
          "data": {
            "text/plain": [
              "<Figure size 432x288 with 1 Axes>"
            ],
            "image/png": "[encoded data removed]"
          },
          "metadata": {
            "needs_background": "light"
          }
        }
      ]
    },
    {
      "cell_type": "code",
      "source": [
        "# learning curve\n",
        "import matplotlib.pyplot as plt\n",
        "\n",
        "# loss\n",
        "loss = history.history['loss']\n",
        "val_loss = history.history['val_loss']\n",
        "\n",
        "epochs = range(1, len(acc) + 1)\n",
        "\n",
        "# \"r\" is for \"solid red line\"\n",
        "plt.plot(epochs, loss, 'r', label='Training loss')\n",
        "# b is for \"solid blue line\"\n",
        "plt.plot(epochs, val_loss, 'b', label='Validation loss')\n",
        "plt.title('Training and validation loss')\n",
        "plt.xlabel('Epochs')\n",
        "plt.ylabel('Loss')\n",
        "plt.legend()\n",
        "\n",
        "plt.show()"
      ],
      "metadata": {
        "colab": {
          "base_uri": "https://localhost:8080/",
          "height": 295
        },
        "id": "Py33oAOaQqoI",
        "outputId": "3fe8c1db-f26a-497d-d79f-43c3884b01c7"
      },
      "execution_count": null,
      "outputs": [
        {
          "output_type": "display_data",
          "data": {
            "text/plain": [
              "<Figure size 432x288 with 1 Axes>"
            ],
            "image/png": "[encoded data removed]"
          },
          "metadata": {
            "needs_background": "light"
          }
        }
      ]
    },
    {
      "cell_type": "code",
      "metadata": {
        "id": "Jl-LMG9Irmf9",
        "colab": {
          "base_uri": "https://localhost:8080/"
        },
        "outputId": "27d2b9b8-c5f1-4753-b707-2d330f850d6e"
      },
      "source": [
        "from sklearn.metrics import confusion_matrix\n",
        "from sklearn.metrics import classification_report\n",
        "\n",
        "# see how the model did!\n",
        "preds = model.predict(X)\n",
        "print(preds.shape)\n",
        "\n",
        "# i'm spreading that prediction across three nodes and they sum to 1\n",
        "print(preds[0])\n",
        "\n",
        "# sum it up! see how probability mass (1) is spread over three preds?\n",
        "np.sum(preds[0])\n"
      ],
      "execution_count": null,
      "outputs": [
        {
          "output_type": "stream",
          "name": "stdout",
          "text": [
            "(150, 3)\n",
            "[9.9960560e-01 3.9446677e-04 1.9940734e-09]\n"
          ]
        },
        {
          "output_type": "execute_result",
          "data": {
            "text/plain": [
              "1.0000001"
            ]
          },
          "metadata": {},
          "execution_count": 25
        }
      ]
    },
    {
      "cell_type": "code",
      "source": [
        "# here is dummy_y\n",
        "dummy_y"
      ],
      "metadata": {
        "colab": {
          "base_uri": "https://localhost:8080/"
        },
        "id": "KfuZZs9URWFD",
        "outputId": "e6a3c433-1934-4c44-e6fb-43182ee82fd0"
      },
      "execution_count": null,
      "outputs": [
        {
          "output_type": "execute_result",
          "data": {
            "text/plain": [
              "array([[1., 0., 0.],\n",
              "       [0., 1., 0.],\n",
              "       [1., 0., 0.],\n",
              "       [0., 1., 0.],\n",
              "       [0., 0., 1.],\n",
              "       [0., 1., 0.],\n",
              "       [0., 1., 0.],\n",
              "       [1., 0., 0.],\n",
              "       [1., 0., 0.],\n",
              "       [0., 0., 1.],\n",
              "       [0., 1., 0.],\n",
              "       [0., 0., 1.],\n",
              "       [1., 0., 0.],\n",
              "       [1., 0., 0.],\n",
              "       [1., 0., 0.],\n",
              "       [1., 0., 0.],\n",
              "       [1., 0., 0.],\n",
              "       [0., 1., 0.],\n",
              "       [0., 1., 0.],\n",
              "       [0., 1., 0.],\n",
              "       [0., 1., 0.],\n",
              "       [0., 0., 1.],\n",
              "       [1., 0., 0.],\n",
              "       [0., 1., 0.],\n",
              "       [1., 0., 0.],\n",
              "       [1., 0., 0.],\n",
              "       [0., 1., 0.],\n",
              "       [1., 0., 0.],\n",
              "       [0., 0., 1.],\n",
              "       [0., 0., 1.],\n",
              "       [1., 0., 0.],\n",
              "       [0., 1., 0.],\n",
              "       [0., 0., 1.],\n",
              "       [1., 0., 0.],\n",
              "       [0., 0., 1.],\n",
              "       [1., 0., 0.],\n",
              "       [0., 1., 0.],\n",
              "       [0., 0., 1.],\n",
              "       [1., 0., 0.],\n",
              "       [1., 0., 0.],\n",
              "       [1., 0., 0.],\n",
              "       [0., 0., 1.],\n",
              "       [1., 0., 0.],\n",
              "       [1., 0., 0.],\n",
              "       [1., 0., 0.],\n",
              "       [0., 1., 0.],\n",
              "       [0., 1., 0.],\n",
              "       [0., 1., 0.],\n",
              "       [0., 0., 1.],\n",
              "       [0., 1., 0.],\n",
              "       [0., 1., 0.],\n",
              "       [0., 1., 0.],\n",
              "       [0., 1., 0.],\n",
              "       [1., 0., 0.],\n",
              "       [1., 0., 0.],\n",
              "       [0., 0., 1.],\n",
              "       [0., 0., 1.],\n",
              "       [0., 0., 1.],\n",
              "       [0., 1., 0.],\n",
              "       [1., 0., 0.],\n",
              "       [0., 1., 0.],\n",
              "       [1., 0., 0.],\n",
              "       [0., 1., 0.],\n",
              "       [0., 1., 0.],\n",
              "       [0., 1., 0.],\n",
              "       [0., 0., 1.],\n",
              "       [1., 0., 0.],\n",
              "       [0., 1., 0.],\n",
              "       [0., 1., 0.],\n",
              "       [1., 0., 0.],\n",
              "       [0., 1., 0.],\n",
              "       [1., 0., 0.],\n",
              "       [0., 1., 0.],\n",
              "       [0., 0., 1.],\n",
              "       [0., 1., 0.],\n",
              "       [0., 0., 1.],\n",
              "       [0., 0., 1.],\n",
              "       [0., 1., 0.],\n",
              "       [1., 0., 0.],\n",
              "       [0., 0., 1.],\n",
              "       [0., 0., 1.],\n",
              "       [0., 0., 1.],\n",
              "       [0., 1., 0.],\n",
              "       [1., 0., 0.],\n",
              "       [1., 0., 0.],\n",
              "       [0., 0., 1.],\n",
              "       [1., 0., 0.],\n",
              "       [0., 0., 1.],\n",
              "       [0., 0., 1.],\n",
              "       [0., 1., 0.],\n",
              "       [0., 0., 1.],\n",
              "       [0., 0., 1.],\n",
              "       [0., 1., 0.],\n",
              "       [0., 0., 1.],\n",
              "       [0., 0., 1.],\n",
              "       [0., 0., 1.],\n",
              "       [1., 0., 0.],\n",
              "       [0., 0., 1.],\n",
              "       [0., 1., 0.],\n",
              "       [1., 0., 0.],\n",
              "       [0., 1., 0.],\n",
              "       [1., 0., 0.],\n",
              "       [0., 1., 0.],\n",
              "       [0., 1., 0.],\n",
              "       [1., 0., 0.],\n",
              "       [0., 1., 0.],\n",
              "       [0., 0., 1.],\n",
              "       [0., 1., 0.],\n",
              "       [1., 0., 0.],\n",
              "       [0., 0., 1.],\n",
              "       [1., 0., 0.],\n",
              "       [1., 0., 0.],\n",
              "       [0., 0., 1.],\n",
              "       [1., 0., 0.],\n",
              "       [0., 1., 0.],\n",
              "       [1., 0., 0.],\n",
              "       [0., 1., 0.],\n",
              "       [0., 0., 1.],\n",
              "       [0., 0., 1.],\n",
              "       [0., 0., 1.],\n",
              "       [1., 0., 0.],\n",
              "       [0., 0., 1.],\n",
              "       [0., 1., 0.],\n",
              "       [0., 0., 1.],\n",
              "       [0., 1., 0.],\n",
              "       [0., 0., 1.],\n",
              "       [0., 0., 1.],\n",
              "       [0., 1., 0.],\n",
              "       [1., 0., 0.],\n",
              "       [1., 0., 0.],\n",
              "       [0., 0., 1.],\n",
              "       [0., 1., 0.],\n",
              "       [0., 0., 1.],\n",
              "       [0., 1., 0.],\n",
              "       [0., 0., 1.],\n",
              "       [0., 0., 1.],\n",
              "       [0., 1., 0.],\n",
              "       [0., 1., 0.],\n",
              "       [1., 0., 0.],\n",
              "       [0., 0., 1.],\n",
              "       [0., 0., 1.],\n",
              "       [0., 0., 1.],\n",
              "       [1., 0., 0.],\n",
              "       [0., 0., 1.],\n",
              "       [1., 0., 0.],\n",
              "       [1., 0., 0.],\n",
              "       [0., 1., 0.],\n",
              "       [0., 0., 1.],\n",
              "       [0., 0., 1.],\n",
              "       [1., 0., 0.]], dtype=float32)"
            ]
          },
          "metadata": {},
          "execution_count": 28
        }
      ]
    },
    {
      "cell_type": "code",
      "source": [
        "# here is what argmax does\n",
        "dummy_y.argmax(axis=1)"
      ],
      "metadata": {
        "colab": {
          "base_uri": "https://localhost:8080/"
        },
        "id": "aEuBSuRIRN8r",
        "outputId": "1b448192-c806-4311-eec0-dad914e641e1"
      },
      "execution_count": null,
      "outputs": [
        {
          "output_type": "execute_result",
          "data": {
            "text/plain": [
              "array([0, 1, 0, 1, 2, 1, 1, 0, 0, 2, 1, 2, 0, 0, 0, 0, 0, 1, 1, 1, 1, 2,\n",
              "       0, 1, 0, 0, 1, 0, 2, 2, 0, 1, 2, 0, 2, 0, 1, 2, 0, 0, 0, 2, 0, 0,\n",
              "       0, 1, 1, 1, 2, 1, 1, 1, 1, 0, 0, 2, 2, 2, 1, 0, 1, 0, 1, 1, 1, 2,\n",
              "       0, 1, 1, 0, 1, 0, 1, 2, 1, 2, 2, 1, 0, 2, 2, 2, 1, 0, 0, 2, 0, 2,\n",
              "       2, 1, 2, 2, 1, 2, 2, 2, 0, 2, 1, 0, 1, 0, 1, 1, 0, 1, 2, 1, 0, 2,\n",
              "       0, 0, 2, 0, 1, 0, 1, 2, 2, 2, 0, 2, 1, 2, 1, 2, 2, 1, 0, 0, 2, 1,\n",
              "       2, 1, 2, 2, 1, 1, 0, 2, 2, 2, 0, 2, 0, 0, 1, 2, 2, 0])"
            ]
          },
          "metadata": {},
          "execution_count": 26
        }
      ]
    },
    {
      "cell_type": "code",
      "source": [
        "preds"
      ],
      "metadata": {
        "id": "JNMpGytZRjim"
      },
      "execution_count": null,
      "outputs": []
    },
    {
      "cell_type": "code",
      "source": [
        "preds.argmax(axis=1)"
      ],
      "metadata": {
        "id": "vFv2FDCmRS0b"
      },
      "execution_count": null,
      "outputs": []
    },
    {
      "cell_type": "code",
      "metadata": {
        "id": "lE4cDc79syFl",
        "colab": {
          "base_uri": "https://localhost:8080/"
        },
        "outputId": "93c1d9c8-0b6f-4624-e370-c5da9b34c34f"
      },
      "source": [
        "# here it is! almost a perfect prediction\n",
        "# actual is left, predicted is top\n",
        "# names can be found by inspecting Y\n",
        "matrix = confusion_matrix(dummy_y.argmax(axis=1), preds.argmax(axis=1))\n",
        "matrix"
      ],
      "execution_count": null,
      "outputs": [
        {
          "output_type": "execute_result",
          "data": {
            "text/plain": [
              "array([[50,  0,  0],\n",
              "       [ 0, 47,  3],\n",
              "       [ 0,  0, 50]])"
            ]
          },
          "metadata": {},
          "execution_count": 30
        }
      ]
    },
    {
      "cell_type": "code",
      "metadata": {
        "id": "R2we6Zkisru8",
        "colab": {
          "base_uri": "https://localhost:8080/"
        },
        "outputId": "a0795cee-641e-4772-c065-7c91f39bde1e"
      },
      "source": [
        "# more detail on how well things were predicted\n",
        "print(classification_report(dummy_y.argmax(axis=1), preds.argmax(axis=1)))"
      ],
      "execution_count": null,
      "outputs": [
        {
          "output_type": "stream",
          "name": "stdout",
          "text": [
            "              precision    recall  f1-score   support\n",
            "\n",
            "           0       1.00      1.00      1.00        50\n",
            "           1       1.00      0.94      0.97        50\n",
            "           2       0.94      1.00      0.97        50\n",
            "\n",
            "    accuracy                           0.98       150\n",
            "   macro avg       0.98      0.98      0.98       150\n",
            "weighted avg       0.98      0.98      0.98       150\n",
            "\n"
          ]
        }
      ]
    },
    {
      "cell_type": "markdown",
      "source": [
        "# On Your Own\n",
        "Like I say at the end of the video - your job as a data scientist is to help people believe in your model. You need to make sure folks don't doubt your work!\n",
        "\n",
        "You should update this script to have a train_test_split where 30% of the data is used for testing. Don't forget to use a random seed.\n",
        "\n",
        "Then, train your model on X_train and y_train with a val_split equal to 0.2 and shuffle = True. When you do this, a chunk of the training partition is being used as a feedback signal to ensure your model isn't overfitting and generalizes to unseen data.\n",
        "\n",
        "As a further quality check, you then APPLY this fitted model to the test data via `model.predict(X_test)` and check to see that you get the same error metrics. This is the way to do it for any type of DL project!"
      ],
      "metadata": {
        "id": "LpzD6S8JScAP"
      }
    },
    {
      "cell_type": "markdown",
      "source": [
        "# Other key take-aways\n",
        "* Note that you had to use a LabelEncoder() here and that it sorted the categories in alphabetical order and then encoded them inplace with 0, 1, 2\n",
        "* You had to make dummy variables for Y (and you didn't need to do this for binary classification problems - this is because in binary classification you had 2 categories and one output node with a SIGMOID activation function which made predictions between 0 and 1).\n",
        "* The output node of your neural network had 3 nodes - why? Because you have three types of flowers that you are trying to predict. Note that you are using a softmax instead of a sigmoid activation function.\n",
        "  * You also are using `categorical_crossentropy` to split the predicted probability mass among your N categories."
      ],
      "metadata": {
        "id": "gHAWsqJVTKqk"
      }
    }
  ]
}