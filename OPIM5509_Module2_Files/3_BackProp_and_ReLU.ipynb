{
  "nbformat": 4,
  "nbformat_minor": 0,
  "metadata": {
    "colab": {
      "provenance": [],
      "collapsed_sections": [
        "5XDe-CT55e-p"
      ]
    },
    "kernelspec": {
      "name": "python3",
      "display_name": "Python 3"
    },
    "language_info": {
      "name": "python"
    }
  },
  "cells": [
    {
      "cell_type": "markdown",
      "source": [
        "[![Open In Colab](https://colab.research.google.com/assets/colab-badge.svg)](https://colab.research.google.com/github/drdave-teaching/OPIM5509Files/blob/main/OPIM5509_Module2_Files/3_BackProp_and_ReLU.ipynb)"
      ],
      "metadata": {
        "id": "4iMHaswhuvQc"
      }
    },
    {
      "cell_type": "markdown",
      "metadata": {
        "id": "RqzvlsW5pRxb"
      },
      "source": [
        "#  Learning an entire dataset with forward and backpropagation with nonlinear activation functions\n",
        "-----------------------------------------\n",
        "**Dr. Dave Wanik - University of Connecticut - Department of Operations and Information Management**\n",
        "\n",
        "You almost have everything you need to understand how a neural network fits! Now let's kick it up a notch and see how we can include nonlinearity into the mix via the `relu` activation and learn an entire dataset."
      ]
    },
    {
      "cell_type": "code",
      "metadata": {
        "id": "kEKw6TdNpHb5"
      },
      "source": [
        "# get some important modules\n",
        "import pandas as pd # for data wrangling\n",
        "import numpy as np # for array calculations, some math functions\n",
        "from matplotlib import pyplot as plt #for plotting"
      ],
      "execution_count": null,
      "outputs": []
    },
    {
      "cell_type": "code",
      "metadata": {
        "id": "4RDawx6Lj4Oz"
      },
      "source": [
        "# some modules for neural nets\n",
        "from keras.models import Sequential\n",
        "from keras.layers import Dense"
      ],
      "execution_count": null,
      "outputs": []
    },
    {
      "cell_type": "markdown",
      "metadata": {
        "id": "Wv4he8wCmt2o"
      },
      "source": [
        "# Read and Prepare Data"
      ]
    },
    {
      "cell_type": "markdown",
      "source": [
        "Let's read some nice dummy data for this example. Some basic categorical data for a classification problem."
      ],
      "metadata": {
        "id": "2WHvUwzEHySA"
      }
    },
    {
      "cell_type": "code",
      "source": [
        "# # step 1: copy & paste the shared link you will get from Google Drive\n",
        "# URL = 'https://drive.google.com/file/d/1rVwxy0fd-9aM2Dvw8_42hWoZ7upZE0jt/view?usp=sharing'\n",
        "\n",
        "# # step 2: copy & paste the command below (this part of the command is fixed)\n",
        "# fixed_path = 'https://drive.google.com/uc?export=download&id='\n",
        "\n",
        "# # step 3: Extract the file ID from the URL (this part of the command is fixed)\n",
        "# file_path = URL.split('/')[-2]\n",
        "\n",
        "# # retrieve the CSV data and build a dataframe\n",
        "# df = pd.read_csv(fixed_path + file_path)\n",
        "\n",
        "# # print the shape and dataset info\n",
        "# print(df.shape)\n",
        "# df.info()"
      ],
      "metadata": {
        "colab": {
          "base_uri": "https://localhost:8080/"
        },
        "id": "ILUc2mTRZgJq",
        "outputId": "f5a7f5c2-23e7-40b1-8c8a-20c63441ea44"
      },
      "execution_count": null,
      "outputs": [
        {
          "output_type": "stream",
          "name": "stdout",
          "text": [
            "(14, 5)\n",
            "<class 'pandas.core.frame.DataFrame'>\n",
            "RangeIndex: 14 entries, 0 to 13\n",
            "Data columns (total 5 columns):\n",
            " #   Column    Non-Null Count  Dtype \n",
            "---  ------    --------------  ----- \n",
            " 0   Day       14 non-null     int64 \n",
            " 1   Temp      14 non-null     object\n",
            " 2   Humidity  14 non-null     object\n",
            " 3   Wind      14 non-null     object\n",
            " 4   Play      14 non-null     object\n",
            "dtypes: int64(1), object(4)\n",
            "memory usage: 688.0+ bytes\n"
          ]
        }
      ]
    },
    {
      "cell_type": "code",
      "source": [
        "# Link to the data file on Github\n",
        "url = \"https://raw.githubusercontent.com/drdave-teaching/OPIM5509Files/refs/heads/main/OPIM5509_Module2_Files/Tennis%20Binary%20Classification%20Binary.csv\"\n",
        "\n",
        "# retrieve the CSV data and build a dataframe\n",
        "df = pd.read_csv(url)\n",
        "\n",
        "# print the shape and dataset info\n",
        "print(df.shape)\n",
        "df.info()"
      ],
      "metadata": {
        "colab": {
          "base_uri": "https://localhost:8080/"
        },
        "id": "gs1jeNsjgt3i",
        "outputId": "6fbaa994-a12d-477f-9f17-ac0a912e876a"
      },
      "execution_count": null,
      "outputs": [
        {
          "output_type": "stream",
          "name": "stdout",
          "text": [
            "(14, 5)\n",
            "<class 'pandas.core.frame.DataFrame'>\n",
            "RangeIndex: 14 entries, 0 to 13\n",
            "Data columns (total 5 columns):\n",
            " #   Column    Non-Null Count  Dtype \n",
            "---  ------    --------------  ----- \n",
            " 0   Day       14 non-null     int64 \n",
            " 1   Temp      14 non-null     object\n",
            " 2   Humidity  14 non-null     object\n",
            " 3   Wind      14 non-null     object\n",
            " 4   Play      14 non-null     object\n",
            "dtypes: int64(1), object(4)\n",
            "memory usage: 692.0+ bytes\n"
          ]
        }
      ]
    },
    {
      "cell_type": "markdown",
      "source": [
        "But computers can't 'read' categorical data! We will need to recode to something a computer can understand and perform mathematical operations on.\n",
        "\n",
        "We will create dummy variables of 0s and 1s for the X data and we are predicting if people played golf or not."
      ],
      "metadata": {
        "id": "u88HBrp_60Pu"
      }
    },
    {
      "cell_type": "code",
      "source": [
        "# imagine our data was of this form\n",
        "df.head()"
      ],
      "metadata": {
        "colab": {
          "base_uri": "https://localhost:8080/",
          "height": 206
        },
        "id": "f5LFhB0g6lHE",
        "outputId": "db2434c5-a14d-4053-897f-c459b1c66e1c"
      },
      "execution_count": null,
      "outputs": [
        {
          "output_type": "execute_result",
          "data": {
            "text/plain": [
              "   Day  Temp Humidity    Wind Play\n",
              "0    1   Hot     High    Weak   no\n",
              "1    2   Hot     High  Strong   no\n",
              "2    3   Hot     High    Weak  yes\n",
              "3    4  Cool     High    Weak  yes\n",
              "4    5  Cool   Normal    Weak  yes"
            ],
            "text/html": [
              "\n",
              "  <div id=\"df-1e16b30c-7ed0-4de6-be19-83b0630e130f\" class=\"colab-df-container\">\n",
              "    <div>\n",
              "<style scoped>\n",
              "    .dataframe tbody tr th:only-of-type {\n",
              "        vertical-align: middle;\n",
              "    }\n",
              "\n",
              "    .dataframe tbody tr th {\n",
              "        vertical-align: top;\n",
              "    }\n",
              "\n",
              "    .dataframe thead th {\n",
              "        text-align: right;\n",
              "    }\n",
              "</style>\n",
              "<table border=\"1\" class=\"dataframe\">\n",
              "  <thead>\n",
              "    <tr style=\"text-align: right;\">\n",
              "      <th></th>\n",
              "      <th>Day</th>\n",
              "      <th>Temp</th>\n",
              "      <th>Humidity</th>\n",
              "      <th>Wind</th>\n",
              "      <th>Play</th>\n",
              "    </tr>\n",
              "  </thead>\n",
              "  <tbody>\n",
              "    <tr>\n",
              "      <th>0</th>\n",
              "      <td>1</td>\n",
              "      <td>Hot</td>\n",
              "      <td>High</td>\n",
              "      <td>Weak</td>\n",
              "      <td>no</td>\n",
              "    </tr>\n",
              "    <tr>\n",
              "      <th>1</th>\n",
              "      <td>2</td>\n",
              "      <td>Hot</td>\n",
              "      <td>High</td>\n",
              "      <td>Strong</td>\n",
              "      <td>no</td>\n",
              "    </tr>\n",
              "    <tr>\n",
              "      <th>2</th>\n",
              "      <td>3</td>\n",
              "      <td>Hot</td>\n",
              "      <td>High</td>\n",
              "      <td>Weak</td>\n",
              "      <td>yes</td>\n",
              "    </tr>\n",
              "    <tr>\n",
              "      <th>3</th>\n",
              "      <td>4</td>\n",
              "      <td>Cool</td>\n",
              "      <td>High</td>\n",
              "      <td>Weak</td>\n",
              "      <td>yes</td>\n",
              "    </tr>\n",
              "    <tr>\n",
              "      <th>4</th>\n",
              "      <td>5</td>\n",
              "      <td>Cool</td>\n",
              "      <td>Normal</td>\n",
              "      <td>Weak</td>\n",
              "      <td>yes</td>\n",
              "    </tr>\n",
              "  </tbody>\n",
              "</table>\n",
              "</div>\n",
              "    <div class=\"colab-df-buttons\">\n",
              "\n",
              "  <div class=\"colab-df-container\">\n",
              "    <button class=\"colab-df-convert\" onclick=\"convertToInteractive('df-1e16b30c-7ed0-4de6-be19-83b0630e130f')\"\n",
              "            title=\"Convert this dataframe to an interactive table.\"\n",
              "            style=\"display:none;\">\n",
              "\n",
              "  <svg xmlns=\"http://www.w3.org/2000/svg\" height=\"24px\" viewBox=\"0 -960 960 960\">\n",
              "    <path d=\"M120-120v-720h720v720H120Zm60-500h600v-160H180v160Zm220 220h160v-160H400v160Zm0 220h160v-160H400v160ZM180-400h160v-160H180v160Zm440 0h160v-160H620v160ZM180-180h160v-160H180v160Zm440 0h160v-160H620v160Z\"/>\n",
              "  </svg>\n",
              "    </button>\n",
              "\n",
              "  <style>\n",
              "    .colab-df-container {\n",
              "      display:flex;\n",
              "      gap: 12px;\n",
              "    }\n",
              "\n",
              "    .colab-df-convert {\n",
              "      background-color: #E8F0FE;\n",
              "      border: none;\n",
              "      border-radius: 50%;\n",
              "      cursor: pointer;\n",
              "      display: none;\n",
              "      fill: #1967D2;\n",
              "      height: 32px;\n",
              "      padding: 0 0 0 0;\n",
              "      width: 32px;\n",
              "    }\n",
              "\n",
              "    .colab-df-convert:hover {\n",
              "      background-color: #E2EBFA;\n",
              "      box-shadow: 0px 1px 2px rgba(60, 64, 67, 0.3), 0px 1px 3px 1px rgba(60, 64, 67, 0.15);\n",
              "      fill: #174EA6;\n",
              "    }\n",
              "\n",
              "    .colab-df-buttons div {\n",
              "      margin-bottom: 4px;\n",
              "    }\n",
              "\n",
              "    [theme=dark] .colab-df-convert {\n",
              "      background-color: #3B4455;\n",
              "      fill: #D2E3FC;\n",
              "    }\n",
              "\n",
              "    [theme=dark] .colab-df-convert:hover {\n",
              "      background-color: #434B5C;\n",
              "      box-shadow: 0px 1px 3px 1px rgba(0, 0, 0, 0.15);\n",
              "      filter: drop-shadow(0px 1px 2px rgba(0, 0, 0, 0.3));\n",
              "      fill: #FFFFFF;\n",
              "    }\n",
              "  </style>\n",
              "\n",
              "    <script>\n",
              "      const buttonEl =\n",
              "        document.querySelector('#df-1e16b30c-7ed0-4de6-be19-83b0630e130f button.colab-df-convert');\n",
              "      buttonEl.style.display =\n",
              "        google.colab.kernel.accessAllowed ? 'block' : 'none';\n",
              "\n",
              "      async function convertToInteractive(key) {\n",
              "        const element = document.querySelector('#df-1e16b30c-7ed0-4de6-be19-83b0630e130f');\n",
              "        const dataTable =\n",
              "          await google.colab.kernel.invokeFunction('convertToInteractive',\n",
              "                                                    [key], {});\n",
              "        if (!dataTable) return;\n",
              "\n",
              "        const docLinkHtml = 'Like what you see? Visit the ' +\n",
              "          '<a target=\"_blank\" href=https://colab.research.google.com/notebooks/data_table.ipynb>data table notebook</a>'\n",
              "          + ' to learn more about interactive tables.';\n",
              "        element.innerHTML = '';\n",
              "        dataTable['output_type'] = 'display_data';\n",
              "        await google.colab.output.renderOutput(dataTable, element);\n",
              "        const docLink = document.createElement('div');\n",
              "        docLink.innerHTML = docLinkHtml;\n",
              "        element.appendChild(docLink);\n",
              "      }\n",
              "    </script>\n",
              "  </div>\n",
              "\n",
              "\n",
              "<div id=\"df-3f287d29-e24e-418e-a1a9-54e376367dc9\">\n",
              "  <button class=\"colab-df-quickchart\" onclick=\"quickchart('df-3f287d29-e24e-418e-a1a9-54e376367dc9')\"\n",
              "            title=\"Suggest charts\"\n",
              "            style=\"display:none;\">\n",
              "\n",
              "<svg xmlns=\"http://www.w3.org/2000/svg\" height=\"24px\"viewBox=\"0 0 24 24\"\n",
              "     width=\"24px\">\n",
              "    <g>\n",
              "        <path d=\"M19 3H5c-1.1 0-2 .9-2 2v14c0 1.1.9 2 2 2h14c1.1 0 2-.9 2-2V5c0-1.1-.9-2-2-2zM9 17H7v-7h2v7zm4 0h-2V7h2v10zm4 0h-2v-4h2v4z\"/>\n",
              "    </g>\n",
              "</svg>\n",
              "  </button>\n",
              "\n",
              "<style>\n",
              "  .colab-df-quickchart {\n",
              "      --bg-color: #E8F0FE;\n",
              "      --fill-color: #1967D2;\n",
              "      --hover-bg-color: #E2EBFA;\n",
              "      --hover-fill-color: #174EA6;\n",
              "      --disabled-fill-color: #AAA;\n",
              "      --disabled-bg-color: #DDD;\n",
              "  }\n",
              "\n",
              "  [theme=dark] .colab-df-quickchart {\n",
              "      --bg-color: #3B4455;\n",
              "      --fill-color: #D2E3FC;\n",
              "      --hover-bg-color: #434B5C;\n",
              "      --hover-fill-color: #FFFFFF;\n",
              "      --disabled-bg-color: #3B4455;\n",
              "      --disabled-fill-color: #666;\n",
              "  }\n",
              "\n",
              "  .colab-df-quickchart {\n",
              "    background-color: var(--bg-color);\n",
              "    border: none;\n",
              "    border-radius: 50%;\n",
              "    cursor: pointer;\n",
              "    display: none;\n",
              "    fill: var(--fill-color);\n",
              "    height: 32px;\n",
              "    padding: 0;\n",
              "    width: 32px;\n",
              "  }\n",
              "\n",
              "  .colab-df-quickchart:hover {\n",
              "    background-color: var(--hover-bg-color);\n",
              "    box-shadow: 0 1px 2px rgba(60, 64, 67, 0.3), 0 1px 3px 1px rgba(60, 64, 67, 0.15);\n",
              "    fill: var(--button-hover-fill-color);\n",
              "  }\n",
              "\n",
              "  .colab-df-quickchart-complete:disabled,\n",
              "  .colab-df-quickchart-complete:disabled:hover {\n",
              "    background-color: var(--disabled-bg-color);\n",
              "    fill: var(--disabled-fill-color);\n",
              "    box-shadow: none;\n",
              "  }\n",
              "\n",
              "  .colab-df-spinner {\n",
              "    border: 2px solid var(--fill-color);\n",
              "    border-color: transparent;\n",
              "    border-bottom-color: var(--fill-color);\n",
              "    animation:\n",
              "      spin 1s steps(1) infinite;\n",
              "  }\n",
              "\n",
              "  @keyframes spin {\n",
              "    0% {\n",
              "      border-color: transparent;\n",
              "      border-bottom-color: var(--fill-color);\n",
              "      border-left-color: var(--fill-color);\n",
              "    }\n",
              "    20% {\n",
              "      border-color: transparent;\n",
              "      border-left-color: var(--fill-color);\n",
              "      border-top-color: var(--fill-color);\n",
              "    }\n",
              "    30% {\n",
              "      border-color: transparent;\n",
              "      border-left-color: var(--fill-color);\n",
              "      border-top-color: var(--fill-color);\n",
              "      border-right-color: var(--fill-color);\n",
              "    }\n",
              "    40% {\n",
              "      border-color: transparent;\n",
              "      border-right-color: var(--fill-color);\n",
              "      border-top-color: var(--fill-color);\n",
              "    }\n",
              "    60% {\n",
              "      border-color: transparent;\n",
              "      border-right-color: var(--fill-color);\n",
              "    }\n",
              "    80% {\n",
              "      border-color: transparent;\n",
              "      border-right-color: var(--fill-color);\n",
              "      border-bottom-color: var(--fill-color);\n",
              "    }\n",
              "    90% {\n",
              "      border-color: transparent;\n",
              "      border-bottom-color: var(--fill-color);\n",
              "    }\n",
              "  }\n",
              "</style>\n",
              "\n",
              "  <script>\n",
              "    async function quickchart(key) {\n",
              "      const quickchartButtonEl =\n",
              "        document.querySelector('#' + key + ' button');\n",
              "      quickchartButtonEl.disabled = true;  // To prevent multiple clicks.\n",
              "      quickchartButtonEl.classList.add('colab-df-spinner');\n",
              "      try {\n",
              "        const charts = await google.colab.kernel.invokeFunction(\n",
              "            'suggestCharts', [key], {});\n",
              "      } catch (error) {\n",
              "        console.error('Error during call to suggestCharts:', error);\n",
              "      }\n",
              "      quickchartButtonEl.classList.remove('colab-df-spinner');\n",
              "      quickchartButtonEl.classList.add('colab-df-quickchart-complete');\n",
              "    }\n",
              "    (() => {\n",
              "      let quickchartButtonEl =\n",
              "        document.querySelector('#df-3f287d29-e24e-418e-a1a9-54e376367dc9 button');\n",
              "      quickchartButtonEl.style.display =\n",
              "        google.colab.kernel.accessAllowed ? 'block' : 'none';\n",
              "    })();\n",
              "  </script>\n",
              "</div>\n",
              "\n",
              "    </div>\n",
              "  </div>\n"
            ],
            "application/vnd.google.colaboratory.intrinsic+json": {
              "type": "dataframe",
              "variable_name": "df",
              "summary": "{\n  \"name\": \"df\",\n  \"rows\": 14,\n  \"fields\": [\n    {\n      \"column\": \"Day\",\n      \"properties\": {\n        \"dtype\": \"number\",\n        \"std\": 4,\n        \"min\": 1,\n        \"max\": 14,\n        \"num_unique_values\": 14,\n        \"samples\": [\n          10,\n          12,\n          1\n        ],\n        \"semantic_type\": \"\",\n        \"description\": \"\"\n      }\n    },\n    {\n      \"column\": \"Temp\",\n      \"properties\": {\n        \"dtype\": \"category\",\n        \"num_unique_values\": 2,\n        \"samples\": [\n          \"Cool\",\n          \"Hot\"\n        ],\n        \"semantic_type\": \"\",\n        \"description\": \"\"\n      }\n    },\n    {\n      \"column\": \"Humidity\",\n      \"properties\": {\n        \"dtype\": \"category\",\n        \"num_unique_values\": 2,\n        \"samples\": [\n          \"Normal\",\n          \"High\"\n        ],\n        \"semantic_type\": \"\",\n        \"description\": \"\"\n      }\n    },\n    {\n      \"column\": \"Wind\",\n      \"properties\": {\n        \"dtype\": \"category\",\n        \"num_unique_values\": 2,\n        \"samples\": [\n          \"Strong\",\n          \"Weak\"\n        ],\n        \"semantic_type\": \"\",\n        \"description\": \"\"\n      }\n    },\n    {\n      \"column\": \"Play\",\n      \"properties\": {\n        \"dtype\": \"category\",\n        \"num_unique_values\": 2,\n        \"samples\": [\n          \"yes\",\n          \"no\"\n        ],\n        \"semantic_type\": \"\",\n        \"description\": \"\"\n      }\n    }\n  ]\n}"
            }
          },
          "metadata": {},
          "execution_count": 5
        }
      ]
    },
    {
      "cell_type": "code",
      "source": [
        "df_one = pd.get_dummies(data=df, columns=['Temp', 'Humidity', 'Wind', 'Play'])\n",
        "\n",
        "tmp = pd.concat((df_one, df), axis=1)\n",
        "golf = tmp.iloc[:, [0,2,4,6,8]]\n",
        "del golf['Day']\n",
        "golf"
      ],
      "metadata": {
        "colab": {
          "base_uri": "https://localhost:8080/",
          "height": 488
        },
        "id": "QJAsIuEYA5SX",
        "outputId": "01b0cd97-5af8-425f-f61e-fcf1b6ddb44d"
      },
      "execution_count": null,
      "outputs": [
        {
          "output_type": "execute_result",
          "data": {
            "text/plain": [
              "    Temp_Hot  Humidity_Normal  Wind_Weak  Play_yes\n",
              "0          1                0          1         0\n",
              "1          1                0          0         0\n",
              "2          1                0          1         1\n",
              "3          0                0          1         1\n",
              "4          0                1          1         1\n",
              "5          0                1          0         0\n",
              "6          0                1          0         1\n",
              "7          1                0          1         0\n",
              "8          0                1          1         1\n",
              "9          0                1          1         1\n",
              "10         0                1          0         1\n",
              "11         0                0          0         1\n",
              "12         1                1          1         1\n",
              "13         0                0          0         0"
            ],
            "text/html": [
              "\n",
              "  <div id=\"df-dd78cb03-d1b1-4930-9662-a8280eddb4f7\">\n",
              "    <div class=\"colab-df-container\">\n",
              "      <div>\n",
              "<style scoped>\n",
              "    .dataframe tbody tr th:only-of-type {\n",
              "        vertical-align: middle;\n",
              "    }\n",
              "\n",
              "    .dataframe tbody tr th {\n",
              "        vertical-align: top;\n",
              "    }\n",
              "\n",
              "    .dataframe thead th {\n",
              "        text-align: right;\n",
              "    }\n",
              "</style>\n",
              "<table border=\"1\" class=\"dataframe\">\n",
              "  <thead>\n",
              "    <tr style=\"text-align: right;\">\n",
              "      <th></th>\n",
              "      <th>Temp_Hot</th>\n",
              "      <th>Humidity_Normal</th>\n",
              "      <th>Wind_Weak</th>\n",
              "      <th>Play_yes</th>\n",
              "    </tr>\n",
              "  </thead>\n",
              "  <tbody>\n",
              "    <tr>\n",
              "      <th>0</th>\n",
              "      <td>1</td>\n",
              "      <td>0</td>\n",
              "      <td>1</td>\n",
              "      <td>0</td>\n",
              "    </tr>\n",
              "    <tr>\n",
              "      <th>1</th>\n",
              "      <td>1</td>\n",
              "      <td>0</td>\n",
              "      <td>0</td>\n",
              "      <td>0</td>\n",
              "    </tr>\n",
              "    <tr>\n",
              "      <th>2</th>\n",
              "      <td>1</td>\n",
              "      <td>0</td>\n",
              "      <td>1</td>\n",
              "      <td>1</td>\n",
              "    </tr>\n",
              "    <tr>\n",
              "      <th>3</th>\n",
              "      <td>0</td>\n",
              "      <td>0</td>\n",
              "      <td>1</td>\n",
              "      <td>1</td>\n",
              "    </tr>\n",
              "    <tr>\n",
              "      <th>4</th>\n",
              "      <td>0</td>\n",
              "      <td>1</td>\n",
              "      <td>1</td>\n",
              "      <td>1</td>\n",
              "    </tr>\n",
              "    <tr>\n",
              "      <th>5</th>\n",
              "      <td>0</td>\n",
              "      <td>1</td>\n",
              "      <td>0</td>\n",
              "      <td>0</td>\n",
              "    </tr>\n",
              "    <tr>\n",
              "      <th>6</th>\n",
              "      <td>0</td>\n",
              "      <td>1</td>\n",
              "      <td>0</td>\n",
              "      <td>1</td>\n",
              "    </tr>\n",
              "    <tr>\n",
              "      <th>7</th>\n",
              "      <td>1</td>\n",
              "      <td>0</td>\n",
              "      <td>1</td>\n",
              "      <td>0</td>\n",
              "    </tr>\n",
              "    <tr>\n",
              "      <th>8</th>\n",
              "      <td>0</td>\n",
              "      <td>1</td>\n",
              "      <td>1</td>\n",
              "      <td>1</td>\n",
              "    </tr>\n",
              "    <tr>\n",
              "      <th>9</th>\n",
              "      <td>0</td>\n",
              "      <td>1</td>\n",
              "      <td>1</td>\n",
              "      <td>1</td>\n",
              "    </tr>\n",
              "    <tr>\n",
              "      <th>10</th>\n",
              "      <td>0</td>\n",
              "      <td>1</td>\n",
              "      <td>0</td>\n",
              "      <td>1</td>\n",
              "    </tr>\n",
              "    <tr>\n",
              "      <th>11</th>\n",
              "      <td>0</td>\n",
              "      <td>0</td>\n",
              "      <td>0</td>\n",
              "      <td>1</td>\n",
              "    </tr>\n",
              "    <tr>\n",
              "      <th>12</th>\n",
              "      <td>1</td>\n",
              "      <td>1</td>\n",
              "      <td>1</td>\n",
              "      <td>1</td>\n",
              "    </tr>\n",
              "    <tr>\n",
              "      <th>13</th>\n",
              "      <td>0</td>\n",
              "      <td>0</td>\n",
              "      <td>0</td>\n",
              "      <td>0</td>\n",
              "    </tr>\n",
              "  </tbody>\n",
              "</table>\n",
              "</div>\n",
              "      <button class=\"colab-df-convert\" onclick=\"convertToInteractive('df-dd78cb03-d1b1-4930-9662-a8280eddb4f7')\"\n",
              "              title=\"Convert this dataframe to an interactive table.\"\n",
              "              style=\"display:none;\">\n",
              "        \n",
              "  <svg xmlns=\"http://www.w3.org/2000/svg\" height=\"24px\"viewBox=\"0 0 24 24\"\n",
              "       width=\"24px\">\n",
              "    <path d=\"M0 0h24v24H0V0z\" fill=\"none\"/>\n",
              "    <path d=\"M18.56 5.44l.94 2.06.94-2.06 2.06-.94-2.06-.94-.94-2.06-.94 2.06-2.06.94zm-11 1L8.5 8.5l.94-2.06 2.06-.94-2.06-.94L8.5 2.5l-.94 2.06-2.06.94zm10 10l.94 2.06.94-2.06 2.06-.94-2.06-.94-.94-2.06-.94 2.06-2.06.94z\"/><path d=\"M17.41 7.96l-1.37-1.37c-.4-.4-.92-.59-1.43-.59-.52 0-1.04.2-1.43.59L10.3 9.45l-7.72 7.72c-.78.78-.78 2.05 0 2.83L4 21.41c.39.39.9.59 1.41.59.51 0 1.02-.2 1.41-.59l7.78-7.78 2.81-2.81c.8-.78.8-2.07 0-2.86zM5.41 20L4 18.59l7.72-7.72 1.47 1.35L5.41 20z\"/>\n",
              "  </svg>\n",
              "      </button>\n",
              "      \n",
              "  <style>\n",
              "    .colab-df-container {\n",
              "      display:flex;\n",
              "      flex-wrap:wrap;\n",
              "      gap: 12px;\n",
              "    }\n",
              "\n",
              "    .colab-df-convert {\n",
              "      background-color: #E8F0FE;\n",
              "      border: none;\n",
              "      border-radius: 50%;\n",
              "      cursor: pointer;\n",
              "      display: none;\n",
              "      fill: #1967D2;\n",
              "      height: 32px;\n",
              "      padding: 0 0 0 0;\n",
              "      width: 32px;\n",
              "    }\n",
              "\n",
              "    .colab-df-convert:hover {\n",
              "      background-color: #E2EBFA;\n",
              "      box-shadow: 0px 1px 2px rgba(60, 64, 67, 0.3), 0px 1px 3px 1px rgba(60, 64, 67, 0.15);\n",
              "      fill: #174EA6;\n",
              "    }\n",
              "\n",
              "    [theme=dark] .colab-df-convert {\n",
              "      background-color: #3B4455;\n",
              "      fill: #D2E3FC;\n",
              "    }\n",
              "\n",
              "    [theme=dark] .colab-df-convert:hover {\n",
              "      background-color: #434B5C;\n",
              "      box-shadow: 0px 1px 3px 1px rgba(0, 0, 0, 0.15);\n",
              "      filter: drop-shadow(0px 1px 2px rgba(0, 0, 0, 0.3));\n",
              "      fill: #FFFFFF;\n",
              "    }\n",
              "  </style>\n",
              "\n",
              "      <script>\n",
              "        const buttonEl =\n",
              "          document.querySelector('#df-dd78cb03-d1b1-4930-9662-a8280eddb4f7 button.colab-df-convert');\n",
              "        buttonEl.style.display =\n",
              "          google.colab.kernel.accessAllowed ? 'block' : 'none';\n",
              "\n",
              "        async function convertToInteractive(key) {\n",
              "          const element = document.querySelector('#df-dd78cb03-d1b1-4930-9662-a8280eddb4f7');\n",
              "          const dataTable =\n",
              "            await google.colab.kernel.invokeFunction('convertToInteractive',\n",
              "                                                     [key], {});\n",
              "          if (!dataTable) return;\n",
              "\n",
              "          const docLinkHtml = 'Like what you see? Visit the ' +\n",
              "            '<a target=\"_blank\" href=https://colab.research.google.com/notebooks/data_table.ipynb>data table notebook</a>'\n",
              "            + ' to learn more about interactive tables.';\n",
              "          element.innerHTML = '';\n",
              "          dataTable['output_type'] = 'display_data';\n",
              "          await google.colab.output.renderOutput(dataTable, element);\n",
              "          const docLink = document.createElement('div');\n",
              "          docLink.innerHTML = docLinkHtml;\n",
              "          element.appendChild(docLink);\n",
              "        }\n",
              "      </script>\n",
              "    </div>\n",
              "  </div>\n",
              "  "
            ]
          },
          "metadata": {},
          "execution_count": 5
        }
      ]
    },
    {
      "cell_type": "code",
      "source": [
        "# rename all columns except Day\n",
        "golf = golf.rename(columns={'Temp_Hot': 'Temp',\n",
        "                                'Humidity_Normal': 'Humidity',\n",
        "                                'Wind_Weak': 'Wind',\n",
        "                                'Play_yes': 'Play',})\n",
        "golf"
      ],
      "metadata": {
        "id": "yTvfdsmXnVX1",
        "colab": {
          "base_uri": "https://localhost:8080/",
          "height": 488
        },
        "outputId": "fe352362-8763-4194-af82-7c699513792d"
      },
      "execution_count": null,
      "outputs": [
        {
          "output_type": "execute_result",
          "data": {
            "text/plain": [
              "    Temp  Humidity  Wind  Play\n",
              "0      1         0     1     0\n",
              "1      1         0     0     0\n",
              "2      1         0     1     1\n",
              "3      0         0     1     1\n",
              "4      0         1     1     1\n",
              "5      0         1     0     0\n",
              "6      0         1     0     1\n",
              "7      1         0     1     0\n",
              "8      0         1     1     1\n",
              "9      0         1     1     1\n",
              "10     0         1     0     1\n",
              "11     0         0     0     1\n",
              "12     1         1     1     1\n",
              "13     0         0     0     0"
            ],
            "text/html": [
              "\n",
              "  <div id=\"df-02a2f2ed-f2e1-4eea-abcb-d23a9879fecf\">\n",
              "    <div class=\"colab-df-container\">\n",
              "      <div>\n",
              "<style scoped>\n",
              "    .dataframe tbody tr th:only-of-type {\n",
              "        vertical-align: middle;\n",
              "    }\n",
              "\n",
              "    .dataframe tbody tr th {\n",
              "        vertical-align: top;\n",
              "    }\n",
              "\n",
              "    .dataframe thead th {\n",
              "        text-align: right;\n",
              "    }\n",
              "</style>\n",
              "<table border=\"1\" class=\"dataframe\">\n",
              "  <thead>\n",
              "    <tr style=\"text-align: right;\">\n",
              "      <th></th>\n",
              "      <th>Temp</th>\n",
              "      <th>Humidity</th>\n",
              "      <th>Wind</th>\n",
              "      <th>Play</th>\n",
              "    </tr>\n",
              "  </thead>\n",
              "  <tbody>\n",
              "    <tr>\n",
              "      <th>0</th>\n",
              "      <td>1</td>\n",
              "      <td>0</td>\n",
              "      <td>1</td>\n",
              "      <td>0</td>\n",
              "    </tr>\n",
              "    <tr>\n",
              "      <th>1</th>\n",
              "      <td>1</td>\n",
              "      <td>0</td>\n",
              "      <td>0</td>\n",
              "      <td>0</td>\n",
              "    </tr>\n",
              "    <tr>\n",
              "      <th>2</th>\n",
              "      <td>1</td>\n",
              "      <td>0</td>\n",
              "      <td>1</td>\n",
              "      <td>1</td>\n",
              "    </tr>\n",
              "    <tr>\n",
              "      <th>3</th>\n",
              "      <td>0</td>\n",
              "      <td>0</td>\n",
              "      <td>1</td>\n",
              "      <td>1</td>\n",
              "    </tr>\n",
              "    <tr>\n",
              "      <th>4</th>\n",
              "      <td>0</td>\n",
              "      <td>1</td>\n",
              "      <td>1</td>\n",
              "      <td>1</td>\n",
              "    </tr>\n",
              "    <tr>\n",
              "      <th>5</th>\n",
              "      <td>0</td>\n",
              "      <td>1</td>\n",
              "      <td>0</td>\n",
              "      <td>0</td>\n",
              "    </tr>\n",
              "    <tr>\n",
              "      <th>6</th>\n",
              "      <td>0</td>\n",
              "      <td>1</td>\n",
              "      <td>0</td>\n",
              "      <td>1</td>\n",
              "    </tr>\n",
              "    <tr>\n",
              "      <th>7</th>\n",
              "      <td>1</td>\n",
              "      <td>0</td>\n",
              "      <td>1</td>\n",
              "      <td>0</td>\n",
              "    </tr>\n",
              "    <tr>\n",
              "      <th>8</th>\n",
              "      <td>0</td>\n",
              "      <td>1</td>\n",
              "      <td>1</td>\n",
              "      <td>1</td>\n",
              "    </tr>\n",
              "    <tr>\n",
              "      <th>9</th>\n",
              "      <td>0</td>\n",
              "      <td>1</td>\n",
              "      <td>1</td>\n",
              "      <td>1</td>\n",
              "    </tr>\n",
              "    <tr>\n",
              "      <th>10</th>\n",
              "      <td>0</td>\n",
              "      <td>1</td>\n",
              "      <td>0</td>\n",
              "      <td>1</td>\n",
              "    </tr>\n",
              "    <tr>\n",
              "      <th>11</th>\n",
              "      <td>0</td>\n",
              "      <td>0</td>\n",
              "      <td>0</td>\n",
              "      <td>1</td>\n",
              "    </tr>\n",
              "    <tr>\n",
              "      <th>12</th>\n",
              "      <td>1</td>\n",
              "      <td>1</td>\n",
              "      <td>1</td>\n",
              "      <td>1</td>\n",
              "    </tr>\n",
              "    <tr>\n",
              "      <th>13</th>\n",
              "      <td>0</td>\n",
              "      <td>0</td>\n",
              "      <td>0</td>\n",
              "      <td>0</td>\n",
              "    </tr>\n",
              "  </tbody>\n",
              "</table>\n",
              "</div>\n",
              "      <button class=\"colab-df-convert\" onclick=\"convertToInteractive('df-02a2f2ed-f2e1-4eea-abcb-d23a9879fecf')\"\n",
              "              title=\"Convert this dataframe to an interactive table.\"\n",
              "              style=\"display:none;\">\n",
              "        \n",
              "  <svg xmlns=\"http://www.w3.org/2000/svg\" height=\"24px\"viewBox=\"0 0 24 24\"\n",
              "       width=\"24px\">\n",
              "    <path d=\"M0 0h24v24H0V0z\" fill=\"none\"/>\n",
              "    <path d=\"M18.56 5.44l.94 2.06.94-2.06 2.06-.94-2.06-.94-.94-2.06-.94 2.06-2.06.94zm-11 1L8.5 8.5l.94-2.06 2.06-.94-2.06-.94L8.5 2.5l-.94 2.06-2.06.94zm10 10l.94 2.06.94-2.06 2.06-.94-2.06-.94-.94-2.06-.94 2.06-2.06.94z\"/><path d=\"M17.41 7.96l-1.37-1.37c-.4-.4-.92-.59-1.43-.59-.52 0-1.04.2-1.43.59L10.3 9.45l-7.72 7.72c-.78.78-.78 2.05 0 2.83L4 21.41c.39.39.9.59 1.41.59.51 0 1.02-.2 1.41-.59l7.78-7.78 2.81-2.81c.8-.78.8-2.07 0-2.86zM5.41 20L4 18.59l7.72-7.72 1.47 1.35L5.41 20z\"/>\n",
              "  </svg>\n",
              "      </button>\n",
              "      \n",
              "  <style>\n",
              "    .colab-df-container {\n",
              "      display:flex;\n",
              "      flex-wrap:wrap;\n",
              "      gap: 12px;\n",
              "    }\n",
              "\n",
              "    .colab-df-convert {\n",
              "      background-color: #E8F0FE;\n",
              "      border: none;\n",
              "      border-radius: 50%;\n",
              "      cursor: pointer;\n",
              "      display: none;\n",
              "      fill: #1967D2;\n",
              "      height: 32px;\n",
              "      padding: 0 0 0 0;\n",
              "      width: 32px;\n",
              "    }\n",
              "\n",
              "    .colab-df-convert:hover {\n",
              "      background-color: #E2EBFA;\n",
              "      box-shadow: 0px 1px 2px rgba(60, 64, 67, 0.3), 0px 1px 3px 1px rgba(60, 64, 67, 0.15);\n",
              "      fill: #174EA6;\n",
              "    }\n",
              "\n",
              "    [theme=dark] .colab-df-convert {\n",
              "      background-color: #3B4455;\n",
              "      fill: #D2E3FC;\n",
              "    }\n",
              "\n",
              "    [theme=dark] .colab-df-convert:hover {\n",
              "      background-color: #434B5C;\n",
              "      box-shadow: 0px 1px 3px 1px rgba(0, 0, 0, 0.15);\n",
              "      filter: drop-shadow(0px 1px 2px rgba(0, 0, 0, 0.3));\n",
              "      fill: #FFFFFF;\n",
              "    }\n",
              "  </style>\n",
              "\n",
              "      <script>\n",
              "        const buttonEl =\n",
              "          document.querySelector('#df-02a2f2ed-f2e1-4eea-abcb-d23a9879fecf button.colab-df-convert');\n",
              "        buttonEl.style.display =\n",
              "          google.colab.kernel.accessAllowed ? 'block' : 'none';\n",
              "\n",
              "        async function convertToInteractive(key) {\n",
              "          const element = document.querySelector('#df-02a2f2ed-f2e1-4eea-abcb-d23a9879fecf');\n",
              "          const dataTable =\n",
              "            await google.colab.kernel.invokeFunction('convertToInteractive',\n",
              "                                                     [key], {});\n",
              "          if (!dataTable) return;\n",
              "\n",
              "          const docLinkHtml = 'Like what you see? Visit the ' +\n",
              "            '<a target=\"_blank\" href=https://colab.research.google.com/notebooks/data_table.ipynb>data table notebook</a>'\n",
              "            + ' to learn more about interactive tables.';\n",
              "          element.innerHTML = '';\n",
              "          dataTable['output_type'] = 'display_data';\n",
              "          await google.colab.output.renderOutput(dataTable, element);\n",
              "          const docLink = document.createElement('div');\n",
              "          docLink.innerHTML = docLinkHtml;\n",
              "          element.appendChild(docLink);\n",
              "        }\n",
              "      </script>\n",
              "    </div>\n",
              "  </div>\n",
              "  "
            ]
          },
          "metadata": {},
          "execution_count": 6
        }
      ]
    },
    {
      "cell_type": "markdown",
      "source": [
        "This notebook considers how a network learns an entire dataset. Consider you are a big fan of golf. You can decide whether or not to play by watching the weather. Which weather combinations indicate when folks are playing?\n",
        "\n",
        "To solve this problem, you might record the temperature, humidity and wind speed observing the correlation between each weather and playing golf.\n",
        "\n",
        "Since neural networks do not read the pattern of weather, we have to translate the weather into math. What you really want to do is mimic the pattern of the weather inform of numbers. Notice that the pattern of numbers shown here mimics the pattern from the weather in the form of 0s and 1s. Each weather condition (temperature, humidity and wind speed) gets a column. Notice also that there are 14 rows representing the 14 different observed weather."
      ],
      "metadata": {
        "id": "rVqA5kS2fPwA"
      }
    },
    {
      "cell_type": "markdown",
      "metadata": {
        "id": "Del7HDvBg9uY"
      },
      "source": [
        "# Refresher: Learning One Row of Data\n",
        "\n",
        "You have converted the weather pattern into a matrix ( with just 0s and 1s). Now let’s create that matrix in Python so the neural network can read it. What do you want the neural network to do? Take the weather matrix and learn to transform it into the play_vs_noplay matrix. More important, you want the neural network to take any matrix containing the same underlying pattern as weather and transform it into a matrix that contains the underlying pattern of play_vs_noplay."
      ]
    },
    {
      "cell_type": "code",
      "execution_count": null,
      "metadata": {
        "id": "mPxZf9xfg9uc",
        "outputId": "87e7c2b1-7871-4d98-bec2-d54b8fb8d5e5",
        "colab": {
          "base_uri": "https://localhost:8080/"
        }
      },
      "outputs": [
        {
          "output_type": "stream",
          "name": "stdout",
          "text": [
            "this is the first row of data: [1 0 1]\n",
            "this is the target variable for first row: 0\n"
          ]
        }
      ],
      "source": [
        "# building a neural network\n",
        "\n",
        "import numpy as np\n",
        "\n",
        "# let's choose some random initial values for the weights\n",
        "weights = np.array([0.52,0.18,-0.12])\n",
        "alpha = 0.1 # some small number, a learning rate\n",
        "\n",
        "# X data\n",
        "X = golf.loc[:, ['Temp', 'Humidity', 'Wind']] # select temp, humidity and wind as inputs\n",
        "X = np.array(X.values.tolist()) # generate those values in array\n",
        "\n",
        "# y data\n",
        "y = np.array(golf['Play'].tolist()) # convert play in array\n",
        "\n",
        "# specify one row of data to predict - scroll up and check the df.head() to confirm\n",
        "input = X[0] # [1,0,1] # select the first row\n",
        "target_var = y[0] # 0 means no play\n",
        "\n",
        "print('this is the first row of data:', input)\n",
        "print('this is the target variable for first row:', target_var)"
      ]
    },
    {
      "cell_type": "markdown",
      "source": [
        "Remember PEDW:\n",
        "* make a prediction\n",
        "* calculate the (squared) error\n",
        "* calculate weight delta (direction and amount)\n",
        "* update the weight (weights get adjusted such that we make a more accurate prediction next time!)\n",
        "\n",
        "If we previously overestimated, weights need to get smaller (more negative). If we previously underestimated, the weights need to get bigger (more positive.)"
      ],
      "metadata": {
        "id": "MpItkfBmd9vY"
      }
    },
    {
      "cell_type": "code",
      "source": [
        "# let's fit the model\n",
        "my_weights = []\n",
        "my_error = []\n",
        "for iteration in range(20):\n",
        "    prediction = input.dot(weights)\n",
        "    error = (target_var - prediction) ** 2\n",
        "    delta = prediction - target_var\n",
        "    weights = weights - (alpha * (input * delta))\n",
        "    my_weights.append(weights)\n",
        "    my_error.append(error)\n",
        "    print(\"Error:\" + str(error) + \" Prediction:\" + str(prediction))"
      ],
      "metadata": {
        "colab": {
          "base_uri": "https://localhost:8080/"
        },
        "id": "IsvEggwFIaat",
        "outputId": "d39c9585-2f61-467e-d411-5f36b060238e"
      },
      "execution_count": null,
      "outputs": [
        {
          "output_type": "stream",
          "name": "stdout",
          "text": [
            "Error:0.16000000000000003 Prediction:0.4\n",
            "Error:0.10239999999999996 Prediction:0.31999999999999995\n",
            "Error:0.065536 Prediction:0.256\n",
            "Error:0.041943039999999994 Prediction:0.20479999999999998\n",
            "Error:0.026843545599999994 Prediction:0.16383999999999999\n",
            "Error:0.017179869183999993 Prediction:0.13107199999999997\n",
            "Error:0.010995116277759998 Prediction:0.1048576\n",
            "Error:0.0070368744177663955 Prediction:0.08388607999999997\n",
            "Error:0.004503599627370488 Prediction:0.06710886399999993\n",
            "Error:0.0028823037615171095 Prediction:0.053687091199999926\n",
            "Error:0.001844674407370952 Prediction:0.04294967295999996\n",
            "Error:0.0011805916207174108 Prediction:0.03435973836799999\n",
            "Error:0.0007555786372591429 Prediction:0.027487790694399994\n",
            "Error:0.0004835703278458524 Prediction:0.021990232555520017\n",
            "Error:0.00030948500982134634 Prediction:0.017592186044416036\n",
            "Error:0.00019807040628566102 Prediction:0.014073748835532807\n",
            "Error:0.00012676506002282206 Prediction:0.011258999068426201\n",
            "Error:8.112963841460532e-05 Prediction:0.009007199254740916\n",
            "Error:5.1922968585347725e-05 Prediction:0.007205759403792755\n",
            "Error:3.323069989462254e-05 Prediction:0.005764607523034204\n"
          ]
        }
      ]
    },
    {
      "cell_type": "markdown",
      "source": [
        "Of course, we know error goes down as we train. This smooth and gentle curve is a hallmark of a model that isn't training too quickly (training to quickly might lead to overfitting!)"
      ],
      "metadata": {
        "id": "SokeIPshJXnn"
      }
    },
    {
      "cell_type": "code",
      "source": [
        "my_error = pd.DataFrame(my_error)\n",
        "my_error.plot()\n",
        "plt.xlabel('Epochs')\n",
        "plt.ylabel('Squared Error')\n",
        "plt.title('Squared Error vs. Epochs')\n",
        "plt.show()"
      ],
      "metadata": {
        "colab": {
          "base_uri": "https://localhost:8080/",
          "height": 295
        },
        "id": "gAZPv0utJbEp",
        "outputId": "499042b7-db6d-4ef9-bf62-879fa188e917"
      },
      "execution_count": null,
      "outputs": [
        {
          "output_type": "display_data",
          "data": {
            "text/plain": [
              "<Figure size 432x288 with 1 Axes>"
            ],
            "image/png": "[encoded data removed]"
          },
          "metadata": {
            "needs_background": "light"
          }
        }
      ]
    },
    {
      "cell_type": "markdown",
      "source": [
        "Let's investigate how the weights changed... how come only the second weight was updated?! It's because it was the only one that had an input!"
      ],
      "metadata": {
        "id": "OaT65fcMJQFb"
      }
    },
    {
      "cell_type": "code",
      "source": [
        "# see how the value of the weights changed?\n",
        "my_weights = pd.DataFrame(my_weights)\n",
        "my_weights.plot()\n",
        "plt.xlabel('Epochs')\n",
        "plt.ylabel('Weight Value')\n",
        "plt.title('Evolution of Weights During Training')\n",
        "plt.show()"
      ],
      "metadata": {
        "colab": {
          "base_uri": "https://localhost:8080/",
          "height": 295
        },
        "id": "Uzib1aKDIxCW",
        "outputId": "07fe988b-2b62-448a-e971-87734e875059"
      },
      "execution_count": null,
      "outputs": [
        {
          "output_type": "display_data",
          "data": {
            "text/plain": [
              "<Figure size 432x288 with 1 Axes>"
            ],
            "image/png": "[encoded data removed]"
          },
          "metadata": {
            "needs_background": "light"
          }
        }
      ]
    },
    {
      "cell_type": "markdown",
      "source": [
        "💡Recall the PEDW code... you scale the weight by the input... so if the input is ZERO - no weight update! This is because it did not send any information forward across the network... so why would you update it's weight?! This one really is a lightbulb moment... this explains why the orange line is flat for input data of [1,0,1]... a 0 means no information was sent!"
      ],
      "metadata": {
        "id": "1ITjtOWhJxEW"
      }
    },
    {
      "cell_type": "markdown",
      "metadata": {
        "id": "1i7viFpFg9ud"
      },
      "source": [
        "## Building Our Neural Network\n",
        "\n",
        "This code example may bring back several nuances you learned in Chapter 3 of Trask. First, the use of the dot function was a way to perform a dot product (weighted sum) between two vectors. But not included in Chapter 3 was the way NumPy matrices can perform elementwise addition and multiplication."
      ]
    },
    {
      "cell_type": "code",
      "execution_count": null,
      "metadata": {
        "id": "PlA_7X-Tg9ud",
        "outputId": "355c2d19-bcf5-4f6b-ed00-491d94d91fc3",
        "colab": {
          "base_uri": "https://localhost:8080/"
        }
      },
      "outputs": [
        {
          "output_type": "stream",
          "name": "stdout",
          "text": [
            "[0 2 4 3]\n",
            "[2 3 4 4]\n",
            "[0.  0.5 1.  0.5]\n",
            "[0.5 1.5 2.5 1.5]\n"
          ]
        }
      ],
      "source": [
        "import numpy as np\n",
        "\n",
        "a = np.array([0,1,2,1])\n",
        "b = np.array([2,2,2,3])\n",
        "\n",
        "print(a*b) # elementwise multiplication\n",
        "print(a+b) # elementwise addition\n",
        "print(a * 0.5) # vector-scalar multiplication: each element multiplied by a constant\n",
        "print(a + 0.5) # vector-scalar addition: each element has constant added to it"
      ]
    },
    {
      "cell_type": "markdown",
      "metadata": {
        "id": "aLbRb8tdg9ue"
      },
      "source": [
        "# Learning the whole dataset!\n",
        "\n",
        "In the previous example, you have trained neural networks that learned how to model a single training example (input ▶ target_variable pair). But now you’re trying to build a neural network that tells you whether it is a play. You need it to know more than one weather. How do you do this? You train it on all the weather data at once."
      ]
    },
    {
      "cell_type": "markdown",
      "source": [
        "Below is a wonderful example of **stochastic gradient descent** - the weights are updated after every single row! You should be able to tell this is stochastic gradient descent just by looking at the code."
      ],
      "metadata": {
        "id": "XRFhGXLrK7ga"
      }
    },
    {
      "cell_type": "code",
      "execution_count": null,
      "metadata": {
        "id": "EK_kK95Lg9ue",
        "outputId": "b535884b-6d8f-4a5a-ec3d-8bc5e7d5fd38",
        "colab": {
          "base_uri": "https://localhost:8080/"
        }
      },
      "outputs": [
        {
          "output_type": "stream",
          "name": "stdout",
          "text": [
            "Prediction:-0.19999999999999996\n",
            "Prediction:0.52\n",
            "Prediction:-0.2119999999999999\n",
            "Prediction:-0.5588\n",
            "Prediction:0.07708000000000004\n",
            "Prediction:0.572292\n",
            "Prediction:0.5150628\n",
            "Prediction:0.2785720000000001\n",
            "Prediction:0.22507132000000002\n",
            "Prediction:0.380057056\n",
            "Prediction:0.7030436824\n",
            "Prediction:0.0\n",
            "Prediction:1.09508407656\n",
            "Prediction:0.0\n",
            "Error:7.78333509587159\n",
            "\n",
            "Prediction:0.34332794708799996\n",
            "Prediction:0.5175015976352\n",
            "Prediction:0.22291219790688\n",
            "Prediction:-0.165130459755488\n",
            "Prediction:0.6746134927240608\n",
            "Prediction:0.7557695572315939\n",
            "Prediction:0.6801926015084345\n",
            "Prediction:0.5273814550286466\n",
            "Prediction:0.6433564328023811\n",
            "Prediction:0.7146851462419048\n",
            "Prediction:0.7763691834531624\n",
            "Prediction:0.0\n",
            "Prediction:1.2848332712263348\n",
            "Prediction:0.0\n",
            "Error:4.744288331517291\n",
            "\n",
            "Prediction:0.4291343518732218\n",
            "Prediction:0.41932531026817166\n",
            "Prediction:0.3013749504717603\n",
            "Prediction:-0.006155323816770253\n",
            "Prediction:0.8647091465501194\n",
            "Prediction:0.7837780233302007\n",
            "Prediction:0.7054002209971807\n",
            "Prediction:0.5552445781040733\n",
            "Prediction:0.7873250349969501\n",
            "Prediction:0.8298600279975601\n",
            "Prediction:0.7731416925980116\n",
            "Prediction:0.0\n",
            "Prediction:1.278304679522018\n",
            "Prediction:0.0\n",
            "Error:4.0912091165405755\n",
            "\n",
            "Prediction:0.426816220279404\n",
            "Prediction:0.32121873640362897\n",
            "Prediction:0.3093311025831603\n",
            "Prediction:0.08930112956157825\n",
            "Prediction:0.948368071991429\n",
            "Prediction:0.7731602481868657\n",
            "Prediction:0.6958442233681791\n",
            "Prediction:0.5436979619112275\n",
            "Prediction:0.857424214246516\n",
            "Prediction:0.8859393713972128\n",
            "Prediction:0.7519234424669883\n",
            "Prediction:0.0\n",
            "Prediction:1.2373531091848986\n",
            "Prediction:0.0\n",
            "Error:3.731526515115992\n",
            "\n",
            "Prediction:0.41315138912762944\n",
            "Prediction:0.23874350648257447\n",
            "Prediction:0.3066467606538461\n",
            "Prediction:0.16111292875414446\n",
            "Prediction:0.9979974231805295\n",
            "Prediction:0.7531960449837466\n",
            "Prediction:0.6778764404853719\n",
            "Prediction:0.5294063733296095\n",
            "Prediction:0.9023500526645507\n",
            "Prediction:0.9218800421316407\n",
            "Prediction:0.7276657869572155\n",
            "Prediction:0.0\n",
            "Prediction:1.1960012974455625\n",
            "Prediction:0.0\n",
            "Error:3.491726425476346\n",
            "\n",
            "Prediction:0.40190182969495597\n",
            "Prediction:0.17147352972191965\n",
            "Prediction:0.30437411078377286\n",
            "Prediction:0.21961052295566785\n",
            "Prediction:1.0329485491770387\n",
            "Prediction:0.7320042235992338\n",
            "Prediction:0.6588038012393104\n",
            "Prediction:0.5182433814137476\n",
            "Prediction:0.9354536987164017\n",
            "Prediction:0.9483629589731213\n",
            "Prediction:0.7045417553464269\n",
            "Prediction:0.0\n",
            "Prediction:1.16030061917383\n",
            "Prediction:0.0\n",
            "Error:3.3255626762814168\n",
            "\n",
            "Prediction:0.3941529155272797\n",
            "Prediction:0.11661907405986466\n",
            "Prediction:0.30366042501583734\n",
            "Prediction:0.2683372158603754\n",
            "Prediction:1.059561012168739\n",
            "Prediction:0.7121014166775274\n",
            "Prediction:0.6408912750097746\n",
            "Prediction:0.5101385172097583\n",
            "Prediction:0.9613356888452853\n",
            "Prediction:0.9690685510762282\n",
            "Prediction:0.6837617235166459\n",
            "Prediction:0.0\n",
            "Prediction:1.1304559409406365\n",
            "Prediction:0.0\n",
            "Error:3.2084891710765504\n",
            "\n",
            "Prediction:0.3889792015875281\n",
            "Prediction:0.07163375817850215\n",
            "Prediction:0.30401998545217224\n",
            "Prediction:0.3091476045463031\n",
            "Prediction:1.0805728011625904\n",
            "Prediction:0.6942826769546585\n",
            "Prediction:0.6248544092591927\n",
            "Prediction:0.5042439477908485\n",
            "Prediction:0.9821201375296023\n",
            "Prediction:0.9856961100236818\n",
            "Prediction:0.665587343577945\n",
            "Prediction:0.0\n",
            "Prediction:1.105642142697501\n",
            "Prediction:0.0\n",
            "Error:3.125134390314424\n",
            "\n",
            "Prediction:0.3854851049378502\n",
            "Prediction:0.034531264272814735\n",
            "Prediction:0.3049349575229987\n",
            "Prediction:0.34336332392516555\n",
            "Prediction:1.0974913864830493\n",
            "Prediction:0.6787152563020955\n",
            "Prediction:0.6108437306718859\n",
            "Prediction:0.4998624949775774\n",
            "Prediction:0.9990509609912835\n",
            "Prediction:0.9992407687930268\n",
            "Prediction:0.6499301846262662\n",
            "Prediction:0.0\n",
            "Prediction:1.0849979891672703\n",
            "Prediction:0.0\n",
            "Error:3.065317408304923\n",
            "\n",
            "Prediction:0.3830612251701768\n",
            "Prediction:0.00379247116173094\n",
            "Prediction:0.3060697330199683\n",
            "Prediction:0.37204953567241367\n",
            "Prediction:1.111281949352085\n",
            "Prediction:0.6653091723117041\n",
            "Prediction:0.5987782550805336\n",
            "Prediction:0.4965226379135248\n",
            "Prediction:1.0129645529510916\n",
            "Prediction:1.0103716423608733\n",
            "Prediction:0.6365668100412838\n",
            "Prediction:0.0\n",
            "Prediction:1.0677946198367787\n",
            "Prediction:0.0\n",
            "Error:3.0221003163579754\n",
            "\n",
            "Prediction:0.3813255668322676\n",
            "Prediction:-0.021758031714696112\n",
            "Prediction:0.30723625663728366\n",
            "Prediction:0.3960948595167818\n",
            "Prediction:1.1226160406185812\n",
            "Prediction:0.6538690629916194\n",
            "Prediction:0.5884821566924574\n",
            "Prediction:0.4939179152962907\n",
            "Prediction:1.0244659189968282\n",
            "Prediction:1.0195727351974626\n",
            "Prediction:0.6252300756037826\n",
            "Prediction:0.0\n",
            "Prediction:1.0534375348610079\n",
            "Prediction:0.0\n",
            "Error:2.990676649569105\n",
            "\n",
            "Prediction:0.3800429598454019\n",
            "Prediction:-0.04304569520722492\n",
            "Prediction:0.308338937397044\n",
            "Prediction:0.416246169343842\n",
            "Prediction:1.1319848669667614\n",
            "Prediction:0.6441648278606275\n",
            "Prediction:0.5797483450745647\n",
            "Prediction:0.49184804628657486\n",
            "Prediction:1.0340117716512325\n",
            "Prediction:1.027209417320986\n",
            "Prediction:0.6156513916698865\n",
            "Prediction:0.0\n",
            "Prediction:1.041442570634936\n",
            "Prediction:0.0\n",
            "Error:2.967681920583079\n",
            "\n",
            "Prediction:0.3790678040050509\n",
            "Prediction:-0.06081086151886299\n",
            "Prediction:0.309335329355927\n",
            "Prediction:0.433131571787311\n",
            "Prediction:1.1397604100479841\n",
            "Prediction:0.6359659544346058\n",
            "Prediction:0.5723693589911452\n",
            "Prediction:0.4901790653012121\n",
            "Prediction:1.0419568901656908\n",
            "Prediction:1.0335655121325527\n",
            "Prediction:0.6075801828622063\n",
            "Prediction:0.0\n",
            "Prediction:1.0314131765871308\n",
            "Prediction:0.0\n",
            "Error:2.950744136480852\n",
            "\n",
            "Prediction:0.37830837669371914\n",
            "Prediction:-0.07565337016077558\n",
            "Prediction:0.3102120383710529\n",
            "Prediction:0.4472788676786456\n",
            "Prediction:1.1462318278280537\n",
            "Prediction:0.6290576641344672\n",
            "Prediction:0.5661518977210205\n",
            "Prediction:0.4888185611461724\n",
            "Prediction:1.048582649962277\n",
            "Prediction:1.0388661199698215\n",
            "Prediction:0.6007918309557087\n",
            "Prediction:0.0\n",
            "Prediction:1.0230226197838659\n",
            "Prediction:0.0\n",
            "Error:2.9381818486767437\n",
            "\n",
            "Prediction:0.3777054479669549\n",
            "Prediction:-0.08806389987150263\n",
            "Prediction:0.31097074836071414\n",
            "Prediction:0.4591311834089951\n",
            "Prediction:1.151628450949847\n",
            "Prediction:0.6232475407867666\n",
            "Prediction:0.5609227867080899\n",
            "Prediction:0.4877006352526872\n",
            "Prediction:1.0541156644851233\n",
            "Prediction:1.0432925315880985\n",
            "Prediction:0.5950896884299587\n",
            "Prediction:0.0\n",
            "Prediction:1.0160004081817904\n",
            "Prediction:0.0\n",
            "Error:2.928797557263616\n",
            "\n",
            "Prediction:0.37721960695846957\n",
            "Prediction:-0.09844664975971851\n",
            "Prediction:0.31162035054274745\n",
            "Prediction:0.46906030027221934\n",
            "Prediction:1.156134949013781\n",
            "Prediction:0.6183671838674057\n",
            "Prediction:0.5565304654806652\n",
            "Prediction:0.4867767555055979\n",
            "Prediction:1.0587405187256582\n",
            "Prediction:1.0469924149805265\n",
            "Prediction:0.5903041255619802\n",
            "Prediction:0.0\n",
            "Prediction:1.010121824039642\n",
            "Prediction:0.0\n",
            "Error:2.9217347118510095\n",
            "\n",
            "Prediction:0.3768237462259314\n",
            "Prediction:-0.10713625241513855\n",
            "Prediction:0.31217262222225894\n",
            "Prediction:0.47737798717365776\n",
            "Prediction:1.15990171905811\n",
            "Prediction:0.614271358696007\n",
            "Prediction:0.5528442228264063\n",
            "Prediction:0.48601012715463043\n",
            "Prediction:1.0626088043787836\n",
            "Prediction:1.050087043503027\n",
            "Prediction:0.5862902157555847\n",
            "Prediction:0.0\n",
            "Prediction:1.0051997111155495\n",
            "Prediction:0.0\n",
            "Error:2.9163779737289843\n",
            "\n",
            "Prediction:0.37649857471241344\n",
            "Prediction:-0.11441073069410994\n",
            "Prediction:0.3126399328393417\n",
            "Prediction:0.4843455971801065\n",
            "Prediction:1.163052260530567\n",
            "Prediction:0.6108359970154145\n",
            "Prediction:0.549752397313873\n",
            "Prediction:0.48537216050040605\n",
            "Prediction:1.0658457529414842\n",
            "Prediction:1.0526766023531875\n",
            "Prediction:0.5829249220530185\n",
            "Prediction:0.0\n",
            "Prediction:1.0010779227185742\n",
            "Prediction:0.0\n",
            "Error:2.9122832801382392\n",
            "\n",
            "Prediction:0.37622990832714287\n",
            "Prediction:-0.12050165006324542\n",
            "Prediction:0.3130340916680388\n",
            "Prediction:0.4901821675581558\n",
            "Prediction:1.1656885883781993\n",
            "Prediction:0.6079557787380393\n",
            "Prediction:0.5471602008642353\n",
            "Prediction:0.4848401977407956\n",
            "Prediction:1.0685552529682525\n",
            "Prediction:1.054844202374602\n",
            "Prediction:0.5801042352435264\n",
            "Prediction:0.0\n",
            "Prediction:0.9976260243775248\n",
            "Prediction:0.0\n",
            "Error:2.9091286095845894\n",
            "\n",
            "Prediction:0.376007007782846\n",
            "Prediction:-0.1256022172138414\n",
            "Prediction:0.313365827947661\n",
            "Prediction:0.49507124064535213\n",
            "Prediction:1.1678953258622382\n",
            "Prediction:0.6055416766951974\n",
            "Prediction:0.5449875090256777\n",
            "Prediction:0.48439600570736974\n",
            "Prediction:1.0708237415469661\n",
            "Prediction:1.056658993237573\n",
            "Prediction:0.5777404846446561\n",
            "Prediction:0.0\n",
            "Prediction:0.9947349672676324\n",
            "Prediction:0.0\n",
            "Error:2.906679207832607\n",
            "\n",
            "Prediction:0.37582153763391546\n",
            "Prediction:-0.12987382934811514\n",
            "Prediction:0.31364461304194385\n",
            "Prediction:0.49916659815105313\n",
            "Prediction:1.1697428777893752\n",
            "Prediction:0.6035186516744898\n",
            "Prediction:0.5431667865070409\n",
            "Prediction:0.4840247428395123\n",
            "Prediction:1.0727232841293959\n",
            "Prediction:1.0581786273035168\n",
            "Prediction:0.5757599167130455\n",
            "Prediction:0.0\n",
            "Prediction:0.9923135281700595\n",
            "Prediction:0.0\n",
            "Error:2.9047629562693693\n",
            "\n",
            "Prediction:0.3756668974943067\n",
            "Prediction:-0.13345142456788586\n",
            "Prediction:0.313878660452234\n",
            "Prediction:0.5025970765181078\n",
            "Prediction:1.171289941091032\n",
            "Prediction:0.6018235781156318\n",
            "Prediction:0.5416412203040686\n",
            "Prediction:0.48371422660087315\n",
            "Prediction:1.0743140503707682\n",
            "Prediction:1.0594512402966145\n",
            "Prediction:0.5741005692069234\n",
            "Prediction:0.0\n",
            "Prediction:0.9902853645001912\n",
            "Prediction:0.0\n",
            "Error:2.903252875846721\n",
            "\n",
            "Prediction:0.375537779313922\n",
            "Prediction:-0.13644788519781934\n",
            "Prediction:0.3140750119709195\n",
            "Prediction:0.505470607451865\n",
            "Prediction:1.1725855225428905\n",
            "Prediction:0.6004034235819229\n",
            "Prediction:0.5403630812237306\n",
            "Prediction:0.48345439657726014\n",
            "Prediction:1.0756463278960209\n",
            "Prediction:1.0605170623168167\n",
            "Prediction:0.5727104340800737\n",
            "Prediction:0.0\n",
            "Prediction:0.9885865689125907\n",
            "Prediction:0.0\n",
            "Error:2.902054663984869\n",
            "\n",
            "Prediction:0.3754298644580062\n",
            "Prediction:-0.13895768086991506\n",
            "Prediction:0.31423965965339645\n",
            "Prediction:0.5078776064709803\n",
            "Prediction:1.1736705796046896\n",
            "Prediction:0.5992136758203382\n",
            "Prediction:0.5392923082383044\n",
            "Prediction:0.4832369091151501\n",
            "Prediction:1.0767621743663724\n",
            "Prediction:1.0614097394930977\n",
            "Prediction:0.571545886028527\n",
            "Prediction:0.0\n",
            "Prediction:0.9871636333318473\n",
            "Prediction:0.0\n",
            "Error:2.901097789501009\n",
            "\n",
            "Prediction:0.3753396092398036\n",
            "Prediction:-0.14105989391694332\n",
            "Prediction:0.3143776767835371\n",
            "Prediction:0.5098938136304324\n",
            "Prediction:1.1745793663598787\n",
            "Prediction:0.5982169974565017\n",
            "Prediction:0.5383952977108515\n",
            "Prediction:0.48305482342779865\n",
            "Prediction:1.0776967812283877\n",
            "Prediction:1.0621574249827104\n",
            "Prediction:0.5705703473186565\n",
            "Prediction:0.0\n",
            "Prediction:0.9859717507079199\n",
            "Prediction:0.0\n",
            "Error:2.9003291084373664\n",
            "\n",
            "Prediction:0.3752640879795451\n",
            "Prediction:-0.14282073841512907\n",
            "Prediction:0.31449334422514896\n",
            "Prediction:0.5115826743762503\n",
            "Prediction:1.175340544454624\n",
            "Prediction:0.5973820830705364\n",
            "Prediction:0.5376438747634827\n",
            "Prediction:0.4829023534970318\n",
            "Prediction:1.0784796044305942\n",
            "Prediction:1.0627836835444753\n",
            "Prediction:0.5697531584896275\n",
            "Prediction:0.0\n",
            "Prediction:0.9849733966407832\n",
            "Prediction:0.0\n",
            "Error:2.8997082700588366\n",
            "\n",
            "Prediction:0.3752008746719619\n",
            "Prediction:-0.14429566147710876\n",
            "Prediction:0.3145902658852804\n",
            "Prediction:0.5129973346261502\n",
            "Prediction:1.1759781041401216\n",
            "Prediction:0.5966826925625742\n",
            "Prediction:0.5370144233063168\n",
            "Prediction:0.48277466883159703\n",
            "Prediction:1.0791353048420484\n",
            "Prediction:1.0633082438736388\n",
            "Prediction:0.5690686261041163\n",
            "Prediction:0.0\n",
            "Prediction:0.9841371436874136\n",
            "Prediction:0.0\n",
            "Error:2.899204397241477\n",
            "\n",
            "Prediction:0.3751479514562262\n",
            "Prediction:-0.1455310983154496\n",
            "Prediction:0.3146714709965259\n",
            "Prediction:0.5141823123807779\n",
            "Prediction:1.1765121302676635\n",
            "Prediction:0.596096836098197\n",
            "Prediction:0.5364871524883773\n",
            "Prediction:0.4826677325323766\n",
            "Prediction:1.0796845321022357\n",
            "Prediction:1.0637476256817886\n",
            "Prediction:0.5684952214611372\n",
            "Prediction:0.0\n",
            "Prediction:0.9834366695625223\n",
            "Prediction:0.0\n",
            "Error:2.8987936765561173\n",
            "\n",
            "Prediction:0.3751036363349944\n",
            "Prediction:-0.14656593942654658\n",
            "Prediction:0.3147395030106502\n",
            "Prediction:0.5151748981934771\n",
            "Prediction:1.1769594407329005\n",
            "Prediction:0.5956060882854812\n",
            "Prediction:0.5360454794569331\n",
            "Prediction:0.4825781685158824\n",
            "Prediction:1.0801445789604909\n",
            "Prediction:1.0641156631683928\n",
            "Prediction:0.5680149072983516\n",
            "Prediction:0.0\n",
            "Prediction:0.982849927168334\n",
            "Prediction:0.0\n",
            "Error:2.898457599710102\n",
            "\n",
            "Prediction:0.37506652516615074\n",
            "Prediction:-0.14743275786999366\n",
            "Prediction:0.31479649591992\n",
            "Prediction:0.5160063284109223\n",
            "Prediction:1.1773341194215132\n",
            "Prediction:0.5951950119095318\n",
            "Prediction:0.5356755107185787\n",
            "Prediction:0.48250315195269255\n",
            "Prediction:1.0805299280791303\n",
            "Prediction:1.0644239424633044\n",
            "Prediction:0.5676125725924773\n",
            "Prediction:0.0\n",
            "Prediction:0.9823584498411402\n",
            "Prediction:0.0\n",
            "Error:2.898181672990035\n",
            "\n",
            "Prediction:0.37503544453968257\n",
            "Prediction:-0.14815883630833784\n",
            "Prediction:0.3148442392625798\n",
            "Prediction:0.5167027680138259\n",
            "Prediction:1.1776479615615587\n",
            "Prediction:0.5948506741929597\n",
            "Prediction:0.5353656067736637\n",
            "Prediction:0.48244031845252533\n",
            "Prediction:1.0808527093073321\n",
            "Prediction:1.0646821674458657\n",
            "Prediction:0.5672755584209777\n",
            "Prediction:0.0\n",
            "Prediction:0.9819467696655804\n",
            "Prediction:0.0\n",
            "Error:2.897954464279879\n",
            "\n",
            "Prediction:0.3750094131535844\n",
            "Prediction:-0.14876702673093106\n",
            "Prediction:0.3148842331959606\n",
            "Prediction:0.5172861339342025\n",
            "Prediction:1.177910846153104\n",
            "Prediction:0.5945622409970114\n",
            "Prediction:0.5351060168973103\n",
            "Prediction:0.4823876885480378\n",
            "Prediction:1.0811230822782474\n",
            "Prediction:1.064898465822598\n",
            "Prediction:0.5669932603974948\n",
            "Prediction:0.0\n",
            "Prediction:0.981601930386091\n",
            "Prediction:0.0\n",
            "Error:2.8977668946490973\n",
            "\n",
            "Prediction:0.3749876099511275\n",
            "Prediction:-0.14927647026595967\n",
            "Prediction:0.314917734987498\n",
            "Prediction:0.5177747847281119\n",
            "Prediction:1.1781310475744369\n",
            "Prediction:0.5943206365616924\n",
            "Prediction:0.5348885729055232\n",
            "Prediction:0.4823436047597436\n",
            "Prediction:1.0813495566368536\n",
            "Prediction:1.0650796453094828\n",
            "Prediction:0.5667567954203372\n",
            "Prediction:0.0\n",
            "Prediction:0.9813130794914646\n",
            "Prediction:0.0\n",
            "Error:2.8976117080013166\n",
            "\n",
            "Prediction:0.3749693477148683\n",
            "Prediction:-0.14970319993472114\n",
            "Prediction:0.3149457981653667\n",
            "Prediction:0.518184098290079\n",
            "Prediction:1.178315496390228\n",
            "Prediction:0.5941182582901342\n",
            "Prediction:0.5347064324611208\n",
            "Prediction:0.48230667906426267\n",
            "Prediction:1.0815392601306308\n",
            "Prediction:1.0652314081045047\n",
            "Prediction:0.5665587223914952\n",
            "Prediction:0.0\n",
            "Prediction:0.9810711265802423\n",
            "Prediction:0.0\n",
            "Error:2.897483071067672\n",
            "\n",
            "Prediction:0.37495405111184815\n",
            "Prediction:-0.150060645433421\n",
            "Prediction:0.31496930543282065\n",
            "Prediction:0.5185269557796175\n",
            "Prediction:1.1784699976959772\n",
            "Prediction:0.5939487377247238\n",
            "Prediction:0.5345538639522514\n",
            "Prediction:0.48227574899869713\n",
            "Prediction:1.0816981630892146\n",
            "Prediction:1.0653585304713717\n",
            "Prediction:0.5663928082009676\n",
            "Prediction:0.0\n",
            "Prediction:0.9808684572237699\n",
            "Prediction:0.0\n",
            "Error:2.897376269385915\n",
            "\n",
            "Prediction:0.3749412383981451\n",
            "Prediction:-0.15036005589542217\n",
            "Prediction:0.3149889963080583\n",
            "Prediction:0.5188141469831324\n",
            "Prediction:1.1785994139433131\n",
            "Prediction:0.5938067402641626\n",
            "Prediction:0.5344260662377464\n",
            "Prediction:0.4822498409538021\n",
            "Prediction:1.0818312664090795\n",
            "Prediction:1.0654650131272634\n",
            "Prediction:0.5662538316603374\n",
            "Prediction:0.0\n",
            "Prediction:0.980698693303711\n",
            "Prediction:0.0\n",
            "Error:2.8972874744212835\n",
            "\n",
            "Prediction:0.3749305061486652\n",
            "Prediction:-0.15061085397730362\n",
            "Prediction:0.3150054903166625\n",
            "Prediction:0.5190547098645695\n",
            "Prediction:1.178707818042045\n",
            "Prediction:0.593687797359728\n",
            "Prediction:0.5343190176237552\n",
            "Prediction:0.48222813946266846\n",
            "Prediction:1.081942758989021\n",
            "Prediction:1.0655542071912167\n",
            "Prediction:0.566137419243356\n",
            "Prediction:0.0\n",
            "Prediction:0.9805564922711315\n",
            "Prediction:0.0\n",
            "Error:2.8972135637809817\n",
            "\n",
            "Prediction:0.37492151649788474\n",
            "Prediction:-0.15082093243440797\n",
            "Prediction:0.3150193064417486\n",
            "Prediction:0.5192562149885409\n",
            "Prediction:1.1787986215815942\n",
            "Prediction:0.593588165933748\n",
            "Prediction:0.5342293493403731\n",
            "Prediction:0.4822099614963854\n",
            "Prediction:1.0820361495882247\n",
            "Prediction:1.0656289196705797\n",
            "Prediction:0.5660399074804554\n",
            "Prediction:0.0\n",
            "Prediction:0.9804373790036376\n",
            "Prediction:0.0\n",
            "Error:2.8971519813426596\n",
            "\n",
            "Prediction:0.3749139864705003\n",
            "Prediction:-0.15099690253219436\n",
            "Prediction:0.3150308794296197\n",
            "Prediction:0.5194250037656326\n",
            "Prediction:1.1788746822211156\n",
            "Prediction:0.5935047106099346\n",
            "Prediction:0.5341542395489411\n",
            "Prediction:0.48219473494502096\n",
            "Prediction:1.0821143772665027\n",
            "Prediction:1.0656915018132023\n",
            "Prediction:0.5659582276860766\n",
            "Prediction:0.0\n",
            "Prediction:0.9803376049655153\n",
            "Prediction:0.0\n",
            "Error:2.8971006276171964\n",
            "\n",
            "Prediction:0.37490767905494327\n",
            "Prediction:-0.15114430211848484\n",
            "Prediction:0.3150405734558031\n",
            "Prediction:0.5195663880168592\n",
            "Prediction:1.1789383936360907\n",
            "Prediction:0.5934348050573083\n",
            "Prediction:0.5340913245515775\n",
            "Prediction:0.4821819805993475\n",
            "Prediction:1.082179903888049\n",
            "Prediction:1.0657439231104393\n",
            "Prediction:0.5658898093965709\n",
            "Prediction:0.0\n",
            "Prediction:0.980254030236543\n",
            "Prediction:0.0\n",
            "Error:2.8970577731920986\n",
            "\n",
            "Prediction:0.37490239573232054\n",
            "Prediction:-0.15126776990903776\n",
            "Prediction:0.31504869357676024\n",
            "Prediction:0.5196848171372181\n",
            "Prediction:1.1789917608567557\n",
            "Prediction:0.5933762493475839\n",
            "Prediction:0.5340386244128256\n",
            "Prediction:0.48217129706201073\n",
            "Prediction:1.0822347916031627\n",
            "Prediction:1.0657878332825301\n",
            "Prediction:0.5658324994829738\n",
            "Prediction:0.0\n",
            "Prediction:0.9801840246957156\n",
            "Prediction:0.0\n",
            "Error:2.8970219899329472\n",
            "\n",
            "Prediction:0.37489797022189614\n",
            "Prediction:-0.15137119147377226\n",
            "Prediction:0.3150554953248941\n",
            "Prediction:0.5197840181187997\n",
            "Prediction:1.1790364633720247\n",
            "Prediction:0.5933272007279025\n",
            "Prediction:0.5339944806551122\n",
            "Prediction:0.48216234811083286\n",
            "Prediction:1.0822807677482351\n",
            "Prediction:1.065824614198588\n",
            "Prediction:0.5657844943949186\n",
            "Prediction:0.0\n",
            "Prediction:0.9801253852494107\n",
            "Prediction:0.0\n",
            "Error:2.896992095954453\n",
            "\n",
            "Prediction:0.3748942632441018\n",
            "Prediction:-0.15145782151931897\n",
            "Prediction:0.3150611927472134\n",
            "Prediction:0.5198671128398791\n",
            "Prediction:1.1790739079863768\n",
            "Prediction:0.593286115631848\n",
            "Prediction:0.5339575040686632\n",
            "Prediction:0.4821548521151451\n",
            "Prediction:1.0823192792075358\n",
            "Prediction:1.0658554233660287\n",
            "Prediction:0.5657442834044404\n",
            "Prediction:0.0\n",
            "Prediction:0.9800762664987559\n",
            "Prediction:0.0\n",
            "Error:2.8969671113499453\n",
            "\n",
            "Prediction:0.37489115813500845\n",
            "Prediction:-0.15153038631699936\n",
            "Prediction:0.3150659651397067\n",
            "Prediction:0.5199367163110354\n",
            "Prediction:1.1791052730940526\n",
            "Prediction:0.5932517011047155\n",
            "Prediction:0.5339265309942439\n",
            "Prediction:0.48214857317125653\n",
            "Prediction:1.0823515379482205\n",
            "Prediction:1.0658812303585763\n",
            "Prediction:0.5657106010641397\n",
            "Prediction:0.0\n",
            "Prediction:0.9800351226640514\n",
            "Prediction:0.0\n",
            "Error:2.8969462223883986\n",
            "\n",
            "Prediction:0.37488855717351527\n",
            "Prediction:-0.1515911695001524\n",
            "Prediction:0.3150699626888275\n",
            "Prediction:0.5199950189700818\n",
            "Prediction:1.179131545764394\n",
            "Prediction:0.5932228741148812\n",
            "Prediction:0.533900586703393\n",
            "Prediction:0.4821433136776143\n",
            "Prediction:1.0823785591619264\n",
            "Prediction:1.065902847329541\n",
            "Prediction:0.565682387383907\n",
            "Prediction:0.0\n",
            "Prediction:0.980000658938461\n",
            "Prediction:0.0\n",
            "Error:2.8969287524223875\n",
            "\n",
            "Prediction:0.3748863785052525\n",
            "Prediction:-0.1516420839311527\n",
            "Prediction:0.3150733111973173\n",
            "Prediction:0.5200438556156229\n",
            "Prediction:1.1791535528057309\n",
            "Prediction:0.593198727471097\n",
            "Prediction:0.5338788547239873\n",
            "Prediction:0.4821389081157184\n",
            "Prediction:1.0824011932135043\n",
            "Prediction:1.0659209545708035\n",
            "Prediction:0.5656587544731578\n",
            "Prediction:0.0\n",
            "Prediction:0.9799717907399861\n",
            "Prediction:0.0\n",
            "Error:2.89691413814948\n",
            "\n",
            "Prediction:0.3748845535661468\n",
            "Prediction:-0.1516847318999543\n",
            "Prediction:0.31507611604291286\n",
            "Prediction:0.5200847631485804\n",
            "Prediction:1.179171986785566\n",
            "Prediction:0.5931785012732869\n",
            "Prediction:0.5338606511459582\n",
            "Prediction:0.4821352178409156\n",
            "Prediction:1.0824201524024366\n",
            "Prediction:1.0659361219219492\n",
            "Prediction:0.5656389585989238\n",
            "Prediction:0.0\n",
            "Prediction:0.9799476095793254\n",
            "Prediction:0.0\n",
            "Error:2.8969019101699103\n",
            "\n",
            "Prediction:0.3748830249244289\n",
            "Prediction:-0.15172045554871713\n",
            "Prediction:0.3150784654944148\n",
            "Prediction:0.5201190289388188\n",
            "Prediction:1.1791874278260357\n",
            "Prediction:0.5931615589984953\n",
            "Prediction:0.5338454030986458\n",
            "Prediction:0.4821321267190464\n",
            "Prediction:1.08243603337921\n",
            "Prediction:1.065948826703368\n",
            "Prediction:0.5656223767805235\n",
            "Prediction:0.0\n",
            "Prediction:0.9799273544694505\n",
            "Prediction:0.0\n",
            "Error:2.8968916770110846\n",
            "\n",
            "Prediction:0.37488174447308925\n",
            "Prediction:-0.15175037910944553\n",
            "Prediction:0.31508043348941595\n",
            "Prediction:0.5201477313389754\n",
            "Prediction:1.179200361860604\n",
            "Prediction:0.5931473674694657\n",
            "Prediction:0.5338326307225192\n",
            "Prediction:0.48212953747157483\n",
            "Prediction:1.082449335922127\n",
            "Prediction:1.0659594687377019\n",
            "Prediction:0.5656084871842844\n",
            "Prediction:0.0\n",
            "Prediction:0.9799103879771329\n",
            "Prediction:0.0\n",
            "Error:2.896883111963511\n",
            "\n",
            "Prediction:0.3748806719158504\n",
            "Prediction:-0.1517754442838984\n",
            "Prediction:0.3150820819610701\n",
            "Prediction:0.5201717736204717\n",
            "Prediction:1.1792111959265672\n",
            "Prediction:0.5931354800754859\n",
            "Prediction:0.5338219320679373\n",
            "Prediction:0.4821273686141523\n",
            "Prediction:1.082460478665496\n",
            "Prediction:1.065968382932397\n",
            "Prediction:0.5655968527013543\n",
            "Prediction:0.0\n",
            "Prediction:0.9798961761627514\n",
            "Prediction:0.0\n",
            "Error:2.8968759422067514\n",
            "\n",
            "Prediction:0.3748797734989822\n",
            "Prediction:-0.15179643987920416\n",
            "Prediction:0.3150834627871062\n",
            "Prediction:0.5201919123996793\n",
            "Prediction:1.179220270974655\n",
            "Prediction:0.5931255227174782\n",
            "Prediction:0.5338129704457304\n",
            "Prediction:0.48212555189225154\n",
            "Prediction:1.082469812274178\n",
            "Prediction:1.0659758498193423\n",
            "Prediction:0.5655871071918053\n",
            "Prediction:0.0\n",
            "Prediction:0.9798842717770739\n",
            "Prediction:0.0\n",
            "Error:2.896869939808025\n",
            "\n",
            "Prediction:0.37487902094903436\n",
            "Prediction:-0.15181402663183036\n",
            "Prediction:0.3150846194224105\n",
            "Prediction:0.5202087814488168\n",
            "Prediction:1.1792278725988523\n",
            "Prediction:0.593117182035032\n",
            "Prediction:0.5338054638315288\n",
            "Prediction:0.48212403013316146\n",
            "Prediction:1.0824776304791097\n",
            "Prediction:1.0659821043832878\n",
            "Prediction:0.5655789439621363\n",
            "Prediction:0.0\n",
            "Prediction:0.979874300186212\n",
            "Prediction:0.0\n",
            "Error:2.896864914257459\n",
            "\n",
            "Prediction:0.37487839058304695\n",
            "Prediction:-0.15182875800113038\n",
            "Prediction:0.31508558826655064\n",
            "Prediction:0.5202229116409129\n",
            "Prediction:1.179234240024123\n",
            "Prediction:0.5931101955448891\n",
            "Prediction:0.5337991759904002\n",
            "Prediction:0.4821227554467369\n",
            "Prediction:1.0824841793210958\n",
            "Prediction:1.0659873434568765\n",
            "Prediction:0.5655721061135628\n",
            "Prediction:0.0\n",
            "Prediction:0.9798659475817989\n",
            "Prediction:0.0\n",
            "Error:2.896860706268062\n",
            "\n",
            "Prediction:0.3748778625632325\n",
            "Prediction:-0.15184109758684924\n",
            "Prediction:0.31508639980927095\n",
            "Prediction:0.5202347476565081\n",
            "Prediction:1.179239573634884\n",
            "Prediction:0.5931043433805383\n",
            "Prediction:0.5337939090424845\n",
            "Prediction:0.48212168771827746\n",
            "Prediction:1.0824896648937772\n",
            "Prediction:1.0659917319150218\n",
            "Prediction:0.5655663784573562\n",
            "Prediction:0.0\n",
            "Prediction:0.9798589511053626\n",
            "Prediction:0.0\n",
            "Error:2.8968571826193443\n",
            "\n",
            "Prediction:0.3748774202726695\n",
            "Prediction:-0.1518514337187224\n",
            "Prediction:0.3150870795900078\n",
            "Prediction:0.5202446619778572\n",
            "Prediction:1.179244041281156\n",
            "Prediction:0.5930994413729688\n",
            "Prediction:0.5337894972356719\n",
            "Prediction:0.482120793346105\n",
            "Prediction:1.0824942598294502\n",
            "Prediction:1.0659954078635603\n",
            "Prediction:0.5655615807428037\n",
            "Prediction:0.0\n",
            "Prediction:0.9798530905761063\n",
            "Prediction:0.0\n",
            "Error:2.896854231864094\n",
            "\n",
            "Prediction:0.3748770497923617\n",
            "Prediction:-0.15186009167730824\n",
            "Prediction:0.31508764900162023\n",
            "Prediction:0.5202529666110356\n",
            "Prediction:1.1792477835608448\n",
            "Prediction:0.5930953352548282\n",
            "Prediction:0.5337858017293453\n",
            "Prediction:0.48212004418410803\n",
            "Prediction:1.0824981087318475\n",
            "Prediction:1.065998486985478\n",
            "Prediction:0.5655575619846782\n",
            "Prediction:0.0\n",
            "Prediction:0.9798481815617643\n",
            "Prediction:0.0\n",
            "Error:2.896851760750421\n",
            "\n",
            "Prediction:0.374876739463201\n",
            "Prediction:-0.15186734393064677\n",
            "Prediction:0.3150881259636255\n",
            "Prediction:0.520259922904845\n",
            "Prediction:1.1792509182443944\n",
            "Prediction:0.5930918958055945\n",
            "Prediction:0.5337827062250351\n",
            "Prediction:0.48211941665597646\n",
            "Prediction:1.0825013327268551\n",
            "Prediction:1.066001066181484\n",
            "Prediction:0.5655541957116977\n",
            "Prediction:0.0\n",
            "Prediction:0.9798440695744752\n",
            "Prediction:0.0\n",
            "Error:2.896849691237506\n",
            "\n",
            "Prediction:0.37487647951905223\n",
            "Prediction:-0.15187341870889506\n",
            "Prediction:0.31508852548613125\n",
            "Prediction:0.5202657497755236\n",
            "Prediction:1.1792535439810519\n",
            "Prediction:0.5930890147849753\n",
            "Prediction:0.5337801133064778\n",
            "Prediction:0.48211889101324745\n",
            "Prediction:1.0825040332743714\n",
            "Prediction:1.066003226619497\n",
            "Prediction:0.5655513759864432\n",
            "Prediction:0.0\n",
            "Prediction:0.9798406252090099\n",
            "Prediction:0.0\n",
            "Error:2.8968479580048316\n",
            "\n",
            "Prediction:0.374876261779409\n",
            "Prediction:-0.1518785071867853\n",
            "Prediction:0.31508886014220583\n",
            "Prediction:0.520270630596092\n",
            "Prediction:1.1792557434033808\n",
            "Prediction:0.5930866015265599\n",
            "Prediction:0.5337779413739039\n",
            "Prediction:0.4821184507138175\n",
            "Prediction:1.0825062953612765\n",
            "Prediction:1.0660050362890212\n",
            "Prediction:0.5655490140714837\n",
            "Prediction:0.0\n",
            "Prediction:0.9798377400703595\n",
            "Prediction:0.0\n",
            "Error:2.896846506372122\n",
            "\n",
            "Prediction:0.3748760793919523\n",
            "Prediction:-0.15188276949994028\n",
            "Prediction:0.31508914046355585\n",
            "Prediction:0.5202747189671465\n",
            "Prediction:1.1792575857277312\n",
            "Prediction:0.5930845800845262\n",
            "Prediction:0.5337761220760736\n",
            "Prediction:0.48211808190135685\n",
            "Prediction:1.0825081901759894\n",
            "Prediction:1.0660065521407915\n",
            "Prediction:0.5655470356367882\n",
            "Prediction:0.0\n",
            "Prediction:0.9798353233625168\n",
            "Prediction:0.0\n",
            "Error:2.8968452905614046\n",
            "\n",
            "Prediction:0.37487592661690405\n",
            "Prediction:-0.1518863397843796\n",
            "Prediction:0.3150893752719612\n",
            "Prediction:0.5202781435507067\n",
            "Prediction:1.1792591289324936\n",
            "Prediction:0.5930828868436083\n",
            "Prediction:0.5337745981592474\n",
            "Prediction:0.48211777296924885\n",
            "Prediction:1.0825097773487844\n",
            "Prediction:1.0660078218790277\n",
            "Prediction:0.5655453784205415\n",
            "Prediction:0.0\n",
            "Prediction:0.9798332990311054\n",
            "Prediction:0.0\n",
            "Error:2.89684427224435\n",
            "\n",
            "Prediction:0.3748757986463968\n",
            "Prediction:-0.15188933039781286\n",
            "Prediction:0.31508957195689874\n",
            "Prediction:0.5202810121192405\n",
            "Prediction:1.1792604215826934\n",
            "Prediction:0.5930814685171075\n",
            "Prediction:0.5337733216653968\n",
            "Prediction:0.48211751419532567\n",
            "Prediction:1.0825111068283717\n",
            "Prediction:1.0660088854626975\n",
            "Prediction:0.5655439902697503\n",
            "Prediction:0.0\n",
            "Prediction:0.9798316033699289\n",
            "Prediction:0.0\n",
            "Error:2.896843419327635\n",
            "\n",
            "Prediction:0.3748756914531678\n",
            "Prediction:-0.15189183545556367\n",
            "Prediction:0.31508973670809065\n",
            "Prediction:0.5202834149472889\n",
            "Prediction:1.1792615043583425\n",
            "Prediction:0.5930802804699482\n",
            "Prediction:0.5337722524229533\n",
            "Prediction:0.48211729743590936\n",
            "Prediction:1.082512220453793\n",
            "Prediction:1.0660097763630343\n",
            "Prediction:0.5655428274989753\n",
            "Prediction:0.0\n",
            "Prediction:0.9798301830161227\n",
            "Prediction:0.0\n",
            "Error:2.8968427049370393\n",
            "\n",
            "Prediction:0.3748756016638203\n",
            "Prediction:-0.1518939337924016\n",
            "Prediction:0.31508987471029637\n",
            "Prediction:0.5202854276524281\n",
            "Prediction:1.1792624113346508\n",
            "Prediction:0.5930792853140004\n",
            "Prediction:0.5337713567826003\n",
            "Prediction:0.48211711586952916\n",
            "Prediction:1.0825131532711076\n",
            "Prediction:1.0660105226168861\n",
            "Prediction:0.565541853515541\n",
            "Prediction:0.0\n",
            "Prediction:0.9798289932708109\n",
            "Prediction:0.0\n",
            "Error:2.8968421065675587\n",
            "\n",
            "Prediction:0.37487552645266176\n",
            "Prediction:-0.15189569144349124\n",
            "Prediction:0.31508999030647855\n",
            "Prediction:0.5202871135749728\n",
            "Prediction:1.1792631710543813\n",
            "Prediction:0.5930784517314677\n",
            "Prediction:0.5337706065583209\n",
            "Prediction:0.4821169637822474\n",
            "Prediction:1.0825139346363013\n",
            "Prediction:1.066011147709041\n",
            "Prediction:0.5655410376679546\n",
            "Prediction:0.0\n",
            "Prediction:0.9798279966924228\n",
            "Prediction:0.0\n",
            "Error:2.8968416053722503\n",
            "\n",
            "Prediction:0.3748754634527791\n",
            "Prediction:-0.1518971637225349\n",
            "Prediction:0.3150900871344768\n",
            "Prediction:0.5202885257713105\n",
            "Prediction:1.1792638074260962\n",
            "Prediction:0.5930777534893071\n",
            "Prediction:0.5337699781403764\n",
            "Prediction:0.48211683638784064\n",
            "Prediction:1.0825145891391244\n",
            "Prediction:1.0660116713112995\n",
            "Prediction:0.5655403542812965\n",
            "Prediction:0.0\n",
            "Prediction:0.9798271619183969\n",
            "Prediction:0.0\n",
            "Error:2.896841185567074\n",
            "\n",
            "Prediction:0.3748754106815507\n",
            "Prediction:-0.1518983969625079\n",
            "Prediction:0.3150901682414914\n",
            "Prediction:0.5202897086835994\n",
            "Prediction:1.1792643404765666\n",
            "Prediction:0.5930771686136704\n",
            "Prediction:0.5337694517523034\n",
            "Prediction:0.4821167296771765\n",
            "Prediction:1.0825151373769382\n",
            "Prediction:1.0660121099015505\n",
            "Prediction:0.5655397818492242\n",
            "Prediction:0.0\n",
            "Prediction:0.9798264626781941\n",
            "Prediction:0.0\n",
            "Error:2.8968408339327287\n",
            "\n",
            "Prediction:0.3748753664782535\n",
            "Prediction:-0.15189942997376865\n",
            "Prediction:0.31509023617997967\n",
            "Prediction:0.5202906995383735\n",
            "Prediction:1.1792647869810184\n",
            "Prediction:0.5930766786983805\n",
            "Prediction:0.5337690108285424\n",
            "Prediction:0.4821166402920446\n",
            "Prediction:1.082515596602918\n",
            "Prediction:1.0660124772823347\n",
            "Prediction:0.565539302357163\n",
            "Prediction:0.0\n",
            "Prediction:0.9798258769665571\n",
            "Prediction:0.0\n",
            "Error:2.896840539397632\n",
            "\n",
            "Prediction:0.3748753294517991\n",
            "Prediction:-0.15190029526542984\n",
            "Prediction:0.31509029308798225\n",
            "Prediction:0.5202915295180709\n",
            "Prediction:1.1792651609910547\n",
            "Prediction:0.5930762683256855\n",
            "Prediction:0.533768641493117\n",
            "Prediction:0.4821165654194733\n",
            "Prediction:1.0825159812690162\n",
            "Prediction:1.066012785015213\n",
            "Prediction:0.5655389007153825\n",
            "Prediction:0.0\n",
            "Prediction:0.9798253863509999\n",
            "Prediction:0.0\n",
            "Error:2.896840292688788\n",
            "\n",
            "Prediction:0.37487529843695566\n",
            "Prediction:-0.15190102006842793\n",
            "Prediction:0.3150903407564073\n",
            "Prediction:0.5202922247423517\n",
            "Prediction:1.179265474276861\n",
            "Prediction:0.5930759245810582\n",
            "Prediction:0.5337683321229524\n",
            "Prediction:0.4821165027032046\n",
            "Prediction:1.0825163034807672\n",
            "Prediction:1.0660130427846135\n",
            "Prediction:0.565538564284119\n",
            "Prediction:0.0\n",
            "Prediction:0.9798249753917327\n",
            "Prediction:0.0\n",
            "Error:2.896840086039472\n",
            "\n",
            "Prediction:0.37487527245767904\n",
            "Prediction:-0.1519016271924875\n",
            "Prediction:0.31509038068539197\n",
            "Prediction:0.5202928070900915\n",
            "Prediction:1.1792657366976163\n",
            "Prediction:0.5930756366467723\n",
            "Prediction:0.533768072982095\n",
            "Prediction:0.4821164501695428\n",
            "Prediction:1.082516573378252\n",
            "Prediction:1.0660132587026017\n",
            "Prediction:0.5655382824758002\n",
            "Prediction:0.0\n",
            "Prediction:0.979824631155769\n",
            "Prediction:0.0\n",
            "Error:2.8968399129444573\n",
            "\n",
            "Prediction:0.37487525069639505\n",
            "Prediction:-0.15190213574394865\n",
            "Prediction:0.31509041413151095\n",
            "Prediction:0.5202932948879136\n",
            "Prediction:1.1792659565117654\n",
            "Prediction:0.5930753954614667\n",
            "Prediction:0.53376785591532\n",
            "Prediction:0.48211640616524093\n",
            "Prediction:1.0825167994552096\n",
            "Prediction:1.0660134395641678\n",
            "Prediction:0.5655380464218502\n",
            "Prediction:0.0\n",
            "Prediction:0.9798243428099203\n",
            "Prediction:0.0\n",
            "Error:2.8968397679550537\n",
            "\n",
            "Prediction:0.374875232468271\n",
            "Prediction:-0.15190256172704808\n",
            "Prediction:0.3150904421473216\n",
            "Prediction:0.5202937034869327\n",
            "Prediction:1.1792661406369127\n",
            "Prediction:0.593075193434982\n",
            "Prediction:0.5337676740914838\n",
            "Prediction:0.48211636930547275\n",
            "Prediction:1.0825169888263364\n",
            "Prediction:1.066013591061069\n",
            "Prediction:0.5655378486935949\n",
            "Prediction:0.0\n",
            "Prediction:0.979824101279873\n",
            "Prediction:0.0\n",
            "Error:2.896839646507463\n",
            "\n",
            "Prediction:0.374875217199663\n",
            "Prediction:-0.15190291854757632\n",
            "Prediction:0.31509046561448806\n",
            "Prediction:0.5202940457458579\n",
            "Prediction:1.1792662948675203\n",
            "Prediction:0.5930750242094961\n",
            "Prediction:0.5337675217885465\n",
            "Prediction:0.48211633843025264\n",
            "Prediction:1.0825171474511865\n",
            "Prediction:1.0660137179609492\n",
            "Prediction:0.5655376830684783\n",
            "Prediction:0.0\n",
            "Prediction:0.979823898964619\n",
            "Prediction:0.0\n",
            "Error:2.8968395447790374\n",
            "\n",
            "Prediction:0.3748752044100647\n",
            "Prediction:-0.15190321743476112\n",
            "Prediction:0.31509048527152794\n",
            "Prediction:0.5202943324356601\n",
            "Prediction:1.1792664240572628\n",
            "Prediction:0.5930748824594423\n",
            "Prediction:0.5337673942134981\n",
            "Prediction:0.48211631256793\n",
            "Prediction:1.0825172803217231\n",
            "Prediction:1.0660138242573785\n",
            "Prediction:0.5655375443342381\n",
            "Prediction:0.0\n",
            "Prediction:0.9798237294972482\n",
            "Prediction:0.0\n",
            "Error:2.896839459567892\n",
            "\n",
            "Prediction:0.3748751936969843\n",
            "Prediction:-0.15190346779465405\n",
            "Prediction:0.3150905017370529\n",
            "Prediction:0.5202945725785362\n",
            "Prediction:1.1792665322717721\n",
            "Prediction:0.5930747637239122\n",
            "Prediction:0.533767287351521\n",
            "Prediction:0.4821162909046114\n",
            "Prediction:1.082517391619413\n",
            "Prediction:1.0660139132955304\n",
            "Prediction:0.5655374281248745\n",
            "Prediction:0.0\n",
            "Prediction:0.9798235875445818\n",
            "Prediction:0.0\n",
            "Error:2.896839388192085\n",
            "\n",
            "Prediction:0.37487518472327835\n",
            "Prediction:-0.1519036775061411\n",
            "Prediction:0.3150905155292368\n",
            "Prediction:0.5202947737318401\n",
            "Prediction:1.1792666229165851\n",
            "Prediction:0.5930746642662704\n",
            "Prediction:0.5337671978396434\n",
            "Prediction:0.4821162727585469\n",
            "Prediction:1.082517484846822\n",
            "Prediction:1.0660139878774575\n",
            "Prediction:0.5655373307832511\n",
            "Prediction:0.0\n",
            "Prediction:0.9798234686393356\n",
            "Prediction:0.0\n",
            "Error:2.8968393284051737\n",
            "\n",
            "Prediction:0.3748751772065425\n",
            "Prediction:-0.15190385316889315\n",
            "Prediction:0.3150905270821233\n",
            "Prediction:0.5202949422259148\n",
            "Prediction:1.1792666988443157\n",
            "Prediction:0.5930745809565607\n",
            "Prediction:0.5337671228609047\n",
            "Prediction:0.4821162575586756\n",
            "Prediction:1.0825175629378383\n",
            "Prediction:1.0660140503502706\n",
            "Prediction:0.5655372492460033\n",
            "Prediction:0.0\n",
            "Prediction:0.9798233690395326\n",
            "Prediction:0.0\n",
            "Error:2.8968392783254884\n",
            "\n",
            "Prediction:0.37487517091022304\n",
            "Prediction:-0.1519040003110593\n",
            "Prediction:0.31509053675928433\n",
            "Prediction:0.5202950833633093\n",
            "Prediction:1.1792667624444282\n",
            "Prediction:0.593074511173007\n",
            "Prediction:0.5337670600557063\n",
            "Prediction:0.48211624482665383\n",
            "Prediction:1.082517628350006\n",
            "Prediction:1.0660141026800045\n",
            "Prediction:0.5655371809471346\n",
            "Prediction:0.0\n",
            "Prediction:0.9798232856107432\n",
            "Prediction:0.0\n",
            "Error:2.8968392363768967\n",
            "\n",
            "Prediction:0.37487516563617335\n",
            "Prediction:-0.15190412356323885\n",
            "Prediction:0.31509054486526256\n",
            "Prediction:0.5202952015856513\n",
            "Prediction:1.179266815718433\n",
            "Prediction:0.5930744527195035\n",
            "Prediction:0.5337670074475532\n",
            "Prediction:0.4821162341618017\n",
            "Prediction:1.0825176831418606\n",
            "Prediction:1.0660141465134885\n",
            "Prediction:0.565537123737263\n",
            "Prediction:0.0\n",
            "Prediction:0.9798232157274431\n",
            "Prediction:0.0\n",
            "Error:2.8968392012391866\n",
            "\n",
            "Prediction:0.3748751612184179\n",
            "Prediction:-0.1519042268042075\n",
            "Prediction:0.31509055165515504\n",
            "Prediction:0.5202953006134263\n",
            "Prediction:1.179266860342876\n",
            "Prediction:0.5930744037565047\n",
            "Prediction:0.5337669633808542\n",
            "Prediction:0.48211622522849384\n",
            "Prediction:1.0825177290377155\n",
            "Prediction:1.0660141832301724\n",
            "Prediction:0.56553707581598\n",
            "Prediction:0.0\n",
            "Prediction:0.9798231571903884\n",
            "Prediction:0.0\n",
            "Error:2.8968391718065107\n",
            "\n",
            "Prediction:0.37487515751792866\n",
            "Prediction:-0.15190431328298334\n",
            "Prediction:0.31509055734264124\n",
            "Prediction:0.5202953835630622\n",
            "Prediction:1.179266897722099\n",
            "Prediction:0.5930743627431333\n",
            "Prediction:0.53376692646882\n",
            "Prediction:0.4821162177455969\n",
            "Prediction:1.0825177674819244\n",
            "Prediction:1.0660142139855395\n",
            "Prediction:0.5655370356751916\n",
            "Prediction:0.0\n",
            "Prediction:0.9798231081574036\n",
            "Prediction:0.0\n",
            "Error:2.896839147152577\n",
            "\n",
            "Prediction:0.37487515441825037\n",
            "Prediction:-0.15190438572107423\n",
            "Prediction:0.3150905621067077\n",
            "Prediction:0.5202954530450037\n",
            "Prediction:1.1792669290324356\n",
            "Prediction:0.5930743283886886\n",
            "Prediction:0.5337668955498197\n",
            "Prediction:0.4821162114776222\n",
            "Prediction:1.0825177996843354\n",
            "Prediction:1.0660142397474681\n",
            "Prediction:0.5655370020516574\n",
            "Prediction:0.0\n",
            "Prediction:0.979823067085409\n",
            "Prediction:0.0\n",
            "Error:2.8968391265014914\n",
            "\n",
            "Prediction:0.3748751518218356\n",
            "Prediction:-0.15190444639812428\n",
            "Prediction:0.3150905660972809\n",
            "Prediction:0.5202955112458647\n",
            "Prediction:1.179266955259229\n",
            "Prediction:0.5930742996120278\n",
            "Prediction:0.5337668696508251\n",
            "Prediction:0.4821162062273155\n",
            "Prediction:1.0825178266583664\n",
            "Prediction:1.0660142613266932\n",
            "Prediction:0.5655369738872367\n",
            "Prediction:0.0\n",
            "Prediction:0.9798230326818593\n",
            "Prediction:0.0\n",
            "Error:2.8968391092033423\n",
            "\n",
            "Prediction:0.37487514964697455\n",
            "Prediction:-0.1519044972236549\n",
            "Prediction:0.3150905694399451\n",
            "Prediction:0.52029555999724\n",
            "Prediction:1.1792669772278432\n",
            "Prediction:0.5930742755075428\n",
            "Prediction:0.5337668479567885\n",
            "Prediction:0.4821162018294478\n",
            "Prediction:1.0825178492528966\n",
            "Prediction:1.0660142794023173\n",
            "Prediction:0.5655369502955883\n",
            "Prediction:0.0\n",
            "Prediction:0.9798230038640663\n",
            "Prediction:0.0\n",
            "Error:2.896839094713738\n",
            "\n",
            "Prediction:0.3748751478252236\n",
            "Prediction:-0.15190453979715768\n",
            "Prediction:0.3150905722398947\n",
            "Prediction:0.520295600833347\n",
            "Prediction:1.179266995629635\n",
            "Prediction:0.5930742553166592\n",
            "Prediction:0.5337668297849933\n",
            "Prediction:0.48211619814561735\n",
            "Prediction:1.082517868178981\n",
            "Prediction:1.066014294543185\n",
            "Prediction:0.5655369305342774\n",
            "Prediction:0.0\n",
            "Prediction:0.979822979725127\n",
            "Prediction:0.0\n",
            "Error:2.896839082576677\n",
            "\n",
            "Prediction:0.3748751462992519\n",
            "Prediction:-0.151904575458431\n",
            "Prediction:0.3150905745852447\n",
            "Prediction:0.5202956350393081\n",
            "Prediction:1.1792670110437142\n",
            "Prediction:0.5930742384039656\n",
            "Prediction:0.533766814563569\n",
            "Prediction:0.48211619505989356\n",
            "Prediction:1.0825178840322285\n",
            "Prediction:1.066014307225783\n",
            "Prediction:0.5655369139814109\n",
            "Prediction:0.0\n",
            "Prediction:0.9798229595053836\n",
            "Prediction:0.0\n",
            "Error:2.8968390724101987\n",
            "\n",
            "Prediction:0.37487514502103697\n",
            "Prediction:-0.15190460532974379\n",
            "Prediction:0.31509057654980394\n",
            "Prediction:0.520295663691593\n",
            "Prediction:1.1792670239551653\n",
            "Prediction:0.593074224237215\n",
            "Prediction:0.5337668018134936\n",
            "Prediction:0.4821161924751674\n",
            "Prediction:1.0825178973115448\n",
            "Prediction:1.0660143178492358\n",
            "Prediction:0.5655369001160662\n",
            "Prediction:0.0\n",
            "Prediction:0.9798229425685154\n",
            "Prediction:0.0\n",
            "Error:2.896839063894354\n",
            "\n",
            "Prediction:0.3748751439503528\n",
            "Prediction:-0.15190463035115337\n",
            "Prediction:0.3150905781953976\n",
            "Prediction:0.5202956876918958\n",
            "Prediction:1.1792670347703142\n",
            "Prediction:0.5930742123705766\n",
            "Prediction:0.5337667911335189\n",
            "Prediction:0.4821161903100971\n",
            "Prediction:1.0825179084348322\n",
            "Prediction:1.0660143267478657\n",
            "Prediction:0.5655368885018972\n",
            "Prediction:0.0\n",
            "Prediction:0.9798229283815154\n",
            "Prediction:0.0\n",
            "Error:2.896839056761146\n",
            "\n",
            "Prediction:0.37487514305350483\n",
            "Prediction:-0.15190465131008954\n",
            "Prediction:0.3150905795738128\n",
            "Prediction:0.5202957077955122\n",
            "Prediction:1.1792670438295167\n",
            "Prediction:0.5930742024306043\n",
            "Prediction:0.5337667821875438\n",
            "Prediction:0.48211618849654747\n",
            "Prediction:1.082517917752144\n",
            "Prediction:1.0660143342017152\n",
            "Prediction:0.5655368787734035\n",
            "Prediction:0.0\n",
            "Prediction:0.9798229164979153\n",
            "Prediction:0.0\n",
            "Error:2.8968390507860886\n",
            "\n",
            "Prediction:0.37487514230226904\n",
            "Prediction:-0.15190466886613507\n",
            "Prediction:0.3150905807284287\n",
            "Prediction:0.5202957246351074\n",
            "Prediction:1.1792670514178685\n",
            "Prediction:0.5930741941044848\n",
            "Prediction:0.5337667746940363\n",
            "Prediction:0.4821161869774454\n",
            "Prediction:1.0825179255566981\n",
            "Prediction:1.0660143404453586\n",
            "Prediction:0.5655368706244271\n",
            "Prediction:0.0\n",
            "Prediction:0.9798229065437352\n",
            "Prediction:0.0\n",
            "Error:2.8968390457811424\n",
            "\n",
            "Prediction:0.37487514167300373\n",
            "Prediction:-0.15190468357178286\n",
            "Prediction:0.31509058169558124\n",
            "Prediction:0.5202957387406277\n",
            "Prediction:1.179267057774176\n",
            "Prediction:0.5930741871301933\n",
            "Prediction:0.533766768417174\n",
            "Prediction:0.4821161857049847\n",
            "Prediction:1.0825179320941054\n",
            "Prediction:1.0660143456752844\n",
            "Prediction:0.5655368637985175\n",
            "Prediction:0.0\n",
            "Prediction:0.9798228982057146\n",
            "Prediction:0.0\n",
            "Error:2.896839041588802\n",
            "\n",
            "Prediction:0.3748751411459058\n",
            "Prediction:-0.1519046958898232\n",
            "Prediction:0.315090582505707\n",
            "Prediction:0.5202957505559772\n",
            "Prediction:1.1792670630984738\n",
            "Prediction:0.593074181288247\n",
            "Prediction:0.5337667631594223\n",
            "Prediction:0.48211618463912054\n",
            "Prediction:1.0825179375701\n",
            "Prediction:1.0660143500560801\n",
            "Prediction:0.565536858080862\n",
            "Prediction:0.0\n",
            "Prediction:0.9798228912214542\n",
            "Prediction:0.0\n",
            "Error:2.896839038077129\n",
            "\n",
            "Prediction:0.37487514070438754\n",
            "Prediction:-0.1519047062079078\n",
            "Prediction:0.31509058318430083\n",
            "Prediction:0.5202957604529878\n",
            "Prediction:1.1792670675583192\n",
            "Prediction:0.5930741763947984\n",
            "Prediction:0.5337667587553185\n",
            "Prediction:0.4821161837463099\n",
            "Prediction:1.0825179421570126\n",
            "Prediction:1.0660143537256102\n",
            "Prediction:0.5655368532915245\n",
            "Prediction:0.0\n",
            "Prediction:0.9798228853711577\n",
            "Prediction:0.0\n",
            "Error:2.8968390351356117\n",
            "\n",
            "Prediction:0.3748751403345541\n",
            "Prediction:-0.15190471485074925\n",
            "Prediction:0.31509058375271826\n",
            "Prediction:0.5202957687431207\n",
            "Prediction:1.1792670712940647\n",
            "Prediction:0.5930741722958498\n",
            "Prediction:0.5337667550662648\n",
            "Prediction:0.48211618299845593\n",
            "Prediction:1.0825179459991947\n",
            "Prediction:1.0660143567993559\n",
            "Prediction:0.5655368492797833\n",
            "Prediction:0.0\n",
            "Prediction:0.9798228804707148\n",
            "Prediction:0.0\n",
            "Error:2.8968390326716804\n",
            "\n",
            "Prediction:0.3748751400247668\n",
            "Prediction:-0.1519047220903399\n",
            "Prediction:0.3150905842288474\n",
            "Prediction:0.5202957756872686\n",
            "Prediction:1.1792670744232754\n",
            "Prediction:0.593074168862406\n",
            "Prediction:0.5337667519761654\n",
            "Prediction:0.4821161823720236\n",
            "Prediction:1.0825179492175607\n",
            "Prediction:1.0660143593740485\n",
            "Prediction:0.5655368459193879\n",
            "Prediction:0.0\n",
            "Prediction:0.9798228763659071\n",
            "Prediction:0.0\n",
            "Error:2.8968390306077927\n",
            "\n",
            "Prediction:0.37487513976527653\n",
            "Prediction:-0.1519047281545114\n",
            "Prediction:0.31509058462767237\n",
            "Prediction:0.5202957815039654\n",
            "Prediction:1.1792670770444271\n",
            "Prediction:0.5930741659864157\n",
            "Prediction:0.5337667493877741\n",
            "Prediction:0.4821161818472986\n",
            "Prediction:1.082517951913393\n",
            "Prediction:1.0660143615307143\n",
            "Prediction:0.565536843104586\n",
            "Prediction:0.0\n",
            "Prediction:0.9798228729275555\n",
            "Prediction:0.0\n",
            "Error:2.8968390288789974\n",
            "\n",
            "Prediction:0.37487513954791707\n",
            "Prediction:-0.1519047332341046\n",
            "Prediction:0.31509058496174414\n",
            "Prediction:0.5202957863762638\n",
            "Prediction:1.1792670792400093\n",
            "Prediction:0.5930741635773709\n",
            "Prediction:0.5337667472196338\n",
            "Prediction:0.4821161814077679\n",
            "Prediction:1.08251795417153\n",
            "Prediction:1.066014363337224\n",
            "Prediction:0.5655368407467949\n",
            "Prediction:0.0\n",
            "Prediction:0.9798228700474544\n",
            "Prediction:0.0\n",
            "Error:2.89683902743089\n",
            "\n",
            "Prediction:0.3748751393658481\n",
            "Prediction:-0.1519047374889756\n",
            "Prediction:0.31509058524157607\n",
            "Prediction:0.5202957904574965\n",
            "Prediction:1.1792670810791168\n",
            "Prediction:0.5930741615594584\n",
            "Prediction:0.5337667454035125\n",
            "Prediction:0.4821161810395995\n",
            "Prediction:1.0825179560630365\n",
            "Prediction:1.0660143648504294\n",
            "Prediction:0.5655368387718147\n",
            "Prediction:0.0\n",
            "Prediction:0.9798228676349664\n",
            "Prediction:0.0\n",
            "Error:2.8968390262178967\n",
            "\n",
            "Prediction:0.3748751392133398\n",
            "Prediction:-0.1519047410530262\n",
            "Prediction:0.31509058547597446\n",
            "Prediction:0.5202957938761006\n",
            "Prediction:1.1792670826196272\n",
            "Prediction:0.5930741598691739\n",
            "Prediction:0.5337667438822565\n",
            "Prediction:0.48211618073120677\n",
            "Prediction:1.082517957647438\n",
            "Prediction:1.0660143661179506\n",
            "Prediction:0.5655368371174921\n",
            "Prediction:0.0\n",
            "Prediction:0.9798228656141694\n",
            "Prediction:0.0\n",
            "Error:2.8968390252018446\n",
            "\n"
          ]
        }
      ],
      "source": [
        "import numpy as np\n",
        "\n",
        "# feel free to try other values!\n",
        "weights = np.array([0.5,0.48,-0.7])\n",
        "# feel free to try other values!\n",
        "alpha = 0.1\n",
        "\n",
        "# X data\n",
        "X = golf.loc[:, ['Temp', 'Humidity', 'Wind']] # select temp, humidity and wind as inputs\n",
        "X = np.array(X.values.tolist()) # generate those values in array\n",
        "\n",
        "# y data\n",
        "y = np.array(golf['Play'].tolist()) # convert play in array\n",
        "\n",
        "# a place to store results (so we can graph later!)\n",
        "my_weights = []\n",
        "my_error = []\n",
        "\n",
        "for iteration in range(100): # train for 100 epochs!\n",
        "    error_for_all = 0 # a place to store sq. error after each observation\n",
        "    for row_index in range(len(y)):\n",
        "        input = X[row_index]\n",
        "        target_var = y[row_index]\n",
        "\n",
        "        prediction = input.dot(weights)\n",
        "\n",
        "        error = (target_var - prediction) ** 2\n",
        "        # check track of the squared error\n",
        "        error_for_all += error\n",
        "\n",
        "        delta = prediction - target_var\n",
        "        weights = weights - (alpha * (input * delta))\n",
        "        print(\"Prediction:\" + str(prediction))\n",
        "\n",
        "\n",
        "    print(\"Error:\" + str(error_for_all) + \"\\n\")\n",
        "    my_error.append(error_for_all)\n",
        "    # store results\n",
        "    my_weights.append(weights)"
      ]
    },
    {
      "cell_type": "markdown",
      "source": [
        "## Visualize your results"
      ],
      "metadata": {
        "id": "JD7aAAFjKb68"
      }
    },
    {
      "cell_type": "code",
      "source": [
        "my_error = pd.DataFrame(my_error)\n",
        "my_error.plot()\n",
        "plt.xlabel('Epochs')\n",
        "plt.ylabel('Squared Error')\n",
        "plt.title('Squared Error vs. Epochs')\n",
        "plt.show()"
      ],
      "metadata": {
        "colab": {
          "base_uri": "https://localhost:8080/",
          "height": 295
        },
        "outputId": "71098d4f-b616-4c09-913b-0a2eedb3a6ba",
        "id": "eH2UFUIdKh6K"
      },
      "execution_count": null,
      "outputs": [
        {
          "output_type": "display_data",
          "data": {
            "text/plain": [
              "<Figure size 432x288 with 1 Axes>"
            ],
            "image/png": "[encoded data removed]"
          },
          "metadata": {
            "needs_background": "light"
          }
        }
      ]
    },
    {
      "cell_type": "code",
      "source": [
        "# see how the value of the weights changed?\n",
        "my_weights = pd.DataFrame(my_weights)\n",
        "my_weights.plot()\n",
        "plt.xlabel('Epochs')\n",
        "plt.ylabel('Weight Value')\n",
        "plt.title('Weight Values during Training')\n",
        "plt.show()"
      ],
      "metadata": {
        "colab": {
          "base_uri": "https://localhost:8080/",
          "height": 295
        },
        "outputId": "a4776560-05a0-40e5-9345-7ced68fadbec",
        "id": "zRWQ4JwtKh6L"
      },
      "execution_count": null,
      "outputs": [
        {
          "output_type": "display_data",
          "data": {
            "text/plain": [
              "<Figure size 432x288 with 1 Axes>"
            ],
            "image/png": "[encoded data removed]"
          },
          "metadata": {
            "needs_background": "light"
          }
        }
      ]
    },
    {
      "cell_type": "markdown",
      "source": [
        "Don't you love the wiggly lines? Your model LEARNED an entire dataset! THAT IS AWESOME! Error goes to zero but plateaus around 3 (this happens in the real-world.)\n",
        "\n",
        "Your model is updating its weights to make an accurate prediction for all 14 rows of data.\n",
        ".\n",
        "While this sort of looks like a nonlinear weight update (because of the wiggly lines),  we haven't truly introduced what makes a neural network truly nonlinear, which is the inclusion of activation functions in the hidden layers... coming soon!"
      ],
      "metadata": {
        "id": "sFKJa_JjL21p"
      }
    },
    {
      "cell_type": "markdown",
      "source": [
        "**On Your Own:** See if you can keep track of the predictions during each iteration and make a plot of accuracy. Make a confusion matrix or classification report after each epoch."
      ],
      "metadata": {
        "id": "p9MMYHKZ249o"
      }
    },
    {
      "cell_type": "markdown",
      "source": [
        "## The Various Types of Gradient Descent\n",
        "\n",
        "1.   **Stochastic**: Learning \"one example at a time\" is a variant on Gradient Descent called Stochastic Gradient Descent, and it is one of the handful of methods that can be used for learning an entire dataset. This is the example we use in this notebook.\n",
        "2.   **Full**: Instead of updating the weights once for each training example, the network simply calculates the average weight_delta over the entire dataset, only actual y changing the weights each time it computes a full average.\n",
        "3.   **Batch**: Instead of updating the weights after just one or after the entire dataset of examples, you choose a \"batch size\" (typical y between 8 and 256) after which the weights are updated.\n",
        "\n",
        "\n"
      ],
      "metadata": {
        "id": "hz_pz_nU6pKm"
      }
    },
    {
      "cell_type": "markdown",
      "source": [
        "**On Your Own:** We will focus on stochastic gradient descent in this notebook. You can try to update the code to account for full and batch gradient descent by hand and compare!"
      ],
      "metadata": {
        "id": "xea0GT9a9Lor"
      }
    },
    {
      "cell_type": "markdown",
      "source": [
        "### so... which one should I use?\n",
        "Like all good questions: it depends.\n",
        "\n",
        "* Stochastic means you will be updating the weights A LOT - so every row in X gets a say in the weight updates immediately as it's seen by the model. Stochastic can also be associated with the word 'random' - which makes sense since there may be some random noise that you are fitting on when looking at each row.  Stochastic gradient descent (SGD) means you will be updating A LOT of weights. You may nitpick and focus on each row instead of going for general trends and may underfit or overfit.\n",
        "* Full means you update the weights after looking at ALL the rows - so less weights to update, but you might not find the optimal combinations of weights. This type of gradient descent will run the fastest and it should be obvious to you why this is!\n",
        "* Batch splits the difference between stochastic and full. You can update the weights after every N rows - but value of N to use? It depends on your data and model architecture - it's a hyperparameter that you get to update."
      ],
      "metadata": {
        "id": "Eic2YdfXgl21"
      }
    },
    {
      "cell_type": "markdown",
      "source": [
        "## Neural Networks Learn Correlation Between Input and Output\n",
        "\n",
        "We just got done training a single-layer neural network to take a weather pattern and identify whether people will play golf or not.\n",
        "\n",
        "Let's take on the neural network's perspective for a moment. The neural network doesn't know that it was processing weather data. All it was trying to do was identify which input (out of the 3 possible) correlated with the output.\n",
        "\n",
        "It updates the weight to correlate (relate) the input to the output.\n",
        "\n"
      ],
      "metadata": {
        "id": "5oD5sD8J6ZkP"
      }
    },
    {
      "cell_type": "markdown",
      "source": [
        "# Learning Indirect Correlation\n",
        "\n",
        "... but what if there is no clear or obvious pattern relating the input to the output?\n",
        "\n",
        "If your data does NOT have direct correlation, you should create intermediate data that does. In reality, neural networks search for correlation between their input and output layers. You set the values of the input layer to be individual rows of the input data, and you try to train the network (update weights) so that the output layer equals the output dataset. The neural network doesn’t know about data (neural networks aren't 'smart'.) - NNs just search for correlation between the input and output layers.\n",
        "\n",
        "💡 Now we are starting to talk about hidden layers in earnest 😀  Let's use two set of weights in our network. The first one will create an intermediate dataset that has indirect correlation with our output (where we will introduce a nonlinear activation function). The second will then use that indirect correlation to correctly predict our output with a linear activation function (so that it can take on any value.)"
      ],
      "metadata": {
        "id": "GC4TzNau9j9Y"
      }
    },
    {
      "cell_type": "markdown",
      "source": [
        "# No difference between these dot products"
      ],
      "metadata": {
        "id": "qyHXcZlt31bH"
      }
    },
    {
      "cell_type": "markdown",
      "source": [
        "### Three layer example\n",
        "There are two mathematical operations using three layers:\n",
        "* `np.dot(a,b)`\n",
        "* `np.dot(tmp,c)`"
      ],
      "metadata": {
        "id": "9wYyhfqr4f_H"
      }
    },
    {
      "cell_type": "code",
      "source": [
        "a = [-5, 1, 3, -7, 2]\n",
        "\n",
        "b = [[2, 2, 2, 2, 2],\n",
        "     [2, 2, 2, 2, 2],\n",
        "     [2, 2, 2, 2, 2],\n",
        "     [2, 2, 2, 2, 2],\n",
        "     [2, 2, 2, 2, 2]] # make this a 5x5 matrix!\n",
        "\n",
        "c = [[3],\n",
        "     [3],\n",
        "     [3],\n",
        "     [3],\n",
        "     [3]] # make this a 5x1 matrix!\n",
        "\n",
        "tmp = np.dot(a,b)\n",
        "tmp = np.dot(tmp,c)\n",
        "tmp"
      ],
      "metadata": {
        "colab": {
          "base_uri": "https://localhost:8080/"
        },
        "id": "0G74lVQg34UT",
        "outputId": "ae6d6047-0dea-4c82-be55-66cded19ecca"
      },
      "execution_count": null,
      "outputs": [
        {
          "output_type": "execute_result",
          "data": {
            "text/plain": [
              "array([-180])"
            ]
          },
          "metadata": {},
          "execution_count": 15
        }
      ]
    },
    {
      "cell_type": "markdown",
      "source": [
        "### Two layer example\n",
        "There is one mathematical operations using two layers:\n",
        "* `np.dot(a,b)`\n",
        "\n",
        "... yet we get the same answer. So why bother having a third layer?"
      ],
      "metadata": {
        "id": "vDcBLDZf4iSk"
      }
    },
    {
      "cell_type": "code",
      "source": [
        "a = [-5, 1, 3, -7, 2]\n",
        "\n",
        "b = [[30],\n",
        "     [30],\n",
        "     [30],\n",
        "     [30],\n",
        "     [30]] # make this a 5x1 matrix!\n",
        "np.dot(a,b)"
      ],
      "metadata": {
        "colab": {
          "base_uri": "https://localhost:8080/"
        },
        "id": "4aFoZ1wl4I2C",
        "outputId": "899e05be-3e6b-4a43-9f11-0ba48233080d"
      },
      "execution_count": null,
      "outputs": [
        {
          "output_type": "execute_result",
          "data": {
            "text/plain": [
              "array([-180])"
            ]
          },
          "metadata": {},
          "execution_count": 16
        }
      ]
    },
    {
      "cell_type": "markdown",
      "source": [
        "### Same answer, but with less layers... what can we do?\n",
        "It's a linear combination - so we can do whatever we need to do with two layers instead of three. Those multiple sets of dot products are no different than multiply 2*3*4 or just multiplying 2*12... the latter is simpler, takes less time, and is accurate - so you should use that one!\n",
        "\n",
        "We will need nonlinearity in order to have any value from stacking layers so that we can learn 'indirect correlation' where the input sometimes correlates to the output and sometimes does not.\n",
        "\n",
        "This is where activation functions come in!"
      ],
      "metadata": {
        "id": "5XDe-CT55e-p"
      }
    },
    {
      "cell_type": "markdown",
      "source": [
        "# Nonlinearity and activation functions (ReLU!)\n",
        "[Recified linear unit](https://en.wikipedia.org/wiki/Rectifier_(neural_networks)) (ReLU) is just one of several activation functions we will get to know during our class. It is one of the simplest functions and very important for allowing our model to learn nonlinear patterns."
      ],
      "metadata": {
        "id": "JjWyERNr1fUD"
      }
    },
    {
      "cell_type": "markdown",
      "source": [
        "![relu](https://miro.medium.com/max/357/1*oePAhrm74RNnNEolprmTaQ.png)"
      ],
      "metadata": {
        "id": "UwwiI0jW3OdM"
      }
    },
    {
      "cell_type": "markdown",
      "source": [
        "**Figure:** An image showing how ReLU recodes values - if the value is less than 0, it gets recoded to 0. Otherwise, return x."
      ],
      "metadata": {
        "id": "63TgEgJt-FH9"
      }
    },
    {
      "cell_type": "code",
      "source": [
        "# original data\n",
        "a = [-5, 1, 3, -7, 2]\n",
        "# relu function! if it's negative, return a 0, otherwise, return original value\n",
        "np.maximum(a, 0)"
      ],
      "metadata": {
        "colab": {
          "base_uri": "https://localhost:8080/"
        },
        "id": "X6EpPYJp3X4q",
        "outputId": "9e54524b-9ffd-4acf-a07f-c64709200424"
      },
      "execution_count": null,
      "outputs": [
        {
          "output_type": "execute_result",
          "data": {
            "text/plain": [
              "array([0, 1, 3, 0, 2])"
            ]
          },
          "metadata": {},
          "execution_count": 17
        }
      ]
    },
    {
      "cell_type": "code",
      "source": [
        "# make your own ReLU plot!\n",
        "a = np.arange(-6,12,1)\n",
        "print('a      :', a)\n",
        "# relu function! if it's negative, return a 0, otherwise, return original value\n",
        "b = np.maximum(a, 0)\n",
        "print('ReLU(a):', b)\n",
        "plt.plot(a,b)\n",
        "plt.title('My Very Own ReLU Plot!')\n",
        "plt.xlabel('X')\n",
        "plt.ylabel('ReLU(X)')\n",
        "plt.show()"
      ],
      "metadata": {
        "colab": {
          "base_uri": "https://localhost:8080/",
          "height": 330
        },
        "id": "GjXIdaQvyC8q",
        "outputId": "7170b6a4-60c8-4b50-bded-380de85f68e8"
      },
      "execution_count": null,
      "outputs": [
        {
          "output_type": "stream",
          "name": "stdout",
          "text": [
            "a      : [-6 -5 -4 -3 -2 -1  0  1  2  3  4  5  6  7  8  9 10 11]\n",
            "ReLU(a): [ 0  0  0  0  0  0  0  1  2  3  4  5  6  7  8  9 10 11]\n"
          ]
        },
        {
          "output_type": "display_data",
          "data": {
            "text/plain": [
              "<Figure size 432x288 with 1 Axes>"
            ],
            "image/png": "[encoded data removed]"
          },
          "metadata": {
            "needs_background": "light"
          }
        }
      ]
    },
    {
      "cell_type": "markdown",
      "source": [
        "ReLU simply recodes a value to zero if it has a negative number. This simple activation function (and others like it) are responsible for allowing neural networks to learn in a nonlinear way."
      ],
      "metadata": {
        "id": "nrlIMXhLy_JF"
      }
    },
    {
      "cell_type": "markdown",
      "metadata": {
        "id": "7RQWIpzdg9uf"
      },
      "source": [
        "# Our First \"Deep\" Neural Network\n",
        "\n",
        "The following code initializes the weights and makes a forward propagation. Our first neural network with its 16 (12 + 4) neuron weights and 4 hidden units in the hidden layer."
      ]
    },
    {
      "cell_type": "code",
      "source": [
        "!pip3 install keras-visualizer\n",
        "from keras import models\n",
        "from keras.layers import Dense, Conv2D, MaxPooling2D, Flatten, Activation\n",
        "from keras_visualizer import visualizer\n",
        "from keras import layers\n",
        "\n",
        "model = models.Sequential()\n",
        "model.add(Dense(4, input_shape=(3,))) # the 4 is for the number of hidden layers, the 3 is size of the input data\n",
        "model.add(Dense(1))\n"
      ],
      "metadata": {
        "colab": {
          "base_uri": "https://localhost:8080/"
        },
        "id": "O53rv2cSIM_v",
        "outputId": "debc0a06-7130-4b61-f82f-e27c927845f8"
      },
      "execution_count": null,
      "outputs": [
        {
          "output_type": "stream",
          "name": "stdout",
          "text": [
            "Looking in indexes: https://pypi.org/simple, https://us-python.pkg.dev/colab-wheels/public/simple/\n",
            "Collecting keras-visualizer\n",
            "  Downloading keras_visualizer-2.4-py3-none-any.whl (5.4 kB)\n",
            "Installing collected packages: keras-visualizer\n",
            "Successfully installed keras-visualizer-2.4\n"
          ]
        }
      ]
    },
    {
      "cell_type": "code",
      "source": [
        "model.summary() # inspect for output shapes and trainable parameters"
      ],
      "metadata": {
        "colab": {
          "base_uri": "https://localhost:8080/"
        },
        "id": "bhJ1LzB4inKL",
        "outputId": "964d3e67-600d-4574-b71b-5f14ee1335c2"
      },
      "execution_count": null,
      "outputs": [
        {
          "output_type": "stream",
          "name": "stdout",
          "text": [
            "Model: \"sequential\"\n",
            "_________________________________________________________________\n",
            " Layer (type)                Output Shape              Param #   \n",
            "=================================================================\n",
            " dense (Dense)               (None, 4)                 16        \n",
            "                                                                 \n",
            " dense_1 (Dense)             (None, 1)                 5         \n",
            "                                                                 \n",
            "=================================================================\n",
            "Total params: 21\n",
            "Trainable params: 21\n",
            "Non-trainable params: 0\n",
            "_________________________________________________________________\n"
          ]
        }
      ]
    },
    {
      "cell_type": "code",
      "source": [
        "visualizer(model, format='png', view=True)"
      ],
      "metadata": {
        "id": "niueLQLiisbo"
      },
      "execution_count": null,
      "outputs": []
    },
    {
      "cell_type": "markdown",
      "source": [
        "![graph.png](data:image/png;base64,iVBORw0KGgoAAAANSUhEUgAAAzgAAAJ1CAIAAACaX8LTAAAABmJLR0QA/wD/AP+gvaeTAAAgAElEQVR4nOzdaVgUZ7o38KfoZl8aEFBAUBCwIRrckOCCGTGKSyQYNxQQaTRuQRAI5+RcxyTnnJkJsrjEJZFmUQSMqAQmKjrBvIHkoLgSIt3sagsqyE5DA728H2qGwyBi013dVdXcvw9zXemueuqG/xR1W8tTmEwmQwAAAAAAgHq0yC4AAAAAAACMDBo1AAAAAACKgkYNAAAAAICioFEDAAAAAKAoaNQAAAAAACgKGjUAAAAAAIqCRg0AAAAAgKKgUQMAAAAAoCho1AAAAAAAKAoaNQAAAAAAioJGDQAAAACAoqBRAwAAAACgKGjUAAAAAAAoCho1AAAAAACKgkYNAAAAAICioFEDAAAAAKAoaNQAAAAAACgKGjUAAAAAAIqCRg0AAAAAgKKgUQMAAAAAoCho1AAAAAAAKAoaNQAAAAAAioJGDQAAAACAoqBRAwAAAACgKGjUAAAAAAAoCho1AAAAAACKgkYNAAAAAICioFEDAAAAAKAoaNQAAAAAACgKGjUAAAAAAIqCRg0AAAAAgKKgUQMAAAAAoCho1AAAAAAAKIpJdgEAAKC4Hmnf/a66B931daKXNaLnbQPCPulAv0xsoKWjq6UzScfURd/aWd9mnvG06Qa2Wggju97xDvKiF8iLCjCZTEZ2DeNdc3Ozn58fj8drb29HCLFYLDabfenSJVtbW7JLGy4zM/PPf/5zTU3NwMAAhmGTJ0/28/P75ptvBhdIS0tLSEioqanp7++3tbX19fXlcrlyDr5p06bS0tKioiI7OzvVlP8P5eXlf/7znx88eCAQCPr7+01NTd99992goKBt27ZpacE5Znrokw7cbC//4VVpaXe1VCbTwZgDMjH+t0yG/uVwwcC0MISJZRIjhv4q89lrJsxzN5xKSs3jGeRFL5AXpUCjRhXPnj3DG5Tq6monJyeyyxnN//zP//znf/7nwoULf/311xEXOH78OJfLffjwofxjdnV1mZiYIIS4XC6HwyGm0DdIT0+PjIyMi4v78MMPTU1NeTxedHT0zz//zOFw5G8rAVm6JaLvm39Lf3GzSyLCEJKiMfwFY2IMsUzCNrDdZb3ifdN3MDgBoHqQF71AXhQE5w/A/8nLywsJCSFl08bGxuvWrbOzs1u2bJkaSvLx8dm5c6e1tbW+vv6cOXOys7O1tbVTUlKqq6sJ3xYgigzJ8lru+Jb/94nGa52SXhmSjekoghASyyQIoere55G1aYH8I1W9jaqpFCAEedEN5EVZ0KiB/5OcnEzi1i9duvT06dMpU6YM/VBFJb377rtD/3PixIn46cyKigpVbA4or3mgM7TyxBdPzndLeiUyqTJDSWRSGZLxhY2beImnGq9LlRsNjAjyohfIi8qgUQP/8OzZs4KCArKr+BcqKikkJOTgwYPDPuzv70cIWVhYEL45oLzbXdXrHh36XfhERty9GmIkkcpkyS9uhFadbBN3EzQqQAjyohvIi+KgUaOu3NxcW1tbDMM++OADHo8XHh7u6OhoYGAwb9684uJifJmcnJyJEydiGLZ27dro6GhnZ2ddXd1JkyZxOJznz5/jy3z55ZdmZmYYhq1fvx7/5Pr1625ublpaWhiG3b17FyH01VdfzZ49WyKRnDlzBsMwDMNqamrU9lMIBIJ58+Zpa2tjGHbx4kX8wzeVJBaL4+Li3Nzc9PX1zc3N3d3dExMTBzcXHBxsbm6en58/piKrq6sbGxsnT548d+5cQn5qQKCC1ge7q7/rlvbiF1aIJZHJyoVPtvKPNPa3Ej74+AR50QvkRX3QqFGXv7//b7/9hhAqKyv76aefIiIiHj16lJmZ+fDhww0bNgiFQoTQhg0b8vLyEEJPnjzZunXrw4cPnzx5cvDgwbNnzy5YsKCtrQ0h9OWXX2ZnZw8decWKFRUVFUuXLh385Isvvjh16hRCaNu2bTKZTCaTEfVAgzw/hZ2d3d27d7du3Tp0xTeV9Nlnnx08ePCvf/1ra2vrgwcP5syZU1JSgq/S3d2dkZHR1tZ29uxZeWrr7e0VCAR/+9vfPvroo0mTJp0/f15PT4+QnxoQ5W8td/+t/pxUJpOq7LEnsUzyor9jKw+OJQSAvOgF8qIFaNRowMrK6tNPP3V0dNTX1/f391+6dOnLly/v3bs3dBlra+vZs2cbGhpOmjRpz5494eHhjx8/jouLI6vm18nzU8jj9OnT7u7ufn5++vr6U6ZMiY+P19HRwb8yMjLavHkzi8Ua1vON6NWrVwYGBvb29mvXrrW1tc3NzV24cOGYfyqgSkUdFQefZMsQko3xpuaxksgkHZLeMLhGoxzIi14gL7qARo1+rKysEEJdXV2jLINf5czNzVVTTWMnz08xIgMDg/Ly8vv37+P/aWFhkZWVNfhtdnZ2e3u7v7//W8exsLDo6elpbGwsKiqytbX19PT86KOPurvh7whVPBY1RdeekSGEVHwUwUlkkpf9HQdq0+HeZ8VAXvQCedEINGp0NfpNn9OmTUMIVVdXS6WU3isUuHU1ODhYJBLNnz/f39//0qVL+EMAitHX17e2tl68eHFaWtonn3ySl5d34MABhUcDBOqTig/UpkuQVJ0TPYplkjJh/XfP/662LWoMyIteIC96gUZNM+nq6iKEZDJZb28v4YPj0/eP3gIymap6O9nXX3+dkJAwefLkH374Yf369fb29oScONy9ezdC6Pz588oPBZTHffHT474mVdzdPDqJTHb6xY3q3udq3i7dQV70AnnRCzRqmgl/G5W2traBgQHhg5uZmSGEXrx48aYFWltbLS0tCd8ujslkRkVF1dfX37p1Kzg4+OXLl5s3b+bz+UoOa2pqihDq6urq6ekhokyguCei5tQXhUpO5qQwLYR99eR7Vd+1o0kgL3qBvGgHGjXNhE/cOnv2bAzDEEL4/xLFw8MDISQQCDo7O0dcoLi4+L333iNwi6/DMMzT0/PMmTN79uzp7++/ceOG/OvOmjXr9XvR8NlMTE1NVdHagjE58ZzM+fzEMukfQkFRB0x9LC/Ii14gL9qBRk0z4ZfwAgMD8f/E53FtbR3t6Wj8YqVYLH7r4PPmzfPy8hKLxYcOHXr922vXrpWUlGzfvl2BsuUpaeisIgih2bNno38+moAQCgoKeus8ajo6Ordv3x72Ib7K5s2bla4aKOVZX8vf2x6q/6LMUFoYOtlIrcmfKQvyohfIi46gUdMQ3d3dTU1NYrG4o6MjISEhIyNj8eLFu3btwr91dXW1srIqLi6+du1af39/V1fX/fv3h/VtLi4uCKHi4uKGhobu7u6WlpZRNnf+/HlnZ+c///nPe/bs+f333/v6+np7e8vKyv7t3/5t06ZNZ86csbe3V/6HGrGk4uLir776qq6urq+vr6ys7Pjx4xMmTMDfENrd3X3u3Lm3zqOmr6//l7/85caNG21tbWKx+MmTJ//1X/916NChWbNm/eUvf1G+bKCM882/Msj+uySRyfg9DeXCJ+SWQQuQF71AXnQEjRr5mpubFy9ePPj2SQ8Pj0WLFjU2Ng7O7PXo0SM3N7fS0tLW1lZPT8/vv/8eIRQcHDz0hFZlZaWnp6eRkdHEiRNTU1O/+uqr69eva2tr498aGBh8//33M2bMWLduHZvNPnDggFAoxJ8MXbVq1fHjxxFCbm5un3/+eWdnp4uLi6+vb1lZ2Sg129vbP3jwICkpqaKiwsfHx8jIyMrKavPmzXgL+PHHHw8uKc9Pcf78+RkzZpw7dw4hFBISsmDBAvwlBCOWFBgYePHixVmzZhkaGn7wwQdOTk7FxcX4KUMjI6MtW7awWKygoKBRig8KCtLV1f3kk0+mTp2qp6fn7u5eUFAQHx9/69Yt/PY7QBaJTPq3ljsDpP5zH8fEtH5sGfMkf+MN5EUvkBdNYep8Oheowq1bt7y8vPz8/H744QeyawFAKSWdlburT1PkRmNjhn7RrP/RQkTe36lhIC96gbxoCs6oaYi+vj6ySwBAWbe7qpkYg+wq/qFL0lvd00h2FZQGedEL5EVT0KhpCDgzCjRASWfVgOztj7OoBxNj3OmuJbsKSoO86AXyoilo1AAAlCBDsvrel9T5B4cMyWBmzlFAXvQCedEXNGr0dvjw4TVr1iCEbty44eTklJCQQHZFACjoRX97n2yAOnesSGTS6l64NPNGkBe9QF70par3/AD1iIyMjIyMJLsKAAjwsr+d7BKGe069kqgD8qIXyIu+4IwaAIAShFLKPRDTK6FcSdQBedEL5EVf0KgBAChBJO0nu4Th+mQDZJdAXZAXvUBe9AWNGgCAErQxat2JIUOIiagylwEFQV70AnnRFzRqAABKMNDSIbuEf4EhpM+gVkmUAnnRC+RFX9CoAarLyMhgs9kMBgPDsB9//JHscoCqmGsbk13CcGZMI7JLoC7Ii14gL/qCRk2F5syZg2GYl5cX4SNv2rTJwcFBIBAQPjIVNjdMUFAQn88PCAh4/StyCwPEstO10MKoM3sAwhDmrD+J7CqoC/KiF8iLvqBRUxUej8fj8RBCt27dqqqqInDkrq6uCxcuPH78+MaNGwQOS5HNyY+yhQHFaGOMidqmZFfxf5haWg56cCB5I8iLXiAv+oJGTVXOnTu3efPmBQsWIITOnDmj8Dh5eXkhISFDPzE2Nl63bp2dnd2yZcuULJL0zSmDsoUBhXkYO1PnXYQDUskcI0eyq6A0yIteIC+agkZNJWQyWVZWVnBw8Pbt2xFCGRkZUqlUsaGSk5Nf//DSpUtPnz6dMmWKUlVSYHNKomxhQDHvmThLZQruKYRjYFqzjaaSXQWlQV70AnnRFDRqKvHbb79JpdL3339/06ZNBgYGAoHg559/VmCcZ8+eFRQUEF4eRTYHwDCLTFy1MEr8UWIgrfeMXfQo9qAc1UBe9AJ50RQlMtM8mZmZgYGBGIYZGxuvX78eIZSenj7ikhKJ5Pjx4++9956xsbGOjo6lpaW7u/vhw4cRQl999dXs2bMlEsmZM2cwDMMwrKamRiAQzJs3T1tbG8Owixcv4oPMnTsXX0BXV9fT0/Ply5cIoa6ursWLFxsZGWEYNnfuXHzJ8PBwd3d3CwsLXV1dOzu7PXv2dHd341/Jvzlcd3f3l19+OXPmTENDQwMDg3feeefgwYNdXV34t7m5uba2thiGffDBBzweLzw83NHR0cDAYN68ecXFxUPHCQ4ONjc3z8/PH9NveMTC5N9oc3Pzvn37pkyZoqen5+TktH379ufP/+X1wKP8ojIyMqytrTEMW7lypUwmy8nJ8fHxWbp06ZjqByNiMQ0WmbgyKHB1RopkH1nMJ7sKqoO86AXyoilo1Ig3MDCQk5MTHByM/yd+9fPy5cuDTczQJVevXv3pp5+uXLmytra2ra2toKBg6tSp9+7dQwh98cUXp06dQght27ZNJpPJZDInJyc7O7u7d+9u3bp16Dj37t3bvHkzQig0NPT27dsTJ05ECBkbGxcXF+/bt2/lypX4gHgZGzdufPDgQXNz8+bNm0+dOrV37178K/k3hxDq7e1dsmRJfHz8v//7vzc1NTU2Nn766adff/21t7e3UChECPn7+//2228IobKysp9++ikiIuLRo0eZmZkPHz7csGEDvgxCqLu7OyMjo62t7ezZs2P6JY9YmJwbbW9v9/Ly4nK5iYmJHR0d33333ffff79kyZLBBUb/RQUFBZWUlCCEqqurvb29v/766/b29p6enjHVD95ko9UCKlydMWHqL2HNILsKGoC86AXyoiNo1Ih37dq1adOmTZ8+Hf/PJUuWODo69vT0DDsjhRA6fvz49evXt23b9sUXX1hZWRkaGs6dO/fAgQMKbDQmJgYhlJGR0dHRMfhhf39/Wlra0Le2W1tbf/7553Z2diYmJrGxsQihq1evKrC5+Pj4+/fvR0REbNmyxdDQ0NTUdNeuXXv27Hn48GFcXNzQJa2srD799FNHR0d9fX1/f/+lS5e+fPlysHE0MjLavHkzi8V6vRdUxugb/etf/1pbW3vgwIH169fr6ur6+Pjs3Lmzurp66FlPeX5RMpmsoKDg3r17P//8s4WFBYH1j2cLTKY76U8i9wINA9PaPnGprha1ZnKnJsiLXiAvOoJGjXjnzp0bPJ2GEMIwDH+O8vVnP1NTUxFC27ZtG/qhl5dXUFDQWDc6Z86c999/XygUDu02Ll++bGlp+cEHHwx+cufOHeyfU+lYWFgwGIze3t6xbgshlJ2djRDy9/cf+uGmTZsGv3oTKysrhNDQk4vZ2dnt7e3DhiLWsI3m5uYihNauXTu4wKJFixBCf//73wc/kecXpa+vb2hoiBAyMTGBmXiJgiFsn80qmUxGXgHImKG30XIhWQXQC+RFL5AXHUGjRrDOzs6//e1v+/btw4Y4ePAgQqioqKi+vn5wSYlE8ujRI4SQm5vb0BF0dHRWrFihwKajo6MRQidOnBjcCb/99tuIiAiFf5Y3GRgYqKysRAjZ2dkN/Xzq1KkIoZqamr6+vtFHIOXPBL5RiURSU1ODELKxsRn8Cj8f1tDQoP6qwOveN31ngcl0EucR+MzO35ChS9bWaQfyohfIi3agUSPYpUuX3n//fdlr5s+fL5PJht6J1dXVhbcORkbEvEZj1apVbm5u1dXV+JObfD6/oqIiMDBwcIGenp7//u//fu+99yZOnGhkZKStrS2RSBTYkFAoHLFyU9N/zKY4eN89BfX09ODFT5kyZbCT/tOf/oQQGjxnRtQvCijsP+zXMzEt9U+jro0xFtRbeEjs3r4oGILEvOYZO60yn6P2LdPb+na3CS9JeE0B5KUYaNQIlpmZOeJVvI8++gghdPbs2cGTSUZGRlpaWgihlpYWQjaNYRh+f9vx48cRQt9+++2uXbv09PQGF1i3bt3Bgwc9PT2Li4ufP3/e29vLYCjyjyr8SVL0r1cwEUJtbW14GUS1nqpgYGCAF//q1athzfQff/yBL0PULwoozFbX/KspmxFS66FEC8OMke7UJ9pJiUm3bt1S56bpjqy8DBm6XzsEYerdLq319fVlZ2f/mH15rcgN8qILaNSI1NjY+Msvv/j5+b3+Fd691dXV/frrr/gnTCYTf+CAz+cTVUBgYOCkSZOuXbtWXl5+/vz5PXv2DH7V2tp6/fr1SZMmHT161MXFxdjYmMlU8F5OJpPp6uqKEGpsbBz6Of7OTWdnZ11d6p7WZjAY+CXaN13oJPAXBZThaz47wGqxlrr+pmMIaSGteOft0ZFR77//fk5OTmpq6tAHgcHoSMkr0XG7BfXeNU5ZT58+TUxMrKioCA0N3ecfAnnRBTRqRMrOzvb09MRnxxiGzWbjbdnQRwrwRx2PHTv2pgHxFkEsFstZgK6u7r59+2Qymb+//4oVKyZN+r83qYlEIjTk6qSSm9uyZQtCKC8vb+iHly5dQgiN+Pb0UQQFBSkwj5oyPvzwQ4TQ+fPnR/xWnl8UUI8YOz8fs3cZqn9CDUMIIeyvDoHzjKdpaWn5+vru3r1bIBDExcXhb+wF8iAlL1VvSzNIpdLCwsJjx46ZmZlFR0fPmDEDQV70AY0akTIzM/FLnCPCv8rJyRmccysqKuq99967cuVKcHBwWVmZSCQaGBh49uzZ4GsMXFxcEELFxcUNDQ3d3d3yXCTdvXu3oaFhbW3tsMcIrK2tHRwcKisr8/LyRCJRfX19SkrKsFNf8m8uKipq3rx5hw4dOnv2rFAobG9v/+abbw4fPuzu7o5PFCKn7u7uc+fOKTCPmjI+//zzyZMnJyQkJCYmPn/+XCKRtLe3l5eXP336FMn3iwLqoYWwvzoELjWdqdJ/92MI0xdq/dlhy3Iz98EPnZycYmNjnZ2dk5OTc3Nz5f/H0ng2mJdBt7rzAqNoa2s7efJkQUHBypUrd+3axWKx8M/VlheGQV5KgUaNGAcOHLCxsXnw4MEXX3wxd+7c69evD/32woULs2bNOnr0KEKos7PTxsZm0aJFjY2Nenp6P//886FDh3g8Hv4WARsbm8DAwOrqanxFNze3zz//vLOz08XFxdfXt6ys7Pz58zNmzDh37hxCKCQkZMGCBfgzjIPMzc1DQ0OXLFkye/bsoZ9jGHbhwoX58+dv2bLFwcHhP/7jPxYuXDhjxgyhUOji4oLP4Cr/5vDKP/vss6+//nrChAk2Njbffffdv//7vxcXF+MzVuTm5i5cuBAh9OjRIzc3t9LS0tbWVk9Pz++//x4hFBwcfOjQIYSQkZHRli1bWCzWKDOSZGZmvvPOO/gJsICAgIULFz558mTEwuTc6MSJE0tLS3fs2HHy5EkHBwdjY+OFCxeePHkSPxi/9ReVkZGxYMECfCuOjo5fffWV4v+/AW+jjTEOOQZvtlqMIZXc+8zEGHa1WouvMTzEwx8g0NPTCwoKCggIuH37dlJS0rB3V4ARaWOMtQ0OXlcw3V515wVG9PDhw4SEBKFQGBER4ePjg/1rLGrIS1dL+7hT2GrzuSoYfrzASJxPBQAA5FTY/vt/1GcPyAbExM2rzsC0HPSsEqZs+1vK952dnRERESM+B9Pa2nru3DmBQPDhhx8uXrwYI+FpOdrg8/nJycmrVq1Ccy3JygvgRCLRpUuX7t27995773300Uc6OiO8WFMNeR2eFmqvC/OBK4Xx5Zdfkl0DAAC8haPexJXmc+pEL5/1tWghLRlS6l+YTIzBwLR2Wi//H4ctFjomM2bMuH37No/Hmzt3Lv4s9lD6+voeHh4ymezq1auPHz92cXGBS+Ejevny5enTp2fNmuXn50diXgAh9OTJk+++++7FixfBwcF/+tOfRnxuXT15mTOhmVYWnFEDANBJUUfFNw1XqnqfMzAtydj/9c/EGFIkXWk+Z4+172TdCYOfv3z58ujRozNmzMAflBnRkydPzp07JxKJAgIChs1TDYRC4ZEjR0xMTHbv3j30QWkS8xqfpFLpjRs3/v73v7u4uAQEBJiYmIy4mJrzAsqARg0AQD//28m/0FRS3Flh8EoqMsf6sbccUfT7GZhIomNu+OGEeZstF414CBm8DOTj4/OmceS5nDQOSSSSU6dOtbe3v+lyJFl5jTdyXqYnJS+gMGjUAAB09aKz5dBXf9Zf5fxgYsvz/jbpSH/NdDFtJ/1JjkV9xgM6MXsjRn8ddVFR0Q8//BAUFDTsWZxhHj58mJOTY2JiEhgYaGtrq+yPQXMymSwrK+uPP/4IDw+3trYeZUmy8hon7ty5c+nSJXNz88DAwKGvyBuGxLyAYmAmTwAAXT2vfYoh7D8XbtfT0xuQSZ71tbQMdPVK+3ul/cYMfQOGziRt04k6pgih0q7SnJwc8YB49HNg3t7ezc3N2dnZEyZMsLe3f9Nis2bNmjJlSmZm5pEjR3x9fZcuXTqenzD4+9//fv/+/Z07d45+1Efk5aXxRCJRTk7OgwcPFi9e/OGHH44+RzeJeQHFQKMGAKArPp/v4OCAvydNG2M46Fk56FmNuKSrq6tEIqmpqXnrvWX+/v6tra0pKSmRkZGjzHtsZma2Z8+en3/++dq1a1VVVfgsM8r8LDRVVlZWUFDw8ccf4xN6j47EvDRYTU1NZmamRCLZsWMH/s6YUZCeF1AAnKUEANCSTCarrKxks9nyLGxsbGxjY1NZWfnWJbW0tIKCggwNDblcbn9//+hL+vj4hIeHt7W1JSQkDL4rdvwQCARZWVne3t74/IWjIz0vzSOVSgsKCk6dOmVnZxcbG/vWLo0KeQEFQKMGAKClxsbGjo4OOQ8kCCE2my3n+6D09PTCwsI6OjoyMzPfehevvb19VFTUzJkzU1JSMjMzx0+v0NHRkZKS4ujouHbtWnmWp0heGqOpqenIkSM3b9708/MLDQ3FZxofBXXyAmMFjRoAgJb4fL6xsbH89/Kz2ezm5uZXr17JszD+ho+KioqrV6++dWFdXd2NGzeGhIRUVFQkJiY+e/ZMzpLoq6+v7/Tp0/r6+tu2bZNzJjPq5KUB7ty5k5SUhBCKiYnx9vZ+6/JUywuMCTRqAABa4vP5bDZb/rv48btt5L864+DgsHHjxp9++gl/wdpb4S+6NTExOXLkSEFBgQaf2pHJZOfOnevo6OBwOPgNTPKgWl40JRQKU1JSsrOzPT099+/fb2lp+dZVqJkXkB80agAA+unr66uvr5f/ugxCiMFgODs78/l8+Vfx8PBYtmzZpUuXhr1R901MTU337Nmzdu3an376CZ+nSv5t0Uh+fj6fzw8LC7OwkPfVQNTMi3aqqqri4+OfPXu2d+9ef3//Ed838DrK5gXkBI0aAIB+qqqqpFKpi4vLmNZis9lVVVVisVj+VVatWvXuu++mp6c3NzfLszyGYd7e3vv37+/o6Dh06ND9+/fHVCH13b59+5dfftm8efPUqVPlX4uyedGFWCz+8ccfv/3226lTp8bExEybNk3OFSmeF5AHNGoAAPrh8/l2dnZjfSe3m5tbf39/fX29/KtgGBYQEGBhYcHlcnt6euRcy87OLjo62sPDIyMjIzMzs6+vb0x1UlZtbW1OTs7y5cvnzp07phUpnhfFvXz58siRI7/++uuGDRtCQkIMDAzkXJH6eQF5QKMGAKCfysrKt05G8DpTU1MrK6uxXp3R1tYODQ3t7+9PTU2VSCTyr+Xv7x8aGsrj8eLj4zXg6PXq1au0tLSZM2euWLFirOtSPy9qkslkJSUlSUlJDAYjOjray8tL/nXpkhd4K2jUAAA009TU1NLSIs+Mna9zdXVV4EBiYmISFhb27NmzixcvjmnFmTNnxsbGWllZHT9+vKCgQCod81uuKaKnp+f06dPm5uYBAQFjfQ0DjfKilO7u7pSUlIsXLy5evDg8PFz+O8wQ3fICo4NGDQBAMzwez8DAYMqUKQqsy2azGxsbFbjN39bWNjg4uLS0tKioaEwrGhsb79ixw8/Pr7Cw8JtvvmlpaRnrpkknkUjS09PFYvGOHTsUeEcQvfKiiG+Y5GkAACAASURBVMrKyvj4+MbGxr17965Zs0bO5wZwdMwLjAIaNQAAzfD5fBcXFzmngxrGyclJR0dHsUkE3NzcVq9e/cMPPzx69GhMK+JPGERFRfX39yckJNy9e1eBrZPo8uXLT58+DQsLMzY2VmB12uVFLrFYnJub+9133zk6OkZHRzs6Oo51BJrmBd4EGjUAAJ2IxeK6uroxTRwwFJPJdHR0VPjqzNKlS728vDIyMhobG8e67qRJkyIjI+fPn5+VlXXmzJne3l7FalCzmzdvlpSUBAYG2tjYKLA6ffMixYsXLw4fPlxaWrply5Zt27bJ/9zAIFrnBUYEjRoAgE5qamoGBgYUPpCgf04ioPDtYuvWrbO3t+dyuV1dXWNdl8lk+vv7f/LJJ3V1dfHx8XV1dYrVoDYVFRVXrlzx8/ObMWOGYiPQOi91kslkRUVFiYmJ2tra0dHR8+bNU2AQDcgLvA4aNQAAnfD5fGtraxaLpfAIrq6uPT09T548UWx1BoMREhLCZDKTk5MVe7Pn9OnTY2JibGxsTpw48eOPP1L2ycSGhoazZ8/Onz9/yZIlCg+iAXmpQVdXV3Jycl5eno+PT3h4+IQJExQYRDPyAq+DRg0AQCc8Hk+Zf+4jhKysrCZMmKDMbTQGBgZhYWEtLS3Z2dmKvSrKyMiIw+GsX7++uLj42LFjFHxDYmdnJ5fLnTx58vr165UZRzPyUqny8vK4uLimpqZ9+/b5+voqdnOYJuUFhoFGDQBAG62trU1NTUoeSBBC06dP5/F4yoxgZWUVGhpaXl5+48YNxUbAMMzLy+vAgQMSiSQhIYFSb6gcGBhITU3V0dEJDQ0d0/OGw2hSXqowMDCQm5ubmprq6uoaExPj4OCg8DgalhcYCho1AABt8Pl8HR0dhY9ng9hstkAg6O7uVmaQadOmbdiw4fr16/fu3VN4kIkTJ0ZERCxatCgnJyc9PZ0Kk+nLZLLs7Ozm5uawsDAFbmYfSvPyIpBAIEhISCgtLQ0KCtq6dauurq5i42hqXmAQNGoAANrAJw5gMplKjuPi4sJgMKqqqpQcx9PTc8mSJefPn3/8+LHCgzCZzDVr1uzatevx48cJCQm1tbVKVqWkq1ev/v7779u3b7e0tFRyKI3MS3n4cwNHjx5lsVixsbFz5sxRZjQNzgvgoFEDANCDRCKprq5W/roMQkhXV3fq1KmETCKwdu1aNpvN5XKVnMnWxcUlJibG1tb2xIkTubm5ZD1h8ODBg8LCwo8//tjJyUnJoTQ7L4W1t7efPHkyPz9/2bJlu3fvNjU1VWY0jc8LIGjUAAB0UV9fLxKJFHuzzevYbDaPx1P+1nIMwwIDA1ksFpfLFYlEygxlaGjI4XACAgJu3bp19OjR5uZmJWsbq/r6+qysLHzuMUJG0+y8FFBWVhYfH9/Z2RkREeHr6zvWlzsNMx7yAggaNQAAXfD5fEtLyzG98XAUbDa7u7u7oaFB+aF0dXV37tzZ29t75swZ5aeP8vDwiIqKkslk8fHx6nz9UWtrK35X++rVqwkZcJzkJae+vr4LFy6kp6e7ublFRUVNnjxZyQHHT14AGjUAAD3w+XxXV1eiRrOxsWGxWERdnWGxWBwOp66uLj8/X/nRrKysIiMjly5dmpeXl5qaKhQKlR9zdCKRiMvlsliswMBAJU/zDBo/eb3V06dPExMTy8vLORzO1q1bFXj/5jDjLa9xDho1AAANdHV1NTY2EnVdBiGEYdj06dMJPJDY2dlt2bKlqKjot99+U340LS0tX1/f3bt3CwSCuLg4lU52IJVKMzIyhEJhWFiY8j0Ebrzl9SZSqbSwsPDYsWNmZmbR0dEKvzBg2JjjMK/xDBo1AAAN8Hg8BoOh/B3TQ7HZbPy+HKIGdHd3X7FixeXLl4l63s3JySk2NtbZ2Tk5OTk3N1csFhMy7DC5ubnV1dUcDkfJG9uHGp95DdPW1nby5MmCgoKVK1fu2rVLmen+hxq3eY1b0KgBAGiAz+dPmzaNqPMHOPz8AbEH6eXLl8+ZMyctLe3FixeEDKinpxcUFBQQEHD79u2kpKTnz58TMuwg/JRSQECAvb09gcOO27wGPXz4MCEhQSgURkRE+Pj4EHWBcpznNT5BowYAoDqpVFpVVUXIxAFDGRgY2NnZEXt1BsOwTZs2WVtbc7lcAif89PDw+Oyzz/T09JKSkoqKioh6mI7P5+fl5a1evXr27NmEDIgb53mJRKLMzMyzZ8+6u7tHRkba2toSMiyCvMYraNQAAFQnEAiEQiHhBxL0z0kEiB2TyWRyOBwMw9LS0gi8WGlubr5v3z4fH5+8vLzTp093dnYqOeDLly/Pnj07d+5cHx8fQiocNJ7zevLkSWJiIp/P53A4GzduJPAcFeQ1bkGjBgCgOh6PZ2pqOmnSJMJHdnV1bW9vJ/yyl6GhYVhY2PPnzy9cuEDgsPgTBuHh4a9evYqPj6+oqFB4KKFQyOVyra2tN27cSGCFuPGZl1QqLSgoOHbsmIWFRUxMzDvvvENghZDXeAaNGgCA6oidOGAoe3t7IyMjVVydmThxYnBw8L179woLC4kdecqUKVFRUfj0+hcuXOjv7x/rCBKJJC0tTSaTbd++Xfn3Bb1uHObV2tp6/PjxwsJCPz+/nTt3mpiYEFgb5DXOQaMGAKC0np4egUCgiusyCCEMw5ydnVV0IGGz2X5+fleuXHnw4AGxI+vp6W3dujU4OLisrOzw4cNjmlZUJpOdP3++oaGBw+EYGRkRWxgal3nduXPn0KFDIpEoMjLS29ubqOcGcJAXgEYNAEBplZWVCCEXFxcVjc9ms2traxU4LyUPb2/vhQsXZmdnP336lPDBZ82aFR0dbWhoeOTIkcLCQjmfMLhx48b9+/dDQkKsra0JLwmNs7xEIlFGRkZ2dranp+eBAwdsbGwILwnyAtCoAQAojc/nOzg46OnpqWh8V1dXiURSU1OjovH9/f2dnZ1TUlLa29sJH9zMzGzPnj2+vr7Xrl379ttvOzo6Rl++rKzs+vXr69atI3Bq02HGT141NTVxcXHV1dU7duzw9/dXxUVJyAsgaNQAAFQmk8kqKytVdF0GZ2xsbGNjg59XUAUtLa2goCBDQ0Mul6uK8wpaWlo+Pj7h4eFtbW0JCQl//PHHm5YUCARZWVn4SSPCy8CNk7zw5wZOnTplZ2cXGxurohu8IC+Ag0YNAEBdjY2NHR0dKj2QINVPIqCnpxcWFtbR0ZGZmUnUFGjD2NvbR0VFzZw5MyUlJTMz8/UOo6OjIyUlxdHRce3ataooADce8mpqajpy5MjNmzf9/PxCQ0MNDQ1VUQPkBQZBowYAoC4+n29sbEzglKEjYrPZzc3Nr169Ut0mzM3NQ0NDKyoqrl69qqJN6Orqbty4MSQkpKKiIjEx8dmzZ4Nf9fX1nT59Wl9ff9u2bVpaKvyzr/F53blzJykpCSEUExPj7e2toq1DXmAoaNQAANTF5/PZbDaxj9G9Dr9HR9VXZxwcHDZu3PjTTz+VlJSobivu7u4xMTEmJiZHjhwpKCiQyWQymezcuXMdHR0cDkd1tyLhNDgvoVCYkpKCPzewf/9+S0tLFW0X8gLDEH/zIwAAEKKvr6++vt7Ly0vVG2IwGPgkAqq7GQjn4eHR1NR06dIlS0tLYl+APZSpqemePXuKi4vz8/Pr6uosLCz4fP7evXstLCxUtEWcBufV19f3//7f/8MwbO/evdOmTVPpRvPz8yEvMBScUQMAUFRVVZVUKlXdxAFDsdnsqqoqAt/49CarVq16991309PTm5ubVbcVDMO8vb3379//8uXLkpKS9957b+rUqarbHE4j81q+fLmFhUVeXp61tXVMTIyqu7Tbt2//8ssvmzdvhrzAIGjUAAAUxefz7ezsVDHJ5+vc3Nz6+/vr6+tVvSEMwwICAiwsLLhcbk9Pj0q31d/fLxQKp0yZ8uuvv2ZmZvb19al0c5qX18uXL48ePdre3j5hwoTW1laVbgshVFtbm5OTs3z58rlz56p6W0gT89JU0KgBACiqsrJSRRMfvM7U1NTKyko9U6hra2uHhob29/enpqZKJBIVbeXVq1dpaWkzZ87cv39/aGgoj8eLj49X6ZFSk/KSyWQlJSVJSUkMBiM6Ojo8PFxtea1YsUJFmxhGk/LSbNCoAQCoqKmpqaWlRXXzfL7O1dVVbQcSExOTsLCwZ8+eXbx4URXj9/T0nD592tzcPCAgAMOwmTNnxsbGWllZHT9+vKCgQCqVEr5FTcqru7s7JSXl4sWLixcvDg8Pt7CwUHNeqtjEMJqUl8aDRg0AQEU8Hs/AwGDKlClq2yKbzW5sbFTF+wNGZGtrGxwcXFpaWlRUROzIEokkPT1dLBbv2LFDR0cH/9DY2HjHjh1+fn6FhYXffPNNS0sLsRvVmLwqKyvj4+MbGxv37t27Zs0aBoOBf67mvFRNY/IaD6BRAwBQEZ/Pd3FxUekkUsM4OTnp6OiocxIBNze31atX//DDD48ePSJw2MuXLz99+jQsLMzY2Hjo5/gTBlFRUf39/QkJCXfv3iVwoxqQl1gszs3N/e677xwdHaOjox0dHYctoOa8VEoD8ho/oFEDAFCOWCyuq6tT9YTpwzCZTEdHRzVfnVm6dKmXl1dGRkZjYyMhA968ebOkpCQwMPBNLwifNGlSZGTk/Pnzs7Kyzpw509vbq/xGNSCvFy9eHD58uLS0dMuWLdu2bTMwMBhxMfXnpQoakNe4Ao0aAIByampqBgYG1HwgQf+cREAVt3CNYt26dfb29lwut6urS8mhKioqrly54ufnN2PGjFEWYzKZ/v7+n3zySV1dXXx8fF1dnZLbpXVeMpmsqKgoMTFRW1s7Ojp63rx5oy+v/rwIR+u8xiFo1AAAlMPn862trVkslpq36+rq2tPT8+TJE3VulMFghISEMJnM5ORkZd7a3tDQcPbs2fnz5y9ZskSe5adPnx4TE2NjY3PixIkff/xRmecZ6ZtXV1dXcnJyXl4e/mL7CRMmvHUVsvIiEH3zGp+gUQMAUA6Px1P/P/cRQlZWVhMmTFD/bTQGBgZhYWEtLS3Z2dmKvbW9s7OTy+VOnjx5/fr18q9lZGTE4XDWr19fXFx87Ngxhd/GSNO8ysvL4+Limpqa9u3b5+vrK/8NW2TlRRSa5jVuQaMGAKCW1tbWpqYmUg4kCKHp06fzeDz1b9fKyio0NLS8vPzGjRtjXXdgYCA1NVVHRyc0NHTwKUU5YRjm5eV14MABiUSSkJCgwHtI6ZjXwMBAbm5uamqqq6trTEyMg4PDWEcgKy/l0TGvcQ4aNQAAtfD5fB0dHQWOnYRgs9kCgaC7u1v9m542bdqGDRuuX79+7949+deSyWTZ2dnNzc1hYWFvugX+rSZOnBgREbFo0aKcnJz09PQxvTKBdnkJBIKEhITS0tKgoKCtW7fq6uoqtmkS81IG7fIC0KgBAKgFnziAyWSSsnUXFxcGg1FVVUXK1j09PZcsWXL+/PnHjx/LucrVq1d///337du3W1paKrNpJpO5Zs2aXbt2PX78OCEhoba2Vs4VaZQX/tzA0aNHWSxWbGzsnDlzlNw6iXkpjEZ5ARw0agAACpFIJNXV1WRdl0EI6erqTp06lcRJBNauXctms7lcrjxz0j548KCwsPDjjz92cnIiZOsuLi4xMTG2trYnTpzIzc196xMGNMqrvb395MmT+fn5y5Yt2717t6mpKSEFkJvXWNEoLzAIGjUAAIXU19eLRCJ1vtnmdWw2m8fjKXaTuPIwDAsMDGSxWFwuVyQSjbJkfX19VlYWPrMXgQUYGhpyOJyAgIBbt24dPXq0ubl59BpokVdZWVl8fHxnZ2dERISvry+Br2kiPa8xoUteYCho1AAAFMLn8y0tLS0sLEisgc1md3d3NzQ0kFWArq7uzp07e3t7z5w586ZJp1pbW/F74VevXq2KGjw8PKKiomQyWXx8/CgvTaJ+Xn19fRcuXEhPT3dzc4uKipo8eTLhBVAhLzlRPy/wOmjUAAAUwufzXV1dya3BxsaGxWKRe3WGxWJxOJy6urr8/PzXvxWJRFwul8ViBQYGqu4d3lZWVpGRkUuXLs3Ly0tNTRUKha8vQ/G8nj59mpiYWF5ezuFwtm7dqro3aVIhL3lQPC8wImjUAABU0dXV1djYSO51GYQQhmHTp08n/UBiZ2e3ZcuWoqKi3377bejnUqk0IyNDKBSGhYWp+h3eWlpavr6+u3fvFggEcXFxwyZWoHJeUqm0sLDw2LFjZmZm0dHRapj6nwp5jY7KeYFRQKMGAKAKHo/HYDDIus96KDabjd/NQ24Z7u7uK1asuHz58tCn5HJzc6urqzkcDlG3w7+Vk5NTbGyss7NzcnJybm6uWCzGP6dsXm1tbSdPniwoKFi5cuWuXbvUNgU/RfJ6E8rmBUYHjRoAgCr4fP60adPIPeuAw886UGESgeXLl8+ZMyctLe3FixcIIfyETUBAgL29vTrL0NPTCwoKCggIuH37dlJS0vPnzxFV83r48GFCQoJQKIyIiPDx8VHzpUaK5DUiauYF3orx5Zdfkl0DAAAgqVR68eLF+fPnT506lexakLa2No/H6+vre+edd8itBMMwNzc3Pp9fUlJibGyck5OzevXqBQsWkFKMra3tnDlzKioqrl+/rqure+fOHUrl1dPT8/vvvxcUFMybN2/79u1mZmbqr4RSeQ0F+xd9wRk1AAAlCAQCoVBI4gxPw+CTCJBdBUIIMZlMDocjlUrPnTs3e/ZsHx8fEosxNzfft2+fj49Pfn6+UChUxUOUirG2tr579y6fz+dwOBs3biTxvBGl8hoE+xd9QaMGAKAEHo9namo6adIksgv5B1dX1/b2dvwCFnWQ+8wgDn/CYP78+QwG48yZMxUVFeTWI5VKCwoKSktLpVLptm3bKHWShgp54WD/oi9o1AAAlECFiQOGsre3NzIyosKzaRKJJC0tTUtLKzAw8P79+4WFhWRXhBBCz58/nzt3Lj4p/4ULF/r7+0kpo7W19fjx44WFhWvXrjUyMnr27BkpZQxFzbxg/6IvaNQAAOTr6ekRCATUuS6DEMIwzNnZmfQDiUwmO3/+fENDA4fDmT17tp+f35UrVx48eEBuVXhe77zzztatW4ODg8vKyg4fPqz+KUzv3Llz6NAhkUgUGRm5ZMkSyOtNYP+iNWjUAADkq6ysRAi5uLiQXci/YLPZtbW1ZJ0rwt24ceP+/fshISHW1tYIIW9v74ULF2ZnZz99+pTEqobmNWvWrOjoaENDwyNHjhQWFqrn1UAikSgjIyM7O9vT0/PAgQM2NjYI8noz2L9oDRo1AAD5+Hy+g4ODnp4e2YX8C1dXV4lEUlNTQ1YBZWVl169fX7du3dBJSv39/Z2dnVNSUtrb28kqbFheZmZme/bs8fX1vXbt2rffftvR0aHSrdfU1MTFxVVXV+/YscPf35/JZOKfQ15vAvsXrUGjBgAgmUwmq6yspNR1GZyxsbGNjQ1+NkL9BAJBVlYWfkpm6OdaWlpBQUGGhoZcLpeUsxEj5qWlpeXj4xMeHt7W1paQkPDHH3+oYtP4cwOnTp2ys7OLjY0ddtMV5DUi2L/oDho1AADJGhsbOzo6KHggQeRNItDR0ZGSkuLo6Lh27drXv9XT0wsLC+vo6MjMzFTPpcahRsnL3t4+Kipq5syZKSkpmZmZxPYlTU1NR44cuXnzpp+fX2hoqKGh4evLQF6vg/2L7qBRAwCQjM/nGxsb29rakl3ICNhsdnNz86tXr9S50b6+vtOnT+vr62/btk1La+S/0ubm5qGhoRUVFVevXlVnbehteenq6m7cuDEkJKSioiIxMZGoxzDv3LmTlJSEEIqJifH29n7TYpDX62D/ojto1AAAJOPz+Ww2mzozTg2F39mjzqszMpns3LlzHR0dHA5n9JuKHBwcNm7c+NNPP5WUlKitPCRfXu7u7jExMSYmJkeOHCkoKFDmNJJQKExJScGfG9i/f7+lpeUoC0Ner4P9i+6gUQMAkKmvr6++vp6a12UQQgwGQ82TCOTn5/P5/LCwMAsLi7cu7OHhsWzZskuXLqntjmz58zI1Nd2zZ8/atWt/+umnU6dOKXYrfVVVVXx8/LNnz/bu3evv789gMEZfHvIaBvYvDQCNGgCATFVVVVKplGoTBwzFZrOrqqrEYrEatnX79u1ffvll8+bN8r+QcdWqVe+++256enpzc7MqS/uHMeWFYZi3t/f+/fs7OjoOHTp0//59+TckFot//PHHb7/9durUqTExMdOmTZNzRchrKNi/NAA0agAAMvH5fDs7OyMjI7ILeSM3N7f+/v76+npVb6i2tjYnJ2f58uVz586Vfy0MwwICAiwsLLhcbk9Pj+rKwymQl52dXXR0tIeHR0ZGRmZmZl9f31tXefny5ZEjR3799dcNGzaEhIQYGBjIvznIayjYvzQANGoAADJVVlZS6s02rzM1NbWyslL11ZlXr16lpaXNnDlzxYoVY11XW1s7NDS0v78/NTVVIpGoorxBiuWlra3t7+8fGhrK4/Hi4+NHOSrLZLKSkpKkpCQGgxEdHe3l5TXWbUFeQ8H+pQGgUQMAkKapqamlpWXo7KDU5OrqqtIDSU9Pz+nTp83NzQMCAhS76dvExCQsLOzZs2cXL14kvLxBSuY1c+bM2NhYKyur48ePFxQUSKXSYQt0d3enpKRcvHhx8eLF4eHh8tz1NSLICwf7l2aARg0AQBoej2dgYDBlyhSyC3kLNpvd2NioopnlJRJJenq6WCzesWOHjo6OwuPY2toGBweXlpYWFRURWN5QyudlbGy8Y8cOPz+/wsLCb775pqWlZfCrysrK+Pj4xsbGvXv3rlmz5q3PDYwC8sLB/qUZoFEDAJCGz+e7uLi8aeop6nByctLR0VHRJAKXL19++vRpWFiYsbGxkkO5ubmtXr36hx9+ePToESG1DUNIXvgTBlFRUf39/QkJCXfv3hWLxbm5ud99952jo2N0dLSjo6OSdUJeONi/NAPV8wMAaCqxWFxXV0fZiQOGYjKZjo6Oqrg6c/PmzZKSksDAQPy14spbunSpl5dXRkZGY2MjIQMOIjavSZMmRUZGzp8/Pysr6+DBg7dv396yZcu2bdvG9NzAm0BeCPYvDQKNGgCAHDU1NQMDA7Q4kKB/TiLw+m1VyqioqLhy5Yqfn9+MGTMIHHbdunX29vZcLrerq4vAYQnPi8FgTJgwQUtLq7+/X09Pz9zcnKiREeQF+5cGgUYNAEAOPp9vbW3NYrHILkQurq6uPT09T548IWrAhoaGs2fPzp8/f8mSJUSNiWMwGCEhIUwmMzk5mcC3bRKbV1dXV3Jycl5e3rJlyw4ePDh58uQTJ078+OOPRD0FCXmN8/1Lk0CjBgAgB4/Ho8s/9xFCVlZWEyZMIOo2ms7OTi6XO3ny5PXr1xMy4DAGBgZhYWEtLS3Z2dlEvQWcwLzKy8vj4uKampr27dvn6+trYmLC4XDWr19fXFx87NgxQt78CHmN5/1Lw0CjBgAgQWtra1NTE40OJAih6dOn83g85ccZGBhITU3V0dEJDQ1V5tnG0VlZWYWGhpaXl9+4cUP50YjKa2BgIDc3NzU11dXVNSYmxsHBAf8cwzAvL68DBw5IJJKEhARC3oYJeY3P/UvzQKMGACABn8/X0dEZPE7TApvNFggE3d3dygwik8mys7Obm5vDwsIIuXF+FNOmTduwYcP169fv3bun5FCE5CUQCBISEkpLS4OCgrZu3aqrqztsgYkTJ0ZERCxatCgnJyc9PV3Jifshr3G4f2kkaNQAACTAJw5gMplkFzIGLi4uDAajqqpKmUGuXr36+++/b9++3dLSkqjCRuHp6blkyZLz588/fvxYmXGUzEsmkxUVFR09epTFYsXGxs6ZM+dNSzKZzDVr1uzatevx48cJCQm1tbWKlgx5jcf9SyNBowYAUDeJRFJdXU2v6zIIIV1d3alTpyozicCDBw8KCws//vhjJycnAgsb3dq1a9lsNpfLHTq77JgomVd7e/vJkyfz8/OXLVu2e/duU1PTt67i4uISExNja2t74sSJ3NxcxZ4wgLyILUzVlM9LU0GjBgBQt/r6epFIRP0327yOzWbzeDzFbveur6/PysrC580ivLBRYBgWGBjIYrG4XK5IJFJgBGXyKisri4+P7+zsjIiI8PX1lf+FS4aGhhwOJyAg4NatW0ePHm1ublZg65AXvSiTlwaDRg0AoG58Pt/S0lLhNzmSiM1md3d3NzQ0jHXF1tZW/A761atXq6Kw0enq6u7cubO3t/fMmTMKTFWlWF59fX0XLlxIT093c3OLioqaPHnyWLeLEPLw8IiKipLJZPHx8Qq8agnyoheF89Js0KgBANSNz+e7urqSXYUibGxsWCzWWK/OiEQiLpfLYrECAwMVe4e38lgsFofDqaury8/PH+u6CuT19OnTxMTE8vJyDoezdetWZd6JaWVlFRkZuXTp0ry8vNTUVKFQKP+6kBe9KJaXxoNGDQCgVl1dXY2NjXS8LoMQwjBs+vTpYzqQSKXSjIwMoVAYFhamTL+iPDs7uy1bthQVFf3222/yrzXWvKRSaWFh4bFjx8zMzKKjowmZxF9LS8vX13f37t0CgSAuLk7+SRwgL3pRIK/xABo1AIBa8Xg8BoOhzruzicVms/F7gORcPjc3t7q6msPhyHMTvaq5u7uvWLHi8uXL8j9bN6a82traTp48WVBQsHLlyl27dhE7Lb6Tk1NsbKyzs3NycnJubq5YLJZnLciLXsaa13gAjRoAQK34fP60adPIPVehDPxchZwHTvx0SEBAgL29vYrrktfy5cvnzJmTlpb24sULeZaXP6+HDx8mJCQIhcKIiAgfHx9VXDTU09MLCgoKCAi4fft2UlLS8+fP37oK5EUvY8prnIBGDQCgPlKptKqqinYTBwxlgw4lcgAAIABJREFUYGBgZ2cnz9UZPp+fl5e3evXq2bNnq6EwOWEYtmnTJmtray6X+9bJReXMSyQSZWZmnj171t3dPTIy0tbWlrh6R+Dh4fHZZ5/p6eklJSUVFRWN/pAg5EUv8uc1fkCjBgBQH4FAIBQKaX0gQf+cRGD0ZV6+fHn27Nm5c+f6+Piopyr5MZlMDoeDYVhaWtroFxDlyevJkyeJiYl8Pp/D4WzcuFE953LMzc337dvn4+OTl5d3+vTpzs7OURaGvOhFnrzGFWjUAADqw+PxTE1NJ02aRHYhSnF1dW1vbx/lUpRQKORyudbW1hs3blRnYfIzNDQMCwt7/vz5hQsXRlls9LykUmlBQcGxY8csLCxiYmLeeecd1RQ7MvwJg/Dw8FevXsXHx1dUVLxpSciLXt6a13gDjRoAQH3oO3HAUPb29kZGRm+6OiORSNLS0mQy2fbt26n8Dp+JEycGBwffu3evsLDwTcuMkldra+vx48cLCwv9/Px27txpYmKiskpHM2XKlKioKHwq/wsXLvT397++DORFL6PnNQ5BowYAUJOenh6BQED36zIIIQzDnJ2dRzyQyGSy8+fPNzQ0cDgcIyMj9dc2Jmw228/P78qVKw8ePHj921HyunPnzqFDh0QiUWRkpLe3N1mTjeH09PS2bt0aHBxcVlZ2+PDh16dLhbzoZZS8xido1AAAalJZWYkQcnFxIbsQArDZ7Nra2tfP39y4ceP+/fshISHW1takFDZW3t7eCxcuzM7Ofvr06bCvRsxLJBJlZGRkZ2d7enoeOHDAxsZGfbWOatasWdHR0YaGhkeOHCksLBz2hMG4zYum3pTX+ASNGgBATfh8voODg56eHtmFEMDV1VUikdTU1Az9sKys7Pr16+vWraPXdKP+/v7Ozs4pKSnt7e1DP389r5qamri4uOrq6h07dvj7+1PtQqGZmdmePXt8fX2vXbv27bffdnR0DH41PvOirxHzGregUQMAqINMJqusrNSA6zI4Y2NjGxsb/BwGTiAQZGVl4Sc8SCxMAVpaWkFBQYaGhlwud/AcxrC88OcGTp06ZWdnFxsbS9kbobS0tHx8fMLDw9va2hISEv744w/88/GWF929ntd4Bo0aAEAdGhsbOzo6NOZAgv51EoGOjo6UlBRHR8e1a9eSW5Vi9PT0wsLCOjo6MjMz8YuGQ/Nqamo6cuTIzZs3/fz8QkNDDQ0Nya73Lezt7aOiombOnJmSkpKZmYl3M+MnL80Ak3QMgkYNAKAOfD7f2NhY1VOhqhObzW5ubn716lVfX9/p06f19fW3bdumpUXXP6rm5uahoaEVFRVXr15FQ/K6c+dOUlISQigmJsbb25vsMuWlq6u7cePGkJCQioqKxMTEZ8+ejZO8yK6LMIN5kV0I+Rhffvkl2TUAADTftWvX7Ozs3n33XbILIQyLxSoqKjI3N//5559fvHixZ88esqaoIIqZmZmZmVleXh6LxSovL7e2tr53797NmzcXLFiwbds26j8U+bpJkybNnTu3qqqqoKCAxWI1NDRocF4auX9NmDCBOq/zIgu1bgUFAGikvr6++vp6Ly8vsgshEoPBcHZ2/uWXX9rb2/fu3WthYUF2RQTw8PBoamq6dOmSTCbT09PT0dHZu3fvtGnTyK5Lcaampnv27CkuLs7Pz9fX1//55587Ozs1Ly+EkEbuX3w+n3Y3ERKOrmd9AQA0UlVVJZVKNWPigKF0dXVfvXq1YcOGqVOnkl0LYZYvX25sbCyVSm1tbWNiYmjdpeEwDPP29t6/f79YLG5tbZ0/f74m5bVq1Sp7e3uJRDJhwgSyayEYm82uqqoa/a1Z4wE0agAAlePz+XZ2dnS8djaK2tpafN5RMzMzsmshzMuXL48ePdrV1cVkModOb6EB+vv7BwYGEEL/+7//m5mZ2dfXR3ZFxMAwbOLEibq6ullZWT09PWSXQyQ3N7f+/v76+nqyCyEZNGoAAJWrrKyk7IQOinn16lVaWtrMmTOtrKw0Ywp1mUxWUlKSlJTEYDCMjY0XLVrU39+fmpoqkUjILo0AQ/OaOXMmj8eLj4/XmA6gurray8tLk/LCmZqaasz+pQxo1AAAqtXU1NTS0kKvOUVH19PTc/r0aXNz84CAAFdXVw04kHR3d6ekpFy8eHHx4sWbN29ub29/9913w8LCnj17dvHiRbKrU9awvFpaWmJjY62srI4fP15QUCCVSskuUCn4/qVJeQ2lGfuXkqBRAwCoFo/HMzAwmDJlCtmFEEMikaSnp4vF4h07dujo6LDZ7MbGxmFzxNNLZWVlfHx8Y2Pj3r1716xZU1VVhedla2sbHBxcWlpaVFREdo2KGzEviUSyY8cOPz+/wsLCb775pqWlhewyFTe4f2lGXsNowP6lPGjUAACqxefzXVxc6Dth1TCXL19++vRpWFiYsbExQsjJyUlHR4emU6iLxeLc3NzvvvvO0dExOjra0dER/Wtebm5uq1ev/uGHHx49ekR2sQp6U174EwZRUVH9/f0JCQl3794lu1IFaVhew9B6/yKKhvzpBABQk1gsrqur05gJ02/evFlSUhIYGDj4MnImk+no6EjHqzMvXrw4fPhwaWnpli1btm3bZmBggEbKa+nSpV5eXhkZGY2NjeQVq6C35jVp0qTIyMj58+dnZWWdOXOmt7eXvGIVoWF5vY6++xeBoFEDAKhQTU3NwMCAZjRqFRUVV65c8fPzmzFjxtDP8UkEaHSrk0wmKyoqSkxM1NbWjo6Onjdv3uBXI+a1bt06e3t7Lpfb1dWl9mIVJ2deTCbT39//k08+qauri4+Pr6urI6NYBWlSXm9Cu/2LcNCoAQBUiM/nW1tbs1gssgtRVkNDw9mzZ+fPn79kyZJhX7m6uvb09Dx58oSUwsaqq6srOTk5Ly8Pf3n5sMm3RsyLwWCEhIQwmczk5OTBt4BT3Fjzmj59ekxMjI2NzYkTJ3788Ue6PDupMXmNgl77lypAowYAUCEej6cBp9M6Ozu5XO7kyZPXr1//+rdWVlYTJkygxW005eXlcXFxTU1N+/bt8/X1ff3GwTflZWBgEBYW1tLSkp2djb8FnMoUy8vIyIjD4axfv764uPjYsWO0eMukZuQ1OhrtXyoCjRoAQFVaW1ubmpro3qgNDAykpqbq6OiEhoYyGIwRl5k+fTqPx1NzYWMyMDCQm5ubmprq6uoaExPj4ODw+jKj52VlZRUaGlpeXn7jxg0VF6sUZfLCMMzLy+vAgQMSiSQhIaGkpETFxSpFM/KSB/X3L5WCRg0AoCp8Pl9HR2fEnoAuZDJZdnZ2c3NzWFgYfrv9iNhstkAg6O7uVmdt8hMIBAkJCaWlpUFBQVu3btXV1R1xsbfmNW3atA0bNly/fv3evXsqK1YphOQ1ceLEiIiIRYsW5eTkpKenU3a6fw3IS04U379UDRo1AICq4BMHMJlMsgtR3NWrV3///fft27dbWlqOspiLiwuDwaiqqlJbYXLCnxs4evQoi8WKjY2dM2fOKAvLk5enp+eSJUvOnz//+PFjgmslAlF5MZnMNWvW7Nq16/HjxwkJCbW1tSooVlkakJecKLt/qQc0agAAlZBIJNXV1bS+7vngwYPCwsKPP/7Yyclp9CV1dXWnTp1KtUkE2tvbT548mZ+fv2zZst27d5uamo6ysPx5rV27ls1mc7lcqs0TS3heLi4uMTExtra2J06cyM3NpdQTBhqQl/youX+pDTRqAACVqK+vF4lE9H1zVH19fVZWFj4rlTzLs9lsHo9HnRu3y8rK4uPjOzs7IyIifH19MQwbfXn588IwLDAwkMVicblckUhEUL3KUlFehoaGHA4nICDg1q1bR48ebW5uJqJYAtA9r7Gi2v6lTtCoAQBUgs/nW1paWlhYkF2IIlpbW/H77levXi3nKmw2u7u7u6GhQaWFyaOvr+/ChQvp6elubm5RUVGTJ0+WZ60x5aWrq7tz587e3t4zZ85QYYIrVefl4eERFRUlk8ni4+Mp8oImWuelAOrsX+oHjRoAQCX4fL6rqyvZVShCJBJxuVwWixUYGPjWE1GDbGxsWCwW6Vdnnj59mpiYWF5ezuFwtm7dqqOjI+eKY82LxWJxOJy6urr8/HyFKiWMevKysrKKjIxcunRpXl5eamqqUChUtF5i0DcvxVBk/yIFNGoAAOJ1dXU1NjbS8bqnVCrNyMgQCoVhYWHydzkIIQzDpk+fTuKBRCqVFhYWHjt2zMzMLDo6eth0/KNTLC87O7stW7YUFRX99ttvYyyWMOrMS0tLy9fXd/fu3QKBIC4ujsQJI+ibl8JI379IBI0aAIB4PB6PwWC89Z5uCsrNza2uruZwOKPfej8iNpuN3zmkisJG19bWdvLkyYKCgpUrV+7atWusr4JQOC93d/cVK1ZcvnyZrCfy1J+Xk5NTbGyss7NzcnJybm6uWCwe63aVR9+8lEHi/kUuaNQAAMTj8/nTpk0b0xkOKsBPNgQEBNjb2yuwOn6GQ/2HwIcPHyYkJAiFwoiICB8fH/kv/w1SJq/ly5fPmTMnLS3txYsXCqyuDLLy0tPTCwoKCggIuH37dlJS0vPnzxXYujJompeSyNq/SAeNGgCAYFKptKqqinYTc/D5/Ly8vNWrV8+ePVuxEQwMDOzs7NR5dUYkEmVmZp49e9bd3T0yMtLW1laBQZTMC8OwTZs2WVtbc7lcdU5JSnpeHh4en332mZ6eXlJSUlFR0f9n794Dmjjz/fHPkHAxEEBAFBAEBExQ6wXRUre4K1atdmGxiqKASKKtl1oVqGe757Tb7zn9bRW81lar4SKIWLwgbrXoirvF9lC1aqmVDHclEOUq4RJuSeb3R/a4rhcMYWaemeTz+msXkuf5yLvAh3lmnoexBxI5mtfwMf/9xRLQqAEAKKZQKLq7u7nVqDU2NmZlZQUFBYWFhQ1nHP0mAlRVNbj79+/v2rWLIAiJRBIVFWX09cvh58Xn8yUSCY7jGRkZzCwFsiQvJyenTZs2hYWFFRQUHD58uKOjYzjFGIiLeVGFye8v9oBGDQBAMblc7ujoOGbMGNSFGKq7u1smk7m5uUVFRQ1zKLFY3N7eTveikk6nKyws3L9/v4uLS3Jy8sSJE4czGiV52draSqXSBw8e5OXlDWccQ7AqL/0TBps3b25paUlJSSkrKxtmSS/FubwoxMz3F9tAowYAoBi3NubQarUZGRkkSa5Zs2b4p115eXnZ2dnRujrT1tZ24MCBoqKiiIiIdevW2dvbD3NAqvIaPXp0XFzczZs3i4qKhj/ai7Azr3HjxiUmJuoPAMjLy+vv7x/mgIPgVl7UYuD7i4WgUQMAUEmtVisUCq6se5IkeeLEiYaGBolEYmdnN/wBcRz39/en7xfJjRs3du7c2dvbu3Xr1tDQUCOeG3gKtXmJRKKIiIjz58/fvn2bkgGfwua8bGxsVq1aFRcXV1paumfPHpq2ZuVWXpSj+/uLnaBRAwBQqby8HMOwgIAA1IUY5NKlS7du3YqPj3dzc6NqTJFIVF1dTfk1ld7e3uzs7Nzc3FmzZm3bts3d3Z2SYSnPKzQ0dPbs2bm5uXV1dVSN+Rj785o6dWpSUpKtre3evXuLiooof8KAW3nRgabvLzaDRg0AQCWCIHx8fGxsbFAX8nKlpaUXL15csmQJtRvzisVirVZbVVVF4ZhVVVU7duyorKxcu3ZtZGTk8Jf8HqMjr8jISH9//7S0tPb2dgqH5UpeI0eO3LBhw8KFC7/99ttDhw6pVCqqRsY4lRdN6Pj+Yjlo1AAAlCFJsry8nBPrngqF4vjx4/rLCdSOLBQK3d3d9Vc+hk//3MDBgwc9PT23b99O7c1/NOVlYWERGxtra2srk8mouvLBlbz0LCwswsLCNm/e/OjRo9TU1F9//ZWSYTmUF33oyIvloFEDAFBGqVSqVCr2N2oqlSotLc3X1zc8PJyO8anaRKCpqWnv3r1XrlyJiIhISEiwtbUd/phPoi8vGxsbqVSqUqlycnKGv/zHlbye4uXllZiYOHny5LS0tJycnOH3QFzJi27mtkkHNGoAAMoQBCEUCo3bdpUxfX19hw8fHjFixOrVqy0saPkZKBKJmpubW1pahjPIjRs3du/ejWFYcnJyaGgoRaX9G1rzcnJySkhIKCsru3DhwnDG4Upez2VtbR0VFRUfH19WVrZr1676+vrhjMaJvBhAX17sBI0aAIAyBEGIRKLhP4pIH5Ikjx07plKpJBIJfTfS6e8iMnp1pru7Oy0tTf/cwPvvvz9q1Chqy3uM7rx8fHyioqIuX75cUlJi3AicyOulpkyZkpycbG9vv3fv3sLCQqMvWbE/L2bQnRfbQKMGAKBGX19fbW0ty9c9z507RxCEVCp1cXGhbxYej2f0JgIVFRUpKSn19fUbN26MjIzk8XiUl6fHTF7BwcHz5s07ffq0cXd/sz8vAzk6Om7YsCE8PPzy5csHDx404rZ9TuTFDAbyYhVo1AAA1KioqNDpdGzemOPatWvffffdihUrvL296Z5LJBJVVFQM6XwejUbzzTffHDp0yNvbOzk5efz48fSVhzGY16JFi1555ZXMzMzm5uYhvZHleQ0VjuOhoaHvv/++SqXauXPnrVu3hvR29ufFJAbyYg9o1AAA1CAIwtPTk5JtSOlQXV198uTJ+fPnBwUFMTBdYGBgf39/bW2tga9vbGzcu3fv999/v2zZsvj4eIFAQGt5GIN54TgeHR3t4uIik8nUarWB72J5Xkbz9PRMSkoKDg7Ozs7Oycnp6+sz8I0sz4thjOXFBtCoAQCoUV5eztqTo1paWjIyMiZPnrxgwQJmZnR0dHR1dTVkdYYkyZKSkt27d/N4vKSkpJCQEAbKw5jNy9LSMiEhob+/Pz09XavVvvT1bM5r+CwtLSMjIxMSEuRyeUpKioHdBpvzYh6TeSEHjRoAgAJNTU2tra3U7kRKFbVaffjwYScnp+joaCYfdBCLxS/9RdLV1ZWWlnbq1KnXX3998+bNtN6J9STm87K3t5dKpfX19adOnRr8lWzOi0KTJ0/evn27q6vrgQMHCgsLdTrdIC9mc16oMJwXQtCoAQAoIJfLBQLBuHHjUBfyNK1Wm5mZqdFo1q5da2VlxeTUIpFIqVQOctt4eXl5SkqKUqncuHHjW2+9Rd9zA89CkpeHh0dcXNz169eLi4tf9Bo250U5oVC4du3aiIiIoqKizz//vLW19UWvZG1eCDGfFyrQqAEAKEAQREBAAE3bXA3HmTNn6urqpFKpUChkeGo/Pz8rK6vnbiKg0Wjy8/O/+uorX1/fpKQkX19fhmtDlVdgYODixYvPnj179+7d576AnXnRR/+EQWJiYn9/f2pq6k8//fTcl7E2L4SQ5IUE636qAgA4R6PR1NTUsHBjjitXrpSUlMTExFB1hPmQ8Pl8X1/fZ1dnHj58uGfPnuvXr69cuXL16tUMPDfwFLR5zZ07NyQkJDs7W6lUPvUpdubFgDFjxmzdunXmzJnHjx8/evRoT0/Pk59lbV5oIcyLYdCoAQCGq6qqamBggG2NWllZ2fnz5yMiIiZNmoSqBv0mAo9vPyJJsri4eNeuXZaWlklJSTNmzEBSFfK8lixZ4uXlJZPJOjs7H3+QhXkxic/nR0ZGvvPOOzU1NSkpKTU1NY8/xc682ABhXkyCRg0AMFwEQbi5uTk4OKAu5F8aGhqysrJmzpw5Z84chGWIxWK1Wn3//n0Mwzo7O48cOVJQUKA/rtvZ2RlVVcjz4vF48fHxfD7/yJEj+hMwWZgXEhMmTEhOTnZ3d//iiy+++eYb/ROXLMyLJZDnxQxo1AAAwyWXy1l1Oa2jo0Mmk40dO3bp0qVoK3F1dXV2di4vL79z586OHTuampo2bdq0cOFCtDfzsSEvgUAglUpbW1tzc3NVKhXb8kJYg52dnUQiWbp06dWrV/fv39/S0sK2vNhzajsb8mIANGoAgGFpa2trampC/ovksYGBgfT0dCsrq4SEBCafo3wRf3////3f/01PTxeLxcnJyT4+PmjrYU9erq6uCQkJd+7c2bt3L3vymjBhglwuR1sDjuMhISHbtm3TarUpKSlsy+vSpUuoa/kXNuRFN2jUAADDQhCElZUV8v5DjyTJ3NzclpYWqVTK/E36z1IoFHK5vLOzc9myZatWrbK2tkZdEbvy8vX19fDwaG9vf/XVV9mQF4ZhIpFIoVB0dXWhLgQbPXr0li1b9E8Ef//992w4JGD8+PHLli27ePHizZs3UdfyT+zJiz7QqAEAhkW/cQCfz0ddCIZh2IULF3755Zf4+PhRo0ahrUT/3MC+fftcXFz4fL6NjQ3aeh5jW14NDQ1Tp069cOHCvXv3UJeDYRgWEBDA4/EqKipQF4JhGMbn8y0tLb29ve/fv5+amlpdXY26ImzWrFlz5sw5ceIE5MUYaNQAAMbTarWVlZVsWJfBMOzGjRuXL19+++23/fz80FbS3t7+5Zdfnjt3bt68eRs3bvT29mbJJgLszCsuLk4kEslkskF2fGWMtbU12/KaMWNGcnKyh4fHF198kZ+fj/xMp/DwcMiLSdCoAQCMV1tb29vby4aTo2pra/Py8ubNm8fYWZkvUlpampKS0tHRsWXLloULF+I4LhKJ5HI5G27BZmdeOI7HxMQ4ODjIZLLe3l7UpWEszMvW1lYikURHR//444/79u1rbm5GWBXkxTBo1AAAxiMIYtSoUYydUPkibW1t6enpgYGBixYtQlhGX19fXl5eZmZmYGBgYmLi2LFj9R8XiURdXV0NDQ0Ia9NjbV7W1tbr1q3r6ek5evQo8m2xWJtXcHBwYmIiSZIpKSloj3WCvJgEjRoAwHgEQYjFYrQ19Pb2ymQyBweHVatWMXmG91Pq6up27dp1584diUSyatWqJ8+pdHd3d3BwYMPqDJvzcnBwkEgkNTU1586dQ1gexu68XF1dt27dOnfu3IKCgvT09O7ublS1QV6MgUYNAGCkzs5OpVKJdh1Np9NlZ2d3d3dLpVKGz/B+soaioqL9+/ePHDkyKSnp2Y31cRyfMGEC8l8k7M/L09Nz5cqVxcXFP/zwA5Ly9Fiel4WFxcKFC9evX69QKHbs2IFwcwrIixnQqAEAjCSXy3k8Hto79/Pz8ysrKyUSiaOjI5ICHj169OWXXxYWFr755pvvvvvui7aPF4lE+vuNGC7vSZzIa8qUKQsWLDhz5gza5/jYn5efn9/27dv9/f2PHDmSn5+v0WgYLk8P8mIANGoAACMRBDF+/HhU17EwDNP/KR8dHe3l5YWkgJ9//jk1NbW7u3vLli1hYWGDLLzqr4ug/WXGlbzmz58/ffr0jIyMhw8fMlbbUziRl42NTWxsbHR09LVr13bv3v3gwQMmy3sM8qIbNGoAAGPodLqKigqEGz0QBFFQULB48eJp06YxP3tvb29OTk5WVtaUKVO2bt3q4eEx+OsFAoGnpyfC1RkO5YXj+PLly93c3GQyGaqNTDmUV3Bw8AcffGBjY7N79+7i4mLmH36EvOgGjRoAwBgKhaK7uxvVL/7GxsasrKygoKCwsDDmZ79///6uXbsIgpBIJFFRUQZeo9JvIkB3bS/Crbz4fL5EIsFxPCMjA9WiHofycnJy2rRpU1hYWEFBweHDhzs6Ougu7ymQF62gUQMAGEMulzs6Oo4ZM4b5qbu7u2UymZubW1RUFMNT63S6wsLC/fv3u7i4JCcnT5w40fD3isXi9vZ2VMtDnMvL1tZWKpU+ePAgLy+PvtoGwa289E8YbN68uaWlJSUlpaysjNbynmXmedEKGjUAgDFQbfSg0WjS0tJIklyzZg3D5yC1tbUdOHCgqKgoIiJi3bp19vb2Q3q7l5eXnZ0dqtUZLuY1evTouLi4mzdvFhUV0VTeILiY17hx4xITE/XHBuTl5fX399NR24uYc160gkYNADBkarVaoVAwv45GkuTXX3/94MEDqVRqZ2fH5NQ3btzYuXNnb2/v1q1bQ0NDjdiwDcdxf39/JL9IuJuXSCSKiIg4f/787du3KS9vcBzNy8bGZtWqVXFxcaWlpXv27GF4G1jzzItu0KgBAIasvLwcw7CAgACG57106dKtW7fWrFnD5BJeb29vdnZ2bm7urFmztm3b5u7ubvRQIpGourqa4escGMfzCg0NnT17dm5ubl1dHYW1GYK7eU2dOjUpKcnW1nbv3r1FRUVMPmFghnnRDRo1AMCQEQTh4+NjY2PD5KSlpaUXL15csmQJkw1HVVXVjh07Kisr165dGxkZOczFVrFYrNVqq6qqqCrPQFzPKzIy0t/fPy0trb29nZLaDMTpvEaOHLlhw4aFCxd+++23hw4dUqlUVJX3UuaWF92gUQMADA1JkuXl5QyvoykUiuPHj+v/WGdmRv1zAwcPHvT09Ny+fTslN3gJhUJ3d3f99RLGmEBeFhYWsbGxtra2MpmMyeslXM/LwsIiLCxs8+bNjx49Sk1N/fXXX4c/poHzmk9eDIBGDQAwNEqlUqVSMfmLX6VSpaWl+fr6hoeHMzNjU1PT3r17r1y5EhERkZCQYGtrS9XIzG8iYBp52djYSKVSlUqVk5PD5EKeCeTl5eWVmJg4efLktLS0nJwcZjon88mLAdCoAQCGhiAIoVD40i1eqdLX13f48OERI0asXr3awoKJH1k3btzYvXs3hmHJycmhoaHUDi4SiZqbm1taWqgddhAmk5eTk1NCQkJZWdmFCxcoHHZwppGXtbV1VFRUfHx8WVnZrl276uvrKRz8RcwkLwZAowYAGBqCIEQikRGPPRqBJMljx46pVCqpVMrALVbd3d1paWn65wbef//9UaNGUT6F/t4jJldnTCkvHx+fqKioy5cvl5SUUD74i2Y0mbymTJmSnJxsb2+/d+/ewsJCBi50mUNeDIBGDQAwBH19fbW1tYyto507d44gCKlU6uzsTPdcFRUVKSkp9fX1GzdISuf4AAAgAElEQVRujIyM5PF4dMzC4/GY3ETA9PIKDg6eN2/e6dOnmbln3MTycnR03LBhQ3h4+OXLlw8ePMjAzf6mnRczoFEDAAxBRUWFTqdj5rnLa9eufffddytWrPD29qZ1Io1G88033xw6dMjb2zs5OXn8+PG0TicSiSoqKpg5acck81q0aNErr7ySmZnZ3NxM60R6JpYXjuOhoaHvv/++SqXauXPnrVu36JtLz4TzYgY0agCAISAIwtPTk4HNZqurq0+ePLlgwYKgoCBaJ2psbNy7d+/333+/bNmy+Ph4gUBA63QYhgUGBvb399fW1tI9EWaKeWEYhuN4dHS0i4uLTCZTq9V0T2eSeXl6eiYlJQUHB2dnZ+fk5PT19dE3lwnnxQxo1AAAQ1BeXs7ASURNTU3p6emTJ0+eP38+fbOQJFlSUrJ7924ej5eUlBQSEkLfXE9ydHR0dXVlZnXGlPJ6kqWlZUJCQn9/f3p6ularpXUu08tLz9LSMjIyMiEhQS6Xp6Sk0NrZmGpezIBGDQBgqKamptbW1gkTJtA6i1qtlslkzs7O0dHR9N0C39XVlZaWdurUqddff33z5s0uLi40TfRcYrGYgV8kppTXs+zt7aVSaX19/alTp+iey5TyesrkyZO3b9/u6up64MCBwsJCnU5H00SmlxdjoFEDABhKLpcLBIJx48bRN4VWq83MzNRoNGvXrrWysqJplvLy8pSUFKVSuXHjxrfeeoum5wYGIRKJlEol3bdym0xeL+Lh4REXF3f9+vXi4mJaJzKZvJ5LKBSuXbs2IiKiqKjo888/b21tpWkiE8uLMdCoAQAMRRBEQEAArZuZnTlzpq6uTiqVCoVCOsbXaDT5+flfffWVr69vUlKSr68vHbO8lJ+fn5WVFd2bCJhAXi8VGBi4ePHis2fP3r17l75ZTCavF9E/YZCYmNjf35+amvrTTz/RNJEp5cUYaNQAAAbRaDQ1NTW0bvRw5cqVkpKS2NjY4Rx8PoiHDx/u2bPn+vXrK1euXL16NQPPDbwIn8/39fWldXXGBPIy0Ny5c0NCQrKzs5VKJU1TmEZeLzVmzJitW7fOnDnz+PHjR48e7enpoWMW08iLSdCoAQAMUlVVNTAwQN8vkrKysvPnz//hD3+YOHEi5YOTJFlcXLxr1y5LS8ukpKQZM2ZQPsVQ6TcRoO+WIE7nNVRLlizx8vKSyWSdnZ00TcH1vAzE5/MjIyPfeeedmpqalJSUmpoaOmYxgbyYBI0aAMAgBEG4ubk5ODjQMXhDQ0NWVtbMmTMpP7IJw7DOzs4jR44UFBToD6hmYO9cQ4jFYrVaff/+fZrG525eRuDxePHx8Xw+/8iRIzSdZcnpvIZqwoQJycnJ7u7uX3zxxTfffEP5c5omkBeToFEDABhELpfT9Od+R0eHTCYbO3bs0qVLKR/8zp07O3bsaGpq2rRp08KFC5HcAPRcrq6uzs7O9N1Gw9G8jCYQCKRSaWtra25uLh2HI3E3L+PY2dlJJJKlS5devXp1//79lJ+eyfW8mMSWn1kAADZra2tramqi4xfJwMBAenq6lZVVQkICtU9fDgwM5Ofnp6eni8Xi5ORkHx8fCgenxIQJE+RyOR0jczGv4XN1dU1ISLhz586lS5foGJ+LeQ0HjuMhISHbtm3TarWpqamUn9fJ3bwYBo0aAODlCIKwsrKivNchSTI3N7elpUUqlVJ7a79CoUhNTb1+/XpsbOyqVausra0pHJwqIpFIoVB0dXVRPjLn8qLK+PHjly1bdvHixZs3b1I+OOfyosTo0aO3bNnym9/85uTJk5mZmdQeLcDRvBgGjRoA4OX0Gwfw+Xxqh71w4cIvv/wSHx8/atQoqsbUPzewb98+BweH7du3T58+naqRKRcQEMDj8SoqKigfmUN5UW7WrFlz5sw5ceLEvXv3qB2Zc3lRhc/nv/XWW+++++69e/dSU1Orq6spHJyLeTEMGjUAwEtotdrKykrK12Vu3Lhx+fLlt99+28/Pj6ox29vbv/zyy3Pnzs2bN2/9+vWOjo5UjUwHa2trb29vyjcR4FBeNAkPDxeJRDKZjNq9W7mVF+UCAgKSk5M9PDy++OKL/Px8Cp8w4FZezINGDQDwErW1tb29vdSebFNbW5uXlzdv3jwKT9gsLS1NSUnp6OjYsmXLwoULmTzOyGgikUgul1N7MzVX8qIPjuMxMTEODg4ymay3t5fCkbmSF01sbW0lEkl0dPSPP/64b9++5uZmSoblVl7Mg0YNAPASBEGMGjWKwtMw29ra0tPTAwMDFy1aRMmAfX19eXl5mZmZgYGBiYmJY8eOpWRYBohEoq6uroaGBgrHZH9eDLC2tl63bl1PT8/Ro0cp3EyLE3nRLTg4ODExkSTJlJQUqg6D4lBezINGDQDwEgRBiMViqkbr7e2VyWQODg6rVq2i5KJXXV3drl277ty5I5FIVq1axfyJk8Ph7u7u4OBA7eoMy/NijIODg0QiqampOXfuHFVjsj8vZri6um7dunXu3LkFBQXp6end3d3DH5MreTEPGjUAwGA6OzuVSiVV6zI6nS47O7u7u1sqlQ6/o9LpdEVFRfv37x85cmRSUtKkSZMoKZJJOI5PmDCBwl8kbM6LeZ6enitXriwuLv7hhx8oGZDleTHJwsJi4cKF69evVygUO3bsoGQjDPbnhQQ0agCAwcjlch6PR9X94/n5+ZWVlRKJZPi3+T969OjLL78sLCx888033333XZZs6W4EkUikv0uJktFYmxcqU6ZMWbBgwZkzZ6h6+o/NeTHPz89v+/bt/v7+R44cyc/P12g0wxyQ5XkhAY0aAGAwBEGMHz+ekqsp+j+Uo6Ojvby8hjnUzz//nJqa2t3dvWXLlrCwMG4tyT1FfzWFql9L7MwLrfnz50+fPj0jI+Phw4fDH421eaFiY2MTGxsbHR197dq13bt3P3jwYJgDsjkvJKBRAwC8kE6nq6iooGTjAIIgCgoKFi9ePG3atOGM09vbm5OTk5WVNWXKlK1bt3p4eAy/NrQEAoGnpyclqzMszIsNcBxfvny5m5ubTCYb/van7MwLueDg4A8++MDGxmb37t3FxcXDedCStXmhAo0aAOCFFApFd3f38H+RNDY2ZmVlBQUFhYWFDWec+/fv79q1iyAIiUQSFRXF6esQT9JvIjD8cdiWF3vw+XyJRILjeEZGxvCX59iWF0s4OTlt2rQpLCysoKDg8OHDHR0dRg/FzrxQgUYNAPBCcrnc0dFxzJgxwxmku7tbJpO5ublFRUUZPYhOpyssLNy/f7+Li0tycvLEiROHUxLbiMXi9vb24S/0sCcvFrK1tZVKpQ8ePMjLyxvmUKzKi1X0Txhs3ry5paUlJSWlrKzM6KFYmBcq0KgBAF5o+BsHaDSatLQ0kiTXrFlj9Ak5bW1tBw4cKCoqioiIWLdunb29/XBKYiEvLy87O7vhr86wJC/WGj16dFxc3M2bN4uKioYzDnvyYqdx48YlJibqDxvIy8vr7+83bhy25YUKNGoAgOdTq9UKhWI46zIkSX799dcPHjyQSqV2dnbGDXLjxo2dO3f29vZu3bo1NDSU088NvAiO4/7+/sP8RcKSvFhOJBJFREScP3/+9u3bRg/CkrzYzMbGZtWqVXFxcaWlpXv27DF6y1n25IUQNGoAgOcrLy/HMCwgIMDoES5dunTr1q01a9YYt7jT29ubnZ2dm5s7a9asbdu2ubu7G10J+4lEourqaqOvPWAsyIsrQkNDZ8+enZubW1dXZ/QgbMiL/aZOnZqUlGRra7t3796ioiLjnjBgSV4IQaMGAHg+giB8fHxsbGyMe3tpaenFixeXLFli3K+iqqqqHTt2VFZWrl27NjIy0vSW4Z4iFou1Wm1VVZXRI6DNi1siIyP9/f3T0tLa29uNGwF5XlwxcuTIDRs2LFy48Ntvvz106JBKpTJiEDbkhRA0agCA5yBJsry83Oh1GYVCcfz4cf2fwkN9r/65gYMHD3p6em7fvt0kb+J5llAodHd3119lMQLCvLjIwsIiNjbW1tZWJpMZd5UFbV7cYmFhERYWtnnz5kePHqWmpv76669GjIA2L7SgUQMAPIdSqVSpVMb9IlGpVGlpab6+vuHh4UN9b1NT0969e69cuRIREZGQkGBra2tEARw1nE0EUOXFXTY2NlKpVKVS5eTkGLckhyovjvLy8kpMTJw8eXJaWlpOTs5Q+y20eaEFjRoA4DkIghAKhUZsJ9vX13f48OERI0asXr3awmJoP2Fu3Lixe/duDMOSk5NDQ0OHOjXXiUSi5ubmlpYWI96LJC+uc3JySkhIKCsru3DhghFvR5IXp1lbW0dFRcXHx5eVle3atau+vn5Ib0eYF1rm9W0JADAQQRAikWioj1iSJHns2DGVSiWVSod08013d3daWpr+uYH3339/1KhRQ6zXFOjvWDJudYbhvEyGj49PVFTU5cuXS0pKjHgvw3mZhilTpiQnJ9vb2+/du7ewsHBIl8dQ5YUWNGoAgKf19fXV1tYasS5z7tw5giCkUqmzs7Ph76qoqEhJSamvr9+4cWNkZCSPxxvqvKaBx+MZt4kAw3mZmODg4Hnz5p0+fXqod5ozn5fJcHR03LBhQ3h4+OXLlw8ePDikRwSYzws5aNQAAE+rqKjQ6XRDffrv2rVr33333YoVK7y9vQ18i0aj+eabbw4dOuTt7Z2cnDx+/Pgh12paRCJRRUXFUM/MYSwvU7Vo0aJXXnklMzOzubl5SG9kMi8Tg+N4aGjo+++/r1Kpdu7ceevWLcPfy3BeyEGjBgB4GkEQnp6eQ9rytLq6+uTJkwsWLAgKCjLwLY2NjXv37v3++++XLVsWHx8vEAiMKtakBAYG9vf319bWDuldzORlwnAcj46OdnFxkclkarXa8Dcylpep8vT0TEpKCg4Ozs7OzsnJ6evrM+RdDOeFHDRqAICnlZeXD2lTjKampvT09MmTJ8+fP9+Q15MkWVJSsnv3bh6Pl5SUFBISYmylpsbR0dHV1XWoqzN052UOLC0tExIS+vv709PTtVqtge9iJi/TZmlpGRkZmZCQIJfLU1JSDOyimMwLOWjUAAD/pqmpqbW1dcKECQa+Xq1Wy2QyZ2fn6OhoQ26O7urqSktLO3Xq1Ouvv75582YXF5fh1WtqxGLxkH6R0J2X+bC3t5dKpfX19adOnTL8XXTnZSYmT568fft2V1fXAwcOFBYW6nS6l76FmbzYABo1AMC/kcvlAoFg3LhxhrxYq9VmZmZqNJq1a9daWVm99PXl5eUpKSlKpXLjxo1vvfWW2T43MAiRSKRUKg2/vZrWvMyNh4dHXFzc9evXi4uLDXwLrXmZFaFQuHbt2oiIiKKios8//7y1tfWlb2EgLzaARg0A8G8IgggICDBwS60zZ87U1dVJpVKhUDj4KzUaTX5+/ldffeXr65uUlOTr60tFsSbIz8/PysrK8E0EaMrLbAUGBi5evPjs2bN379415PW05mVu9E8YJCYm9vf3p6am/vTTTy99C915sQH8twIA+BeNRlNTU2PgxgFXrlwpKSmJjY196XHpDx8+3LNnz/Xr11euXLl69Wp4bmAQfD7f19fXwNUZmvIyc3Pnzg0JCcnOzlYqlS99MX15ma0xY8Zs3bp15syZx48fP3r0aE9Pz+Cvpy8vloBGDQDwL1VVVQMDA4b8IikrKzt//vwf/vCHiRMnDvIykiSLi4t37dplaWmZlJQ0Y8YM6oo1WfpNBAy5TYfyvIDekiVLvLy8ZDJZZ2fnS19MR15mjs/nR0ZGvvPOOzU1NSkpKTU1NYO/nqa8WAI37swsAAC3qAd0Pz/s/flBT+2jgepHfe092j4t1q/VCSxxK77FGDu+n5O1n5NV392i1vqa5OTkwUdraGj4/PPPp02btnz58kFe1tnZmZubW15e/sYbb8yfPx+WewzU1NT0l7/85Xcr1tXjrkzmBZ6kVqv37t1rY2OzadOmwe/nozwv8FhXV9eJEyfkcvnvfve7N998c5C7WunIK8h9RICztQXqR27MvVHLycn59NNP9X/l4Dg+duzYiIiIzz///PELMjIyUlNTq6qq+vv7PTw8Fi5cKJPJDBx8+fLl+pscPT096Sn/hf7xj3/MmzfvP//zP//85z8zPDVglT4N+Y97XefKO35q6NWRpBUPH9A+/3ueZ4HjJDZC/dAO75s9ffKiAOHk0c8/U6ijo2PPnj3Ozs7r168f5OfmnTt3vv76axsbm1WrVvn4+FD0DzJxj/NS/PpTq50PZm3LWF7gWU1NTfv27QsICIiLi3vuE7J05AWeQpLkjz/+ePbs2TFjxsTGxg7ynDjleWlI0tbK4k0/Idq8zL1R0/uf//mf//qv/5o9e/b333//3BccOHBAJpP9/PPPho/Z2dlpb2+PYZhMJpNIJNQUapjGxsapU6c+fPjw448/hkbNbHX1607dVWWXPursJ3EM0w3lO51vgWt05AQX67VBTqHetk/+wBsYGPjiiy96enref//9F91qNjAw8M033xQXF8+YMWPp0qXW1tbD+6eYBYR5gUFUV1cfPHjwjTfeWLBgwZMfpykv8CKNjY3Z2dktLS0RERGD7LxoknnxGZ/RXAiFwiVLlty4cWPevHlPfrygoCA/Pz8zM5OmeXU63cqVKzs6OmgaH7AfiWHnyzt2/2+LWqPT6v75kSHR6EgMw6pa+5IvPggcZf2nOaP9na0wDCNJMjc3t6WlZZDf+gqF4tixYx0dHbGxsdOnTx/eP8UsoM0LDG78+PHLli37+uuvXVxc9Kc40JcXGMTo0aO3bNlSWFh48uTJ8vLyqKio5/4nbZJ5wS0jNDp9+nRdXd1T++UcOXKE1kk//vjjR48erV+/ntZZAGs1d2veKaj/f/9o6ur/508lo2lJjMQworU/5rTi8E9tOhK7cOHCL7/8Eh8fP2rUqGdfr39uYN++fQ4ODtu3b4cuzRAI8wIGmjVr1pw5c06cOHHv3j1a8wKD4/P5b7311rvvvnvv3r3U1NTq6urnvsz08oIraoyqr68vLCyMiYmhafxLly4dPHjwxo0baWlpNE0B2OxGQ89/XHqg1lB5Q4NWR2IYlnar7dbdCkFp0YoVK/z8/J59WXt7e05OTm1t7bx58xYsWABb3hsCYV5gSH7/+983NzfLMo7+OG5VtxanI68bDeqdC9xG2sBNhC8REBCQnJx84sSJL7744vXXXw8PD3/2zksTywuuqA1Zfn6+h4cHjuNvvPGGXC7fvHmzr6+vQCCYMWPG1atX9a9RKBQzZsywtLTEcfzx6RaffPLJtGnTtFrt0aNHcRzHcbyqqgrDMI1Gs2PHjsDAwBEjRjg5OU2ZMmXXrl2Pp4uLi3Nycjp37txLC2toaIiNjT169CjcuG2eLlV1vXde2TWg09Dwt56OxEr7XJQBkZ7iac9+trS0NCUlpaOjY8uWLQsXLoQuzRAI8wJDZWFh4T57yY/Ob3RqMJry+rWpL/6M4kHnAOWDmx5bW1uJRBIdHf3jjz/u27evubn5qReYWF7QqA1ZZGTkDz/8gGFYaWnp5cuXt2zZcvfu3ZycnJ9//nnZsmXd3d0Yhnl6ev7000+rVq168o0ff/zxwYMHMQxbvXo1SZIkSer/0v3ggw8++uijv/zlL21tbbdv354+fXpJSYn+LV1dXdnZ2Y8ePcrKyhq8Ko1Gs3z58nfeeWfx4sV0/KsBy52v6PzPKw91GEnfBXkNid23cF+dX//kz6a+vr68vLzMzMzAwMDExMSxY8fSNb1pQZUXMM75is4/X23rsHGlMS8d2dSlhbwMFxwcnJiYSJJkSkrKU0dImVhe0KgZz9XV9b333vP19R0xYkRkZOTcuXMbGxtv3rw51HEOHz48ZcqUiIiIESNGjBs3LiUl5fEeMHZ2ditWrHBwcHiq53vWH//4R4FAAM94mqer97v/3z+aMBKj+xluDUl29Ore/WvDo14thmF1dXW7du26c+eORCJZtWoVnB1pIFR5AeNAXqzl6uq6devWuXPnFhQUpKen6y+UmF5e0KhRxtXVFcMwQ7ZFfopAILhz586tW7f0/9fFxeX48eOPP5ubm9ve3h4ZGTnICH/9619Pnjx5/Phx2FDUDN1v7//j5Ub6fyj9k5Ykm7q12wsbLl8u2r9//8iRI5OSkiZNmsTI5KYATV4XH8C96saBvFjOwsJi4cKF69evVygUO3bs+O6nO6aXF/xep5gR+9LFxcX19vbOnDkzMjLy9OnT/f39Q3r7vXv31q1bd/LkyUG2AQSmql9LfnDpoVbH6H6IGh3568Puy99fCw8Pf/fddx0cHJibm+NQ5VXa2Cu72cbclKYC8uIKPz+/5ORkbx/fnMs3TS8vaNQwDMP0F6IGP/mLz6frCdnPPvssNTV17NixZ8+eXbp0qZeXV35+vuFvP3z48MOHD2fOnIk/4dNPP8Uw7JNPPsFxPD4+nqbKAXIZtx7dbx+g427ZwQ3glv9wj3Kf9Co8NzAkqPLSkVjarUdVbUP7IxBAXhwiEAgGJoXfcfqN6eUFjRqGYdjIkSMxDHv48OGLXtDW1kbfRkR8Pj8xMbG2tvbHH3+Mi4trbGxcsWIFQRAGvp1DJ8sCatWpBjJ/fvSCE1Boh+P4p981wvqM4dDmZYFjkNeQQF7cos9Lg+hLRmte0KhhGIYFBwdjGKZQKF60of/Vq1dfffVVWmvAcXzWrFlHjx7dsGFDf3//pUuXDHzjZ599Rj7jT3/6E4ZhH3/8MUmS9J2CANA6dAPl4ohGR95t6vv+fjfCGrgF8uIWyItbTDgvaNQwDMNmzJgREhKi0Wh27tz57Ge//fbbkpKSNWvWDH8i/fqpRqN58oNz58598v9OmzYN+79HEzAMi42NNXAfNWBWGjoGimq6mL/I/yTcAvvqJ7iTxiCQF7dAXtxi2nlBo/ZPJ06c8Pf3//TTTzds2PDLL7/09fX19PSUlpb+x3/8x/Lly48ePerl5TX8WQICAjAMu3r1akNDQ1dXV2trq/7/fvLJJzU1NX19faWlpQcOHHB2dtafENrV1XXs2DFD9lED5ibvrsoC9e1hOh1W3tL3a1Mv4jq4APLiFsiLW0w7L2jU/snLy+v27du7d+8uKysLCwuzs7NzdXVdsWJFZ2fnrVu33n777cevzM/Pnz17NoZhd+/eDQwMvH79eltb26xZs77++msMw+Li4nbu3HnixIlJkyYdO3YMw7D4+PjXXntNfwhBYGDghx9+2NHRERAQsHDhwtLSUgzDYmJiTp06NXXqVFtb2zfeeMPPz+/q1av6Rzjt7OxWrlzp4OAQGxuL5MsC2EmrI89XdKD981GPb4FdqBjyljTmBvLiFsiLW0w+L5zRx1gBAFT4sV69+bySJd+6QiuLy/G+yP+cZTPIi1sgL24x+bzgihoA3HOjoYfPY8tP7s5+XVVbH+oqWA3y4hbIi1tMPi9o1ADgnmv16gEtS/6AxPgW+E1lD+oqWA3y4hbIi1tMPi9o1ADgGBLD7rWz6NhmEsNgZ85BQF7cAnlxiznkBY0aABzT2KXp07Bol2OtjqxqhaWZF4K8uAXy4hZzyAsaNQA4prFL8/IXMetBJ+tKYg/Ii1sgL24xh7ygUQOAY9QDLPrzUa+XTX/Rsg3kxS2QF7eYQ17QqAHAMSz8qd2nRV0Bi0Fe3AJ5cYs55AWNGgAcw2fflkosLIk9WPjFYWFJ7MHCLw4LS2IPFn5xKC8JGjUAOEZgybpvWxtL1BWwGOTFLZAXt5hDXqz7FwKjZWdni0QiHo+H4/g333yDuhxAF6cRPNQlPM3JhnUlsQfkxS2QF7eYQ16saNSmT5+O43hISAjlIy9fvtzHx0ehUFA+Mhume0psbCxBENHR0c9+Cm1hgFpjHSwtcBZd7cdxfPxIa9RVsBfkxS2QF7eYQ17oGzW5XC6XyzEM+/HHHysqKigcubOzMy8v7969e5cuXaJwWJZMZzjWFgaMY2mBu9qy6I9IPo75jLRCXQV7QV7cAnlxiznkhb5RO3bs2IoVK1577TUMw44ePWr0OAUFBfHx8U9+RCgULlmyxNPTc968ecMsEvl0w8HawoDRZngI2HILLYkN6Mipbjao62A1yItbIC9uMfm8EDdqJEkeP348Li5uzZo1GIZlZ2frdEY+anvkyJFnP3j69Om6urpx48YNq0oWTDdMrC0MGGemxwgdyY6z7XCMh+NTxoxAXQerQV7cAnlxi8nnhbhR++GHH3Q63W9/+9vly5cLBAKFQvH3v//diHHq6+sLCwspL48l0wHwlNleApbclmGBYzM9R9jwWVEMa0Fe3AJ5cYvJ54W4UcvJyYmJicFxXCgULl26FMOwzMzM575Sq9UeOHDg1VdfFQqFVlZWo0aNmjJlyp49ezAM++STT6ZNm6bVao8ePYrjOI7jVVVVCoVixowZlpaWOI6fOnVKP0hQUJD+BdbW1rNmzWpsbMQwrLOz8/XXX7ezs8NxPCgoSP/KzZs3T5kyxcXFxdra2tPTc8OGDV1dXfpPGT6dXldX15///OfJkyfb2toKBIKJEyd+9NFHnZ2d+s/m5+d7eHjgOP7GG2/I5fLNmzf7+voKBIIZM2ZcvXr1yXHi4uKcnJzOnTs3pK/wcwszfNLm5uZNmzaNGzfOxsbGz89vzZo1Dx48ePIFg3yhsrOz3dzccBx/8803SZI8efJkWFjY3Llzh1Q/eC57a95rXgI++jsXMBLDwwPsUVfBdpAXt0Be3GLyeaH8lw0MDJw8eTIuLk7/f/Wrn2fOnHncxDz5ysWLF7/33ntvvvlmdXX1o0ePCgsLvb29b968iWHYxx9/fPDgQQzDVq9eTZIkSZJ+fn6enp4//fTTqlWrnhzn5s2bK1aswDAsISHh2rVro0ePxjBMKBRevXp106ZNb775pn5AfRlRUVG3b99ubm5esWLFwYMHNxkB7oEAACAASURBVG7cqP+U4dNhGNbT0zNnzpyUlJQ//vGPTU1NSqXyvffe++yzz0JDQ7u7uzEMi4yM/OGHHzAMKy0tvXz58pYtW+7evZuTk/Pzzz8vW7ZM/xoMw7q6urKzsx89epSVlTWkL/JzCzNw0vb29pCQEJlMtmvXLpVK9dVXX3399ddz5sx5/ILBv1CxsbElJSUYhlVWVoaGhn722Wft7e1qtXpI9YMXWRrooGXBjtxCKzzU2xZ1FRwAeXEL5MUtpp0Xykbt22+/HT9+/IQJE/T/d86cOb6+vmq1+qkrUhiGHThw4OLFi6tXr/74449dXV1tbW2DgoK2bdtmxKTJyckYhmVnZ6tUqscf7O/vz8jI2Lp16+OPuLm5ffjhh56envb29tu3b8cw7MKFC0ZMl5KScuvWrS1btqxcudLW1tbR0fHdd9/dsGHDzz//vGPHjidf6erq+t577/n6+o4YMSIyMnLu3LmNjY2PG0c7O7sVK1Y4ODg82wsOx+CT/uUvf6murt62bdvSpUutra3DwsLWrVtXWVn55FVPQ75QJEkWFhbevHnz73//u4uLC4X1m7NXPQXjnazQ3kHLw/HVU0da8Vix6MBykBe3QF7cYtp5oWzUjh079vhyGoZhOI7rn6N89tnP9PR0DMNWr1795AdDQkJiY2OHOun06dN/+9vfdnd3P9ltnDlzZtSoUW+88cbjj9y4cQP/vzVvFxcXHo/X09Mz1LkwDMvNzcUwLDIy8skPLl++/PGnXsTV1RXDsCcvLubm5ra3tz81FLWemjQ/Px/DsPDw8Mcv+M1vfoNh2N/+9rfHHzHkCzVixAhbW1sMw+zt7WEnXqrgGLY+2BnhHbQ4htlZ40snOiCrgFMgL26BvLjFtPNC1qh1dHT89a9/3bRpE/6Ejz76CMOw4uLi2trax6/UarV3797FMCwwMPDJEaysrBYsWGDE1ElJSRiGffHFF+T/pXro0KEtW7YY/W95kYGBgfLycgzDPD09n/y4t7c3hmFVVVV9fX2Dj0Ci+O9OP6lWq62qqsIwzN3d/fGn9NfDGhoamK8KPCvU2zbE0xbZc+k4lvjaKBae38JakBe3QF7cYsJ5IfuP4PTp07/97W/JZ8ycOZMkySfvxOrs7NS3DnZ2dpRMvWjRosDAwMrKSv2TmwRBlJWVxcTEPH6BWq3+7//+71dffXX06NF2dnaWlpZardaIibq7u59buaOjo/5/PL7vnoXUarW++HHjxj3upH/3u99hGPb4mhlVXyhgtO2vu/AsMOZ/MvEt8OljRiz0FzI+M7dBXtwCeXGLqeaFrFHLycl57ireH/7wBwzDsrKyHl9MsrOzs7CwwDCstbWVkqlxHNff33bgwAEMww4dOvTuu+/a2Pxrh7olS5Z89NFHs2bNunr16oMHD3p6eng8YzY+1j9Jiv37CiaGYY8ePdKXQVXrSQeBQKAvvqWl5alm+tdff9W/hqovFDCau9DyozmjGZ7UAsdtrfBP542Be2eGCvLiFsiLW0w1LzSNmlKp/O677yIiIp79lL57q6mp+f777/Uf4fP5+gcOCIKgqoCYmJgxY8Z8++23d+7cOXHixIYNGx5/qq2t7eLFi2PGjNm3b19AQIBQKOTz+cbNwufzxWIxhmFKpfLJj+vP3PT397e2Zu8JbjweT79E+6KFTgq/UGA45vvZRU12ZOx6P45hFji2c76bswCacmNAXtwCeXGLSeaFplHLzc2dNWuWfneMp4hEIn1b9uQjBfpHHffv3/+iAfUtgkajMbAAa2vrTZs2kSQZGRm5YMGCMWPGPP5Ub28v9sTq5DCnW7lyJYZhBQUFT37w9OnTGIY99/T0QcTGxhqxj9pw/P73v8cw7MSJE8/9rCFfKMCMbSEuv/Ox4zGz5SOO/XfY6OlusFW68SAvboG8uMX08kLTqOXk5OiXOJ9L/6mTJ08+3nMrMTHx1VdfPX/+fFxcXGlpaW9v78DAQH19/eNjDAICAjAMu3r1akNDQ1dXlyGLpOvXr7e1ta2urn7qMQI3NzcfH5/y8vKCgoLe3t7a2tq0tLSnLn0ZPl1iYuKMGTN27tyZlZXV3d3d3t7++eef79mzZ8qUKfqNQgzU1dV17NgxI/ZRG44PP/xw7Nixqampu3btevDggVarbW9vv3PnTl1dHWbYFwowwwLH/jts9G99bGn9OxLHsBGazk9+N3qeL3uX7DmBsbwscBzyGj7Ii1se5zVC8/SerBRiMi+mG7Vt27a5u7vfvn37448/DgoKunjx4pOfzcvLmzp16r59+zAM6+jocHd3/81vfqNUKm1sbP7+97/v3LlTLpfrTxFwd3ePiYmprKzUvzEwMPDDDz/s6OgICAhYuHBhaWnpiRMnJk2adOzYMQzD4uPjX3vtNf0zjI85OTklJCTMmTNn2rRpT34cx/G8vLyZM2euXLnSx8fnT3/60+zZsydNmtTd3R0QEKDfwdXw6fSVf/DBB5999pmzs7O7u/tXX331xz/+8erVq/odK/Lz82fPno1h2N27dwMDA69fv97W1jZr1qyvv/4aw7C4uLidO3diGGZnZ7dy5UoHB4dBdiTJycmZOHGi/gJYdHT07Nmz79+//9zCDJx09OjR169fX7t27Zdffunj4yMUCmfPnv3ll1/qLyW+9AuVnZ392muv6Wfx9fX95JNPjP/vBryMpQX+/80bs2ySI47Rci8t3wL36JS/qsgLcjBmnxrwFAbysra02Pum25twQzoVIC9usbTAF1lXzqjNtdaoTSAvHMkGEAAAmvy9tuvPVxr7tKSWuu9sHo57j7T8bO6oczlHOjo6tmzZwubnYLiFvrxS5rt5OlhSNijAMAzy4giCII4cObJo0SIL31kmkBc0agCYGmXnwGffN/9Yp8ZxXDe8b3C+BY7jWMK0kXFTR1rx8O7u7r1799rb269fvx6eHaEKfXlRVSF4EuTFco2Njfv27Zs0aZL+HnETyAsaNQBM09X73QdvtFa29vNxTDP073K+Ba4jsQV+du/McPKw/9cfjk/9EARUoSkvQBPIi51e9Mckp/OCRg0AU1aiUJ8u6/ihrltLYjyc1Lzs3GI+D9doSUcb3uIA4bKJDs/9kfR4WSEsLIyWos3YUPOyIfvwgR5re+dB8gL0eZzXiJ6mPhvnfvIlt30b8v0FjKbVag8ePNje3v6i2zPo+HnIAGjUADB9HX3a/61T/6TsudHQ87BL89zr/9Z8C9+Rlq+OFQR7CILcRwz+gFtxcfHZs2djY2OfehYHUMLwvMbdL7SzGEjevAHtcdRmrvFR547/+bPdjD+Ukl6UfH8BI5Akefz48V9//XXz5s1ubm6DvJLyn4d0g7tMADB99ta8hf5C/QknAzqyoWOgrUfbM0D2aHRCKwuBpcVoO76r7RB+GoSGhjY3N+fm5jo7O3t5edFWuJkyPK/r16ecPHlSM9BvZWWFumrzpbxXhWPYh5HBNjY2lHx/ASP87W9/u3Xr1rp16wbv0jAafh7SjUWlAAAYYGmBeztaeQ97o+LIyMi2tra0tLStW7fCvsf0GTwvsVis1WqrqqoCAwOZrQv8C0EQPj4++nMIqfr+AkNSWlpaWFj49ttv6zfMNxwn8kJ21icAgNMsLCxiY2NtbW1lMll/fz/qcsyUUCh0d3cvLy9HXYj5IkmyvLxcJBKhLsR8KRSK48ePh4aG6vcHNT3QqAEAjGRjYyOVSlUqVU5ODtztiopIJJLL5airMF9KpVKlUkGjhopKpUpLS/P19Q0PD0ddC12gUQMAGE9/wkdZWdmFCxdQ12KmRCJRc3NzS0sL6kLMFEEQQqHQw8MDdSHmqK+v7/DhwyNGjFi9erWFhcn2Myb7DwMAMMPHxycqKury5cv6A9YAw/R3R8HqJyoEQYhEIpyZI8DBE0iSPHbsmEqlkkgk+hsETRU0agCA4QoODp43b97p06efOlEXMIDH4/n7+xMEgboQc9TX11dbWwvrnkicO3eOIAipVOri4oK6FnpBowYAoMCiRYteeeWVzMzM5uZm1LWYHZFIVFFRodFoUBdidioqKnQ6XUBAAOpCzM61a9e+++67FStWeHt7o66FdtCoAQAogON4dHS0i4uLTCZTq9WoyzEvgYGB/f39tbW1qAsxOwRBeHp6PncTfECf6urqkydPzp8/PygoCHUtTIBGDQBADUtLy4SEhP7+/vT0dK1Wi7ocM+Lo6Ojq6gqrn8wrLy8Xi8WoqzAvLS0tGRkZkydPXrBgAepaGAKNGgCAMvb29lKptL6+/tSpU6hrMS9isRgaNYY1NTW1trYOdYdVMBxqtfrw4cNOTk7R0dHm8wAHNGoAACp5eHjExcVdv369uLgYdS1mRCQSKZXK9vZ21IWYEblcLhAIxo0bh7oQc6HVajMzMzUazdq1a83qzDRo1AAAFAsMDFy8ePHZs2fv3r2LuhZz4efnZ2VlBZt0MIkgiICAABPevottzpw5U1dXJ5VKhUIh6loYBf+FAQCoN3fu3JCQkOzsbKVSiboWs8Dn8319fWH1kzEajaampgY25mDMlStXSkpKYmJi3N3dUdfCNGjUAAC0WLJkiZeXl0wm6+zsRF2LWdBv0qHT6VAXYhaqqqoGBgagUWNGWVnZ+fPnIyIiJk2ahLoWBKBRAwDQgsfjxcfH8/n8I0eOwKntDBCLxWq1+v79+6gLMQsEQbi5uTk4OKAuxPQ1NDRkZWXNnDlzzpw5qGtBAxo1AABdBAKBVCptbW3Nzc2FU9vp5urq6uzsDLepMUMul8PlNAZ0dHTIZLKxY8cuXboUdS3IQKMGAKCRq6trQkLCnTt3Ll26hLoW0zdhwgS5XI66CtPX1tbW1NQEjRrdBgYG0tPTraysEhISeDwe6nKQgUYNAECv8ePHL1u27OLFizdv3kRdi4kTiUQKhaKrqwt1ISaOIAgrKysfHx/UhZgykiRzc3Obm5ulUqlAIEBdDkrQqAEAaDdr1qw5c+acOHHi3r17qGsxZQEBATwer6KiAnUhJk6/MQefz0ddiCm7cOHCL7/8smbNmlGjRqGuBTFo1AAATAgPDxeJRDKZrLW1FXUtJsva2trb2xs26aCVVqutrKyEdU9a3b59u6io6O233/bz80NdC3rQqAEAmIDjeExMjIODg0wm6+3tRV2OyRKJRHK5HB7doE9tbW1vby+cHEWf2tra48eP6/diRF0LK0CjBgBgiLW19bp163p6eo4ePQrbfdFEJBJ1dXU1NDSgLsRkEQQxatQoFxcX1IWYpra2tvT0dLFYvHjxYtS1sAU0agAA5jg4OEgkkpqamnPnzqGuxTS5u7s7ODjA6id9CIIQi8WoqzBNvb29MpnMwcEhJibGfM5cfylo1AAAjPL09Fy5cmVxcfEPP/yAuhYThOP4hAkToFGjSWdnp1KphHVPOuh0uuzs7O7ubqlUalZnrr8UNGoAAKZNmTJlwYIFZ86cgecT6SASifT3UaEuxATJ5XIejwd3uNMhPz+/srJSIpE4OjqiroVdoFEDACAwf/786dOnZ2RkPHz4EHUtpkZ/vQeaYDoQBDF+/Hi43kM5/SX26OhoLy8v1LWwDjRqAAAEcBxfvny5m5ubTCaDDVqpJRAIPD09YfWTcjqdrqKiAjbmoBxBEAUFBYsXL542bRrqWtgIGjUAABp8Pl8ikeA4npGRodFoUJdjUvSbdKCuwtQoFIru7m5o1KjV2NiYlZUVFBQUFhaGuhaWgkYNAICMra2tVCp98OBBXl4e6lpMilgsbm9vh2VlasnlckdHxzFjxqAuxHR0d3fLZDI3N7eoqCjUtbAXNGoAAJRGjx4dFxd38+bNoqIi1LWYDi8vLzs7O1j9pBZszEEtrVabkZFBkuSaNWvgPK5BQKMGAEBMJBJFREScP3/+9u3bqGsxETiO+/v7Q6NGIbVarVAoYN2TKiRJnjhxoqGhQSKR2NnZoS6H1aBRAwCgFxoaOnv27Nzc3Lq6OtS1mAiRSFRdXd3f34+6EBNRXl6OYVhAQADqQkzEpUuXbt26FR8f7+bmhroWtoNGDQDACpGRkf7+/mlpae3t7ahrMQVisVir1VZVVaEuxEQQBOHj42NjY4O6EFNQWlp68eLFJUuWwNbBhoBGDQDAChYWFrGxsba2tjKZDK4DDZ9QKHR3d9dfBwLDRJJkeXk5rHtSQqFQHD9+XH8RHXUt3ACNGgCALWxsbKRSqUqlysnJIUkSdTmcB5t0UEWpVKpUKmjUhk+lUqWlpfn6+oaHh6OuhTOgUQMAsIiTk1NCQkJZWdmFCxdQ18J5IpGoubm5paUFdSGcRxCEUCj08PBAXQi39fX1HT58eMSIEatXr7awgPbDUPCVAgCwi4+PT1RU1OXLl0tKSlDXwm36e6pg9XP4CIIQiUQ4jqMuhMNIkjx27JhKpZJIJHCr35BAowYAYJ3g4OB58+adPn0a7oUfDh6PB5t0DF9fX19tbS2sew7TuXPnCIKQSqUuLi6oa+EYaNQAAGy0aNGiV155JTMzs7m5GXUtHCYSiSoqKuCEruGoqKjQ6XSwMcdwXLt27bvvvluxYoW3tzfqWrgHGjUAABvhOB4dHe3i4iKTydRqNepyuCowMLC/v7+2thZ1IRxGEISnpydsymq06urqkydPzp8/PygoCHUtnASNGgCApSwtLRMSEvr7+9PT07VaLepyOMnR0dHV1RVWP4ejvLwcTo4yWktLS0ZGxuTJkxcsWIC6Fq6CRg0AwF729vZSqbS+vv7UqVOoa+EqsVgMjZrRmpqaWltbYV9W46jV6sOHDzs5OUVHR8OjGEaDRg0AwGoeHh5xcXHXr18vLi5GXQsniUQipVIJ5z0YRy6XCwSCcePGoS6Ee7RabWZmpkajWbt2rZWVFepyOAwaNQAA2wUGBi5evPjs2bN3795FXQv3+Pn5WVlZwSYdxiEIIiAgADb9MsKZM2fq6uqkUqlQKERdC7fBf3wAAA6YO3duSEhIdna2UqlEXQvH8Pl8X19fWP00gkajqampgY05jHDlypWSkpKYmBh3d3fUtXAeNGoAAG5YsmSJl5eXTCbr7OxEXQvH6Dfp0Ol0qAvhmKqqqoGBAWjUhqqsrOz8+fMRERGTJk1CXYspgEYNAMANPB4vPj6ez+cfOXIETm0fErFYrFar79+/j7oQjiEIws3NzcHBAXUhXNLQ0JCVlTVz5sw5c+agrsVEQKMGAOAMgUAglUpbW1tzc3Ph1HbDubq6Ojs7w21qQyWXy+Fy2pB0dHTIZLKxY8cuXboUdS2mAxo1AACXuLq6JiQk3Llz59KlS6hr4ZIJEybI5XLUVXBJW1tbU1MTNGqGGxgYSE9Pt7KySkhI4PF4qMsxHdCoAQA4Zvz48cuWLbt48eLNmzdR18IZIpFIoVB0dXWhLoQzCIKwsrLy8fFBXQg3kCSZm5vb3NwslUoFAgHqckwKNGoAAO6ZNWvWnDlzTpw4ce/ePdS1cENAQACPx6uoqEBdCGfoN+bg8/moC+GGCxcu/PLLL2vWrBk1ahTqWkwNNGoAAE4KDw8XiUQymay1tRV1LRxgbW3t7e0Nm3QYSKvVVlZWwrqngW7fvl1UVPT222/7+fmhrsUEQaMGAOAkHMdjYmIcHBxkMllvby/qcjhAJBLJ5XJ4CMMQtbW1vb29cHKUIWpra48fP67f6RB1LaYJGjUAAFdZW1uvW7eup6fn6NGjsEnYS4lEoq6uroaGBtSFcABBEKNGjXJxcUFdCNu1tbWlp6eLxeLFixejrsVkQaMGAOAwBwcHiURSU1Nz7tw51LWwnbu7u4ODA6x+GoIgCLFYjLoKtuvt7ZXJZA4ODjExMXDmOn2gUQMAcJunp+fKlSuLi4t/+OEH1LWwGo7jEyZMgEbtpTo7O5VKJax7Dk6n02VnZ3d3d0ulUjhznVbQqAEAOG/KlCkLFiw4c+YMPNU4OJFIpL/7CnUhrCaXy3k8HtwXP7j8/PzKykqJROLo6Ii6FhMHjRoAwBTMnz9/+vTpGRkZDx8+RF0Le+mvEkE7OziCIMaPHw9XiQahv4AdHR3t5eWFuhbTB40aAMAU4Di+fPlyNzc3mUwG27q+iEAg8PT0hNXPQeh0uoqKCtiYYxAEQRQUFCxevHjatGmoazEL0KgBAEwEn8+XSCQ4jmdkZGg0GtTlsJR+kw7UVbCXQqHo7u6GRu1FGhsbs7KygoKCwsLCUNdiLqBRAwCYDltbW6lU+uDBg7y8PNS1sJRYLG5vb4cF4heRy+WOjo5jxoxBXQgbdXd3y2QyNze3qKgo1LWYEWjUAAAmZfTo0XFxcTdv3iwqKkJdCxt5eXnZ2dnB6ueLwMYcL6LVajMyMkiSXLNmDZysxSRo1AAApkYkEkVERJw/f/727duoa2EdHMf9/f2hUXsutVqtUChg3fNZJEmeOHGioaFBIpHY2dmhLse8QKMGADBBoaGhs2fPzs3NraurQ10L64hEourq6v7+ftSFsE55eTmGYQEBAagLYZ1Lly7dunUrPj7ezc0NdS1mBxo1AIBpioyM9Pf3T0tLa29vR10Lu4jFYq1WW1VVhboQ1iEIwsfHx8bGBnUh7FJaWnrx4sUlS5bAJsBIQKMGADBNFhYWsbGxtra2MpkMrh49SSgUuru7668egcdIkiwvL4d1z6coFIrjx4/rL1GjrsVMQaMGADBZNjY2UqlUpVLl5OSQJIm6HBaBTTqepVQqVSoVNGpPUqlUaWlpvr6+4eHhqGsxX9CoAQBMmZOTU0JCQllZ2YULF1DXwiIikai5ubmlpQV1ISxCEIRQKPTw8EBdCFv09fUdPnx4xIgRq1evtrCAbgEZ+NIDAEycj49PVFTU5cuXS0pKUNfCFvo7sWD180kEQYhEIhzHURfCCiRJHjt2TKVSSSQSuGkPLWjUAACmLzg4eN68eadPn4Y76PV4PB5s0vGkvr6+2tpaWPd87Ny5cwRBSKVSFxcX1LWYO2jUAABmYdGiRa+88kpmZmZzczPqWlhBJBJVVFTAWVt6FRUVOp0ONubQu3bt2nfffbdixQpvb2/UtQBo1AAA5gHH8ejoaBcXF5lMplarUZeDXmBgYH9/f21tLepCWIEgCE9PT9jKFcOw6urqkydPzp8/PygoCHUtAMOgUQMAmA9LS8uEhIT+/v709HStVou6HMQcHR1dXV1h9VOvvLwcTo7CMKylpSUjI2Py5MkLFixAXQv4J2jUAABmxN7eXiqV1tfXnzp1CnUt6InFYmjUMAxrampqbW2F3VzVavXhw4ednJyio6PhoQr2gEYNAGBePDw84uLirl+/XlxcjLoWxEQikVKphJMb5HK5QCAYN24c6kJQ0mq1mZmZGo1m7dq1VlZWqMsB/wKNGgDA7AQGBi5evPjs2bN3795FXQtKfn5+VlZWsEkHQRABAQFmvlXYmTNn6urqpFKpUChEXQv4N2b93yUAwGzNnTs3JCQkOztbqVSirgUZPp/v6+tr5qufGo2mpqbGzDfmuHLlSklJSUxMjLu7O+pawNOgUQMAmKklS5Z4eXnJZLLOzk7UtSCj36RDp9OhLgSZqqqqgYEBc27UysrKzp8/HxERMWnSJNS1gOeARg0AYKZ4PF58fDyfzz9y5IjZntouFovVavX9+/dRF4IMQRBubm4ODg6oC0GjoaEhKytr5syZc+bMQV0LeD5o1AAA5ksgEEil0tbW1tzcXPM8td3V1dXZ2dmcb1OTy+Vmezmto6NDJpONHTt26dKlqGsBLwSNGgDArLm6uiYkJPz/7d15WFTnoT/w9zDDAAM4RAEBBdk5g1GrGAkxlVSNNNJowA0UkGVirTemaZbeW383xjy9afamTe1No8MiqOCGS+sCVXvVGKIJ4lKZw66MgLIJsg8zc35/TEqsKwxn5p2B7+fpH83Mmff9OsGHb857znuuXLlSWFhIOwsdISEhKpWKdgo6WltbGxsbR2dR6+/vz8jIkEgkqampIpGIdhx4KBQ1ABjtAgICli1bVlBQUFxcTDsLBSzLqtXqzs5O2kEo4DhOIpH4+fnRDmJuPM/n5uY2NTUpFAqpVEo7DjwKihoAAAkPD4+MjMzLy7t27RrtLOYWHBwsEonKy8tpB6HAsDGHWCymHcTcjhw5cvny5ZSUFDc3N9pZ4DFQ1AAACCFk0aJFLMsqlcqWlhbaWczKzs7O19d3FG7SodPpKioqRuG6Z0lJyYkTJ5YsWRIYGEg7CzweihoAACGEMAyTkJAgk8mUSmVvby/tOGbFsqxKpRptt1PU1NT09vaOtidH1dTU7Ny507CPIO0sMCgoagAA37Ozs1uzZk1PT8+2bdtG1dZiLMt2dnbW1dXRDmJWHMe5ubm5urrSDmI+ra2tGRkZcrk8OjqadhYYLBQ1AIAfyGSytLS06urqQ4cO0c5iPl5eXjKZbLStfnIcJ5fLaacwn97eXqVSKZPJEhIS8Mx1K4KiBgDwb7y9vVeuXHn69OmzZ8/SzmImDMOEhISMqqLW0dFRX18/etY99Xp9Tk5OV1eXQqHAM9etC4oaAMC9pk2bFhUVlZ+fP3ruhWRZ1nDNFu0gZqJSqUQi0ei5mn7//v0VFRVpaWkuLi60s8DQoKgBADzAggULZsyYkZmZefPmTdpZzMFwbmn0FFOO4wICAkbJuSXD6eH4+HgfHx/aWWDIUNQAAB6AYZgVK1Z4enoqlcrRsBmsVCr19vYeJaufer2+vLx8lGzMwXHcwYMHo6Ojp0+fTjsLGANFDQDgwcRicVpaGsMwmZmZWq2WdhyTM2zSQTuFOajV6q6urtFQ1G7dupWdnR0WFjZv3jzaWcBIKGoAAA/l6OioUCgaGhp2795NO4vJyeXytra20bDUq1KpXFxcPDw8aAcxra6uLqVS6enpuXz5ctpZwHgoagAAjzJ+/PikpKTi4uITJ07QzmJaPj4+Tk5Oo2H1czRszKHT6TIzM3meT0lJiNahmgAAIABJREFUGYXPyBpJUNQAAB6DZdnFixcfPny4pKSEdhYTYhgmKChoxBe17u5utVo9stc9eZ7Py8urq6tLS0tzcnKiHQeGBUUNAODx5syZM3v27Nzc3NraWtpZTIhl2aqqKo1GQzuICZWVlRFCgoODaQcxocLCwgsXLiQnJ3t6etLOAsOFogYAMCgxMTFBQUHp6eltbW20s5iKXC7X6XSVlZW0g5gQx3F+fn729va0g5jKpUuXCgoKYmNjR892viMbihoAwKDY2NgkJiY6OjoqlcqRes7J2dnZy8vLcM5pROJ5vqysbASve6rV6p07dxpOANPOAsJAUQMAGCx7e3uFQtHe3r5jxw6e52nHMYmRvUlHfX19e3v7SC1q7e3t6enp/v7+ixYtop0FBIOiBgAwBGPHjk1NTS0tLT1y5AjtLCbBsmxTU1NzczPtICbBcZyzs/OECRNoBxFeX1/fli1bHBwcVq9ebWODX+4jB/5dAgAMjZ+f3/Lly48fP15UVEQ7i/AM12+N1NVPjuNYlmUYhnYQgfE8v3379vb29rS0tBF8+d3ohKIGADBkTz311Pz58/ft2zfyrrsXiUQjdZOOvr6+mpqaEbnueejQIY7jFAqFq6sr7SwgMBQ1AABjLFy4cOrUqVlZWU1NTbSzCIxl2fLy8pH31Kzy8nK9Xj/yNuY4d+7cqVOn4uLifH19aWcB4aGoAQAYg2GY+Ph4V1dXpVLZ3d1NO46QQkNDNRpNTU0N7SAC4zjO29t7hG0AW1VVtWfPngULFoSFhdHOAiaBogYAYCRbW9vU1FSNRpORkaHT6WjHEYyLi4u7u/vIW/0sKysbYU+Oam5uzszMnDJlSlRUFO0sYCooagAAxhszZoxCobhx48bevXtpZxGSXC4fYUWtsbGxpaVlJO0B293dvWXLlrFjx8bHx4+82yNgAIoaAMCwTJgwISkp6fz586dPn6adRTAsy9bX14+kZzCoVCqpVDpp0iTaQYSh0+mysrK0Wu3LL78skUhoxwETQlEDABiu0NDQ6OjoAwcOXL16lXYWYQQGBkokkpG0SQfHccHBwSNmg7H8/Pza2lqFQuHs7Ew7C5jWCPmRBQCga+7cuRERETk5OfX19bSzCEAsFvv7+4+Y1U+tVltdXT1iNuY4efJkUVFRQkKCl5cX7SxgcihqAADCiI2N9fHxUSqVHR0dtLMIwLBJh16vpx1EAJWVlf39/SOjqJWWlh4+fHjx4sVPPvkk7SxgDihqAADCEIlEycnJYrF469atI+Cp7XK5vLu7+/r167SDCIDjOE9PT5lMRjvIcNXV1WVnZ8+aNSsyMpJ2FjATFDUAAMFIpVKFQtHS0pKbm2vtT213d3cfN27cyLhMTaVSjYDTaXfu3FEqlRMnTly6dCntLGA+KGoAAEJyd3dPTU29cuVKYWEh7SzDFRISolKpaKcYrtbW1sbGRmsvav39/RkZGRKJJDU1VSQS0Y4D5oOiBgAgsICAgGXLlhUUFBQXF9POMiwsy6rV6s7OTtpBhoXjOIlE4ufnRzuI8Xiez83NbWpqUigUUqmUdhwwKxQ1AADhhYeHR0ZG5uXlXbt2jXYW4wUHB4tEovLyctpBhsWwMYdYLKYdxHhHjhy5fPlySkqKm5sb7SxgbihqAAAmsWjRIpZllUplS0sL7SxGsrOz8/X1tepNOnQ6XUVFhVWve5aUlJw4cWLJkiWBgYG0swAFKGoAACbBMExCQoJMJlMqlb29vbTjGIllWZVKZb03RtTU1PT29lrvk6Nqamp27txp2KWPdhagA0UNAMBU7Ozs1qxZ09PTs23bNivdkIxl2c7Ozrq6OtpBjMRxnJubm6urK+0gxmhtbc3IyJDL5dHR0bSzADUoagAAJiSTydLS0qqrqw8dOkQ7izG8vLxkMpn1rn5yHCeXy2mnMEZvb69SqZTJZAkJCXjm+miGogYAYFre3t4rV648ffr02bNnaWcZMoZhQkJCrLSodXR01NfXW+O6p16vz8nJ6erqUigUeOb6KIeiBgBgctOmTYuKisrPz7fGOyhZljVc6UU7yJCpVCqRSGSN1+Dv37+/oqIiLS3NxcWFdhagDEUNAMAcFixYMGPGjMzMzJs3b9LOMjSGM1LWWDE5jgsICLC6M1KGk6/x8fE+Pj60swB9KGoAAObAMMyKFSs8PT2VSqV1bSErlUq9vb2tbvVTr9eXl5db3cYcHMcdPHgwOjp6+vTptLOARUBRAwAwE7FYnJaWxjBMZmamVqulHWcIDJt00E4xNGq1uqury7qK2q1bt7Kzs8PCwubNm0c7C1gKFDUAAPNxdHRUKBQNDQ27d++mnWUI5HJ5W1ubdS3aqlQqFxcXDw8P2kEGq6urS6lUenp6Ll++nHYWsCAoagAAZjV+/PikpKTi4uITJ07QzjJYPj4+Tk5O1rX6aV0bc+h0uszMTJ7nU1JSrPppVyA4FDUAAHNjWXbx4sWHDx8uKSmhnWVQGIYJCgqyoqLW3d2tVqutZd2T5/m8vLy6urq0tDQnJyfaccCyoKgBAFAwZ86c2bNn5+bm1tbW0s4yKCzLVlVVaTQa2kEGpaysjBASHBxMO8igFBYWXrhwITk52dPTk3YWsDgoagAAdMTExAQFBaWnp7e1tdHO8nhyuVyn01VWVtIOMigcx/n5+dnb29MO8niXLl0qKCiIjY21xo15wQxQ1AAA6LCxsUlMTHR0dFQqlZZ/psrZ2dnLy8twpsrC8TxfVlZmFeuearV6586dhtOrtLOAhUJRAwCgxt7eXqFQtLe379ixg+d52nEew1o26aivr29vb7f8otbe3p6enu7v779o0SLaWcByoagBANA0duzY1NTU0tLSI0eO0M7yGCzLNjU1NTc30w7yGBzHOTs7T5gwgXaQR+nr69uyZYuDg8Pq1attbPC7GB4KPxwAAJT5+fktX778+PHjRUVFtLM8iuGqL8tf/eQ4jmVZhmFoB3konue3b9/e3t6elpZmFRfSAUUoagAA9D311FPz58/ft2+fJV+tLxKJLH+Tjr6+vpqaGgtf9zx06BDHcQqFwtXVlXYWsHQoagAAFmHhwoVTp07NyspqamqineWhWJYtLy+35OdflZeX6/V6S96Y49y5c6dOnYqLi/P19aWdBawAihoAgEVgGCY+Pt7V1VWpVHZ3d9OO82ChoaEajaampoZ2kIfiOM7b29tit42tqqras2fPggULwsLCaGcB64CiBgBgKWxtbVNTUzUaTUZGhk6nox3nAVxcXNzd3S159bOsrMxinxzV3NycmZk5ZcqUqKgo2lnAaqCoAQBYkDFjxigUihs3buzdu5d2lgeTy+UWW9QaGxtbWlosc+fY7u7uLVu2jB07Nj4+3pJvdABLg6IGAGBZJkyYkJSUdP78+dOnT9PO8gAsy9bX11vm0xRUKpVUKp00aRLtIPfS6XRZWVlarfbll1+WSCS044A1QVEDALA4oaGh0dHRBw4cuHr1Ku0s9woMDJRIJJa5SQfHccHBwRa4LVl+fn5tba1CoXB2dqadBayMxf00AwAAIWTu3LkRERE5OTn19fW0s/wbsVjs7+9vgaufWq22urraAjfmOHnyZFFRUUJCgpeXF+0sYH1Q1AAALFRsbKyPj49Sqezo6KCd5d8YNunQ6/W0g/ybysrK/v5+SytqpaWlhw8fXrx48ZNPPkk7C1glFDUAAAslEomSk5PFYvHWrVst6qntcrm8u7v7+vXrtIP8G47jPD09ZTIZ7SA/qKury87OnjVrVmRkJO0sYK1Q1AAALJdUKlUoFC0tLbm5uZbz1HZ3d/dx48ZZ2mVqKpXKok6n3blzR6lUTpw4cenSpbSzgBVDUQMAsGju7u6pqalXrlwpLCykneUHISEhKpWKdooftLa2NjY2Wk5R6+/vz8jIkEgkqampIpGIdhywYihqAACWLiAgYNmyZQUFBcXFxbSzfI9lWbVa3dnZSTvI9ziOk0gkfn5+tIMQQgjP87m5uc3NzQqFQiqV0o4D1g1FDQDACoSHh0dGRubl5V27do12FkIICQ4OFolE5eXltIN8z7Axh1gsph2EEEKOHDly+fLl5ORkNzc32lnA6qGoAQBYh0WLFrEsq1QqW1paaGchdnZ2vr6+FrJJh06nq6iosJB1z2+//fb48eNLliwJDAyknQVGAhQ1AADrwDBMQkKCTCZTKpW9vb204xCWZVUqlSXc4lBTU9Pb22sJT46qqanZvXv3/PnzIyIiaGeBEQJFDQDAatjZ2a1Zs6anp2fbtm3UtzFjWbazs7Ouro5uDEIIx3Fubm6urq50Y7S2tmZkZISGhi5cuJBuEhhJUNQAAKyJTCZLS0urrq4+dOgQ3SReXl4ymcwSVj85jpPL5XQz9Pb2KpVKmUy2atUqPHMdBISiBgBgZby9vVeuXHn69OmzZ89SjMEwTEhICPWi1tHRUV9fT3fdU6/X5+TkdHV1KRQKPHMdhIWiBgBgfaZNmxYVFZWfn0/3vkuWZQ3Xh1HMoFKpRCIR3Sv39+/fX1FRkZaW5uLiQjEGjEgoagAAVmnBggUzZszIzMy8efMmrQyG81h0yyLHcQEBARTPYxlObcbHx/v4+NDKACMYihoAgFViGGbFihWenp5KpZLWxrNSqdTb25vi6qdery8vL6e4MQfHcQcPHoyOjp4+fTqtDDCyoagBAFgrsViclpbGMExmZqZWq6WSwbBJB5WpCSFqtbqrq4tWUbt161Z2dnZYWNi8efOoBIDRAEUNAMCKOTo6KhSKhoaG3bt3Uwkgl8vb2tpoLb+qVCoXFxcPDw/zT93V1aVUKj09PZcvX27+2WH0QFEDALBu48ePT0pKKi4uPnHihPln9/HxcXJyorX6SWtjDq1Wm56ezvN8SkqKhTy3CkYqFDUAAKvHsuzixYsPHz5cUlJi5qkZhgkKCqJS1Lq7u9VqtfnXPXme37VrV0NDg0KhcHJyMvPsMNqgqAEAjARz5syZPXt2bm5ubW2tmadmWbaqqkqj0Zh53rKyMkJIcHCwmectLCy8cOFCSkoKlSVXGG1Q1AAARoiYmJigoKD09PS2tjZzziuXy3U6XWVlpTknJYRwHOfn52dvb2/OSS9dulRQUBAbG2v+ggijE4oaAMAIYWNjk5iY6OjoqFQqzXl+y9nZ2cvLy3B+y2x4ni8rKzPzuqdard65c6fh5KU554XRDEUNAGDksLe3VygU7e3tO3bs4HnebPOaf5OO+vr69vZ2cxa19vb29PR0f3//RYsWmW1SABQ1AIARZezYsampqaWlpUeOHDHbpCzLNjU1NTc3m21GjuOcnZ0nTJhgnun6+vq2bNni4OCwevVqGxv86gTzwU8bAMBI4+fnt3z58uPHjxcVFZltRnt7e3OufnIcx7IswzBmmIvn+e3bt7e3tysUCjNfEgeAogYAMAI99dRT8+fP37dvn3mu8ReJRObcpKOvr6+mpsZs656HDh3iOE6hUIwbN848MwIMQFEDABiZFi5cOHXq1KysrKamJjNMx7JseXm5eZ5kVV5ertfrzXPf5blz506dOhUXF+fr62uG6QDugaIGADAyMQwTHx/v6uqqVCq7u7tNPV1oaKhGo6mpqTH1RIQQjuO8vb3NsNlsVVXVnj17oqKiwsLCTD0XwAOhqAEAjFi2trapqakajSYjI0On05l0LhcXF3d3d/OsfpaVlZnhyVGNjY0ZGRlTpkxZsGCBqecCeBgUNQCAkWzMmDEKheLGjRt79+419VxyudwMRa2xsbGlpSUkJMSks3R3dyuVynHjxsXHx5vnlgWAB0JRAwAY4SZMmJCUlHT+/PnTp0+bdCKWZevr6039XASVSiWVSidNmmS6KXQ6XVZWllarffnllyUSiekmAngsFDUAgJEvNDQ0Ojr6wIEDV69eNd0sgYGBEonE1Jt0cBwXHBxs0s3M8vPza2trFQqFs7Oz6WYBGAwUNQCAUWHu3LkRERE5OTn19fUmmkIsFvv7+5t09VOr1VZXV5t0Y46TJ08WFRUlJiZ6eXmZbhaAQUJRAwAYLWJjY318fJRKZUdHh4mmMGzSodfrTTR+ZWVlf3+/6YpaaWnp4cOHX3rppcmTJ5toCoAhQVEDABgtRCJRcnKyWCzeunWriZ7aLpfLu7u7r1+/borBCSEcx3l6espkMlMMXldXl52dPWvWrDlz5phifAAjoKgBAIwiUqlUoVC0tLTk5uaa4qnt7u7u48aNM91laiqVykSn0+7cuaNUKidOnLh06VJTjA9gHBQ1AIDRxd3dPTU19cqVK4WFhaYYPyQkRKVSmWLk1tbWxsZGUxS1/v7+jIwMiUSSmpoqEokEHx/AaChqAACjTkBAwLJlywoKCoqLiwUfnGVZtVrd2dkp+Mgcx0kkEj8/P2GH5Xk+Nze3ublZoVBIpVJhBwcYJhQ1AIDRKDw8PDIyMi8v79q1a8KOHBwcLBKJysvLhR2W/GtjDrFYLOywR44cuXz5cnJyspubm7AjAwwfihoAwCi1aNEilmWVSmVLS4uAw9rZ2fn6+gq+SYdOp6uoqBB83fPbb789fvz4kiVLAgMDhR0ZQBAoagAAoxTDMAkJCTKZTKlU9vb2Cjgyy7IqlUrYmxVqamp6e3uFfXJUTU3N7t2758+fHxERIeCwAAJCUQMAGL3s7OzWrFnT09Ozbds2ATc/Y1m2s7Ozrq5OqAEJIRzHubm5ubq6CjVga2trRkZGaGjowoULhRoTQHAoagAAo5pMJktLS6uurj506JBQY3p5eclkMmFXPzmOk8vlQo3W29urVCplMtmqVavwzHWwZChqAACjnbe398qVK0+fPn327FlBBmQYJiQkRMCi1tHRUV9fL9S6p16vz8nJ6erqUigUeOY6WDgUNQAAINOmTYuKisrPzxfqbk2WZQ1XlQkymkqlEolEQl3vv3///oqKirS0NBcXF0EGBDAdFDUAACCEkAULFsyYMSMzM/PmzZvDH81w9kuo2sdxXEBAgCBnvwwnDuPj4318fIY/GoCpoagBAAAhhDAMs2LFCk9PT6VSOfztaqVSqbe3tyCrn3q9vry8XJCNOTiOO3jwYHR09PTp04c/GoAZoKgBAMD3xGJxWloawzCZmZlarXaYoxk26Rh+KrVa3dXVNfyiduvWrezs7LCwsHnz5g0/FYB5oKgBAMAPHB0dFQpFQ0PD7t27hzmUXC5va2sb/kKqSqVycXHx8PAYziBdXV1KpdLT03P58uXDzANgTihqAADwb8aPH5+UlFRcXHzixInhjOPj4+Pk5DT81c/hb8yh1WrT09N5nk9JSRH8CVQAJoWiBgAA92JZdvHixYcPHy4pKTF6EIZhgoKChlnUuru71Wr1cNY9eZ7ftWtXQ0ODQqFwcnIaThgA80NRAwCAB5gzZ87s2bNzc3Nra2uNHoRl2aqqKo1GY/QIZWVlhJDg4GCjRygsLLxw4UJKSsowF08BqEBRAwCAB4uJiQkKCkpPT29razNuBLlcrtPpKisrjc7AcZyfn5+9vb1xH7906VJBQUFsbOxwqh4ARShqAADwYDY2NomJiY6Ojkql0rizYs7Ozl5eXoazYkbgeb6srMzodU+1Wr1z507DqUHjRgCgDkUNAAAeyt7eXqFQtLe379ixg+d5I0YYziYd9fX17e3txhW19vb29PR0f3//RYsWGTc7gCVAUQMAgEcZO3ZsampqaWnpkSNHjPg4y7JNTU3Nzc1GfJbjOGdn5wkTJgz1g319fVu2bHFwcFi9erWNDX7TgRXDjy8AADyGn5/f8uXLjx8/XlRUZMRn7e3tjVv95DiOZVmGYYb0KZ7nt2/f3t7erlAojL64DcBCoKgBAMDjPfXUU/Pnz9+3b99Q7wwQiUTGbdLR19dXU1NjxLrnoUOHOI5TKBTjxo0b6mcBLA2KGgAADMrChQunTp2alZXV1NQ0pA+yLFteXj7UZ1KVl5fr9fqh3q157ty5U6dOxcXF+fr6DumDAJYJRQ0AAAaFYZj4+HhXV1elUtnd3T34D4aGhmo0mpqamiFNx3Gct7f3kLaoraqq2rNnT1RUVFhY2JDmArBYKGoAADBYtra2qampGo0mIyNDp9MN8lMuLi7u7u5DXf0sKysb0pOjGhsbMzIypkyZsmDBgiFNBGDJUNQAAGAIxowZo1Aobty4sXfv3sF/Si6XD6moNTY2trS0hISEDPL47u5upVI5bty4+Pj4od58AGDJUNQAAGBoJkyYkJSUdP78+dOnTw/yIyzL1tfXD/4JByqVSiqVTpo0aTAH63S6rKwsrVb78ssvSySSQU4BYBVQ1AAAYMhCQ0Ojo6MPHDhw9erVwRwfGBgokUgGv0kHx3HBwcGD3AItPz+/trZWoVA4OzsPcnwAa4GiBgAAxpg7d25EREROTk59ff1jDxaLxf7+/oNc/dRqtdXV1YPcmOPkyZNFRUWJiYleXl6DOR7AuqCoAQCAkWJjY318fJRKZUdHx2MPNmzSodfrH3tkZWVlf3//YIpaaWnp4cOHX3rppcmTJw8qMYC1EdMOAAAA1kokEiUnJ//hD3/YunXrK6+88ujrw+Ry+YEDByoLj3g21evU1/uv1/Dtt/l+Da/R2DhIiURi4+pu6xsg9g0obe/29PSUyWSPnr2uri47O3vWrFlz5swR9I8FYEFwRg3g8SorK996663w8HA3NzeJROLi4hIaGpqWlnbq1Cna0YyxY8eO0NBQiUTCMIyNjY2Pj8/69evvPiAzM3Py5Ml2dnYMw0ycOFGhUAx+8BUrVvj5+anVaqFTPxTP83l5eUFBQXl5eWabFAZIpVKFQtHS0pKbm/uwp7bzmr7e08dt//R+VFOtzZe/796f1/vNGV29Wt/VyWs0hBB9T7e+vU1bVd77fwWd2/7i+7dds6+cu/PFp/3cPx827507d5RK5cSJE5cuXWqqPxuABWAe9vcKAAghPM//9re/fffdd/39/d9+++25c+e6u7t3dHRcvHjx888/P3To0EsvvZSVlfXY//S3QP/zP//z9ttvz549+6uvvnrgAZs3b1YqlRcvXhz8mB0dHWPGjCGEKJXKtLQ0YYI+0tGjRzds2FBaWqrRaHJzc+Pi4swwKdyvqqrqiy++eP7556Oiou5+ne/q6j6S35Wfq+/qJAxDBrHu+QOxmGi1tgFBTvGpdrNmk7s23ejv7//zn//c09Pzy1/+UiqVCvWnALBAOKMG8Ci/+93v3nnnnalTp5aUlCQlJU2cOFEikYwbN27evHkHDx789a9/feDAgdjY2MHv/Glw8ODB5ORk00Q27eCP5uzsHBsb6+3tPX/+fDNEevPNN7/66qvc3NwXX3xR8MFhSAICApYtW1ZQUFBcXPz9Szzfc+Jok2JZx450fWcH4fmhtTRCiFZLCNHWVN1+b0PLmz/XXqv618B8bm5uc3OzQqFAS4MRD9eoATzU9evXN23aRAj58ssvH/gcm/fee2/fvn0nT57MyMh4+eWXBz/y1q1bXV1dhcppzsEfa9++ffe/aKJIn3zyieBjgtHCw8Nv3ryZl5c3btw4nzFOtz/a1F96mfCEkGGt2/B6PSGkv6qi+ZepTitWO8UlHzl69PLly2vXrnVzcxMmOoAFwxk1gIf68ssvtVptSEjIrFmzHniAWCxetWoVIeRPf/rT4Ie9cePGsWPHhIlo3sGNY4GRwERefPHFkJCQbUpl4yurtdxVwvPDbGk/0GmJXt+5a1vJf/3yxIkTy5cvDwwMFGZkAMuGogbwUIZ7BZ5++ulHHBMREUEIuXLlSlNT06ZNm5544gmGYQaubi4oKAgNDbWxsWEY5rvvviOEvPvuu9OnT9fpdNu2bWMYhmGYysrKPXv2jB8/nmGYRYsWvfnmm0FBQXZ2dh4eHmlpaQ0NDYahjB5ckK9i//79EyZMYBjm+eefV6lUr776qr+/v1QqnTlz5pkzZwzHqNXqmTNn2traMgwz8HChh0XSarUffvhhaGiog4PD2LFjp02b9umnnw5Ml5SUNHbs2EOHDgkSHszGxsZmmb/34vIS0tXB67TCT6DXe1T8c2V3U5ivj/CDA1gkFDWAhzLsou7r6/uIYwYecaNSqTZt2pSbm3v3u1FRUaWlpXPnzh145Z133vniiy8IIatXr+Z5nuf5wMDAZcuWHTx4kBBy/fr1VatWXbx48fr16xs3bszOzn7mmWdu375NCDF68GF9Bf8SExNz9uxZQsilS5eOHz/+2muvXb16dceOHRcvXly2bFlXVxchxNvb+7vvvjOcYnxspF//+tcbN258//33W1tbS0pKZsyYUVRUZPhIZ2dnTk7O7du3s7OzBQkPZtNz8ljPZ+959NwhelPdpsZotd63brS+sUbXeNNEUwBYFBQ1gIcyPJfwgVenDRh4ZI2hTg2Tp6fn9OnTHR0dPTw81q1b9+qrr167du3DDz8c/shCcXd3X79+vb+/v4ODQ0xMzNy5c2/duvXD9eODtmXLlmnTpi1evNjBwWHSpEkff/zxwBZcTk5OcXFxMpnsns4HFq7v26/b//i+GSbitVp9x53bG17Vtw/2yaEA1gtFDeChDM8ZfPQWNgPbrDN37R0gFMMq5/79+wUfWSju7u6EkMHsSn8PqVR65cqVCxcuGP7R1dV1586dA+/m5ua2tbXFxMQIlRNMTVtX2/bB20JelPZIvE6nbWlqe/+/h3wnKYC1QVEDeKgnnniCPK6FDLw7duxYwQMEBAQQQioqKgbz1B2KjNiOMSkpqbe3d9asWTExMfv27dNoNKYIBubBazRtv/tvXq8n5tyYU6vVqK505mWZb0YAGlDUAB4qNDSUEFJTU/OIYwzvMgxjikcN2tnZEUJ4nu/p6RF8cMP5wkdXQLHYVDv4fPDBB5988snEiRMPHDiwdOlSHx8fSz5xCI/WtSdHe6PWsO2ZWen1nbu2aa9Vm3teADNCUQN4qHnz5hExIkmrAAARTUlEQVRCvv7660ccY7jEfsaMGYbTb8IyXCRna2tril09DYFv3nzoFdmtra2m26dKLBa/8cYbNTU133zzTVJS0q1bt+Li4jiOM9F0YDraOnXXnhyiH9qez4JhmDubPzTrmTwA80JRA3ioNWvWODg4VFdXD+xAcQ+NRmO4smrgWZnCXqlWWlpKCJk+fbphWGEHf+qppwgharX6zp07DzzgzJkzj96aZPgYhgkPD9+2bdu6des0Gk1hYaFJpwNT6Nyh5InwF2gOlk6nKVf1ffuo/5oCsGooagAP5e7u/tlnnxFC1q5d297efv8Bb731Vm1t7U9/+tPExETDK4b991tbWx8xrGE9UTuIdSLDU8YTEhJMMfjMmTMjIiK0Wu1HH310/7tHjx4tKipKSUl57DiP9cBId+8qQgiZPn06+detCYSQxMRE7KNmFXQ363vP/h8xxZZpg8fYdO5MpxkAwJRQ1AAe5ec///n//u//VlVVTZ8+PSsr68aNGxqNprW19e9///vChQs///zz5cuX79mzx3C9FyFELpe7u7ufOXPm6NGjGo2mo6PjwoUL91Sr4OBgQsiZM2fq6uo6OztbWloG3urs7GxsbNRqte3t7Z988klOTs6Pf/zjtWvXCjL4/fLy8oKCgt57771169Zdvny5r6+vp6fn0qVL//Vf/7VixYpt27b5+AiwregDI505c+bdd9+trq7u6+u7dOnS5s2bx40bZ3hCaGdn5/bt27GPmlXo/ts+YkP794he119V0V9WSjkGgGnQ/gsGYPF+8YtfVFdXJyQkbN261bDJmZ+f32uvvTZx4sSzZ8/u2rXr7o3WpFLprl27nnzyydjYWJZlX3/99a6uLsPNmwsXLty8eTMhJDQ0dMOGDXfu3AkODv7pT3966dKlgY+XlZWFh4c7OTmNHz8+IyPj3XffLSgosLW1FWTw+/n4+JSUlPz+978vLS2dN2+ek5OTu7t7XFycoQIuWbJk4Mj9+/fPnj2bEHL16tXQ0NDz58+3traGh4fv2rWLEJKUlPTRRx/l5eU9+eST27dvJ4QkJyc/88wzhocQPDBSQkLC3r17f/SjHzk6Oj7//POBgYFnzpwxnDJ0cnJauXKlTCYbOE/5MMnJyWFhYePHj8/PzzfE8PX1ffbZZzMyMgb9rxeGQafrOXmMwj0E9xOLe/5RQDsEgEkwRtxXDwCC++abbyIiIhYvXnzgwAHaWQAGpa/k/O133rSQC/ltnJzcdx4mDM4+wEiDn2kAC9LX10c7AsBgaS4VM2IR7RTf03d29tdU0U4BIDwUNQALgjPcYEU0F7/j+y1g3ZMQQggjEmmulNBOASA8FDUAABg6nteqr9EO8QOeJ9rr2PkWRiAUNQD6Pvvss5/97GeEkMLCwsDAwE8++YR2IoDH0DU38hb14C+9TnsNS58wAuFmAgAAGDKN6krrr9fRTvFvbFxc3HP+SjsFgMBwRg0AAIaM7+6mHeFefG8v7QgAwkNRAwCAIeP7LK4VWdZSLIBAUNQAAGDImH/tw2w5GLGYdgQA4aGoAQDAkDH2DrQj3MfOnnYCAOGhqAGAkHJycliWFYlEDMP87W9/ox0HTMXG5QnaEe5lM8aFdgQA4aGoAXxvxowZDMNEREQIPvKKFSv8/PzUarXgI1vCdPdITEzkOC4+Pv7+t+gGA2GJPCfQfxz73WxsbH39aYcAEJ4l/TUDoEelUqlUKkLIN998U15eLuDIHR0du3fvvnbtWmFhoYDDWsh0g2exwcA4jNjWZpwb7RQ/YEQisbcv7RQAwkNRAyCEkO3bt8fFxT3zzDOEkG3bthk9zsGDB5OTk+9+xdnZOTY21tvbe/78+cMMSX264bDYYGA0u2kzGJGlXL/P9/dLJk+lnQJAeChqAITn+Z07dyYlJaWkpBBCcnJy9Hq9cUNt3br1/hf37dtXW1s7adKkYaW0gOmGyWKDgXEkU2cSXkc7xfcYkdhWPoV2CgDhoagBkLNnz+r1+ueee27FihVSqVStVv/jH/8wYpwbN24cO3ZM8HgWMh3APexmPk0Yi/glwohsJD8KY3DXJ4xEFvF3DICuHTt2JCQkMAzj7Oy8dOlSQkhWVtYDj9TpdJs3b3766aednZ0lEombm9u0adM+++wzQsi77747ffp0nU63bds2hmEYhqmsrFSr1TNnzrS1tWUYZu/evYZBwsLCDAfY2dmFh4ffunWLENLR0fHjH//YycmJYZiwsDDDka+++uq0adNcXV3t7Oy8vb3XrVvX2dlpeGvw0xl0dnZu2rRpypQpjo6OUql08uTJGzdu7OjoMLy7f//+CRMmMAzz/PPPq1SqV1991d/fXyqVzpw588yZM3ePk5SUNHbs2EOHDg3pG35gsMFP2tTU9Morr0yaNMne3j4wMDAlJaWhoeHuAx7xReXk5Hh6ejIM88ILL/A8v2fPnnnz5s2dO3dI+eGBbJzH2M2MICIR7SCE1/MO8xfSTgFgEihqMNr19/fv2bMnKSnJ8I+G1c/8/PyBEnP3kdHR0evXr3/hhReqqqpu37597NgxX1/f4uJiQsg777zzxRdfEEJWr17N8zzP84GBgd7e3t99992qVavuHqe4uDguLo4Qkpqaeu7cufHjxxNCnJ2dz5w588orr7zwwguGAQ0xli9fXlJS0tTUFBcX98UXX/zHf/yH4a3BT0cI6enpiYyM/Pjjj3/zm980NjbW19evX7/+gw8+mDNnTldXFyEkJibm7NmzhJBLly4dP378tddeu3r16o4dOy5evLhs2TLDMYSQzs7OnJyc27dvZ2dnD+lLfmCwQU7a1tYWERGhVCo//fTT9vb2L7/8cteuXZGRkQMHPPqLSkxMLCoqIoRUVFTMmTPngw8+aGtr67a8xx9ZKYcXXiLGXicgIBsnZ7tZz9JOAWASKGow2h09ejQgICAkJMTwj5GRkf7+/t3d3feckSKEbN68uaCgYPXq1e+88467u7ujo2NYWNjrr79uxKRvvfUWISQnJ6e9vX3gRY1Gk5mZ+atf/WrgFU9Pzw0bNnh7e48ZM+Y///M/CSFHjhwxYrqPP/74woULr7322sqVKx0dHV1cXNauXbtu3bqLFy9++OGHdx/p7u6+fv16f39/BweHmJiYuXPn3rp1a6A4Ojk5xcXFyWSy+7vgcDx60vfff7+qqur1119funSpnZ3dvHnz1qxZU1FRcfdZz8F8UTzPHzt2rLi4+B//+Ierq6uA+UczuxmzbCf5Ud6nw0bkuGQVI5HQzABgMihqMNpt37594HQaIYRhGMN9lPff+5mRkUEIWb169d0vRkREJCYmDnXSGTNmPPfcc11dXXe3jfz8fDc3t+eff37glW+//ZZhGMP/d3V1FYlEPT09Q52LEJKbm0sIiYmJufvFFStWDLz1MO7u7oSQu08u5ubmtrW13TOUsO6ZdP/+/YSQRYsWDRzw7LPPEkL+/ve/D7wymC/KwcHB0dGREDJmzBjsxCsYhnFKeJnwPMUANk6O0oUvUQsAYGIoajCq3blz569//esrr7zC3GXjxo2EkNOnT9fU1AwcqdPprl69SggJDQ29ewSJRBIVFWXE1G+++SYh5M9//jP/r19yf/nLX1577TWj/ywP09/fX1ZWRgjx9va++3VfX19CSGVlZV9f36NH4Gn8GjZMqtPpKisrCSFeXl4DbxnOh9XV1Zk/FdzPLvxZuxmzCK3nbPLEWfFLxkFKZ3YA00NRg1Ft3759zz33HH+fWbNm8Tx/95VYHR0dhurg5OQkyNQLFy4MDQ2tqKgw3LnJcVxpaWlCQsLAAd3d3b/97W+ffvrp8ePHOzk52dra6nTGbIXQ1dX1wOQuLt8/b2fgunsL1N3dbQg/adKkgSb9k5/8hBAycM5MqC8KjDbmF28wIhEhjLknFoklU37k8Nzzjz8SwGqhqMGotmPHjgeu4r300kuEkOzs7IGTSU5OTjY2NoSQlpYWQaZmGMZwfdvmzZsJIX/5y1/Wrl1rb//D/gKxsbEbN24MDw8/c+ZMQ0NDT0+PyKjb6wx3kpJ/X8EkhNy+fdsQQ6jqaQpSqdQQvrm5+Z4y/c9//tNwjFBfFBhNNN5T9upvzNzTGIaxcZS6vLWJMGYviABmhKIGo1d9ff2pU6cWL158/1uG9lZdXf3VV18ZXhGLxYYbDjiOEypAQkKCh4fH0aNHr1y5kpeXt27duoG3WltbCwoKPDw8/vjHPwYHBzs7O4uNXVoSi8VyuZwQUl9ff/frhmduBgUF2dnZDeMPYVoikciwRPuwhU4BvygYDvs586QvLmFszNaZGGJj4/Kb92yeGGuuGQHoQFGD0Ss3Nzc8PNywO8Y9WJY11LK7bykw3Or4+eefP2xAQ0XQarWDDGBnZ/fKK6/wPB8TExMVFeXh4THwVm9vL7lrdXKY061cuZIQcvDgwbtf3LdvHyHkgU9Pf4TExEQj9lEbjhdffJEQkpeX98B3B/NFgXmMUay3i3iO2JjpdKbszXckT/7IPHMBUISiBqPXjh07DEucD2R4a8+ePQN7br3xxhtPP/304cOHk5KSLl261Nvb29/ff+PGjYHHGAQHBxNCzpw5U1dX19nZOZhF0l/84heOjo5VVVX33Ebg6enp5+dXVlZ28ODB3t7empqa9PT0e059DX66N954Y+bMmR999FF2dnZXV1dbW9uf/vSnzz77bNq0aYaNQgaps7Nz+/btRuyjNhwbNmyYOHHiJ5988umnnzY0NOh0ura2titXrtTW1pLBfVFgJoyN7M237Z+ZY9rzagxDRCLZ6/9t/+xPTDgLgOW4/zJqgBHvV7/6laenJyFEKpXOmDHj2LFjd7+7a9euadOmDVwuJpPJZs+eXVdXx/N8T0/PRx99NHPmTGdnZ5FI5OrqGhkZ+eWXXw58dsOGDS4uLlKpdPbs2SdOnMjNzZ08ebLhkilHR8eIiIiKiop7wqxfvz4yMvL+kN9++214eLhUKvXw8IiPj1epVLNmzSKEBAUFff3110OdrqOjY+PGjXK53M7OzsHBYfLkyW+//fadO3cM7+bn5w/cVimXy8+dO9fS0jJr1izDSbsnnnjiww8/NBy5cuVKmUx24MCBh32327dvDw0NNWRwcnJ65plnrl279sBgg5+0vr5+3bp1/v7+hvChoaFr166tqqoazBeVnZ1t+HdNCPHz89u0adNgfkLAeHpd+5Y/NLz444af/bjhZ88K+7+biyNvLpnf+903tP+QAObD8BT3vwEAgJGo9+tTdz57j+/X8ALegSsS2U6c5PL/3hN5ThRsTACLh6IGAADC091quPPF7/sunGMYhh/eY6YYsZgQxnFFkuOSVYytrVAJAawCihoAAJhK37dfd+Zs6a+pIiIRMeLsmlhM9HqHOfOdVqWJPLwefzzAiIOiBgAAptV34XzP0QN9337N83qGEfG6x92qLBYTrdZmjMxh7k+l0bGoaDCaoagBAIA56Dvu9BV/o7lcorlUrGu+RR60HspIJGIff8mMp+ymzZQ8+SPKj3sHsAAoagAAYG68tl93s17fdpvv7eF7e22cnBh7BxvX8SJXN9rRACwLihoAAACAhcJZZQAAAAALhaIGAAAAYKFQ1AAAAAAsFIoaAAAAgIVCUQMAAACwUChqAAAAABYKRQ0AAADAQqGoAQAAAFgoFDUAAAAAC4WiBgAAAGChUNQAAAAALBSKGgAAAICFQlEDAAAAsFAoagAAAAAWCkUNAAAAwEKhqAEAAABYKBQ1AAAAAAuFogYAAABgoVDUAAAAACwUihoAAACAhUJRAwAAALBQKGoAAAAAFgpFDQAAAMBCoagBAAAAWCgUNQAAAAALhaIGAAAAYKFQ1AAAAAAsFIoaAAAAgIVCUQMAAACwUChqAAAAABYKRQ0AAADAQqGoAQAAAFio/w+G5v34TJSe4QAAAABJRU5ErkJggg==)"
      ],
      "metadata": {
        "id": "WV50SyIxIbAp"
      }
    },
    {
      "cell_type": "markdown",
      "source": [
        "## What ReLU does during Forward Propagation"
      ],
      "metadata": {
        "id": "NPR_zGWz_EF-"
      }
    },
    {
      "cell_type": "code",
      "source": [
        "import numpy as np\n",
        "\n",
        "np.random.seed(1)\n",
        "\n",
        "# 1. Initializing the network's weights and data\n",
        "def relu(x):\n",
        "    return (x > 0) * x # returns x if x > 0\n",
        "                       # return 0 otherwise\n",
        "\n",
        "def relu2deriv(output):\n",
        "    return output>0 # returns 1 for input > 0\n",
        "                    # return 0 otherwise\n",
        "\n",
        "# X data\n",
        "X = golf.loc[:, ['Temp', 'Humidity', 'Wind']] # select temp, humidity and wind as inputs\n",
        "X = np.array(X.values.tolist()) # generate those values in array\n",
        "\n",
        "# y data\n",
        "y = np.array(golf['Play'].tolist()).T\n",
        "\n",
        "alpha = 0.1 # learning rate\n",
        "hidden_size = 4 # 4 hidden units in the hidden layer\n",
        "\n",
        "# input/target variable\n",
        "input = X[0:1] # first row of X\n",
        "target_var = y[0:1]\n",
        "\n",
        "# randomly initialize the weights to start\n",
        "weights_0_1 = 2*np.random.random((3,hidden_size))-1 # this is the number of columns in X (you don't have to hardcode)\n",
        "weights_1_2 = 2*np.random.random((hidden_size,1))-1\n",
        "\n",
        "# 2. PREDICT + COMPARE: Making a prediction, and calculating the output error and delta\n",
        "# 3. LEARN: Backpropagation from layer_2 to layer_1\n",
        "\n",
        "# P\n",
        "layer_0 = input\n",
        "layer_1 = np.dot(layer_0,weights_0_1)\n",
        "print('layer_1 before RELU:', layer_1)\n",
        "layer_1 = relu(layer_1)\n",
        "print('layer_1 after RELU:', layer_1)\n",
        "layer_2 = np.dot(layer_1,weights_1_2)"
      ],
      "metadata": {
        "colab": {
          "base_uri": "https://localhost:8080/"
        },
        "id": "OUupGbOO_Lis",
        "outputId": "f2758f4e-a8bf-4765-af29-544e4cbea90c"
      },
      "execution_count": null,
      "outputs": [
        {
          "output_type": "stream",
          "name": "stdout",
          "text": [
            "layer_1 before RELU: [[-0.37242104  0.51828245 -1.16138222 -0.02489585]]\n",
            "layer_1 after RELU: [[-0.          0.51828245 -0.         -0.        ]]\n"
          ]
        }
      ]
    },
    {
      "cell_type": "markdown",
      "source": [
        "Seehow the negative values were turned to 0s?! Note that `relu` is only used between hidden layers - you don't use `relu` going to `layer_2` (the output layer). We will eventually use different activation functions there."
      ],
      "metadata": {
        "id": "eV0wRI1dJFdf"
      }
    },
    {
      "cell_type": "markdown",
      "source": [
        "Note that the only node that is going to communicate ANY information to the output is node2 (0.51). The rest are 0s! All inputs (temp, wind, humidity) contributed to node2."
      ],
      "metadata": {
        "id": "JGVFvKDNMJJ2"
      }
    },
    {
      "cell_type": "code",
      "source": [
        "# layer 2\n",
        "print('prediction:', layer_2)\n",
        "print('target variable:', y[0])"
      ],
      "metadata": {
        "colab": {
          "base_uri": "https://localhost:8080/"
        },
        "id": "ybkbqjz5Jt5o",
        "outputId": "bda1e3aa-13b8-4197-d867-77bccbf2f747"
      },
      "execution_count": null,
      "outputs": [
        {
          "output_type": "stream",
          "name": "stdout",
          "text": [
            "prediction: [[0.39194327]]\n",
            "target variable: 0\n"
          ]
        }
      ]
    },
    {
      "cell_type": "markdown",
      "source": [
        "Looks like we overestimated! Let's use this error feedback signal to update our model."
      ],
      "metadata": {
        "id": "MVWhyWTUJ2z3"
      }
    },
    {
      "cell_type": "markdown",
      "source": [
        "## Using ReLU During Backpropagation\n",
        "We are working ourselves backwards from prediction to input and updating the weights as we go!"
      ],
      "metadata": {
        "id": "bGH6ksd3_JE2"
      }
    },
    {
      "cell_type": "markdown",
      "source": [
        "## Updating `weights_1_2`\n",
        "We need to update our weights - we overestimated!  Positive weights need to get smaller (more negative), and negative weights need to become more negative.\n",
        "\n",
        "`layer_2_delta` is easy - it's just actual minus predicted."
      ],
      "metadata": {
        "id": "ECaVQ6dUMftz"
      }
    },
    {
      "cell_type": "code",
      "source": [
        "# E (remember - this is just used for tracking model fit)\n",
        "error = (layer_2-target_var)**2\n",
        "print('error:', error)\n",
        "# D (direction and amount)\n",
        "# this tells the model \"I overestimated, make positive weights smaller\"\n",
        "layer_2_delta=(layer_2-target_var) # [1,1] shape\n",
        "\n",
        "print('layer_2_delta:', layer_2_delta)"
      ],
      "metadata": {
        "colab": {
          "base_uri": "https://localhost:8080/"
        },
        "id": "2Bearxsv_MmM",
        "outputId": "8ef1fda4-f10e-4158-bf69-822505621941"
      },
      "execution_count": null,
      "outputs": [
        {
          "output_type": "stream",
          "name": "stdout",
          "text": [
            "error: [[0.15361952]]\n",
            "layer_2_delta: [[0.39194327]]\n"
          ]
        }
      ]
    },
    {
      "cell_type": "markdown",
      "source": [
        "And it would be fine to update layer_2 weights at this point."
      ],
      "metadata": {
        "id": "p2bgd-6GNLF4"
      }
    },
    {
      "cell_type": "code",
      "source": [
        "weights_1_2"
      ],
      "metadata": {
        "colab": {
          "base_uri": "https://localhost:8080/"
        },
        "id": "cozSha5_Npi9",
        "outputId": "f8faa1f5-4bfb-43cb-f9f5-a8c0b4898ace"
      },
      "execution_count": null,
      "outputs": [
        {
          "output_type": "execute_result",
          "data": {
            "text/plain": [
              "array([[-0.5910955 ],\n",
              "       [ 0.75623487],\n",
              "       [-0.94522481],\n",
              "       [ 0.34093502]])"
            ]
          },
          "metadata": {},
          "execution_count": 25
        }
      ]
    },
    {
      "cell_type": "code",
      "source": [
        "weight_delta_1_2 = layer_1.T.dot(layer_2_delta)\n",
        "print('weight_delta_1_2: \\n', weight_delta_1_2)"
      ],
      "metadata": {
        "colab": {
          "base_uri": "https://localhost:8080/"
        },
        "id": "37fbYzevNOUv",
        "outputId": "43cb1882-29fa-4f69-f411-d831bc3d640d"
      },
      "execution_count": null,
      "outputs": [
        {
          "output_type": "stream",
          "name": "stdout",
          "text": [
            "weight_delta_1_2: \n",
            " [[0.        ]\n",
            " [0.20313732]\n",
            " [0.        ]\n",
            " [0.        ]]\n"
          ]
        }
      ]
    },
    {
      "cell_type": "markdown",
      "source": [
        "Remember that node2 of layer1 was the only node to pass some information... hence, it's the only weight in weight1_2 that should be updated!"
      ],
      "metadata": {
        "id": "G_AX4DlQN7Me"
      }
    },
    {
      "cell_type": "code",
      "source": [
        "print('before: \\n', weights_1_2)\n",
        "print('\\n')\n",
        "weights_1_2 -= alpha * weight_delta_1_2\n",
        "print('after: \\n', weights_1_2) # weight2 gets smaller! the rest stay the same"
      ],
      "metadata": {
        "colab": {
          "base_uri": "https://localhost:8080/"
        },
        "id": "2eHLvRhtOFFt",
        "outputId": "074694b8-e364-43f3-9b27-ad093a7a0df9"
      },
      "execution_count": null,
      "outputs": [
        {
          "output_type": "stream",
          "name": "stdout",
          "text": [
            "before: \n",
            " [[-0.5910955 ]\n",
            " [ 0.75623487]\n",
            " [-0.94522481]\n",
            " [ 0.34093502]]\n",
            "\n",
            "\n",
            "after: \n",
            " [[-0.5910955 ]\n",
            " [ 0.73592114]\n",
            " [-0.94522481]\n",
            " [ 0.34093502]]\n"
          ]
        }
      ]
    },
    {
      "cell_type": "markdown",
      "source": [
        "What you see is that the 0.75 weight (in the second node) has become a 0.73 - it got smaller! This makes sense because our model overpredicted by 0.39 so we need to make the weights smaller.\n",
        "\n",
        "And which weight got smaller? The one that previously contributed information. The first, third and fourth weight didn't contribute any information to the prediction because the values in layer_1 were 0s for these!"
      ],
      "metadata": {
        "id": "_w7G-K8yjc3t"
      }
    },
    {
      "cell_type": "code",
      "source": [
        "# see? only the second node in layer1 had any info to pass to the prediction\n",
        "layer_1"
      ],
      "metadata": {
        "colab": {
          "base_uri": "https://localhost:8080/"
        },
        "id": "9QX7094OkDYG",
        "outputId": "e8d01676-b8fb-4159-effe-566288cc5f20"
      },
      "execution_count": null,
      "outputs": [
        {
          "output_type": "execute_result",
          "data": {
            "text/plain": [
              "array([[-0.        ,  0.51828245, -0.        , -0.        ]])"
            ]
          },
          "metadata": {},
          "execution_count": 28
        }
      ]
    },
    {
      "cell_type": "markdown",
      "source": [
        "## Updating `weights_0_1`\n",
        "\n",
        "We already know `layer_2_delta` has a [1,1] shape - it is just a constant (0.39). It tells our model we overestimated by 0.39! Let's use this information as a feedback signal to create `layer_1_delta` and update the `weights_0_1`.\n",
        "\n",
        "🛑 This is more involved than the previous weight update. Pay attention and make sure you work the math out by hand to confirm your understanding."
      ],
      "metadata": {
        "id": "F3qrePl7OKVe"
      }
    },
    {
      "cell_type": "markdown",
      "source": [
        "## weights_1_2 helps update weights_0_1"
      ],
      "metadata": {
        "id": "0X4h9nO3lLwa"
      }
    },
    {
      "cell_type": "markdown",
      "source": [
        "As a refresher, here are the weights_1_2 (from layer 1 to layer 2 prediction layer)\n",
        "\n",
        "* The second and fourth weights are positive (which means any input into the seocnd and fourth unit would result in a larger output (think of a positive number times a positive number!)\n",
        "  * Recall that we just overestimated. As such, we should make any input that comes into these weights less positive (so that the prediction gets smaller).\n",
        "\n",
        "* The first and third weights are negative (which means any input into the first and third node would result in a smaller output (think of a positive number times a negative number!)\n",
        "  * Again, recall that we just overestimated by 0.39. As such, we should make any input that comes into these weights more negative (so that the prediction gets less positive).\n"
      ],
      "metadata": {
        "id": "BBAFz0v_lWON"
      }
    },
    {
      "cell_type": "code",
      "source": [
        "weights_1_2.T"
      ],
      "metadata": {
        "colab": {
          "base_uri": "https://localhost:8080/"
        },
        "id": "3zK6xLvhkpLv",
        "outputId": "c390e154-a0f3-40ae-9319-c6548f7c9e05"
      },
      "execution_count": null,
      "outputs": [
        {
          "output_type": "execute_result",
          "data": {
            "text/plain": [
              "array([[-0.5910955 ,  0.73592114, -0.94522481,  0.34093502]])"
            ]
          },
          "metadata": {},
          "execution_count": 29
        }
      ]
    },
    {
      "cell_type": "markdown",
      "source": [
        "But also recall that it was the second node in `weights_1_2` that contributed any information. Hence, only weights that touched the second node should be updated."
      ],
      "metadata": {
        "id": "3FjodKGMmG3C"
      }
    },
    {
      "cell_type": "code",
      "source": [
        "\n",
        "# 4. LEARN: Generating weight_deltas, and updating weights\n",
        "# W\n",
        "\n",
        "# i added spaces here to make it line up nicely\n",
        "\n",
        "# this tells the model \"I overestimated, make positive weights smaller\"\n",
        "print('layer_1                        :', layer_1)\n",
        "\n",
        "layer_1_delta=layer_2_delta.dot(weights_1_2.T)\n",
        "print('layer_1_delta before relu2deriv:', layer_1_delta)\n",
        "\n",
        "layer_1_delta = layer_1_delta*relu2deriv(layer_1)\n",
        "print('layer_1_delta after relu2deriv :', layer_1_delta)"
      ],
      "metadata": {
        "colab": {
          "base_uri": "https://localhost:8080/"
        },
        "id": "xtzAentnLVb_",
        "outputId": "280c641a-3f95-429a-cb6b-4d9189ca38a1"
      },
      "execution_count": null,
      "outputs": [
        {
          "output_type": "stream",
          "name": "stdout",
          "text": [
            "layer_1                        : [[-0.          0.51828245 -0.         -0.        ]]\n",
            "layer_1_delta before relu2deriv: [[-0.2316759   0.28843934 -0.3704745   0.13362719]]\n",
            "layer_1_delta after relu2deriv : [[-0.          0.28843934 -0.          0.        ]]\n"
          ]
        }
      ]
    },
    {
      "cell_type": "markdown",
      "source": [
        "See the 0.288 and the 0.133 in `layer_1_delta before relu2deriv`? These correspond to how we would decrease positive weights by this amount - these weights in weight_1_2 were positive, so the model wants to literally make the output smaller because we had overestimated!\n",
        "\n",
        "But that fourth weight in `weights_1_2` wasn't used in the prediction because the fourth unit in layer_1 was 0 (thanks to relu!). Hence, we will only update weights that touch node2 in layer_1.\n",
        "\n",
        "This is why 0.288 is the only value in `layer_1_delta` - we are going to use this value to update only the weights that touched the second unit of `layer_1`."
      ],
      "metadata": {
        "id": "_3QB3-VPQ93_"
      }
    },
    {
      "cell_type": "markdown",
      "source": [
        "❗ Take a breath and know that we are crushing it at this point - we know the model overestimated. And we are only going to update the weights that affected node2 of layer1 - these are the only input/weight pairs that contributed any information to the model! Leave the other weights alone."
      ],
      "metadata": {
        "id": "PgH_mKRZPiRC"
      }
    },
    {
      "cell_type": "code",
      "source": [
        "# now update the weights using the deltas!\n",
        "# these have the same shape as weights_1_2 and weights_0_1\n",
        "\n",
        "weight_delta_0_1 = layer_0.T.dot(layer_1_delta)\n",
        "print(weight_delta_0_1)\n"
      ],
      "metadata": {
        "colab": {
          "base_uri": "https://localhost:8080/"
        },
        "id": "h1gMvB1iLgc1",
        "outputId": "9b1c0b2d-dd6e-4305-e655-f313227b0b7c"
      },
      "execution_count": null,
      "outputs": [
        {
          "output_type": "stream",
          "name": "stdout",
          "text": [
            "[[0.         0.28843934 0.         0.        ]\n",
            " [0.         0.         0.         0.        ]\n",
            " [0.         0.28843934 0.         0.        ]]\n"
          ]
        }
      ]
    },
    {
      "cell_type": "markdown",
      "source": [
        "**On Your Own:** Looking at this matrix, you should be able to tell that you are updating the weights from Temperature to Node2 and Humidity to Node2! Draw this and show how the weights change!"
      ],
      "metadata": {
        "id": "IL2dgWIwSZ_p"
      }
    },
    {
      "cell_type": "code",
      "source": [
        "# now update the weights with subtraction!\n",
        "weights_0_1 -= alpha * weight_delta_0_1\n",
        "print(weights_0_1)"
      ],
      "metadata": {
        "colab": {
          "base_uri": "https://localhost:8080/"
        },
        "id": "qGti4ZBQQU57",
        "outputId": "569a0d01-1145-4fdf-bc55-05f30adcf8c8"
      },
      "execution_count": null,
      "outputs": [
        {
          "output_type": "stream",
          "name": "stdout",
          "text": [
            "[[-0.16595599  0.41180505 -0.99977125 -0.39533485]\n",
            " [-0.70648822 -0.81532281 -0.62747958 -0.30887855]\n",
            " [-0.20646505  0.04878953 -0.16161097  0.370439  ]]\n"
          ]
        }
      ]
    },
    {
      "cell_type": "markdown",
      "source": [
        "If you scroll up, you will see that the weights have gotten smaller in weights_0_1!"
      ],
      "metadata": {
        "id": "TLm8HxKPRNf8"
      }
    },
    {
      "cell_type": "markdown",
      "metadata": {
        "id": "jmZW3CLAg9ug"
      },
      "source": [
        "# One Iteration of Backpropagation (with ReLU) for one row of data"
      ]
    },
    {
      "cell_type": "markdown",
      "source": [
        "For completeness, here is a code that completes one iteration of backpropagation for one row of data. You can add print statements to check your work."
      ],
      "metadata": {
        "id": "yKavOsCHtPAn"
      }
    },
    {
      "cell_type": "code",
      "execution_count": null,
      "metadata": {
        "id": "c2VpbYt9g9ug"
      },
      "outputs": [],
      "source": [
        "import numpy as np\n",
        "\n",
        "np.random.seed(1)\n",
        "\n",
        "# 1. Initializing the network's weights and data\n",
        "def relu(x):\n",
        "    return (x > 0) * x # returns x if x > 0\n",
        "                       # return 0 otherwise\n",
        "\n",
        "def relu2deriv(output):\n",
        "    return output>0 # returns 1 for input > 0\n",
        "                    # return 0 otherwise\n",
        "\n",
        "# X data\n",
        "X = golf.loc[:, ['Temp', 'Humidity', 'Wind']] # select temp, humidity and wind as inputs\n",
        "X = np.array(X.values.tolist()) # generate those values in array\n",
        "\n",
        "# y data\n",
        "y = np.array(golf['Play'].tolist()).T\n",
        "\n",
        "alpha = 0.1 # learning rate\n",
        "hidden_size = 4 # 4 hidden units in the hidden layer\n",
        "\n",
        "# randomly intialize the weights (between -1 and +1 so we don't have divergence)\n",
        "weights_0_1 = 2*np.random.random((3,hidden_size))-1 # this is the number of columns in X (you don't have to hardcode)\n",
        "weights_1_2 = 2*np.random.random((hidden_size,1))-1\n",
        "\n",
        "# input/target variable\n",
        "input = X[0:1] # first row of X\n",
        "target_var = y[0:1]\n",
        "\n",
        "\n",
        "# 2. PREDICT + COMPARE: Making a prediction, and calculating the output error and delta\n",
        "# 3. LEARN: Backpropagation from layer_2 to layer_1\n",
        "\n",
        "# P\n",
        "layer_0 = input # first row of X\n",
        "layer_1 = np.dot(layer_0,weights_0_1)\n",
        "layer_1 = relu(layer_1)\n",
        "layer_2 = np.dot(layer_1,weights_1_2)\n",
        "\n",
        "# E\n",
        "error = (layer_2-target_var)**2\n",
        "\n",
        "# D\n",
        "layer_2_delta=(layer_2-target_var)\n",
        "\n",
        "# 4. LEARN: Generating weight_deltas, and updating weights\n",
        "# W\n",
        "layer_1_delta=layer_2_delta.dot(weights_1_2.T)\n",
        "layer_1_delta *= relu2deriv(layer_1)\n",
        "\n",
        "weight_delta_1_2 = layer_1.T.dot(layer_2_delta)\n",
        "weight_delta_0_1 = layer_0.T.dot(layer_1_delta)\n",
        "\n",
        "weights_1_2 -= alpha * weight_delta_1_2\n",
        "weights_0_1 -= alpha * weight_delta_0_1"
      ]
    },
    {
      "cell_type": "markdown",
      "source": [
        "**On Your Own:** Add print statements to look at the shape of each variable as it goes by. This will help confirm your understanding of how data is transformed!"
      ],
      "metadata": {
        "id": "4UVhovPKoKIY"
      }
    },
    {
      "cell_type": "markdown",
      "source": [
        "## A Lot of Print Statements - corresponds to PPT"
      ],
      "metadata": {
        "id": "VTF8TfbJvmFF"
      }
    },
    {
      "cell_type": "code",
      "source": [
        "import numpy as np\n",
        "\n",
        "np.random.seed(1)\n",
        "\n",
        "# 1. Initializing the network's weights and data\n",
        "def relu(x):\n",
        "    return (x > 0) * x # returns x if x > 0\n",
        "                       # return 0 otherwise\n",
        "\n",
        "def relu2deriv(output):\n",
        "    return output>0 # returns 1 for input > 0\n",
        "                    # return 0 otherwise\n",
        "\n",
        "# X data\n",
        "X = golf.loc[:, ['Temp', 'Humidity', 'Wind']] # select temp, humidity and wind as inputs\n",
        "X = np.array(X.values.tolist()) # generate those values in array\n",
        "\n",
        "# y data\n",
        "y = np.array(golf['Play'].tolist()).T\n",
        "\n",
        "alpha = 0.1 # learning rate\n",
        "hidden_size = 4 # 4 hidden units in the hidden layer\n",
        "\n",
        "# randomly intialize the weights (between -1 and +1 so we don't have divergence)\n",
        "weights_0_1 = 2*np.random.random((3,hidden_size))-1 # this is the number of columns in X (you don't have to hardcode)\n",
        "weights_1_2 = 2*np.random.random((hidden_size,1))-1\n",
        "\n",
        "# input/target variable\n",
        "input = X[0:1] # first row of X\n",
        "target_var = y[0:1]\n",
        "\n",
        "\n",
        "# 2. PREDICT + COMPARE: Making a prediction, and calculating the output error and delta\n",
        "# 3. LEARN: Backpropagation from layer_2 to layer_1\n",
        "\n",
        "print('Begin Forward Propagation:')\n",
        "print('')\n",
        "\n",
        "# P\n",
        "layer_0 = input # first row of X\n",
        "print('layer_0:', layer_0)\n",
        "print('')\n",
        "print('target var:')\n",
        "print(target_var)\n",
        "print('')\n",
        "\n",
        "print('weights_0_1:')\n",
        "print(weights_0_1)\n",
        "print('')\n",
        "layer_1 = np.dot(layer_0,weights_0_1)\n",
        "print('layer_1:', layer_1)\n",
        "print('')\n",
        "layer_1 = relu(layer_1)\n",
        "print('relu(layer_1):',layer_1)\n",
        "print('')\n",
        "print('weights_1_2:')\n",
        "print(weights_1_2)\n",
        "print('')\n",
        "layer_2 = np.dot(layer_1,weights_1_2)\n",
        "print('layer_2:', layer_2)\n",
        "print('')\n",
        "\n",
        "# E\n",
        "print('Begin Back Propagation:')\n",
        "print('')\n",
        "error = (layer_2-target_var)**2\n",
        "print('Squared Error:')\n",
        "print(error)\n",
        "print('')\n",
        "\n",
        "\n",
        "# 4. LEARN: Generating weight_deltas, and updating weights\n",
        "\n",
        "# D\n",
        "layer_2_delta=(layer_2-target_var)\n",
        "print('layer_2_delta:')\n",
        "print(layer_2_delta)\n",
        "print('')\n",
        "\n",
        "# W\n",
        "\n",
        "weight_delta_1_2 = layer_1.T.dot(layer_2_delta)\n",
        "print('weight_delta_1_2:')\n",
        "print(weight_delta_1_2)\n",
        "print('')\n",
        "weights_1_2 -= alpha * weight_delta_1_2\n",
        "print('new weights_1_2:')\n",
        "print(weights_1_2)\n",
        "print('')\n",
        "\n",
        "\n",
        "layer_1_delta=layer_2_delta.dot(weights_1_2.T)\n",
        "print('layer_1_delta:')\n",
        "print(layer_1_delta)\n",
        "print('')\n",
        "layer_1_delta *= relu2deriv(layer_1)\n",
        "print('relu2derive(layer_1_delta):')\n",
        "print(layer_1_delta)\n",
        "print('')\n",
        "\n",
        "weight_delta_0_1 = layer_0.T.dot(layer_1_delta)\n",
        "print('weight_delta_0_1:')\n",
        "print(weight_delta_0_1)\n",
        "print('')\n",
        "\n",
        "weights_0_1 -= alpha * weight_delta_0_1\n",
        "print('new weights_0_1:')\n",
        "print(weights_0_1)\n",
        "print('')\n"
      ],
      "metadata": {
        "colab": {
          "base_uri": "https://localhost:8080/"
        },
        "id": "1w2o2lacvqG1",
        "outputId": "321928b2-2fb6-41d8-e791-fa452f373322"
      },
      "execution_count": null,
      "outputs": [
        {
          "output_type": "stream",
          "name": "stdout",
          "text": [
            "Begin Forward Propagation:\n",
            "\n",
            "layer_0: [[1 0 1]]\n",
            "\n",
            "target var:\n",
            "[0]\n",
            "\n",
            "weights_0_1:\n",
            "[[-0.16595599  0.44064899 -0.99977125 -0.39533485]\n",
            " [-0.70648822 -0.81532281 -0.62747958 -0.30887855]\n",
            " [-0.20646505  0.07763347 -0.16161097  0.370439  ]]\n",
            "\n",
            "layer_1: [[-0.37242104  0.51828245 -1.16138222 -0.02489585]]\n",
            "\n",
            "relu(layer_1): [[-0.          0.51828245 -0.         -0.        ]]\n",
            "\n",
            "weights_1_2:\n",
            "[[-0.5910955 ]\n",
            " [ 0.75623487]\n",
            " [-0.94522481]\n",
            " [ 0.34093502]]\n",
            "\n",
            "layer_2: [[0.39194327]]\n",
            "\n",
            "Begin Back Propagation:\n",
            "\n",
            "Squared Error:\n",
            "[[0.15361952]]\n",
            "\n",
            "layer_2_delta:\n",
            "[[0.39194327]]\n",
            "\n",
            "weight_delta_1_2:\n",
            "[[0.        ]\n",
            " [0.20313732]\n",
            " [0.        ]\n",
            " [0.        ]]\n",
            "\n",
            "new weights_1_2:\n",
            "[[-0.5910955 ]\n",
            " [ 0.73592114]\n",
            " [-0.94522481]\n",
            " [ 0.34093502]]\n",
            "\n",
            "layer_1_delta:\n",
            "[[-0.2316759   0.28843934 -0.3704745   0.13362719]]\n",
            "\n",
            "relu2derive(layer_1_delta):\n",
            "[[-0.          0.28843934 -0.          0.        ]]\n",
            "\n",
            "weight_delta_0_1:\n",
            "[[0.         0.28843934 0.         0.        ]\n",
            " [0.         0.         0.         0.        ]\n",
            " [0.         0.28843934 0.         0.        ]]\n",
            "\n",
            "new weights_0_1:\n",
            "[[-0.16595599  0.41180505 -0.99977125 -0.39533485]\n",
            " [-0.70648822 -0.81532281 -0.62747958 -0.30887855]\n",
            " [-0.20646505  0.04878953 -0.16161097  0.370439  ]]\n",
            "\n"
          ]
        }
      ]
    },
    {
      "cell_type": "markdown",
      "metadata": {
        "id": "tldK5GrPg9uf"
      },
      "source": [
        "# Now, learn the entire dataset (update the weights) with ReLU\n",
        "\n",
        "You can learn the amount that each weight contributes to the final error. Remember, the goal here is error attribution. It's all about figuring out how much each weight contributed to the final error. In our first (2-layer) neural network, we calculated a delta variable, which told us how much higher or lower we wanted the output prediction to be. Look at the code here. We compute our layer_2_delta in the same way. Nothing new here! (Again, go back to the previous chapter if you've forgotten how that part works.)\n",
        "\n",
        "So, now that we have how much we want the final prediction to move up or down (delta), we need to figure out how much we want each middle (layer_1) node to move up or down. These are effectively intermediate predictions. Once we have the delta at layer_1, we can use all the same processes we used before for calculating a weight update (for each weight, multiply its input value by its output delta and increase the weight value by that much).\n",
        "\n",
        "So, how do we calculate the deltas for layer_1? Well, first we do the obvious as mentioned on the previous pages, we multiply the output delta by each weight attached to it. This gives us a weighting of how much each weight contributed to that error. There's one more thing we need to factor in. If the relu set the output to a layer_1 node to be 0, then it didn't contribute to the error at all . So, when this was true, we should also set the delta of that node to be zero. Multiplying each layer_1 node by the relu2deriv function accomplishes this. relu2deriv is either a 1 or a 0 depending on whether the layer_1 value was > 0 or not.\n"
      ]
    },
    {
      "cell_type": "code",
      "execution_count": null,
      "metadata": {
        "id": "k_Lfz4akg9ug",
        "outputId": "a6074142-8b56-4c15-b6cc-b5966fbc74ec",
        "colab": {
          "base_uri": "https://localhost:8080/"
        }
      },
      "outputs": [
        {
          "output_type": "stream",
          "name": "stdout",
          "text": [
            "Error:2.9080372191495405\n",
            "Error:2.819660394964624\n",
            "Error:2.775636958010905\n",
            "Error:2.7406071338138243\n",
            "Error:2.709883179217027\n",
            "Error:2.6832836994612954\n",
            "Error:2.661398888840042\n",
            "Error:2.644292833242288\n",
            "Error:2.631325521512368\n",
            "Error:2.62152661467436\n"
          ]
        }
      ],
      "source": [
        "import numpy as np\n",
        "\n",
        "np.random.seed(1)\n",
        "\n",
        "# relu activation function for forward propagation\n",
        "def relu(x):\n",
        "    return (x > 0) * x # returns x if x > 0\n",
        "                       # return 0 otherwise\n",
        "\n",
        "# relu activation derivative for backpropagation\n",
        "def relu2deriv(output):\n",
        "    return output>0 # returns 1 for input > 0\n",
        "                    # return 0 otherwise\n",
        "\n",
        "# X data\n",
        "X = golf.loc[:, ['Temp', 'Humidity', 'Wind']] # select temp, humidity and wind as inputs\n",
        "X = np.array(X.values.tolist()) # generate those values in array\n",
        "\n",
        "# y data\n",
        "y = np.array(golf['Play'].tolist()).T\n",
        "\n",
        "# a small learning rate\n",
        "alpha = 0.1\n",
        "# a hidden layer with 4 units!\n",
        "hidden_size = 4\n",
        "\n",
        "# randomly initialize weights\n",
        "weights_0_1 = 2*np.random.random((3,hidden_size))-1 # this is the number of columns in X (you don't have to hardcode)\n",
        "weights_1_2 = 2*np.random.random((hidden_size,1))-1\n",
        "\n",
        "# a place to store results\n",
        "my_weights_0_1 = []\n",
        "my_weights_1_2 = []\n",
        "my_error = []\n",
        "\n",
        "for iteration in range(100): # train for 100 epochs\n",
        "   layer_2_error = 0\n",
        "   for i in range(len(y)): # stochastic gradient descent\n",
        "      layer_0 = X[i:i+1]\n",
        "      layer_1 = relu(np.dot(layer_0,weights_0_1))\n",
        "      layer_2 = np.dot(layer_1,weights_1_2) # the value is layer_2 delta (target_var - prediction)\n",
        "\n",
        "      layer_2_error += np.sum((layer_2 - y[i:i+1]) ** 2)\n",
        "\n",
        "      layer_2_delta = (y[i:i+1] - layer_2)\n",
        "      layer_1_delta = layer_2_delta.dot(weights_1_2.T)*relu2deriv(layer_1) # they are actually weighted versions of the layer_2 delta\n",
        "\n",
        "      weights_1_2 += alpha * layer_1.T.dot(layer_2_delta) # made up some weight values so you can see how the layer_2 delta passes through them\n",
        "      weights_0_1 += alpha * layer_0.T.dot(layer_1_delta)\n",
        "\n",
        "\n",
        "   if(iteration % 10 == 9):\n",
        "      print(\"Error:\" + str(layer_2_error))\n",
        "   # store the error at the end of each epoch\n",
        "   my_error.append(layer_2_error)\n",
        "   # store the results at the end of each epoch\n",
        "   my_weights_0_1.append(weights_0_1.flatten())\n",
        "   my_weights_1_2.append(weights_1_2.flatten())\n"
      ]
    },
    {
      "cell_type": "markdown",
      "source": [
        "## Visualize your results"
      ],
      "metadata": {
        "id": "mRIqqVCSsXPs"
      }
    },
    {
      "cell_type": "code",
      "source": [
        "my_error = pd.DataFrame(my_error)\n",
        "my_error.plot()\n",
        "plt.xlabel('Epochs')\n",
        "plt.ylabel('Squared Error')\n",
        "plt.title('Squared Error vs. Epochs')\n",
        "plt.show()"
      ],
      "metadata": {
        "colab": {
          "base_uri": "https://localhost:8080/",
          "height": 295
        },
        "outputId": "84e983a1-fe25-48ca-aae4-fefc0cff05a2",
        "id": "R50NQ10tsXPs"
      },
      "execution_count": null,
      "outputs": [
        {
          "output_type": "display_data",
          "data": {
            "text/plain": [
              "<Figure size 432x288 with 1 Axes>"
            ],
            "image/png": "[encoded data removed]"
          },
          "metadata": {
            "needs_background": "light"
          }
        }
      ]
    },
    {
      "cell_type": "code",
      "source": [
        "# weights_0_1\n",
        "tmp = pd.DataFrame(my_weights_0_1)\n",
        "tmp.plot()\n",
        "plt.xlabel('Epochs')\n",
        "plt.ylabel('Weight Value')\n",
        "plt.title('Weight Values_0_1 during Training')\n",
        "plt.show()"
      ],
      "metadata": {
        "colab": {
          "base_uri": "https://localhost:8080/",
          "height": 295
        },
        "id": "S6uxPtg4wYK6",
        "outputId": "28e6ac2e-e140-4326-c994-8d32a1b32f79"
      },
      "execution_count": null,
      "outputs": [
        {
          "output_type": "display_data",
          "data": {
            "text/plain": [
              "<Figure size 432x288 with 1 Axes>"
            ],
            "image/png": "[encoded data removed]"
          },
          "metadata": {
            "needs_background": "light"
          }
        }
      ]
    },
    {
      "cell_type": "code",
      "source": [
        "# can we flatten the nested list?\n",
        "tmp = pd.DataFrame(my_weights_1_2)\n",
        "tmp.plot()\n",
        "plt.xlabel('Epochs')\n",
        "plt.ylabel('Weight Value')\n",
        "plt.title('Weight Values_1_2 during Training')\n",
        "plt.show()"
      ],
      "metadata": {
        "colab": {
          "base_uri": "https://localhost:8080/",
          "height": 295
        },
        "id": "Lz0NdQSP0BNI",
        "outputId": "16bc87a0-7b76-4894-99f4-639cb5fdba05"
      },
      "execution_count": null,
      "outputs": [
        {
          "output_type": "display_data",
          "data": {
            "text/plain": [
              "<Figure size 432x288 with 1 Axes>"
            ],
            "image/png": "[encoded data removed]"
          },
          "metadata": {
            "needs_background": "light"
          }
        }
      ]
    },
    {
      "cell_type": "markdown",
      "source": [
        "When the loss function starts to level off (flat line)... you have converged! Using a smaller value of alpha and training for many epochs will help you train an accurate model. Note that more weights and layers don't necessarily make for a more accurate model! More on that later."
      ],
      "metadata": {
        "id": "Yoq_9TBcHmO0"
      }
    },
    {
      "cell_type": "markdown",
      "metadata": {
        "id": "b2ZIylvDg9uh"
      },
      "source": [
        "# On Your Own"
      ]
    },
    {
      "cell_type": "markdown",
      "source": [
        "**On Your Own:** See if you can add another hidden layer to this code. Don't forget ReLU!\n",
        "\n",
        "**On Your Own:** Try to add a sigmoid activation function at the end to constraint your output between 0 and 1 (this is a really good idea for classification problems!)"
      ],
      "metadata": {
        "id": "rvJcYem26FS8"
      }
    },
    {
      "cell_type": "markdown",
      "source": [
        "# Summary\n",
        "We can compute the relationship between our error and any one of our weights so that we know how changing the weight changes the error. We can then use this to reduce our error down to 0.\n",
        "\n",
        "Adjusting our weights to reduce our error over a series of training examples ultimately just searches for correlation between our input and our output layers.\n",
        "\n",
        "Neural networks look for correlation between input and output and you no longer have to worry about how that happens. We just know that it does.\n"
      ],
      "metadata": {
        "id": "5flfpgFULd0P"
      }
    }
  ]
}