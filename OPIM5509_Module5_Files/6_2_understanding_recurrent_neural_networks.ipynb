{
  "nbformat": 4,
  "nbformat_minor": 0,
  "metadata": {
    "colab": {
      "provenance": []
    },
    "kernelspec": {
      "display_name": "Python 3",
      "language": "python",
      "name": "python3"
    },
    "language_info": {
      "codemirror_mode": {
        "name": "ipython",
        "version": 3
      },
      "file_extension": ".py",
      "mimetype": "text/x-python",
      "name": "python",
      "nbconvert_exporter": "python",
      "pygments_lexer": "ipython3",
      "version": "3.5.2"
    }
  },
  "cells": [
    {
      "cell_type": "markdown",
      "source": [
        "[![Open In Colab](https://colab.research.google.com/assets/colab-badge.svg)](https://colab.research.google.com/github/drdave-teaching/OPIM5509Files/blob/main/OPIM5509_Module5_Files/6_2_understanding_recurrent_neural_networks.ipynb)"
      ],
      "metadata": {
        "id": "qWI3RL5K_ik_"
      }
    },
    {
      "cell_type": "markdown",
      "metadata": {
        "id": "rsQcF7myeoqG"
      },
      "source": [
        "# Understanding recurrent neural networks\n",
        "\n",
        "This notebook contains the code samples found in Chapter 6, Section 2 of [Deep Learning with Python](https://www.manning.com/books/deep-learning-with-python?a_aid=keras&a_bid=76564dff). Note that the original text features far more content, in particular further explanations and figures: in this notebook, you will only find source code and related comments.\n",
        "\n",
        "---\n",
        "\n",
        "[...]\n",
        "\n",
        "## A first recurrent layer in Keras\n",
        "\n",
        "The process we just naively implemented in Numpy corresponds to an actual Keras layer: the `SimpleRNN` layer:\n"
      ]
    },
    {
      "cell_type": "code",
      "metadata": {
        "colab": {
          "base_uri": "https://localhost:8080/",
          "height": 36
        },
        "id": "lZVuDnVTeoqB",
        "outputId": "fa781b00-312b-41c7-ee8f-804ac361c26b"
      },
      "source": [
        "import keras\n",
        "keras.__version__"
      ],
      "execution_count": null,
      "outputs": [
        {
          "output_type": "execute_result",
          "data": {
            "text/plain": [
              "'2.9.0'"
            ],
            "application/vnd.google.colaboratory.intrinsic+json": {
              "type": "string"
            }
          },
          "metadata": {},
          "execution_count": 14
        }
      ]
    },
    {
      "cell_type": "code",
      "metadata": {
        "id": "0swItK48eoqI"
      },
      "source": [
        "from keras.layers import SimpleRNN"
      ],
      "execution_count": null,
      "outputs": []
    },
    {
      "cell_type": "markdown",
      "metadata": {
        "id": "H8ZbHanneoqM"
      },
      "source": [
        "There is just one minor difference: `SimpleRNN` processes batches of sequences, like all other Keras layers, not just a single sequence like\n",
        "in our Numpy example. This means that it takes inputs of shape `(batch_size, timesteps, input_features)`, rather than `(timesteps,\n",
        "input_features)`.\n",
        "\n",
        "Like all recurrent layers in Keras, `SimpleRNN` can be run in two different modes: it can return either the full sequences of successive\n",
        "outputs for each timestep (a 3D tensor of shape `(batch_size, timesteps, output_features)`), or it can return only the last output for each\n",
        "input sequence (a 2D tensor of shape `(batch_size, output_features)`). These two modes are controlled by the `return_sequences` constructor\n",
        "argument. Let's take a look at an example:"
      ]
    },
    {
      "cell_type": "code",
      "metadata": {
        "colab": {
          "base_uri": "https://localhost:8080/"
        },
        "id": "RtM3YDQXeoqN",
        "outputId": "4098e3f6-e48a-4e4b-bfc3-7495ed74b83a"
      },
      "source": [
        "from keras.models import Sequential\n",
        "from keras.layers import Embedding, SimpleRNN\n",
        "\n",
        "model = Sequential()\n",
        "model.add(Embedding(10000, 32)) # 10000 max words, each with a 32 dim representation\n",
        "model.add(SimpleRNN(32))\n",
        "model.summary()"
      ],
      "execution_count": null,
      "outputs": [
        {
          "output_type": "stream",
          "name": "stdout",
          "text": [
            "Model: \"sequential_6\"\n",
            "_________________________________________________________________\n",
            " Layer (type)                Output Shape              Param #   \n",
            "=================================================================\n",
            " embedding_6 (Embedding)     (None, None, 32)          320000    \n",
            "                                                                 \n",
            " simple_rnn_12 (SimpleRNN)   (None, 32)                2080      \n",
            "                                                                 \n",
            "=================================================================\n",
            "Total params: 322,080\n",
            "Trainable params: 322,080\n",
            "Non-trainable params: 0\n",
            "_________________________________________________________________\n"
          ]
        }
      ]
    },
    {
      "cell_type": "code",
      "metadata": {
        "colab": {
          "base_uri": "https://localhost:8080/"
        },
        "id": "ssH8Hq7zeoqQ",
        "outputId": "bd0f7653-ad49-4256-8150-d4c66d091bc0"
      },
      "source": [
        "model = Sequential()\n",
        "model.add(Embedding(10000, 32))\n",
        "model.add(SimpleRNN(50, return_sequences=True))\n",
        "model.summary()"
      ],
      "execution_count": null,
      "outputs": [
        {
          "output_type": "stream",
          "name": "stdout",
          "text": [
            "Model: \"sequential_7\"\n",
            "_________________________________________________________________\n",
            " Layer (type)                Output Shape              Param #   \n",
            "=================================================================\n",
            " embedding_7 (Embedding)     (None, None, 32)          320000    \n",
            "                                                                 \n",
            " simple_rnn_13 (SimpleRNN)   (None, None, 50)          4150      \n",
            "                                                                 \n",
            "=================================================================\n",
            "Total params: 324,150\n",
            "Trainable params: 324,150\n",
            "Non-trainable params: 0\n",
            "_________________________________________________________________\n"
          ]
        }
      ]
    },
    {
      "cell_type": "markdown",
      "metadata": {
        "id": "q1HVhZI8eoqU"
      },
      "source": [
        "It is sometimes useful to stack several recurrent layers one after the other in order to increase the representational power of a network.\n",
        "In such a setup, you have to get all intermediate layers to return full sequences:"
      ]
    },
    {
      "cell_type": "code",
      "metadata": {
        "colab": {
          "base_uri": "https://localhost:8080/"
        },
        "id": "S869ce7xeoqV",
        "outputId": "f87add85-7680-4d11-f4e7-f3a931efe3b5"
      },
      "source": [
        "model = Sequential()\n",
        "model.add(Embedding(10000, 32))\n",
        "model.add(SimpleRNN(100, return_sequences=True))\n",
        "model.add(SimpleRNN(100, return_sequences=True))\n",
        "model.add(SimpleRNN(50, return_sequences=True))\n",
        "model.add(SimpleRNN(50))  # This last layer only returns the last outputs.\n",
        "model.summary()"
      ],
      "execution_count": null,
      "outputs": [
        {
          "output_type": "stream",
          "name": "stdout",
          "text": [
            "Model: \"sequential_8\"\n",
            "_________________________________________________________________\n",
            " Layer (type)                Output Shape              Param #   \n",
            "=================================================================\n",
            " embedding_8 (Embedding)     (None, None, 32)          320000    \n",
            "                                                                 \n",
            " simple_rnn_14 (SimpleRNN)   (None, None, 100)         13300     \n",
            "                                                                 \n",
            " simple_rnn_15 (SimpleRNN)   (None, None, 100)         20100     \n",
            "                                                                 \n",
            " simple_rnn_16 (SimpleRNN)   (None, None, 50)          7550      \n",
            "                                                                 \n",
            " simple_rnn_17 (SimpleRNN)   (None, 50)                5050      \n",
            "                                                                 \n",
            "=================================================================\n",
            "Total params: 366,000\n",
            "Trainable params: 366,000\n",
            "Non-trainable params: 0\n",
            "_________________________________________________________________\n"
          ]
        }
      ]
    },
    {
      "cell_type": "markdown",
      "metadata": {
        "id": "V1ewX6e0eoqb"
      },
      "source": [
        "Now let's try to use such a model on the IMDB movie review classification problem. First, let's preprocess the data:"
      ]
    },
    {
      "cell_type": "code",
      "metadata": {
        "colab": {
          "base_uri": "https://localhost:8080/"
        },
        "id": "AobIAO0reoqd",
        "outputId": "f8b62038-c9cd-4389-f690-3f2b82a90f32"
      },
      "source": [
        "from keras.datasets import imdb\n",
        "from keras.utils import pad_sequences\n",
        "\n",
        "max_features = 10000  # number of words to consider as features\n",
        "maxlen = 100  # cut texts after this number of words (among top max_features most common words)\n",
        "batch_size = 50\n",
        "\n",
        "print('Loading data...')\n",
        "(input_train, y_train), (input_test, y_test) = imdb.load_data(num_words=max_features)\n",
        "print(len(input_train), 'train sequences')\n",
        "print(len(input_test), 'test sequences')\n",
        "\n",
        "print('Pad sequences (samples x time)')\n",
        "input_train = pad_sequences(input_train, maxlen=maxlen)\n",
        "input_test = pad_sequences(input_test, maxlen=maxlen)\n",
        "print('input_train shape:', input_train.shape)\n",
        "print('input_test shape:', input_test.shape)"
      ],
      "execution_count": null,
      "outputs": [
        {
          "output_type": "stream",
          "name": "stdout",
          "text": [
            "Loading data...\n",
            "25000 train sequences\n",
            "25000 test sequences\n",
            "Pad sequences (samples x time)\n",
            "input_train shape: (25000, 100)\n",
            "input_test shape: (25000, 100)\n"
          ]
        }
      ]
    },
    {
      "cell_type": "code",
      "metadata": {
        "colab": {
          "base_uri": "https://localhost:8080/"
        },
        "id": "iGNx87NreXFd",
        "outputId": "89a41d07-3c0d-4e75-db72-a19450076901"
      },
      "source": [
        "input_train[322]"
      ],
      "execution_count": null,
      "outputs": [
        {
          "output_type": "execute_result",
          "data": {
            "text/plain": [
              "array([  86,   95, 5996,  254,    8,  106, 1841,    4,  130,   13, 1695,\n",
              "        397, 4735,   54,    4, 2325, 5339,   19, 5632,  986,    2, 2371,\n",
              "         83,    4,  936,    2,  121,  263,   62,   30, 1886, 1902, 1153,\n",
              "          5, 5531,    2,   19, 9038,   10,   10,    4,  114,    6,  255,\n",
              "        209, 1804,   11,  558,  778, 5611,    4, 6367,    7, 2890,    4,\n",
              "          2,    5,    9,    2,    5, 3072,   44,    4, 7021,    6, 2325,\n",
              "          9, 1412,  730,   39,    4,    2,    8, 3928,    4,  420,    9,\n",
              "       5413, 4031,   34, 4168,   42,    6,    2,   18, 1954, 2890,   10,\n",
              "         10,    4,   64, 4631,   11,   14,   22,    9,   15,   12,  417,\n",
              "        630], dtype=int32)"
            ]
          },
          "metadata": {},
          "execution_count": 20
        }
      ]
    },
    {
      "cell_type": "markdown",
      "metadata": {
        "id": "qei9zxH_eoqg"
      },
      "source": [
        "Let's train a simple recurrent network using an `Embedding` layer and a `SimpleRNN` layer:"
      ]
    },
    {
      "cell_type": "code",
      "metadata": {
        "colab": {
          "base_uri": "https://localhost:8080/"
        },
        "id": "UzwJ466Qeoqh",
        "outputId": "7b142e7c-95fc-400a-96e7-5700d67dba5f"
      },
      "source": [
        "from keras.layers import Dense\n",
        "\n",
        "model = Sequential()\n",
        "model.add(Embedding(max_features, 32, input_length=maxlen)) #max_features = max_words you kept (10k), 32d embedding, keep first 100 words\n",
        "model.add(SimpleRNN(64)) # this layer 'spins' 100 times and has 64 red dots\n",
        "model.add(Dense(1, activation='sigmoid'))\n",
        "model.summary()\n",
        "\n",
        "model.compile(optimizer='rmsprop', loss='binary_crossentropy', metrics=['acc'])\n",
        "history = model.fit(input_train, y_train,\n",
        "                    epochs=10,\n",
        "                    batch_size=128,\n",
        "                    validation_split=0.2)"
      ],
      "execution_count": null,
      "outputs": [
        {
          "output_type": "stream",
          "name": "stdout",
          "text": [
            "Model: \"sequential_9\"\n",
            "_________________________________________________________________\n",
            " Layer (type)                Output Shape              Param #   \n",
            "=================================================================\n",
            " embedding_9 (Embedding)     (None, 100, 32)           320000    \n",
            "                                                                 \n",
            " simple_rnn_18 (SimpleRNN)   (None, 64)                6208      \n",
            "                                                                 \n",
            " dense (Dense)               (None, 1)                 65        \n",
            "                                                                 \n",
            "=================================================================\n",
            "Total params: 326,273\n",
            "Trainable params: 326,273\n",
            "Non-trainable params: 0\n",
            "_________________________________________________________________\n",
            "Epoch 1/10\n",
            "157/157 [==============================] - 9s 48ms/step - loss: 0.5967 - acc: 0.6622 - val_loss: 0.4534 - val_acc: 0.7900\n",
            "Epoch 2/10\n",
            "157/157 [==============================] - 9s 57ms/step - loss: 0.3729 - acc: 0.8450 - val_loss: 0.4309 - val_acc: 0.8230\n",
            "Epoch 3/10\n",
            "157/157 [==============================] - 8s 51ms/step - loss: 0.2883 - acc: 0.8827 - val_loss: 0.4084 - val_acc: 0.8198\n",
            "Epoch 4/10\n",
            "157/157 [==============================] - 8s 52ms/step - loss: 0.2138 - acc: 0.9179 - val_loss: 0.4673 - val_acc: 0.7880\n",
            "Epoch 5/10\n",
            "157/157 [==============================] - 8s 52ms/step - loss: 0.1484 - acc: 0.9434 - val_loss: 0.5167 - val_acc: 0.7974\n",
            "Epoch 6/10\n",
            "157/157 [==============================] - 8s 49ms/step - loss: 0.0907 - acc: 0.9690 - val_loss: 0.5988 - val_acc: 0.7996\n",
            "Epoch 7/10\n",
            "157/157 [==============================] - 9s 55ms/step - loss: 0.0550 - acc: 0.9829 - val_loss: 0.7357 - val_acc: 0.7600\n",
            "Epoch 8/10\n",
            "157/157 [==============================] - 8s 50ms/step - loss: 0.0341 - acc: 0.9902 - val_loss: 0.7664 - val_acc: 0.7710\n",
            "Epoch 9/10\n",
            "157/157 [==============================] - 7s 47ms/step - loss: 0.0232 - acc: 0.9926 - val_loss: 0.7431 - val_acc: 0.8032\n",
            "Epoch 10/10\n",
            "157/157 [==============================] - 7s 47ms/step - loss: 0.0163 - acc: 0.9952 - val_loss: 0.8169 - val_acc: 0.7992\n"
          ]
        }
      ]
    },
    {
      "cell_type": "markdown",
      "metadata": {
        "id": "wJx42PlVeoql"
      },
      "source": [
        "Let's display the training and validation loss and accuracy:"
      ]
    },
    {
      "cell_type": "code",
      "metadata": {
        "colab": {
          "base_uri": "https://localhost:8080/",
          "height": 545
        },
        "id": "ZWcCTMnpeoqm",
        "outputId": "23e04474-c5da-463e-f59c-f19a4eb36b2d"
      },
      "source": [
        "import matplotlib.pyplot as plt\n",
        "\n",
        "acc = history.history['acc']\n",
        "val_acc = history.history['val_acc']\n",
        "loss = history.history['loss']\n",
        "val_loss = history.history['val_loss']\n",
        "\n",
        "epochs = range(len(acc))\n",
        "\n",
        "plt.plot(epochs, acc, 'bo', label='Training acc')\n",
        "plt.plot(epochs, val_acc, 'b', label='Validation acc')\n",
        "plt.title('Training and validation accuracy')\n",
        "plt.legend()\n",
        "\n",
        "plt.figure()\n",
        "\n",
        "plt.plot(epochs, loss, 'bo', label='Training loss')\n",
        "plt.plot(epochs, val_loss, 'b', label='Validation loss')\n",
        "plt.title('Training and validation loss')\n",
        "plt.legend()\n",
        "\n",
        "plt.show()"
      ],
      "execution_count": null,
      "outputs": [
        {
          "output_type": "display_data",
          "data": {
            "text/plain": [
              "<Figure size 432x288 with 1 Axes>"
            ],
            "image/png": "[encoded data removed]"
          },
          "metadata": {
            "needs_background": "light"
          }
        },
        {
          "output_type": "display_data",
          "data": {
            "text/plain": [
              "<Figure size 432x288 with 1 Axes>"
            ],
            "image/png": "[encoded data removed]"
          },
          "metadata": {
            "needs_background": "light"
          }
        }
      ]
    },
    {
      "cell_type": "markdown",
      "metadata": {
        "id": "KrPc7IkReoqt"
      },
      "source": [
        "As a reminder, in chapter 3, our very first naive approach to this very dataset got us to 88% test accuracy. Unfortunately, our small\n",
        "recurrent network doesn't perform very well at all compared to this baseline (only up to 85% validation accuracy). Part of the problem is\n",
        "that our inputs only consider the first 500 words rather the full sequences --\n",
        "hence our RNN has access to less information than our earlier baseline model. The remainder of the problem is simply that `SimpleRNN` isn't very good at processing long sequences, like text. Other types of recurrent layers perform much better. Let's take a look at some\n",
        "more advanced layers."
      ]
    },
    {
      "cell_type": "markdown",
      "metadata": {
        "id": "AJhJfS_geoqu"
      },
      "source": [
        "[...]\n",
        "\n",
        "## A concrete LSTM example in Keras\n",
        "\n",
        "Now let's switch to more practical concerns: we will set up a model using a LSTM layer and train it on the IMDB data. Here's the network,\n",
        "similar to the one with `SimpleRNN` that we just presented. We only specify the output dimensionality of the LSTM layer, and leave every\n",
        "other argument (there are lots) to the Keras defaults. Keras has good defaults, and things will almost always \"just work\" without you\n",
        "having to spend time tuning parameters by hand."
      ]
    },
    {
      "cell_type": "code",
      "metadata": {
        "colab": {
          "base_uri": "https://localhost:8080/"
        },
        "id": "UhnYR9dSeoqv",
        "outputId": "fbb63e3e-98d3-4123-facf-c98ae6162e77"
      },
      "source": [
        "from keras.layers import LSTM, Dropout, GRU\n",
        "\n",
        "model = Sequential()\n",
        "model.add(Embedding(max_features, 128, input_length=maxlen)) #10k common words, 128d, 100 words\n",
        "model.add(LSTM(64, return_sequences=True, activation='relu', recurrent_dropout=0.2)) #100 rows (words), 64 columns (dimensions)\n",
        "model.add(GRU(32, activation='relu', recurrent_dropout=0.2)) # 1 row with 32 columns (dense vector for prediction)\n",
        "model.add(Dropout(0.2))\n",
        "model.add(Dense(1, activation='sigmoid'))\n",
        "model.summary()\n",
        "\n",
        "model.compile(optimizer='rmsprop',\n",
        "              loss='binary_crossentropy',\n",
        "              metrics=['acc'])\n",
        "\n",
        "history = model.fit(input_train, y_train,\n",
        "                    epochs=10,\n",
        "                    batch_size=128,\n",
        "                    validation_split=0.2)"
      ],
      "execution_count": null,
      "outputs": [
        {
          "output_type": "stream",
          "name": "stdout",
          "text": [
            "Model: \"sequential_10\"\n",
            "_________________________________________________________________\n",
            " Layer (type)                Output Shape              Param #   \n",
            "=================================================================\n",
            " embedding_10 (Embedding)    (None, 100, 128)          1280000   \n",
            "                                                                 \n",
            " lstm (LSTM)                 (None, 100, 64)           49408     \n",
            "                                                                 \n",
            " gru (GRU)                   (None, 32)                9408      \n",
            "                                                                 \n",
            " dropout (Dropout)           (None, 32)                0         \n",
            "                                                                 \n",
            " dense_1 (Dense)             (None, 1)                 33        \n",
            "                                                                 \n",
            "=================================================================\n",
            "Total params: 1,338,849\n",
            "Trainable params: 1,338,849\n",
            "Non-trainable params: 0\n",
            "_________________________________________________________________\n",
            "Epoch 1/10\n",
            "157/157 [==============================] - 72s 427ms/step - loss: 18131244.0000 - acc: 0.6887 - val_loss: 0.4963 - val_acc: 0.7692\n",
            "Epoch 2/10\n",
            "157/157 [==============================] - 62s 397ms/step - loss: 0.4147 - acc: 0.8249 - val_loss: 0.3940 - val_acc: 0.8212\n",
            "Epoch 3/10\n",
            "157/157 [==============================] - 64s 406ms/step - loss: 0.3435 - acc: 0.8697 - val_loss: 0.4584 - val_acc: 0.7858\n",
            "Epoch 4/10\n",
            "157/157 [==============================] - 61s 390ms/step - loss: 157.5847 - acc: 0.8892 - val_loss: 12.2741 - val_acc: 0.8338\n",
            "Epoch 5/10\n",
            "157/157 [==============================] - 62s 392ms/step - loss: 0.3200 - acc: 0.9112 - val_loss: 0.3513 - val_acc: 0.8488\n",
            "Epoch 6/10\n",
            "157/157 [==============================] - 64s 410ms/step - loss: 227.1826 - acc: 0.9207 - val_loss: 12556.5244 - val_acc: 0.8490\n",
            "Epoch 7/10\n",
            "157/157 [==============================] - 63s 404ms/step - loss: 2.4611 - acc: 0.9237 - val_loss: 0.3853 - val_acc: 0.8468\n",
            "Epoch 8/10\n",
            "157/157 [==============================] - 64s 407ms/step - loss: 0.1751 - acc: 0.9354 - val_loss: 0.3704 - val_acc: 0.8468\n",
            "Epoch 9/10\n",
            "157/157 [==============================] - 65s 414ms/step - loss: 50.3320 - acc: 0.9311 - val_loss: 0.4417 - val_acc: 0.8402\n",
            "Epoch 10/10\n",
            "157/157 [==============================] - 65s 417ms/step - loss: 0.4199 - acc: 0.9435 - val_loss: 158.9772 - val_acc: 0.8380\n"
          ]
        }
      ]
    },
    {
      "cell_type": "code",
      "metadata": {
        "colab": {
          "base_uri": "https://localhost:8080/",
          "height": 545
        },
        "id": "FoE-sgL9eoqy",
        "outputId": "cefdc073-e734-4600-b9de-f8614e51b745"
      },
      "source": [
        "acc = history.history['acc']\n",
        "val_acc = history.history['val_acc']\n",
        "loss = history.history['loss']\n",
        "val_loss = history.history['val_loss']\n",
        "\n",
        "epochs = range(len(acc))\n",
        "\n",
        "plt.plot(epochs, acc, 'bo', label='Training acc')\n",
        "plt.plot(epochs, val_acc, 'b', label='Validation acc')\n",
        "plt.title('Training and validation accuracy')\n",
        "plt.legend()\n",
        "\n",
        "plt.figure()\n",
        "\n",
        "plt.plot(epochs, loss, 'bo', label='Training loss')\n",
        "plt.plot(epochs, val_loss, 'b', label='Validation loss')\n",
        "plt.title('Training and validation loss')\n",
        "plt.legend()\n",
        "\n",
        "plt.show()"
      ],
      "execution_count": null,
      "outputs": [
        {
          "output_type": "display_data",
          "data": {
            "text/plain": [
              "<Figure size 432x288 with 1 Axes>"
            ],
            "image/png": "[encoded data removed]"
          },
          "metadata": {
            "needs_background": "light"
          }
        },
        {
          "output_type": "display_data",
          "data": {
            "text/plain": [
              "<Figure size 432x288 with 1 Axes>"
            ],
            "image/png": "[encoded data removed]"
          },
          "metadata": {
            "needs_background": "light"
          }
        }
      ]
    },
    {
      "cell_type": "markdown",
      "metadata": {
        "id": "G-pFjzRWjxYD"
      },
      "source": [
        "# Monster!\n",
        "Bidirectional layers, convolution, pooling, stacking, recurrent dropout."
      ]
    },
    {
      "cell_type": "code",
      "metadata": {
        "colab": {
          "base_uri": "https://localhost:8080/"
        },
        "id": "c2xJom11j1rs",
        "outputId": "058931dd-5d24-4748-edb4-601087ada0e4"
      },
      "source": [
        "from keras.layers import Conv1D, MaxPooling1D, Bidirectional, GRU\n",
        "# define model\n",
        "model = Sequential()\n",
        "model.add(Embedding(max_features, 128, input_length=maxlen))\n",
        "model.add(Conv1D(filters=64, kernel_size=3))\n",
        "model.add(MaxPooling1D(2))\n",
        "model.add(Bidirectional(LSTM(30,\n",
        "                            return_sequences=True, # remember, if stacking layers, you need to return sequences!\n",
        "                            activation='relu',\n",
        "                            recurrent_dropout=0.2)))\n",
        "model.add(GRU(20, activation='relu'))\n",
        "model.add(Dropout(0.1))\n",
        "model.add(Dense(1, activation='sigmoid'))\n",
        "model.summary()"
      ],
      "execution_count": null,
      "outputs": [
        {
          "output_type": "stream",
          "name": "stdout",
          "text": [
            "Model: \"sequential_12\"\n",
            "_________________________________________________________________\n",
            " Layer (type)                Output Shape              Param #   \n",
            "=================================================================\n",
            " embedding_12 (Embedding)    (None, 100, 128)          1280000   \n",
            "                                                                 \n",
            " conv1d_1 (Conv1D)           (None, 98, 64)            24640     \n",
            "                                                                 \n",
            " max_pooling1d_1 (MaxPooling  (None, 49, 64)           0         \n",
            " 1D)                                                             \n",
            "                                                                 \n",
            " bidirectional_1 (Bidirectio  (None, 49, 60)           22800     \n",
            " nal)                                                            \n",
            "                                                                 \n",
            " gru_2 (GRU)                 (None, 20)                4920      \n",
            "                                                                 \n",
            " dropout_2 (Dropout)         (None, 20)                0         \n",
            "                                                                 \n",
            " dense_3 (Dense)             (None, 1)                 21        \n",
            "                                                                 \n",
            "=================================================================\n",
            "Total params: 1,332,381\n",
            "Trainable params: 1,332,381\n",
            "Non-trainable params: 0\n",
            "_________________________________________________________________\n"
          ]
        }
      ]
    },
    {
      "cell_type": "code",
      "metadata": {
        "colab": {
          "base_uri": "https://localhost:8080/"
        },
        "id": "FJISX8t1ko0Z",
        "outputId": "a46e182c-47fd-46b1-9e65-ad05b4ecefe8"
      },
      "source": [
        "model.compile(optimizer='rmsprop',\n",
        "              loss='binary_crossentropy',\n",
        "              metrics=['acc'])\n",
        "\n",
        "history = model.fit(input_train, y_train,\n",
        "                    epochs=10,\n",
        "                    batch_size=128,\n",
        "                    validation_split=0.2)"
      ],
      "execution_count": null,
      "outputs": [
        {
          "output_type": "stream",
          "name": "stdout",
          "text": [
            "Epoch 1/10\n",
            "157/157 [==============================] - 44s 233ms/step - loss: 0.5607 - acc: 0.7365 - val_loss: 0.3772 - val_acc: 0.8326\n",
            "Epoch 2/10\n",
            "157/157 [==============================] - 36s 228ms/step - loss: 0.3449 - acc: 0.8641 - val_loss: 0.3376 - val_acc: 0.8496\n",
            "Epoch 3/10\n",
            "157/157 [==============================] - 37s 235ms/step - loss: 0.3286 - acc: 0.9008 - val_loss: 0.3267 - val_acc: 0.8544\n",
            "Epoch 4/10\n",
            "157/157 [==============================] - 36s 227ms/step - loss: 0.2008 - acc: 0.9281 - val_loss: 0.4218 - val_acc: 0.8316\n",
            "Epoch 5/10\n",
            "157/157 [==============================] - 36s 228ms/step - loss: 0.1387 - acc: 0.9496 - val_loss: 0.3832 - val_acc: 0.8576\n",
            "Epoch 6/10\n",
            "157/157 [==============================] - 36s 227ms/step - loss: 0.0877 - acc: 0.9733 - val_loss: 0.6644 - val_acc: 0.8448\n",
            "Epoch 7/10\n",
            "157/157 [==============================] - 36s 227ms/step - loss: 0.0650 - acc: 0.9835 - val_loss: 0.5965 - val_acc: 0.8442\n",
            "Epoch 8/10\n",
            "157/157 [==============================] - 37s 236ms/step - loss: 0.0447 - acc: 0.9887 - val_loss: 1.7332 - val_acc: 0.8374\n",
            "Epoch 9/10\n",
            "157/157 [==============================] - 38s 240ms/step - loss: 0.0438 - acc: 0.9911 - val_loss: 1.0106 - val_acc: 0.8402\n",
            "Epoch 10/10\n",
            "157/157 [==============================] - 38s 240ms/step - loss: 0.0644 - acc: 0.9955 - val_loss: 1.0384 - val_acc: 0.8232\n"
          ]
        }
      ]
    }
  ]
}