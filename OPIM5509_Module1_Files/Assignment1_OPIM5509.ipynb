{
  "nbformat": 4,
  "nbformat_minor": 0,
  "metadata": {
    "colab": {
      "provenance": []
    },
    "kernelspec": {
      "name": "python3",
      "display_name": "Python 3"
    },
    "language_info": {
      "name": "python"
    }
  },
  "cells": [
    {
      "cell_type": "markdown",
      "source": [
        "[![Open In Colab](https://colab.research.google.com/assets/colab-badge.svg)](https://colab.research.google.com/github/drdave-teaching/OPIM5509Files/blob/main/OPIM5509_Module1_Files/Assignment1_OPIM5509.ipynb)"
      ],
      "metadata": {
        "id": "CKs4r8ovyoos"
      }
    },
    {
      "cell_type": "markdown",
      "source": [
        "# Individual Assignment 1: ML Modeling Refresh\n",
        "\n",
        "\n",
        "**OPIM 5509: Introduction to Deep Learning - University of Connecticut**\n",
        "\n",
        "* Full Name:\n",
        "* Student ID (7 digit number): 1234567\n",
        "\n",
        "---------------------------------------------------------------------------\n",
        "\n",
        "Each student must complete and submit their own file, but you may work with your group for help. I do not want to see direct copy and pasted code otherwise you will get a zero. This is a dataset on annual earnings (y) as a function of geographic and economic predictors.\n",
        "\n",
        "**10 points each. 100 points**\n",
        "\n",
        "  Use the file below to complete the following data wrangling and regression modeling. Good luck!\n"
      ],
      "metadata": {
        "id": "TOYn0ipdS4TE"
      }
    },
    {
      "cell_type": "markdown",
      "source": [
        "# Read the data"
      ],
      "metadata": {
        "id": "5XvOHzlcuWZZ"
      }
    },
    {
      "cell_type": "markdown",
      "source": [
        "For some reason, gdown has recently been giving me issues - so here you can download and drag the file into your runtime."
      ],
      "metadata": {
        "id": "tYAYXqI8Bitg"
      }
    },
    {
      "cell_type": "markdown",
      "source": [
        "Here is the link for:\n",
        "\n",
        "* X_S24.csv = https://raw.githubusercontent.com/drdave-teaching/OPIM5509Files/refs/heads/main/OPIM5509_Module1_Files/X_S24.csv\n",
        "* y_S24.csv = https://raw.githubusercontent.com/drdave-teaching/OPIM5509Files/refs/heads/main/OPIM5509_Module1_Files/y_S24.csv"
      ],
      "metadata": {
        "id": "URgZ6hPaBG1h"
      }
    },
    {
      "cell_type": "code",
      "source": [
        "# * X_S24.csv = https://drive.google.com/file/d/1Ha_QP2fTllWgG5Vj1SLyRCWBjnzgwzrv/view?usp=sharing\n",
        "# * y_S24.csv = https://drive.google.com/file/d/1v2tx3yjJEZ0vLR3zx5N3BGufQmn--z21/view?usp=sharing"
      ],
      "metadata": {
        "id": "El1WMqssaeGU"
      },
      "execution_count": null,
      "outputs": []
    },
    {
      "cell_type": "markdown",
      "source": [
        "# Q1. Explore the dataset\n",
        "Get to know this new dataset! How many rows and columns are there? What are the data types of the columns in X (string vs numeric)? Are there any missing values?"
      ],
      "metadata": {
        "id": "6K8uV9wKn8ca"
      }
    },
    {
      "cell_type": "code",
      "source": [],
      "metadata": {
        "id": "JUGHDdg9u8ES"
      },
      "execution_count": null,
      "outputs": []
    },
    {
      "cell_type": "markdown",
      "source": [
        "# Q2. Split into X_train, X_test, y_train, y_test.\n",
        "Before we do any cleaning, let's split the data so that we can use fit_transform() on train and transform() on test. Use an 80/20 split, shuffle the data, and random state equal to **YOUR STUDENT ID**. Print the shape of X_train, X_test, y_train, y_test and make sure it makes sense to you."
      ],
      "metadata": {
        "id": "g27FvyhMIJOT"
      }
    },
    {
      "cell_type": "code",
      "source": [],
      "metadata": {
        "id": "j08qfncs2T38"
      },
      "execution_count": null,
      "outputs": []
    },
    {
      "cell_type": "markdown",
      "source": [
        "# Q3. Clean up the dataset.\n",
        "Use your judgement on if any rows should be deleted - there are missing values in every column in X that need to get replaced!\n",
        "\n",
        "Right now X and y are in different files, so be careful if you are dropping rows."
      ],
      "metadata": {
        "id": "X-TV0JdTwI01"
      }
    },
    {
      "cell_type": "code",
      "source": [],
      "metadata": {
        "id": "T41i7UoMxA_Y"
      },
      "execution_count": null,
      "outputs": []
    },
    {
      "cell_type": "markdown",
      "source": [
        "# Q4. Make three EDA plots and three EDA tables using X_train and y_train"
      ],
      "metadata": {
        "id": "wumlkvwGvImN"
      }
    },
    {
      "cell_type": "code",
      "source": [],
      "metadata": {
        "id": "JoIlhAB3vXE4"
      },
      "execution_count": null,
      "outputs": []
    },
    {
      "cell_type": "markdown",
      "source": [
        "# Q5. Subset columns for X\n",
        "Use every column in `X` except 'State Score' to build your model.\n",
        "\n",
        "  **Useful link for subsetting rows and columns:** https://www.kdnuggets.com/2019/06/select-rows-columns-pandas.html"
      ],
      "metadata": {
        "id": "jFMn3NeHICax"
      }
    },
    {
      "cell_type": "code",
      "source": [],
      "metadata": {
        "id": "UOgvhXpg3Ozf"
      },
      "execution_count": null,
      "outputs": []
    },
    {
      "cell_type": "markdown",
      "source": [
        "# Q6. Use fit_transform() from StandardScaler() on X_train. Use transform() to apply that StandardScaler() to X_test.\n"
      ],
      "metadata": {
        "id": "xOYA2feHIN0S"
      }
    },
    {
      "cell_type": "code",
      "source": [],
      "metadata": {
        "id": "qrWi6d_b2Vtj"
      },
      "execution_count": null,
      "outputs": []
    },
    {
      "cell_type": "markdown",
      "source": [
        "# Q7. Fit a random forest regressor (or any other sklearn) model on X_train. Call your model object `clf`.\n",
        "\n",
        "Then create two new variables, `train_preds` and `test_preds`, which are the predictions from your model. For example, you will use `train_preds = clf.predict(X_train)` for `X_train` . Calculate error metrics of MAE and R2 for train and test results."
      ],
      "metadata": {
        "id": "5AjH_v4RITGY"
      }
    },
    {
      "cell_type": "code",
      "source": [],
      "metadata": {
        "id": "S-Sl1Wt_2kEh"
      },
      "execution_count": null,
      "outputs": []
    },
    {
      "cell_type": "markdown",
      "source": [
        "# Q8. Make two scatterplots of actual vs. predicted. One for train results, one for test results.\n",
        "With nicely labeled title and axis (like we did in class)."
      ],
      "metadata": {
        "id": "vo-Foyn9IgTy"
      }
    },
    {
      "cell_type": "code",
      "source": [],
      "metadata": {
        "id": "QtuJ0YlP2k2n"
      },
      "execution_count": null,
      "outputs": []
    },
    {
      "cell_type": "markdown",
      "source": [
        "# Q9. Try a simple model - does it work?\n",
        "\n",
        "Examine variable importance and build a simpler model (you can use tree importance from random forest or permutation importance.) You are building a model with less features, so it should be as good or slightly less better than your current model.\n",
        "\n",
        "* https://scikit-learn.org/stable/modules/permutation_importance.html\n",
        "* https://scikit-learn.org/stable/auto_examples/ensemble/plot_forest_importances.html\n",
        "\n",
        "Calculate error metrics and make one scatterplot of actual vs. predicted results for this new holdout sample.\n",
        "\n",
        "Were you able to get similar results?"
      ],
      "metadata": {
        "id": "zJSEY34KJ6Rz"
      }
    },
    {
      "cell_type": "code",
      "source": [],
      "metadata": {
        "id": "1v4lTimX3s6R"
      },
      "execution_count": null,
      "outputs": []
    },
    {
      "cell_type": "markdown",
      "source": [
        "# Q10. Five good bullets\n",
        "Write five good bullets about what you learned in this assignment. Make sure comments on the shape of the data and the results of your experiments. Be quantitative and tell a story of what you saw!"
      ],
      "metadata": {
        "id": "-DfOyiKCKnRk"
      }
    },
    {
      "cell_type": "code",
      "source": [],
      "metadata": {
        "id": "YPMNZbXmKX60"
      },
      "execution_count": null,
      "outputs": []
    }
  ]
}