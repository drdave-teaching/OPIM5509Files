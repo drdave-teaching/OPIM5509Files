{
  "nbformat": 4,
  "nbformat_minor": 0,
  "metadata": {
    "colab": {
      "provenance": []
    },
    "kernelspec": {
      "name": "python3",
      "display_name": "Python 3"
    }
  },
  "cells": [
    {
      "cell_type": "markdown",
      "source": [
        "[![Open In Colab](https://colab.research.google.com/assets/colab-badge.svg)](https://colab.research.google.com/github/drdave-teaching/OPIM5509Files/blob/main/OPIM5509_Module3_Files/Simple_Size_and_Param.ipynb)"
      ],
      "metadata": {
        "id": "Sz9FLr8rYAhX"
      }
    },
    {
      "cell_type": "markdown",
      "metadata": {
        "id": "m9Q_E7rSkXFt"
      },
      "source": [
        "# Size and Trainable Parms\n",
        "**Dr. Dave Wanik - University of Connecticut**\n",
        "\n",
        "Given the code, you should be able to replicate the model summary by hand and calculate the output size and trainable parameters.) Corresponds to the PowerPoint \"Math for Simple ConvNet Example\"\n",
        "\n"
      ]
    },
    {
      "cell_type": "code",
      "metadata": {
        "id": "liZeS_gZ1NpV",
        "colab": {
          "base_uri": "https://localhost:8080/",
          "height": 398
        },
        "outputId": "8fa9fe8e-75fd-49b3-9ef4-4aac6194614c"
      },
      "source": [
        "from tensorflow.keras import layers\n",
        "from tensorflow.keras import models\n",
        "model = models.Sequential()\n",
        "\n",
        "# CONV2D_1 - first convolutional 2D layer\n",
        "# notes: light downsampling, we get specify the kernel size, and number of feature maps\n",
        "# the input image stats are given (rows, columns, channels)\n",
        "# stride is always 1 in our Convolutional Neural Networks\n",
        "# because stride is 1, there's a ton of overlap... which means our\n",
        "# outputted feature maps are usually CLOSE but smaller, than their inputs\n",
        "model.add(layers.Conv2D(3, # number of feature maps we generatre\n",
        "                        (5, 5), # filter/kernel/window size = m,n\n",
        "                        activation='relu', # activation function\n",
        "                        input_shape=(28, 28, 1))) #(rows,columns,channels)\n",
        "                              #channels=1 means BW, channels = 3 means RGB (Red, Green, Blue color)\n",
        "                              #what happens to param# if channels=3!\n",
        "\n",
        "# MAXPOOL2D_1 - first max pooling layer\n",
        "# notes: aggressive downlamping, and we just need to specify kernel size (m,n)\n",
        "# it's ALWAYS a SQUARE SHAPE (like 2,2 or 5,5... it's given the code/up to you)\n",
        "# stride is ALWAYS equal to M (same as kernel size in that layer, like 2,2 or 5,5...)\n",
        "# because stride is equal to M, there is NO OVERLAP!!! This is why it's aggressive downsampling\n",
        "model.add(layers.MaxPooling2D((2, 2)))\n",
        "\n",
        "# CONV2D_2: second convolutional layer\n",
        "model.add(layers.Conv2D(3, (3, 3), activation='relu')) # S0 - (M-1)\n",
        "\n",
        "# MAXPOOL2D_2\n",
        "model.add(layers.MaxPooling2D((2, 2)))\n",
        "\n",
        "# FLATTEN: go from arrays from pooling layer to a [1,n] row\n",
        "# this makes look like the first row in a dataframe .csv\n",
        "# the first training row...\n",
        "model.add(layers.Flatten())\n",
        "\n",
        "# DENSE_1: this is a hidden layer\n",
        "model.add(layers.Dense(256, activation='relu'))\n",
        "\n",
        "# DENSE_2: this is the output node...\n",
        "# if it's a regression problem, it will have a 'linear' activiation function and 1 unit\n",
        "# if it's a multi-class or binary classification problem, you may have 2 or more nodes...\n",
        "# and it will use a 'softmax' activiation\n",
        "model.add(layers.Dense(2, activation='softmax'))\n",
        "\n",
        "model.summary()\n",
        "\n",
        "# play with the feature maps or filter size!"
      ],
      "execution_count": null,
      "outputs": [
        {
          "output_type": "stream",
          "text": [
            "Model: \"sequential\"\n",
            "_________________________________________________________________\n",
            "Layer (type)                 Output Shape              Param #   \n",
            "=================================================================\n",
            "conv2d (Conv2D)              (None, 24, 24, 3)         78        \n",
            "_________________________________________________________________\n",
            "max_pooling2d (MaxPooling2D) (None, 12, 12, 3)         0         \n",
            "_________________________________________________________________\n",
            "conv2d_1 (Conv2D)            (None, 10, 10, 3)         84        \n",
            "_________________________________________________________________\n",
            "max_pooling2d_1 (MaxPooling2 (None, 5, 5, 3)           0         \n",
            "_________________________________________________________________\n",
            "flatten (Flatten)            (None, 75)                0         \n",
            "_________________________________________________________________\n",
            "dense (Dense)                (None, 256)               19456     \n",
            "_________________________________________________________________\n",
            "dense_1 (Dense)              (None, 2)                 514       \n",
            "=================================================================\n",
            "Total params: 20,132\n",
            "Trainable params: 20,132\n",
            "Non-trainable params: 0\n",
            "_________________________________________________________________\n"
          ],
          "name": "stdout"
        }
      ]
    },
    {
      "cell_type": "markdown",
      "source": [
        "# Updated with some different numbers"
      ],
      "metadata": {
        "id": "j2jqJDs1bTvp"
      }
    },
    {
      "cell_type": "code",
      "source": [
        "from tensorflow.keras import layers\n",
        "from tensorflow.keras import models\n",
        "model = models.Sequential()\n",
        "\n",
        "# CONV2D_1 - first convolutional 2D layer\n",
        "# notes: light downsampling, we get specify the kernel size, and number of feature maps\n",
        "# the input image stats are given (rows, columns, channels)\n",
        "# stride is always 1 in our Convolutional Neural Networks\n",
        "# because stride is 1, there's a ton of overlap... which means our\n",
        "# outputted feature maps are usually CLOSE but smaller, than their inputs\n",
        "model.add(layers.Conv2D(29, # number of feature maps we generatre\n",
        "                        (5, 5), # filter/kernel/window size = m,n\n",
        "                        activation='relu', # activation function\n",
        "                        input_shape=(28, 28, 1))) #(rows,columns,channels)\n",
        "                              #channels=1 means BW, channels = 3 means RGB (Red, Green, Blue color)\n",
        "                              #what happens to param# if channels=3!\n",
        "\n",
        "# MAXPOOL2D_1 - first max pooling layer\n",
        "# notes: aggressive downlamping, and we just need to specify kernel size (m,n)\n",
        "# it's ALWAYS a SQUARE SHAPE (like 2,2 or 5,5... it's given the code/up to you)\n",
        "# stride is ALWAYS equal to M (same as kernel size in that layer, like 2,2 or 5,5...)\n",
        "# because stride is equal to M, there is NO OVERLAP!!! This is why it's aggressive downsampling\n",
        "model.add(layers.MaxPooling2D((2, 2)))\n",
        "\n",
        "# CONV2D_2: second convolutional layer\n",
        "model.add(layers.Conv2D(87, (3, 3), activation='relu')) # S0 - (M-1)\n",
        "\n",
        "# MAXPOOL2D_2\n",
        "model.add(layers.MaxPooling2D((2, 2)))\n",
        "\n",
        "# FLATTEN: go from arrays from pooling layer to a [1,n] row\n",
        "# this makes look like the first row in a dataframe .csv\n",
        "# the first training row...\n",
        "model.add(layers.Flatten())\n",
        "\n",
        "# DENSE_1: this is a hidden layer\n",
        "model.add(layers.Dense(256, activation='relu'))\n",
        "\n",
        "# DENSE_2: this is the output node...\n",
        "# if it's a regression problem, it will have a 'linear' activiation function and 1 unit\n",
        "# if it's a multi-class or binary classification problem, you may have 2 or more nodes...\n",
        "# and it will use a 'softmax' activiation\n",
        "model.add(layers.Dense(2, activation='softmax'))\n",
        "\n",
        "model.summary()\n",
        "\n",
        "# play with the feature maps or filter size!"
      ],
      "metadata": {
        "colab": {
          "base_uri": "https://localhost:8080/"
        },
        "id": "sCiavZa_bW3E",
        "outputId": "51293556-504e-413b-9d24-55b93b71621a"
      },
      "execution_count": null,
      "outputs": [
        {
          "output_type": "stream",
          "name": "stdout",
          "text": [
            "Model: \"sequential\"\n",
            "_________________________________________________________________\n",
            " Layer (type)                Output Shape              Param #   \n",
            "=================================================================\n",
            " conv2d (Conv2D)             (None, 24, 24, 29)        754       \n",
            "                                                                 \n",
            " max_pooling2d (MaxPooling2D  (None, 12, 12, 29)       0         \n",
            " )                                                               \n",
            "                                                                 \n",
            " conv2d_1 (Conv2D)           (None, 10, 10, 87)        22794     \n",
            "                                                                 \n",
            " max_pooling2d_1 (MaxPooling  (None, 5, 5, 87)         0         \n",
            " 2D)                                                             \n",
            "                                                                 \n",
            " flatten (Flatten)           (None, 2175)              0         \n",
            "                                                                 \n",
            " dense (Dense)               (None, 256)               557056    \n",
            "                                                                 \n",
            " dense_1 (Dense)             (None, 2)                 514       \n",
            "                                                                 \n",
            "=================================================================\n",
            "Total params: 581,118\n",
            "Trainable params: 581,118\n",
            "Non-trainable params: 0\n",
            "_________________________________________________________________\n"
          ]
        }
      ]
    },
    {
      "cell_type": "code",
      "source": [
        "L = 29\n",
        "M = 3\n",
        "N = 3\n",
        "B = 1\n",
        "F = 87\n",
        "(L*(M*N)+B)*F"
      ],
      "metadata": {
        "colab": {
          "base_uri": "https://localhost:8080/"
        },
        "id": "TodC2BSnboJG",
        "outputId": "dbbe690c-e589-4346-942e-591554992a6d"
      },
      "execution_count": null,
      "outputs": [
        {
          "output_type": "execute_result",
          "data": {
            "text/plain": [
              "22794"
            ]
          },
          "metadata": {},
          "execution_count": 12
        }
      ]
    }
  ]
}