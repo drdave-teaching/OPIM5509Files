{
  "nbformat": 4,
  "nbformat_minor": 0,
  "metadata": {
    "colab": {
      "provenance": [],
      "toc_visible": true
    },
    "kernelspec": {
      "name": "python3",
      "display_name": "Python 3"
    }
  },
  "cells": [
    {
      "cell_type": "markdown",
      "source": [
        "[![Open In Colab](https://colab.research.google.com/assets/colab-badge.svg)](https://colab.research.google.com/github/drdave-teaching/OPIM5509Files/blob/main/OPIM5509_Module3_Files/Autoencoders_for_Images.ipynb)"
      ],
      "metadata": {
        "id": "4voIYXyOPfXI"
      }
    },
    {
      "cell_type": "markdown",
      "metadata": {
        "id": "xywTRH8hoPB2"
      },
      "source": [
        "# Autoencoders for Images\n",
        "------------------------------------\n",
        "**Dr. Dave Wanik - University of Connecticut**\n",
        "\n",
        "Let's see how we can use dense layers, convolutional layers and pooling layers to shrink down a dataset into a smaller format. If we can do this, then we will have effectively built a compression algorithm for images! The concept of squishing information into a little ball ('latent vector') and then reconstructing something (itself or maybe another image or sequence) is a very useful application of deep learning. But for now - we are just interested in images.\n",
        "\n",
        "* Example with Black and White Images\n",
        "  * **Link:** https://blog.keras.io/building-autoencoders-in-keras.html\n",
        "\n",
        "* Example with Color Images\n",
        "  * **Link:** https://stackabuse.com/autoencoders-for-image-reconstruction-in-python-and-keras/\n",
        "\n",
        "Beware that some examples use the Functional API - which has more flexibility than the Sequential API that we typically use - you should be able to follow along pretty easily, though.\n",
        "  * **Link:** https://keras.io/guides/functional_api/\n"
      ]
    },
    {
      "cell_type": "code",
      "metadata": {
        "id": "quj45MvqoMdx",
        "colab": {
          "base_uri": "https://localhost:8080/"
        },
        "outputId": "c59d6ed2-7184-4677-a38b-2d3b435c7c36"
      },
      "source": [
        "# load the mnist data\n",
        "# we don't need the y labels for this notebook\n",
        "from keras.datasets import mnist\n",
        "import numpy as np\n",
        "(x_train, _), (x_test, _) = mnist.load_data()"
      ],
      "execution_count": null,
      "outputs": [
        {
          "output_type": "stream",
          "name": "stdout",
          "text": [
            "Downloading data from https://storage.googleapis.com/tensorflow/tf-keras-datasets/mnist.npz\n",
            "11493376/11490434 [==============================] - 0s 0us/step\n",
            "11501568/11490434 [==============================] - 0s 0us/step\n"
          ]
        }
      ]
    },
    {
      "cell_type": "code",
      "metadata": {
        "id": "oa-FJXQOpCal",
        "colab": {
          "base_uri": "https://localhost:8080/"
        },
        "outputId": "6dfe02f6-7c67-40e2-954b-43f4073cc7b5"
      },
      "source": [
        "# recall that each number is stored as a 28* 28 array\n",
        "print(x_train[0].shape)\n",
        "# take a look for yourself\n",
        "x_train\n"
      ],
      "execution_count": null,
      "outputs": [
        {
          "output_type": "stream",
          "name": "stdout",
          "text": [
            "(28, 28)\n"
          ]
        },
        {
          "output_type": "execute_result",
          "data": {
            "text/plain": [
              "array([[[0, 0, 0, ..., 0, 0, 0],\n",
              "        [0, 0, 0, ..., 0, 0, 0],\n",
              "        [0, 0, 0, ..., 0, 0, 0],\n",
              "        ...,\n",
              "        [0, 0, 0, ..., 0, 0, 0],\n",
              "        [0, 0, 0, ..., 0, 0, 0],\n",
              "        [0, 0, 0, ..., 0, 0, 0]],\n",
              "\n",
              "       [[0, 0, 0, ..., 0, 0, 0],\n",
              "        [0, 0, 0, ..., 0, 0, 0],\n",
              "        [0, 0, 0, ..., 0, 0, 0],\n",
              "        ...,\n",
              "        [0, 0, 0, ..., 0, 0, 0],\n",
              "        [0, 0, 0, ..., 0, 0, 0],\n",
              "        [0, 0, 0, ..., 0, 0, 0]],\n",
              "\n",
              "       [[0, 0, 0, ..., 0, 0, 0],\n",
              "        [0, 0, 0, ..., 0, 0, 0],\n",
              "        [0, 0, 0, ..., 0, 0, 0],\n",
              "        ...,\n",
              "        [0, 0, 0, ..., 0, 0, 0],\n",
              "        [0, 0, 0, ..., 0, 0, 0],\n",
              "        [0, 0, 0, ..., 0, 0, 0]],\n",
              "\n",
              "       ...,\n",
              "\n",
              "       [[0, 0, 0, ..., 0, 0, 0],\n",
              "        [0, 0, 0, ..., 0, 0, 0],\n",
              "        [0, 0, 0, ..., 0, 0, 0],\n",
              "        ...,\n",
              "        [0, 0, 0, ..., 0, 0, 0],\n",
              "        [0, 0, 0, ..., 0, 0, 0],\n",
              "        [0, 0, 0, ..., 0, 0, 0]],\n",
              "\n",
              "       [[0, 0, 0, ..., 0, 0, 0],\n",
              "        [0, 0, 0, ..., 0, 0, 0],\n",
              "        [0, 0, 0, ..., 0, 0, 0],\n",
              "        ...,\n",
              "        [0, 0, 0, ..., 0, 0, 0],\n",
              "        [0, 0, 0, ..., 0, 0, 0],\n",
              "        [0, 0, 0, ..., 0, 0, 0]],\n",
              "\n",
              "       [[0, 0, 0, ..., 0, 0, 0],\n",
              "        [0, 0, 0, ..., 0, 0, 0],\n",
              "        [0, 0, 0, ..., 0, 0, 0],\n",
              "        ...,\n",
              "        [0, 0, 0, ..., 0, 0, 0],\n",
              "        [0, 0, 0, ..., 0, 0, 0],\n",
              "        [0, 0, 0, ..., 0, 0, 0]]], dtype=uint8)"
            ]
          },
          "metadata": {},
          "execution_count": 2
        }
      ]
    },
    {
      "cell_type": "code",
      "metadata": {
        "id": "YTR-nkMcpBCf",
        "colab": {
          "base_uri": "https://localhost:8080/"
        },
        "outputId": "d51a4a03-1437-4952-e0f4-51cccb8a4e5f"
      },
      "source": [
        "# we are going to flatten our images\n",
        "# and eventually stick them into dense layers (no need for convolution yet)\n",
        "x_train = x_train.astype('float32') / 255.\n",
        "x_test = x_test.astype('float32') / 255.\n",
        "x_train = x_train.reshape((len(x_train), np.prod(x_train.shape[1:])))\n",
        "x_test = x_test.reshape((len(x_test), np.prod(x_test.shape[1:])))\n",
        "print(x_train.shape)\n",
        "print(x_test.shape)"
      ],
      "execution_count": null,
      "outputs": [
        {
          "output_type": "stream",
          "name": "stdout",
          "text": [
            "(60000, 784)\n",
            "(10000, 784)\n"
          ]
        }
      ]
    },
    {
      "cell_type": "markdown",
      "metadata": {
        "id": "pyYOzCqppfRk"
      },
      "source": [
        "# Define the Model (simple autoencoder)\n",
        "Our model is going to read in the flattened image. Then the encoded layer is going to squish it down into a 32 long vector. Then the dense layer is going to try to reconstruct the original 784 long vector from that 32 long vector.\n",
        "\n",
        "The best part of this thing is the middle (where the input image is squished into a 32 long vector - tiny!)\n",
        "\n",
        "We can imagine that our model will do OK - but that a little bit of information may be lost along the way (try making 784 things out of 32 things... this is tricky!)"
      ]
    },
    {
      "cell_type": "code",
      "metadata": {
        "id": "Km0MAZFkpdXz",
        "colab": {
          "base_uri": "https://localhost:8080/"
        },
        "outputId": "ef80ef51-bfa6-4705-a5bf-f82e83542c5e"
      },
      "source": [
        "from keras.layers import Input, Dense\n",
        "from keras.models import Model\n",
        "\n",
        "# this is the size of our encoded representations\n",
        "encoding_dim = 32  # 32 floats -> compression of factor 24.5, assuming the input is 784 floats (elements)\n",
        "\n",
        "# this is our input placeholder\n",
        "input_img = Input(shape=(784,))\n",
        "# \"encoded\" is the encoded representation of the input\n",
        "encoded = Dense(encoding_dim, activation='relu')(input_img)\n",
        "# \"decoded\" is the lossy reconstruction of the input\n",
        "decoded = Dense(784, activation='sigmoid')(encoded)\n",
        "\n",
        "# this model maps an input to its reconstruction\n",
        "autoencoder = Model(input_img, decoded)\n",
        "autoencoder.summary()"
      ],
      "execution_count": null,
      "outputs": [
        {
          "output_type": "stream",
          "name": "stdout",
          "text": [
            "Model: \"model\"\n",
            "_________________________________________________________________\n",
            " Layer (type)                Output Shape              Param #   \n",
            "=================================================================\n",
            " input_1 (InputLayer)        [(None, 784)]             0         \n",
            "                                                                 \n",
            " dense (Dense)               (None, 32)                25120     \n",
            "                                                                 \n",
            " dense_1 (Dense)             (None, 784)               25872     \n",
            "                                                                 \n",
            "=================================================================\n",
            "Total params: 50,992\n",
            "Trainable params: 50,992\n",
            "Non-trainable params: 0\n",
            "_________________________________________________________________\n"
          ]
        }
      ]
    },
    {
      "cell_type": "code",
      "metadata": {
        "id": "IsWXUxIaqMDR"
      },
      "source": [
        "# to get this model to fit, we will use per-pixel binary cross-entropy loss\n",
        "# because this is a grayscale image\n",
        "# link: https://stats.stackexchange.com/questions/349096/cross-entropy-for-comparing-images\n",
        "# for a color image, just use loss='mse'\n",
        "\n",
        "# there is an implicit assumption along the lines of \"black means class 0, white means class 1\" and then some grey pixel value of 0.1 means the pixel very likely belongs to the black class\n",
        "autoencoder.compile(optimizer='Adam', loss='binary_crossentropy')"
      ],
      "execution_count": null,
      "outputs": []
    },
    {
      "cell_type": "markdown",
      "metadata": {
        "id": "EYZjIzylqWdz"
      },
      "source": [
        "# Fit the model (simple autoencoder)"
      ]
    },
    {
      "cell_type": "code",
      "metadata": {
        "id": "66AM6OgSqVZx",
        "colab": {
          "base_uri": "https://localhost:8080/"
        },
        "outputId": "319a7f36-45ac-4206-b34a-a80747a84b2a"
      },
      "source": [
        "# here we go!\n",
        "autoencoder.fit(x_train, x_train, # notice how X and Y are both x_train\n",
        "                epochs=50,\n",
        "                batch_size=256,\n",
        "                shuffle=True,\n",
        "                validation_data=(x_test, x_test))"
      ],
      "execution_count": null,
      "outputs": [
        {
          "output_type": "stream",
          "name": "stdout",
          "text": [
            "Epoch 1/50\n",
            "235/235 [==============================] - 7s 24ms/step - loss: 0.2752 - val_loss: 0.1897\n",
            "Epoch 2/50\n",
            "235/235 [==============================] - 6s 24ms/step - loss: 0.1711 - val_loss: 0.1536\n",
            "Epoch 3/50\n",
            "235/235 [==============================] - 5s 23ms/step - loss: 0.1442 - val_loss: 0.1340\n",
            "Epoch 4/50\n",
            "235/235 [==============================] - 3s 12ms/step - loss: 0.1289 - val_loss: 0.1219\n",
            "Epoch 5/50\n",
            "235/235 [==============================] - 3s 12ms/step - loss: 0.1189 - val_loss: 0.1138\n",
            "Epoch 6/50\n",
            "235/235 [==============================] - 3s 13ms/step - loss: 0.1119 - val_loss: 0.1082\n",
            "Epoch 7/50\n",
            "235/235 [==============================] - 3s 13ms/step - loss: 0.1067 - val_loss: 0.1033\n",
            "Epoch 8/50\n",
            "235/235 [==============================] - 3s 12ms/step - loss: 0.1029 - val_loss: 0.1001\n",
            "Epoch 9/50\n",
            "235/235 [==============================] - 3s 12ms/step - loss: 0.1000 - val_loss: 0.0975\n",
            "Epoch 10/50\n",
            "235/235 [==============================] - 3s 12ms/step - loss: 0.0978 - val_loss: 0.0959\n",
            "Epoch 11/50\n",
            "235/235 [==============================] - 3s 12ms/step - loss: 0.0964 - val_loss: 0.0945\n",
            "Epoch 12/50\n",
            "235/235 [==============================] - 3s 12ms/step - loss: 0.0954 - val_loss: 0.0937\n",
            "Epoch 13/50\n",
            "235/235 [==============================] - 3s 12ms/step - loss: 0.0948 - val_loss: 0.0932\n",
            "Epoch 14/50\n",
            "235/235 [==============================] - 3s 12ms/step - loss: 0.0944 - val_loss: 0.0929\n",
            "Epoch 15/50\n",
            "235/235 [==============================] - 3s 12ms/step - loss: 0.0941 - val_loss: 0.0926\n",
            "Epoch 16/50\n",
            "235/235 [==============================] - 3s 12ms/step - loss: 0.0939 - val_loss: 0.0924\n",
            "Epoch 17/50\n",
            "235/235 [==============================] - 3s 12ms/step - loss: 0.0937 - val_loss: 0.0923\n",
            "Epoch 18/50\n",
            "235/235 [==============================] - 3s 12ms/step - loss: 0.0936 - val_loss: 0.0922\n",
            "Epoch 19/50\n",
            "235/235 [==============================] - 3s 12ms/step - loss: 0.0935 - val_loss: 0.0921\n",
            "Epoch 20/50\n",
            "235/235 [==============================] - 3s 12ms/step - loss: 0.0934 - val_loss: 0.0921\n",
            "Epoch 21/50\n",
            "235/235 [==============================] - 3s 12ms/step - loss: 0.0933 - val_loss: 0.0921\n",
            "Epoch 22/50\n",
            "235/235 [==============================] - 3s 12ms/step - loss: 0.0932 - val_loss: 0.0920\n",
            "Epoch 23/50\n",
            "235/235 [==============================] - 3s 13ms/step - loss: 0.0932 - val_loss: 0.0918\n",
            "Epoch 24/50\n",
            "235/235 [==============================] - 3s 13ms/step - loss: 0.0931 - val_loss: 0.0918\n",
            "Epoch 25/50\n",
            "235/235 [==============================] - 3s 12ms/step - loss: 0.0931 - val_loss: 0.0918\n",
            "Epoch 26/50\n",
            "235/235 [==============================] - 3s 12ms/step - loss: 0.0930 - val_loss: 0.0918\n",
            "Epoch 27/50\n",
            "235/235 [==============================] - 3s 12ms/step - loss: 0.0930 - val_loss: 0.0918\n",
            "Epoch 28/50\n",
            "235/235 [==============================] - 3s 12ms/step - loss: 0.0930 - val_loss: 0.0917\n",
            "Epoch 29/50\n",
            "235/235 [==============================] - 3s 12ms/step - loss: 0.0929 - val_loss: 0.0917\n",
            "Epoch 30/50\n",
            "235/235 [==============================] - 3s 12ms/step - loss: 0.0929 - val_loss: 0.0917\n",
            "Epoch 31/50\n",
            "235/235 [==============================] - 3s 12ms/step - loss: 0.0929 - val_loss: 0.0917\n",
            "Epoch 32/50\n",
            "235/235 [==============================] - 3s 12ms/step - loss: 0.0929 - val_loss: 0.0916\n",
            "Epoch 33/50\n",
            "235/235 [==============================] - 3s 12ms/step - loss: 0.0928 - val_loss: 0.0916\n",
            "Epoch 34/50\n",
            "235/235 [==============================] - 3s 14ms/step - loss: 0.0928 - val_loss: 0.0915\n",
            "Epoch 35/50\n",
            "235/235 [==============================] - 3s 12ms/step - loss: 0.0928 - val_loss: 0.0916\n",
            "Epoch 36/50\n",
            "235/235 [==============================] - 3s 12ms/step - loss: 0.0928 - val_loss: 0.0916\n",
            "Epoch 37/50\n",
            "235/235 [==============================] - 3s 13ms/step - loss: 0.0928 - val_loss: 0.0915\n",
            "Epoch 38/50\n",
            "235/235 [==============================] - 4s 15ms/step - loss: 0.0927 - val_loss: 0.0916\n",
            "Epoch 39/50\n",
            "235/235 [==============================] - 3s 12ms/step - loss: 0.0927 - val_loss: 0.0915\n",
            "Epoch 40/50\n",
            "235/235 [==============================] - 3s 12ms/step - loss: 0.0927 - val_loss: 0.0915\n",
            "Epoch 41/50\n",
            "235/235 [==============================] - 3s 12ms/step - loss: 0.0927 - val_loss: 0.0916\n",
            "Epoch 42/50\n",
            "235/235 [==============================] - 3s 12ms/step - loss: 0.0927 - val_loss: 0.0915\n",
            "Epoch 43/50\n",
            "235/235 [==============================] - 3s 12ms/step - loss: 0.0927 - val_loss: 0.0915\n",
            "Epoch 44/50\n",
            "235/235 [==============================] - 3s 12ms/step - loss: 0.0927 - val_loss: 0.0915\n",
            "Epoch 45/50\n",
            "235/235 [==============================] - 3s 12ms/step - loss: 0.0926 - val_loss: 0.0916\n",
            "Epoch 46/50\n",
            "235/235 [==============================] - 3s 13ms/step - loss: 0.0926 - val_loss: 0.0915\n",
            "Epoch 47/50\n",
            "235/235 [==============================] - 3s 12ms/step - loss: 0.0926 - val_loss: 0.0914\n",
            "Epoch 48/50\n",
            "235/235 [==============================] - 3s 13ms/step - loss: 0.0926 - val_loss: 0.0915\n",
            "Epoch 49/50\n",
            "235/235 [==============================] - 3s 13ms/step - loss: 0.0926 - val_loss: 0.0915\n",
            "Epoch 50/50\n",
            "235/235 [==============================] - 3s 12ms/step - loss: 0.0926 - val_loss: 0.0915\n"
          ]
        },
        {
          "output_type": "execute_result",
          "data": {
            "text/plain": [
              "<keras.callbacks.History at 0x7f5e0ac77ad0>"
            ]
          },
          "metadata": {},
          "execution_count": 6
        }
      ]
    },
    {
      "cell_type": "code",
      "metadata": {
        "id": "JxLAXEZKrRNH"
      },
      "source": [
        "# we could have used early stopping, but that's OK for now."
      ],
      "execution_count": null,
      "outputs": []
    },
    {
      "cell_type": "markdown",
      "metadata": {
        "id": "dzrH0TGhsqX7"
      },
      "source": [
        "# Specify Individual Encoder and Decoder Models (simple autoencoder)\n",
        "Note that we are not fitting these models - we will just call our `autoencoder` and use this to make our predictions."
      ]
    },
    {
      "cell_type": "code",
      "metadata": {
        "id": "ztUelJkWstH7"
      },
      "source": [
        "# this model maps an input to its encoded representation\n",
        "encoder = Model(input_img, encoded)\n",
        "# create a placeholder for an encoded (32-dimensional) input\n",
        "encoded_input = Input(shape=(encoding_dim,))\n",
        "# retrieve the last layer of the autoencoder model\n",
        "decoder_layer = autoencoder.layers[-1]\n",
        "# create the decoder model\n",
        "decoder = Model(encoded_input, decoder_layer(encoded_input))"
      ],
      "execution_count": null,
      "outputs": []
    },
    {
      "cell_type": "markdown",
      "metadata": {
        "id": "k-T_w74AsTcv"
      },
      "source": [
        "# Make a Prediction (simple autoencoder)\n",
        "Let's use our model to predict the encoded and decoded images on x_test. Note how we are not using y ANYWHERE here."
      ]
    },
    {
      "cell_type": "code",
      "metadata": {
        "id": "YBHhhVOysdeu"
      },
      "source": [
        "# encode and decode some digits\n",
        "# note that we take them from the *test* set\n",
        "encoded_imgs = encoder.predict(x_test)\n",
        "decoded_imgs = decoder.predict(encoded_imgs)"
      ],
      "execution_count": null,
      "outputs": []
    },
    {
      "cell_type": "code",
      "metadata": {
        "id": "6MguBMF9s-rn",
        "colab": {
          "base_uri": "https://localhost:8080/"
        },
        "outputId": "7cd6ef45-5916-4f68-e004-144798ba0ff3"
      },
      "source": [
        "# see what you did\n",
        "print(encoded_imgs.shape) # wow. our 10K shapes have been stored as 32 long vectors\n",
        "# and we also can also reconstruct them!\n",
        "print(decoded_imgs.shape) # right back to 784 elements!"
      ],
      "execution_count": null,
      "outputs": [
        {
          "output_type": "stream",
          "name": "stdout",
          "text": [
            "(10000, 32)\n",
            "(10000, 784)\n"
          ]
        }
      ]
    },
    {
      "cell_type": "code",
      "metadata": {
        "id": "kd44sUT9tX2q",
        "colab": {
          "base_uri": "https://localhost:8080/",
          "height": 244
        },
        "outputId": "63ad969c-28ce-48e4-b9d7-64e8ef22fa2f"
      },
      "source": [
        "# let's see how we did\n",
        "# use Matplotlib\n",
        "import matplotlib.pyplot as plt\n",
        "\n",
        "n = 10\n",
        "plt.figure(figsize=(20, 4))\n",
        "for i in range(n):\n",
        "    # display original\n",
        "    ax = plt.subplot(2, n, i+1)\n",
        "    plt.imshow(x_test[i].reshape(28, 28))\n",
        "    plt.gray()\n",
        "    ax.get_xaxis().set_visible(False)\n",
        "    ax.get_yaxis().set_visible(False)\n",
        "\n",
        "    # display reconstruction\n",
        "    ax = plt.subplot(2, n, i + n + 1)\n",
        "    plt.imshow(decoded_imgs[i].reshape(28, 28))\n",
        "    plt.gray()\n",
        "    ax.get_xaxis().set_visible(False)\n",
        "    ax.get_yaxis().set_visible(False)\n",
        "plt.show()"
      ],
      "execution_count": null,
      "outputs": [
        {
          "output_type": "display_data",
          "data": {
            "text/plain": [
              "<Figure size 1440x288 with 20 Axes>"
            ],
            "image/png": "[encoded data removed]"
          },
          "metadata": {
            "needs_background": "light"
          }
        }
      ]
    },
    {
      "cell_type": "markdown",
      "metadata": {
        "id": "vz5dtHZxtb-1"
      },
      "source": [
        "The figures are a little grainy, but that's OK! It is still pretty impressive that a 32 long representation can create a 784 long representation. Let's see what the encoded images look like for this (we will reshape from a 32 long vector into a 4*8 array for convenience)."
      ]
    },
    {
      "cell_type": "code",
      "metadata": {
        "id": "F3oyvsdntn5e",
        "colab": {
          "base_uri": "https://localhost:8080/",
          "height": 102
        },
        "outputId": "49556202-0b67-40d3-a52c-6ed0b9631dcd"
      },
      "source": [
        "n = 10\n",
        "plt.figure(figsize=(20, 8))\n",
        "for i in range(n):\n",
        "    ax = plt.subplot(1, n, i+1) # the website is off - don't forget i+1!\n",
        "    plt.imshow(encoded_imgs[i].reshape(4, 8))\n",
        "    plt.gray()\n",
        "    ax.get_xaxis().set_visible(False)\n",
        "    ax.get_yaxis().set_visible(False)\n",
        "plt.show()\n",
        "\n",
        "# it is amazing that these gibberish pictures can be inputted into a decoder\n",
        "# which turns them into pretty pictures"
      ],
      "execution_count": null,
      "outputs": [
        {
          "output_type": "display_data",
          "data": {
            "text/plain": [
              "<Figure size 1440x576 with 10 Axes>"
            ],
            "image/png": "[encoded data removed]"
          },
          "metadata": {
            "needs_background": "light"
          }
        }
      ]
    },
    {
      "cell_type": "markdown",
      "metadata": {
        "id": "7kJjyPCdvjgs"
      },
      "source": [
        "# Fit the Model (Deep Autoencoder)\n",
        "*Just add more layers to the simple model!*\n",
        "\n",
        "Yep - the only difference between a simple autoencoder and a dense autoencoder is the number of layers. Let's try this out."
      ]
    },
    {
      "cell_type": "code",
      "metadata": {
        "id": "bEfdTI0Jvr2B"
      },
      "source": [
        "# we can simply add more layers to both the encoder and decoder\n",
        "input_img = Input(shape=(784,))\n",
        "encoded = Dense(128, activation='relu')(input_img)\n",
        "encoded = Dense(64, activation='relu')(encoded)\n",
        "encoded = Dense(32, activation='relu')(encoded)\n",
        "\n",
        "decoded = Dense(64, activation='relu')(encoded)\n",
        "decoded = Dense(128, activation='relu')(decoded)\n",
        "decoded = Dense(784, activation='sigmoid')(decoded)"
      ],
      "execution_count": null,
      "outputs": []
    },
    {
      "cell_type": "markdown",
      "metadata": {
        "id": "aVlHRe-fxMw1"
      },
      "source": [
        "By showing the summary, we can see what this model is doing. Squishing down information into a tiny ball (latent vector) and then reconstructing it."
      ]
    },
    {
      "cell_type": "code",
      "metadata": {
        "id": "et2udXzVv2t8",
        "colab": {
          "base_uri": "https://localhost:8080/"
        },
        "outputId": "9c534fcf-c98d-4c0f-be39-38b9e51b3a92"
      },
      "source": [
        "autoencoder = Model(input_img, decoded)\n",
        "autoencoder.summary()\n",
        "\n",
        "autoencoder.compile(optimizer='Adam', loss='binary_crossentropy')"
      ],
      "execution_count": null,
      "outputs": [
        {
          "output_type": "stream",
          "name": "stdout",
          "text": [
            "Model: \"model_3\"\n",
            "_________________________________________________________________\n",
            " Layer (type)                Output Shape              Param #   \n",
            "=================================================================\n",
            " input_3 (InputLayer)        [(None, 784)]             0         \n",
            "                                                                 \n",
            " dense_2 (Dense)             (None, 128)               100480    \n",
            "                                                                 \n",
            " dense_3 (Dense)             (None, 64)                8256      \n",
            "                                                                 \n",
            " dense_4 (Dense)             (None, 32)                2080      \n",
            "                                                                 \n",
            " dense_5 (Dense)             (None, 64)                2112      \n",
            "                                                                 \n",
            " dense_6 (Dense)             (None, 128)               8320      \n",
            "                                                                 \n",
            " dense_7 (Dense)             (None, 784)               101136    \n",
            "                                                                 \n",
            "=================================================================\n",
            "Total params: 222,384\n",
            "Trainable params: 222,384\n",
            "Non-trainable params: 0\n",
            "_________________________________________________________________\n"
          ]
        }
      ]
    },
    {
      "cell_type": "code",
      "metadata": {
        "id": "tviCf3Jiv66l",
        "colab": {
          "base_uri": "https://localhost:8080/"
        },
        "outputId": "5fe38949-ed26-4629-f527-6b146ff3bc98"
      },
      "source": [
        "# fit the model\n",
        "autoencoder.fit(x_train, x_train,\n",
        "                epochs=10, # on your own - try running for epochs and compare output images\n",
        "                batch_size=256,\n",
        "                shuffle=True,\n",
        "                validation_data=(x_test, x_test))"
      ],
      "execution_count": null,
      "outputs": [
        {
          "output_type": "stream",
          "name": "stdout",
          "text": [
            "Epoch 1/10\n",
            "235/235 [==============================] - 5s 19ms/step - loss: 0.2387 - val_loss: 0.1598\n",
            "Epoch 2/10\n",
            "235/235 [==============================] - 4s 18ms/step - loss: 0.1479 - val_loss: 0.1364\n",
            "Epoch 3/10\n",
            "235/235 [==============================] - 4s 18ms/step - loss: 0.1306 - val_loss: 0.1229\n",
            "Epoch 4/10\n",
            "235/235 [==============================] - 4s 19ms/step - loss: 0.1205 - val_loss: 0.1158\n",
            "Epoch 5/10\n",
            "235/235 [==============================] - 4s 18ms/step - loss: 0.1146 - val_loss: 0.1113\n",
            "Epoch 6/10\n",
            "235/235 [==============================] - 4s 18ms/step - loss: 0.1106 - val_loss: 0.1077\n",
            "Epoch 7/10\n",
            "235/235 [==============================] - 4s 18ms/step - loss: 0.1077 - val_loss: 0.1051\n",
            "Epoch 8/10\n",
            "235/235 [==============================] - 4s 18ms/step - loss: 0.1056 - val_loss: 0.1033\n",
            "Epoch 9/10\n",
            "235/235 [==============================] - 4s 18ms/step - loss: 0.1039 - val_loss: 0.1018\n",
            "Epoch 10/10\n",
            "235/235 [==============================] - 4s 18ms/step - loss: 0.1022 - val_loss: 0.1004\n"
          ]
        },
        {
          "output_type": "execute_result",
          "data": {
            "text/plain": [
              "<keras.callbacks.History at 0x7f5e06667990>"
            ]
          },
          "metadata": {},
          "execution_count": 15
        }
      ]
    },
    {
      "cell_type": "markdown",
      "metadata": {
        "id": "uZmgCqHpx9zA"
      },
      "source": [
        "# Make a Prediction (deep autoencoder)\n",
        "We will use the exact same code as above - we can evaluate our predictions (visually) in addition to the loss value that's printed above."
      ]
    },
    {
      "cell_type": "code",
      "metadata": {
        "id": "O4Xecn9Yxz8X",
        "colab": {
          "base_uri": "https://localhost:8080/"
        },
        "outputId": "6f9e0df1-149d-4064-b122-44c225575804"
      },
      "source": [
        "# encode and decode some digits\n",
        "# note that we take them from the *test* set\n",
        "encoded_imgs = encoder.predict(x_test)\n",
        "decoded_imgs = decoder.predict(encoded_imgs)\n",
        "\n",
        "# see what you did\n",
        "print(encoded_imgs.shape) # wow. our 10K shapes have been stored as 32 long vectors\n",
        "# and we also can also reconstruct them!\n",
        "print(decoded_imgs.shape) # right back to 784 elements!"
      ],
      "execution_count": null,
      "outputs": [
        {
          "output_type": "stream",
          "name": "stdout",
          "text": [
            "(10000, 32)\n",
            "(10000, 784)\n"
          ]
        }
      ]
    },
    {
      "cell_type": "code",
      "metadata": {
        "id": "vR_nnkUgyebg",
        "colab": {
          "base_uri": "https://localhost:8080/",
          "height": 244
        },
        "outputId": "c1f7bbee-fdbc-4038-bcf1-b87318a3a191"
      },
      "source": [
        "# let's see how we did\n",
        "import matplotlib.pyplot as plt\n",
        "\n",
        "n = 10\n",
        "plt.figure(figsize=(20, 4))\n",
        "for i in range(n):\n",
        "    # display original\n",
        "    ax = plt.subplot(2, n, i+1)\n",
        "    plt.imshow(x_test[i].reshape(28, 28))\n",
        "    plt.gray()\n",
        "    ax.get_xaxis().set_visible(False)\n",
        "    ax.get_yaxis().set_visible(False)\n",
        "\n",
        "    # display reconstruction\n",
        "    ax = plt.subplot(2, n, i + n + 1)\n",
        "    plt.imshow(decoded_imgs[i].reshape(28, 28))\n",
        "    plt.gray()\n",
        "    ax.get_xaxis().set_visible(False)\n",
        "    ax.get_yaxis().set_visible(False)\n",
        "plt.show()"
      ],
      "execution_count": null,
      "outputs": [
        {
          "output_type": "display_data",
          "data": {
            "text/plain": [
              "<Figure size 1440x288 with 20 Axes>"
            ],
            "image/png": "[encoded data removed]"
          },
          "metadata": {
            "needs_background": "light"
          }
        }
      ]
    },
    {
      "cell_type": "markdown",
      "metadata": {
        "id": "Cu-8ULfCyuOE"
      },
      "source": [
        "Ideally, these should look a little bit better than the simple example."
      ]
    },
    {
      "cell_type": "markdown",
      "metadata": {
        "id": "V565e4F6zu0C"
      },
      "source": [
        "# Define the Model (convolutional autoencoder)\n",
        "We don't have to flatten our image data like we did before - in fact, so long as it's stored as a proper 3D tensor (note the reshape operation later) we are ready to rock. Take that square (or rectangle) image and apply convolution and pooling to it until it is distilleed into a tiny nugget of information ('latent vector') - then build a model to reconstruct the original image from that nugget!\n",
        "\n",
        "Instead of pooling, check out 'upsampling' (just doubles the rows in an array):\n",
        "* https://www.tensorflow.org/api_docs/python/tf/keras/layers/UpSampling2D\n",
        "* https://machinelearningmastery.com/upsampling-and-transpose-convolution-layers-for-generative-adversarial-networks/\n",
        "\n",
        "[from Brownlee] By default, the UpSampling2D will double each input dimension. This is defined by the ‘size‘ argument that is set to the tuple (2,2).\n",
        "\n",
        "You may want to use different factors on each dimension, such as double the width and triple the height. This could be achieved by setting the ‘size‘ argument to (2, 3). The result of applying this operation to a 2×2 image would be a 4×6 output image (e.g. 2×2 and 2×3)."
      ]
    },
    {
      "cell_type": "code",
      "metadata": {
        "id": "YGzvFvgG0Crw"
      },
      "source": [
        "# here we go\n",
        "\n",
        "# let's re-read in the data so it's the original format\n",
        "# of arrays\n",
        "(x_train, _), (x_test, _) = mnist.load_data()"
      ],
      "execution_count": null,
      "outputs": []
    },
    {
      "cell_type": "code",
      "metadata": {
        "id": "tZJOL3MP0bGa",
        "colab": {
          "base_uri": "https://localhost:8080/",
          "height": 282
        },
        "outputId": "190f8093-172d-4c0e-9cbc-87f4c5598631"
      },
      "source": [
        "# plot an original number\n",
        "from matplotlib import pyplot as plt\n",
        "print(x_train[0].shape)\n",
        "plt.imshow(x_train[0], interpolation='nearest')\n",
        "plt.show()"
      ],
      "execution_count": null,
      "outputs": [
        {
          "output_type": "stream",
          "name": "stdout",
          "text": [
            "(28, 28)\n"
          ]
        },
        {
          "output_type": "display_data",
          "data": {
            "text/plain": [
              "<Figure size 432x288 with 1 Axes>"
            ],
            "image/png": "[encoded data removed]"
          },
          "metadata": {
            "needs_background": "light"
          }
        }
      ]
    },
    {
      "cell_type": "code",
      "metadata": {
        "id": "5Yl2-8Mc0PYM"
      },
      "source": [
        "# and let's make sure we scale everything between 0 and 1\n",
        "x_train = x_train.astype('float32') / 255.\n",
        "x_test = x_test.astype('float32') / 255.\n",
        "x_train = np.reshape(x_train, (len(x_train), 28, 28, 1))  # adapt this if using `channels_first` image data format\n",
        "x_test = np.reshape(x_test, (len(x_test), 28, 28, 1))  # adapt this if using `channels_first` image data format"
      ],
      "execution_count": null,
      "outputs": []
    },
    {
      "cell_type": "code",
      "metadata": {
        "id": "WqhrhMj30ThK",
        "colab": {
          "base_uri": "https://localhost:8080/",
          "height": 282
        },
        "outputId": "a48dcdfd-4cb2-4a5d-a7b1-3e7051d4d7a5"
      },
      "source": [
        "# take a peak at one of the samples\n",
        "# link: https://stackoverflow.com/questions/34774954/how-to-extract-2d-array-from-4d-array-based-on-first-and-last-indices\n",
        "print(x_train[0, :, :, 0].shape)\n",
        "\n",
        "plt.imshow(x_train[0, :, :, 0], interpolation='nearest')\n",
        "plt.show()\n",
        "\n",
        "# same image - just different values within (since we normalize by a constant!)"
      ],
      "execution_count": null,
      "outputs": [
        {
          "output_type": "stream",
          "name": "stdout",
          "text": [
            "(28, 28)\n"
          ]
        },
        {
          "output_type": "display_data",
          "data": {
            "text/plain": [
              "<Figure size 432x288 with 1 Axes>"
            ],
            "image/png": "[encoded data removed]"
          },
          "metadata": {
            "needs_background": "light"
          }
        }
      ]
    },
    {
      "cell_type": "code",
      "metadata": {
        "id": "XdCzZHwi1hLa",
        "colab": {
          "base_uri": "https://localhost:8080/"
        },
        "outputId": "067e01c3-1f1d-47a6-bfe5-f3125c83b5fb"
      },
      "source": [
        "# here comes our model\n",
        "from keras.layers import Input, Dense, Conv2D, MaxPooling2D, UpSampling2D\n",
        "from keras.models import Model\n",
        "from keras import backend as K\n",
        "\n",
        "input_img = Input(shape=(28, 28, 1))  # adapt this if using `channels_first` image data format\n",
        "\n",
        "x = Conv2D(16, (3, 3), activation='relu', padding='same')(input_img)\n",
        "x = MaxPooling2D((2, 2), padding='same')(x)\n",
        "x = Conv2D(8, (3, 3), activation='relu', padding='same')(x)\n",
        "x = MaxPooling2D((2, 2), padding='same')(x)\n",
        "x = Conv2D(8, (3, 3), activation='relu', padding='same')(x)\n",
        "encoded = MaxPooling2D((2, 2), padding='same')(x)\n",
        "\n",
        "# at this point the representation is (4, 4, 8) i.e. 128-dimensional\n",
        "\n",
        "x = Conv2D(8, (3, 3), activation='relu', padding='same')(encoded)\n",
        "x = UpSampling2D((2, 2))(x)\n",
        "x = Conv2D(8, (3, 3), activation='relu', padding='same')(x)\n",
        "x = UpSampling2D((2, 2))(x)\n",
        "x = Conv2D(16, (3, 3), activation='relu')(x)\n",
        "x = UpSampling2D((2, 2))(x)\n",
        "decoded = Conv2D(1, (3, 3), activation='sigmoid', padding='same')(x)\n",
        "\n",
        "autoencoder = Model(input_img, decoded)\n",
        "autoencoder.summary()\n",
        "\n",
        "autoencoder.compile(optimizer='Adam', loss='binary_crossentropy')"
      ],
      "execution_count": null,
      "outputs": [
        {
          "output_type": "stream",
          "name": "stdout",
          "text": [
            "Model: \"model_4\"\n",
            "_________________________________________________________________\n",
            " Layer (type)                Output Shape              Param #   \n",
            "=================================================================\n",
            " input_4 (InputLayer)        [(None, 28, 28, 1)]       0         \n",
            "                                                                 \n",
            " conv2d (Conv2D)             (None, 28, 28, 16)        160       \n",
            "                                                                 \n",
            " max_pooling2d (MaxPooling2D  (None, 14, 14, 16)       0         \n",
            " )                                                               \n",
            "                                                                 \n",
            " conv2d_1 (Conv2D)           (None, 14, 14, 8)         1160      \n",
            "                                                                 \n",
            " max_pooling2d_1 (MaxPooling  (None, 7, 7, 8)          0         \n",
            " 2D)                                                             \n",
            "                                                                 \n",
            " conv2d_2 (Conv2D)           (None, 7, 7, 8)           584       \n",
            "                                                                 \n",
            " max_pooling2d_2 (MaxPooling  (None, 4, 4, 8)          0         \n",
            " 2D)                                                             \n",
            "                                                                 \n",
            " conv2d_3 (Conv2D)           (None, 4, 4, 8)           584       \n",
            "                                                                 \n",
            " up_sampling2d (UpSampling2D  (None, 8, 8, 8)          0         \n",
            " )                                                               \n",
            "                                                                 \n",
            " conv2d_4 (Conv2D)           (None, 8, 8, 8)           584       \n",
            "                                                                 \n",
            " up_sampling2d_1 (UpSampling  (None, 16, 16, 8)        0         \n",
            " 2D)                                                             \n",
            "                                                                 \n",
            " conv2d_5 (Conv2D)           (None, 14, 14, 16)        1168      \n",
            "                                                                 \n",
            " up_sampling2d_2 (UpSampling  (None, 28, 28, 16)       0         \n",
            " 2D)                                                             \n",
            "                                                                 \n",
            " conv2d_6 (Conv2D)           (None, 28, 28, 1)         145       \n",
            "                                                                 \n",
            "=================================================================\n",
            "Total params: 4,385\n",
            "Trainable params: 4,385\n",
            "Non-trainable params: 0\n",
            "_________________________________________________________________\n"
          ]
        }
      ]
    },
    {
      "cell_type": "markdown",
      "metadata": {
        "id": "IDyRkho83Gdb"
      },
      "source": [
        "# Fit the Model (convolutional autoencoder)\n",
        "Warning: This may take a bit to run (1 min per epoch)! Set epochs to 10 if you want it to run faster - or use EarlyStopping."
      ]
    },
    {
      "cell_type": "code",
      "metadata": {
        "id": "s18KI_Pw3JVg",
        "colab": {
          "base_uri": "https://localhost:8080/"
        },
        "outputId": "0ca7024f-b245-432a-af37-0ab3098a04a5"
      },
      "source": [
        "autoencoder.fit(x_train, x_train,\n",
        "                epochs=10, # you can run 50 on your own (will take a long time!)\n",
        "                batch_size=500, # you can use a smaller batch size like 128 if you want more detail\n",
        "                shuffle=True,\n",
        "                validation_data=(x_test, x_test))"
      ],
      "execution_count": null,
      "outputs": [
        {
          "output_type": "stream",
          "name": "stdout",
          "text": [
            "Epoch 1/10\n",
            "120/120 [==============================] - 70s 580ms/step - loss: 0.1617 - val_loss: 0.1531\n",
            "Epoch 2/10\n",
            "120/120 [==============================] - 67s 560ms/step - loss: 0.1481 - val_loss: 0.1412\n",
            "Epoch 3/10\n",
            "120/120 [==============================] - 69s 572ms/step - loss: 0.1382 - val_loss: 0.1336\n",
            "Epoch 4/10\n",
            "120/120 [==============================] - 67s 558ms/step - loss: 0.1321 - val_loss: 0.1285\n",
            "Epoch 5/10\n",
            "120/120 [==============================] - 69s 572ms/step - loss: 0.1279 - val_loss: 0.1250\n",
            "Epoch 6/10\n",
            "120/120 [==============================] - 67s 557ms/step - loss: 0.1248 - val_loss: 0.1222\n",
            "Epoch 7/10\n",
            "120/120 [==============================] - 68s 569ms/step - loss: 0.1223 - val_loss: 0.1200\n",
            "Epoch 8/10\n",
            "120/120 [==============================] - 67s 558ms/step - loss: 0.1202 - val_loss: 0.1180\n",
            "Epoch 9/10\n",
            "120/120 [==============================] - 67s 557ms/step - loss: 0.1184 - val_loss: 0.1165\n",
            "Epoch 10/10\n",
            "120/120 [==============================] - 69s 571ms/step - loss: 0.1168 - val_loss: 0.1148\n"
          ]
        },
        {
          "output_type": "execute_result",
          "data": {
            "text/plain": [
              "<keras.callbacks.History at 0x7f5e03b964d0>"
            ]
          },
          "metadata": {},
          "execution_count": 25
        }
      ]
    },
    {
      "cell_type": "markdown",
      "metadata": {
        "id": "VZaEwUGM3RyW"
      },
      "source": [
        "# Make a Prediction (convolutional autoencoder)"
      ]
    },
    {
      "cell_type": "code",
      "metadata": {
        "id": "P0FnLxv23QYi",
        "colab": {
          "base_uri": "https://localhost:8080/",
          "height": 244
        },
        "outputId": "f6c51335-50a8-492a-959a-b2c2c08bb17d"
      },
      "source": [
        "# we will continue to look at train samples\n",
        "decoded_imgs = autoencoder.predict(x_train)\n",
        "\n",
        "n = 10\n",
        "plt.figure(figsize=(20, 4))\n",
        "for i in range(n):\n",
        "    # display original\n",
        "    ax = plt.subplot(2, n, i+1)\n",
        "    plt.imshow(x_train[i].reshape(28, 28))\n",
        "    plt.gray()\n",
        "    ax.get_xaxis().set_visible(False)\n",
        "    ax.get_yaxis().set_visible(False)\n",
        "\n",
        "    # display reconstruction\n",
        "    ax = plt.subplot(2, n, i + n + 1)\n",
        "    plt.imshow(decoded_imgs[i].reshape(28, 28))\n",
        "    plt.gray()\n",
        "    ax.get_xaxis().set_visible(False)\n",
        "    ax.get_yaxis().set_visible(False)\n",
        "plt.show()"
      ],
      "execution_count": null,
      "outputs": [
        {
          "output_type": "display_data",
          "data": {
            "text/plain": [
              "<Figure size 1440x288 with 20 Axes>"
            ],
            "image/png": "[encoded data removed]"
          },
          "metadata": {
            "needs_background": "light"
          }
        }
      ]
    },
    {
      "cell_type": "markdown",
      "metadata": {
        "id": "vnBXfnhJDwol"
      },
      "source": [
        "They will probably look pretty good if you run for enough epochs!"
      ]
    },
    {
      "cell_type": "markdown",
      "metadata": {
        "id": "58gULEmMygRn"
      },
      "source": [
        "# Denoising (optional)\n",
        "Students are welcome to check out the denoising section of the Chollet blog post on their own - it's pretty amazing that dirty images can be cleaned up! The trick is to feed the model artificially dirty data, and then have it recreate the clean data. You need to show the model BOTH the dirty (input) and clean (target) data - and then it will be able to clean up any related dirty image. So not only can these models predict themselves (that's the 'auto' part in auto-encoder) - they can also predict and recreate other data (simply known as encoder/decoder at this point). Enjoy."
      ]
    }
  ]
}