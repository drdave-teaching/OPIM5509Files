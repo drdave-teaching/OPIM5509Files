{
  "nbformat": 4,
  "nbformat_minor": 0,
  "metadata": {
    "colab": {
      "provenance": [],
      "toc_visible": true
    },
    "kernelspec": {
      "name": "python3",
      "display_name": "Python 3"
    }
  },
  "cells": [
    {
      "cell_type": "markdown",
      "source": [
        "[![Open In Colab](https://colab.research.google.com/assets/colab-badge.svg)](https://colab.research.google.com/github/drdave-teaching/OPIM5509Files/blob/main/OPIM5509_Module4_Files/Multivariate_Occupancy_RNN_AdvancedTopics.ipynb)"
      ],
      "metadata": {
        "id": "wgqIu_2b7xDM"
      }
    },
    {
      "cell_type": "markdown",
      "metadata": {
        "id": "qHm6AVNVWGUd"
      },
      "source": [
        "# Multivariate Example (Advanced Topics)\n",
        "**Dr. Dave Wanik - University of Connecticut**\n",
        "\n",
        "Let's see if we can predict if it's an occupancy as a function of environmental data - let's see if Conv1D and MaxPooling1D can make an even better prediction (ConvLSTM).\n",
        "\n",
        "**Common errors:** forgetting an activation function, not specifying the input shape (or mixing up the order!), not returning sequences when two layers (or accidentally return_sequences=True when only one layer!)\n"
      ]
    },
    {
      "cell_type": "code",
      "metadata": {
        "id": "e79dX394WFyg"
      },
      "source": [
        "# standard modules\n",
        "import numpy as np\n",
        "import pandas as pd\n",
        "import matplotlib.pyplot as plt\n",
        "\n",
        "# RNN-specific modules\n",
        "import pandas as pd\n",
        "import numpy as np\n",
        "from sklearn.preprocessing import MinMaxScaler\n",
        "from sklearn.metrics import classification_report,accuracy_score\n",
        "from tensorflow.keras import layers, Sequential\n",
        "from tensorflow.keras.layers import Conv1D, MaxPooling1D\n",
        "from tensorflow.keras.layers import Dense, Dropout, SimpleRNN, GRU, LSTM, Bidirectional\n",
        "from tensorflow.keras.callbacks import EarlyStopping"
      ],
      "execution_count": null,
      "outputs": []
    },
    {
      "cell_type": "markdown",
      "metadata": {
        "id": "Nrmaa3nQhj26"
      },
      "source": [
        "## Read in data\n",
        "Check for missing values, make some plots."
      ]
    },
    {
      "cell_type": "code",
      "metadata": {
        "id": "Xeb0Lq88WTtg",
        "colab": {
          "base_uri": "https://localhost:8080/",
          "height": 780
        },
        "outputId": "547510a7-dbc7-41d1-f310-2c00e65ea633"
      },
      "source": [
        "# Dataset initially sourced from LuisM78’s GitHub repository:\n",
        "# url = 'https://raw.githubusercontent.com/LuisM78/Occupancy-detection-data/master/datatest.txt'\n",
        "# Link to the data file on Github\n",
        "url = \"https://raw.githubusercontent.com/drdave-teaching/OPIM5509Files/refs/heads/main/OPIM5509_Module4_Files/datatest.txt\"\n",
        "\n",
        "# read the data\n",
        "df = pd.read_csv(url)\n",
        "print(df.info())\n",
        "df.head(n=15) # nice complete data! this will allow us to check our work later"
      ],
      "execution_count": null,
      "outputs": [
        {
          "output_type": "stream",
          "name": "stdout",
          "text": [
            "<class 'pandas.core.frame.DataFrame'>\n",
            "Int64Index: 2665 entries, 140 to 2804\n",
            "Data columns (total 7 columns):\n",
            " #   Column         Non-Null Count  Dtype  \n",
            "---  ------         --------------  -----  \n",
            " 0   date           2665 non-null   object \n",
            " 1   Temperature    2665 non-null   float64\n",
            " 2   Humidity       2665 non-null   float64\n",
            " 3   Light          2665 non-null   float64\n",
            " 4   CO2            2665 non-null   float64\n",
            " 5   HumidityRatio  2665 non-null   float64\n",
            " 6   Occupancy      2665 non-null   int64  \n",
            "dtypes: float64(5), int64(1), object(1)\n",
            "memory usage: 166.6+ KB\n",
            "None\n"
          ]
        },
        {
          "output_type": "execute_result",
          "data": {
            "text/plain": [
              "                    date  Temperature  Humidity       Light         CO2  \\\n",
              "140  2015-02-02 14:19:00      23.7000    26.272  585.200000  749.200000   \n",
              "141  2015-02-02 14:19:59      23.7180    26.290  578.400000  760.400000   \n",
              "142  2015-02-02 14:21:00      23.7300    26.230  572.666667  769.666667   \n",
              "143  2015-02-02 14:22:00      23.7225    26.125  493.750000  774.750000   \n",
              "144  2015-02-02 14:23:00      23.7540    26.200  488.600000  779.000000   \n",
              "145  2015-02-02 14:23:59      23.7600    26.260  568.666667  790.000000   \n",
              "146  2015-02-02 14:25:00      23.7300    26.290  536.333333  798.000000   \n",
              "147  2015-02-02 14:25:59      23.7540    26.290  509.000000  797.000000   \n",
              "148  2015-02-02 14:26:59      23.7540    26.350  476.000000  803.200000   \n",
              "149  2015-02-02 14:28:00      23.7360    26.390  510.000000  809.000000   \n",
              "150  2015-02-02 14:29:00      23.7450    26.445  481.500000  815.250000   \n",
              "151  2015-02-02 14:30:00      23.7000    26.560  481.800000  824.000000   \n",
              "152  2015-02-02 14:31:00      23.7000    26.600  475.250000  832.000000   \n",
              "153  2015-02-02 14:31:59      23.7000    26.700  469.000000  845.333333   \n",
              "154  2015-02-02 14:32:59      23.7000    26.774  464.000000  852.400000   \n",
              "\n",
              "     HumidityRatio  Occupancy  \n",
              "140       0.004764          1  \n",
              "141       0.004773          1  \n",
              "142       0.004765          1  \n",
              "143       0.004744          1  \n",
              "144       0.004767          1  \n",
              "145       0.004779          1  \n",
              "146       0.004776          1  \n",
              "147       0.004783          1  \n",
              "148       0.004794          1  \n",
              "149       0.004796          1  \n",
              "150       0.004809          1  \n",
              "151       0.004817          1  \n",
              "152       0.004824          1  \n",
              "153       0.004842          1  \n",
              "154       0.004856          1  "
            ],
            "text/html": [
              "\n",
              "  <div id=\"df-6a51fe90-7c64-4aec-9dac-161f1911060a\">\n",
              "    <div class=\"colab-df-container\">\n",
              "      <div>\n",
              "<style scoped>\n",
              "    .dataframe tbody tr th:only-of-type {\n",
              "        vertical-align: middle;\n",
              "    }\n",
              "\n",
              "    .dataframe tbody tr th {\n",
              "        vertical-align: top;\n",
              "    }\n",
              "\n",
              "    .dataframe thead th {\n",
              "        text-align: right;\n",
              "    }\n",
              "</style>\n",
              "<table border=\"1\" class=\"dataframe\">\n",
              "  <thead>\n",
              "    <tr style=\"text-align: right;\">\n",
              "      <th></th>\n",
              "      <th>date</th>\n",
              "      <th>Temperature</th>\n",
              "      <th>Humidity</th>\n",
              "      <th>Light</th>\n",
              "      <th>CO2</th>\n",
              "      <th>HumidityRatio</th>\n",
              "      <th>Occupancy</th>\n",
              "    </tr>\n",
              "  </thead>\n",
              "  <tbody>\n",
              "    <tr>\n",
              "      <th>140</th>\n",
              "      <td>2015-02-02 14:19:00</td>\n",
              "      <td>23.7000</td>\n",
              "      <td>26.272</td>\n",
              "      <td>585.200000</td>\n",
              "      <td>749.200000</td>\n",
              "      <td>0.004764</td>\n",
              "      <td>1</td>\n",
              "    </tr>\n",
              "    <tr>\n",
              "      <th>141</th>\n",
              "      <td>2015-02-02 14:19:59</td>\n",
              "      <td>23.7180</td>\n",
              "      <td>26.290</td>\n",
              "      <td>578.400000</td>\n",
              "      <td>760.400000</td>\n",
              "      <td>0.004773</td>\n",
              "      <td>1</td>\n",
              "    </tr>\n",
              "    <tr>\n",
              "      <th>142</th>\n",
              "      <td>2015-02-02 14:21:00</td>\n",
              "      <td>23.7300</td>\n",
              "      <td>26.230</td>\n",
              "      <td>572.666667</td>\n",
              "      <td>769.666667</td>\n",
              "      <td>0.004765</td>\n",
              "      <td>1</td>\n",
              "    </tr>\n",
              "    <tr>\n",
              "      <th>143</th>\n",
              "      <td>2015-02-02 14:22:00</td>\n",
              "      <td>23.7225</td>\n",
              "      <td>26.125</td>\n",
              "      <td>493.750000</td>\n",
              "      <td>774.750000</td>\n",
              "      <td>0.004744</td>\n",
              "      <td>1</td>\n",
              "    </tr>\n",
              "    <tr>\n",
              "      <th>144</th>\n",
              "      <td>2015-02-02 14:23:00</td>\n",
              "      <td>23.7540</td>\n",
              "      <td>26.200</td>\n",
              "      <td>488.600000</td>\n",
              "      <td>779.000000</td>\n",
              "      <td>0.004767</td>\n",
              "      <td>1</td>\n",
              "    </tr>\n",
              "    <tr>\n",
              "      <th>145</th>\n",
              "      <td>2015-02-02 14:23:59</td>\n",
              "      <td>23.7600</td>\n",
              "      <td>26.260</td>\n",
              "      <td>568.666667</td>\n",
              "      <td>790.000000</td>\n",
              "      <td>0.004779</td>\n",
              "      <td>1</td>\n",
              "    </tr>\n",
              "    <tr>\n",
              "      <th>146</th>\n",
              "      <td>2015-02-02 14:25:00</td>\n",
              "      <td>23.7300</td>\n",
              "      <td>26.290</td>\n",
              "      <td>536.333333</td>\n",
              "      <td>798.000000</td>\n",
              "      <td>0.004776</td>\n",
              "      <td>1</td>\n",
              "    </tr>\n",
              "    <tr>\n",
              "      <th>147</th>\n",
              "      <td>2015-02-02 14:25:59</td>\n",
              "      <td>23.7540</td>\n",
              "      <td>26.290</td>\n",
              "      <td>509.000000</td>\n",
              "      <td>797.000000</td>\n",
              "      <td>0.004783</td>\n",
              "      <td>1</td>\n",
              "    </tr>\n",
              "    <tr>\n",
              "      <th>148</th>\n",
              "      <td>2015-02-02 14:26:59</td>\n",
              "      <td>23.7540</td>\n",
              "      <td>26.350</td>\n",
              "      <td>476.000000</td>\n",
              "      <td>803.200000</td>\n",
              "      <td>0.004794</td>\n",
              "      <td>1</td>\n",
              "    </tr>\n",
              "    <tr>\n",
              "      <th>149</th>\n",
              "      <td>2015-02-02 14:28:00</td>\n",
              "      <td>23.7360</td>\n",
              "      <td>26.390</td>\n",
              "      <td>510.000000</td>\n",
              "      <td>809.000000</td>\n",
              "      <td>0.004796</td>\n",
              "      <td>1</td>\n",
              "    </tr>\n",
              "    <tr>\n",
              "      <th>150</th>\n",
              "      <td>2015-02-02 14:29:00</td>\n",
              "      <td>23.7450</td>\n",
              "      <td>26.445</td>\n",
              "      <td>481.500000</td>\n",
              "      <td>815.250000</td>\n",
              "      <td>0.004809</td>\n",
              "      <td>1</td>\n",
              "    </tr>\n",
              "    <tr>\n",
              "      <th>151</th>\n",
              "      <td>2015-02-02 14:30:00</td>\n",
              "      <td>23.7000</td>\n",
              "      <td>26.560</td>\n",
              "      <td>481.800000</td>\n",
              "      <td>824.000000</td>\n",
              "      <td>0.004817</td>\n",
              "      <td>1</td>\n",
              "    </tr>\n",
              "    <tr>\n",
              "      <th>152</th>\n",
              "      <td>2015-02-02 14:31:00</td>\n",
              "      <td>23.7000</td>\n",
              "      <td>26.600</td>\n",
              "      <td>475.250000</td>\n",
              "      <td>832.000000</td>\n",
              "      <td>0.004824</td>\n",
              "      <td>1</td>\n",
              "    </tr>\n",
              "    <tr>\n",
              "      <th>153</th>\n",
              "      <td>2015-02-02 14:31:59</td>\n",
              "      <td>23.7000</td>\n",
              "      <td>26.700</td>\n",
              "      <td>469.000000</td>\n",
              "      <td>845.333333</td>\n",
              "      <td>0.004842</td>\n",
              "      <td>1</td>\n",
              "    </tr>\n",
              "    <tr>\n",
              "      <th>154</th>\n",
              "      <td>2015-02-02 14:32:59</td>\n",
              "      <td>23.7000</td>\n",
              "      <td>26.774</td>\n",
              "      <td>464.000000</td>\n",
              "      <td>852.400000</td>\n",
              "      <td>0.004856</td>\n",
              "      <td>1</td>\n",
              "    </tr>\n",
              "  </tbody>\n",
              "</table>\n",
              "</div>\n",
              "      <button class=\"colab-df-convert\" onclick=\"convertToInteractive('df-6a51fe90-7c64-4aec-9dac-161f1911060a')\"\n",
              "              title=\"Convert this dataframe to an interactive table.\"\n",
              "              style=\"display:none;\">\n",
              "        \n",
              "  <svg xmlns=\"http://www.w3.org/2000/svg\" height=\"24px\"viewBox=\"0 0 24 24\"\n",
              "       width=\"24px\">\n",
              "    <path d=\"M0 0h24v24H0V0z\" fill=\"none\"/>\n",
              "    <path d=\"M18.56 5.44l.94 2.06.94-2.06 2.06-.94-2.06-.94-.94-2.06-.94 2.06-2.06.94zm-11 1L8.5 8.5l.94-2.06 2.06-.94-2.06-.94L8.5 2.5l-.94 2.06-2.06.94zm10 10l.94 2.06.94-2.06 2.06-.94-2.06-.94-.94-2.06-.94 2.06-2.06.94z\"/><path d=\"M17.41 7.96l-1.37-1.37c-.4-.4-.92-.59-1.43-.59-.52 0-1.04.2-1.43.59L10.3 9.45l-7.72 7.72c-.78.78-.78 2.05 0 2.83L4 21.41c.39.39.9.59 1.41.59.51 0 1.02-.2 1.41-.59l7.78-7.78 2.81-2.81c.8-.78.8-2.07 0-2.86zM5.41 20L4 18.59l7.72-7.72 1.47 1.35L5.41 20z\"/>\n",
              "  </svg>\n",
              "      </button>\n",
              "      \n",
              "  <style>\n",
              "    .colab-df-container {\n",
              "      display:flex;\n",
              "      flex-wrap:wrap;\n",
              "      gap: 12px;\n",
              "    }\n",
              "\n",
              "    .colab-df-convert {\n",
              "      background-color: #E8F0FE;\n",
              "      border: none;\n",
              "      border-radius: 50%;\n",
              "      cursor: pointer;\n",
              "      display: none;\n",
              "      fill: #1967D2;\n",
              "      height: 32px;\n",
              "      padding: 0 0 0 0;\n",
              "      width: 32px;\n",
              "    }\n",
              "\n",
              "    .colab-df-convert:hover {\n",
              "      background-color: #E2EBFA;\n",
              "      box-shadow: 0px 1px 2px rgba(60, 64, 67, 0.3), 0px 1px 3px 1px rgba(60, 64, 67, 0.15);\n",
              "      fill: #174EA6;\n",
              "    }\n",
              "\n",
              "    [theme=dark] .colab-df-convert {\n",
              "      background-color: #3B4455;\n",
              "      fill: #D2E3FC;\n",
              "    }\n",
              "\n",
              "    [theme=dark] .colab-df-convert:hover {\n",
              "      background-color: #434B5C;\n",
              "      box-shadow: 0px 1px 3px 1px rgba(0, 0, 0, 0.15);\n",
              "      filter: drop-shadow(0px 1px 2px rgba(0, 0, 0, 0.3));\n",
              "      fill: #FFFFFF;\n",
              "    }\n",
              "  </style>\n",
              "\n",
              "      <script>\n",
              "        const buttonEl =\n",
              "          document.querySelector('#df-6a51fe90-7c64-4aec-9dac-161f1911060a button.colab-df-convert');\n",
              "        buttonEl.style.display =\n",
              "          google.colab.kernel.accessAllowed ? 'block' : 'none';\n",
              "\n",
              "        async function convertToInteractive(key) {\n",
              "          const element = document.querySelector('#df-6a51fe90-7c64-4aec-9dac-161f1911060a');\n",
              "          const dataTable =\n",
              "            await google.colab.kernel.invokeFunction('convertToInteractive',\n",
              "                                                     [key], {});\n",
              "          if (!dataTable) return;\n",
              "\n",
              "          const docLinkHtml = 'Like what you see? Visit the ' +\n",
              "            '<a target=\"_blank\" href=https://colab.research.google.com/notebooks/data_table.ipynb>data table notebook</a>'\n",
              "            + ' to learn more about interactive tables.';\n",
              "          element.innerHTML = '';\n",
              "          dataTable['output_type'] = 'display_data';\n",
              "          await google.colab.output.renderOutput(dataTable, element);\n",
              "          const docLink = document.createElement('div');\n",
              "          docLink.innerHTML = docLinkHtml;\n",
              "          element.appendChild(docLink);\n",
              "        }\n",
              "      </script>\n",
              "    </div>\n",
              "  </div>\n",
              "  "
            ]
          },
          "metadata": {},
          "execution_count": 2
        }
      ]
    },
    {
      "cell_type": "code",
      "metadata": {
        "id": "ZR2BCi6PDkdV",
        "colab": {
          "base_uri": "https://localhost:8080/"
        },
        "outputId": "949ab37e-23c6-4356-fe78-d06b402b5850"
      },
      "source": [
        "# count of occupancy\n",
        "df['Occupancy'].value_counts() # not perfectly balanced, but that's OK"
      ],
      "execution_count": null,
      "outputs": [
        {
          "output_type": "execute_result",
          "data": {
            "text/plain": [
              "0    1693\n",
              "1     972\n",
              "Name: Occupancy, dtype: int64"
            ]
          },
          "metadata": {},
          "execution_count": 3
        }
      ]
    },
    {
      "cell_type": "code",
      "metadata": {
        "id": "1wkzRQuLh9HH",
        "colab": {
          "base_uri": "https://localhost:8080/",
          "height": 265
        },
        "outputId": "4d310f53-aaab-49da-d9b4-71745b62e4a1"
      },
      "source": [
        "# visualize the data\n",
        "df['Occupancy'].plot()\n",
        "plt.show()"
      ],
      "execution_count": null,
      "outputs": [
        {
          "output_type": "display_data",
          "data": {
            "text/plain": [
              "<Figure size 432x288 with 1 Axes>"
            ],
            "image/png": "[encoded data removed]"
          },
          "metadata": {
            "needs_background": "light"
          }
        }
      ]
    },
    {
      "cell_type": "code",
      "metadata": {
        "id": "N7QOxLwQD0bh",
        "colab": {
          "base_uri": "https://localhost:8080/",
          "height": 265
        },
        "outputId": "e89e4682-62ba-4736-a5c0-947019fe4517"
      },
      "source": [
        "# visualize the data\n",
        "df['CO2'].plot()\n",
        "plt.show()"
      ],
      "execution_count": null,
      "outputs": [
        {
          "output_type": "display_data",
          "data": {
            "text/plain": [
              "<Figure size 432x288 with 1 Axes>"
            ],
            "image/png": "[encoded data removed]"
          },
          "metadata": {
            "needs_background": "light"
          }
        }
      ]
    },
    {
      "cell_type": "code",
      "metadata": {
        "id": "b_0hVUAuEiMD",
        "colab": {
          "base_uri": "https://localhost:8080/",
          "height": 223
        },
        "outputId": "9a8ecff4-be64-4bf5-9fec-910a722ce05d"
      },
      "source": [
        "# drop the date column\n",
        "df.drop(['date'], inplace=True, axis=1)\n",
        "print(df.shape)\n",
        "df.head()"
      ],
      "execution_count": null,
      "outputs": [
        {
          "output_type": "stream",
          "name": "stdout",
          "text": [
            "(2665, 6)\n"
          ]
        },
        {
          "output_type": "execute_result",
          "data": {
            "text/plain": [
              "     Temperature  Humidity       Light         CO2  HumidityRatio  Occupancy\n",
              "140      23.7000    26.272  585.200000  749.200000       0.004764          1\n",
              "141      23.7180    26.290  578.400000  760.400000       0.004773          1\n",
              "142      23.7300    26.230  572.666667  769.666667       0.004765          1\n",
              "143      23.7225    26.125  493.750000  774.750000       0.004744          1\n",
              "144      23.7540    26.200  488.600000  779.000000       0.004767          1"
            ],
            "text/html": [
              "\n",
              "  <div id=\"df-aebdd139-e99f-4654-b8bd-ce2fb8a78c9e\">\n",
              "    <div class=\"colab-df-container\">\n",
              "      <div>\n",
              "<style scoped>\n",
              "    .dataframe tbody tr th:only-of-type {\n",
              "        vertical-align: middle;\n",
              "    }\n",
              "\n",
              "    .dataframe tbody tr th {\n",
              "        vertical-align: top;\n",
              "    }\n",
              "\n",
              "    .dataframe thead th {\n",
              "        text-align: right;\n",
              "    }\n",
              "</style>\n",
              "<table border=\"1\" class=\"dataframe\">\n",
              "  <thead>\n",
              "    <tr style=\"text-align: right;\">\n",
              "      <th></th>\n",
              "      <th>Temperature</th>\n",
              "      <th>Humidity</th>\n",
              "      <th>Light</th>\n",
              "      <th>CO2</th>\n",
              "      <th>HumidityRatio</th>\n",
              "      <th>Occupancy</th>\n",
              "    </tr>\n",
              "  </thead>\n",
              "  <tbody>\n",
              "    <tr>\n",
              "      <th>140</th>\n",
              "      <td>23.7000</td>\n",
              "      <td>26.272</td>\n",
              "      <td>585.200000</td>\n",
              "      <td>749.200000</td>\n",
              "      <td>0.004764</td>\n",
              "      <td>1</td>\n",
              "    </tr>\n",
              "    <tr>\n",
              "      <th>141</th>\n",
              "      <td>23.7180</td>\n",
              "      <td>26.290</td>\n",
              "      <td>578.400000</td>\n",
              "      <td>760.400000</td>\n",
              "      <td>0.004773</td>\n",
              "      <td>1</td>\n",
              "    </tr>\n",
              "    <tr>\n",
              "      <th>142</th>\n",
              "      <td>23.7300</td>\n",
              "      <td>26.230</td>\n",
              "      <td>572.666667</td>\n",
              "      <td>769.666667</td>\n",
              "      <td>0.004765</td>\n",
              "      <td>1</td>\n",
              "    </tr>\n",
              "    <tr>\n",
              "      <th>143</th>\n",
              "      <td>23.7225</td>\n",
              "      <td>26.125</td>\n",
              "      <td>493.750000</td>\n",
              "      <td>774.750000</td>\n",
              "      <td>0.004744</td>\n",
              "      <td>1</td>\n",
              "    </tr>\n",
              "    <tr>\n",
              "      <th>144</th>\n",
              "      <td>23.7540</td>\n",
              "      <td>26.200</td>\n",
              "      <td>488.600000</td>\n",
              "      <td>779.000000</td>\n",
              "      <td>0.004767</td>\n",
              "      <td>1</td>\n",
              "    </tr>\n",
              "  </tbody>\n",
              "</table>\n",
              "</div>\n",
              "      <button class=\"colab-df-convert\" onclick=\"convertToInteractive('df-aebdd139-e99f-4654-b8bd-ce2fb8a78c9e')\"\n",
              "              title=\"Convert this dataframe to an interactive table.\"\n",
              "              style=\"display:none;\">\n",
              "        \n",
              "  <svg xmlns=\"http://www.w3.org/2000/svg\" height=\"24px\"viewBox=\"0 0 24 24\"\n",
              "       width=\"24px\">\n",
              "    <path d=\"M0 0h24v24H0V0z\" fill=\"none\"/>\n",
              "    <path d=\"M18.56 5.44l.94 2.06.94-2.06 2.06-.94-2.06-.94-.94-2.06-.94 2.06-2.06.94zm-11 1L8.5 8.5l.94-2.06 2.06-.94-2.06-.94L8.5 2.5l-.94 2.06-2.06.94zm10 10l.94 2.06.94-2.06 2.06-.94-2.06-.94-.94-2.06-.94 2.06-2.06.94z\"/><path d=\"M17.41 7.96l-1.37-1.37c-.4-.4-.92-.59-1.43-.59-.52 0-1.04.2-1.43.59L10.3 9.45l-7.72 7.72c-.78.78-.78 2.05 0 2.83L4 21.41c.39.39.9.59 1.41.59.51 0 1.02-.2 1.41-.59l7.78-7.78 2.81-2.81c.8-.78.8-2.07 0-2.86zM5.41 20L4 18.59l7.72-7.72 1.47 1.35L5.41 20z\"/>\n",
              "  </svg>\n",
              "      </button>\n",
              "      \n",
              "  <style>\n",
              "    .colab-df-container {\n",
              "      display:flex;\n",
              "      flex-wrap:wrap;\n",
              "      gap: 12px;\n",
              "    }\n",
              "\n",
              "    .colab-df-convert {\n",
              "      background-color: #E8F0FE;\n",
              "      border: none;\n",
              "      border-radius: 50%;\n",
              "      cursor: pointer;\n",
              "      display: none;\n",
              "      fill: #1967D2;\n",
              "      height: 32px;\n",
              "      padding: 0 0 0 0;\n",
              "      width: 32px;\n",
              "    }\n",
              "\n",
              "    .colab-df-convert:hover {\n",
              "      background-color: #E2EBFA;\n",
              "      box-shadow: 0px 1px 2px rgba(60, 64, 67, 0.3), 0px 1px 3px 1px rgba(60, 64, 67, 0.15);\n",
              "      fill: #174EA6;\n",
              "    }\n",
              "\n",
              "    [theme=dark] .colab-df-convert {\n",
              "      background-color: #3B4455;\n",
              "      fill: #D2E3FC;\n",
              "    }\n",
              "\n",
              "    [theme=dark] .colab-df-convert:hover {\n",
              "      background-color: #434B5C;\n",
              "      box-shadow: 0px 1px 3px 1px rgba(0, 0, 0, 0.15);\n",
              "      filter: drop-shadow(0px 1px 2px rgba(0, 0, 0, 0.3));\n",
              "      fill: #FFFFFF;\n",
              "    }\n",
              "  </style>\n",
              "\n",
              "      <script>\n",
              "        const buttonEl =\n",
              "          document.querySelector('#df-aebdd139-e99f-4654-b8bd-ce2fb8a78c9e button.colab-df-convert');\n",
              "        buttonEl.style.display =\n",
              "          google.colab.kernel.accessAllowed ? 'block' : 'none';\n",
              "\n",
              "        async function convertToInteractive(key) {\n",
              "          const element = document.querySelector('#df-aebdd139-e99f-4654-b8bd-ce2fb8a78c9e');\n",
              "          const dataTable =\n",
              "            await google.colab.kernel.invokeFunction('convertToInteractive',\n",
              "                                                     [key], {});\n",
              "          if (!dataTable) return;\n",
              "\n",
              "          const docLinkHtml = 'Like what you see? Visit the ' +\n",
              "            '<a target=\"_blank\" href=https://colab.research.google.com/notebooks/data_table.ipynb>data table notebook</a>'\n",
              "            + ' to learn more about interactive tables.';\n",
              "          element.innerHTML = '';\n",
              "          dataTable['output_type'] = 'display_data';\n",
              "          await google.colab.output.renderOutput(dataTable, element);\n",
              "          const docLink = document.createElement('div');\n",
              "          docLink.innerHTML = docLinkHtml;\n",
              "          element.appendChild(docLink);\n",
              "        }\n",
              "      </script>\n",
              "    </div>\n",
              "  </div>\n",
              "  "
            ]
          },
          "metadata": {},
          "execution_count": 6
        }
      ]
    },
    {
      "cell_type": "code",
      "metadata": {
        "id": "Jw7spRoqWeUd"
      },
      "source": [
        "# prep data for modeling (multivariate)\n",
        "# link: https://machinelearningmastery.com/how-to-develop-lstm-models-for-time-series-forecasting/\n",
        "\n",
        "from numpy import array\n",
        "\n",
        "# split a multivariate sequence into samples\n",
        "def split_sequences(sequences, n_steps):\n",
        "\tX, y = list(), list()\n",
        "\tfor i in np.arange(len(sequences)): # be careful of this line!\n",
        "\t\t# find the end of this pattern\n",
        "\t\tend_ix = i + n_steps\n",
        "\t\t# check if we are beyond the dataset\n",
        "\t\tif end_ix > len(sequences):\n",
        "\t\t\tbreak\n",
        "\t\t# gather input and output parts of the pattern\n",
        "\t\tseq_x, seq_y = sequences[i:end_ix, :-1], sequences[end_ix-1, -1]\n",
        "\t\tX.append(seq_x)\n",
        "\t\ty.append(seq_y)\n",
        "\treturn np.array(X), np.array(y)"
      ],
      "execution_count": null,
      "outputs": []
    },
    {
      "cell_type": "code",
      "metadata": {
        "id": "AChwFXAM-dQB"
      },
      "source": [
        "# we could split our data first, normalize it, then create sequences"
      ],
      "execution_count": null,
      "outputs": []
    },
    {
      "cell_type": "code",
      "metadata": {
        "id": "-dFtHS7AWqx1"
      },
      "source": [
        "# all we need to do is decide on is n_steps (what our lookback period is)\n",
        "# since we have a bunch of data, why not n_steps=10? then try 30 later on.\n",
        "n_steps = 50\n",
        "raw_seq = np.array(df) #make sure your data is stored as a numpy array!\n",
        "# let's ignore the date column and just use the temperature data\n",
        "X, y = split_sequences(raw_seq, n_steps=50)"
      ],
      "execution_count": null,
      "outputs": []
    },
    {
      "cell_type": "code",
      "metadata": {
        "id": "1n0T5Z9GXNfg",
        "colab": {
          "base_uri": "https://localhost:8080/"
        },
        "outputId": "722d4fc0-7a55-4127-b5a8-20706ecfe67c"
      },
      "source": [
        "# take a peak at what it did\n",
        "print(X.shape)\n",
        "print(y.shape)\n",
        "\n",
        "# scroll up and make sure you understand this!\n",
        "# y is a function of X (the previous n_steps observations!)"
      ],
      "execution_count": null,
      "outputs": [
        {
          "output_type": "stream",
          "name": "stdout",
          "text": [
            "(2616, 50, 5)\n",
            "(2616,)\n"
          ]
        }
      ]
    },
    {
      "cell_type": "code",
      "metadata": {
        "id": "BeyWNLEvX3bU"
      },
      "source": [
        "# split the data into train and test partitions\n",
        "# we will use 50% of the data for train, and 50% for validation\n",
        "train_pct_index = int(0.5 * len(X))\n",
        "X_train, X_test = X[:train_pct_index], X[train_pct_index:]\n",
        "y_train, y_test = y[:train_pct_index], y[train_pct_index:]\n",
        "\n",
        "# pretty slick way of splitting your data using slicing!\n",
        "# notice how we didn't do any shuffling (we don't want temporal leakage! keeps time series intact)"
      ],
      "execution_count": null,
      "outputs": []
    },
    {
      "cell_type": "code",
      "metadata": {
        "id": "Gaoc3yH8ZFh5",
        "colab": {
          "base_uri": "https://localhost:8080/"
        },
        "outputId": "3c91e8ab-5f24-4e5a-d2ce-9769bbc8a7c4"
      },
      "source": [
        "# check the shape to be sure\n",
        "print(X.shape, X_train.shape, X_test.shape)\n",
        "print(y.shape, y_train.shape, y_test.shape)\n",
        "\n",
        "# verify that this all adds up!\n",
        "# 2635 samples with 30 lookback and 6 columns"
      ],
      "execution_count": null,
      "outputs": [
        {
          "output_type": "stream",
          "name": "stdout",
          "text": [
            "(2616, 50, 5) (1308, 50, 5) (1308, 50, 5)\n",
            "(2616,) (1308,) (1308,)\n"
          ]
        }
      ]
    },
    {
      "cell_type": "markdown",
      "metadata": {
        "id": "cX72vY7_ki3K"
      },
      "source": [
        "# RNN one layer model (with conv2d and pooling!)\n",
        "With Conv1D and MaxPooling1D... don't forget that input shape needs to go in the first layer!"
      ]
    },
    {
      "cell_type": "code",
      "metadata": {
        "id": "Xi0oaQCtFtVZ",
        "colab": {
          "base_uri": "https://localhost:8080/"
        },
        "outputId": "473af262-68c3-4e7e-cb8c-5ead6ecdba6b"
      },
      "source": [
        "n_steps = X_train.shape[1] # lookback\n",
        "n_features = X_train.shape[2] # columns\n",
        "\n",
        "print(n_steps, n_features)"
      ],
      "execution_count": null,
      "outputs": [
        {
          "output_type": "stream",
          "name": "stdout",
          "text": [
            "50 5\n"
          ]
        }
      ]
    },
    {
      "cell_type": "code",
      "metadata": {
        "id": "myOKFkDdkria",
        "colab": {
          "base_uri": "https://localhost:8080/"
        },
        "outputId": "2bb5a5a5-9dfa-4573-b584-07bfa08d9994"
      },
      "source": [
        "# now let's build a model\n",
        "\n",
        "# define\n",
        "n_steps = X_train.shape[1]\n",
        "n_features = X_train.shape[2]\n",
        "\n",
        "\n",
        "# define model\n",
        "model = Sequential()\n",
        "model.add(Conv1D(filters=32, kernel_size=3, input_shape=(n_steps,n_features))) # notice how input shape goes in first layer\n",
        "model.add(MaxPooling1D(2))\n",
        "model.add(SimpleRNN(30, activation='relu', recurrent_dropout=0.2))\n",
        "model.add(Dense(1, activation='sigmoid'))\n",
        "model.compile(optimizer='adam', loss='binary_crossentropy',metrics=['acc'])\n",
        "model.summary()\n",
        "\n",
        "es = EarlyStopping(monitor='val_acc', mode='max',\n",
        "                   patience=10,\n",
        "                   verbose=1,\n",
        "                   restore_best_weights=True)\n",
        "\n",
        "# fit model (uses early stopping)\n",
        "model.fit(X_train, y_train,\n",
        "          epochs=500,\n",
        "          batch_size=5,\n",
        "          validation_split=0.2, # val is a random 20% of the data since we set shuffle = True\n",
        "          verbose=1,\n",
        "          callbacks=[es],\n",
        "          shuffle=True)"
      ],
      "execution_count": null,
      "outputs": [
        {
          "output_type": "stream",
          "name": "stdout",
          "text": [
            "Model: \"sequential\"\n",
            "_________________________________________________________________\n",
            " Layer (type)                Output Shape              Param #   \n",
            "=================================================================\n",
            " conv1d (Conv1D)             (None, 48, 32)            512       \n",
            "                                                                 \n",
            " max_pooling1d (MaxPooling1D  (None, 24, 32)           0         \n",
            " )                                                               \n",
            "                                                                 \n",
            " simple_rnn (SimpleRNN)      (None, 30)                1890      \n",
            "                                                                 \n",
            " dense (Dense)               (None, 1)                 31        \n",
            "                                                                 \n",
            "=================================================================\n",
            "Total params: 2,433\n",
            "Trainable params: 2,433\n",
            "Non-trainable params: 0\n",
            "_________________________________________________________________\n",
            "Epoch 1/500\n",
            "210/210 [==============================] - 3s 6ms/step - loss: 8.4112 - acc: 0.8891 - val_loss: 0.9397 - val_acc: 0.9771\n",
            "Epoch 2/500\n",
            "210/210 [==============================] - 2s 9ms/step - loss: 0.7765 - acc: 0.9484 - val_loss: 0.9185 - val_acc: 0.9771\n",
            "Epoch 3/500\n",
            "210/210 [==============================] - 2s 8ms/step - loss: 0.4870 - acc: 0.9541 - val_loss: 0.3990 - val_acc: 0.9771\n",
            "Epoch 4/500\n",
            "210/210 [==============================] - 2s 11ms/step - loss: 0.2673 - acc: 0.9570 - val_loss: 0.1503 - val_acc: 0.9771\n",
            "Epoch 5/500\n",
            "210/210 [==============================] - 2s 10ms/step - loss: 0.1256 - acc: 0.9685 - val_loss: 0.1537 - val_acc: 0.9771\n",
            "Epoch 6/500\n",
            "210/210 [==============================] - 2s 9ms/step - loss: 0.1043 - acc: 0.9618 - val_loss: 0.1588 - val_acc: 0.9771\n",
            "Epoch 7/500\n",
            "210/210 [==============================] - 2s 10ms/step - loss: 0.1316 - acc: 0.9579 - val_loss: 0.1670 - val_acc: 0.9771\n",
            "Epoch 8/500\n",
            "210/210 [==============================] - 2s 8ms/step - loss: 0.1060 - acc: 0.9627 - val_loss: 0.1224 - val_acc: 0.9771\n",
            "Epoch 9/500\n",
            "210/210 [==============================] - 1s 5ms/step - loss: 0.0883 - acc: 0.9713 - val_loss: 0.1084 - val_acc: 0.9771\n",
            "Epoch 10/500\n",
            "210/210 [==============================] - 1s 5ms/step - loss: 0.0887 - acc: 0.9713 - val_loss: 0.1310 - val_acc: 0.9771\n",
            "Epoch 11/500\n",
            "202/210 [===========================>..] - ETA: 0s - loss: 0.0898 - acc: 0.9693Restoring model weights from the end of the best epoch: 1.\n",
            "210/210 [==============================] - 1s 4ms/step - loss: 0.0874 - acc: 0.9704 - val_loss: 0.1160 - val_acc: 0.9771\n",
            "Epoch 11: early stopping\n"
          ]
        },
        {
          "output_type": "execute_result",
          "data": {
            "text/plain": [
              "<keras.callbacks.History at 0x7fd090cf9d90>"
            ]
          },
          "metadata": {},
          "execution_count": 14
        }
      ]
    },
    {
      "cell_type": "code",
      "metadata": {
        "id": "9UMXrw9FuPiU",
        "colab": {
          "base_uri": "https://localhost:8080/"
        },
        "outputId": "64acf034-6bca-4053-8c79-3dd4f566f0b4"
      },
      "source": [
        "# show scatterplots of actual vs. predicted for train and test\n",
        "# make a prediction\n",
        "pred = model.predict(X_test)# the pred\n",
        "print(pred) # round them!\n",
        "\n",
        "pred = np.round(pred,0)\n",
        "pred # run all if you get an error..."
      ],
      "execution_count": null,
      "outputs": [
        {
          "output_type": "stream",
          "name": "stdout",
          "text": [
            "41/41 [==============================] - 0s 2ms/step\n",
            "[[1.]\n",
            " [1.]\n",
            " [1.]\n",
            " ...\n",
            " [1.]\n",
            " [1.]\n",
            " [1.]]\n"
          ]
        },
        {
          "output_type": "execute_result",
          "data": {
            "text/plain": [
              "array([[1.],\n",
              "       [1.],\n",
              "       [1.],\n",
              "       ...,\n",
              "       [1.],\n",
              "       [1.],\n",
              "       [1.]], dtype=float32)"
            ]
          },
          "metadata": {},
          "execution_count": 15
        }
      ]
    },
    {
      "cell_type": "code",
      "metadata": {
        "id": "mcwJluWMzHw4",
        "colab": {
          "base_uri": "https://localhost:8080/"
        },
        "outputId": "37f5fdb2-23a7-428c-e991-e4b0f7f6050c"
      },
      "source": [
        "# confusion matrix\n",
        "from sklearn.metrics import confusion_matrix\n",
        "from sklearn.metrics import classification_report\n",
        "print(confusion_matrix(y_test, pred)) # looks pretty good!\n",
        "print(classification_report(y_test, pred))"
      ],
      "execution_count": null,
      "outputs": [
        {
          "output_type": "stream",
          "name": "stdout",
          "text": [
            "[[810  39]\n",
            " [  2 457]]\n",
            "              precision    recall  f1-score   support\n",
            "\n",
            "         0.0       1.00      0.95      0.98       849\n",
            "         1.0       0.92      1.00      0.96       459\n",
            "\n",
            "    accuracy                           0.97      1308\n",
            "   macro avg       0.96      0.97      0.97      1308\n",
            "weighted avg       0.97      0.97      0.97      1308\n",
            "\n"
          ]
        }
      ]
    },
    {
      "cell_type": "code",
      "metadata": {
        "id": "aVsrYzuoyqvu",
        "colab": {
          "base_uri": "https://localhost:8080/",
          "height": 308
        },
        "outputId": "eabe284f-a49a-4aeb-decb-afc5d209bbe9"
      },
      "source": [
        "# show timeseries plot on the train and validation data\n",
        "plt.plot(np.arange(X_test.shape[0]), y_test, color='blue') # actual data\n",
        "plt.plot(np.arange(X_test.shape[0]), pred, color='red') # predicted data\n",
        "plt.suptitle('Test Results')\n",
        "plt.xlabel('Time')\n",
        "plt.ylabel('Occupied')\n",
        "plt.show()"
      ],
      "execution_count": null,
      "outputs": [
        {
          "output_type": "display_data",
          "data": {
            "text/plain": [
              "<Figure size 432x288 with 1 Axes>"
            ],
            "image/png": "[encoded data removed]"
          },
          "metadata": {
            "needs_background": "light"
          }
        }
      ]
    },
    {
      "cell_type": "code",
      "metadata": {
        "id": "NRVMLMNBzhIt",
        "colab": {
          "base_uri": "https://localhost:8080/",
          "height": 759
        },
        "outputId": "65d2aab4-b4f2-41a1-f23c-ca591a736f44"
      },
      "source": [
        "# put it all together for other models\n",
        "\n",
        "# make a prediction\n",
        "pred = model.predict(X_test)# the pred\n",
        "print(pred) # round them!\n",
        "\n",
        "pred = np.round(pred,0)\n",
        "print(pred) # run all if you get an error...\n",
        "\n",
        "# confusion matrix - put this at the top!\n",
        "from sklearn.metrics import confusion_matrix\n",
        "from sklearn.metrics import classification_report\n",
        "print(confusion_matrix(y_test, pred)) # looks pretty good!\n",
        "print(classification_report(y_test, pred))\n",
        "\n",
        "# show timeseries plot on the train and validation data\n",
        "plt.plot(np.arange(X_test.shape[0]), y_test, color='blue') # actual data\n",
        "plt.plot(np.arange(X_test.shape[0]), pred, color='red') # predicted data\n",
        "plt.suptitle('Test Results')\n",
        "plt.xlabel('Time')\n",
        "plt.ylabel('Occupied')\n",
        "plt.show()"
      ],
      "execution_count": null,
      "outputs": [
        {
          "output_type": "stream",
          "name": "stdout",
          "text": [
            "41/41 [==============================] - 0s 2ms/step\n",
            "[[1.]\n",
            " [1.]\n",
            " [1.]\n",
            " ...\n",
            " [1.]\n",
            " [1.]\n",
            " [1.]]\n",
            "[[1.]\n",
            " [1.]\n",
            " [1.]\n",
            " ...\n",
            " [1.]\n",
            " [1.]\n",
            " [1.]]\n",
            "[[810  39]\n",
            " [  2 457]]\n",
            "              precision    recall  f1-score   support\n",
            "\n",
            "         0.0       1.00      0.95      0.98       849\n",
            "         1.0       0.92      1.00      0.96       459\n",
            "\n",
            "    accuracy                           0.97      1308\n",
            "   macro avg       0.96      0.97      0.97      1308\n",
            "weighted avg       0.97      0.97      0.97      1308\n",
            "\n"
          ]
        },
        {
          "output_type": "display_data",
          "data": {
            "text/plain": [
              "<Figure size 432x288 with 1 Axes>"
            ],
            "image/png": "[encoded data removed]"
          },
          "metadata": {
            "needs_background": "light"
          }
        }
      ]
    },
    {
      "cell_type": "markdown",
      "metadata": {
        "id": "i47ktcqOklwq"
      },
      "source": [
        "# RNN two layer model\n",
        "Don't forget to set return_sequences=True!"
      ]
    },
    {
      "cell_type": "code",
      "metadata": {
        "id": "hIbyvYJJmWNZ",
        "colab": {
          "base_uri": "https://localhost:8080/"
        },
        "outputId": "0adcff5d-58f8-49ab-e3b8-8944d2d39ae8"
      },
      "source": [
        "# now let's build a model\n",
        "\n",
        "# define\n",
        "n_steps = X_train.shape[1]\n",
        "n_features = X_train.shape[2]\n",
        "\n",
        "\n",
        "# define model\n",
        "model = Sequential()\n",
        "model.add(Conv1D(filters=32, kernel_size=3, input_shape=(n_steps,n_features))) # notice how input shape goes in first layer\n",
        "model.add(MaxPooling1D(2))\n",
        "model.add(Bidirectional(SimpleRNN(30, return_sequences=True, recurrent_dropout=0.2))) # don't forget to return_sequences!\n",
        "model.add(Bidirectional(SimpleRNN(30, recurrent_dropout=0.2)))\n",
        "model.add(Dropout(0.2))\n",
        "model.add(Dense(1, activation='sigmoid'))\n",
        "model.compile(optimizer='adam', loss='binary_crossentropy',metrics=['acc'])\n",
        "model.summary()\n",
        "\n",
        "es = EarlyStopping(monitor='val_acc', mode='max',\n",
        "                   patience=10,\n",
        "                   verbose=1,\n",
        "                   restore_best_weights=True)\n",
        "\n",
        "# fit model (uses early stopping)\n",
        "model.fit(X_train, y_train,\n",
        "          epochs=500,\n",
        "          batch_size=5,\n",
        "          validation_split=0.2, # val is a random 20% of the data since we set shuffle = True\n",
        "          verbose=1,\n",
        "          callbacks=[es],\n",
        "          shuffle=True)"
      ],
      "execution_count": null,
      "outputs": [
        {
          "output_type": "stream",
          "name": "stdout",
          "text": [
            "Model: \"sequential_1\"\n",
            "_________________________________________________________________\n",
            " Layer (type)                Output Shape              Param #   \n",
            "=================================================================\n",
            " conv1d_1 (Conv1D)           (None, 48, 32)            512       \n",
            "                                                                 \n",
            " max_pooling1d_1 (MaxPooling  (None, 24, 32)           0         \n",
            " 1D)                                                             \n",
            "                                                                 \n",
            " bidirectional (Bidirectiona  (None, 24, 60)           3780      \n",
            " l)                                                              \n",
            "                                                                 \n",
            " bidirectional_1 (Bidirectio  (None, 60)               5460      \n",
            " nal)                                                            \n",
            "                                                                 \n",
            " dropout (Dropout)           (None, 60)                0         \n",
            "                                                                 \n",
            " dense_1 (Dense)             (None, 1)                 61        \n",
            "                                                                 \n",
            "=================================================================\n",
            "Total params: 9,813\n",
            "Trainable params: 9,813\n",
            "Non-trainable params: 0\n",
            "_________________________________________________________________\n",
            "Epoch 1/500\n",
            "210/210 [==============================] - 5s 14ms/step - loss: 0.1634 - acc: 0.9493 - val_loss: 0.1838 - val_acc: 0.9771\n",
            "Epoch 2/500\n",
            "210/210 [==============================] - 3s 12ms/step - loss: 0.1032 - acc: 0.9713 - val_loss: 0.1763 - val_acc: 0.9771\n",
            "Epoch 3/500\n",
            "210/210 [==============================] - 3s 12ms/step - loss: 0.0980 - acc: 0.9694 - val_loss: 0.1523 - val_acc: 0.9771\n",
            "Epoch 4/500\n",
            "210/210 [==============================] - 2s 12ms/step - loss: 0.1014 - acc: 0.9723 - val_loss: 0.1299 - val_acc: 0.9771\n",
            "Epoch 5/500\n",
            "210/210 [==============================] - 5s 22ms/step - loss: 0.0959 - acc: 0.9713 - val_loss: 0.1333 - val_acc: 0.9771\n",
            "Epoch 6/500\n",
            "210/210 [==============================] - 3s 17ms/step - loss: 0.0961 - acc: 0.9713 - val_loss: 0.1667 - val_acc: 0.9771\n",
            "Epoch 7/500\n",
            "210/210 [==============================] - 4s 18ms/step - loss: 0.0925 - acc: 0.9732 - val_loss: 0.1889 - val_acc: 0.9771\n",
            "Epoch 8/500\n",
            "210/210 [==============================] - 3s 12ms/step - loss: 0.0930 - acc: 0.9723 - val_loss: 0.1677 - val_acc: 0.9771\n",
            "Epoch 9/500\n",
            "210/210 [==============================] - 3s 12ms/step - loss: 0.0944 - acc: 0.9694 - val_loss: 0.1238 - val_acc: 0.9771\n",
            "Epoch 10/500\n",
            "210/210 [==============================] - 3s 15ms/step - loss: 0.0947 - acc: 0.9723 - val_loss: 0.2244 - val_acc: 0.9771\n",
            "Epoch 11/500\n",
            "210/210 [==============================] - ETA: 0s - loss: 0.0917 - acc: 0.9713Restoring model weights from the end of the best epoch: 1.\n",
            "210/210 [==============================] - 7s 34ms/step - loss: 0.0917 - acc: 0.9713 - val_loss: 0.1486 - val_acc: 0.9771\n",
            "Epoch 11: early stopping\n"
          ]
        },
        {
          "output_type": "execute_result",
          "data": {
            "text/plain": [
              "<keras.callbacks.History at 0x7fd090a8b990>"
            ]
          },
          "metadata": {},
          "execution_count": 19
        }
      ]
    },
    {
      "cell_type": "code",
      "metadata": {
        "id": "eK-TvprvuOLA",
        "colab": {
          "base_uri": "https://localhost:8080/",
          "height": 759
        },
        "outputId": "ed4cea77-ad15-43ee-fa9f-f4f40b53de2d"
      },
      "source": [
        "# put it all together for other models\n",
        "\n",
        "# make a prediction\n",
        "pred = model.predict(X_test)# the pred\n",
        "print(pred) # round them!\n",
        "\n",
        "pred = np.round(pred,0)\n",
        "print(pred) # run all if you get an error...\n",
        "\n",
        "# confusion matrix - put this at the top!\n",
        "from sklearn.metrics import confusion_matrix\n",
        "from sklearn.metrics import classification_report\n",
        "print(confusion_matrix(y_test, pred)) # looks pretty good!\n",
        "print(classification_report(y_test, pred))\n",
        "\n",
        "# show timeseries plot on the train and validation data\n",
        "plt.plot(np.arange(X_test.shape[0]), y_test, color='blue') # actual data\n",
        "plt.plot(np.arange(X_test.shape[0]), pred, color='red') # predicted data\n",
        "plt.suptitle('Test Results')\n",
        "plt.xlabel('Time')\n",
        "plt.ylabel('Occupied')\n",
        "plt.show()"
      ],
      "execution_count": null,
      "outputs": [
        {
          "output_type": "stream",
          "name": "stdout",
          "text": [
            "41/41 [==============================] - 1s 4ms/step\n",
            "[[0.8689231]\n",
            " [0.8689231]\n",
            " [0.8689231]\n",
            " ...\n",
            " [0.8689231]\n",
            " [0.8689231]\n",
            " [0.8689231]]\n",
            "[[1.]\n",
            " [1.]\n",
            " [1.]\n",
            " ...\n",
            " [1.]\n",
            " [1.]\n",
            " [1.]]\n",
            "[[824  25]\n",
            " [  7 452]]\n",
            "              precision    recall  f1-score   support\n",
            "\n",
            "         0.0       0.99      0.97      0.98       849\n",
            "         1.0       0.95      0.98      0.97       459\n",
            "\n",
            "    accuracy                           0.98      1308\n",
            "   macro avg       0.97      0.98      0.97      1308\n",
            "weighted avg       0.98      0.98      0.98      1308\n",
            "\n"
          ]
        },
        {
          "output_type": "display_data",
          "data": {
            "text/plain": [
              "<Figure size 432x288 with 1 Axes>"
            ],
            "image/png": "[encoded data removed]"
          },
          "metadata": {
            "needs_background": "light"
          }
        }
      ]
    },
    {
      "cell_type": "markdown",
      "metadata": {
        "id": "Q0rv8MOAnKMu"
      },
      "source": [
        "# LSTM one layer model\n",
        "Literally, just grab the code above and change SimpleRNN to LSTM and boom! you have a more sophisticated model."
      ]
    },
    {
      "cell_type": "code",
      "metadata": {
        "id": "kQFjiq4xnTPc",
        "colab": {
          "base_uri": "https://localhost:8080/"
        },
        "outputId": "3b24e173-c11c-4e52-bc7e-b1398cfda3a3"
      },
      "source": [
        "# define shape\n",
        "n_steps = X_train.shape[1]\n",
        "n_features = X_train.shape[2]\n",
        "\n",
        "\n",
        "# define model\n",
        "model = Sequential()\n",
        "model.add(Conv1D(filters=32, kernel_size=3, input_shape=(n_steps,n_features))) # notice how input shape goes in first layer\n",
        "model.add(MaxPooling1D())\n",
        "model.add(LSTM(30, activation='relu'))\n",
        "model.add(Dense(1, activation='sigmoid'))\n",
        "model.compile(optimizer='adam', loss='binary_crossentropy',metrics=['acc'])\n",
        "model.summary()\n",
        "\n",
        "es = EarlyStopping(monitor='val_acc', mode='max',\n",
        "                   patience=10,\n",
        "                   verbose=1,\n",
        "                   restore_best_weights=True)\n",
        "\n",
        "# fit model (uses early stopping)\n",
        "model.fit(X_train, y_train,\n",
        "          epochs=500,\n",
        "          batch_size=5,\n",
        "          validation_split=0.2, # val is a random 20% of the data since we set shuffle = True\n",
        "          verbose=1,\n",
        "          callbacks=[es],\n",
        "          shuffle=True)"
      ],
      "execution_count": null,
      "outputs": [
        {
          "output_type": "stream",
          "name": "stdout",
          "text": [
            "Model: \"sequential_2\"\n",
            "_________________________________________________________________\n",
            " Layer (type)                Output Shape              Param #   \n",
            "=================================================================\n",
            " conv1d_2 (Conv1D)           (None, 48, 32)            512       \n",
            "                                                                 \n",
            " max_pooling1d_2 (MaxPooling  (None, 24, 32)           0         \n",
            " 1D)                                                             \n",
            "                                                                 \n",
            " lstm (LSTM)                 (None, 30)                7560      \n",
            "                                                                 \n",
            " dense_2 (Dense)             (None, 1)                 31        \n",
            "                                                                 \n",
            "=================================================================\n",
            "Total params: 8,103\n",
            "Trainable params: 8,103\n",
            "Non-trainable params: 0\n",
            "_________________________________________________________________\n",
            "Epoch 1/500\n",
            "210/210 [==============================] - 3s 8ms/step - loss: 16.9076 - acc: 0.5583 - val_loss: 48.6332 - val_acc: 0.2901\n",
            "Epoch 2/500\n",
            "210/210 [==============================] - 1s 7ms/step - loss: 10.6427 - acc: 0.8375 - val_loss: 35.2180 - val_acc: 0.4389\n",
            "Epoch 3/500\n",
            "210/210 [==============================] - 1s 6ms/step - loss: 6.4016 - acc: 0.8681 - val_loss: 23.7842 - val_acc: 0.4351\n",
            "Epoch 4/500\n",
            "210/210 [==============================] - 2s 9ms/step - loss: 4.1660 - acc: 0.8681 - val_loss: 13.3419 - val_acc: 0.4618\n",
            "Epoch 5/500\n",
            "210/210 [==============================] - 2s 7ms/step - loss: 2.0726 - acc: 0.8690 - val_loss: 5.6514 - val_acc: 0.4809\n",
            "Epoch 6/500\n",
            "210/210 [==============================] - 2s 9ms/step - loss: 0.7308 - acc: 0.8757 - val_loss: 1.7833 - val_acc: 0.5153\n",
            "Epoch 7/500\n",
            "210/210 [==============================] - 1s 6ms/step - loss: 0.5603 - acc: 0.8757 - val_loss: 1.9432 - val_acc: 0.5038\n",
            "Epoch 8/500\n",
            "210/210 [==============================] - 1s 7ms/step - loss: 0.5501 - acc: 0.8738 - val_loss: 1.8531 - val_acc: 0.5153\n",
            "Epoch 9/500\n",
            "210/210 [==============================] - 1s 6ms/step - loss: 0.5358 - acc: 0.8767 - val_loss: 1.7223 - val_acc: 0.5191\n",
            "Epoch 10/500\n",
            "210/210 [==============================] - 1s 6ms/step - loss: 0.5260 - acc: 0.8767 - val_loss: 1.7617 - val_acc: 0.5191\n",
            "Epoch 11/500\n",
            "210/210 [==============================] - 2s 8ms/step - loss: 0.5154 - acc: 0.8767 - val_loss: 1.8212 - val_acc: 0.5229\n",
            "Epoch 12/500\n",
            "210/210 [==============================] - 1s 6ms/step - loss: 0.5057 - acc: 0.8757 - val_loss: 1.6083 - val_acc: 0.5344\n",
            "Epoch 13/500\n",
            "210/210 [==============================] - 1s 6ms/step - loss: 0.4928 - acc: 0.8767 - val_loss: 1.9010 - val_acc: 0.5115\n",
            "Epoch 14/500\n",
            "210/210 [==============================] - 1s 6ms/step - loss: 0.4824 - acc: 0.8757 - val_loss: 1.8146 - val_acc: 0.5153\n",
            "Epoch 15/500\n",
            "210/210 [==============================] - 1s 6ms/step - loss: 0.4775 - acc: 0.8757 - val_loss: 1.6480 - val_acc: 0.5153\n",
            "Epoch 16/500\n",
            "210/210 [==============================] - 1s 6ms/step - loss: 0.4668 - acc: 0.8767 - val_loss: 1.6424 - val_acc: 0.5191\n",
            "Epoch 17/500\n",
            "210/210 [==============================] - 1s 7ms/step - loss: 0.4582 - acc: 0.8757 - val_loss: 1.7043 - val_acc: 0.5191\n",
            "Epoch 18/500\n",
            "210/210 [==============================] - 1s 7ms/step - loss: 0.4486 - acc: 0.8776 - val_loss: 1.5730 - val_acc: 0.5420\n",
            "Epoch 19/500\n",
            "210/210 [==============================] - 1s 7ms/step - loss: 0.6213 - acc: 0.8795 - val_loss: 31.3456 - val_acc: 0.5878\n",
            "Epoch 20/500\n",
            "210/210 [==============================] - 1s 7ms/step - loss: 1.4755 - acc: 0.8939 - val_loss: 8.9746 - val_acc: 0.7824\n",
            "Epoch 21/500\n",
            "210/210 [==============================] - 1s 7ms/step - loss: 0.2853 - acc: 0.9704 - val_loss: 10.0663 - val_acc: 0.9198\n",
            "Epoch 22/500\n",
            "210/210 [==============================] - 1s 6ms/step - loss: 0.2727 - acc: 0.9704 - val_loss: 8.4790 - val_acc: 0.9427\n",
            "Epoch 23/500\n",
            "210/210 [==============================] - 1s 7ms/step - loss: 0.2018 - acc: 0.9704 - val_loss: 8.3755 - val_acc: 0.9466\n",
            "Epoch 24/500\n",
            "210/210 [==============================] - 1s 7ms/step - loss: 0.1761 - acc: 0.9713 - val_loss: 7.6567 - val_acc: 0.9466\n",
            "Epoch 25/500\n",
            "210/210 [==============================] - 1s 7ms/step - loss: 0.1600 - acc: 0.9713 - val_loss: 7.2887 - val_acc: 0.9466\n",
            "Epoch 26/500\n",
            "210/210 [==============================] - 1s 7ms/step - loss: 0.1364 - acc: 0.9723 - val_loss: 7.0670 - val_acc: 0.9427\n",
            "Epoch 27/500\n",
            "210/210 [==============================] - 1s 7ms/step - loss: 0.1288 - acc: 0.9704 - val_loss: 7.4690 - val_acc: 0.9466\n",
            "Epoch 28/500\n",
            "210/210 [==============================] - 1s 6ms/step - loss: 0.1154 - acc: 0.9723 - val_loss: 7.3003 - val_acc: 0.9427\n",
            "Epoch 29/500\n",
            "210/210 [==============================] - 1s 6ms/step - loss: 0.1025 - acc: 0.9713 - val_loss: 7.0866 - val_acc: 0.9427\n",
            "Epoch 30/500\n",
            "210/210 [==============================] - 1s 6ms/step - loss: 0.0963 - acc: 0.9713 - val_loss: 6.7555 - val_acc: 0.9427\n",
            "Epoch 31/500\n",
            "210/210 [==============================] - 1s 7ms/step - loss: 0.0936 - acc: 0.9713 - val_loss: 7.1102 - val_acc: 0.9427\n",
            "Epoch 32/500\n",
            "210/210 [==============================] - 1s 7ms/step - loss: 0.1010 - acc: 0.9732 - val_loss: 6.9175 - val_acc: 0.9427\n",
            "Epoch 33/500\n",
            "204/210 [============================>.] - ETA: 0s - loss: 0.0864 - acc: 0.9735Restoring model weights from the end of the best epoch: 23.\n",
            "210/210 [==============================] - 1s 7ms/step - loss: 0.0865 - acc: 0.9732 - val_loss: 6.7977 - val_acc: 0.9427\n",
            "Epoch 33: early stopping\n"
          ]
        },
        {
          "output_type": "execute_result",
          "data": {
            "text/plain": [
              "<keras.callbacks.History at 0x7fd08e01cb90>"
            ]
          },
          "metadata": {},
          "execution_count": 21
        }
      ]
    },
    {
      "cell_type": "code",
      "metadata": {
        "id": "Tr8HOv4CuM_f",
        "colab": {
          "base_uri": "https://localhost:8080/",
          "height": 759
        },
        "outputId": "b5428bdc-71ea-4984-c88d-fd928f3d750c"
      },
      "source": [
        "# put it all together for other models\n",
        "\n",
        "# make a prediction\n",
        "pred = model.predict(X_test)# the pred\n",
        "print(pred) # round them!\n",
        "\n",
        "pred = np.round(pred,0)\n",
        "print(pred) # run all if you get an error...\n",
        "\n",
        "# confusion matrix - put this at the top!\n",
        "from sklearn.metrics import confusion_matrix\n",
        "from sklearn.metrics import classification_report\n",
        "print(confusion_matrix(y_test, pred)) # looks pretty good!\n",
        "print(classification_report(y_test, pred))\n",
        "\n",
        "# show timeseries plot on the train and validation data\n",
        "plt.plot(np.arange(X_test.shape[0]), y_test, color='blue') # actual data\n",
        "plt.plot(np.arange(X_test.shape[0]), pred, color='red') # predicted data\n",
        "plt.suptitle('Test Results')\n",
        "plt.xlabel('Time')\n",
        "plt.ylabel('Occupied')\n",
        "plt.show()"
      ],
      "execution_count": null,
      "outputs": [
        {
          "output_type": "stream",
          "name": "stdout",
          "text": [
            "41/41 [==============================] - 0s 2ms/step\n",
            "[[1.]\n",
            " [1.]\n",
            " [1.]\n",
            " ...\n",
            " [1.]\n",
            " [1.]\n",
            " [1.]]\n",
            "[[1.]\n",
            " [1.]\n",
            " [1.]\n",
            " ...\n",
            " [1.]\n",
            " [1.]\n",
            " [1.]]\n",
            "[[804  45]\n",
            " [ 15 444]]\n",
            "              precision    recall  f1-score   support\n",
            "\n",
            "         0.0       0.98      0.95      0.96       849\n",
            "         1.0       0.91      0.97      0.94       459\n",
            "\n",
            "    accuracy                           0.95      1308\n",
            "   macro avg       0.94      0.96      0.95      1308\n",
            "weighted avg       0.96      0.95      0.95      1308\n",
            "\n"
          ]
        },
        {
          "output_type": "display_data",
          "data": {
            "text/plain": [
              "<Figure size 432x288 with 1 Axes>"
            ],
            "image/png": "[encoded data removed]"
          },
          "metadata": {
            "needs_background": "light"
          }
        }
      ]
    },
    {
      "cell_type": "markdown",
      "metadata": {
        "id": "lEBaoE-7kK3W"
      },
      "source": [
        "# LSTM two layer model"
      ]
    },
    {
      "cell_type": "code",
      "metadata": {
        "id": "2a1NuOw6XeZt",
        "colab": {
          "base_uri": "https://localhost:8080/"
        },
        "outputId": "0d02dddf-d92d-454b-baf3-ac06647e7cf6"
      },
      "source": [
        "# now let's build a model\n",
        "\n",
        "# since this is a univariate problem, n_features will be 1 (we also defined this before)\n",
        "\n",
        "# define model\n",
        "model = Sequential()\n",
        "model.add(Conv1D(filters=128, kernel_size=3, input_shape=(n_steps,n_features))) # notice how input shape goes in first layer\n",
        "model.add(MaxPooling1D(2))\n",
        "model.add(Bidirectional(LSTM(30,\n",
        "                            return_sequences=True, # remember, if stacking layers, you need to return sequences!\n",
        "                            activation='relu',\n",
        "                            recurrent_dropout=0.2)))\n",
        "model.add(GRU(20, activation='relu'))\n",
        "model.add(Dropout(0.1))\n",
        "model.add(Dense(1, activation='sigmoid'))\n",
        "model.compile(optimizer='adam', loss='binary_crossentropy',metrics=['acc'])\n",
        "model.summary()\n",
        "\n",
        "es = EarlyStopping(monitor='val_acc', mode='max',\n",
        "                   patience=10,\n",
        "                   verbose=1,\n",
        "                   restore_best_weights=True)\n",
        "\n",
        "# fit model (uses early stopping)\n",
        "model.fit(X_train, y_train,\n",
        "          epochs=500,\n",
        "          batch_size=5,\n",
        "          validation_split=0.2, # val is a random 20% of the data since we set shuffle = True\n",
        "          verbose=1,\n",
        "          callbacks=[es],\n",
        "          shuffle=True)"
      ],
      "execution_count": null,
      "outputs": [
        {
          "output_type": "stream",
          "name": "stdout",
          "text": [
            "Model: \"sequential_3\"\n",
            "_________________________________________________________________\n",
            " Layer (type)                Output Shape              Param #   \n",
            "=================================================================\n",
            " conv1d_3 (Conv1D)           (None, 48, 128)           2048      \n",
            "                                                                 \n",
            " max_pooling1d_3 (MaxPooling  (None, 24, 128)          0         \n",
            " 1D)                                                             \n",
            "                                                                 \n",
            " bidirectional_2 (Bidirectio  (None, 24, 60)           38160     \n",
            " nal)                                                            \n",
            "                                                                 \n",
            " gru (GRU)                   (None, 20)                4920      \n",
            "                                                                 \n",
            " dropout_1 (Dropout)         (None, 20)                0         \n",
            "                                                                 \n",
            " dense_3 (Dense)             (None, 1)                 21        \n",
            "                                                                 \n",
            "=================================================================\n",
            "Total params: 45,149\n",
            "Trainable params: 45,149\n",
            "Non-trainable params: 0\n",
            "_________________________________________________________________\n",
            "Epoch 1/500\n",
            "210/210 [==============================] - 11s 31ms/step - loss: 28.8112 - acc: 0.7008 - val_loss: 0.1618 - val_acc: 0.9771\n",
            "Epoch 2/500\n",
            "210/210 [==============================] - 6s 29ms/step - loss: 3.8595 - acc: 0.8834 - val_loss: 0.1678 - val_acc: 0.9771\n",
            "Epoch 3/500\n",
            "210/210 [==============================] - 6s 29ms/step - loss: 3.2049 - acc: 0.9197 - val_loss: 0.1573 - val_acc: 0.9771\n",
            "Epoch 4/500\n",
            "210/210 [==============================] - 6s 31ms/step - loss: 10.1966 - acc: 0.8155 - val_loss: 1.0539 - val_acc: 0.9771\n",
            "Epoch 5/500\n",
            "210/210 [==============================] - 6s 30ms/step - loss: 1.6753 - acc: 0.9101 - val_loss: 0.2668 - val_acc: 0.9771\n",
            "Epoch 6/500\n",
            "210/210 [==============================] - 8s 37ms/step - loss: 0.7438 - acc: 0.9312 - val_loss: 0.2219 - val_acc: 0.9771\n",
            "Epoch 7/500\n",
            "210/210 [==============================] - 6s 29ms/step - loss: 0.7345 - acc: 0.8709 - val_loss: 0.5452 - val_acc: 0.6985\n",
            "Epoch 8/500\n",
            "210/210 [==============================] - 6s 29ms/step - loss: 0.2111 - acc: 0.8719 - val_loss: 0.5191 - val_acc: 0.9771\n",
            "Epoch 9/500\n",
            "210/210 [==============================] - 6s 28ms/step - loss: 0.1980 - acc: 0.9015 - val_loss: 0.3071 - val_acc: 0.9771\n",
            "Epoch 10/500\n",
            "210/210 [==============================] - 6s 29ms/step - loss: 0.1884 - acc: 0.8977 - val_loss: 0.2736 - val_acc: 0.9771\n",
            "Epoch 11/500\n",
            "210/210 [==============================] - ETA: 0s - loss: 0.1754 - acc: 0.8891Restoring model weights from the end of the best epoch: 1.\n",
            "210/210 [==============================] - 6s 29ms/step - loss: 0.1754 - acc: 0.8891 - val_loss: 0.3463 - val_acc: 0.9771\n",
            "Epoch 11: early stopping\n"
          ]
        },
        {
          "output_type": "execute_result",
          "data": {
            "text/plain": [
              "<keras.callbacks.History at 0x7fd08dcca150>"
            ]
          },
          "metadata": {},
          "execution_count": 23
        }
      ]
    },
    {
      "cell_type": "code",
      "metadata": {
        "id": "QV11PFhKao5d",
        "colab": {
          "base_uri": "https://localhost:8080/",
          "height": 759
        },
        "outputId": "83762e04-7338-4e48-a5a2-024e359ca7f2"
      },
      "source": [
        "# put it all together for other models\n",
        "\n",
        "# make a prediction\n",
        "pred = model.predict(X_test)# the pred\n",
        "print(pred) # round them!\n",
        "\n",
        "pred = np.round(pred,0)\n",
        "print(pred) # run all if you get an error...\n",
        "\n",
        "# confusion matrix - put this at the top!\n",
        "from sklearn.metrics import confusion_matrix\n",
        "from sklearn.metrics import classification_report\n",
        "print(confusion_matrix(y_test, pred)) # looks pretty good!\n",
        "print(classification_report(y_test, pred))\n",
        "\n",
        "# show timeseries plot on the train and validation data\n",
        "plt.plot(np.arange(X_test.shape[0]), y_test, color='blue') # actual data\n",
        "plt.plot(np.arange(X_test.shape[0]), pred, color='red') # predicted data\n",
        "plt.suptitle('Test Results')\n",
        "plt.xlabel('Time')\n",
        "plt.ylabel('Occupied')\n",
        "plt.show()"
      ],
      "execution_count": null,
      "outputs": [
        {
          "output_type": "stream",
          "name": "stdout",
          "text": [
            "41/41 [==============================] - 1s 7ms/step\n",
            "[[0.997527  ]\n",
            " [0.99746627]\n",
            " [0.9973637 ]\n",
            " ...\n",
            " [0.9981714 ]\n",
            " [0.99817127]\n",
            " [0.998096  ]]\n",
            "[[1.]\n",
            " [1.]\n",
            " [1.]\n",
            " ...\n",
            " [1.]\n",
            " [1.]\n",
            " [1.]]\n",
            "[[834  15]\n",
            " [228 231]]\n",
            "              precision    recall  f1-score   support\n",
            "\n",
            "         0.0       0.79      0.98      0.87       849\n",
            "         1.0       0.94      0.50      0.66       459\n",
            "\n",
            "    accuracy                           0.81      1308\n",
            "   macro avg       0.86      0.74      0.76      1308\n",
            "weighted avg       0.84      0.81      0.80      1308\n",
            "\n"
          ]
        },
        {
          "output_type": "display_data",
          "data": {
            "text/plain": [
              "<Figure size 432x288 with 1 Axes>"
            ],
            "image/png": "[encoded data removed]"
          },
          "metadata": {
            "needs_background": "light"
          }
        }
      ]
    }
  ]
}