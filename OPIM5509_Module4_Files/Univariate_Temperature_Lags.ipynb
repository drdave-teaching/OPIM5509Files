{
  "nbformat": 4,
  "nbformat_minor": 0,
  "metadata": {
    "colab": {
      "provenance": []
    },
    "kernelspec": {
      "name": "python3",
      "display_name": "Python 3"
    }
  },
  "cells": [
    {
      "cell_type": "markdown",
      "source": [
        "[![Open In Colab](https://colab.research.google.com/assets/colab-badge.svg)](https://colab.research.google.com/github/drdave-teaching/OPIM5509Files/blob/main/OPIM5509_Module4_Files/Univariate_Temperature_Lags.ipynb)"
      ],
      "metadata": {
        "id": "YdIQKO6LTdOQ"
      }
    },
    {
      "cell_type": "markdown",
      "metadata": {
        "id": "qHm6AVNVWGUd"
      },
      "source": [
        "# Univariate Temperature Example (Lags/Window Method)\n",
        "--------------------------------------------------\n",
        "**Dr. Dave Wanik - University of Connecticut**\n",
        "\n",
        "Let's see if we can predict the temperature as a function of N previous days."
      ]
    },
    {
      "cell_type": "code",
      "metadata": {
        "id": "e79dX394WFyg"
      },
      "source": [
        "# standard modules\n",
        "import numpy as np\n",
        "import pandas as pd\n",
        "import matplotlib.pyplot as plt\n",
        "\n",
        "# RNN-specific modules\n",
        "from sklearn.preprocessing import MinMaxScaler\n",
        "from sklearn.metrics import classification_report,accuracy_score\n",
        "from tensorflow.keras import layers, Sequential\n",
        "from tensorflow.keras.layers import Conv1D, MaxPooling1D\n",
        "from tensorflow.keras.layers import Dense, Dropout, SimpleRNN, GRU, LSTM\n",
        "from tensorflow.keras.callbacks import EarlyStopping"
      ],
      "execution_count": 1,
      "outputs": []
    },
    {
      "cell_type": "markdown",
      "metadata": {
        "id": "Nrmaa3nQhj26"
      },
      "source": [
        "## Read in data\n",
        "Check for missing values, make some plots."
      ]
    },
    {
      "cell_type": "code",
      "metadata": {
        "id": "Xeb0Lq88WTtg",
        "colab": {
          "base_uri": "https://localhost:8080/",
          "height": 693
        },
        "outputId": "3e2b54f2-dae3-462f-cd53-5399620fce86"
      },
      "source": [
        "# Dataset initially sourced from jbrownlee’s GitHub repository:\n",
        "# url = 'https://raw.githubusercontent.com/jbrownlee/Datasets/master/daily-min-temperatures.csv'\n",
        "# Link to the data file on Github\n",
        "url = \"https://raw.githubusercontent.com/drdave-teaching/OPIM5509Files/refs/heads/main/OPIM5509_Module4_Files/daily-min-temperatures.csv\"\n",
        "\n",
        "# read the data\n",
        "df = pd.read_csv(url)\n",
        "print(df.info())\n",
        "df.head(n=15) # nice complete data! this will allow us to check our work later"
      ],
      "execution_count": null,
      "outputs": [
        {
          "output_type": "stream",
          "name": "stdout",
          "text": [
            "<class 'pandas.core.frame.DataFrame'>\n",
            "RangeIndex: 3650 entries, 0 to 3649\n",
            "Data columns (total 2 columns):\n",
            " #   Column  Non-Null Count  Dtype  \n",
            "---  ------  --------------  -----  \n",
            " 0   Date    3650 non-null   object \n",
            " 1   Temp    3650 non-null   float64\n",
            "dtypes: float64(1), object(1)\n",
            "memory usage: 57.2+ KB\n",
            "None\n"
          ]
        },
        {
          "output_type": "execute_result",
          "data": {
            "text/plain": [
              "          Date  Temp\n",
              "0   1981-01-01  20.7\n",
              "1   1981-01-02  17.9\n",
              "2   1981-01-03  18.8\n",
              "3   1981-01-04  14.6\n",
              "4   1981-01-05  15.8\n",
              "5   1981-01-06  15.8\n",
              "6   1981-01-07  15.8\n",
              "7   1981-01-08  17.4\n",
              "8   1981-01-09  21.8\n",
              "9   1981-01-10  20.0\n",
              "10  1981-01-11  16.2\n",
              "11  1981-01-12  13.3\n",
              "12  1981-01-13  16.7\n",
              "13  1981-01-14  21.5\n",
              "14  1981-01-15  25.0"
            ],
            "text/html": [
              "\n",
              "  <div id=\"df-5fda7b86-ce94-40f3-85a3-e928111d7440\">\n",
              "    <div class=\"colab-df-container\">\n",
              "      <div>\n",
              "<style scoped>\n",
              "    .dataframe tbody tr th:only-of-type {\n",
              "        vertical-align: middle;\n",
              "    }\n",
              "\n",
              "    .dataframe tbody tr th {\n",
              "        vertical-align: top;\n",
              "    }\n",
              "\n",
              "    .dataframe thead th {\n",
              "        text-align: right;\n",
              "    }\n",
              "</style>\n",
              "<table border=\"1\" class=\"dataframe\">\n",
              "  <thead>\n",
              "    <tr style=\"text-align: right;\">\n",
              "      <th></th>\n",
              "      <th>Date</th>\n",
              "      <th>Temp</th>\n",
              "    </tr>\n",
              "  </thead>\n",
              "  <tbody>\n",
              "    <tr>\n",
              "      <th>0</th>\n",
              "      <td>1981-01-01</td>\n",
              "      <td>20.7</td>\n",
              "    </tr>\n",
              "    <tr>\n",
              "      <th>1</th>\n",
              "      <td>1981-01-02</td>\n",
              "      <td>17.9</td>\n",
              "    </tr>\n",
              "    <tr>\n",
              "      <th>2</th>\n",
              "      <td>1981-01-03</td>\n",
              "      <td>18.8</td>\n",
              "    </tr>\n",
              "    <tr>\n",
              "      <th>3</th>\n",
              "      <td>1981-01-04</td>\n",
              "      <td>14.6</td>\n",
              "    </tr>\n",
              "    <tr>\n",
              "      <th>4</th>\n",
              "      <td>1981-01-05</td>\n",
              "      <td>15.8</td>\n",
              "    </tr>\n",
              "    <tr>\n",
              "      <th>5</th>\n",
              "      <td>1981-01-06</td>\n",
              "      <td>15.8</td>\n",
              "    </tr>\n",
              "    <tr>\n",
              "      <th>6</th>\n",
              "      <td>1981-01-07</td>\n",
              "      <td>15.8</td>\n",
              "    </tr>\n",
              "    <tr>\n",
              "      <th>7</th>\n",
              "      <td>1981-01-08</td>\n",
              "      <td>17.4</td>\n",
              "    </tr>\n",
              "    <tr>\n",
              "      <th>8</th>\n",
              "      <td>1981-01-09</td>\n",
              "      <td>21.8</td>\n",
              "    </tr>\n",
              "    <tr>\n",
              "      <th>9</th>\n",
              "      <td>1981-01-10</td>\n",
              "      <td>20.0</td>\n",
              "    </tr>\n",
              "    <tr>\n",
              "      <th>10</th>\n",
              "      <td>1981-01-11</td>\n",
              "      <td>16.2</td>\n",
              "    </tr>\n",
              "    <tr>\n",
              "      <th>11</th>\n",
              "      <td>1981-01-12</td>\n",
              "      <td>13.3</td>\n",
              "    </tr>\n",
              "    <tr>\n",
              "      <th>12</th>\n",
              "      <td>1981-01-13</td>\n",
              "      <td>16.7</td>\n",
              "    </tr>\n",
              "    <tr>\n",
              "      <th>13</th>\n",
              "      <td>1981-01-14</td>\n",
              "      <td>21.5</td>\n",
              "    </tr>\n",
              "    <tr>\n",
              "      <th>14</th>\n",
              "      <td>1981-01-15</td>\n",
              "      <td>25.0</td>\n",
              "    </tr>\n",
              "  </tbody>\n",
              "</table>\n",
              "</div>\n",
              "      <button class=\"colab-df-convert\" onclick=\"convertToInteractive('df-5fda7b86-ce94-40f3-85a3-e928111d7440')\"\n",
              "              title=\"Convert this dataframe to an interactive table.\"\n",
              "              style=\"display:none;\">\n",
              "        \n",
              "  <svg xmlns=\"http://www.w3.org/2000/svg\" height=\"24px\"viewBox=\"0 0 24 24\"\n",
              "       width=\"24px\">\n",
              "    <path d=\"M0 0h24v24H0V0z\" fill=\"none\"/>\n",
              "    <path d=\"M18.56 5.44l.94 2.06.94-2.06 2.06-.94-2.06-.94-.94-2.06-.94 2.06-2.06.94zm-11 1L8.5 8.5l.94-2.06 2.06-.94-2.06-.94L8.5 2.5l-.94 2.06-2.06.94zm10 10l.94 2.06.94-2.06 2.06-.94-2.06-.94-.94-2.06-.94 2.06-2.06.94z\"/><path d=\"M17.41 7.96l-1.37-1.37c-.4-.4-.92-.59-1.43-.59-.52 0-1.04.2-1.43.59L10.3 9.45l-7.72 7.72c-.78.78-.78 2.05 0 2.83L4 21.41c.39.39.9.59 1.41.59.51 0 1.02-.2 1.41-.59l7.78-7.78 2.81-2.81c.8-.78.8-2.07 0-2.86zM5.41 20L4 18.59l7.72-7.72 1.47 1.35L5.41 20z\"/>\n",
              "  </svg>\n",
              "      </button>\n",
              "      \n",
              "  <style>\n",
              "    .colab-df-container {\n",
              "      display:flex;\n",
              "      flex-wrap:wrap;\n",
              "      gap: 12px;\n",
              "    }\n",
              "\n",
              "    .colab-df-convert {\n",
              "      background-color: #E8F0FE;\n",
              "      border: none;\n",
              "      border-radius: 50%;\n",
              "      cursor: pointer;\n",
              "      display: none;\n",
              "      fill: #1967D2;\n",
              "      height: 32px;\n",
              "      padding: 0 0 0 0;\n",
              "      width: 32px;\n",
              "    }\n",
              "\n",
              "    .colab-df-convert:hover {\n",
              "      background-color: #E2EBFA;\n",
              "      box-shadow: 0px 1px 2px rgba(60, 64, 67, 0.3), 0px 1px 3px 1px rgba(60, 64, 67, 0.15);\n",
              "      fill: #174EA6;\n",
              "    }\n",
              "\n",
              "    [theme=dark] .colab-df-convert {\n",
              "      background-color: #3B4455;\n",
              "      fill: #D2E3FC;\n",
              "    }\n",
              "\n",
              "    [theme=dark] .colab-df-convert:hover {\n",
              "      background-color: #434B5C;\n",
              "      box-shadow: 0px 1px 3px 1px rgba(0, 0, 0, 0.15);\n",
              "      filter: drop-shadow(0px 1px 2px rgba(0, 0, 0, 0.3));\n",
              "      fill: #FFFFFF;\n",
              "    }\n",
              "  </style>\n",
              "\n",
              "      <script>\n",
              "        const buttonEl =\n",
              "          document.querySelector('#df-5fda7b86-ce94-40f3-85a3-e928111d7440 button.colab-df-convert');\n",
              "        buttonEl.style.display =\n",
              "          google.colab.kernel.accessAllowed ? 'block' : 'none';\n",
              "\n",
              "        async function convertToInteractive(key) {\n",
              "          const element = document.querySelector('#df-5fda7b86-ce94-40f3-85a3-e928111d7440');\n",
              "          const dataTable =\n",
              "            await google.colab.kernel.invokeFunction('convertToInteractive',\n",
              "                                                     [key], {});\n",
              "          if (!dataTable) return;\n",
              "\n",
              "          const docLinkHtml = 'Like what you see? Visit the ' +\n",
              "            '<a target=\"_blank\" href=https://colab.research.google.com/notebooks/data_table.ipynb>data table notebook</a>'\n",
              "            + ' to learn more about interactive tables.';\n",
              "          element.innerHTML = '';\n",
              "          dataTable['output_type'] = 'display_data';\n",
              "          await google.colab.output.renderOutput(dataTable, element);\n",
              "          const docLink = document.createElement('div');\n",
              "          docLink.innerHTML = docLinkHtml;\n",
              "          element.appendChild(docLink);\n",
              "        }\n",
              "      </script>\n",
              "    </div>\n",
              "  </div>\n",
              "  "
            ]
          },
          "metadata": {},
          "execution_count": 2
        }
      ]
    },
    {
      "cell_type": "code",
      "metadata": {
        "id": "1wkzRQuLh9HH",
        "colab": {
          "base_uri": "https://localhost:8080/",
          "height": 265
        },
        "outputId": "60b02a6d-ad84-4589-a136-5a10ab092f56"
      },
      "source": [
        "# visualize the data\n",
        "df['Temp'].plot()\n",
        "plt.show()"
      ],
      "execution_count": null,
      "outputs": [
        {
          "output_type": "display_data",
          "data": {
            "text/plain": [
              "<Figure size 432x288 with 1 Axes>"
            ],
            "image/png": "[encoded data removed]"
          },
          "metadata": {
            "needs_background": "light"
          }
        }
      ]
    },
    {
      "cell_type": "code",
      "metadata": {
        "id": "Jw7spRoqWeUd"
      },
      "source": [
        "# univariate lags ('series_to_supervised')\n",
        "# link: https://machinelearningmastery.com/convert-time-series-supervised-learning-problem-python/\n",
        "\n",
        "from pandas import concat\n",
        "\n",
        "def series_to_supervised(data, n_in=1, n_out=1, dropnan=True):\n",
        "\t\"\"\"\n",
        "\tFrame a time series as a supervised learning dataset.\n",
        "\tArguments:\n",
        "\t\tdata: Sequence of observations as a list or NumPy array.\n",
        "\t\tn_in: Number of lag observations as input (X).\n",
        "\t\tn_out: Number of observations as output (y).\n",
        "\t\tdropnan: Boolean whether or not to drop rows with NaN values.\n",
        "\tReturns:\n",
        "\t\tPandas DataFrame of series framed for supervised learning.\n",
        "\t\"\"\"\n",
        "\tn_vars = 1 if type(data) is list else data.shape[1]\n",
        "\tdf = pd.DataFrame(data)\n",
        "\tcols, names = list(), list()\n",
        "\t# input sequence (t-n, ... t-1)\n",
        "\tfor i in range(n_in, 0, -1):\n",
        "\t\tcols.append(df.shift(i))\n",
        "\t\tnames += [('var%d(t-%d)' % (j+1, i)) for j in range(n_vars)]\n",
        "\t# forecast sequence (t, t+1, ... t+n)\n",
        "\tfor i in range(0, n_out):\n",
        "\t\tcols.append(df.shift(-i))\n",
        "\t\tif i == 0:\n",
        "\t\t\tnames += [('var%d(t)' % (j+1)) for j in range(n_vars)]\n",
        "\t\telse:\n",
        "\t\t\tnames += [('var%d(t+%d)' % (j+1, i)) for j in range(n_vars)]\n",
        "\t# put it all together\n",
        "\tagg = concat(cols, axis=1)\n",
        "\tagg.columns = names\n",
        "\t# drop rows with NaN values\n",
        "\tif dropnan:\n",
        "\t\tagg.dropna(inplace=True)\n",
        "\treturn agg"
      ],
      "execution_count": null,
      "outputs": []
    },
    {
      "cell_type": "code",
      "metadata": {
        "id": "b2287fiPN2Zi",
        "colab": {
          "base_uri": "https://localhost:8080/"
        },
        "outputId": "1581ed00-c635-47ec-b9a7-140463f06cdb"
      },
      "source": [
        "# here's what the code does for a lag of 1\n",
        "values = [x for x in range(10)]\n",
        "values"
      ],
      "execution_count": null,
      "outputs": [
        {
          "output_type": "execute_result",
          "data": {
            "text/plain": [
              "[0, 1, 2, 3, 4, 5, 6, 7, 8, 9]"
            ]
          },
          "metadata": {},
          "execution_count": 5
        }
      ]
    },
    {
      "cell_type": "code",
      "metadata": {
        "id": "u2B4snSy_GgN",
        "colab": {
          "base_uri": "https://localhost:8080/"
        },
        "outputId": "98c34d6e-9dc6-4499-d24f-f9c099c25d57"
      },
      "source": [
        "data = series_to_supervised(values, # the univariate dataset\n",
        "                            n_in=1, # this means how many previous lags do you want\n",
        "                            n_out=1) # this means how many steps ahead do you want to forecast (1 means current timestep)\n",
        "print(data)"
      ],
      "execution_count": null,
      "outputs": [
        {
          "output_type": "stream",
          "name": "stdout",
          "text": [
            "   var1(t-1)  var1(t)\n",
            "1        0.0        1\n",
            "2        1.0        2\n",
            "3        2.0        3\n",
            "4        3.0        4\n",
            "5        4.0        5\n",
            "6        5.0        6\n",
            "7        6.0        7\n",
            "8        7.0        8\n",
            "9        8.0        9\n"
          ]
        }
      ]
    },
    {
      "cell_type": "code",
      "metadata": {
        "id": "J2aIOjB0N6D2",
        "colab": {
          "base_uri": "https://localhost:8080/"
        },
        "outputId": "3f527bf1-bf89-4e0e-9dd3-6f595faa6cd0"
      },
      "source": [
        "# here's what the code does for a lag of 3\n",
        "values = [x for x in range(10)]\n",
        "data = series_to_supervised(values, # the univariate dataset\n",
        "                            n_in=3, # this means how many previous lags do you want\n",
        "                            n_out=1) # this means how many steps ahead do you want to forecast (1 means current timestep)\n",
        "print(data)"
      ],
      "execution_count": null,
      "outputs": [
        {
          "output_type": "stream",
          "name": "stdout",
          "text": [
            "   var1(t-3)  var1(t-2)  var1(t-1)  var1(t)\n",
            "3        0.0        1.0        2.0        3\n",
            "4        1.0        2.0        3.0        4\n",
            "5        2.0        3.0        4.0        5\n",
            "6        3.0        4.0        5.0        6\n",
            "7        4.0        5.0        6.0        7\n",
            "8        5.0        6.0        7.0        8\n",
            "9        6.0        7.0        8.0        9\n"
          ]
        }
      ]
    },
    {
      "cell_type": "code",
      "metadata": {
        "id": "yEvFXSzzOlMM",
        "colab": {
          "base_uri": "https://localhost:8080/",
          "height": 206
        },
        "outputId": "d9236244-f30f-497c-c0b4-ad8a88b7e0a3"
      },
      "source": [
        "tmp = df['Temp']\n",
        "tmp = pd.DataFrame(tmp)\n",
        "tmp.head()"
      ],
      "execution_count": null,
      "outputs": [
        {
          "output_type": "execute_result",
          "data": {
            "text/plain": [
              "   Temp\n",
              "0  20.7\n",
              "1  17.9\n",
              "2  18.8\n",
              "3  14.6\n",
              "4  15.8"
            ],
            "text/html": [
              "\n",
              "  <div id=\"df-9eb2c0b4-15d7-4641-87bb-744ed4d97adc\">\n",
              "    <div class=\"colab-df-container\">\n",
              "      <div>\n",
              "<style scoped>\n",
              "    .dataframe tbody tr th:only-of-type {\n",
              "        vertical-align: middle;\n",
              "    }\n",
              "\n",
              "    .dataframe tbody tr th {\n",
              "        vertical-align: top;\n",
              "    }\n",
              "\n",
              "    .dataframe thead th {\n",
              "        text-align: right;\n",
              "    }\n",
              "</style>\n",
              "<table border=\"1\" class=\"dataframe\">\n",
              "  <thead>\n",
              "    <tr style=\"text-align: right;\">\n",
              "      <th></th>\n",
              "      <th>Temp</th>\n",
              "    </tr>\n",
              "  </thead>\n",
              "  <tbody>\n",
              "    <tr>\n",
              "      <th>0</th>\n",
              "      <td>20.7</td>\n",
              "    </tr>\n",
              "    <tr>\n",
              "      <th>1</th>\n",
              "      <td>17.9</td>\n",
              "    </tr>\n",
              "    <tr>\n",
              "      <th>2</th>\n",
              "      <td>18.8</td>\n",
              "    </tr>\n",
              "    <tr>\n",
              "      <th>3</th>\n",
              "      <td>14.6</td>\n",
              "    </tr>\n",
              "    <tr>\n",
              "      <th>4</th>\n",
              "      <td>15.8</td>\n",
              "    </tr>\n",
              "  </tbody>\n",
              "</table>\n",
              "</div>\n",
              "      <button class=\"colab-df-convert\" onclick=\"convertToInteractive('df-9eb2c0b4-15d7-4641-87bb-744ed4d97adc')\"\n",
              "              title=\"Convert this dataframe to an interactive table.\"\n",
              "              style=\"display:none;\">\n",
              "        \n",
              "  <svg xmlns=\"http://www.w3.org/2000/svg\" height=\"24px\"viewBox=\"0 0 24 24\"\n",
              "       width=\"24px\">\n",
              "    <path d=\"M0 0h24v24H0V0z\" fill=\"none\"/>\n",
              "    <path d=\"M18.56 5.44l.94 2.06.94-2.06 2.06-.94-2.06-.94-.94-2.06-.94 2.06-2.06.94zm-11 1L8.5 8.5l.94-2.06 2.06-.94-2.06-.94L8.5 2.5l-.94 2.06-2.06.94zm10 10l.94 2.06.94-2.06 2.06-.94-2.06-.94-.94-2.06-.94 2.06-2.06.94z\"/><path d=\"M17.41 7.96l-1.37-1.37c-.4-.4-.92-.59-1.43-.59-.52 0-1.04.2-1.43.59L10.3 9.45l-7.72 7.72c-.78.78-.78 2.05 0 2.83L4 21.41c.39.39.9.59 1.41.59.51 0 1.02-.2 1.41-.59l7.78-7.78 2.81-2.81c.8-.78.8-2.07 0-2.86zM5.41 20L4 18.59l7.72-7.72 1.47 1.35L5.41 20z\"/>\n",
              "  </svg>\n",
              "      </button>\n",
              "      \n",
              "  <style>\n",
              "    .colab-df-container {\n",
              "      display:flex;\n",
              "      flex-wrap:wrap;\n",
              "      gap: 12px;\n",
              "    }\n",
              "\n",
              "    .colab-df-convert {\n",
              "      background-color: #E8F0FE;\n",
              "      border: none;\n",
              "      border-radius: 50%;\n",
              "      cursor: pointer;\n",
              "      display: none;\n",
              "      fill: #1967D2;\n",
              "      height: 32px;\n",
              "      padding: 0 0 0 0;\n",
              "      width: 32px;\n",
              "    }\n",
              "\n",
              "    .colab-df-convert:hover {\n",
              "      background-color: #E2EBFA;\n",
              "      box-shadow: 0px 1px 2px rgba(60, 64, 67, 0.3), 0px 1px 3px 1px rgba(60, 64, 67, 0.15);\n",
              "      fill: #174EA6;\n",
              "    }\n",
              "\n",
              "    [theme=dark] .colab-df-convert {\n",
              "      background-color: #3B4455;\n",
              "      fill: #D2E3FC;\n",
              "    }\n",
              "\n",
              "    [theme=dark] .colab-df-convert:hover {\n",
              "      background-color: #434B5C;\n",
              "      box-shadow: 0px 1px 3px 1px rgba(0, 0, 0, 0.15);\n",
              "      filter: drop-shadow(0px 1px 2px rgba(0, 0, 0, 0.3));\n",
              "      fill: #FFFFFF;\n",
              "    }\n",
              "  </style>\n",
              "\n",
              "      <script>\n",
              "        const buttonEl =\n",
              "          document.querySelector('#df-9eb2c0b4-15d7-4641-87bb-744ed4d97adc button.colab-df-convert');\n",
              "        buttonEl.style.display =\n",
              "          google.colab.kernel.accessAllowed ? 'block' : 'none';\n",
              "\n",
              "        async function convertToInteractive(key) {\n",
              "          const element = document.querySelector('#df-9eb2c0b4-15d7-4641-87bb-744ed4d97adc');\n",
              "          const dataTable =\n",
              "            await google.colab.kernel.invokeFunction('convertToInteractive',\n",
              "                                                     [key], {});\n",
              "          if (!dataTable) return;\n",
              "\n",
              "          const docLinkHtml = 'Like what you see? Visit the ' +\n",
              "            '<a target=\"_blank\" href=https://colab.research.google.com/notebooks/data_table.ipynb>data table notebook</a>'\n",
              "            + ' to learn more about interactive tables.';\n",
              "          element.innerHTML = '';\n",
              "          dataTable['output_type'] = 'display_data';\n",
              "          await google.colab.output.renderOutput(dataTable, element);\n",
              "          const docLink = document.createElement('div');\n",
              "          docLink.innerHTML = docLinkHtml;\n",
              "          element.appendChild(docLink);\n",
              "        }\n",
              "      </script>\n",
              "    </div>\n",
              "  </div>\n",
              "  "
            ]
          },
          "metadata": {},
          "execution_count": 8
        }
      ]
    },
    {
      "cell_type": "code",
      "metadata": {
        "id": "-dFtHS7AWqx1",
        "colab": {
          "base_uri": "https://localhost:8080/",
          "height": 206
        },
        "outputId": "bcbde988-1dc9-453e-a1d2-3d429ddeadd1"
      },
      "source": [
        "# now let's use is on our datasaet\n",
        "# let's use 10 lags (assume data is on a regular temporal scale)\n",
        "# make sure the input is a pandas dataframe!\n",
        "tmp = series_to_supervised(tmp, # the univariate dataset\n",
        "                            n_in=10, # this means how many previous lags do you want\n",
        "                            n_out=1)\n",
        "tmp.head()"
      ],
      "execution_count": null,
      "outputs": [
        {
          "output_type": "execute_result",
          "data": {
            "text/plain": [
              "    var1(t-10)  var1(t-9)  var1(t-8)  var1(t-7)  var1(t-6)  var1(t-5)  \\\n",
              "10        20.7       17.9       18.8       14.6       15.8       15.8   \n",
              "11        17.9       18.8       14.6       15.8       15.8       15.8   \n",
              "12        18.8       14.6       15.8       15.8       15.8       17.4   \n",
              "13        14.6       15.8       15.8       15.8       17.4       21.8   \n",
              "14        15.8       15.8       15.8       17.4       21.8       20.0   \n",
              "\n",
              "    var1(t-4)  var1(t-3)  var1(t-2)  var1(t-1)  var1(t)  \n",
              "10       15.8       17.4       21.8       20.0     16.2  \n",
              "11       17.4       21.8       20.0       16.2     13.3  \n",
              "12       21.8       20.0       16.2       13.3     16.7  \n",
              "13       20.0       16.2       13.3       16.7     21.5  \n",
              "14       16.2       13.3       16.7       21.5     25.0  "
            ],
            "text/html": [
              "\n",
              "  <div id=\"df-559e825d-7958-4241-8846-9d2916773161\">\n",
              "    <div class=\"colab-df-container\">\n",
              "      <div>\n",
              "<style scoped>\n",
              "    .dataframe tbody tr th:only-of-type {\n",
              "        vertical-align: middle;\n",
              "    }\n",
              "\n",
              "    .dataframe tbody tr th {\n",
              "        vertical-align: top;\n",
              "    }\n",
              "\n",
              "    .dataframe thead th {\n",
              "        text-align: right;\n",
              "    }\n",
              "</style>\n",
              "<table border=\"1\" class=\"dataframe\">\n",
              "  <thead>\n",
              "    <tr style=\"text-align: right;\">\n",
              "      <th></th>\n",
              "      <th>var1(t-10)</th>\n",
              "      <th>var1(t-9)</th>\n",
              "      <th>var1(t-8)</th>\n",
              "      <th>var1(t-7)</th>\n",
              "      <th>var1(t-6)</th>\n",
              "      <th>var1(t-5)</th>\n",
              "      <th>var1(t-4)</th>\n",
              "      <th>var1(t-3)</th>\n",
              "      <th>var1(t-2)</th>\n",
              "      <th>var1(t-1)</th>\n",
              "      <th>var1(t)</th>\n",
              "    </tr>\n",
              "  </thead>\n",
              "  <tbody>\n",
              "    <tr>\n",
              "      <th>10</th>\n",
              "      <td>20.7</td>\n",
              "      <td>17.9</td>\n",
              "      <td>18.8</td>\n",
              "      <td>14.6</td>\n",
              "      <td>15.8</td>\n",
              "      <td>15.8</td>\n",
              "      <td>15.8</td>\n",
              "      <td>17.4</td>\n",
              "      <td>21.8</td>\n",
              "      <td>20.0</td>\n",
              "      <td>16.2</td>\n",
              "    </tr>\n",
              "    <tr>\n",
              "      <th>11</th>\n",
              "      <td>17.9</td>\n",
              "      <td>18.8</td>\n",
              "      <td>14.6</td>\n",
              "      <td>15.8</td>\n",
              "      <td>15.8</td>\n",
              "      <td>15.8</td>\n",
              "      <td>17.4</td>\n",
              "      <td>21.8</td>\n",
              "      <td>20.0</td>\n",
              "      <td>16.2</td>\n",
              "      <td>13.3</td>\n",
              "    </tr>\n",
              "    <tr>\n",
              "      <th>12</th>\n",
              "      <td>18.8</td>\n",
              "      <td>14.6</td>\n",
              "      <td>15.8</td>\n",
              "      <td>15.8</td>\n",
              "      <td>15.8</td>\n",
              "      <td>17.4</td>\n",
              "      <td>21.8</td>\n",
              "      <td>20.0</td>\n",
              "      <td>16.2</td>\n",
              "      <td>13.3</td>\n",
              "      <td>16.7</td>\n",
              "    </tr>\n",
              "    <tr>\n",
              "      <th>13</th>\n",
              "      <td>14.6</td>\n",
              "      <td>15.8</td>\n",
              "      <td>15.8</td>\n",
              "      <td>15.8</td>\n",
              "      <td>17.4</td>\n",
              "      <td>21.8</td>\n",
              "      <td>20.0</td>\n",
              "      <td>16.2</td>\n",
              "      <td>13.3</td>\n",
              "      <td>16.7</td>\n",
              "      <td>21.5</td>\n",
              "    </tr>\n",
              "    <tr>\n",
              "      <th>14</th>\n",
              "      <td>15.8</td>\n",
              "      <td>15.8</td>\n",
              "      <td>15.8</td>\n",
              "      <td>17.4</td>\n",
              "      <td>21.8</td>\n",
              "      <td>20.0</td>\n",
              "      <td>16.2</td>\n",
              "      <td>13.3</td>\n",
              "      <td>16.7</td>\n",
              "      <td>21.5</td>\n",
              "      <td>25.0</td>\n",
              "    </tr>\n",
              "  </tbody>\n",
              "</table>\n",
              "</div>\n",
              "      <button class=\"colab-df-convert\" onclick=\"convertToInteractive('df-559e825d-7958-4241-8846-9d2916773161')\"\n",
              "              title=\"Convert this dataframe to an interactive table.\"\n",
              "              style=\"display:none;\">\n",
              "        \n",
              "  <svg xmlns=\"http://www.w3.org/2000/svg\" height=\"24px\"viewBox=\"0 0 24 24\"\n",
              "       width=\"24px\">\n",
              "    <path d=\"M0 0h24v24H0V0z\" fill=\"none\"/>\n",
              "    <path d=\"M18.56 5.44l.94 2.06.94-2.06 2.06-.94-2.06-.94-.94-2.06-.94 2.06-2.06.94zm-11 1L8.5 8.5l.94-2.06 2.06-.94-2.06-.94L8.5 2.5l-.94 2.06-2.06.94zm10 10l.94 2.06.94-2.06 2.06-.94-2.06-.94-.94-2.06-.94 2.06-2.06.94z\"/><path d=\"M17.41 7.96l-1.37-1.37c-.4-.4-.92-.59-1.43-.59-.52 0-1.04.2-1.43.59L10.3 9.45l-7.72 7.72c-.78.78-.78 2.05 0 2.83L4 21.41c.39.39.9.59 1.41.59.51 0 1.02-.2 1.41-.59l7.78-7.78 2.81-2.81c.8-.78.8-2.07 0-2.86zM5.41 20L4 18.59l7.72-7.72 1.47 1.35L5.41 20z\"/>\n",
              "  </svg>\n",
              "      </button>\n",
              "      \n",
              "  <style>\n",
              "    .colab-df-container {\n",
              "      display:flex;\n",
              "      flex-wrap:wrap;\n",
              "      gap: 12px;\n",
              "    }\n",
              "\n",
              "    .colab-df-convert {\n",
              "      background-color: #E8F0FE;\n",
              "      border: none;\n",
              "      border-radius: 50%;\n",
              "      cursor: pointer;\n",
              "      display: none;\n",
              "      fill: #1967D2;\n",
              "      height: 32px;\n",
              "      padding: 0 0 0 0;\n",
              "      width: 32px;\n",
              "    }\n",
              "\n",
              "    .colab-df-convert:hover {\n",
              "      background-color: #E2EBFA;\n",
              "      box-shadow: 0px 1px 2px rgba(60, 64, 67, 0.3), 0px 1px 3px 1px rgba(60, 64, 67, 0.15);\n",
              "      fill: #174EA6;\n",
              "    }\n",
              "\n",
              "    [theme=dark] .colab-df-convert {\n",
              "      background-color: #3B4455;\n",
              "      fill: #D2E3FC;\n",
              "    }\n",
              "\n",
              "    [theme=dark] .colab-df-convert:hover {\n",
              "      background-color: #434B5C;\n",
              "      box-shadow: 0px 1px 3px 1px rgba(0, 0, 0, 0.15);\n",
              "      filter: drop-shadow(0px 1px 2px rgba(0, 0, 0, 0.3));\n",
              "      fill: #FFFFFF;\n",
              "    }\n",
              "  </style>\n",
              "\n",
              "      <script>\n",
              "        const buttonEl =\n",
              "          document.querySelector('#df-559e825d-7958-4241-8846-9d2916773161 button.colab-df-convert');\n",
              "        buttonEl.style.display =\n",
              "          google.colab.kernel.accessAllowed ? 'block' : 'none';\n",
              "\n",
              "        async function convertToInteractive(key) {\n",
              "          const element = document.querySelector('#df-559e825d-7958-4241-8846-9d2916773161');\n",
              "          const dataTable =\n",
              "            await google.colab.kernel.invokeFunction('convertToInteractive',\n",
              "                                                     [key], {});\n",
              "          if (!dataTable) return;\n",
              "\n",
              "          const docLinkHtml = 'Like what you see? Visit the ' +\n",
              "            '<a target=\"_blank\" href=https://colab.research.google.com/notebooks/data_table.ipynb>data table notebook</a>'\n",
              "            + ' to learn more about interactive tables.';\n",
              "          element.innerHTML = '';\n",
              "          dataTable['output_type'] = 'display_data';\n",
              "          await google.colab.output.renderOutput(dataTable, element);\n",
              "          const docLink = document.createElement('div');\n",
              "          docLink.innerHTML = docLinkHtml;\n",
              "          element.appendChild(docLink);\n",
              "        }\n",
              "      </script>\n",
              "    </div>\n",
              "  </div>\n",
              "  "
            ]
          },
          "metadata": {},
          "execution_count": 9
        }
      ]
    },
    {
      "cell_type": "code",
      "metadata": {
        "id": "E4jAyIIZO9Ax",
        "colab": {
          "base_uri": "https://localhost:8080/"
        },
        "outputId": "cbf10e10-9970-4ae1-a7d4-bdba462cfc2c"
      },
      "source": [
        "# split data into X and Y\n",
        "y = tmp['var1(t)']\n",
        "X = tmp.drop(['var1(t)'], axis=1)\n",
        "print(X.shape, y.shape)"
      ],
      "execution_count": null,
      "outputs": [
        {
          "output_type": "stream",
          "name": "stdout",
          "text": [
            "(3640, 10) (3640,)\n"
          ]
        }
      ]
    },
    {
      "cell_type": "code",
      "metadata": {
        "id": "SkB0uP1XPTr2"
      },
      "source": [
        "# now split into train and test partition\n",
        "# split the data into train and test partitions\n",
        "# we will use 90% of the data for train, and 10% for validation\n",
        "train_pct_index = int(0.9 * len(X))\n",
        "X_train, X_test = X[:train_pct_index], X[train_pct_index:]\n",
        "y_train, y_test = y[:train_pct_index], y[train_pct_index:]"
      ],
      "execution_count": null,
      "outputs": []
    },
    {
      "cell_type": "markdown",
      "metadata": {
        "id": "cX72vY7_ki3K"
      },
      "source": [
        "# Dense Neural Network"
      ]
    },
    {
      "cell_type": "code",
      "metadata": {
        "id": "myOKFkDdkria",
        "colab": {
          "base_uri": "https://localhost:8080/"
        },
        "outputId": "58d5fe02-f3d6-4914-cc56-692e6c8d2163"
      },
      "source": [
        "# now let's build a model\n",
        "\n",
        "# define model\n",
        "model = Sequential()\n",
        "model.add(Dense(30, input_shape=(X.shape[1],), activation='relu'))\n",
        "model.add(Dense(1, activation='linear'))\n",
        "model.compile(optimizer='adam', loss='mse',metrics=['mae'])\n",
        "model.summary()\n",
        "\n",
        "es = EarlyStopping(monitor='val_loss', mode='min',\n",
        "                   patience=5,\n",
        "                   verbose=1,\n",
        "                   restore_best_weights=True)\n",
        "\n",
        "# fit model (uses early stopping)\n",
        "model.fit(X_train, y_train,\n",
        "          epochs=500,\n",
        "          batch_size=10,\n",
        "          validation_split=0.2, # val is a random 20% of the data since we set shuffle = True\n",
        "          verbose=1,\n",
        "          callbacks=[es],\n",
        "          shuffle=True)"
      ],
      "execution_count": null,
      "outputs": [
        {
          "output_type": "stream",
          "name": "stdout",
          "text": [
            "Model: \"sequential\"\n",
            "_________________________________________________________________\n",
            " Layer (type)                Output Shape              Param #   \n",
            "=================================================================\n",
            " dense (Dense)               (None, 30)                330       \n",
            "                                                                 \n",
            " dense_1 (Dense)             (None, 1)                 31        \n",
            "                                                                 \n",
            "=================================================================\n",
            "Total params: 361\n",
            "Trainable params: 361\n",
            "Non-trainable params: 0\n",
            "_________________________________________________________________\n",
            "Epoch 1/500\n",
            "262/262 [==============================] - 2s 5ms/step - loss: 42.3267 - mae: 4.1593 - val_loss: 6.0021 - val_mae: 1.9458\n",
            "Epoch 2/500\n",
            "262/262 [==============================] - 1s 5ms/step - loss: 6.8140 - mae: 2.0534 - val_loss: 5.7774 - val_mae: 1.8889\n",
            "Epoch 3/500\n",
            "262/262 [==============================] - 1s 6ms/step - loss: 6.5754 - mae: 2.0150 - val_loss: 5.6625 - val_mae: 1.8817\n",
            "Epoch 4/500\n",
            "262/262 [==============================] - 1s 5ms/step - loss: 6.4726 - mae: 2.0027 - val_loss: 5.7174 - val_mae: 1.8837\n",
            "Epoch 5/500\n",
            "262/262 [==============================] - 1s 3ms/step - loss: 6.4072 - mae: 1.9920 - val_loss: 5.5328 - val_mae: 1.8612\n",
            "Epoch 6/500\n",
            "262/262 [==============================] - 1s 3ms/step - loss: 6.3931 - mae: 1.9924 - val_loss: 5.5224 - val_mae: 1.8650\n",
            "Epoch 7/500\n",
            "262/262 [==============================] - 1s 4ms/step - loss: 6.3589 - mae: 1.9899 - val_loss: 5.4703 - val_mae: 1.8549\n",
            "Epoch 8/500\n",
            "262/262 [==============================] - 1s 5ms/step - loss: 6.2523 - mae: 1.9658 - val_loss: 5.4746 - val_mae: 1.8562\n",
            "Epoch 9/500\n",
            "262/262 [==============================] - 1s 4ms/step - loss: 6.2786 - mae: 1.9693 - val_loss: 5.4413 - val_mae: 1.8498\n",
            "Epoch 10/500\n",
            "262/262 [==============================] - 1s 4ms/step - loss: 6.1931 - mae: 1.9596 - val_loss: 5.5726 - val_mae: 1.8651\n",
            "Epoch 11/500\n",
            "262/262 [==============================] - 1s 5ms/step - loss: 6.2447 - mae: 1.9650 - val_loss: 5.5684 - val_mae: 1.8624\n",
            "Epoch 12/500\n",
            "262/262 [==============================] - 1s 4ms/step - loss: 6.2613 - mae: 1.9596 - val_loss: 5.6495 - val_mae: 1.8717\n",
            "Epoch 13/500\n",
            "262/262 [==============================] - 1s 4ms/step - loss: 6.1692 - mae: 1.9474 - val_loss: 5.4310 - val_mae: 1.8513\n",
            "Epoch 14/500\n",
            "262/262 [==============================] - 1s 5ms/step - loss: 6.2478 - mae: 1.9567 - val_loss: 5.4480 - val_mae: 1.8537\n",
            "Epoch 15/500\n",
            "262/262 [==============================] - 1s 2ms/step - loss: 6.2335 - mae: 1.9717 - val_loss: 5.4308 - val_mae: 1.8493\n",
            "Epoch 16/500\n",
            "262/262 [==============================] - 0s 2ms/step - loss: 6.2131 - mae: 1.9581 - val_loss: 5.4025 - val_mae: 1.8437\n",
            "Epoch 17/500\n",
            "262/262 [==============================] - 1s 2ms/step - loss: 6.1985 - mae: 1.9445 - val_loss: 5.7667 - val_mae: 1.9119\n",
            "Epoch 18/500\n",
            "262/262 [==============================] - 0s 2ms/step - loss: 6.2173 - mae: 1.9573 - val_loss: 5.4008 - val_mae: 1.8439\n",
            "Epoch 19/500\n",
            "262/262 [==============================] - 1s 2ms/step - loss: 6.2304 - mae: 1.9510 - val_loss: 5.6345 - val_mae: 1.8891\n",
            "Epoch 20/500\n",
            "262/262 [==============================] - 0s 2ms/step - loss: 6.2812 - mae: 1.9671 - val_loss: 6.7664 - val_mae: 2.0787\n",
            "Epoch 21/500\n",
            "262/262 [==============================] - 1s 2ms/step - loss: 6.1757 - mae: 1.9491 - val_loss: 5.4314 - val_mae: 1.8449\n",
            "Epoch 22/500\n",
            "262/262 [==============================] - 1s 2ms/step - loss: 6.1661 - mae: 1.9501 - val_loss: 5.5267 - val_mae: 1.8665\n",
            "Epoch 23/500\n",
            "251/262 [===========================>..] - ETA: 0s - loss: 6.1866 - mae: 1.9441Restoring model weights from the end of the best epoch: 18.\n",
            "262/262 [==============================] - 1s 2ms/step - loss: 6.1764 - mae: 1.9469 - val_loss: 5.4736 - val_mae: 1.8573\n",
            "Epoch 23: early stopping\n"
          ]
        },
        {
          "output_type": "execute_result",
          "data": {
            "text/plain": [
              "<keras.callbacks.History at 0x7fc9dddc3790>"
            ]
          },
          "metadata": {},
          "execution_count": 12
        }
      ]
    },
    {
      "cell_type": "code",
      "metadata": {
        "id": "9UMXrw9FuPiU",
        "colab": {
          "base_uri": "https://localhost:8080/",
          "height": 616
        },
        "outputId": "1dcc6e1c-d09c-4bc9-e385-da4d49c71674"
      },
      "source": [
        "# show scatterplots of actual vs. predicted for train and test\n",
        "# make a prediction\n",
        "pred = model.predict(X_test)# the pred\n",
        "\n",
        "# calculate MSE for the baseline model\n",
        "from sklearn.metrics import mean_absolute_error\n",
        "print('MAE: ', mean_absolute_error(y_test, pred))\n",
        "\n",
        "actual = y_test # the actual\n",
        "plt.scatter(x=actual, y=pred)\n",
        "x = np.linspace(0,25) # 45 degree line from 0 to 25 (axes are the same)\n",
        "plt.plot(x, x, color='red')\n",
        "plt.suptitle('Test Results')\n",
        "plt.xlabel('Actual')\n",
        "plt.ylabel('Predicted')\n",
        "plt.show()\n",
        "# looks pretty good!\n",
        "\n",
        "# show timeseries plot on the train and validation data\n",
        "plt.plot(np.arange(X_test.shape[0]), y_test, color='blue') # actual data\n",
        "plt.plot(np.arange(X_test.shape[0]), pred, color='red') # predicted data\n",
        "plt.suptitle('Test Results')\n",
        "plt.xlabel('Time')\n",
        "plt.ylabel('Temperature')\n",
        "plt.show()"
      ],
      "execution_count": null,
      "outputs": [
        {
          "output_type": "stream",
          "name": "stdout",
          "text": [
            "MAE:  1.7661590927249782\n"
          ]
        },
        {
          "output_type": "display_data",
          "data": {
            "text/plain": [
              "<Figure size 432x288 with 1 Axes>"
            ],
            "image/png": "[encoded data removed]"
          },
          "metadata": {
            "needs_background": "light"
          }
        },
        {
          "output_type": "display_data",
          "data": {
            "text/plain": [
              "<Figure size 432x288 with 1 Axes>"
            ],
            "image/png": "[encoded data removed]"
          },
          "metadata": {
            "needs_background": "light"
          }
        }
      ]
    },
    {
      "cell_type": "markdown",
      "metadata": {
        "id": "dUWVa0nZP0CA"
      },
      "source": [
        "Of course, you could play around with more lags and even try polynomial features or other scaling to get this to work. Heck, once your data is prepped, you can even try TPOT to see if you can get a better architecture then what you are evaluating."
      ]
    }
  ]
}