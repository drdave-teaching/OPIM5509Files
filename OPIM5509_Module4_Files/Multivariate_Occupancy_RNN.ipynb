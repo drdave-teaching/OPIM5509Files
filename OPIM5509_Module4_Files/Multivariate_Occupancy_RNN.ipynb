{
  "nbformat": 4,
  "nbformat_minor": 0,
  "metadata": {
    "colab": {
      "provenance": [],
      "toc_visible": true
    },
    "kernelspec": {
      "name": "python3",
      "display_name": "Python 3"
    }
  },
  "cells": [
    {
      "cell_type": "markdown",
      "source": [
        "[![Open In Colab](https://colab.research.google.com/assets/colab-badge.svg)](https://colab.research.google.com/github/drdave-teaching/OPIM5509Files/blob/main/OPIM5509_Module4_Files/Multivariate_Occupancy_RNN.ipynb)"
      ],
      "metadata": {
        "id": "ifbJhBvFb4RX"
      }
    },
    {
      "cell_type": "markdown",
      "metadata": {
        "id": "qHm6AVNVWGUd"
      },
      "source": [
        "# Multivariate Ozone Example (RNN)\n",
        "----------------------------\n",
        "**Dr. Dave Wanik - University of Connecticut**\n",
        "\n",
        "Let's see if we can predict if it's an ozone day as a function of environmental data.\n",
        "\n",
        "Link: http://archive.ics.uci.edu/ml/datasets/Occupancy+Detection+\n",
        "\n",
        "Same flow as before, just need to prep our data differently. For now, we ignore the time dimension but we could resample to a regular resolution.\n",
        "\n",
        "Wow - also a nice example: https://machinelearningmastery.com/multivariate-time-series-forecasting-lstms-keras/"
      ]
    },
    {
      "cell_type": "code",
      "metadata": {
        "id": "e79dX394WFyg"
      },
      "source": [
        "# standard modules\n",
        "import numpy as np\n",
        "import pandas as pd\n",
        "import matplotlib.pyplot as plt\n",
        "\n",
        "# RNN-specific modules\n",
        "import pandas as pd\n",
        "import numpy as np\n",
        "from sklearn.preprocessing import MinMaxScaler\n",
        "from sklearn.metrics import classification_report,accuracy_score\n",
        "from tensorflow.keras import layers, Sequential\n",
        "from tensorflow.keras.layers import Conv1D, MaxPooling1D\n",
        "from tensorflow.keras.layers import Dense, Dropout, SimpleRNN, GRU, LSTM\n",
        "from tensorflow.keras.callbacks import EarlyStopping"
      ],
      "execution_count": null,
      "outputs": []
    },
    {
      "cell_type": "markdown",
      "metadata": {
        "id": "Nrmaa3nQhj26"
      },
      "source": [
        "## Read in data\n",
        "Check for missing values, make some plots."
      ]
    },
    {
      "cell_type": "code",
      "metadata": {
        "id": "Xeb0Lq88WTtg",
        "colab": {
          "base_uri": "https://localhost:8080/",
          "height": 780
        },
        "outputId": "e9d648a6-c8ff-43bd-8a51-f3844830f810"
      },
      "source": [
        "# Dataset initially sourced from LuisM78’s GitHub repository:\n",
        "# url = 'https://raw.githubusercontent.com/LuisM78/Occupancy-detection-data/master/datatest.txt'\n",
        "# Link to the data file on Github\n",
        "url = \"https://raw.githubusercontent.com/drdave-teaching/OPIM5509Files/refs/heads/main/OPIM5509_Module4_Files/datatest.txt\"\n",
        "\n",
        "# read the data\n",
        "df = pd.read_csv(url)\n",
        "print(df.info())\n",
        "df.head(n=15) # nice complete data! this will allow us to check our work later"
      ],
      "execution_count": null,
      "outputs": [
        {
          "output_type": "stream",
          "name": "stdout",
          "text": [
            "<class 'pandas.core.frame.DataFrame'>\n",
            "Int64Index: 2665 entries, 140 to 2804\n",
            "Data columns (total 7 columns):\n",
            " #   Column         Non-Null Count  Dtype  \n",
            "---  ------         --------------  -----  \n",
            " 0   date           2665 non-null   object \n",
            " 1   Temperature    2665 non-null   float64\n",
            " 2   Humidity       2665 non-null   float64\n",
            " 3   Light          2665 non-null   float64\n",
            " 4   CO2            2665 non-null   float64\n",
            " 5   HumidityRatio  2665 non-null   float64\n",
            " 6   Occupancy      2665 non-null   int64  \n",
            "dtypes: float64(5), int64(1), object(1)\n",
            "memory usage: 166.6+ KB\n",
            "None\n"
          ]
        },
        {
          "output_type": "execute_result",
          "data": {
            "text/plain": [
              "                    date  Temperature  Humidity       Light         CO2  \\\n",
              "140  2015-02-02 14:19:00      23.7000    26.272  585.200000  749.200000   \n",
              "141  2015-02-02 14:19:59      23.7180    26.290  578.400000  760.400000   \n",
              "142  2015-02-02 14:21:00      23.7300    26.230  572.666667  769.666667   \n",
              "143  2015-02-02 14:22:00      23.7225    26.125  493.750000  774.750000   \n",
              "144  2015-02-02 14:23:00      23.7540    26.200  488.600000  779.000000   \n",
              "145  2015-02-02 14:23:59      23.7600    26.260  568.666667  790.000000   \n",
              "146  2015-02-02 14:25:00      23.7300    26.290  536.333333  798.000000   \n",
              "147  2015-02-02 14:25:59      23.7540    26.290  509.000000  797.000000   \n",
              "148  2015-02-02 14:26:59      23.7540    26.350  476.000000  803.200000   \n",
              "149  2015-02-02 14:28:00      23.7360    26.390  510.000000  809.000000   \n",
              "150  2015-02-02 14:29:00      23.7450    26.445  481.500000  815.250000   \n",
              "151  2015-02-02 14:30:00      23.7000    26.560  481.800000  824.000000   \n",
              "152  2015-02-02 14:31:00      23.7000    26.600  475.250000  832.000000   \n",
              "153  2015-02-02 14:31:59      23.7000    26.700  469.000000  845.333333   \n",
              "154  2015-02-02 14:32:59      23.7000    26.774  464.000000  852.400000   \n",
              "\n",
              "     HumidityRatio  Occupancy  \n",
              "140       0.004764          1  \n",
              "141       0.004773          1  \n",
              "142       0.004765          1  \n",
              "143       0.004744          1  \n",
              "144       0.004767          1  \n",
              "145       0.004779          1  \n",
              "146       0.004776          1  \n",
              "147       0.004783          1  \n",
              "148       0.004794          1  \n",
              "149       0.004796          1  \n",
              "150       0.004809          1  \n",
              "151       0.004817          1  \n",
              "152       0.004824          1  \n",
              "153       0.004842          1  \n",
              "154       0.004856          1  "
            ],
            "text/html": [
              "\n",
              "  <div id=\"df-24520cd4-e0dc-4ae6-b065-65a1c52747d1\">\n",
              "    <div class=\"colab-df-container\">\n",
              "      <div>\n",
              "<style scoped>\n",
              "    .dataframe tbody tr th:only-of-type {\n",
              "        vertical-align: middle;\n",
              "    }\n",
              "\n",
              "    .dataframe tbody tr th {\n",
              "        vertical-align: top;\n",
              "    }\n",
              "\n",
              "    .dataframe thead th {\n",
              "        text-align: right;\n",
              "    }\n",
              "</style>\n",
              "<table border=\"1\" class=\"dataframe\">\n",
              "  <thead>\n",
              "    <tr style=\"text-align: right;\">\n",
              "      <th></th>\n",
              "      <th>date</th>\n",
              "      <th>Temperature</th>\n",
              "      <th>Humidity</th>\n",
              "      <th>Light</th>\n",
              "      <th>CO2</th>\n",
              "      <th>HumidityRatio</th>\n",
              "      <th>Occupancy</th>\n",
              "    </tr>\n",
              "  </thead>\n",
              "  <tbody>\n",
              "    <tr>\n",
              "      <th>140</th>\n",
              "      <td>2015-02-02 14:19:00</td>\n",
              "      <td>23.7000</td>\n",
              "      <td>26.272</td>\n",
              "      <td>585.200000</td>\n",
              "      <td>749.200000</td>\n",
              "      <td>0.004764</td>\n",
              "      <td>1</td>\n",
              "    </tr>\n",
              "    <tr>\n",
              "      <th>141</th>\n",
              "      <td>2015-02-02 14:19:59</td>\n",
              "      <td>23.7180</td>\n",
              "      <td>26.290</td>\n",
              "      <td>578.400000</td>\n",
              "      <td>760.400000</td>\n",
              "      <td>0.004773</td>\n",
              "      <td>1</td>\n",
              "    </tr>\n",
              "    <tr>\n",
              "      <th>142</th>\n",
              "      <td>2015-02-02 14:21:00</td>\n",
              "      <td>23.7300</td>\n",
              "      <td>26.230</td>\n",
              "      <td>572.666667</td>\n",
              "      <td>769.666667</td>\n",
              "      <td>0.004765</td>\n",
              "      <td>1</td>\n",
              "    </tr>\n",
              "    <tr>\n",
              "      <th>143</th>\n",
              "      <td>2015-02-02 14:22:00</td>\n",
              "      <td>23.7225</td>\n",
              "      <td>26.125</td>\n",
              "      <td>493.750000</td>\n",
              "      <td>774.750000</td>\n",
              "      <td>0.004744</td>\n",
              "      <td>1</td>\n",
              "    </tr>\n",
              "    <tr>\n",
              "      <th>144</th>\n",
              "      <td>2015-02-02 14:23:00</td>\n",
              "      <td>23.7540</td>\n",
              "      <td>26.200</td>\n",
              "      <td>488.600000</td>\n",
              "      <td>779.000000</td>\n",
              "      <td>0.004767</td>\n",
              "      <td>1</td>\n",
              "    </tr>\n",
              "    <tr>\n",
              "      <th>145</th>\n",
              "      <td>2015-02-02 14:23:59</td>\n",
              "      <td>23.7600</td>\n",
              "      <td>26.260</td>\n",
              "      <td>568.666667</td>\n",
              "      <td>790.000000</td>\n",
              "      <td>0.004779</td>\n",
              "      <td>1</td>\n",
              "    </tr>\n",
              "    <tr>\n",
              "      <th>146</th>\n",
              "      <td>2015-02-02 14:25:00</td>\n",
              "      <td>23.7300</td>\n",
              "      <td>26.290</td>\n",
              "      <td>536.333333</td>\n",
              "      <td>798.000000</td>\n",
              "      <td>0.004776</td>\n",
              "      <td>1</td>\n",
              "    </tr>\n",
              "    <tr>\n",
              "      <th>147</th>\n",
              "      <td>2015-02-02 14:25:59</td>\n",
              "      <td>23.7540</td>\n",
              "      <td>26.290</td>\n",
              "      <td>509.000000</td>\n",
              "      <td>797.000000</td>\n",
              "      <td>0.004783</td>\n",
              "      <td>1</td>\n",
              "    </tr>\n",
              "    <tr>\n",
              "      <th>148</th>\n",
              "      <td>2015-02-02 14:26:59</td>\n",
              "      <td>23.7540</td>\n",
              "      <td>26.350</td>\n",
              "      <td>476.000000</td>\n",
              "      <td>803.200000</td>\n",
              "      <td>0.004794</td>\n",
              "      <td>1</td>\n",
              "    </tr>\n",
              "    <tr>\n",
              "      <th>149</th>\n",
              "      <td>2015-02-02 14:28:00</td>\n",
              "      <td>23.7360</td>\n",
              "      <td>26.390</td>\n",
              "      <td>510.000000</td>\n",
              "      <td>809.000000</td>\n",
              "      <td>0.004796</td>\n",
              "      <td>1</td>\n",
              "    </tr>\n",
              "    <tr>\n",
              "      <th>150</th>\n",
              "      <td>2015-02-02 14:29:00</td>\n",
              "      <td>23.7450</td>\n",
              "      <td>26.445</td>\n",
              "      <td>481.500000</td>\n",
              "      <td>815.250000</td>\n",
              "      <td>0.004809</td>\n",
              "      <td>1</td>\n",
              "    </tr>\n",
              "    <tr>\n",
              "      <th>151</th>\n",
              "      <td>2015-02-02 14:30:00</td>\n",
              "      <td>23.7000</td>\n",
              "      <td>26.560</td>\n",
              "      <td>481.800000</td>\n",
              "      <td>824.000000</td>\n",
              "      <td>0.004817</td>\n",
              "      <td>1</td>\n",
              "    </tr>\n",
              "    <tr>\n",
              "      <th>152</th>\n",
              "      <td>2015-02-02 14:31:00</td>\n",
              "      <td>23.7000</td>\n",
              "      <td>26.600</td>\n",
              "      <td>475.250000</td>\n",
              "      <td>832.000000</td>\n",
              "      <td>0.004824</td>\n",
              "      <td>1</td>\n",
              "    </tr>\n",
              "    <tr>\n",
              "      <th>153</th>\n",
              "      <td>2015-02-02 14:31:59</td>\n",
              "      <td>23.7000</td>\n",
              "      <td>26.700</td>\n",
              "      <td>469.000000</td>\n",
              "      <td>845.333333</td>\n",
              "      <td>0.004842</td>\n",
              "      <td>1</td>\n",
              "    </tr>\n",
              "    <tr>\n",
              "      <th>154</th>\n",
              "      <td>2015-02-02 14:32:59</td>\n",
              "      <td>23.7000</td>\n",
              "      <td>26.774</td>\n",
              "      <td>464.000000</td>\n",
              "      <td>852.400000</td>\n",
              "      <td>0.004856</td>\n",
              "      <td>1</td>\n",
              "    </tr>\n",
              "  </tbody>\n",
              "</table>\n",
              "</div>\n",
              "      <button class=\"colab-df-convert\" onclick=\"convertToInteractive('df-24520cd4-e0dc-4ae6-b065-65a1c52747d1')\"\n",
              "              title=\"Convert this dataframe to an interactive table.\"\n",
              "              style=\"display:none;\">\n",
              "        \n",
              "  <svg xmlns=\"http://www.w3.org/2000/svg\" height=\"24px\"viewBox=\"0 0 24 24\"\n",
              "       width=\"24px\">\n",
              "    <path d=\"M0 0h24v24H0V0z\" fill=\"none\"/>\n",
              "    <path d=\"M18.56 5.44l.94 2.06.94-2.06 2.06-.94-2.06-.94-.94-2.06-.94 2.06-2.06.94zm-11 1L8.5 8.5l.94-2.06 2.06-.94-2.06-.94L8.5 2.5l-.94 2.06-2.06.94zm10 10l.94 2.06.94-2.06 2.06-.94-2.06-.94-.94-2.06-.94 2.06-2.06.94z\"/><path d=\"M17.41 7.96l-1.37-1.37c-.4-.4-.92-.59-1.43-.59-.52 0-1.04.2-1.43.59L10.3 9.45l-7.72 7.72c-.78.78-.78 2.05 0 2.83L4 21.41c.39.39.9.59 1.41.59.51 0 1.02-.2 1.41-.59l7.78-7.78 2.81-2.81c.8-.78.8-2.07 0-2.86zM5.41 20L4 18.59l7.72-7.72 1.47 1.35L5.41 20z\"/>\n",
              "  </svg>\n",
              "      </button>\n",
              "      \n",
              "  <style>\n",
              "    .colab-df-container {\n",
              "      display:flex;\n",
              "      flex-wrap:wrap;\n",
              "      gap: 12px;\n",
              "    }\n",
              "\n",
              "    .colab-df-convert {\n",
              "      background-color: #E8F0FE;\n",
              "      border: none;\n",
              "      border-radius: 50%;\n",
              "      cursor: pointer;\n",
              "      display: none;\n",
              "      fill: #1967D2;\n",
              "      height: 32px;\n",
              "      padding: 0 0 0 0;\n",
              "      width: 32px;\n",
              "    }\n",
              "\n",
              "    .colab-df-convert:hover {\n",
              "      background-color: #E2EBFA;\n",
              "      box-shadow: 0px 1px 2px rgba(60, 64, 67, 0.3), 0px 1px 3px 1px rgba(60, 64, 67, 0.15);\n",
              "      fill: #174EA6;\n",
              "    }\n",
              "\n",
              "    [theme=dark] .colab-df-convert {\n",
              "      background-color: #3B4455;\n",
              "      fill: #D2E3FC;\n",
              "    }\n",
              "\n",
              "    [theme=dark] .colab-df-convert:hover {\n",
              "      background-color: #434B5C;\n",
              "      box-shadow: 0px 1px 3px 1px rgba(0, 0, 0, 0.15);\n",
              "      filter: drop-shadow(0px 1px 2px rgba(0, 0, 0, 0.3));\n",
              "      fill: #FFFFFF;\n",
              "    }\n",
              "  </style>\n",
              "\n",
              "      <script>\n",
              "        const buttonEl =\n",
              "          document.querySelector('#df-24520cd4-e0dc-4ae6-b065-65a1c52747d1 button.colab-df-convert');\n",
              "        buttonEl.style.display =\n",
              "          google.colab.kernel.accessAllowed ? 'block' : 'none';\n",
              "\n",
              "        async function convertToInteractive(key) {\n",
              "          const element = document.querySelector('#df-24520cd4-e0dc-4ae6-b065-65a1c52747d1');\n",
              "          const dataTable =\n",
              "            await google.colab.kernel.invokeFunction('convertToInteractive',\n",
              "                                                     [key], {});\n",
              "          if (!dataTable) return;\n",
              "\n",
              "          const docLinkHtml = 'Like what you see? Visit the ' +\n",
              "            '<a target=\"_blank\" href=https://colab.research.google.com/notebooks/data_table.ipynb>data table notebook</a>'\n",
              "            + ' to learn more about interactive tables.';\n",
              "          element.innerHTML = '';\n",
              "          dataTable['output_type'] = 'display_data';\n",
              "          await google.colab.output.renderOutput(dataTable, element);\n",
              "          const docLink = document.createElement('div');\n",
              "          docLink.innerHTML = docLinkHtml;\n",
              "          element.appendChild(docLink);\n",
              "        }\n",
              "      </script>\n",
              "    </div>\n",
              "  </div>\n",
              "  "
            ]
          },
          "metadata": {},
          "execution_count": 31
        }
      ]
    },
    {
      "cell_type": "code",
      "metadata": {
        "id": "ZR2BCi6PDkdV",
        "colab": {
          "base_uri": "https://localhost:8080/"
        },
        "outputId": "eadec7d0-46f8-4acb-deaa-d91b860597f2"
      },
      "source": [
        "# count of occupancy\n",
        "df['Occupancy'].value_counts() # not perfectly balanced, but that's OK"
      ],
      "execution_count": null,
      "outputs": [
        {
          "output_type": "execute_result",
          "data": {
            "text/plain": [
              "0    1693\n",
              "1     972\n",
              "Name: Occupancy, dtype: int64"
            ]
          },
          "metadata": {},
          "execution_count": 32
        }
      ]
    },
    {
      "cell_type": "code",
      "metadata": {
        "id": "1wkzRQuLh9HH",
        "colab": {
          "base_uri": "https://localhost:8080/",
          "height": 265
        },
        "outputId": "583d7c6d-ecdb-47c0-a349-713f9ffe01d3"
      },
      "source": [
        "# visualize the data\n",
        "df['Occupancy'].plot()\n",
        "plt.show()"
      ],
      "execution_count": null,
      "outputs": [
        {
          "output_type": "display_data",
          "data": {
            "text/plain": [
              "<Figure size 432x288 with 1 Axes>"
            ],
            "image/png": "[encoded data removed]"
          },
          "metadata": {
            "needs_background": "light"
          }
        }
      ]
    },
    {
      "cell_type": "code",
      "metadata": {
        "id": "N7QOxLwQD0bh",
        "colab": {
          "base_uri": "https://localhost:8080/",
          "height": 265
        },
        "outputId": "75297671-4c60-41d0-9b48-f25330cb7a9e"
      },
      "source": [
        "# visualize the data\n",
        "df['CO2'].plot()\n",
        "plt.show()"
      ],
      "execution_count": null,
      "outputs": [
        {
          "output_type": "display_data",
          "data": {
            "text/plain": [
              "<Figure size 432x288 with 1 Axes>"
            ],
            "image/png": "[encoded data removed]"
          },
          "metadata": {
            "needs_background": "light"
          }
        }
      ]
    },
    {
      "cell_type": "code",
      "metadata": {
        "id": "b_0hVUAuEiMD",
        "colab": {
          "base_uri": "https://localhost:8080/",
          "height": 223
        },
        "outputId": "03a58e71-4a04-40b4-e558-f1fe3897ccc6"
      },
      "source": [
        "# drop the date column\n",
        "df.drop(['date'], inplace=True, axis=1)\n",
        "print(df.shape)\n",
        "df.head()"
      ],
      "execution_count": null,
      "outputs": [
        {
          "output_type": "stream",
          "name": "stdout",
          "text": [
            "(2665, 6)\n"
          ]
        },
        {
          "output_type": "execute_result",
          "data": {
            "text/plain": [
              "     Temperature  Humidity       Light         CO2  HumidityRatio  Occupancy\n",
              "140      23.7000    26.272  585.200000  749.200000       0.004764          1\n",
              "141      23.7180    26.290  578.400000  760.400000       0.004773          1\n",
              "142      23.7300    26.230  572.666667  769.666667       0.004765          1\n",
              "143      23.7225    26.125  493.750000  774.750000       0.004744          1\n",
              "144      23.7540    26.200  488.600000  779.000000       0.004767          1"
            ],
            "text/html": [
              "\n",
              "  <div id=\"df-ca753c1f-023b-42e8-90e3-95121dff3b60\">\n",
              "    <div class=\"colab-df-container\">\n",
              "      <div>\n",
              "<style scoped>\n",
              "    .dataframe tbody tr th:only-of-type {\n",
              "        vertical-align: middle;\n",
              "    }\n",
              "\n",
              "    .dataframe tbody tr th {\n",
              "        vertical-align: top;\n",
              "    }\n",
              "\n",
              "    .dataframe thead th {\n",
              "        text-align: right;\n",
              "    }\n",
              "</style>\n",
              "<table border=\"1\" class=\"dataframe\">\n",
              "  <thead>\n",
              "    <tr style=\"text-align: right;\">\n",
              "      <th></th>\n",
              "      <th>Temperature</th>\n",
              "      <th>Humidity</th>\n",
              "      <th>Light</th>\n",
              "      <th>CO2</th>\n",
              "      <th>HumidityRatio</th>\n",
              "      <th>Occupancy</th>\n",
              "    </tr>\n",
              "  </thead>\n",
              "  <tbody>\n",
              "    <tr>\n",
              "      <th>140</th>\n",
              "      <td>23.7000</td>\n",
              "      <td>26.272</td>\n",
              "      <td>585.200000</td>\n",
              "      <td>749.200000</td>\n",
              "      <td>0.004764</td>\n",
              "      <td>1</td>\n",
              "    </tr>\n",
              "    <tr>\n",
              "      <th>141</th>\n",
              "      <td>23.7180</td>\n",
              "      <td>26.290</td>\n",
              "      <td>578.400000</td>\n",
              "      <td>760.400000</td>\n",
              "      <td>0.004773</td>\n",
              "      <td>1</td>\n",
              "    </tr>\n",
              "    <tr>\n",
              "      <th>142</th>\n",
              "      <td>23.7300</td>\n",
              "      <td>26.230</td>\n",
              "      <td>572.666667</td>\n",
              "      <td>769.666667</td>\n",
              "      <td>0.004765</td>\n",
              "      <td>1</td>\n",
              "    </tr>\n",
              "    <tr>\n",
              "      <th>143</th>\n",
              "      <td>23.7225</td>\n",
              "      <td>26.125</td>\n",
              "      <td>493.750000</td>\n",
              "      <td>774.750000</td>\n",
              "      <td>0.004744</td>\n",
              "      <td>1</td>\n",
              "    </tr>\n",
              "    <tr>\n",
              "      <th>144</th>\n",
              "      <td>23.7540</td>\n",
              "      <td>26.200</td>\n",
              "      <td>488.600000</td>\n",
              "      <td>779.000000</td>\n",
              "      <td>0.004767</td>\n",
              "      <td>1</td>\n",
              "    </tr>\n",
              "  </tbody>\n",
              "</table>\n",
              "</div>\n",
              "      <button class=\"colab-df-convert\" onclick=\"convertToInteractive('df-ca753c1f-023b-42e8-90e3-95121dff3b60')\"\n",
              "              title=\"Convert this dataframe to an interactive table.\"\n",
              "              style=\"display:none;\">\n",
              "        \n",
              "  <svg xmlns=\"http://www.w3.org/2000/svg\" height=\"24px\"viewBox=\"0 0 24 24\"\n",
              "       width=\"24px\">\n",
              "    <path d=\"M0 0h24v24H0V0z\" fill=\"none\"/>\n",
              "    <path d=\"M18.56 5.44l.94 2.06.94-2.06 2.06-.94-2.06-.94-.94-2.06-.94 2.06-2.06.94zm-11 1L8.5 8.5l.94-2.06 2.06-.94-2.06-.94L8.5 2.5l-.94 2.06-2.06.94zm10 10l.94 2.06.94-2.06 2.06-.94-2.06-.94-.94-2.06-.94 2.06-2.06.94z\"/><path d=\"M17.41 7.96l-1.37-1.37c-.4-.4-.92-.59-1.43-.59-.52 0-1.04.2-1.43.59L10.3 9.45l-7.72 7.72c-.78.78-.78 2.05 0 2.83L4 21.41c.39.39.9.59 1.41.59.51 0 1.02-.2 1.41-.59l7.78-7.78 2.81-2.81c.8-.78.8-2.07 0-2.86zM5.41 20L4 18.59l7.72-7.72 1.47 1.35L5.41 20z\"/>\n",
              "  </svg>\n",
              "      </button>\n",
              "      \n",
              "  <style>\n",
              "    .colab-df-container {\n",
              "      display:flex;\n",
              "      flex-wrap:wrap;\n",
              "      gap: 12px;\n",
              "    }\n",
              "\n",
              "    .colab-df-convert {\n",
              "      background-color: #E8F0FE;\n",
              "      border: none;\n",
              "      border-radius: 50%;\n",
              "      cursor: pointer;\n",
              "      display: none;\n",
              "      fill: #1967D2;\n",
              "      height: 32px;\n",
              "      padding: 0 0 0 0;\n",
              "      width: 32px;\n",
              "    }\n",
              "\n",
              "    .colab-df-convert:hover {\n",
              "      background-color: #E2EBFA;\n",
              "      box-shadow: 0px 1px 2px rgba(60, 64, 67, 0.3), 0px 1px 3px 1px rgba(60, 64, 67, 0.15);\n",
              "      fill: #174EA6;\n",
              "    }\n",
              "\n",
              "    [theme=dark] .colab-df-convert {\n",
              "      background-color: #3B4455;\n",
              "      fill: #D2E3FC;\n",
              "    }\n",
              "\n",
              "    [theme=dark] .colab-df-convert:hover {\n",
              "      background-color: #434B5C;\n",
              "      box-shadow: 0px 1px 3px 1px rgba(0, 0, 0, 0.15);\n",
              "      filter: drop-shadow(0px 1px 2px rgba(0, 0, 0, 0.3));\n",
              "      fill: #FFFFFF;\n",
              "    }\n",
              "  </style>\n",
              "\n",
              "      <script>\n",
              "        const buttonEl =\n",
              "          document.querySelector('#df-ca753c1f-023b-42e8-90e3-95121dff3b60 button.colab-df-convert');\n",
              "        buttonEl.style.display =\n",
              "          google.colab.kernel.accessAllowed ? 'block' : 'none';\n",
              "\n",
              "        async function convertToInteractive(key) {\n",
              "          const element = document.querySelector('#df-ca753c1f-023b-42e8-90e3-95121dff3b60');\n",
              "          const dataTable =\n",
              "            await google.colab.kernel.invokeFunction('convertToInteractive',\n",
              "                                                     [key], {});\n",
              "          if (!dataTable) return;\n",
              "\n",
              "          const docLinkHtml = 'Like what you see? Visit the ' +\n",
              "            '<a target=\"_blank\" href=https://colab.research.google.com/notebooks/data_table.ipynb>data table notebook</a>'\n",
              "            + ' to learn more about interactive tables.';\n",
              "          element.innerHTML = '';\n",
              "          dataTable['output_type'] = 'display_data';\n",
              "          await google.colab.output.renderOutput(dataTable, element);\n",
              "          const docLink = document.createElement('div');\n",
              "          docLink.innerHTML = docLinkHtml;\n",
              "          element.appendChild(docLink);\n",
              "        }\n",
              "      </script>\n",
              "    </div>\n",
              "  </div>\n",
              "  "
            ]
          },
          "metadata": {},
          "execution_count": 35
        }
      ]
    },
    {
      "cell_type": "code",
      "metadata": {
        "id": "Jw7spRoqWeUd"
      },
      "source": [
        "# prep data for modeling (multivariate)\n",
        "# link: https://machinelearningmastery.com/how-to-develop-lstm-models-for-time-series-forecasting/\n",
        "\n",
        "from numpy import array\n",
        "\n",
        "# split a multivariate sequence into samples\n",
        "def split_sequences(sequences, n_steps):\n",
        "\tX, y = list(), list()\n",
        "\tfor i in np.arange(len(sequences)): # be careful of this line!\n",
        "\t\t# find the end of this pattern\n",
        "\t\tend_ix = i + n_steps\n",
        "\t\t# check if we are beyond the dataset\n",
        "\t\tif end_ix > len(sequences):\n",
        "\t\t\tbreak\n",
        "\t\t# gather input and output parts of the pattern\n",
        "\t\tseq_x, seq_y = sequences[i:end_ix, :-1], sequences[end_ix-1, -1]\n",
        "\t\tX.append(seq_x)\n",
        "\t\ty.append(seq_y)\n",
        "\treturn np.array(X), np.array(y)"
      ],
      "execution_count": null,
      "outputs": []
    },
    {
      "cell_type": "code",
      "metadata": {
        "id": "AChwFXAM-dQB"
      },
      "source": [
        "# we could split our data first, normalize it, then create sequences"
      ],
      "execution_count": null,
      "outputs": []
    },
    {
      "cell_type": "code",
      "metadata": {
        "id": "-dFtHS7AWqx1"
      },
      "source": [
        "# all we need to do is decide on is n_steps (what our lookback period is)\n",
        "# since we have a bunch of data, why not n_steps=10? then try 30 later on.\n",
        "n_steps = 10\n",
        "raw_seq = np.array(df) #make sure your data is stored as a numpy array!\n",
        "# let's ignore the date column and just use the temperature data\n",
        "X, y = split_sequences(raw_seq, n_steps=10)"
      ],
      "execution_count": null,
      "outputs": []
    },
    {
      "cell_type": "code",
      "metadata": {
        "id": "1n0T5Z9GXNfg",
        "colab": {
          "base_uri": "https://localhost:8080/"
        },
        "outputId": "59e244ed-489e-49bf-8883-c885489b389b"
      },
      "source": [
        "# take a peak at what it did\n",
        "print(X.shape)\n",
        "print(y.shape)\n",
        "\n",
        "# scroll up and make sure you understand this!\n",
        "# y is a function of X (the previous n_steps observations!)"
      ],
      "execution_count": null,
      "outputs": [
        {
          "output_type": "stream",
          "name": "stdout",
          "text": [
            "(2656, 10, 5)\n",
            "(2656,)\n"
          ]
        }
      ]
    },
    {
      "cell_type": "code",
      "metadata": {
        "id": "C2a2qLu93ECT",
        "colab": {
          "base_uri": "https://localhost:8080/"
        },
        "outputId": "81cbacda-09e4-4379-ff93-f8bc75eeefba"
      },
      "source": [
        "# check the first few values\n",
        "X[0]"
      ],
      "execution_count": null,
      "outputs": [
        {
          "output_type": "execute_result",
          "data": {
            "text/plain": [
              "array([[2.37000000e+01, 2.62720000e+01, 5.85200000e+02, 7.49200000e+02,\n",
              "        4.76416302e-03],\n",
              "       [2.37180000e+01, 2.62900000e+01, 5.78400000e+02, 7.60400000e+02,\n",
              "        4.77266099e-03],\n",
              "       [2.37300000e+01, 2.62300000e+01, 5.72666667e+02, 7.69666667e+02,\n",
              "        4.76515255e-03],\n",
              "       [2.37225000e+01, 2.61250000e+01, 4.93750000e+02, 7.74750000e+02,\n",
              "        4.74377336e-03],\n",
              "       [2.37540000e+01, 2.62000000e+01, 4.88600000e+02, 7.79000000e+02,\n",
              "        4.76659400e-03],\n",
              "       [2.37600000e+01, 2.62600000e+01, 5.68666667e+02, 7.90000000e+02,\n",
              "        4.77933243e-03],\n",
              "       [2.37300000e+01, 2.62900000e+01, 5.36333333e+02, 7.98000000e+02,\n",
              "        4.77613633e-03],\n",
              "       [2.37540000e+01, 2.62900000e+01, 5.09000000e+02, 7.97000000e+02,\n",
              "        4.78309371e-03],\n",
              "       [2.37540000e+01, 2.63500000e+01, 4.76000000e+02, 8.03200000e+02,\n",
              "        4.79409400e-03],\n",
              "       [2.37360000e+01, 2.63900000e+01, 5.10000000e+02, 8.09000000e+02,\n",
              "        4.79618871e-03]])"
            ]
          },
          "metadata": {},
          "execution_count": 40
        }
      ]
    },
    {
      "cell_type": "code",
      "metadata": {
        "id": "ZrnAQfLl3LV3",
        "colab": {
          "base_uri": "https://localhost:8080/"
        },
        "outputId": "8fbbd887-b20d-481e-b4bc-1eb19c96fb45"
      },
      "source": [
        "# check Y\n",
        "y[0]"
      ],
      "execution_count": null,
      "outputs": [
        {
          "output_type": "execute_result",
          "data": {
            "text/plain": [
              "1.0"
            ]
          },
          "metadata": {},
          "execution_count": 41
        }
      ]
    },
    {
      "cell_type": "code",
      "metadata": {
        "id": "BeyWNLEvX3bU"
      },
      "source": [
        "# split the data into train and test partitions\n",
        "# we will use 50% of the data for train, and 50% for validation\n",
        "train_pct_index = int(0.5 * len(X))\n",
        "X_train, X_test = X[:train_pct_index], X[train_pct_index:]\n",
        "y_train, y_test = y[:train_pct_index], y[train_pct_index:]\n",
        "\n",
        "# pretty slick way of splitting your data using slicing!\n",
        "# notice how we didn't do any shuffling (we don't want temporal leakage! keeps time series intact)"
      ],
      "execution_count": null,
      "outputs": []
    },
    {
      "cell_type": "code",
      "metadata": {
        "id": "Gaoc3yH8ZFh5",
        "colab": {
          "base_uri": "https://localhost:8080/"
        },
        "outputId": "edb0c475-77e5-4cde-8750-50465b7e49c2"
      },
      "source": [
        "# check the shape to be sure\n",
        "print(X.shape, X_train.shape, X_test.shape)\n",
        "print(y.shape, y_train.shape, y_test.shape)\n",
        "\n",
        "# verify that this all adds up!\n",
        "# 2635 samples with 30 lookback and 6 columns"
      ],
      "execution_count": null,
      "outputs": [
        {
          "output_type": "stream",
          "name": "stdout",
          "text": [
            "(2656, 10, 5) (1328, 10, 5) (1328, 10, 5)\n",
            "(2656,) (1328,) (1328,)\n"
          ]
        }
      ]
    },
    {
      "cell_type": "markdown",
      "metadata": {
        "id": "cX72vY7_ki3K"
      },
      "source": [
        "# RNN one layer model"
      ]
    },
    {
      "cell_type": "code",
      "metadata": {
        "id": "eLsntWkJ3m1S",
        "colab": {
          "base_uri": "https://localhost:8080/"
        },
        "outputId": "1ecfd3f2-0591-4fb7-f90e-b25b46e3df50"
      },
      "source": [
        "# define\n",
        "n_steps = X_train.shape[1]\n",
        "n_features = X_train.shape[2]\n",
        "\n",
        "print(n_steps, n_features)"
      ],
      "execution_count": null,
      "outputs": [
        {
          "output_type": "stream",
          "name": "stdout",
          "text": [
            "10 5\n"
          ]
        }
      ]
    },
    {
      "cell_type": "code",
      "metadata": {
        "id": "myOKFkDdkria",
        "colab": {
          "base_uri": "https://localhost:8080/"
        },
        "outputId": "b114792b-3dea-498c-89fe-782166d5cfe4"
      },
      "source": [
        "# now let's build a model\n",
        "# NEED TO UPDATE FOR CLASSIFICATION\n",
        "\n",
        "# define\n",
        "n_steps = X_train.shape[1]\n",
        "n_features = X_train.shape[2]\n",
        "\n",
        "# define model\n",
        "model = Sequential()\n",
        "model.add(SimpleRNN(30, input_shape=(n_steps,n_features), activation='relu'))\n",
        "model.add(Dense(1, activation='sigmoid'))\n",
        "model.summary()\n",
        "\n",
        "model.compile(optimizer='adam', loss='binary_crossentropy',metrics=['acc'])\n",
        "\n",
        "\n",
        "es = EarlyStopping(monitor='val_acc', mode='max',\n",
        "                   patience=10,\n",
        "                   verbose=1,\n",
        "                   restore_best_weights=True)\n",
        "\n",
        "# fit model (uses early stopping)\n",
        "model.fit(X_train, y_train,\n",
        "          epochs=500,\n",
        "          batch_size=5,\n",
        "          validation_split=0.2, # val is a random 20% of the data since we set shuffle = True\n",
        "          verbose=1,\n",
        "          callbacks=[es],\n",
        "          shuffle=True)"
      ],
      "execution_count": null,
      "outputs": [
        {
          "output_type": "stream",
          "name": "stdout",
          "text": [
            "Model: \"sequential_3\"\n",
            "_________________________________________________________________\n",
            " Layer (type)                Output Shape              Param #   \n",
            "=================================================================\n",
            " simple_rnn_3 (SimpleRNN)    (None, 30)                1080      \n",
            "                                                                 \n",
            " dense_3 (Dense)             (None, 1)                 31        \n",
            "                                                                 \n",
            "=================================================================\n",
            "Total params: 1,111\n",
            "Trainable params: 1,111\n",
            "Non-trainable params: 0\n",
            "_________________________________________________________________\n",
            "Epoch 1/500\n",
            "213/213 [==============================] - 2s 4ms/step - loss: 26.3075 - acc: 0.8230 - val_loss: 6.4034 - val_acc: 0.3910\n",
            "Epoch 2/500\n",
            "213/213 [==============================] - 1s 3ms/step - loss: 1.1968 - acc: 0.9473 - val_loss: 3.8604 - val_acc: 0.4098\n",
            "Epoch 3/500\n",
            "213/213 [==============================] - 1s 3ms/step - loss: 0.9819 - acc: 0.9435 - val_loss: 1.0608 - val_acc: 0.9774\n",
            "Epoch 4/500\n",
            "213/213 [==============================] - 1s 3ms/step - loss: 0.7352 - acc: 0.9605 - val_loss: 0.3305 - val_acc: 0.8985\n",
            "Epoch 5/500\n",
            "213/213 [==============================] - 1s 3ms/step - loss: 0.5669 - acc: 0.9510 - val_loss: 0.6189 - val_acc: 0.9774\n",
            "Epoch 6/500\n",
            "213/213 [==============================] - 1s 5ms/step - loss: 0.7347 - acc: 0.9576 - val_loss: 0.3468 - val_acc: 0.9774\n",
            "Epoch 7/500\n",
            "213/213 [==============================] - 1s 6ms/step - loss: 0.6078 - acc: 0.9520 - val_loss: 0.3385 - val_acc: 0.9774\n",
            "Epoch 8/500\n",
            "213/213 [==============================] - 1s 4ms/step - loss: 0.6703 - acc: 0.9492 - val_loss: 1.2759 - val_acc: 0.9774\n",
            "Epoch 9/500\n",
            "213/213 [==============================] - 1s 4ms/step - loss: 0.2815 - acc: 0.9642 - val_loss: 0.2100 - val_acc: 0.9774\n",
            "Epoch 10/500\n",
            "213/213 [==============================] - 1s 3ms/step - loss: 0.5092 - acc: 0.9539 - val_loss: 0.8666 - val_acc: 0.9774\n",
            "Epoch 11/500\n",
            "213/213 [==============================] - 1s 3ms/step - loss: 0.6269 - acc: 0.9576 - val_loss: 0.2718 - val_acc: 0.9774\n",
            "Epoch 12/500\n",
            "213/213 [==============================] - 1s 3ms/step - loss: 0.3269 - acc: 0.9652 - val_loss: 0.9355 - val_acc: 0.9774\n",
            "Epoch 13/500\n",
            "200/213 [===========================>..] - ETA: 0s - loss: 0.4274 - acc: 0.9570Restoring model weights from the end of the best epoch: 3.\n",
            "213/213 [==============================] - 1s 3ms/step - loss: 0.4030 - acc: 0.9595 - val_loss: 0.3385 - val_acc: 0.9774\n",
            "Epoch 13: early stopping\n"
          ]
        },
        {
          "output_type": "execute_result",
          "data": {
            "text/plain": [
              "<keras.callbacks.History at 0x7f540715a590>"
            ]
          },
          "metadata": {},
          "execution_count": 45
        }
      ]
    },
    {
      "cell_type": "code",
      "metadata": {
        "id": "9UMXrw9FuPiU",
        "colab": {
          "base_uri": "https://localhost:8080/"
        },
        "outputId": "f46344cc-0cb1-4cab-9eab-374ee2e2cee4"
      },
      "source": [
        "# make a prediction\n",
        "pred = model.predict(X_train)# the pred\n",
        "print(pred) # round them!\n",
        "\n",
        "pred = np.round(pred,0)\n",
        "pred # run all if you get an error..."
      ],
      "execution_count": null,
      "outputs": [
        {
          "output_type": "stream",
          "name": "stdout",
          "text": [
            "[[1.]\n",
            " [1.]\n",
            " [1.]\n",
            " ...\n",
            " [1.]\n",
            " [1.]\n",
            " [1.]]\n"
          ]
        },
        {
          "output_type": "execute_result",
          "data": {
            "text/plain": [
              "array([[1.],\n",
              "       [1.],\n",
              "       [1.],\n",
              "       ...,\n",
              "       [1.],\n",
              "       [1.],\n",
              "       [1.]], dtype=float32)"
            ]
          },
          "metadata": {},
          "execution_count": 46
        }
      ]
    },
    {
      "cell_type": "code",
      "metadata": {
        "id": "mcwJluWMzHw4",
        "colab": {
          "base_uri": "https://localhost:8080/"
        },
        "outputId": "0e9d5a6c-c4ad-4c27-ecb5-975952d261ab"
      },
      "source": [
        "# confusion matrix\n",
        "from sklearn.metrics import confusion_matrix\n",
        "from sklearn.metrics import classification_report\n",
        "print(confusion_matrix(y_train, pred)) # looks pretty good!\n",
        "print(classification_report(y_train, pred))"
      ],
      "execution_count": null,
      "outputs": [
        {
          "output_type": "stream",
          "name": "stdout",
          "text": [
            "[[808  36]\n",
            " [  2 482]]\n",
            "              precision    recall  f1-score   support\n",
            "\n",
            "         0.0       1.00      0.96      0.98       844\n",
            "         1.0       0.93      1.00      0.96       484\n",
            "\n",
            "    accuracy                           0.97      1328\n",
            "   macro avg       0.96      0.98      0.97      1328\n",
            "weighted avg       0.97      0.97      0.97      1328\n",
            "\n"
          ]
        }
      ]
    },
    {
      "cell_type": "code",
      "metadata": {
        "id": "aVsrYzuoyqvu",
        "colab": {
          "base_uri": "https://localhost:8080/",
          "height": 308
        },
        "outputId": "b602c2cf-e21c-4ece-e080-9a8b80bee7d8"
      },
      "source": [
        "# show timeseries plot on the train and validation data\n",
        "plt.plot(np.arange(X_train.shape[0]), y_test, color='blue') # actual data\n",
        "plt.plot(np.arange(X_train.shape[0]), pred, color='red') # predicted data\n",
        "plt.suptitle('Train Results')\n",
        "plt.xlabel('Time')\n",
        "plt.ylabel('Occupied')\n",
        "plt.show()"
      ],
      "execution_count": null,
      "outputs": [
        {
          "output_type": "display_data",
          "data": {
            "text/plain": [
              "<Figure size 432x288 with 1 Axes>"
            ],
            "image/png": "[encoded data removed]"
          },
          "metadata": {
            "needs_background": "light"
          }
        }
      ]
    },
    {
      "cell_type": "code",
      "metadata": {
        "id": "NRVMLMNBzhIt",
        "colab": {
          "base_uri": "https://localhost:8080/",
          "height": 742
        },
        "outputId": "9c8e569f-1cd2-47d7-88d0-64c6402fa71b"
      },
      "source": [
        "# put it all together for other models\n",
        "\n",
        "# make a prediction\n",
        "pred = model.predict(X_test)# the pred\n",
        "print(pred) # round them!\n",
        "\n",
        "pred = np.round(pred,0)\n",
        "print(pred) # run all if you get an error...\n",
        "\n",
        "# confusion matrix - put this at the top!\n",
        "from sklearn.metrics import confusion_matrix\n",
        "from sklearn.metrics import classification_report\n",
        "print(confusion_matrix(y_test, pred)) # looks pretty good!\n",
        "print(classification_report(y_test, pred))\n",
        "\n",
        "# show timeseries plot on the train and validation data\n",
        "plt.plot(np.arange(X_test.shape[0]), y_test, color='blue') # actual data\n",
        "plt.plot(np.arange(X_test.shape[0]), pred, color='red') # predicted data\n",
        "plt.suptitle('Test Results')\n",
        "plt.xlabel('Time')\n",
        "plt.ylabel('Occupied')\n",
        "plt.show()"
      ],
      "execution_count": null,
      "outputs": [
        {
          "output_type": "stream",
          "name": "stdout",
          "text": [
            "[[1.]\n",
            " [1.]\n",
            " [1.]\n",
            " ...\n",
            " [1.]\n",
            " [1.]\n",
            " [1.]]\n",
            "[[1.]\n",
            " [1.]\n",
            " [1.]\n",
            " ...\n",
            " [1.]\n",
            " [1.]\n",
            " [1.]]\n",
            "[[820  29]\n",
            " [  8 471]]\n",
            "              precision    recall  f1-score   support\n",
            "\n",
            "         0.0       0.99      0.97      0.98       849\n",
            "         1.0       0.94      0.98      0.96       479\n",
            "\n",
            "    accuracy                           0.97      1328\n",
            "   macro avg       0.97      0.97      0.97      1328\n",
            "weighted avg       0.97      0.97      0.97      1328\n",
            "\n"
          ]
        },
        {
          "output_type": "display_data",
          "data": {
            "text/plain": [
              "<Figure size 432x288 with 1 Axes>"
            ],
            "image/png": "[encoded data removed]"
          },
          "metadata": {
            "needs_background": "light"
          }
        }
      ]
    },
    {
      "cell_type": "markdown",
      "metadata": {
        "id": "Q0rv8MOAnKMu"
      },
      "source": [
        "# LSTM one layer model\n",
        "Literally, just grab the code above and change SimpleRNN to LSTM and boom! you have a more sophisticated model."
      ]
    },
    {
      "cell_type": "code",
      "metadata": {
        "id": "kQFjiq4xnTPc",
        "colab": {
          "base_uri": "https://localhost:8080/"
        },
        "outputId": "f62dca75-0012-4367-a619-b8709dc8b412"
      },
      "source": [
        "# now let's build a model\n",
        "\n",
        "# since this is a univariate problem, n_features will be 1 (we also defined this before)\n",
        "\n",
        "# define model\n",
        "model = Sequential()\n",
        "model.add(LSTM(30, input_shape=(n_steps,n_features), activation='relu'))\n",
        "model.add(Dense(1, activation='sigmoid'))\n",
        "model.compile(optimizer='adam', loss='binary_crossentropy',metrics=['acc'])\n",
        "model.summary()\n",
        "\n",
        "es = EarlyStopping(monitor='val_acc',\n",
        "                   mode='max',\n",
        "                   patience=10,\n",
        "                   verbose=1,\n",
        "                   restore_best_weights=True)\n",
        "\n",
        "# fit model (uses early stopping)\n",
        "model.fit(X_train, y_train,\n",
        "          epochs=500,\n",
        "          batch_size=5,\n",
        "          validation_split=0.2, # val is a random 20% of the data since we set shuffle = True\n",
        "          verbose=1,\n",
        "          callbacks=[es],\n",
        "          shuffle=True)"
      ],
      "execution_count": null,
      "outputs": [
        {
          "output_type": "stream",
          "name": "stdout",
          "text": [
            "Model: \"sequential_4\"\n",
            "_________________________________________________________________\n",
            " Layer (type)                Output Shape              Param #   \n",
            "=================================================================\n",
            " lstm_1 (LSTM)               (None, 30)                4320      \n",
            "                                                                 \n",
            " dense_4 (Dense)             (None, 1)                 31        \n",
            "                                                                 \n",
            "=================================================================\n",
            "Total params: 4,351\n",
            "Trainable params: 4,351\n",
            "Non-trainable params: 0\n",
            "_________________________________________________________________\n",
            "Epoch 1/500\n",
            "213/213 [==============================] - 2s 6ms/step - loss: 3.8597 - acc: 0.5640 - val_loss: 0.4174 - val_acc: 0.9361\n",
            "Epoch 2/500\n",
            "213/213 [==============================] - 1s 4ms/step - loss: 0.1232 - acc: 0.9661 - val_loss: 0.7720 - val_acc: 0.6767\n",
            "Epoch 3/500\n",
            "213/213 [==============================] - 1s 4ms/step - loss: 0.1096 - acc: 0.9633 - val_loss: 0.4848 - val_acc: 0.7970\n",
            "Epoch 4/500\n",
            "213/213 [==============================] - 1s 5ms/step - loss: 0.0777 - acc: 0.9718 - val_loss: 0.3687 - val_acc: 0.8835\n",
            "Epoch 5/500\n",
            "213/213 [==============================] - 1s 4ms/step - loss: 0.1219 - acc: 0.9680 - val_loss: 0.6356 - val_acc: 0.8647\n",
            "Epoch 6/500\n",
            "213/213 [==============================] - 1s 5ms/step - loss: 0.1270 - acc: 0.9633 - val_loss: 0.4573 - val_acc: 0.8797\n",
            "Epoch 7/500\n",
            "213/213 [==============================] - 1s 5ms/step - loss: 0.0932 - acc: 0.9680 - val_loss: 0.2220 - val_acc: 0.9474\n",
            "Epoch 8/500\n",
            "213/213 [==============================] - 1s 5ms/step - loss: 0.1397 - acc: 0.9623 - val_loss: 0.2215 - val_acc: 0.9549\n",
            "Epoch 9/500\n",
            "213/213 [==============================] - 1s 5ms/step - loss: 0.0695 - acc: 0.9746 - val_loss: 0.1435 - val_acc: 0.9774\n",
            "Epoch 10/500\n",
            "213/213 [==============================] - 1s 5ms/step - loss: 0.0859 - acc: 0.9680 - val_loss: 0.3300 - val_acc: 0.9436\n",
            "Epoch 11/500\n",
            "213/213 [==============================] - 1s 5ms/step - loss: 0.0807 - acc: 0.9689 - val_loss: 0.2178 - val_acc: 0.9774\n",
            "Epoch 12/500\n",
            "213/213 [==============================] - 1s 4ms/step - loss: 0.0985 - acc: 0.9699 - val_loss: 0.1552 - val_acc: 0.9624\n",
            "Epoch 13/500\n",
            "213/213 [==============================] - 1s 5ms/step - loss: 0.0866 - acc: 0.9689 - val_loss: 0.1423 - val_acc: 0.9774\n",
            "Epoch 14/500\n",
            "213/213 [==============================] - 1s 5ms/step - loss: 0.0832 - acc: 0.9727 - val_loss: 0.1291 - val_acc: 0.9737\n",
            "Epoch 15/500\n",
            "213/213 [==============================] - 1s 6ms/step - loss: 0.1065 - acc: 0.9670 - val_loss: 0.1507 - val_acc: 0.9774\n",
            "Epoch 16/500\n",
            "213/213 [==============================] - 1s 6ms/step - loss: 0.0986 - acc: 0.9661 - val_loss: 0.2803 - val_acc: 0.9774\n",
            "Epoch 17/500\n",
            "213/213 [==============================] - 1s 5ms/step - loss: 0.0828 - acc: 0.9699 - val_loss: 0.3692 - val_acc: 0.7632\n",
            "Epoch 18/500\n",
            "213/213 [==============================] - 1s 5ms/step - loss: 0.0867 - acc: 0.9670 - val_loss: 0.1336 - val_acc: 0.9774\n",
            "Epoch 19/500\n",
            "206/213 [============================>.] - ETA: 0s - loss: 0.0851 - acc: 0.9650Restoring model weights from the end of the best epoch: 9.\n",
            "213/213 [==============================] - 1s 5ms/step - loss: 0.0827 - acc: 0.9661 - val_loss: 0.1171 - val_acc: 0.9774\n",
            "Epoch 19: early stopping\n"
          ]
        },
        {
          "output_type": "execute_result",
          "data": {
            "text/plain": [
              "<keras.callbacks.History at 0x7f54042345d0>"
            ]
          },
          "metadata": {},
          "execution_count": 50
        }
      ]
    },
    {
      "cell_type": "code",
      "metadata": {
        "id": "Tr8HOv4CuM_f",
        "colab": {
          "base_uri": "https://localhost:8080/",
          "height": 742
        },
        "outputId": "f8d90d7d-599e-4dd9-935a-0664f6e451b8"
      },
      "source": [
        "# put it all together for other models\n",
        "\n",
        "# make a prediction\n",
        "pred = model.predict(X_test)# the pred\n",
        "print(pred) # round them!\n",
        "\n",
        "pred = np.round(pred,0)\n",
        "print(pred) # run all if you get an error...\n",
        "\n",
        "# confusion matrix - put this at the top!\n",
        "from sklearn.metrics import confusion_matrix\n",
        "from sklearn.metrics import classification_report\n",
        "print(confusion_matrix(y_test, pred)) # looks pretty good!\n",
        "print(classification_report(y_test, pred))\n",
        "\n",
        "# show timeseries plot on the train and validation data\n",
        "plt.plot(np.arange(X_test.shape[0]), y_test, color='blue') # actual data\n",
        "plt.plot(np.arange(X_test.shape[0]), pred, color='red') # predicted data\n",
        "plt.suptitle('Test Results')\n",
        "plt.xlabel('Time')\n",
        "plt.ylabel('Occupied')\n",
        "plt.show()"
      ],
      "execution_count": null,
      "outputs": [
        {
          "output_type": "stream",
          "name": "stdout",
          "text": [
            "[[0.9999033 ]\n",
            " [0.9995415 ]\n",
            " [0.88509786]\n",
            " ...\n",
            " [1.        ]\n",
            " [1.        ]\n",
            " [0.99999964]]\n",
            "[[1.]\n",
            " [1.]\n",
            " [1.]\n",
            " ...\n",
            " [1.]\n",
            " [1.]\n",
            " [1.]]\n",
            "[[814  35]\n",
            " [  4 475]]\n",
            "              precision    recall  f1-score   support\n",
            "\n",
            "         0.0       1.00      0.96      0.98       849\n",
            "         1.0       0.93      0.99      0.96       479\n",
            "\n",
            "    accuracy                           0.97      1328\n",
            "   macro avg       0.96      0.98      0.97      1328\n",
            "weighted avg       0.97      0.97      0.97      1328\n",
            "\n"
          ]
        },
        {
          "output_type": "display_data",
          "data": {
            "text/plain": [
              "<Figure size 432x288 with 1 Axes>"
            ],
            "image/png": "[encoded data removed]"
          },
          "metadata": {
            "needs_background": "light"
          }
        }
      ]
    },
    {
      "cell_type": "markdown",
      "metadata": {
        "id": "i47ktcqOklwq"
      },
      "source": [
        "# RNN two layer model\n",
        "Don't forget to set return_sequences=True!"
      ]
    },
    {
      "cell_type": "code",
      "metadata": {
        "id": "hIbyvYJJmWNZ",
        "colab": {
          "base_uri": "https://localhost:8080/"
        },
        "outputId": "9b23028c-b7d8-4d2b-c8d1-d4911c73c4a0"
      },
      "source": [
        "# now let's build a model\n",
        "\n",
        "# since this is a univariate problem, n_features will be 1 (we also defined this before)\n",
        "\n",
        "# define model\n",
        "model = Sequential()\n",
        "model.add(SimpleRNN(30, input_shape=(n_steps,n_features), return_sequences=True, activation='relu'))\n",
        "                                    # note that the output when\n",
        "                                    # return_sequences=True makes the output [n_steps, features]\n",
        "                                    # where rows = n_steps (10!) and features = hidden size (30!)\n",
        "model.add(SimpleRNN(30)) # output is a simple vector [1,30] that goes into a dense layer\n",
        "                          # NO RETURN_SEQUENCES!!!\n",
        "model.add(Dense(1, activation='sigmoid'))\n",
        "model.compile(optimizer='adam', loss='binary_crossentropy',metrics=['acc'])\n",
        "model.summary()\n",
        "\n",
        "es = EarlyStopping(monitor='val_acc', mode='max',\n",
        "                   patience=10,\n",
        "                   verbose=1,\n",
        "                   restore_best_weights=True)\n",
        "\n",
        "# fit model (uses early stopping)\n",
        "model.fit(X_train, y_train,\n",
        "          epochs=500,\n",
        "          batch_size=5,\n",
        "          validation_split=0.2, # val is a random 20% of the data since we set shuffle = True\n",
        "          verbose=1,\n",
        "          callbacks=[es],\n",
        "          shuffle=True)"
      ],
      "execution_count": null,
      "outputs": [
        {
          "output_type": "stream",
          "name": "stdout",
          "text": [
            "Model: \"sequential_5\"\n",
            "_________________________________________________________________\n",
            " Layer (type)                Output Shape              Param #   \n",
            "=================================================================\n",
            " simple_rnn_4 (SimpleRNN)    (None, 10, 30)            1080      \n",
            "                                                                 \n",
            " simple_rnn_5 (SimpleRNN)    (None, 30)                1830      \n",
            "                                                                 \n",
            " dense_5 (Dense)             (None, 1)                 31        \n",
            "                                                                 \n",
            "=================================================================\n",
            "Total params: 2,941\n",
            "Trainable params: 2,941\n",
            "Non-trainable params: 0\n",
            "_________________________________________________________________\n",
            "Epoch 1/500\n",
            "213/213 [==============================] - 2s 6ms/step - loss: 0.4121 - acc: 0.8173 - val_loss: 0.7675 - val_acc: 0.0226\n",
            "Epoch 2/500\n",
            "213/213 [==============================] - 1s 5ms/step - loss: 0.2927 - acc: 0.7891 - val_loss: 0.6920 - val_acc: 0.9774\n",
            "Epoch 3/500\n",
            "213/213 [==============================] - 1s 4ms/step - loss: 0.2459 - acc: 0.9237 - val_loss: 1.0111 - val_acc: 0.0226\n",
            "Epoch 4/500\n",
            "213/213 [==============================] - 1s 5ms/step - loss: 0.2639 - acc: 0.8550 - val_loss: 0.5302 - val_acc: 0.9774\n",
            "Epoch 5/500\n",
            "213/213 [==============================] - 1s 5ms/step - loss: 0.2028 - acc: 0.9746 - val_loss: 0.1682 - val_acc: 0.9774\n",
            "Epoch 6/500\n",
            "213/213 [==============================] - 1s 5ms/step - loss: 0.2597 - acc: 0.8832 - val_loss: 0.5198 - val_acc: 0.9774\n",
            "Epoch 7/500\n",
            "213/213 [==============================] - 1s 5ms/step - loss: 0.2875 - acc: 0.8352 - val_loss: 0.2937 - val_acc: 0.9774\n",
            "Epoch 8/500\n",
            "213/213 [==============================] - 1s 5ms/step - loss: 0.1517 - acc: 0.9718 - val_loss: 0.3142 - val_acc: 0.9774\n",
            "Epoch 9/500\n",
            "213/213 [==============================] - 1s 5ms/step - loss: 0.1275 - acc: 0.9718 - val_loss: 0.2760 - val_acc: 0.9774\n",
            "Epoch 10/500\n",
            "213/213 [==============================] - 1s 5ms/step - loss: 0.1149 - acc: 0.9718 - val_loss: 0.2441 - val_acc: 0.9774\n",
            "Epoch 11/500\n",
            "213/213 [==============================] - 1s 5ms/step - loss: 0.1070 - acc: 0.9718 - val_loss: 0.2433 - val_acc: 0.9774\n",
            "Epoch 12/500\n",
            "209/213 [============================>.] - ETA: 0s - loss: 0.0998 - acc: 0.9732Restoring model weights from the end of the best epoch: 2.\n",
            "213/213 [==============================] - 1s 4ms/step - loss: 0.1022 - acc: 0.9718 - val_loss: 0.2115 - val_acc: 0.9774\n",
            "Epoch 12: early stopping\n"
          ]
        },
        {
          "output_type": "execute_result",
          "data": {
            "text/plain": [
              "<keras.callbacks.History at 0x7f5403d28090>"
            ]
          },
          "metadata": {},
          "execution_count": 52
        }
      ]
    },
    {
      "cell_type": "code",
      "metadata": {
        "id": "eK-TvprvuOLA",
        "colab": {
          "base_uri": "https://localhost:8080/",
          "height": 742
        },
        "outputId": "0064b53d-4c33-4d28-8ec0-261da7f3a30a"
      },
      "source": [
        "# put it all together for other models\n",
        "\n",
        "# make a prediction\n",
        "pred = model.predict(X_test)# the pred\n",
        "print(pred) # round them!\n",
        "\n",
        "pred = np.round(pred,0)\n",
        "print(pred) # run all if you get an error...\n",
        "\n",
        "# confusion matrix - put this at the top!\n",
        "from sklearn.metrics import confusion_matrix\n",
        "from sklearn.metrics import classification_report\n",
        "print(confusion_matrix(y_test, pred)) # looks pretty good!\n",
        "print(classification_report(y_test, pred))\n",
        "\n",
        "# show timeseries plot on the train and validation data\n",
        "plt.plot(np.arange(X_test.shape[0]), y_test, color='blue') # actual data\n",
        "plt.plot(np.arange(X_test.shape[0]), pred, color='red') # predicted data\n",
        "plt.suptitle('Test Results')\n",
        "plt.xlabel('Time')\n",
        "plt.ylabel('Occupied')\n",
        "plt.show()"
      ],
      "execution_count": null,
      "outputs": [
        {
          "output_type": "stream",
          "name": "stdout",
          "text": [
            "[[0.5006269]\n",
            " [0.5006269]\n",
            " [0.5006269]\n",
            " ...\n",
            " [0.5006269]\n",
            " [0.5006269]\n",
            " [0.5006269]]\n",
            "[[1.]\n",
            " [1.]\n",
            " [1.]\n",
            " ...\n",
            " [1.]\n",
            " [1.]\n",
            " [1.]]\n",
            "[[827  22]\n",
            " [156 323]]\n",
            "              precision    recall  f1-score   support\n",
            "\n",
            "         0.0       0.84      0.97      0.90       849\n",
            "         1.0       0.94      0.67      0.78       479\n",
            "\n",
            "    accuracy                           0.87      1328\n",
            "   macro avg       0.89      0.82      0.84      1328\n",
            "weighted avg       0.88      0.87      0.86      1328\n",
            "\n"
          ]
        },
        {
          "output_type": "display_data",
          "data": {
            "text/plain": [
              "<Figure size 432x288 with 1 Axes>"
            ],
            "image/png": "[encoded data removed]"
          },
          "metadata": {
            "needs_background": "light"
          }
        }
      ]
    },
    {
      "cell_type": "markdown",
      "metadata": {
        "id": "FQLdNm3CuGOh"
      },
      "source": [
        "# Baseline Model\n",
        "What if you just use yesterday's value as the prediction?!"
      ]
    },
    {
      "cell_type": "code",
      "metadata": {
        "id": "5scuyEzlaesd",
        "colab": {
          "base_uri": "https://localhost:8080/",
          "height": 206
        },
        "outputId": "979d33be-a25b-4aee-f89e-a563aa3a4536"
      },
      "source": [
        "# baseline model - prediction is just the previous time step (a tough one to beat!)\n",
        "df['Baseline'] = df['Occupancy'].shift(1)\n",
        "df.head()"
      ],
      "execution_count": null,
      "outputs": [
        {
          "output_type": "execute_result",
          "data": {
            "text/plain": [
              "     Temperature  Humidity       Light         CO2  HumidityRatio  Occupancy  \\\n",
              "140      23.7000    26.272  585.200000  749.200000       0.004764          1   \n",
              "141      23.7180    26.290  578.400000  760.400000       0.004773          1   \n",
              "142      23.7300    26.230  572.666667  769.666667       0.004765          1   \n",
              "143      23.7225    26.125  493.750000  774.750000       0.004744          1   \n",
              "144      23.7540    26.200  488.600000  779.000000       0.004767          1   \n",
              "\n",
              "     Baseline  \n",
              "140       NaN  \n",
              "141       1.0  \n",
              "142       1.0  \n",
              "143       1.0  \n",
              "144       1.0  "
            ],
            "text/html": [
              "\n",
              "  <div id=\"df-f57a585f-f863-4d15-bf90-a428bc6e0e66\">\n",
              "    <div class=\"colab-df-container\">\n",
              "      <div>\n",
              "<style scoped>\n",
              "    .dataframe tbody tr th:only-of-type {\n",
              "        vertical-align: middle;\n",
              "    }\n",
              "\n",
              "    .dataframe tbody tr th {\n",
              "        vertical-align: top;\n",
              "    }\n",
              "\n",
              "    .dataframe thead th {\n",
              "        text-align: right;\n",
              "    }\n",
              "</style>\n",
              "<table border=\"1\" class=\"dataframe\">\n",
              "  <thead>\n",
              "    <tr style=\"text-align: right;\">\n",
              "      <th></th>\n",
              "      <th>Temperature</th>\n",
              "      <th>Humidity</th>\n",
              "      <th>Light</th>\n",
              "      <th>CO2</th>\n",
              "      <th>HumidityRatio</th>\n",
              "      <th>Occupancy</th>\n",
              "      <th>Baseline</th>\n",
              "    </tr>\n",
              "  </thead>\n",
              "  <tbody>\n",
              "    <tr>\n",
              "      <th>140</th>\n",
              "      <td>23.7000</td>\n",
              "      <td>26.272</td>\n",
              "      <td>585.200000</td>\n",
              "      <td>749.200000</td>\n",
              "      <td>0.004764</td>\n",
              "      <td>1</td>\n",
              "      <td>NaN</td>\n",
              "    </tr>\n",
              "    <tr>\n",
              "      <th>141</th>\n",
              "      <td>23.7180</td>\n",
              "      <td>26.290</td>\n",
              "      <td>578.400000</td>\n",
              "      <td>760.400000</td>\n",
              "      <td>0.004773</td>\n",
              "      <td>1</td>\n",
              "      <td>1.0</td>\n",
              "    </tr>\n",
              "    <tr>\n",
              "      <th>142</th>\n",
              "      <td>23.7300</td>\n",
              "      <td>26.230</td>\n",
              "      <td>572.666667</td>\n",
              "      <td>769.666667</td>\n",
              "      <td>0.004765</td>\n",
              "      <td>1</td>\n",
              "      <td>1.0</td>\n",
              "    </tr>\n",
              "    <tr>\n",
              "      <th>143</th>\n",
              "      <td>23.7225</td>\n",
              "      <td>26.125</td>\n",
              "      <td>493.750000</td>\n",
              "      <td>774.750000</td>\n",
              "      <td>0.004744</td>\n",
              "      <td>1</td>\n",
              "      <td>1.0</td>\n",
              "    </tr>\n",
              "    <tr>\n",
              "      <th>144</th>\n",
              "      <td>23.7540</td>\n",
              "      <td>26.200</td>\n",
              "      <td>488.600000</td>\n",
              "      <td>779.000000</td>\n",
              "      <td>0.004767</td>\n",
              "      <td>1</td>\n",
              "      <td>1.0</td>\n",
              "    </tr>\n",
              "  </tbody>\n",
              "</table>\n",
              "</div>\n",
              "      <button class=\"colab-df-convert\" onclick=\"convertToInteractive('df-f57a585f-f863-4d15-bf90-a428bc6e0e66')\"\n",
              "              title=\"Convert this dataframe to an interactive table.\"\n",
              "              style=\"display:none;\">\n",
              "        \n",
              "  <svg xmlns=\"http://www.w3.org/2000/svg\" height=\"24px\"viewBox=\"0 0 24 24\"\n",
              "       width=\"24px\">\n",
              "    <path d=\"M0 0h24v24H0V0z\" fill=\"none\"/>\n",
              "    <path d=\"M18.56 5.44l.94 2.06.94-2.06 2.06-.94-2.06-.94-.94-2.06-.94 2.06-2.06.94zm-11 1L8.5 8.5l.94-2.06 2.06-.94-2.06-.94L8.5 2.5l-.94 2.06-2.06.94zm10 10l.94 2.06.94-2.06 2.06-.94-2.06-.94-.94-2.06-.94 2.06-2.06.94z\"/><path d=\"M17.41 7.96l-1.37-1.37c-.4-.4-.92-.59-1.43-.59-.52 0-1.04.2-1.43.59L10.3 9.45l-7.72 7.72c-.78.78-.78 2.05 0 2.83L4 21.41c.39.39.9.59 1.41.59.51 0 1.02-.2 1.41-.59l7.78-7.78 2.81-2.81c.8-.78.8-2.07 0-2.86zM5.41 20L4 18.59l7.72-7.72 1.47 1.35L5.41 20z\"/>\n",
              "  </svg>\n",
              "      </button>\n",
              "      \n",
              "  <style>\n",
              "    .colab-df-container {\n",
              "      display:flex;\n",
              "      flex-wrap:wrap;\n",
              "      gap: 12px;\n",
              "    }\n",
              "\n",
              "    .colab-df-convert {\n",
              "      background-color: #E8F0FE;\n",
              "      border: none;\n",
              "      border-radius: 50%;\n",
              "      cursor: pointer;\n",
              "      display: none;\n",
              "      fill: #1967D2;\n",
              "      height: 32px;\n",
              "      padding: 0 0 0 0;\n",
              "      width: 32px;\n",
              "    }\n",
              "\n",
              "    .colab-df-convert:hover {\n",
              "      background-color: #E2EBFA;\n",
              "      box-shadow: 0px 1px 2px rgba(60, 64, 67, 0.3), 0px 1px 3px 1px rgba(60, 64, 67, 0.15);\n",
              "      fill: #174EA6;\n",
              "    }\n",
              "\n",
              "    [theme=dark] .colab-df-convert {\n",
              "      background-color: #3B4455;\n",
              "      fill: #D2E3FC;\n",
              "    }\n",
              "\n",
              "    [theme=dark] .colab-df-convert:hover {\n",
              "      background-color: #434B5C;\n",
              "      box-shadow: 0px 1px 3px 1px rgba(0, 0, 0, 0.15);\n",
              "      filter: drop-shadow(0px 1px 2px rgba(0, 0, 0, 0.3));\n",
              "      fill: #FFFFFF;\n",
              "    }\n",
              "  </style>\n",
              "\n",
              "      <script>\n",
              "        const buttonEl =\n",
              "          document.querySelector('#df-f57a585f-f863-4d15-bf90-a428bc6e0e66 button.colab-df-convert');\n",
              "        buttonEl.style.display =\n",
              "          google.colab.kernel.accessAllowed ? 'block' : 'none';\n",
              "\n",
              "        async function convertToInteractive(key) {\n",
              "          const element = document.querySelector('#df-f57a585f-f863-4d15-bf90-a428bc6e0e66');\n",
              "          const dataTable =\n",
              "            await google.colab.kernel.invokeFunction('convertToInteractive',\n",
              "                                                     [key], {});\n",
              "          if (!dataTable) return;\n",
              "\n",
              "          const docLinkHtml = 'Like what you see? Visit the ' +\n",
              "            '<a target=\"_blank\" href=https://colab.research.google.com/notebooks/data_table.ipynb>data table notebook</a>'\n",
              "            + ' to learn more about interactive tables.';\n",
              "          element.innerHTML = '';\n",
              "          dataTable['output_type'] = 'display_data';\n",
              "          await google.colab.output.renderOutput(dataTable, element);\n",
              "          const docLink = document.createElement('div');\n",
              "          docLink.innerHTML = docLinkHtml;\n",
              "          element.appendChild(docLink);\n",
              "        }\n",
              "      </script>\n",
              "    </div>\n",
              "  </div>\n",
              "  "
            ]
          },
          "metadata": {},
          "execution_count": 54
        }
      ]
    },
    {
      "cell_type": "code",
      "metadata": {
        "id": "otniwZcj0vGT",
        "colab": {
          "base_uri": "https://localhost:8080/"
        },
        "outputId": "7f3de3c4-63ca-432e-8935-94107d058f4f"
      },
      "source": [
        "y_test_baseline = df['Baseline']\n",
        "# just extract rows corresponding to y_test\n",
        "y_test_baseline = y_test_baseline.tail(y_test.shape[0])\n",
        "# verify shape\n",
        "print(y_test.shape)\n",
        "print(y_test_baseline.shape) # good!"
      ],
      "execution_count": null,
      "outputs": [
        {
          "output_type": "stream",
          "name": "stdout",
          "text": [
            "(1328,)\n",
            "(1328,)\n"
          ]
        }
      ]
    },
    {
      "cell_type": "code",
      "metadata": {
        "id": "FgdPx5AXfO27",
        "colab": {
          "base_uri": "https://localhost:8080/",
          "height": 499
        },
        "outputId": "2e6c9a2d-c173-4037-88a3-b22b8e0c1abf"
      },
      "source": [
        "# see how it does!\n",
        "pred = y_test_baseline # the pred\n",
        "\n",
        "# confusion matrix - put this at the top!\n",
        "from sklearn.metrics import confusion_matrix\n",
        "from sklearn.metrics import classification_report\n",
        "print(confusion_matrix(y_test, pred)) # looks pretty good!\n",
        "print(classification_report(y_test, pred))\n",
        "\n",
        "# show timeseries plot on the train and validation data\n",
        "plt.plot(np.arange(X_test.shape[0]), y_test, color='blue') # actual data\n",
        "plt.plot(np.arange(X_test.shape[0]), pred, color='red') # predicted data\n",
        "plt.suptitle('Test Results')\n",
        "plt.xlabel('Time')\n",
        "plt.ylabel('Occupied')\n",
        "plt.show()"
      ],
      "execution_count": null,
      "outputs": [
        {
          "output_type": "stream",
          "name": "stdout",
          "text": [
            "[[842   7]\n",
            " [  7 472]]\n",
            "              precision    recall  f1-score   support\n",
            "\n",
            "         0.0       0.99      0.99      0.99       849\n",
            "         1.0       0.99      0.99      0.99       479\n",
            "\n",
            "    accuracy                           0.99      1328\n",
            "   macro avg       0.99      0.99      0.99      1328\n",
            "weighted avg       0.99      0.99      0.99      1328\n",
            "\n"
          ]
        },
        {
          "output_type": "display_data",
          "data": {
            "text/plain": [
              "<Figure size 432x288 with 1 Axes>"
            ],
            "image/png": "[encoded data removed]"
          },
          "metadata": {
            "needs_background": "light"
          }
        }
      ]
    },
    {
      "cell_type": "code",
      "metadata": {
        "id": "fFinN6CNf0qr",
        "colab": {
          "base_uri": "https://localhost:8080/",
          "height": 265
        },
        "outputId": "6fb87726-856c-4e2a-e70d-65d396c1d7db"
      },
      "source": [
        "# show timeseries plot on the train and validation data\n",
        "plt.plot(np.arange(X_test.shape[0]), y_test, color='blue') # actual data\n",
        "plt.plot(np.arange(X_test.shape[0]), pred, color='red') # predicted data\n",
        "plt.show()\n",
        "# looks good, BUT it's not a smart model! all the data is just shifted."
      ],
      "execution_count": null,
      "outputs": [
        {
          "output_type": "display_data",
          "data": {
            "text/plain": [
              "<Figure size 432x288 with 1 Axes>"
            ],
            "image/png": "[encoded data removed]"
          },
          "metadata": {
            "needs_background": "light"
          }
        }
      ]
    },
    {
      "cell_type": "code",
      "metadata": {
        "id": "oPHFIXMegNUM"
      },
      "source": [
        "# be careful of the baseline model\n",
        "# and make sure you choose an appropriate measure\n",
        "# for the problem you are trying to solve..."
      ],
      "execution_count": null,
      "outputs": []
    }
  ]
}