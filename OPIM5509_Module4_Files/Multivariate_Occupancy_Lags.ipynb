{
  "nbformat": 4,
  "nbformat_minor": 0,
  "metadata": {
    "colab": {
      "provenance": []
    },
    "kernelspec": {
      "name": "python3",
      "display_name": "Python 3"
    }
  },
  "cells": [
    {
      "cell_type": "markdown",
      "source": [
        "[![Open In Colab](https://colab.research.google.com/assets/colab-badge.svg)](https://colab.research.google.com/github/drdave-teaching/OPIM5509Files/blob/main/OPIM5509_Module4_Files/Multivariate_Occupancy_Lags.ipynb)"
      ],
      "metadata": {
        "id": "6QEVw9cOTxHu"
      }
    },
    {
      "cell_type": "markdown",
      "metadata": {
        "id": "qHm6AVNVWGUd"
      },
      "source": [
        "# Multivariate Occupancy Example\n",
        "--------------------------------------------------\n",
        "**Dr. Dave Wanik - University of Connecticut**\n",
        "\n",
        "Let's see if we can predict if it's a room is occupied as a function of environmental data.\n",
        "\n",
        "Link: http://archive.ics.uci.edu/ml/datasets/Occupancy+Detection+\n",
        "\n",
        "Same flow as before, just need to prep our data differently. For now, we ignore the time dimension but we could resample to a regular resolution.\n",
        "\n",
        "Wow - also a nice example: https://machinelearningmastery.com/multivariate-time-series-forecasting-lstms-keras/"
      ]
    },
    {
      "cell_type": "code",
      "metadata": {
        "id": "e79dX394WFyg"
      },
      "source": [
        "# standard modules\n",
        "import numpy as np\n",
        "import pandas as pd\n",
        "import matplotlib.pyplot as plt\n",
        "\n",
        "# RNN-specific modules\n",
        "import pandas as pd\n",
        "import numpy as np\n",
        "from sklearn.preprocessing import MinMaxScaler\n",
        "from sklearn.metrics import classification_report,accuracy_score\n",
        "from tensorflow.keras import layers, Sequential\n",
        "from tensorflow.keras.layers import Conv1D, MaxPooling1D\n",
        "from tensorflow.keras.layers import Dense, Dropout, SimpleRNN, GRU, LSTM\n",
        "from tensorflow.keras.callbacks import EarlyStopping"
      ],
      "execution_count": 1,
      "outputs": []
    },
    {
      "cell_type": "markdown",
      "metadata": {
        "id": "Nrmaa3nQhj26"
      },
      "source": [
        "## Read in data\n",
        "Check for missing values, make some plots."
      ]
    },
    {
      "cell_type": "code",
      "metadata": {
        "id": "Xeb0Lq88WTtg",
        "colab": {
          "base_uri": "https://localhost:8080/",
          "height": 780
        },
        "outputId": "16a7e05f-5297-4b04-eeb3-381c9f67838d"
      },
      "source": [
        "# Dataset initially sourced from LuisM78’s GitHub repository:\n",
        "# url = 'https://raw.githubusercontent.com/LuisM78/Occupancy-detection-data/master/datatest.txt'\n",
        "# Link to the data file on Github\n",
        "url = \"https://raw.githubusercontent.com/drdave-teaching/OPIM5509Files/refs/heads/main/OPIM5509_Module4_Files/datatest.txt\"\n",
        "\n",
        "# read the data\n",
        "df = pd.read_csv(url)\n",
        "print(df.info())\n",
        "df.head(n=15) # nice complete data! this will allow us to check our work later"
      ],
      "execution_count": null,
      "outputs": [
        {
          "output_type": "stream",
          "name": "stdout",
          "text": [
            "<class 'pandas.core.frame.DataFrame'>\n",
            "Int64Index: 2665 entries, 140 to 2804\n",
            "Data columns (total 7 columns):\n",
            " #   Column         Non-Null Count  Dtype  \n",
            "---  ------         --------------  -----  \n",
            " 0   date           2665 non-null   object \n",
            " 1   Temperature    2665 non-null   float64\n",
            " 2   Humidity       2665 non-null   float64\n",
            " 3   Light          2665 non-null   float64\n",
            " 4   CO2            2665 non-null   float64\n",
            " 5   HumidityRatio  2665 non-null   float64\n",
            " 6   Occupancy      2665 non-null   int64  \n",
            "dtypes: float64(5), int64(1), object(1)\n",
            "memory usage: 166.6+ KB\n",
            "None\n"
          ]
        },
        {
          "output_type": "execute_result",
          "data": {
            "text/plain": [
              "                    date  Temperature  Humidity       Light         CO2  \\\n",
              "140  2015-02-02 14:19:00      23.7000    26.272  585.200000  749.200000   \n",
              "141  2015-02-02 14:19:59      23.7180    26.290  578.400000  760.400000   \n",
              "142  2015-02-02 14:21:00      23.7300    26.230  572.666667  769.666667   \n",
              "143  2015-02-02 14:22:00      23.7225    26.125  493.750000  774.750000   \n",
              "144  2015-02-02 14:23:00      23.7540    26.200  488.600000  779.000000   \n",
              "145  2015-02-02 14:23:59      23.7600    26.260  568.666667  790.000000   \n",
              "146  2015-02-02 14:25:00      23.7300    26.290  536.333333  798.000000   \n",
              "147  2015-02-02 14:25:59      23.7540    26.290  509.000000  797.000000   \n",
              "148  2015-02-02 14:26:59      23.7540    26.350  476.000000  803.200000   \n",
              "149  2015-02-02 14:28:00      23.7360    26.390  510.000000  809.000000   \n",
              "150  2015-02-02 14:29:00      23.7450    26.445  481.500000  815.250000   \n",
              "151  2015-02-02 14:30:00      23.7000    26.560  481.800000  824.000000   \n",
              "152  2015-02-02 14:31:00      23.7000    26.600  475.250000  832.000000   \n",
              "153  2015-02-02 14:31:59      23.7000    26.700  469.000000  845.333333   \n",
              "154  2015-02-02 14:32:59      23.7000    26.774  464.000000  852.400000   \n",
              "\n",
              "     HumidityRatio  Occupancy  \n",
              "140       0.004764          1  \n",
              "141       0.004773          1  \n",
              "142       0.004765          1  \n",
              "143       0.004744          1  \n",
              "144       0.004767          1  \n",
              "145       0.004779          1  \n",
              "146       0.004776          1  \n",
              "147       0.004783          1  \n",
              "148       0.004794          1  \n",
              "149       0.004796          1  \n",
              "150       0.004809          1  \n",
              "151       0.004817          1  \n",
              "152       0.004824          1  \n",
              "153       0.004842          1  \n",
              "154       0.004856          1  "
            ],
            "text/html": [
              "\n",
              "  <div id=\"df-73170deb-6a36-492a-8bd7-7d8bf26b8085\">\n",
              "    <div class=\"colab-df-container\">\n",
              "      <div>\n",
              "<style scoped>\n",
              "    .dataframe tbody tr th:only-of-type {\n",
              "        vertical-align: middle;\n",
              "    }\n",
              "\n",
              "    .dataframe tbody tr th {\n",
              "        vertical-align: top;\n",
              "    }\n",
              "\n",
              "    .dataframe thead th {\n",
              "        text-align: right;\n",
              "    }\n",
              "</style>\n",
              "<table border=\"1\" class=\"dataframe\">\n",
              "  <thead>\n",
              "    <tr style=\"text-align: right;\">\n",
              "      <th></th>\n",
              "      <th>date</th>\n",
              "      <th>Temperature</th>\n",
              "      <th>Humidity</th>\n",
              "      <th>Light</th>\n",
              "      <th>CO2</th>\n",
              "      <th>HumidityRatio</th>\n",
              "      <th>Occupancy</th>\n",
              "    </tr>\n",
              "  </thead>\n",
              "  <tbody>\n",
              "    <tr>\n",
              "      <th>140</th>\n",
              "      <td>2015-02-02 14:19:00</td>\n",
              "      <td>23.7000</td>\n",
              "      <td>26.272</td>\n",
              "      <td>585.200000</td>\n",
              "      <td>749.200000</td>\n",
              "      <td>0.004764</td>\n",
              "      <td>1</td>\n",
              "    </tr>\n",
              "    <tr>\n",
              "      <th>141</th>\n",
              "      <td>2015-02-02 14:19:59</td>\n",
              "      <td>23.7180</td>\n",
              "      <td>26.290</td>\n",
              "      <td>578.400000</td>\n",
              "      <td>760.400000</td>\n",
              "      <td>0.004773</td>\n",
              "      <td>1</td>\n",
              "    </tr>\n",
              "    <tr>\n",
              "      <th>142</th>\n",
              "      <td>2015-02-02 14:21:00</td>\n",
              "      <td>23.7300</td>\n",
              "      <td>26.230</td>\n",
              "      <td>572.666667</td>\n",
              "      <td>769.666667</td>\n",
              "      <td>0.004765</td>\n",
              "      <td>1</td>\n",
              "    </tr>\n",
              "    <tr>\n",
              "      <th>143</th>\n",
              "      <td>2015-02-02 14:22:00</td>\n",
              "      <td>23.7225</td>\n",
              "      <td>26.125</td>\n",
              "      <td>493.750000</td>\n",
              "      <td>774.750000</td>\n",
              "      <td>0.004744</td>\n",
              "      <td>1</td>\n",
              "    </tr>\n",
              "    <tr>\n",
              "      <th>144</th>\n",
              "      <td>2015-02-02 14:23:00</td>\n",
              "      <td>23.7540</td>\n",
              "      <td>26.200</td>\n",
              "      <td>488.600000</td>\n",
              "      <td>779.000000</td>\n",
              "      <td>0.004767</td>\n",
              "      <td>1</td>\n",
              "    </tr>\n",
              "    <tr>\n",
              "      <th>145</th>\n",
              "      <td>2015-02-02 14:23:59</td>\n",
              "      <td>23.7600</td>\n",
              "      <td>26.260</td>\n",
              "      <td>568.666667</td>\n",
              "      <td>790.000000</td>\n",
              "      <td>0.004779</td>\n",
              "      <td>1</td>\n",
              "    </tr>\n",
              "    <tr>\n",
              "      <th>146</th>\n",
              "      <td>2015-02-02 14:25:00</td>\n",
              "      <td>23.7300</td>\n",
              "      <td>26.290</td>\n",
              "      <td>536.333333</td>\n",
              "      <td>798.000000</td>\n",
              "      <td>0.004776</td>\n",
              "      <td>1</td>\n",
              "    </tr>\n",
              "    <tr>\n",
              "      <th>147</th>\n",
              "      <td>2015-02-02 14:25:59</td>\n",
              "      <td>23.7540</td>\n",
              "      <td>26.290</td>\n",
              "      <td>509.000000</td>\n",
              "      <td>797.000000</td>\n",
              "      <td>0.004783</td>\n",
              "      <td>1</td>\n",
              "    </tr>\n",
              "    <tr>\n",
              "      <th>148</th>\n",
              "      <td>2015-02-02 14:26:59</td>\n",
              "      <td>23.7540</td>\n",
              "      <td>26.350</td>\n",
              "      <td>476.000000</td>\n",
              "      <td>803.200000</td>\n",
              "      <td>0.004794</td>\n",
              "      <td>1</td>\n",
              "    </tr>\n",
              "    <tr>\n",
              "      <th>149</th>\n",
              "      <td>2015-02-02 14:28:00</td>\n",
              "      <td>23.7360</td>\n",
              "      <td>26.390</td>\n",
              "      <td>510.000000</td>\n",
              "      <td>809.000000</td>\n",
              "      <td>0.004796</td>\n",
              "      <td>1</td>\n",
              "    </tr>\n",
              "    <tr>\n",
              "      <th>150</th>\n",
              "      <td>2015-02-02 14:29:00</td>\n",
              "      <td>23.7450</td>\n",
              "      <td>26.445</td>\n",
              "      <td>481.500000</td>\n",
              "      <td>815.250000</td>\n",
              "      <td>0.004809</td>\n",
              "      <td>1</td>\n",
              "    </tr>\n",
              "    <tr>\n",
              "      <th>151</th>\n",
              "      <td>2015-02-02 14:30:00</td>\n",
              "      <td>23.7000</td>\n",
              "      <td>26.560</td>\n",
              "      <td>481.800000</td>\n",
              "      <td>824.000000</td>\n",
              "      <td>0.004817</td>\n",
              "      <td>1</td>\n",
              "    </tr>\n",
              "    <tr>\n",
              "      <th>152</th>\n",
              "      <td>2015-02-02 14:31:00</td>\n",
              "      <td>23.7000</td>\n",
              "      <td>26.600</td>\n",
              "      <td>475.250000</td>\n",
              "      <td>832.000000</td>\n",
              "      <td>0.004824</td>\n",
              "      <td>1</td>\n",
              "    </tr>\n",
              "    <tr>\n",
              "      <th>153</th>\n",
              "      <td>2015-02-02 14:31:59</td>\n",
              "      <td>23.7000</td>\n",
              "      <td>26.700</td>\n",
              "      <td>469.000000</td>\n",
              "      <td>845.333333</td>\n",
              "      <td>0.004842</td>\n",
              "      <td>1</td>\n",
              "    </tr>\n",
              "    <tr>\n",
              "      <th>154</th>\n",
              "      <td>2015-02-02 14:32:59</td>\n",
              "      <td>23.7000</td>\n",
              "      <td>26.774</td>\n",
              "      <td>464.000000</td>\n",
              "      <td>852.400000</td>\n",
              "      <td>0.004856</td>\n",
              "      <td>1</td>\n",
              "    </tr>\n",
              "  </tbody>\n",
              "</table>\n",
              "</div>\n",
              "      <button class=\"colab-df-convert\" onclick=\"convertToInteractive('df-73170deb-6a36-492a-8bd7-7d8bf26b8085')\"\n",
              "              title=\"Convert this dataframe to an interactive table.\"\n",
              "              style=\"display:none;\">\n",
              "        \n",
              "  <svg xmlns=\"http://www.w3.org/2000/svg\" height=\"24px\"viewBox=\"0 0 24 24\"\n",
              "       width=\"24px\">\n",
              "    <path d=\"M0 0h24v24H0V0z\" fill=\"none\"/>\n",
              "    <path d=\"M18.56 5.44l.94 2.06.94-2.06 2.06-.94-2.06-.94-.94-2.06-.94 2.06-2.06.94zm-11 1L8.5 8.5l.94-2.06 2.06-.94-2.06-.94L8.5 2.5l-.94 2.06-2.06.94zm10 10l.94 2.06.94-2.06 2.06-.94-2.06-.94-.94-2.06-.94 2.06-2.06.94z\"/><path d=\"M17.41 7.96l-1.37-1.37c-.4-.4-.92-.59-1.43-.59-.52 0-1.04.2-1.43.59L10.3 9.45l-7.72 7.72c-.78.78-.78 2.05 0 2.83L4 21.41c.39.39.9.59 1.41.59.51 0 1.02-.2 1.41-.59l7.78-7.78 2.81-2.81c.8-.78.8-2.07 0-2.86zM5.41 20L4 18.59l7.72-7.72 1.47 1.35L5.41 20z\"/>\n",
              "  </svg>\n",
              "      </button>\n",
              "      \n",
              "  <style>\n",
              "    .colab-df-container {\n",
              "      display:flex;\n",
              "      flex-wrap:wrap;\n",
              "      gap: 12px;\n",
              "    }\n",
              "\n",
              "    .colab-df-convert {\n",
              "      background-color: #E8F0FE;\n",
              "      border: none;\n",
              "      border-radius: 50%;\n",
              "      cursor: pointer;\n",
              "      display: none;\n",
              "      fill: #1967D2;\n",
              "      height: 32px;\n",
              "      padding: 0 0 0 0;\n",
              "      width: 32px;\n",
              "    }\n",
              "\n",
              "    .colab-df-convert:hover {\n",
              "      background-color: #E2EBFA;\n",
              "      box-shadow: 0px 1px 2px rgba(60, 64, 67, 0.3), 0px 1px 3px 1px rgba(60, 64, 67, 0.15);\n",
              "      fill: #174EA6;\n",
              "    }\n",
              "\n",
              "    [theme=dark] .colab-df-convert {\n",
              "      background-color: #3B4455;\n",
              "      fill: #D2E3FC;\n",
              "    }\n",
              "\n",
              "    [theme=dark] .colab-df-convert:hover {\n",
              "      background-color: #434B5C;\n",
              "      box-shadow: 0px 1px 3px 1px rgba(0, 0, 0, 0.15);\n",
              "      filter: drop-shadow(0px 1px 2px rgba(0, 0, 0, 0.3));\n",
              "      fill: #FFFFFF;\n",
              "    }\n",
              "  </style>\n",
              "\n",
              "      <script>\n",
              "        const buttonEl =\n",
              "          document.querySelector('#df-73170deb-6a36-492a-8bd7-7d8bf26b8085 button.colab-df-convert');\n",
              "        buttonEl.style.display =\n",
              "          google.colab.kernel.accessAllowed ? 'block' : 'none';\n",
              "\n",
              "        async function convertToInteractive(key) {\n",
              "          const element = document.querySelector('#df-73170deb-6a36-492a-8bd7-7d8bf26b8085');\n",
              "          const dataTable =\n",
              "            await google.colab.kernel.invokeFunction('convertToInteractive',\n",
              "                                                     [key], {});\n",
              "          if (!dataTable) return;\n",
              "\n",
              "          const docLinkHtml = 'Like what you see? Visit the ' +\n",
              "            '<a target=\"_blank\" href=https://colab.research.google.com/notebooks/data_table.ipynb>data table notebook</a>'\n",
              "            + ' to learn more about interactive tables.';\n",
              "          element.innerHTML = '';\n",
              "          dataTable['output_type'] = 'display_data';\n",
              "          await google.colab.output.renderOutput(dataTable, element);\n",
              "          const docLink = document.createElement('div');\n",
              "          docLink.innerHTML = docLinkHtml;\n",
              "          element.appendChild(docLink);\n",
              "        }\n",
              "      </script>\n",
              "    </div>\n",
              "  </div>\n",
              "  "
            ]
          },
          "metadata": {},
          "execution_count": 2
        }
      ]
    },
    {
      "cell_type": "code",
      "metadata": {
        "id": "ZR2BCi6PDkdV",
        "colab": {
          "base_uri": "https://localhost:8080/"
        },
        "outputId": "a611bafa-9636-498a-f5a9-585596acb1ab"
      },
      "source": [
        "# count of occupancy\n",
        "df['Occupancy'].value_counts() # not perfectly balanced, but that's OK"
      ],
      "execution_count": null,
      "outputs": [
        {
          "output_type": "execute_result",
          "data": {
            "text/plain": [
              "0    1693\n",
              "1     972\n",
              "Name: Occupancy, dtype: int64"
            ]
          },
          "metadata": {},
          "execution_count": 3
        }
      ]
    },
    {
      "cell_type": "code",
      "metadata": {
        "id": "1wkzRQuLh9HH",
        "colab": {
          "base_uri": "https://localhost:8080/",
          "height": 265
        },
        "outputId": "88cb8b11-e2be-4e64-b254-74cb7519bee3"
      },
      "source": [
        "# visualize the data\n",
        "df['Occupancy'].plot()\n",
        "plt.show()"
      ],
      "execution_count": null,
      "outputs": [
        {
          "output_type": "display_data",
          "data": {
            "text/plain": [
              "<Figure size 432x288 with 1 Axes>"
            ],
            "image/png": "[encoded data removed]"
          },
          "metadata": {
            "needs_background": "light"
          }
        }
      ]
    },
    {
      "cell_type": "code",
      "metadata": {
        "id": "N7QOxLwQD0bh",
        "colab": {
          "base_uri": "https://localhost:8080/",
          "height": 265
        },
        "outputId": "a92ebeef-740c-4cae-e448-d40844da658c"
      },
      "source": [
        "# visualize the data\n",
        "df['CO2'].plot()\n",
        "plt.show()"
      ],
      "execution_count": null,
      "outputs": [
        {
          "output_type": "display_data",
          "data": {
            "text/plain": [
              "<Figure size 432x288 with 1 Axes>"
            ],
            "image/png": "[encoded data removed]"
          },
          "metadata": {
            "needs_background": "light"
          }
        }
      ]
    },
    {
      "cell_type": "code",
      "metadata": {
        "id": "b_0hVUAuEiMD",
        "colab": {
          "base_uri": "https://localhost:8080/",
          "height": 223
        },
        "outputId": "1ede7f2d-0855-4be1-9ae5-f9a8c3087e31"
      },
      "source": [
        "# drop the date column\n",
        "df.drop(['date'], inplace=True, axis=1)\n",
        "print(df.shape)\n",
        "df.head()"
      ],
      "execution_count": null,
      "outputs": [
        {
          "output_type": "stream",
          "name": "stdout",
          "text": [
            "(2665, 6)\n"
          ]
        },
        {
          "output_type": "execute_result",
          "data": {
            "text/plain": [
              "     Temperature  Humidity       Light         CO2  HumidityRatio  Occupancy\n",
              "140      23.7000    26.272  585.200000  749.200000       0.004764          1\n",
              "141      23.7180    26.290  578.400000  760.400000       0.004773          1\n",
              "142      23.7300    26.230  572.666667  769.666667       0.004765          1\n",
              "143      23.7225    26.125  493.750000  774.750000       0.004744          1\n",
              "144      23.7540    26.200  488.600000  779.000000       0.004767          1"
            ],
            "text/html": [
              "\n",
              "  <div id=\"df-2195a2f0-31c4-40f2-bc99-531daac3d883\">\n",
              "    <div class=\"colab-df-container\">\n",
              "      <div>\n",
              "<style scoped>\n",
              "    .dataframe tbody tr th:only-of-type {\n",
              "        vertical-align: middle;\n",
              "    }\n",
              "\n",
              "    .dataframe tbody tr th {\n",
              "        vertical-align: top;\n",
              "    }\n",
              "\n",
              "    .dataframe thead th {\n",
              "        text-align: right;\n",
              "    }\n",
              "</style>\n",
              "<table border=\"1\" class=\"dataframe\">\n",
              "  <thead>\n",
              "    <tr style=\"text-align: right;\">\n",
              "      <th></th>\n",
              "      <th>Temperature</th>\n",
              "      <th>Humidity</th>\n",
              "      <th>Light</th>\n",
              "      <th>CO2</th>\n",
              "      <th>HumidityRatio</th>\n",
              "      <th>Occupancy</th>\n",
              "    </tr>\n",
              "  </thead>\n",
              "  <tbody>\n",
              "    <tr>\n",
              "      <th>140</th>\n",
              "      <td>23.7000</td>\n",
              "      <td>26.272</td>\n",
              "      <td>585.200000</td>\n",
              "      <td>749.200000</td>\n",
              "      <td>0.004764</td>\n",
              "      <td>1</td>\n",
              "    </tr>\n",
              "    <tr>\n",
              "      <th>141</th>\n",
              "      <td>23.7180</td>\n",
              "      <td>26.290</td>\n",
              "      <td>578.400000</td>\n",
              "      <td>760.400000</td>\n",
              "      <td>0.004773</td>\n",
              "      <td>1</td>\n",
              "    </tr>\n",
              "    <tr>\n",
              "      <th>142</th>\n",
              "      <td>23.7300</td>\n",
              "      <td>26.230</td>\n",
              "      <td>572.666667</td>\n",
              "      <td>769.666667</td>\n",
              "      <td>0.004765</td>\n",
              "      <td>1</td>\n",
              "    </tr>\n",
              "    <tr>\n",
              "      <th>143</th>\n",
              "      <td>23.7225</td>\n",
              "      <td>26.125</td>\n",
              "      <td>493.750000</td>\n",
              "      <td>774.750000</td>\n",
              "      <td>0.004744</td>\n",
              "      <td>1</td>\n",
              "    </tr>\n",
              "    <tr>\n",
              "      <th>144</th>\n",
              "      <td>23.7540</td>\n",
              "      <td>26.200</td>\n",
              "      <td>488.600000</td>\n",
              "      <td>779.000000</td>\n",
              "      <td>0.004767</td>\n",
              "      <td>1</td>\n",
              "    </tr>\n",
              "  </tbody>\n",
              "</table>\n",
              "</div>\n",
              "      <button class=\"colab-df-convert\" onclick=\"convertToInteractive('df-2195a2f0-31c4-40f2-bc99-531daac3d883')\"\n",
              "              title=\"Convert this dataframe to an interactive table.\"\n",
              "              style=\"display:none;\">\n",
              "        \n",
              "  <svg xmlns=\"http://www.w3.org/2000/svg\" height=\"24px\"viewBox=\"0 0 24 24\"\n",
              "       width=\"24px\">\n",
              "    <path d=\"M0 0h24v24H0V0z\" fill=\"none\"/>\n",
              "    <path d=\"M18.56 5.44l.94 2.06.94-2.06 2.06-.94-2.06-.94-.94-2.06-.94 2.06-2.06.94zm-11 1L8.5 8.5l.94-2.06 2.06-.94-2.06-.94L8.5 2.5l-.94 2.06-2.06.94zm10 10l.94 2.06.94-2.06 2.06-.94-2.06-.94-.94-2.06-.94 2.06-2.06.94z\"/><path d=\"M17.41 7.96l-1.37-1.37c-.4-.4-.92-.59-1.43-.59-.52 0-1.04.2-1.43.59L10.3 9.45l-7.72 7.72c-.78.78-.78 2.05 0 2.83L4 21.41c.39.39.9.59 1.41.59.51 0 1.02-.2 1.41-.59l7.78-7.78 2.81-2.81c.8-.78.8-2.07 0-2.86zM5.41 20L4 18.59l7.72-7.72 1.47 1.35L5.41 20z\"/>\n",
              "  </svg>\n",
              "      </button>\n",
              "      \n",
              "  <style>\n",
              "    .colab-df-container {\n",
              "      display:flex;\n",
              "      flex-wrap:wrap;\n",
              "      gap: 12px;\n",
              "    }\n",
              "\n",
              "    .colab-df-convert {\n",
              "      background-color: #E8F0FE;\n",
              "      border: none;\n",
              "      border-radius: 50%;\n",
              "      cursor: pointer;\n",
              "      display: none;\n",
              "      fill: #1967D2;\n",
              "      height: 32px;\n",
              "      padding: 0 0 0 0;\n",
              "      width: 32px;\n",
              "    }\n",
              "\n",
              "    .colab-df-convert:hover {\n",
              "      background-color: #E2EBFA;\n",
              "      box-shadow: 0px 1px 2px rgba(60, 64, 67, 0.3), 0px 1px 3px 1px rgba(60, 64, 67, 0.15);\n",
              "      fill: #174EA6;\n",
              "    }\n",
              "\n",
              "    [theme=dark] .colab-df-convert {\n",
              "      background-color: #3B4455;\n",
              "      fill: #D2E3FC;\n",
              "    }\n",
              "\n",
              "    [theme=dark] .colab-df-convert:hover {\n",
              "      background-color: #434B5C;\n",
              "      box-shadow: 0px 1px 3px 1px rgba(0, 0, 0, 0.15);\n",
              "      filter: drop-shadow(0px 1px 2px rgba(0, 0, 0, 0.3));\n",
              "      fill: #FFFFFF;\n",
              "    }\n",
              "  </style>\n",
              "\n",
              "      <script>\n",
              "        const buttonEl =\n",
              "          document.querySelector('#df-2195a2f0-31c4-40f2-bc99-531daac3d883 button.colab-df-convert');\n",
              "        buttonEl.style.display =\n",
              "          google.colab.kernel.accessAllowed ? 'block' : 'none';\n",
              "\n",
              "        async function convertToInteractive(key) {\n",
              "          const element = document.querySelector('#df-2195a2f0-31c4-40f2-bc99-531daac3d883');\n",
              "          const dataTable =\n",
              "            await google.colab.kernel.invokeFunction('convertToInteractive',\n",
              "                                                     [key], {});\n",
              "          if (!dataTable) return;\n",
              "\n",
              "          const docLinkHtml = 'Like what you see? Visit the ' +\n",
              "            '<a target=\"_blank\" href=https://colab.research.google.com/notebooks/data_table.ipynb>data table notebook</a>'\n",
              "            + ' to learn more about interactive tables.';\n",
              "          element.innerHTML = '';\n",
              "          dataTable['output_type'] = 'display_data';\n",
              "          await google.colab.output.renderOutput(dataTable, element);\n",
              "          const docLink = document.createElement('div');\n",
              "          docLink.innerHTML = docLinkHtml;\n",
              "          element.appendChild(docLink);\n",
              "        }\n",
              "      </script>\n",
              "    </div>\n",
              "  </div>\n",
              "  "
            ]
          },
          "metadata": {},
          "execution_count": 6
        }
      ]
    },
    {
      "cell_type": "code",
      "metadata": {
        "id": "Jw7spRoqWeUd"
      },
      "source": [
        "# link: https://machinelearningmastery.com/convert-time-series-supervised-learning-problem-python/\n",
        "\n",
        "# we will probably drop the Y variable before running this\n",
        "\n",
        "from pandas import DataFrame\n",
        "from pandas import concat\n",
        "\n",
        "def series_to_supervised(data, n_in=1, n_out=1, dropnan=True):\n",
        "\t\"\"\"\n",
        "\tFrame a time series as a supervised learning dataset.\n",
        "\tArguments:\n",
        "\t\tdata: Sequence of observations as a list or NumPy array.\n",
        "\t\tn_in: Number of lag observations as input (X).\n",
        "\t\tn_out: Number of observations as output (y).\n",
        "\t\tdropnan: Boolean whether or not to drop rows with NaN values.\n",
        "\tReturns:\n",
        "\t\tPandas DataFrame of series framed for supervised learning.\n",
        "\t\"\"\"\n",
        "\tn_vars = 1 if type(data) is list else data.shape[1]\n",
        "\tdf = DataFrame(data)\n",
        "\tcols, names = list(), list()\n",
        "\t# input sequence (t-n, ... t-1)\n",
        "\tfor i in range(n_in, 0, -1):\n",
        "\t\tcols.append(df.shift(i))\n",
        "\t\tnames += [('var%d(t-%d)' % (j+1, i)) for j in range(n_vars)]\n",
        "\t# forecast sequence (t, t+1, ... t+n)\n",
        "\tfor i in range(0, n_out):\n",
        "\t\tcols.append(df.shift(-i))\n",
        "\t\tif i == 0:\n",
        "\t\t\tnames += [('var%d(t)' % (j+1)) for j in range(n_vars)]\n",
        "\t\telse:\n",
        "\t\t\tnames += [('var%d(t+%d)' % (j+1, i)) for j in range(n_vars)]\n",
        "\t# put it all together\n",
        "\tagg = concat(cols, axis=1)\n",
        "\tagg.columns = names\n",
        "\t# drop rows with NaN values\n",
        "\tif dropnan:\n",
        "\t\tagg.dropna(inplace=True)\n",
        "\treturn agg"
      ],
      "execution_count": null,
      "outputs": []
    },
    {
      "cell_type": "code",
      "metadata": {
        "id": "-dFtHS7AWqx1"
      },
      "source": [
        "# now let's prep the data - just processing X\n",
        "tmp = series_to_supervised(df, n_in=3, n_out=1)"
      ],
      "execution_count": null,
      "outputs": []
    },
    {
      "cell_type": "markdown",
      "metadata": {
        "id": "-LCS7X-nq9Yh"
      },
      "source": [
        "We can do some clean-up here and get rid of the y columns we don't need (unless we want to use prior timesteps!) It's your choice - do you want to use past values of y to make a prediction - or just use the X variables?"
      ]
    },
    {
      "cell_type": "code",
      "metadata": {
        "id": "f3FFdichq1vD",
        "colab": {
          "base_uri": "https://localhost:8080/",
          "height": 872
        },
        "outputId": "6df6dab4-224c-4e91-fd30-1b37ca6ff8da"
      },
      "source": [
        "print(tmp.info())\n",
        "tmp.head()"
      ],
      "execution_count": null,
      "outputs": [
        {
          "output_type": "stream",
          "name": "stdout",
          "text": [
            "<class 'pandas.core.frame.DataFrame'>\n",
            "Int64Index: 2662 entries, 143 to 2804\n",
            "Data columns (total 24 columns):\n",
            " #   Column     Non-Null Count  Dtype  \n",
            "---  ------     --------------  -----  \n",
            " 0   var1(t-3)  2662 non-null   float64\n",
            " 1   var2(t-3)  2662 non-null   float64\n",
            " 2   var3(t-3)  2662 non-null   float64\n",
            " 3   var4(t-3)  2662 non-null   float64\n",
            " 4   var5(t-3)  2662 non-null   float64\n",
            " 5   var6(t-3)  2662 non-null   float64\n",
            " 6   var1(t-2)  2662 non-null   float64\n",
            " 7   var2(t-2)  2662 non-null   float64\n",
            " 8   var3(t-2)  2662 non-null   float64\n",
            " 9   var4(t-2)  2662 non-null   float64\n",
            " 10  var5(t-2)  2662 non-null   float64\n",
            " 11  var6(t-2)  2662 non-null   float64\n",
            " 12  var1(t-1)  2662 non-null   float64\n",
            " 13  var2(t-1)  2662 non-null   float64\n",
            " 14  var3(t-1)  2662 non-null   float64\n",
            " 15  var4(t-1)  2662 non-null   float64\n",
            " 16  var5(t-1)  2662 non-null   float64\n",
            " 17  var6(t-1)  2662 non-null   float64\n",
            " 18  var1(t)    2662 non-null   float64\n",
            " 19  var2(t)    2662 non-null   float64\n",
            " 20  var3(t)    2662 non-null   float64\n",
            " 21  var4(t)    2662 non-null   float64\n",
            " 22  var5(t)    2662 non-null   float64\n",
            " 23  var6(t)    2662 non-null   int64  \n",
            "dtypes: float64(23), int64(1)\n",
            "memory usage: 519.9 KB\n",
            "None\n"
          ]
        },
        {
          "output_type": "execute_result",
          "data": {
            "text/plain": [
              "     var1(t-3)  var2(t-3)   var3(t-3)   var4(t-3)  var5(t-3)  var6(t-3)  \\\n",
              "143    23.7000     26.272  585.200000  749.200000   0.004764        1.0   \n",
              "144    23.7180     26.290  578.400000  760.400000   0.004773        1.0   \n",
              "145    23.7300     26.230  572.666667  769.666667   0.004765        1.0   \n",
              "146    23.7225     26.125  493.750000  774.750000   0.004744        1.0   \n",
              "147    23.7540     26.200  488.600000  779.000000   0.004767        1.0   \n",
              "\n",
              "     var1(t-2)  var2(t-2)   var3(t-2)   var4(t-2)  ...   var3(t-1)  \\\n",
              "143    23.7180     26.290  578.400000  760.400000  ...  572.666667   \n",
              "144    23.7300     26.230  572.666667  769.666667  ...  493.750000   \n",
              "145    23.7225     26.125  493.750000  774.750000  ...  488.600000   \n",
              "146    23.7540     26.200  488.600000  779.000000  ...  568.666667   \n",
              "147    23.7600     26.260  568.666667  790.000000  ...  536.333333   \n",
              "\n",
              "      var4(t-1)  var5(t-1)  var6(t-1)  var1(t)  var2(t)     var3(t)  var4(t)  \\\n",
              "143  769.666667   0.004765        1.0  23.7225   26.125  493.750000   774.75   \n",
              "144  774.750000   0.004744        1.0  23.7540   26.200  488.600000   779.00   \n",
              "145  779.000000   0.004767        1.0  23.7600   26.260  568.666667   790.00   \n",
              "146  790.000000   0.004779        1.0  23.7300   26.290  536.333333   798.00   \n",
              "147  798.000000   0.004776        1.0  23.7540   26.290  509.000000   797.00   \n",
              "\n",
              "      var5(t)  var6(t)  \n",
              "143  0.004744        1  \n",
              "144  0.004767        1  \n",
              "145  0.004779        1  \n",
              "146  0.004776        1  \n",
              "147  0.004783        1  \n",
              "\n",
              "[5 rows x 24 columns]"
            ],
            "text/html": [
              "\n",
              "  <div id=\"df-66418f9c-5eb8-4588-af51-2011495eb317\">\n",
              "    <div class=\"colab-df-container\">\n",
              "      <div>\n",
              "<style scoped>\n",
              "    .dataframe tbody tr th:only-of-type {\n",
              "        vertical-align: middle;\n",
              "    }\n",
              "\n",
              "    .dataframe tbody tr th {\n",
              "        vertical-align: top;\n",
              "    }\n",
              "\n",
              "    .dataframe thead th {\n",
              "        text-align: right;\n",
              "    }\n",
              "</style>\n",
              "<table border=\"1\" class=\"dataframe\">\n",
              "  <thead>\n",
              "    <tr style=\"text-align: right;\">\n",
              "      <th></th>\n",
              "      <th>var1(t-3)</th>\n",
              "      <th>var2(t-3)</th>\n",
              "      <th>var3(t-3)</th>\n",
              "      <th>var4(t-3)</th>\n",
              "      <th>var5(t-3)</th>\n",
              "      <th>var6(t-3)</th>\n",
              "      <th>var1(t-2)</th>\n",
              "      <th>var2(t-2)</th>\n",
              "      <th>var3(t-2)</th>\n",
              "      <th>var4(t-2)</th>\n",
              "      <th>...</th>\n",
              "      <th>var3(t-1)</th>\n",
              "      <th>var4(t-1)</th>\n",
              "      <th>var5(t-1)</th>\n",
              "      <th>var6(t-1)</th>\n",
              "      <th>var1(t)</th>\n",
              "      <th>var2(t)</th>\n",
              "      <th>var3(t)</th>\n",
              "      <th>var4(t)</th>\n",
              "      <th>var5(t)</th>\n",
              "      <th>var6(t)</th>\n",
              "    </tr>\n",
              "  </thead>\n",
              "  <tbody>\n",
              "    <tr>\n",
              "      <th>143</th>\n",
              "      <td>23.7000</td>\n",
              "      <td>26.272</td>\n",
              "      <td>585.200000</td>\n",
              "      <td>749.200000</td>\n",
              "      <td>0.004764</td>\n",
              "      <td>1.0</td>\n",
              "      <td>23.7180</td>\n",
              "      <td>26.290</td>\n",
              "      <td>578.400000</td>\n",
              "      <td>760.400000</td>\n",
              "      <td>...</td>\n",
              "      <td>572.666667</td>\n",
              "      <td>769.666667</td>\n",
              "      <td>0.004765</td>\n",
              "      <td>1.0</td>\n",
              "      <td>23.7225</td>\n",
              "      <td>26.125</td>\n",
              "      <td>493.750000</td>\n",
              "      <td>774.75</td>\n",
              "      <td>0.004744</td>\n",
              "      <td>1</td>\n",
              "    </tr>\n",
              "    <tr>\n",
              "      <th>144</th>\n",
              "      <td>23.7180</td>\n",
              "      <td>26.290</td>\n",
              "      <td>578.400000</td>\n",
              "      <td>760.400000</td>\n",
              "      <td>0.004773</td>\n",
              "      <td>1.0</td>\n",
              "      <td>23.7300</td>\n",
              "      <td>26.230</td>\n",
              "      <td>572.666667</td>\n",
              "      <td>769.666667</td>\n",
              "      <td>...</td>\n",
              "      <td>493.750000</td>\n",
              "      <td>774.750000</td>\n",
              "      <td>0.004744</td>\n",
              "      <td>1.0</td>\n",
              "      <td>23.7540</td>\n",
              "      <td>26.200</td>\n",
              "      <td>488.600000</td>\n",
              "      <td>779.00</td>\n",
              "      <td>0.004767</td>\n",
              "      <td>1</td>\n",
              "    </tr>\n",
              "    <tr>\n",
              "      <th>145</th>\n",
              "      <td>23.7300</td>\n",
              "      <td>26.230</td>\n",
              "      <td>572.666667</td>\n",
              "      <td>769.666667</td>\n",
              "      <td>0.004765</td>\n",
              "      <td>1.0</td>\n",
              "      <td>23.7225</td>\n",
              "      <td>26.125</td>\n",
              "      <td>493.750000</td>\n",
              "      <td>774.750000</td>\n",
              "      <td>...</td>\n",
              "      <td>488.600000</td>\n",
              "      <td>779.000000</td>\n",
              "      <td>0.004767</td>\n",
              "      <td>1.0</td>\n",
              "      <td>23.7600</td>\n",
              "      <td>26.260</td>\n",
              "      <td>568.666667</td>\n",
              "      <td>790.00</td>\n",
              "      <td>0.004779</td>\n",
              "      <td>1</td>\n",
              "    </tr>\n",
              "    <tr>\n",
              "      <th>146</th>\n",
              "      <td>23.7225</td>\n",
              "      <td>26.125</td>\n",
              "      <td>493.750000</td>\n",
              "      <td>774.750000</td>\n",
              "      <td>0.004744</td>\n",
              "      <td>1.0</td>\n",
              "      <td>23.7540</td>\n",
              "      <td>26.200</td>\n",
              "      <td>488.600000</td>\n",
              "      <td>779.000000</td>\n",
              "      <td>...</td>\n",
              "      <td>568.666667</td>\n",
              "      <td>790.000000</td>\n",
              "      <td>0.004779</td>\n",
              "      <td>1.0</td>\n",
              "      <td>23.7300</td>\n",
              "      <td>26.290</td>\n",
              "      <td>536.333333</td>\n",
              "      <td>798.00</td>\n",
              "      <td>0.004776</td>\n",
              "      <td>1</td>\n",
              "    </tr>\n",
              "    <tr>\n",
              "      <th>147</th>\n",
              "      <td>23.7540</td>\n",
              "      <td>26.200</td>\n",
              "      <td>488.600000</td>\n",
              "      <td>779.000000</td>\n",
              "      <td>0.004767</td>\n",
              "      <td>1.0</td>\n",
              "      <td>23.7600</td>\n",
              "      <td>26.260</td>\n",
              "      <td>568.666667</td>\n",
              "      <td>790.000000</td>\n",
              "      <td>...</td>\n",
              "      <td>536.333333</td>\n",
              "      <td>798.000000</td>\n",
              "      <td>0.004776</td>\n",
              "      <td>1.0</td>\n",
              "      <td>23.7540</td>\n",
              "      <td>26.290</td>\n",
              "      <td>509.000000</td>\n",
              "      <td>797.00</td>\n",
              "      <td>0.004783</td>\n",
              "      <td>1</td>\n",
              "    </tr>\n",
              "  </tbody>\n",
              "</table>\n",
              "<p>5 rows × 24 columns</p>\n",
              "</div>\n",
              "      <button class=\"colab-df-convert\" onclick=\"convertToInteractive('df-66418f9c-5eb8-4588-af51-2011495eb317')\"\n",
              "              title=\"Convert this dataframe to an interactive table.\"\n",
              "              style=\"display:none;\">\n",
              "        \n",
              "  <svg xmlns=\"http://www.w3.org/2000/svg\" height=\"24px\"viewBox=\"0 0 24 24\"\n",
              "       width=\"24px\">\n",
              "    <path d=\"M0 0h24v24H0V0z\" fill=\"none\"/>\n",
              "    <path d=\"M18.56 5.44l.94 2.06.94-2.06 2.06-.94-2.06-.94-.94-2.06-.94 2.06-2.06.94zm-11 1L8.5 8.5l.94-2.06 2.06-.94-2.06-.94L8.5 2.5l-.94 2.06-2.06.94zm10 10l.94 2.06.94-2.06 2.06-.94-2.06-.94-.94-2.06-.94 2.06-2.06.94z\"/><path d=\"M17.41 7.96l-1.37-1.37c-.4-.4-.92-.59-1.43-.59-.52 0-1.04.2-1.43.59L10.3 9.45l-7.72 7.72c-.78.78-.78 2.05 0 2.83L4 21.41c.39.39.9.59 1.41.59.51 0 1.02-.2 1.41-.59l7.78-7.78 2.81-2.81c.8-.78.8-2.07 0-2.86zM5.41 20L4 18.59l7.72-7.72 1.47 1.35L5.41 20z\"/>\n",
              "  </svg>\n",
              "      </button>\n",
              "      \n",
              "  <style>\n",
              "    .colab-df-container {\n",
              "      display:flex;\n",
              "      flex-wrap:wrap;\n",
              "      gap: 12px;\n",
              "    }\n",
              "\n",
              "    .colab-df-convert {\n",
              "      background-color: #E8F0FE;\n",
              "      border: none;\n",
              "      border-radius: 50%;\n",
              "      cursor: pointer;\n",
              "      display: none;\n",
              "      fill: #1967D2;\n",
              "      height: 32px;\n",
              "      padding: 0 0 0 0;\n",
              "      width: 32px;\n",
              "    }\n",
              "\n",
              "    .colab-df-convert:hover {\n",
              "      background-color: #E2EBFA;\n",
              "      box-shadow: 0px 1px 2px rgba(60, 64, 67, 0.3), 0px 1px 3px 1px rgba(60, 64, 67, 0.15);\n",
              "      fill: #174EA6;\n",
              "    }\n",
              "\n",
              "    [theme=dark] .colab-df-convert {\n",
              "      background-color: #3B4455;\n",
              "      fill: #D2E3FC;\n",
              "    }\n",
              "\n",
              "    [theme=dark] .colab-df-convert:hover {\n",
              "      background-color: #434B5C;\n",
              "      box-shadow: 0px 1px 3px 1px rgba(0, 0, 0, 0.15);\n",
              "      filter: drop-shadow(0px 1px 2px rgba(0, 0, 0, 0.3));\n",
              "      fill: #FFFFFF;\n",
              "    }\n",
              "  </style>\n",
              "\n",
              "      <script>\n",
              "        const buttonEl =\n",
              "          document.querySelector('#df-66418f9c-5eb8-4588-af51-2011495eb317 button.colab-df-convert');\n",
              "        buttonEl.style.display =\n",
              "          google.colab.kernel.accessAllowed ? 'block' : 'none';\n",
              "\n",
              "        async function convertToInteractive(key) {\n",
              "          const element = document.querySelector('#df-66418f9c-5eb8-4588-af51-2011495eb317');\n",
              "          const dataTable =\n",
              "            await google.colab.kernel.invokeFunction('convertToInteractive',\n",
              "                                                     [key], {});\n",
              "          if (!dataTable) return;\n",
              "\n",
              "          const docLinkHtml = 'Like what you see? Visit the ' +\n",
              "            '<a target=\"_blank\" href=https://colab.research.google.com/notebooks/data_table.ipynb>data table notebook</a>'\n",
              "            + ' to learn more about interactive tables.';\n",
              "          element.innerHTML = '';\n",
              "          dataTable['output_type'] = 'display_data';\n",
              "          await google.colab.output.renderOutput(dataTable, element);\n",
              "          const docLink = document.createElement('div');\n",
              "          docLink.innerHTML = docLinkHtml;\n",
              "          element.appendChild(docLink);\n",
              "        }\n",
              "      </script>\n",
              "    </div>\n",
              "  </div>\n",
              "  "
            ]
          },
          "metadata": {},
          "execution_count": 9
        }
      ]
    },
    {
      "cell_type": "code",
      "metadata": {
        "id": "1IeCu21pqxVY",
        "colab": {
          "base_uri": "https://localhost:8080/"
        },
        "outputId": "69290b25-519f-408e-fce8-9d19ebfb0c4f"
      },
      "source": [
        "# here are X and y\n",
        "y = tmp['var6(t)']\n",
        "X = tmp.drop(['var6(t)'], axis=1)\n",
        "print(X.shape, y.shape)"
      ],
      "execution_count": null,
      "outputs": [
        {
          "output_type": "stream",
          "name": "stdout",
          "text": [
            "(2662, 23) (2662,)\n"
          ]
        }
      ]
    },
    {
      "cell_type": "code",
      "metadata": {
        "id": "vZ-YEE7NDxx0",
        "colab": {
          "base_uri": "https://localhost:8080/"
        },
        "outputId": "d199e12a-fe83-45c7-90a5-7e76d65dc74a"
      },
      "source": [
        "# for fun, you can delete previous occupancy\n",
        "del X['var6(t-1)']\n",
        "del X['var6(t-2)']\n",
        "del X['var6(t-3)']\n",
        "X.info()"
      ],
      "execution_count": null,
      "outputs": [
        {
          "output_type": "stream",
          "name": "stdout",
          "text": [
            "<class 'pandas.core.frame.DataFrame'>\n",
            "Int64Index: 2662 entries, 143 to 2804\n",
            "Data columns (total 20 columns):\n",
            " #   Column     Non-Null Count  Dtype  \n",
            "---  ------     --------------  -----  \n",
            " 0   var1(t-3)  2662 non-null   float64\n",
            " 1   var2(t-3)  2662 non-null   float64\n",
            " 2   var3(t-3)  2662 non-null   float64\n",
            " 3   var4(t-3)  2662 non-null   float64\n",
            " 4   var5(t-3)  2662 non-null   float64\n",
            " 5   var1(t-2)  2662 non-null   float64\n",
            " 6   var2(t-2)  2662 non-null   float64\n",
            " 7   var3(t-2)  2662 non-null   float64\n",
            " 8   var4(t-2)  2662 non-null   float64\n",
            " 9   var5(t-2)  2662 non-null   float64\n",
            " 10  var1(t-1)  2662 non-null   float64\n",
            " 11  var2(t-1)  2662 non-null   float64\n",
            " 12  var3(t-1)  2662 non-null   float64\n",
            " 13  var4(t-1)  2662 non-null   float64\n",
            " 14  var5(t-1)  2662 non-null   float64\n",
            " 15  var1(t)    2662 non-null   float64\n",
            " 16  var2(t)    2662 non-null   float64\n",
            " 17  var3(t)    2662 non-null   float64\n",
            " 18  var4(t)    2662 non-null   float64\n",
            " 19  var5(t)    2662 non-null   float64\n",
            "dtypes: float64(20)\n",
            "memory usage: 436.7 KB\n"
          ]
        }
      ]
    },
    {
      "cell_type": "code",
      "metadata": {
        "id": "1n0T5Z9GXNfg",
        "colab": {
          "base_uri": "https://localhost:8080/"
        },
        "outputId": "434f6a42-368e-4d9b-9f14-916d8a62c107"
      },
      "source": [
        "# take a peak at what it did\n",
        "print(X.shape) # see how X has blown up?\n",
        "print(y.shape)\n",
        "\n",
        "# scroll up and make sure you understand this!\n",
        "# y is a function of X (the previous n_steps observations!)"
      ],
      "execution_count": null,
      "outputs": [
        {
          "output_type": "stream",
          "name": "stdout",
          "text": [
            "(2662, 20)\n",
            "(2662,)\n"
          ]
        }
      ]
    },
    {
      "cell_type": "code",
      "metadata": {
        "id": "BeyWNLEvX3bU"
      },
      "source": [
        "# split the data into train and test partitions\n",
        "# we will use 50% of the data for train, and 50% for validation\n",
        "train_pct_index = int(0.5 * len(X))\n",
        "X_train, X_test = X[:train_pct_index], X[train_pct_index:]\n",
        "y_train, y_test = y[:train_pct_index], y[train_pct_index:]\n",
        "\n",
        "# pretty slick way of splitting your data using slicing!\n",
        "# notice how we didn't do any shuffling (we don't want temporal leakage! keeps time series intact)"
      ],
      "execution_count": null,
      "outputs": []
    },
    {
      "cell_type": "code",
      "metadata": {
        "id": "Gaoc3yH8ZFh5",
        "colab": {
          "base_uri": "https://localhost:8080/"
        },
        "outputId": "43ec1df9-7203-4187-9d7d-f4ccb2757bfa"
      },
      "source": [
        "# check the shape to be sure\n",
        "print(X.shape, X_train.shape, X_test.shape)\n",
        "print(y.shape, y_train.shape, y_test.shape)\n",
        "\n",
        "# verify that this all adds up!"
      ],
      "execution_count": null,
      "outputs": [
        {
          "output_type": "stream",
          "name": "stdout",
          "text": [
            "(2662, 20) (1331, 20) (1331, 20)\n",
            "(2662,) (1331,) (1331,)\n"
          ]
        }
      ]
    },
    {
      "cell_type": "code",
      "metadata": {
        "id": "8t3PV-6FaTpI",
        "colab": {
          "base_uri": "https://localhost:8080/"
        },
        "outputId": "6d668cbc-3320-426d-b6aa-15d12b0028bf"
      },
      "source": [
        "# if we wanted to, we could do some scaling/normalization here, would not hurt!\n",
        "# link: https://datascience.stackexchange.com/questions/12321/whats-the-difference-between-fit-and-fit-transform-in-scikit-learn-models\n",
        "\n",
        "# do we need to fit this twice?!\n",
        "\n",
        "from sklearn.preprocessing import StandardScaler\n",
        "scaler = StandardScaler().fit(X_train)\n",
        "scaler.transform(X_train)\n",
        "scaler.transform(X_test)"
      ],
      "execution_count": null,
      "outputs": [
        {
          "output_type": "execute_result",
          "data": {
            "text/plain": [
              "array([[1.26267621, 1.20117512, 2.06442737, ..., 2.05920375, 1.42609608,\n",
              "        1.28807725],\n",
              "       [1.34499082, 1.16434456, 2.00029635, ..., 2.0635311 , 1.41813741,\n",
              "        1.28807725],\n",
              "       [1.33984615, 1.15513692, 2.03669504, ..., 2.1003136 , 1.42896119,\n",
              "        1.26764952],\n",
              "       ...,\n",
              "       [3.10446559, 0.72329862, 2.67973857, ..., 2.74292548, 1.7834718 ,\n",
              "        1.81391127],\n",
              "       [3.10446559, 0.65332056, 2.70833754, ..., 2.72561607, 1.77277536,\n",
              "        1.82772885],\n",
              "       [3.14562289, 0.66989431, 2.71613726, ..., 2.66070578, 1.77659552,\n",
              "        1.84836239]])"
            ]
          },
          "metadata": {},
          "execution_count": 15
        }
      ]
    },
    {
      "cell_type": "markdown",
      "metadata": {
        "id": "cX72vY7_ki3K"
      },
      "source": [
        "# DNN one layer model"
      ]
    },
    {
      "cell_type": "code",
      "metadata": {
        "id": "myOKFkDdkria",
        "colab": {
          "base_uri": "https://localhost:8080/"
        },
        "outputId": "7fda8491-c08a-4268-9c0c-4a21b003f627"
      },
      "source": [
        "# now let's build a model\n",
        "\n",
        "# define model\n",
        "model = Sequential()\n",
        "model.add(Dense(30, input_shape=(X.shape[1],), activation='relu'))\n",
        "model.add(Dense(1, activation='sigmoid'))\n",
        "model.compile(optimizer='adam', loss='binary_crossentropy',metrics=['acc'])\n",
        "model.summary()\n",
        "\n",
        "es = EarlyStopping(monitor='val_acc', mode='max',\n",
        "                   patience=10,\n",
        "                   verbose=1,\n",
        "                   restore_best_weights=True)\n",
        "\n",
        "\n",
        "# fit model (uses early stopping)\n",
        "model.fit(X_train, y_train,\n",
        "          epochs=500,\n",
        "          batch_size=10,\n",
        "          validation_split=0.2, # val is a random 20% of the data since we set shuffle = True\n",
        "          verbose=1,\n",
        "          callbacks=[es],\n",
        "          shuffle=True)"
      ],
      "execution_count": null,
      "outputs": [
        {
          "output_type": "stream",
          "name": "stdout",
          "text": [
            "Model: \"sequential\"\n",
            "_________________________________________________________________\n",
            " Layer (type)                Output Shape              Param #   \n",
            "=================================================================\n",
            " dense (Dense)               (None, 30)                630       \n",
            "                                                                 \n",
            " dense_1 (Dense)             (None, 1)                 31        \n",
            "                                                                 \n",
            "=================================================================\n",
            "Total params: 661\n",
            "Trainable params: 661\n",
            "Non-trainable params: 0\n",
            "_________________________________________________________________\n",
            "Epoch 1/500\n",
            "107/107 [==============================] - 2s 10ms/step - loss: 33.3293 - acc: 0.7293 - val_loss: 0.9277 - val_acc: 0.9775\n",
            "Epoch 2/500\n",
            "107/107 [==============================] - 1s 6ms/step - loss: 0.7970 - acc: 0.9511 - val_loss: 0.6781 - val_acc: 0.9775\n",
            "Epoch 3/500\n",
            "107/107 [==============================] - 1s 5ms/step - loss: 1.0981 - acc: 0.9511 - val_loss: 0.9926 - val_acc: 0.9775\n",
            "Epoch 4/500\n",
            "107/107 [==============================] - 1s 5ms/step - loss: 0.6954 - acc: 0.9549 - val_loss: 1.3708 - val_acc: 0.6367\n",
            "Epoch 5/500\n",
            "107/107 [==============================] - 0s 4ms/step - loss: 0.7552 - acc: 0.9530 - val_loss: 1.6094 - val_acc: 0.9775\n",
            "Epoch 6/500\n",
            "107/107 [==============================] - 0s 4ms/step - loss: 0.7586 - acc: 0.9558 - val_loss: 0.8619 - val_acc: 0.9775\n",
            "Epoch 7/500\n",
            "107/107 [==============================] - 0s 5ms/step - loss: 0.6822 - acc: 0.9549 - val_loss: 5.7380 - val_acc: 0.1386\n",
            "Epoch 8/500\n",
            "107/107 [==============================] - 1s 5ms/step - loss: 0.8048 - acc: 0.9511 - val_loss: 0.5361 - val_acc: 0.9775\n",
            "Epoch 9/500\n",
            "107/107 [==============================] - 0s 4ms/step - loss: 0.7989 - acc: 0.9445 - val_loss: 1.1568 - val_acc: 0.9775\n",
            "Epoch 10/500\n",
            "107/107 [==============================] - 1s 5ms/step - loss: 0.5556 - acc: 0.9605 - val_loss: 0.7551 - val_acc: 0.9775\n",
            "Epoch 11/500\n",
            "107/107 [==============================] - ETA: 0s - loss: 0.6078 - acc: 0.9539Restoring model weights from the end of the best epoch: 1.\n",
            "107/107 [==============================] - 1s 6ms/step - loss: 0.6078 - acc: 0.9539 - val_loss: 0.7219 - val_acc: 0.9775\n",
            "Epoch 11: early stopping\n"
          ]
        },
        {
          "output_type": "execute_result",
          "data": {
            "text/plain": [
              "<keras.callbacks.History at 0x7fd2d7364950>"
            ]
          },
          "metadata": {},
          "execution_count": 16
        }
      ]
    },
    {
      "cell_type": "code",
      "metadata": {
        "id": "9UMXrw9FuPiU",
        "colab": {
          "base_uri": "https://localhost:8080/",
          "height": 742
        },
        "outputId": "5ca7a3b1-1fc2-44e0-f99c-96292545afda"
      },
      "source": [
        "# put it all together for other models\n",
        "\n",
        "# make a prediction\n",
        "pred = model.predict(X_test)# the pred\n",
        "print(pred) # round them!\n",
        "\n",
        "pred = np.round(pred,0)\n",
        "print(pred) # run all if you get an error...\n",
        "\n",
        "# confusion matrix - put this at the top!\n",
        "from sklearn.metrics import confusion_matrix\n",
        "from sklearn.metrics import classification_report\n",
        "print(confusion_matrix(y_test, pred)) # looks pretty good!\n",
        "print(classification_report(y_test, pred))\n",
        "\n",
        "# show timeseries plot on the train and validation data\n",
        "plt.plot(np.arange(X_test.shape[0]), y_test, color='blue') # actual data\n",
        "plt.plot(np.arange(X_test.shape[0]), pred, color='red') # predicted data\n",
        "plt.suptitle('Test Results')\n",
        "plt.xlabel('Time')\n",
        "plt.ylabel('Occupied')\n",
        "plt.show()"
      ],
      "execution_count": null,
      "outputs": [
        {
          "output_type": "stream",
          "name": "stdout",
          "text": [
            "[[1.]\n",
            " [1.]\n",
            " [1.]\n",
            " ...\n",
            " [1.]\n",
            " [1.]\n",
            " [1.]]\n",
            "[[1.]\n",
            " [1.]\n",
            " [1.]\n",
            " ...\n",
            " [1.]\n",
            " [1.]\n",
            " [1.]]\n",
            "[[825  24]\n",
            " [ 11 471]]\n",
            "              precision    recall  f1-score   support\n",
            "\n",
            "           0       0.99      0.97      0.98       849\n",
            "           1       0.95      0.98      0.96       482\n",
            "\n",
            "    accuracy                           0.97      1331\n",
            "   macro avg       0.97      0.97      0.97      1331\n",
            "weighted avg       0.97      0.97      0.97      1331\n",
            "\n"
          ]
        },
        {
          "output_type": "display_data",
          "data": {
            "text/plain": [
              "<Figure size 432x288 with 1 Axes>"
            ],
            "image/png": "[encoded data removed]"
          },
          "metadata": {
            "needs_background": "light"
          }
        }
      ]
    },
    {
      "cell_type": "markdown",
      "metadata": {
        "id": "GtHY9KDDsRSt"
      },
      "source": [
        "Think about what a baseline model would be... is it possible to predict occupancy without previous Y data (just use X?) To do this, you would just need to delete some of the variables in tmp before splitting, then re-run the model."
      ]
    }
  ]
}