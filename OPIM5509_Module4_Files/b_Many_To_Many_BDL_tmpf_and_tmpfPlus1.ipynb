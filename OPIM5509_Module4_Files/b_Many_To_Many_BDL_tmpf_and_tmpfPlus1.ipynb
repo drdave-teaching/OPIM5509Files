{
  "nbformat": 4,
  "nbformat_minor": 0,
  "metadata": {
    "colab": {
      "provenance": [],
      "toc_visible": true
    },
    "kernelspec": {
      "name": "python3",
      "display_name": "Python 3"
    }
  },
  "cells": [
    {
      "cell_type": "markdown",
      "source": [
        "[![Open In Colab](https://colab.research.google.com/assets/colab-badge.svg)](https://colab.research.google.com/github/drdave-teaching/OPIM5509Files/blob/main/OPIM5509_Module4_Files/b_Many_To_Many_BDL_tmpf_and_tmpfPlus1.ipynb)"
      ],
      "metadata": {
        "id": "pwzUsH__71Fg"
      }
    },
    {
      "cell_type": "markdown",
      "metadata": {
        "id": "lJoZmhF6iW7t"
      },
      "source": [
        "# b_Many To Many (Numeric Sequences)\n",
        "---------------------------------\n",
        "**Dr. Dave Wanik - University of Connecticut**\n",
        "\n",
        "[y is one variable, but predicting two timesteps into the future - NOT AUTOREGRESSIVE]\n",
        "\n",
        "Let's read in the BDL data and see if we can predict two or three time steps into the future. We call this n_outputs or time steps into the future.\n",
        "\n",
        "This script works by using the same LSTM cell, connecting to a dense layer, but the dense layer has hidden_units = n_outputs."
      ]
    },
    {
      "cell_type": "code",
      "metadata": {
        "id": "lex8YXJaiUsq"
      },
      "source": [
        "# import modules\n",
        "from numpy import array\n",
        "from tensorflow.keras.preprocessing.text import one_hot\n",
        "#from keras.preprocessing.sequence import pad_sequences\n",
        "from keras.models import Sequential\n",
        "from tensorflow.keras.layers import Activation, Dropout, Dense\n",
        "from keras.layers import Flatten, LSTM\n",
        "from keras.layers import GlobalMaxPooling1D\n",
        "from keras.models import Model\n",
        "#from keras.layers.embeddings import Embedding\n",
        "from sklearn.model_selection import train_test_split\n",
        "from tensorflow.keras.preprocessing.text import Tokenizer\n",
        "from keras.layers import Input\n",
        "#from keras.layers.merge import Concatenate\n",
        "from keras.layers import Bidirectional\n",
        "\n",
        "import pandas as pd\n",
        "import numpy as np\n",
        "import re\n",
        "\n",
        "import matplotlib.pyplot as plt"
      ],
      "execution_count": null,
      "outputs": []
    },
    {
      "cell_type": "code",
      "metadata": {
        "id": "VYjB_mIKjCS7",
        "colab": {
          "base_uri": "https://localhost:8080/"
        },
        "outputId": "d8fef3c8-72ad-43fa-efb6-0b8d67215b5d"
      },
      "source": [
        "# # https://drive.google.com/file/d/1vhWT7__EDc-WQ7WGnK0RP2qq7-25LCWS/view?usp=sharing\n",
        "# !gdown 1vhWT7__EDc-WQ7WGnK0RP2qq7-25LCWS\n",
        "# # read the data\n",
        "# df = pd.read_csv('cleanBDL.csv')"
      ],
      "execution_count": null,
      "outputs": [
        {
          "output_type": "stream",
          "name": "stdout",
          "text": [
            "Downloading...\n",
            "From: https://drive.google.com/uc?id=1vhWT7__EDc-WQ7WGnK0RP2qq7-25LCWS\n",
            "To: /content/cleanBDL.csv\n",
            "\r  0% 0.00/4.40M [00:00<?, ?B/s]\r100% 4.40M/4.40M [00:00<00:00, 99.4MB/s]\n"
          ]
        }
      ]
    },
    {
      "cell_type": "code",
      "metadata": {
        "id": "2tSMkpbXjBFE",
        "colab": {
          "base_uri": "https://localhost:8080/"
        },
        "outputId": "1777957c-31f6-4eba-e27b-b2b8fe4d8ea0"
      },
      "source": [
        "# Link to the data file on Github\n",
        "url = \"https://raw.githubusercontent.com/drdave-teaching/OPIM5509Files/refs/heads/main/OPIM5509_Module4_Files/cleanBDL.csv\"\n",
        "\n",
        "# retrieve the CSV data and build a dataframe\n",
        "df = pd.read_csv(url)\n",
        "\n",
        "df.shape"
      ],
      "execution_count": null,
      "outputs": [
        {
          "output_type": "execute_result",
          "data": {
            "text/plain": [
              "(46272, 10)"
            ]
          },
          "metadata": {},
          "execution_count": 5
        }
      ]
    },
    {
      "cell_type": "code",
      "metadata": {
        "id": "wpgqCGD_jciw",
        "colab": {
          "base_uri": "https://localhost:8080/",
          "height": 554
        },
        "outputId": "43e7c53a-8deb-4145-bf76-47c0f7d47631"
      },
      "source": [
        "df.info()\n",
        "df.head()"
      ],
      "execution_count": null,
      "outputs": [
        {
          "output_type": "stream",
          "name": "stdout",
          "text": [
            "<class 'pandas.core.frame.DataFrame'>\n",
            "RangeIndex: 46272 entries, 0 to 46271\n",
            "Data columns (total 10 columns):\n",
            " #   Column  Non-Null Count  Dtype  \n",
            "---  ------  --------------  -----  \n",
            " 0   valid   46272 non-null  object \n",
            " 1   tmpf    46272 non-null  float64\n",
            " 2   dwpf    46272 non-null  float64\n",
            " 3   relh    46272 non-null  float64\n",
            " 4   drct    46272 non-null  float64\n",
            " 5   sknt    46272 non-null  float64\n",
            " 6   p01i    46272 non-null  float64\n",
            " 7   alti    46272 non-null  float64\n",
            " 8   mslp    46272 non-null  float64\n",
            " 9   vsby    46272 non-null  float64\n",
            "dtypes: float64(9), object(1)\n",
            "memory usage: 3.5+ MB\n"
          ]
        },
        {
          "output_type": "execute_result",
          "data": {
            "text/plain": [
              "                 valid   tmpf  dwpf   relh   drct  sknt  p01i   alti    mslp  \\\n",
              "0  2015-01-01 00:00:00  17.96  6.08  59.10  190.0   5.0   0.0  30.09  1019.0   \n",
              "1  2015-01-01 01:00:00  19.94  8.06  59.40  190.0   5.0   0.0  30.08  1018.7   \n",
              "2  2015-01-01 02:00:00  23.00  6.98  49.69  210.0   9.0   0.0  30.06  1018.1   \n",
              "3  2015-01-01 03:00:00  21.92  5.00  47.52  230.0  11.0   0.0  30.04  1017.4   \n",
              "4  2015-01-01 04:00:00  23.00  3.92  43.21  250.0  13.0   0.0  30.05  1017.7   \n",
              "\n",
              "   vsby  \n",
              "0  10.0  \n",
              "1  10.0  \n",
              "2  10.0  \n",
              "3  10.0  \n",
              "4  10.0  "
            ],
            "text/html": [
              "\n",
              "  <div id=\"df-47e49877-4292-4f41-8bf2-69905bed8914\">\n",
              "    <div class=\"colab-df-container\">\n",
              "      <div>\n",
              "<style scoped>\n",
              "    .dataframe tbody tr th:only-of-type {\n",
              "        vertical-align: middle;\n",
              "    }\n",
              "\n",
              "    .dataframe tbody tr th {\n",
              "        vertical-align: top;\n",
              "    }\n",
              "\n",
              "    .dataframe thead th {\n",
              "        text-align: right;\n",
              "    }\n",
              "</style>\n",
              "<table border=\"1\" class=\"dataframe\">\n",
              "  <thead>\n",
              "    <tr style=\"text-align: right;\">\n",
              "      <th></th>\n",
              "      <th>valid</th>\n",
              "      <th>tmpf</th>\n",
              "      <th>dwpf</th>\n",
              "      <th>relh</th>\n",
              "      <th>drct</th>\n",
              "      <th>sknt</th>\n",
              "      <th>p01i</th>\n",
              "      <th>alti</th>\n",
              "      <th>mslp</th>\n",
              "      <th>vsby</th>\n",
              "    </tr>\n",
              "  </thead>\n",
              "  <tbody>\n",
              "    <tr>\n",
              "      <th>0</th>\n",
              "      <td>2015-01-01 00:00:00</td>\n",
              "      <td>17.96</td>\n",
              "      <td>6.08</td>\n",
              "      <td>59.10</td>\n",
              "      <td>190.0</td>\n",
              "      <td>5.0</td>\n",
              "      <td>0.0</td>\n",
              "      <td>30.09</td>\n",
              "      <td>1019.0</td>\n",
              "      <td>10.0</td>\n",
              "    </tr>\n",
              "    <tr>\n",
              "      <th>1</th>\n",
              "      <td>2015-01-01 01:00:00</td>\n",
              "      <td>19.94</td>\n",
              "      <td>8.06</td>\n",
              "      <td>59.40</td>\n",
              "      <td>190.0</td>\n",
              "      <td>5.0</td>\n",
              "      <td>0.0</td>\n",
              "      <td>30.08</td>\n",
              "      <td>1018.7</td>\n",
              "      <td>10.0</td>\n",
              "    </tr>\n",
              "    <tr>\n",
              "      <th>2</th>\n",
              "      <td>2015-01-01 02:00:00</td>\n",
              "      <td>23.00</td>\n",
              "      <td>6.98</td>\n",
              "      <td>49.69</td>\n",
              "      <td>210.0</td>\n",
              "      <td>9.0</td>\n",
              "      <td>0.0</td>\n",
              "      <td>30.06</td>\n",
              "      <td>1018.1</td>\n",
              "      <td>10.0</td>\n",
              "    </tr>\n",
              "    <tr>\n",
              "      <th>3</th>\n",
              "      <td>2015-01-01 03:00:00</td>\n",
              "      <td>21.92</td>\n",
              "      <td>5.00</td>\n",
              "      <td>47.52</td>\n",
              "      <td>230.0</td>\n",
              "      <td>11.0</td>\n",
              "      <td>0.0</td>\n",
              "      <td>30.04</td>\n",
              "      <td>1017.4</td>\n",
              "      <td>10.0</td>\n",
              "    </tr>\n",
              "    <tr>\n",
              "      <th>4</th>\n",
              "      <td>2015-01-01 04:00:00</td>\n",
              "      <td>23.00</td>\n",
              "      <td>3.92</td>\n",
              "      <td>43.21</td>\n",
              "      <td>250.0</td>\n",
              "      <td>13.0</td>\n",
              "      <td>0.0</td>\n",
              "      <td>30.05</td>\n",
              "      <td>1017.7</td>\n",
              "      <td>10.0</td>\n",
              "    </tr>\n",
              "  </tbody>\n",
              "</table>\n",
              "</div>\n",
              "      <button class=\"colab-df-convert\" onclick=\"convertToInteractive('df-47e49877-4292-4f41-8bf2-69905bed8914')\"\n",
              "              title=\"Convert this dataframe to an interactive table.\"\n",
              "              style=\"display:none;\">\n",
              "        \n",
              "  <svg xmlns=\"http://www.w3.org/2000/svg\" height=\"24px\"viewBox=\"0 0 24 24\"\n",
              "       width=\"24px\">\n",
              "    <path d=\"M0 0h24v24H0V0z\" fill=\"none\"/>\n",
              "    <path d=\"M18.56 5.44l.94 2.06.94-2.06 2.06-.94-2.06-.94-.94-2.06-.94 2.06-2.06.94zm-11 1L8.5 8.5l.94-2.06 2.06-.94-2.06-.94L8.5 2.5l-.94 2.06-2.06.94zm10 10l.94 2.06.94-2.06 2.06-.94-2.06-.94-.94-2.06-.94 2.06-2.06.94z\"/><path d=\"M17.41 7.96l-1.37-1.37c-.4-.4-.92-.59-1.43-.59-.52 0-1.04.2-1.43.59L10.3 9.45l-7.72 7.72c-.78.78-.78 2.05 0 2.83L4 21.41c.39.39.9.59 1.41.59.51 0 1.02-.2 1.41-.59l7.78-7.78 2.81-2.81c.8-.78.8-2.07 0-2.86zM5.41 20L4 18.59l7.72-7.72 1.47 1.35L5.41 20z\"/>\n",
              "  </svg>\n",
              "      </button>\n",
              "      \n",
              "  <style>\n",
              "    .colab-df-container {\n",
              "      display:flex;\n",
              "      flex-wrap:wrap;\n",
              "      gap: 12px;\n",
              "    }\n",
              "\n",
              "    .colab-df-convert {\n",
              "      background-color: #E8F0FE;\n",
              "      border: none;\n",
              "      border-radius: 50%;\n",
              "      cursor: pointer;\n",
              "      display: none;\n",
              "      fill: #1967D2;\n",
              "      height: 32px;\n",
              "      padding: 0 0 0 0;\n",
              "      width: 32px;\n",
              "    }\n",
              "\n",
              "    .colab-df-convert:hover {\n",
              "      background-color: #E2EBFA;\n",
              "      box-shadow: 0px 1px 2px rgba(60, 64, 67, 0.3), 0px 1px 3px 1px rgba(60, 64, 67, 0.15);\n",
              "      fill: #174EA6;\n",
              "    }\n",
              "\n",
              "    [theme=dark] .colab-df-convert {\n",
              "      background-color: #3B4455;\n",
              "      fill: #D2E3FC;\n",
              "    }\n",
              "\n",
              "    [theme=dark] .colab-df-convert:hover {\n",
              "      background-color: #434B5C;\n",
              "      box-shadow: 0px 1px 3px 1px rgba(0, 0, 0, 0.15);\n",
              "      filter: drop-shadow(0px 1px 2px rgba(0, 0, 0, 0.3));\n",
              "      fill: #FFFFFF;\n",
              "    }\n",
              "  </style>\n",
              "\n",
              "      <script>\n",
              "        const buttonEl =\n",
              "          document.querySelector('#df-47e49877-4292-4f41-8bf2-69905bed8914 button.colab-df-convert');\n",
              "        buttonEl.style.display =\n",
              "          google.colab.kernel.accessAllowed ? 'block' : 'none';\n",
              "\n",
              "        async function convertToInteractive(key) {\n",
              "          const element = document.querySelector('#df-47e49877-4292-4f41-8bf2-69905bed8914');\n",
              "          const dataTable =\n",
              "            await google.colab.kernel.invokeFunction('convertToInteractive',\n",
              "                                                     [key], {});\n",
              "          if (!dataTable) return;\n",
              "\n",
              "          const docLinkHtml = 'Like what you see? Visit the ' +\n",
              "            '<a target=\"_blank\" href=https://colab.research.google.com/notebooks/data_table.ipynb>data table notebook</a>'\n",
              "            + ' to learn more about interactive tables.';\n",
              "          element.innerHTML = '';\n",
              "          dataTable['output_type'] = 'display_data';\n",
              "          await google.colab.output.renderOutput(dataTable, element);\n",
              "          const docLink = document.createElement('div');\n",
              "          docLink.innerHTML = docLinkHtml;\n",
              "          element.appendChild(docLink);\n",
              "        }\n",
              "      </script>\n",
              "    </div>\n",
              "  </div>\n",
              "  "
            ]
          },
          "metadata": {},
          "execution_count": 4
        }
      ]
    },
    {
      "cell_type": "markdown",
      "metadata": {
        "id": "yJTuujVFjr61"
      },
      "source": [
        "# Define X and Y\n",
        "If we are going to use our split sequences script from Brownlee, then we need to make sure our Y variables are on the end!"
      ]
    },
    {
      "cell_type": "code",
      "metadata": {
        "id": "TDAb-LqUjjlt",
        "colab": {
          "base_uri": "https://localhost:8080/",
          "height": 206
        },
        "outputId": "85b4786e-28c5-48e8-bc5d-b979001348b5"
      },
      "source": [
        "# let's drop the valid column\n",
        "# Y will be dwpf and relh\n",
        "# X will be everything else!\n",
        "\n",
        "del df['valid']\n",
        "df.head() # check your work"
      ],
      "execution_count": null,
      "outputs": [
        {
          "output_type": "execute_result",
          "data": {
            "text/plain": [
              "    tmpf  dwpf   relh   drct  sknt  p01i   alti    mslp  vsby\n",
              "0  17.96  6.08  59.10  190.0   5.0   0.0  30.09  1019.0  10.0\n",
              "1  19.94  8.06  59.40  190.0   5.0   0.0  30.08  1018.7  10.0\n",
              "2  23.00  6.98  49.69  210.0   9.0   0.0  30.06  1018.1  10.0\n",
              "3  21.92  5.00  47.52  230.0  11.0   0.0  30.04  1017.4  10.0\n",
              "4  23.00  3.92  43.21  250.0  13.0   0.0  30.05  1017.7  10.0"
            ],
            "text/html": [
              "\n",
              "  <div id=\"df-217b06ff-9269-4b34-a405-585ec97a65b9\">\n",
              "    <div class=\"colab-df-container\">\n",
              "      <div>\n",
              "<style scoped>\n",
              "    .dataframe tbody tr th:only-of-type {\n",
              "        vertical-align: middle;\n",
              "    }\n",
              "\n",
              "    .dataframe tbody tr th {\n",
              "        vertical-align: top;\n",
              "    }\n",
              "\n",
              "    .dataframe thead th {\n",
              "        text-align: right;\n",
              "    }\n",
              "</style>\n",
              "<table border=\"1\" class=\"dataframe\">\n",
              "  <thead>\n",
              "    <tr style=\"text-align: right;\">\n",
              "      <th></th>\n",
              "      <th>tmpf</th>\n",
              "      <th>dwpf</th>\n",
              "      <th>relh</th>\n",
              "      <th>drct</th>\n",
              "      <th>sknt</th>\n",
              "      <th>p01i</th>\n",
              "      <th>alti</th>\n",
              "      <th>mslp</th>\n",
              "      <th>vsby</th>\n",
              "    </tr>\n",
              "  </thead>\n",
              "  <tbody>\n",
              "    <tr>\n",
              "      <th>0</th>\n",
              "      <td>17.96</td>\n",
              "      <td>6.08</td>\n",
              "      <td>59.10</td>\n",
              "      <td>190.0</td>\n",
              "      <td>5.0</td>\n",
              "      <td>0.0</td>\n",
              "      <td>30.09</td>\n",
              "      <td>1019.0</td>\n",
              "      <td>10.0</td>\n",
              "    </tr>\n",
              "    <tr>\n",
              "      <th>1</th>\n",
              "      <td>19.94</td>\n",
              "      <td>8.06</td>\n",
              "      <td>59.40</td>\n",
              "      <td>190.0</td>\n",
              "      <td>5.0</td>\n",
              "      <td>0.0</td>\n",
              "      <td>30.08</td>\n",
              "      <td>1018.7</td>\n",
              "      <td>10.0</td>\n",
              "    </tr>\n",
              "    <tr>\n",
              "      <th>2</th>\n",
              "      <td>23.00</td>\n",
              "      <td>6.98</td>\n",
              "      <td>49.69</td>\n",
              "      <td>210.0</td>\n",
              "      <td>9.0</td>\n",
              "      <td>0.0</td>\n",
              "      <td>30.06</td>\n",
              "      <td>1018.1</td>\n",
              "      <td>10.0</td>\n",
              "    </tr>\n",
              "    <tr>\n",
              "      <th>3</th>\n",
              "      <td>21.92</td>\n",
              "      <td>5.00</td>\n",
              "      <td>47.52</td>\n",
              "      <td>230.0</td>\n",
              "      <td>11.0</td>\n",
              "      <td>0.0</td>\n",
              "      <td>30.04</td>\n",
              "      <td>1017.4</td>\n",
              "      <td>10.0</td>\n",
              "    </tr>\n",
              "    <tr>\n",
              "      <th>4</th>\n",
              "      <td>23.00</td>\n",
              "      <td>3.92</td>\n",
              "      <td>43.21</td>\n",
              "      <td>250.0</td>\n",
              "      <td>13.0</td>\n",
              "      <td>0.0</td>\n",
              "      <td>30.05</td>\n",
              "      <td>1017.7</td>\n",
              "      <td>10.0</td>\n",
              "    </tr>\n",
              "  </tbody>\n",
              "</table>\n",
              "</div>\n",
              "      <button class=\"colab-df-convert\" onclick=\"convertToInteractive('df-217b06ff-9269-4b34-a405-585ec97a65b9')\"\n",
              "              title=\"Convert this dataframe to an interactive table.\"\n",
              "              style=\"display:none;\">\n",
              "        \n",
              "  <svg xmlns=\"http://www.w3.org/2000/svg\" height=\"24px\"viewBox=\"0 0 24 24\"\n",
              "       width=\"24px\">\n",
              "    <path d=\"M0 0h24v24H0V0z\" fill=\"none\"/>\n",
              "    <path d=\"M18.56 5.44l.94 2.06.94-2.06 2.06-.94-2.06-.94-.94-2.06-.94 2.06-2.06.94zm-11 1L8.5 8.5l.94-2.06 2.06-.94-2.06-.94L8.5 2.5l-.94 2.06-2.06.94zm10 10l.94 2.06.94-2.06 2.06-.94-2.06-.94-.94-2.06-.94 2.06-2.06.94z\"/><path d=\"M17.41 7.96l-1.37-1.37c-.4-.4-.92-.59-1.43-.59-.52 0-1.04.2-1.43.59L10.3 9.45l-7.72 7.72c-.78.78-.78 2.05 0 2.83L4 21.41c.39.39.9.59 1.41.59.51 0 1.02-.2 1.41-.59l7.78-7.78 2.81-2.81c.8-.78.8-2.07 0-2.86zM5.41 20L4 18.59l7.72-7.72 1.47 1.35L5.41 20z\"/>\n",
              "  </svg>\n",
              "      </button>\n",
              "      \n",
              "  <style>\n",
              "    .colab-df-container {\n",
              "      display:flex;\n",
              "      flex-wrap:wrap;\n",
              "      gap: 12px;\n",
              "    }\n",
              "\n",
              "    .colab-df-convert {\n",
              "      background-color: #E8F0FE;\n",
              "      border: none;\n",
              "      border-radius: 50%;\n",
              "      cursor: pointer;\n",
              "      display: none;\n",
              "      fill: #1967D2;\n",
              "      height: 32px;\n",
              "      padding: 0 0 0 0;\n",
              "      width: 32px;\n",
              "    }\n",
              "\n",
              "    .colab-df-convert:hover {\n",
              "      background-color: #E2EBFA;\n",
              "      box-shadow: 0px 1px 2px rgba(60, 64, 67, 0.3), 0px 1px 3px 1px rgba(60, 64, 67, 0.15);\n",
              "      fill: #174EA6;\n",
              "    }\n",
              "\n",
              "    [theme=dark] .colab-df-convert {\n",
              "      background-color: #3B4455;\n",
              "      fill: #D2E3FC;\n",
              "    }\n",
              "\n",
              "    [theme=dark] .colab-df-convert:hover {\n",
              "      background-color: #434B5C;\n",
              "      box-shadow: 0px 1px 3px 1px rgba(0, 0, 0, 0.15);\n",
              "      filter: drop-shadow(0px 1px 2px rgba(0, 0, 0, 0.3));\n",
              "      fill: #FFFFFF;\n",
              "    }\n",
              "  </style>\n",
              "\n",
              "      <script>\n",
              "        const buttonEl =\n",
              "          document.querySelector('#df-217b06ff-9269-4b34-a405-585ec97a65b9 button.colab-df-convert');\n",
              "        buttonEl.style.display =\n",
              "          google.colab.kernel.accessAllowed ? 'block' : 'none';\n",
              "\n",
              "        async function convertToInteractive(key) {\n",
              "          const element = document.querySelector('#df-217b06ff-9269-4b34-a405-585ec97a65b9');\n",
              "          const dataTable =\n",
              "            await google.colab.kernel.invokeFunction('convertToInteractive',\n",
              "                                                     [key], {});\n",
              "          if (!dataTable) return;\n",
              "\n",
              "          const docLinkHtml = 'Like what you see? Visit the ' +\n",
              "            '<a target=\"_blank\" href=https://colab.research.google.com/notebooks/data_table.ipynb>data table notebook</a>'\n",
              "            + ' to learn more about interactive tables.';\n",
              "          element.innerHTML = '';\n",
              "          dataTable['output_type'] = 'display_data';\n",
              "          await google.colab.output.renderOutput(dataTable, element);\n",
              "          const docLink = document.createElement('div');\n",
              "          docLink.innerHTML = docLinkHtml;\n",
              "          element.appendChild(docLink);\n",
              "        }\n",
              "      </script>\n",
              "    </div>\n",
              "  </div>\n",
              "  "
            ]
          },
          "metadata": {},
          "execution_count": 5
        }
      ]
    },
    {
      "cell_type": "code",
      "metadata": {
        "id": "fAVX9IKNjrQS",
        "colab": {
          "base_uri": "https://localhost:8080/"
        },
        "outputId": "d8df9280-4df6-4d2d-d747-2329fb758c34"
      },
      "source": [
        "Y = df[['tmpf']]\n",
        "X = df.drop(axis=1, columns=['tmpf'])\n",
        "print(df.shape, X.shape, Y.shape)\n",
        "\n",
        "# looks good! Let's prepare samples for modeling"
      ],
      "execution_count": null,
      "outputs": [
        {
          "output_type": "stream",
          "name": "stdout",
          "text": [
            "(46272, 9) (46272, 8) (46272, 1)\n"
          ]
        }
      ]
    },
    {
      "cell_type": "code",
      "metadata": {
        "id": "IUNGj5QRlBdc",
        "colab": {
          "base_uri": "https://localhost:8080/",
          "height": 394
        },
        "outputId": "d433c51e-592b-4a0e-9de4-b19eb23653c1"
      },
      "source": [
        "# put Y all the way on the left\n",
        "df = pd.concat([X, Y], axis=1, sort=False)\n",
        "df.head(n=11)"
      ],
      "execution_count": null,
      "outputs": [
        {
          "output_type": "execute_result",
          "data": {
            "text/plain": [
              "    dwpf   relh   drct  sknt  p01i   alti    mslp  vsby   tmpf\n",
              "0   6.08  59.10  190.0   5.0   0.0  30.09  1019.0  10.0  17.96\n",
              "1   8.06  59.40  190.0   5.0   0.0  30.08  1018.7  10.0  19.94\n",
              "2   6.98  49.69  210.0   9.0   0.0  30.06  1018.1  10.0  23.00\n",
              "3   5.00  47.52  230.0  11.0   0.0  30.04  1017.4  10.0  21.92\n",
              "4   3.92  43.21  250.0  13.0   0.0  30.05  1017.7  10.0  23.00\n",
              "5   3.92  43.21  250.0  11.0   0.0  30.06  1018.1  10.0  23.00\n",
              "6   3.02  41.45  240.0  13.0   0.0  30.07  1018.4  10.0  23.00\n",
              "7   3.92  41.30  240.0  11.0   0.0  30.08  1018.9  10.0  24.08\n",
              "8   3.92  38.03  210.0   8.0   0.0  30.08  1018.9  10.0  26.06\n",
              "9   3.92  35.05  220.0  14.0   0.0  30.08  1018.8  10.0  28.04\n",
              "10  5.00  33.97  210.0  10.0   0.0  30.07  1018.4  10.0  30.02"
            ],
            "text/html": [
              "\n",
              "  <div id=\"df-6850a980-34be-4849-9b61-5ab45fb21967\">\n",
              "    <div class=\"colab-df-container\">\n",
              "      <div>\n",
              "<style scoped>\n",
              "    .dataframe tbody tr th:only-of-type {\n",
              "        vertical-align: middle;\n",
              "    }\n",
              "\n",
              "    .dataframe tbody tr th {\n",
              "        vertical-align: top;\n",
              "    }\n",
              "\n",
              "    .dataframe thead th {\n",
              "        text-align: right;\n",
              "    }\n",
              "</style>\n",
              "<table border=\"1\" class=\"dataframe\">\n",
              "  <thead>\n",
              "    <tr style=\"text-align: right;\">\n",
              "      <th></th>\n",
              "      <th>dwpf</th>\n",
              "      <th>relh</th>\n",
              "      <th>drct</th>\n",
              "      <th>sknt</th>\n",
              "      <th>p01i</th>\n",
              "      <th>alti</th>\n",
              "      <th>mslp</th>\n",
              "      <th>vsby</th>\n",
              "      <th>tmpf</th>\n",
              "    </tr>\n",
              "  </thead>\n",
              "  <tbody>\n",
              "    <tr>\n",
              "      <th>0</th>\n",
              "      <td>6.08</td>\n",
              "      <td>59.10</td>\n",
              "      <td>190.0</td>\n",
              "      <td>5.0</td>\n",
              "      <td>0.0</td>\n",
              "      <td>30.09</td>\n",
              "      <td>1019.0</td>\n",
              "      <td>10.0</td>\n",
              "      <td>17.96</td>\n",
              "    </tr>\n",
              "    <tr>\n",
              "      <th>1</th>\n",
              "      <td>8.06</td>\n",
              "      <td>59.40</td>\n",
              "      <td>190.0</td>\n",
              "      <td>5.0</td>\n",
              "      <td>0.0</td>\n",
              "      <td>30.08</td>\n",
              "      <td>1018.7</td>\n",
              "      <td>10.0</td>\n",
              "      <td>19.94</td>\n",
              "    </tr>\n",
              "    <tr>\n",
              "      <th>2</th>\n",
              "      <td>6.98</td>\n",
              "      <td>49.69</td>\n",
              "      <td>210.0</td>\n",
              "      <td>9.0</td>\n",
              "      <td>0.0</td>\n",
              "      <td>30.06</td>\n",
              "      <td>1018.1</td>\n",
              "      <td>10.0</td>\n",
              "      <td>23.00</td>\n",
              "    </tr>\n",
              "    <tr>\n",
              "      <th>3</th>\n",
              "      <td>5.00</td>\n",
              "      <td>47.52</td>\n",
              "      <td>230.0</td>\n",
              "      <td>11.0</td>\n",
              "      <td>0.0</td>\n",
              "      <td>30.04</td>\n",
              "      <td>1017.4</td>\n",
              "      <td>10.0</td>\n",
              "      <td>21.92</td>\n",
              "    </tr>\n",
              "    <tr>\n",
              "      <th>4</th>\n",
              "      <td>3.92</td>\n",
              "      <td>43.21</td>\n",
              "      <td>250.0</td>\n",
              "      <td>13.0</td>\n",
              "      <td>0.0</td>\n",
              "      <td>30.05</td>\n",
              "      <td>1017.7</td>\n",
              "      <td>10.0</td>\n",
              "      <td>23.00</td>\n",
              "    </tr>\n",
              "    <tr>\n",
              "      <th>5</th>\n",
              "      <td>3.92</td>\n",
              "      <td>43.21</td>\n",
              "      <td>250.0</td>\n",
              "      <td>11.0</td>\n",
              "      <td>0.0</td>\n",
              "      <td>30.06</td>\n",
              "      <td>1018.1</td>\n",
              "      <td>10.0</td>\n",
              "      <td>23.00</td>\n",
              "    </tr>\n",
              "    <tr>\n",
              "      <th>6</th>\n",
              "      <td>3.02</td>\n",
              "      <td>41.45</td>\n",
              "      <td>240.0</td>\n",
              "      <td>13.0</td>\n",
              "      <td>0.0</td>\n",
              "      <td>30.07</td>\n",
              "      <td>1018.4</td>\n",
              "      <td>10.0</td>\n",
              "      <td>23.00</td>\n",
              "    </tr>\n",
              "    <tr>\n",
              "      <th>7</th>\n",
              "      <td>3.92</td>\n",
              "      <td>41.30</td>\n",
              "      <td>240.0</td>\n",
              "      <td>11.0</td>\n",
              "      <td>0.0</td>\n",
              "      <td>30.08</td>\n",
              "      <td>1018.9</td>\n",
              "      <td>10.0</td>\n",
              "      <td>24.08</td>\n",
              "    </tr>\n",
              "    <tr>\n",
              "      <th>8</th>\n",
              "      <td>3.92</td>\n",
              "      <td>38.03</td>\n",
              "      <td>210.0</td>\n",
              "      <td>8.0</td>\n",
              "      <td>0.0</td>\n",
              "      <td>30.08</td>\n",
              "      <td>1018.9</td>\n",
              "      <td>10.0</td>\n",
              "      <td>26.06</td>\n",
              "    </tr>\n",
              "    <tr>\n",
              "      <th>9</th>\n",
              "      <td>3.92</td>\n",
              "      <td>35.05</td>\n",
              "      <td>220.0</td>\n",
              "      <td>14.0</td>\n",
              "      <td>0.0</td>\n",
              "      <td>30.08</td>\n",
              "      <td>1018.8</td>\n",
              "      <td>10.0</td>\n",
              "      <td>28.04</td>\n",
              "    </tr>\n",
              "    <tr>\n",
              "      <th>10</th>\n",
              "      <td>5.00</td>\n",
              "      <td>33.97</td>\n",
              "      <td>210.0</td>\n",
              "      <td>10.0</td>\n",
              "      <td>0.0</td>\n",
              "      <td>30.07</td>\n",
              "      <td>1018.4</td>\n",
              "      <td>10.0</td>\n",
              "      <td>30.02</td>\n",
              "    </tr>\n",
              "  </tbody>\n",
              "</table>\n",
              "</div>\n",
              "      <button class=\"colab-df-convert\" onclick=\"convertToInteractive('df-6850a980-34be-4849-9b61-5ab45fb21967')\"\n",
              "              title=\"Convert this dataframe to an interactive table.\"\n",
              "              style=\"display:none;\">\n",
              "        \n",
              "  <svg xmlns=\"http://www.w3.org/2000/svg\" height=\"24px\"viewBox=\"0 0 24 24\"\n",
              "       width=\"24px\">\n",
              "    <path d=\"M0 0h24v24H0V0z\" fill=\"none\"/>\n",
              "    <path d=\"M18.56 5.44l.94 2.06.94-2.06 2.06-.94-2.06-.94-.94-2.06-.94 2.06-2.06.94zm-11 1L8.5 8.5l.94-2.06 2.06-.94-2.06-.94L8.5 2.5l-.94 2.06-2.06.94zm10 10l.94 2.06.94-2.06 2.06-.94-2.06-.94-.94-2.06-.94 2.06-2.06.94z\"/><path d=\"M17.41 7.96l-1.37-1.37c-.4-.4-.92-.59-1.43-.59-.52 0-1.04.2-1.43.59L10.3 9.45l-7.72 7.72c-.78.78-.78 2.05 0 2.83L4 21.41c.39.39.9.59 1.41.59.51 0 1.02-.2 1.41-.59l7.78-7.78 2.81-2.81c.8-.78.8-2.07 0-2.86zM5.41 20L4 18.59l7.72-7.72 1.47 1.35L5.41 20z\"/>\n",
              "  </svg>\n",
              "      </button>\n",
              "      \n",
              "  <style>\n",
              "    .colab-df-container {\n",
              "      display:flex;\n",
              "      flex-wrap:wrap;\n",
              "      gap: 12px;\n",
              "    }\n",
              "\n",
              "    .colab-df-convert {\n",
              "      background-color: #E8F0FE;\n",
              "      border: none;\n",
              "      border-radius: 50%;\n",
              "      cursor: pointer;\n",
              "      display: none;\n",
              "      fill: #1967D2;\n",
              "      height: 32px;\n",
              "      padding: 0 0 0 0;\n",
              "      width: 32px;\n",
              "    }\n",
              "\n",
              "    .colab-df-convert:hover {\n",
              "      background-color: #E2EBFA;\n",
              "      box-shadow: 0px 1px 2px rgba(60, 64, 67, 0.3), 0px 1px 3px 1px rgba(60, 64, 67, 0.15);\n",
              "      fill: #174EA6;\n",
              "    }\n",
              "\n",
              "    [theme=dark] .colab-df-convert {\n",
              "      background-color: #3B4455;\n",
              "      fill: #D2E3FC;\n",
              "    }\n",
              "\n",
              "    [theme=dark] .colab-df-convert:hover {\n",
              "      background-color: #434B5C;\n",
              "      box-shadow: 0px 1px 3px 1px rgba(0, 0, 0, 0.15);\n",
              "      filter: drop-shadow(0px 1px 2px rgba(0, 0, 0, 0.3));\n",
              "      fill: #FFFFFF;\n",
              "    }\n",
              "  </style>\n",
              "\n",
              "      <script>\n",
              "        const buttonEl =\n",
              "          document.querySelector('#df-6850a980-34be-4849-9b61-5ab45fb21967 button.colab-df-convert');\n",
              "        buttonEl.style.display =\n",
              "          google.colab.kernel.accessAllowed ? 'block' : 'none';\n",
              "\n",
              "        async function convertToInteractive(key) {\n",
              "          const element = document.querySelector('#df-6850a980-34be-4849-9b61-5ab45fb21967');\n",
              "          const dataTable =\n",
              "            await google.colab.kernel.invokeFunction('convertToInteractive',\n",
              "                                                     [key], {});\n",
              "          if (!dataTable) return;\n",
              "\n",
              "          const docLinkHtml = 'Like what you see? Visit the ' +\n",
              "            '<a target=\"_blank\" href=https://colab.research.google.com/notebooks/data_table.ipynb>data table notebook</a>'\n",
              "            + ' to learn more about interactive tables.';\n",
              "          element.innerHTML = '';\n",
              "          dataTable['output_type'] = 'display_data';\n",
              "          await google.colab.output.renderOutput(dataTable, element);\n",
              "          const docLink = document.createElement('div');\n",
              "          docLink.innerHTML = docLinkHtml;\n",
              "          element.appendChild(docLink);\n",
              "        }\n",
              "      </script>\n",
              "    </div>\n",
              "  </div>\n",
              "  "
            ]
          },
          "metadata": {},
          "execution_count": 7
        }
      ]
    },
    {
      "cell_type": "code",
      "metadata": {
        "id": "KA4N8tCD4fyk",
        "colab": {
          "base_uri": "https://localhost:8080/",
          "height": 279
        },
        "outputId": "7df7c85a-4106-4180-c393-1403e89c546b"
      },
      "source": [
        "# some eda - we should be able to predict temperature!\n",
        "df.plot.scatter(x='tmpf', y='dwpf')\n",
        "plt.show()"
      ],
      "execution_count": null,
      "outputs": [
        {
          "output_type": "display_data",
          "data": {
            "text/plain": [
              "<Figure size 432x288 with 1 Axes>"
            ],
            "image/png": "[encoded data removed]"
          },
          "metadata": {
            "needs_background": "light"
          }
        }
      ]
    },
    {
      "cell_type": "code",
      "metadata": {
        "id": "7rIIsJzMkxZF"
      },
      "source": [
        "# to get our other code to run, we will put Y\n",
        "# on the end then re-run our code (needs updating from blog)\n",
        "\n",
        "# prep data for modeling (multivariate)\n",
        "# link: https://machinelearningmastery.com/how-to-develop-lstm-models-for-time-series-forecasting/\n",
        "\n",
        "from numpy import array\n",
        "\n",
        "# split a multivariate sequence into samples\n",
        "def split_sequences(sequences, n_steps):\n",
        "\tX, y = list(), list()\n",
        "\tfor i in np.arange(len(sequences)): # be careful of this line!\n",
        "\t\t# find the end of this pattern\n",
        "\t\tend_ix = i + n_steps\n",
        "\t\t# check if we are beyond the dataset\n",
        "\t\tif end_ix > len(sequences):\n",
        "\t\t\tbreak\n",
        "\t\t# gather input and output parts of the pattern\n",
        "    # X and Y have been UPDATED so the last two columns drop off\n",
        "\t\tseq_x, seq_y = sequences[i:end_ix, :-1], sequences[end_ix-1, -1:]\n",
        "\t\tX.append(seq_x)\n",
        "\t\ty.append(seq_y)\n",
        "\treturn np.array(X), np.array(y)"
      ],
      "execution_count": null,
      "outputs": []
    },
    {
      "cell_type": "markdown",
      "metadata": {
        "id": "T2jfDvRPkGJJ"
      },
      "source": [
        "# Prepare Samples for Modeling\n",
        "Everything needs to be in 3D arrays."
      ]
    },
    {
      "cell_type": "code",
      "metadata": {
        "id": "pTYftzn4kXUf"
      },
      "source": [
        "# let's turn X into lookbacks of 10 with all of our samples\n",
        "# all we need to do is decide on is n_steps (what our lookback period is)\n",
        "# since we have a bunch of data, why not n_steps=10? then try 30 later on.\n",
        "n_steps = 10\n",
        "raw_seq = np.array(df) #make sure your data is stored as a numpy array!\n",
        "# let's ignore the date column and just use the temperature data\n",
        "X, y = split_sequences(raw_seq, n_steps=10)"
      ],
      "execution_count": null,
      "outputs": []
    },
    {
      "cell_type": "code",
      "metadata": {
        "id": "wOdmLgEqlb0i",
        "colab": {
          "base_uri": "https://localhost:8080/"
        },
        "outputId": "3ef5c466-7150-4518-e949-4247dd61c437"
      },
      "source": [
        "# check your work\n",
        "print(df.shape, X.shape, y.shape)"
      ],
      "execution_count": null,
      "outputs": [
        {
          "output_type": "stream",
          "name": "stdout",
          "text": [
            "(46272, 9) (46263, 10, 8) (46263, 1)\n"
          ]
        }
      ]
    },
    {
      "cell_type": "code",
      "metadata": {
        "id": "NKVqx41_lnH2",
        "colab": {
          "base_uri": "https://localhost:8080/"
        },
        "outputId": "08306420-4a52-4935-dc13-dbe7e8d2a957"
      },
      "source": [
        "# here's the first X\n",
        "X[0]"
      ],
      "execution_count": null,
      "outputs": [
        {
          "output_type": "execute_result",
          "data": {
            "text/plain": [
              "array([[   6.08,   59.1 ,  190.  ,    5.  ,    0.  ,   30.09, 1019.  ,\n",
              "          10.  ],\n",
              "       [   8.06,   59.4 ,  190.  ,    5.  ,    0.  ,   30.08, 1018.7 ,\n",
              "          10.  ],\n",
              "       [   6.98,   49.69,  210.  ,    9.  ,    0.  ,   30.06, 1018.1 ,\n",
              "          10.  ],\n",
              "       [   5.  ,   47.52,  230.  ,   11.  ,    0.  ,   30.04, 1017.4 ,\n",
              "          10.  ],\n",
              "       [   3.92,   43.21,  250.  ,   13.  ,    0.  ,   30.05, 1017.7 ,\n",
              "          10.  ],\n",
              "       [   3.92,   43.21,  250.  ,   11.  ,    0.  ,   30.06, 1018.1 ,\n",
              "          10.  ],\n",
              "       [   3.02,   41.45,  240.  ,   13.  ,    0.  ,   30.07, 1018.4 ,\n",
              "          10.  ],\n",
              "       [   3.92,   41.3 ,  240.  ,   11.  ,    0.  ,   30.08, 1018.9 ,\n",
              "          10.  ],\n",
              "       [   3.92,   38.03,  210.  ,    8.  ,    0.  ,   30.08, 1018.9 ,\n",
              "          10.  ],\n",
              "       [   3.92,   35.05,  220.  ,   14.  ,    0.  ,   30.08, 1018.8 ,\n",
              "          10.  ]])"
            ]
          },
          "metadata": {},
          "execution_count": 12
        }
      ]
    },
    {
      "cell_type": "code",
      "metadata": {
        "id": "ElbzqDKHlsqR",
        "colab": {
          "base_uri": "https://localhost:8080/"
        },
        "outputId": "2660059e-eea9-419d-db92-0d58e6bf799c"
      },
      "source": [
        "# here's the first Y\n",
        "y[0]\n",
        "\n",
        "# go scroll up and make sure this matches!\n",
        "# and it does!\n",
        "\n",
        "# you will need to customize your split script when\n",
        "# prepping your data... be careful! take control of your data!"
      ],
      "execution_count": null,
      "outputs": [
        {
          "output_type": "execute_result",
          "data": {
            "text/plain": [
              "array([28.04])"
            ]
          },
          "metadata": {},
          "execution_count": 13
        }
      ]
    },
    {
      "cell_type": "markdown",
      "metadata": {
        "id": "a3x1bVhXDsJk"
      },
      "source": [
        "## Y, Y+1 and Y+2\n",
        "Let's make sure that our Y vector has multiple time steps, just like we did in the previous script."
      ]
    },
    {
      "cell_type": "code",
      "metadata": {
        "id": "XRqSZO-WD5TL",
        "colab": {
          "base_uri": "https://localhost:8080/"
        },
        "outputId": "c01887c8-7864-4ee6-bb74-2c33f14a1d22"
      },
      "source": [
        "# convert to a dataframe\n",
        "tmp = pd.DataFrame(y)\n",
        "# rename the column\n",
        "tmp.rename(columns={0:'y'}, inplace=True)\n",
        "# create some shifts\n",
        "tmp['yPlus1'] = tmp['y'].shift(-1)\n",
        "tmp['yPlus2'] = tmp['y'].shift(-2)\n",
        "# check your work\n",
        "print(tmp.head())\n",
        "print(tmp.tail()) # we will have to deal with those NaN's\n",
        "\n",
        "# either ffill them or delete them later."
      ],
      "execution_count": null,
      "outputs": [
        {
          "output_type": "stream",
          "name": "stdout",
          "text": [
            "       y  yPlus1  yPlus2\n",
            "0  28.04   30.02   32.00\n",
            "1  30.02   32.00   33.08\n",
            "2  32.00   33.08   33.98\n",
            "3  33.08   33.98   33.08\n",
            "4  33.98   33.08   33.08\n",
            "          y  yPlus1  yPlus2\n",
            "46258  44.1    42.1    39.0\n",
            "46259  42.1    39.0    39.9\n",
            "46260  39.0    39.9    37.0\n",
            "46261  39.9    37.0     NaN\n",
            "46262  37.0     NaN     NaN\n"
          ]
        }
      ]
    },
    {
      "cell_type": "code",
      "metadata": {
        "id": "J44wUI0JEd5N",
        "colab": {
          "base_uri": "https://localhost:8080/",
          "height": 206
        },
        "outputId": "e76de5c5-6ece-4959-d31b-babfba4d1b76"
      },
      "source": [
        "# I will opt to forward fill them\n",
        "# and just except the dirt in my data\n",
        "tmp.fillna(method='ffill', inplace=True)\n",
        "tmp.tail() # all better!\n",
        "\n",
        "# of course, you could have dropped the last N arrays\n",
        "# from both X and y (making sure the shape matches up)"
      ],
      "execution_count": null,
      "outputs": [
        {
          "output_type": "execute_result",
          "data": {
            "text/plain": [
              "          y  yPlus1  yPlus2\n",
              "46258  44.1    42.1    39.0\n",
              "46259  42.1    39.0    39.9\n",
              "46260  39.0    39.9    37.0\n",
              "46261  39.9    37.0    37.0\n",
              "46262  37.0    37.0    37.0"
            ],
            "text/html": [
              "\n",
              "  <div id=\"df-5b37d7f3-bf49-46a2-a22b-e0bf34332143\">\n",
              "    <div class=\"colab-df-container\">\n",
              "      <div>\n",
              "<style scoped>\n",
              "    .dataframe tbody tr th:only-of-type {\n",
              "        vertical-align: middle;\n",
              "    }\n",
              "\n",
              "    .dataframe tbody tr th {\n",
              "        vertical-align: top;\n",
              "    }\n",
              "\n",
              "    .dataframe thead th {\n",
              "        text-align: right;\n",
              "    }\n",
              "</style>\n",
              "<table border=\"1\" class=\"dataframe\">\n",
              "  <thead>\n",
              "    <tr style=\"text-align: right;\">\n",
              "      <th></th>\n",
              "      <th>y</th>\n",
              "      <th>yPlus1</th>\n",
              "      <th>yPlus2</th>\n",
              "    </tr>\n",
              "  </thead>\n",
              "  <tbody>\n",
              "    <tr>\n",
              "      <th>46258</th>\n",
              "      <td>44.1</td>\n",
              "      <td>42.1</td>\n",
              "      <td>39.0</td>\n",
              "    </tr>\n",
              "    <tr>\n",
              "      <th>46259</th>\n",
              "      <td>42.1</td>\n",
              "      <td>39.0</td>\n",
              "      <td>39.9</td>\n",
              "    </tr>\n",
              "    <tr>\n",
              "      <th>46260</th>\n",
              "      <td>39.0</td>\n",
              "      <td>39.9</td>\n",
              "      <td>37.0</td>\n",
              "    </tr>\n",
              "    <tr>\n",
              "      <th>46261</th>\n",
              "      <td>39.9</td>\n",
              "      <td>37.0</td>\n",
              "      <td>37.0</td>\n",
              "    </tr>\n",
              "    <tr>\n",
              "      <th>46262</th>\n",
              "      <td>37.0</td>\n",
              "      <td>37.0</td>\n",
              "      <td>37.0</td>\n",
              "    </tr>\n",
              "  </tbody>\n",
              "</table>\n",
              "</div>\n",
              "      <button class=\"colab-df-convert\" onclick=\"convertToInteractive('df-5b37d7f3-bf49-46a2-a22b-e0bf34332143')\"\n",
              "              title=\"Convert this dataframe to an interactive table.\"\n",
              "              style=\"display:none;\">\n",
              "        \n",
              "  <svg xmlns=\"http://www.w3.org/2000/svg\" height=\"24px\"viewBox=\"0 0 24 24\"\n",
              "       width=\"24px\">\n",
              "    <path d=\"M0 0h24v24H0V0z\" fill=\"none\"/>\n",
              "    <path d=\"M18.56 5.44l.94 2.06.94-2.06 2.06-.94-2.06-.94-.94-2.06-.94 2.06-2.06.94zm-11 1L8.5 8.5l.94-2.06 2.06-.94-2.06-.94L8.5 2.5l-.94 2.06-2.06.94zm10 10l.94 2.06.94-2.06 2.06-.94-2.06-.94-.94-2.06-.94 2.06-2.06.94z\"/><path d=\"M17.41 7.96l-1.37-1.37c-.4-.4-.92-.59-1.43-.59-.52 0-1.04.2-1.43.59L10.3 9.45l-7.72 7.72c-.78.78-.78 2.05 0 2.83L4 21.41c.39.39.9.59 1.41.59.51 0 1.02-.2 1.41-.59l7.78-7.78 2.81-2.81c.8-.78.8-2.07 0-2.86zM5.41 20L4 18.59l7.72-7.72 1.47 1.35L5.41 20z\"/>\n",
              "  </svg>\n",
              "      </button>\n",
              "      \n",
              "  <style>\n",
              "    .colab-df-container {\n",
              "      display:flex;\n",
              "      flex-wrap:wrap;\n",
              "      gap: 12px;\n",
              "    }\n",
              "\n",
              "    .colab-df-convert {\n",
              "      background-color: #E8F0FE;\n",
              "      border: none;\n",
              "      border-radius: 50%;\n",
              "      cursor: pointer;\n",
              "      display: none;\n",
              "      fill: #1967D2;\n",
              "      height: 32px;\n",
              "      padding: 0 0 0 0;\n",
              "      width: 32px;\n",
              "    }\n",
              "\n",
              "    .colab-df-convert:hover {\n",
              "      background-color: #E2EBFA;\n",
              "      box-shadow: 0px 1px 2px rgba(60, 64, 67, 0.3), 0px 1px 3px 1px rgba(60, 64, 67, 0.15);\n",
              "      fill: #174EA6;\n",
              "    }\n",
              "\n",
              "    [theme=dark] .colab-df-convert {\n",
              "      background-color: #3B4455;\n",
              "      fill: #D2E3FC;\n",
              "    }\n",
              "\n",
              "    [theme=dark] .colab-df-convert:hover {\n",
              "      background-color: #434B5C;\n",
              "      box-shadow: 0px 1px 3px 1px rgba(0, 0, 0, 0.15);\n",
              "      filter: drop-shadow(0px 1px 2px rgba(0, 0, 0, 0.3));\n",
              "      fill: #FFFFFF;\n",
              "    }\n",
              "  </style>\n",
              "\n",
              "      <script>\n",
              "        const buttonEl =\n",
              "          document.querySelector('#df-5b37d7f3-bf49-46a2-a22b-e0bf34332143 button.colab-df-convert');\n",
              "        buttonEl.style.display =\n",
              "          google.colab.kernel.accessAllowed ? 'block' : 'none';\n",
              "\n",
              "        async function convertToInteractive(key) {\n",
              "          const element = document.querySelector('#df-5b37d7f3-bf49-46a2-a22b-e0bf34332143');\n",
              "          const dataTable =\n",
              "            await google.colab.kernel.invokeFunction('convertToInteractive',\n",
              "                                                     [key], {});\n",
              "          if (!dataTable) return;\n",
              "\n",
              "          const docLinkHtml = 'Like what you see? Visit the ' +\n",
              "            '<a target=\"_blank\" href=https://colab.research.google.com/notebooks/data_table.ipynb>data table notebook</a>'\n",
              "            + ' to learn more about interactive tables.';\n",
              "          element.innerHTML = '';\n",
              "          dataTable['output_type'] = 'display_data';\n",
              "          await google.colab.output.renderOutput(dataTable, element);\n",
              "          const docLink = document.createElement('div');\n",
              "          docLink.innerHTML = docLinkHtml;\n",
              "          element.appendChild(docLink);\n",
              "        }\n",
              "      </script>\n",
              "    </div>\n",
              "  </div>\n",
              "  "
            ]
          },
          "metadata": {},
          "execution_count": 15
        }
      ]
    },
    {
      "cell_type": "code",
      "metadata": {
        "id": "m8WJYvSwEsa4"
      },
      "source": [
        "# convert back to numpy array\n",
        "y = tmp"
      ],
      "execution_count": null,
      "outputs": []
    },
    {
      "cell_type": "code",
      "metadata": {
        "id": "Oa1JmK4xEwXL",
        "colab": {
          "base_uri": "https://localhost:8080/"
        },
        "outputId": "5b440911-c680-470c-c1bb-5b5f6910d5b9"
      },
      "source": [
        "y.shape"
      ],
      "execution_count": null,
      "outputs": [
        {
          "output_type": "execute_result",
          "data": {
            "text/plain": [
              "(46263, 3)"
            ]
          },
          "metadata": {},
          "execution_count": 17
        }
      ]
    },
    {
      "cell_type": "markdown",
      "metadata": {
        "id": "BBdpcbZtkBLs"
      },
      "source": [
        "# Fit a Model\n",
        "This will be similar to the last example in 'Sequence Problems_Pt1.ipynb'"
      ]
    },
    {
      "cell_type": "code",
      "metadata": {
        "id": "zt9Jq2BQTMxd",
        "colab": {
          "base_uri": "https://localhost:8080/"
        },
        "outputId": "032305ae-0cb2-4f97-fcae-fc938d807440"
      },
      "source": [
        "# note how there's a 2 at the end\n",
        "# usually we did this for a multi-classification problem, but not today!\n",
        "# by default, it's a 'linear' activiation function\n",
        "# so this is 2 node output and we're doing regression.\n",
        "\n",
        "n_steps = X.shape[1]\n",
        "n_features = X.shape[2]\n",
        "n_outputs = y.shape[1]\n",
        "\n",
        "print(n_steps, n_features, n_outputs)"
      ],
      "execution_count": null,
      "outputs": [
        {
          "output_type": "stream",
          "name": "stdout",
          "text": [
            "10 8 3\n"
          ]
        }
      ]
    },
    {
      "cell_type": "code",
      "metadata": {
        "id": "m706W18wml1J",
        "colab": {
          "base_uri": "https://localhost:8080/"
        },
        "outputId": "cb8a5520-fd60-4404-a283-bbfe623db528"
      },
      "source": [
        "model = Sequential()\n",
        "model.add(LSTM(50, activation='relu',\n",
        "               recurrent_dropout=0.1,\n",
        "               input_shape=(n_steps, n_features)))\n",
        "model.add(Dropout(0.2))\n",
        "model.add(Dense(n_outputs)) # since Y has three values, we need to predict three values\n",
        "model.compile(optimizer='adam', loss='mse')\n",
        "\n",
        "import keras\n",
        "from keras.callbacks import EarlyStopping\n",
        "\n",
        "# early stopping callback\n",
        "# This callback will stop the training when there is no improvement in\n",
        "# the validation loss for 10 consecutive epochs.\n",
        "es = keras.callbacks.EarlyStopping(monitor='val_loss',\n",
        "                                   mode='min',\n",
        "                                   patience=10, # you can play with this!\n",
        "                                   restore_best_weights=True) # important - otherwise you just return the last weigths...\n",
        "\n",
        "# now we just update our model fit call\n",
        "history = model.fit(X,\n",
        "                    y,\n",
        "                    callbacks=[es],\n",
        "                    epochs=800, # you can set this to a big number!\n",
        "                    batch_size=100,\n",
        "                    validation_split=0.2,\n",
        "                    verbose=1,\n",
        "                    shuffle=True)"
      ],
      "execution_count": null,
      "outputs": [
        {
          "output_type": "stream",
          "name": "stdout",
          "text": [
            "Epoch 1/800\n",
            "371/371 [==============================] - 17s 31ms/step - loss: 8392.0361 - val_loss: 346.3491\n",
            "Epoch 2/800\n",
            "371/371 [==============================] - 7s 19ms/step - loss: 589.6161 - val_loss: 139.8673\n",
            "Epoch 3/800\n",
            "371/371 [==============================] - 7s 19ms/step - loss: 338.7454 - val_loss: 97.0023\n",
            "Epoch 4/800\n",
            "371/371 [==============================] - 7s 18ms/step - loss: 296.4155 - val_loss: 74.6774\n",
            "Epoch 5/800\n",
            "371/371 [==============================] - 7s 19ms/step - loss: 276.7203 - val_loss: 74.9903\n",
            "Epoch 6/800\n",
            "371/371 [==============================] - 9s 24ms/step - loss: 259.8274 - val_loss: 75.1838\n",
            "Epoch 7/800\n",
            "371/371 [==============================] - 10s 27ms/step - loss: 242.5056 - val_loss: 62.4302\n",
            "Epoch 8/800\n",
            "371/371 [==============================] - 8s 23ms/step - loss: 216.2087 - val_loss: 65.4773\n",
            "Epoch 9/800\n",
            "371/371 [==============================] - 7s 19ms/step - loss: 213.7571 - val_loss: 49.9869\n",
            "Epoch 10/800\n",
            "371/371 [==============================] - 7s 19ms/step - loss: 207.5960 - val_loss: 50.2376\n",
            "Epoch 11/800\n",
            "371/371 [==============================] - 7s 19ms/step - loss: 201.8510 - val_loss: 49.6514\n",
            "Epoch 12/800\n",
            "371/371 [==============================] - 7s 18ms/step - loss: 190.9340 - val_loss: 37.2937\n",
            "Epoch 13/800\n",
            "371/371 [==============================] - 7s 18ms/step - loss: 189.2859 - val_loss: 48.7227\n",
            "Epoch 14/800\n",
            "371/371 [==============================] - 7s 19ms/step - loss: 181.3194 - val_loss: 39.6622\n",
            "Epoch 15/800\n",
            "371/371 [==============================] - 7s 18ms/step - loss: 175.6455 - val_loss: 44.0737\n",
            "Epoch 16/800\n",
            "371/371 [==============================] - 7s 18ms/step - loss: 170.1591 - val_loss: 36.5398\n",
            "Epoch 17/800\n",
            "371/371 [==============================] - 7s 19ms/step - loss: 164.9371 - val_loss: 38.3551\n",
            "Epoch 18/800\n",
            "371/371 [==============================] - 7s 18ms/step - loss: 162.7510 - val_loss: 35.7107\n",
            "Epoch 19/800\n",
            "371/371 [==============================] - 7s 18ms/step - loss: 158.3791 - val_loss: 38.3193\n",
            "Epoch 20/800\n",
            "371/371 [==============================] - 7s 19ms/step - loss: 154.1228 - val_loss: 39.0898\n",
            "Epoch 21/800\n",
            "371/371 [==============================] - 7s 18ms/step - loss: 152.8542 - val_loss: 32.2799\n",
            "Epoch 22/800\n",
            "371/371 [==============================] - 7s 19ms/step - loss: 151.5242 - val_loss: 31.1759\n",
            "Epoch 23/800\n",
            "371/371 [==============================] - 7s 18ms/step - loss: 148.2146 - val_loss: 32.4997\n",
            "Epoch 24/800\n",
            "371/371 [==============================] - 7s 18ms/step - loss: 148.1642 - val_loss: 31.3632\n",
            "Epoch 25/800\n",
            "371/371 [==============================] - 7s 18ms/step - loss: 142.6500 - val_loss: 30.1462\n",
            "Epoch 26/800\n",
            "371/371 [==============================] - 7s 18ms/step - loss: 139.4658 - val_loss: 29.3551\n",
            "Epoch 27/800\n",
            "371/371 [==============================] - 7s 19ms/step - loss: 138.0757 - val_loss: 25.2811\n",
            "Epoch 28/800\n",
            "371/371 [==============================] - 7s 19ms/step - loss: 135.7027 - val_loss: 25.0588\n",
            "Epoch 29/800\n",
            "371/371 [==============================] - 7s 19ms/step - loss: 133.6009 - val_loss: 32.3666\n",
            "Epoch 30/800\n",
            "371/371 [==============================] - 8s 20ms/step - loss: 131.0084 - val_loss: 29.0043\n",
            "Epoch 31/800\n",
            "371/371 [==============================] - 7s 19ms/step - loss: 128.7534 - val_loss: 28.0781\n",
            "Epoch 32/800\n",
            "371/371 [==============================] - 9s 24ms/step - loss: 121.1151 - val_loss: 25.5372\n",
            "Epoch 33/800\n",
            "371/371 [==============================] - 7s 19ms/step - loss: 115.7203 - val_loss: 23.7807\n",
            "Epoch 34/800\n",
            "371/371 [==============================] - 7s 19ms/step - loss: 110.6617 - val_loss: 22.5682\n",
            "Epoch 35/800\n",
            "371/371 [==============================] - 7s 18ms/step - loss: 105.4057 - val_loss: 25.8406\n",
            "Epoch 36/800\n",
            "371/371 [==============================] - 7s 18ms/step - loss: 105.5991 - val_loss: 20.9792\n",
            "Epoch 37/800\n",
            "371/371 [==============================] - 7s 18ms/step - loss: 103.0889 - val_loss: 15.1667\n",
            "Epoch 38/800\n",
            "371/371 [==============================] - 7s 18ms/step - loss: 98.9492 - val_loss: 20.3960\n",
            "Epoch 39/800\n",
            "371/371 [==============================] - 7s 18ms/step - loss: 98.4163 - val_loss: 12.8872\n",
            "Epoch 40/800\n",
            "371/371 [==============================] - 7s 18ms/step - loss: 95.7144 - val_loss: 28.5607\n",
            "Epoch 41/800\n",
            "371/371 [==============================] - 7s 19ms/step - loss: 94.7616 - val_loss: 14.3081\n",
            "Epoch 42/800\n",
            "371/371 [==============================] - 7s 18ms/step - loss: 92.8893 - val_loss: 19.8330\n",
            "Epoch 43/800\n",
            "371/371 [==============================] - 7s 18ms/step - loss: 89.8157 - val_loss: 12.0378\n",
            "Epoch 44/800\n",
            "371/371 [==============================] - 7s 18ms/step - loss: 88.9726 - val_loss: 11.8651\n",
            "Epoch 45/800\n",
            "371/371 [==============================] - 7s 18ms/step - loss: 87.6052 - val_loss: 19.8587\n",
            "Epoch 46/800\n",
            "371/371 [==============================] - 7s 19ms/step - loss: 87.0162 - val_loss: 16.5678\n",
            "Epoch 47/800\n",
            "371/371 [==============================] - 7s 19ms/step - loss: 84.6877 - val_loss: 12.3183\n",
            "Epoch 48/800\n",
            "371/371 [==============================] - 7s 18ms/step - loss: 85.4851 - val_loss: 11.5568\n",
            "Epoch 49/800\n",
            "371/371 [==============================] - 7s 18ms/step - loss: 82.8657 - val_loss: 23.5485\n",
            "Epoch 50/800\n",
            "371/371 [==============================] - 7s 18ms/step - loss: 81.4912 - val_loss: 11.7759\n",
            "Epoch 51/800\n",
            "371/371 [==============================] - 7s 18ms/step - loss: 79.9207 - val_loss: 16.7208\n",
            "Epoch 52/800\n",
            "371/371 [==============================] - 7s 19ms/step - loss: 78.3494 - val_loss: 10.2000\n",
            "Epoch 53/800\n",
            "371/371 [==============================] - 7s 18ms/step - loss: 77.6773 - val_loss: 11.3999\n",
            "Epoch 54/800\n",
            "371/371 [==============================] - 7s 19ms/step - loss: 75.3326 - val_loss: 14.0274\n",
            "Epoch 55/800\n",
            "371/371 [==============================] - 7s 19ms/step - loss: 73.7239 - val_loss: 9.9096\n",
            "Epoch 56/800\n",
            "371/371 [==============================] - 7s 19ms/step - loss: 72.7115 - val_loss: 13.1714\n",
            "Epoch 57/800\n",
            "371/371 [==============================] - 8s 22ms/step - loss: 72.9226 - val_loss: 15.3356\n",
            "Epoch 58/800\n",
            "371/371 [==============================] - 7s 19ms/step - loss: 69.1677 - val_loss: 12.3716\n",
            "Epoch 59/800\n",
            "371/371 [==============================] - 7s 19ms/step - loss: 69.4802 - val_loss: 18.7463\n",
            "Epoch 60/800\n",
            "371/371 [==============================] - 7s 19ms/step - loss: 68.5723 - val_loss: 9.8477\n",
            "Epoch 61/800\n",
            "371/371 [==============================] - 7s 18ms/step - loss: 66.9973 - val_loss: 10.0962\n",
            "Epoch 62/800\n",
            "371/371 [==============================] - 7s 18ms/step - loss: 66.0682 - val_loss: 14.5878\n",
            "Epoch 63/800\n",
            "371/371 [==============================] - 6s 17ms/step - loss: 66.1655 - val_loss: 21.1615\n",
            "Epoch 64/800\n",
            "371/371 [==============================] - 7s 18ms/step - loss: 66.2491 - val_loss: 13.8400\n",
            "Epoch 65/800\n",
            "371/371 [==============================] - 7s 18ms/step - loss: 64.5430 - val_loss: 9.8143\n",
            "Epoch 66/800\n",
            "371/371 [==============================] - 6s 17ms/step - loss: 64.7204 - val_loss: 11.5151\n",
            "Epoch 67/800\n",
            "371/371 [==============================] - 6s 17ms/step - loss: 62.5771 - val_loss: 19.1383\n",
            "Epoch 68/800\n",
            "371/371 [==============================] - 6s 17ms/step - loss: 62.0030 - val_loss: 10.6850\n",
            "Epoch 69/800\n",
            "371/371 [==============================] - 6s 17ms/step - loss: 62.0759 - val_loss: 18.1207\n",
            "Epoch 70/800\n",
            "371/371 [==============================] - 6s 17ms/step - loss: 61.2076 - val_loss: 11.0998\n",
            "Epoch 71/800\n",
            "371/371 [==============================] - 7s 18ms/step - loss: 60.7739 - val_loss: 14.2340\n",
            "Epoch 72/800\n",
            "371/371 [==============================] - 6s 17ms/step - loss: 60.6644 - val_loss: 10.6376\n",
            "Epoch 73/800\n",
            "371/371 [==============================] - 6s 17ms/step - loss: 59.2572 - val_loss: 8.6283\n",
            "Epoch 74/800\n",
            "371/371 [==============================] - 7s 18ms/step - loss: 59.4467 - val_loss: 8.5320\n",
            "Epoch 75/800\n",
            "371/371 [==============================] - 7s 18ms/step - loss: 58.6147 - val_loss: 13.8651\n",
            "Epoch 76/800\n",
            "371/371 [==============================] - 7s 18ms/step - loss: 57.6012 - val_loss: 10.9904\n",
            "Epoch 77/800\n",
            "371/371 [==============================] - 6s 17ms/step - loss: 56.9362 - val_loss: 9.4609\n",
            "Epoch 78/800\n",
            "371/371 [==============================] - 6s 17ms/step - loss: 57.2918 - val_loss: 9.3367\n",
            "Epoch 79/800\n",
            "371/371 [==============================] - 6s 17ms/step - loss: 55.4876 - val_loss: 9.4694\n",
            "Epoch 80/800\n",
            "371/371 [==============================] - 6s 17ms/step - loss: 55.4780 - val_loss: 8.6382\n",
            "Epoch 81/800\n",
            "371/371 [==============================] - 6s 17ms/step - loss: 55.6704 - val_loss: 9.9266\n",
            "Epoch 82/800\n",
            "371/371 [==============================] - 6s 17ms/step - loss: 54.4465 - val_loss: 10.9835\n",
            "Epoch 83/800\n",
            "371/371 [==============================] - 8s 21ms/step - loss: 54.8073 - val_loss: 14.8734\n",
            "Epoch 84/800\n",
            "371/371 [==============================] - 6s 17ms/step - loss: 52.7516 - val_loss: 9.3704\n"
          ]
        }
      ]
    },
    {
      "cell_type": "code",
      "metadata": {
        "id": "xae0zjUBngB7",
        "colab": {
          "base_uri": "https://localhost:8080/"
        },
        "outputId": "ae1c262e-e134-4433-ac0a-cd69491ed487"
      },
      "source": [
        "# and you can show how your model did\n",
        "\n",
        "# since it's a single sample, we need to reshape\n",
        "data = X[0]\n",
        "data = data.reshape(1,n_steps,n_features)\n",
        "print(data)\n",
        "print(model.predict(data))\n",
        "\n",
        "# did we get close?\n",
        "print(y[0:1])\n",
        "\n",
        "# of course you can show scatterplots and everything else\n",
        "# for more examples"
      ],
      "execution_count": null,
      "outputs": [
        {
          "output_type": "stream",
          "name": "stdout",
          "text": [
            "[[[   6.08   59.1   190.      5.      0.     30.09 1019.     10.  ]\n",
            "  [   8.06   59.4   190.      5.      0.     30.08 1018.7    10.  ]\n",
            "  [   6.98   49.69  210.      9.      0.     30.06 1018.1    10.  ]\n",
            "  [   5.     47.52  230.     11.      0.     30.04 1017.4    10.  ]\n",
            "  [   3.92   43.21  250.     13.      0.     30.05 1017.7    10.  ]\n",
            "  [   3.92   43.21  250.     11.      0.     30.06 1018.1    10.  ]\n",
            "  [   3.02   41.45  240.     13.      0.     30.07 1018.4    10.  ]\n",
            "  [   3.92   41.3   240.     11.      0.     30.08 1018.9    10.  ]\n",
            "  [   3.92   38.03  210.      8.      0.     30.08 1018.9    10.  ]\n",
            "  [   3.92   35.05  220.     14.      0.     30.08 1018.8    10.  ]]]\n",
            "1/1 [==============================] - 0s 297ms/step\n",
            "[[28.148977 28.730747 27.977386]]\n",
            "       y  yPlus1  yPlus2\n",
            "0  28.04   30.02    32.0\n"
          ]
        }
      ]
    },
    {
      "cell_type": "code",
      "metadata": {
        "id": "Ldv7KZBHH0ui",
        "colab": {
          "base_uri": "https://localhost:8080/"
        },
        "outputId": "dad6ca63-9d96-43e7-c82e-716571dce453"
      },
      "source": [
        "# select first column of y\n",
        "y['y']"
      ],
      "execution_count": null,
      "outputs": [
        {
          "output_type": "execute_result",
          "data": {
            "text/plain": [
              "0        28.04\n",
              "1        30.02\n",
              "2        32.00\n",
              "3        33.08\n",
              "4        33.98\n",
              "         ...  \n",
              "46258    44.10\n",
              "46259    42.10\n",
              "46260    39.00\n",
              "46261    39.90\n",
              "46262    37.00\n",
              "Name: y, Length: 46263, dtype: float64"
            ]
          },
          "metadata": {},
          "execution_count": 21
        }
      ]
    },
    {
      "cell_type": "code",
      "metadata": {
        "id": "vYo3diPQMW9_",
        "colab": {
          "base_uri": "https://localhost:8080/"
        },
        "outputId": "0a30a4aa-aded-4e59-a636-a47431a0d3f0"
      },
      "source": [
        "# well done! You can also make scatterplots of actual vs. predicted\n",
        "pred = model.predict(X)\n",
        "pred"
      ],
      "execution_count": null,
      "outputs": [
        {
          "output_type": "stream",
          "name": "stdout",
          "text": [
            "1446/1446 [==============================] - 5s 3ms/step\n"
          ]
        },
        {
          "output_type": "execute_result",
          "data": {
            "text/plain": [
              "array([[28.148977, 28.730747, 27.977386],\n",
              "       [29.65662 , 30.185104, 29.40461 ],\n",
              "       [30.89119 , 31.36789 , 30.543953],\n",
              "       ...,\n",
              "       [38.68242 , 38.847694, 37.96832 ],\n",
              "       [39.480103, 39.67096 , 38.84119 ],\n",
              "       [37.18184 , 37.425407, 36.633003]], dtype=float32)"
            ]
          },
          "metadata": {},
          "execution_count": 22
        }
      ]
    },
    {
      "cell_type": "code",
      "metadata": {
        "id": "8DeRaDzoH-Pt",
        "colab": {
          "base_uri": "https://localhost:8080/"
        },
        "outputId": "44a9cb60-f0f7-4000-d02f-2f7f9129a166"
      },
      "source": [
        "# select first column\n",
        "pred[:,0:1]"
      ],
      "execution_count": null,
      "outputs": [
        {
          "output_type": "execute_result",
          "data": {
            "text/plain": [
              "array([[28.148977],\n",
              "       [29.65662 ],\n",
              "       [30.89119 ],\n",
              "       ...,\n",
              "       [38.68242 ],\n",
              "       [39.480103],\n",
              "       [37.18184 ]], dtype=float32)"
            ]
          },
          "metadata": {},
          "execution_count": 23
        }
      ]
    },
    {
      "cell_type": "code",
      "metadata": {
        "id": "GydQkK97Oo4U",
        "colab": {
          "base_uri": "https://localhost:8080/",
          "height": 268
        },
        "outputId": "65a92953-9cdb-4a6a-f43e-4072ee30231a"
      },
      "source": [
        "# pred1\n",
        "plt.scatter(y['y'], pred[:,0:1])\n",
        "plt.show()"
      ],
      "execution_count": null,
      "outputs": [
        {
          "output_type": "display_data",
          "data": {
            "text/plain": [
              "<Figure size 432x288 with 1 Axes>"
            ],
            "image/png": "[encoded data removed]"
          },
          "metadata": {
            "needs_background": "light"
          }
        }
      ]
    },
    {
      "cell_type": "code",
      "metadata": {
        "id": "Y0qnA047TrBs",
        "colab": {
          "base_uri": "https://localhost:8080/",
          "height": 54
        },
        "outputId": "604db124-5c1e-497f-8282-f54ff3146d18"
      },
      "source": [
        "# pred2\n",
        "plt.scatter(y['yPlus1'], pred[:,1:2])\n",
        "plt.show()"
      ],
      "execution_count": null,
      "outputs": [
        {
          "output_type": "display_data",
          "data": {
            "text/plain": [
              "<Figure size 432x288 with 1 Axes>"
            ],
            "image/png": "[encoded data removed]"
          },
          "metadata": {
            "needs_background": "light"
          }
        }
      ]
    },
    {
      "cell_type": "code",
      "metadata": {
        "id": "N88xmJRcIjZZ",
        "colab": {
          "base_uri": "https://localhost:8080/",
          "height": 54
        },
        "outputId": "11f95755-26fe-40a5-f428-55789e536634"
      },
      "source": [
        "# and the third one\n",
        "plt.scatter(y['yPlus2'], pred[:,1:2])\n",
        "plt.show()"
      ],
      "execution_count": null,
      "outputs": [
        {
          "output_type": "display_data",
          "data": {
            "text/plain": [
              "<Figure size 432x288 with 1 Axes>"
            ],
            "image/png": "[encoded data removed]"
          },
          "metadata": {
            "needs_background": "light"
          }
        }
      ]
    },
    {
      "cell_type": "code",
      "metadata": {
        "id": "2l5wN5AIetV0"
      },
      "source": [
        "# it worked! of course the prediction into the\n",
        "# future will be a little worst than the next time step\n",
        "\n",
        "# and as you can see, prepping the data is important!"
      ],
      "execution_count": null,
      "outputs": []
    }
  ]
}