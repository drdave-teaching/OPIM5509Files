{
  "nbformat": 4,
  "nbformat_minor": 0,
  "metadata": {
    "colab": {
      "provenance": [],
      "toc_visible": true
    },
    "kernelspec": {
      "name": "python3",
      "display_name": "Python 3"
    }
  },
  "cells": [
    {
      "cell_type": "markdown",
      "source": [
        "[![Open In Colab](https://colab.research.google.com/assets/colab-badge.svg)](https://colab.research.google.com/github/drdave-teaching/OPIM5509Files/blob/main/OPIM5509_Module4_Files/a_Many_To_Many_BDL_tmpf_and_vsby.ipynb)"
      ],
      "metadata": {
        "id": "ArGky8Q97z0i"
      }
    },
    {
      "cell_type": "markdown",
      "metadata": {
        "id": "lJoZmhF6iW7t"
      },
      "source": [
        "# a_Many To Many (Numeric Sequences)\n",
        "------------------------------------\n",
        "**Dr. Dave Wanik - University of Connecticut**\n",
        "\n",
        "[y is two different variables, at (one) the same timestep]\n",
        "\n",
        "Let's read in the BDL data and see if we can *predict two quantities at once*! Dewpoint (dwpf) and Mean Sea-level Pressure (mslp)."
      ]
    },
    {
      "cell_type": "code",
      "metadata": {
        "id": "lex8YXJaiUsq"
      },
      "source": [
        "# import modules\n",
        "from numpy import array\n",
        "from tensorflow.keras.preprocessing.text import one_hot\n",
        "#from keras.preprocessing.sequence import pad_sequences\n",
        "from keras.models import Sequential\n",
        "from tensorflow.keras.layers import Activation, Dropout, Dense\n",
        "from keras.layers import Flatten, LSTM\n",
        "from keras.layers import GlobalMaxPooling1D\n",
        "from keras.models import Model\n",
        "#from keras.layers.embeddings import Embedding\n",
        "from sklearn.model_selection import train_test_split\n",
        "from tensorflow.keras.preprocessing.text import Tokenizer\n",
        "from keras.layers import Input\n",
        "#from keras.layers.merge import Concatenate\n",
        "from keras.layers import Bidirectional\n",
        "\n",
        "import pandas as pd\n",
        "import numpy as np\n",
        "import re\n",
        "\n",
        "import matplotlib.pyplot as plt"
      ],
      "execution_count": null,
      "outputs": []
    },
    {
      "cell_type": "code",
      "metadata": {
        "id": "VYjB_mIKjCS7",
        "colab": {
          "base_uri": "https://localhost:8080/"
        },
        "outputId": "6613205c-bf32-4fa9-ee78-1ec57f316a55"
      },
      "source": [
        "# # https://drive.google.com/file/d/1vhWT7__EDc-WQ7WGnK0RP2qq7-25LCWS/view?usp=sharing\n",
        "# !gdown 1vhWT7__EDc-WQ7WGnK0RP2qq7-25LCWS\n",
        "# # read the data\n",
        "# df = pd.read_csv('cleanBDL.csv')"
      ],
      "execution_count": null,
      "outputs": [
        {
          "output_type": "stream",
          "name": "stdout",
          "text": [
            "Downloading...\n",
            "From: https://drive.google.com/uc?id=1vhWT7__EDc-WQ7WGnK0RP2qq7-25LCWS\n",
            "To: /content/cleanBDL.csv\n",
            "\r  0% 0.00/4.40M [00:00<?, ?B/s]\r100% 4.40M/4.40M [00:00<00:00, 67.1MB/s]\n"
          ]
        }
      ]
    },
    {
      "cell_type": "code",
      "source": [
        "# Link to the data file on Github\n",
        "url = \"https://raw.githubusercontent.com/drdave-teaching/OPIM5509Files/refs/heads/main/OPIM5509_Module4_Files/cleanBDL.csv\"\n",
        "\n",
        "# retrieve the CSV data and build a dataframe\n",
        "df = pd.read_csv(url)\n",
        "\n",
        "df.shape"
      ],
      "metadata": {
        "colab": {
          "base_uri": "https://localhost:8080/"
        },
        "id": "fyY-vsAx1mRA",
        "outputId": "efcbcc8e-2000-4bb5-bbe9-b4c8c1cbc369"
      },
      "execution_count": null,
      "outputs": [
        {
          "output_type": "execute_result",
          "data": {
            "text/plain": [
              "(46272, 10)"
            ]
          },
          "metadata": {},
          "execution_count": 8
        }
      ]
    },
    {
      "cell_type": "code",
      "metadata": {
        "id": "wpgqCGD_jciw",
        "colab": {
          "base_uri": "https://localhost:8080/",
          "height": 554
        },
        "outputId": "78f908b3-a059-4fdd-8ef5-eb09e8a8d2b8"
      },
      "source": [
        "df.info()\n",
        "df.head()"
      ],
      "execution_count": null,
      "outputs": [
        {
          "output_type": "stream",
          "name": "stdout",
          "text": [
            "<class 'pandas.core.frame.DataFrame'>\n",
            "RangeIndex: 46272 entries, 0 to 46271\n",
            "Data columns (total 10 columns):\n",
            " #   Column  Non-Null Count  Dtype  \n",
            "---  ------  --------------  -----  \n",
            " 0   valid   46272 non-null  object \n",
            " 1   tmpf    46272 non-null  float64\n",
            " 2   dwpf    46272 non-null  float64\n",
            " 3   relh    46272 non-null  float64\n",
            " 4   drct    46272 non-null  float64\n",
            " 5   sknt    46272 non-null  float64\n",
            " 6   p01i    46272 non-null  float64\n",
            " 7   alti    46272 non-null  float64\n",
            " 8   mslp    46272 non-null  float64\n",
            " 9   vsby    46272 non-null  float64\n",
            "dtypes: float64(9), object(1)\n",
            "memory usage: 3.5+ MB\n"
          ]
        },
        {
          "output_type": "execute_result",
          "data": {
            "text/plain": [
              "                 valid   tmpf  dwpf   relh   drct  sknt  p01i   alti    mslp  \\\n",
              "0  2015-01-01 00:00:00  17.96  6.08  59.10  190.0   5.0   0.0  30.09  1019.0   \n",
              "1  2015-01-01 01:00:00  19.94  8.06  59.40  190.0   5.0   0.0  30.08  1018.7   \n",
              "2  2015-01-01 02:00:00  23.00  6.98  49.69  210.0   9.0   0.0  30.06  1018.1   \n",
              "3  2015-01-01 03:00:00  21.92  5.00  47.52  230.0  11.0   0.0  30.04  1017.4   \n",
              "4  2015-01-01 04:00:00  23.00  3.92  43.21  250.0  13.0   0.0  30.05  1017.7   \n",
              "\n",
              "   vsby  \n",
              "0  10.0  \n",
              "1  10.0  \n",
              "2  10.0  \n",
              "3  10.0  \n",
              "4  10.0  "
            ],
            "text/html": [
              "\n",
              "  <div id=\"df-de7d0f50-0917-44ee-b60d-ebc50d956f21\">\n",
              "    <div class=\"colab-df-container\">\n",
              "      <div>\n",
              "<style scoped>\n",
              "    .dataframe tbody tr th:only-of-type {\n",
              "        vertical-align: middle;\n",
              "    }\n",
              "\n",
              "    .dataframe tbody tr th {\n",
              "        vertical-align: top;\n",
              "    }\n",
              "\n",
              "    .dataframe thead th {\n",
              "        text-align: right;\n",
              "    }\n",
              "</style>\n",
              "<table border=\"1\" class=\"dataframe\">\n",
              "  <thead>\n",
              "    <tr style=\"text-align: right;\">\n",
              "      <th></th>\n",
              "      <th>valid</th>\n",
              "      <th>tmpf</th>\n",
              "      <th>dwpf</th>\n",
              "      <th>relh</th>\n",
              "      <th>drct</th>\n",
              "      <th>sknt</th>\n",
              "      <th>p01i</th>\n",
              "      <th>alti</th>\n",
              "      <th>mslp</th>\n",
              "      <th>vsby</th>\n",
              "    </tr>\n",
              "  </thead>\n",
              "  <tbody>\n",
              "    <tr>\n",
              "      <th>0</th>\n",
              "      <td>2015-01-01 00:00:00</td>\n",
              "      <td>17.96</td>\n",
              "      <td>6.08</td>\n",
              "      <td>59.10</td>\n",
              "      <td>190.0</td>\n",
              "      <td>5.0</td>\n",
              "      <td>0.0</td>\n",
              "      <td>30.09</td>\n",
              "      <td>1019.0</td>\n",
              "      <td>10.0</td>\n",
              "    </tr>\n",
              "    <tr>\n",
              "      <th>1</th>\n",
              "      <td>2015-01-01 01:00:00</td>\n",
              "      <td>19.94</td>\n",
              "      <td>8.06</td>\n",
              "      <td>59.40</td>\n",
              "      <td>190.0</td>\n",
              "      <td>5.0</td>\n",
              "      <td>0.0</td>\n",
              "      <td>30.08</td>\n",
              "      <td>1018.7</td>\n",
              "      <td>10.0</td>\n",
              "    </tr>\n",
              "    <tr>\n",
              "      <th>2</th>\n",
              "      <td>2015-01-01 02:00:00</td>\n",
              "      <td>23.00</td>\n",
              "      <td>6.98</td>\n",
              "      <td>49.69</td>\n",
              "      <td>210.0</td>\n",
              "      <td>9.0</td>\n",
              "      <td>0.0</td>\n",
              "      <td>30.06</td>\n",
              "      <td>1018.1</td>\n",
              "      <td>10.0</td>\n",
              "    </tr>\n",
              "    <tr>\n",
              "      <th>3</th>\n",
              "      <td>2015-01-01 03:00:00</td>\n",
              "      <td>21.92</td>\n",
              "      <td>5.00</td>\n",
              "      <td>47.52</td>\n",
              "      <td>230.0</td>\n",
              "      <td>11.0</td>\n",
              "      <td>0.0</td>\n",
              "      <td>30.04</td>\n",
              "      <td>1017.4</td>\n",
              "      <td>10.0</td>\n",
              "    </tr>\n",
              "    <tr>\n",
              "      <th>4</th>\n",
              "      <td>2015-01-01 04:00:00</td>\n",
              "      <td>23.00</td>\n",
              "      <td>3.92</td>\n",
              "      <td>43.21</td>\n",
              "      <td>250.0</td>\n",
              "      <td>13.0</td>\n",
              "      <td>0.0</td>\n",
              "      <td>30.05</td>\n",
              "      <td>1017.7</td>\n",
              "      <td>10.0</td>\n",
              "    </tr>\n",
              "  </tbody>\n",
              "</table>\n",
              "</div>\n",
              "      <button class=\"colab-df-convert\" onclick=\"convertToInteractive('df-de7d0f50-0917-44ee-b60d-ebc50d956f21')\"\n",
              "              title=\"Convert this dataframe to an interactive table.\"\n",
              "              style=\"display:none;\">\n",
              "        \n",
              "  <svg xmlns=\"http://www.w3.org/2000/svg\" height=\"24px\"viewBox=\"0 0 24 24\"\n",
              "       width=\"24px\">\n",
              "    <path d=\"M0 0h24v24H0V0z\" fill=\"none\"/>\n",
              "    <path d=\"M18.56 5.44l.94 2.06.94-2.06 2.06-.94-2.06-.94-.94-2.06-.94 2.06-2.06.94zm-11 1L8.5 8.5l.94-2.06 2.06-.94-2.06-.94L8.5 2.5l-.94 2.06-2.06.94zm10 10l.94 2.06.94-2.06 2.06-.94-2.06-.94-.94-2.06-.94 2.06-2.06.94z\"/><path d=\"M17.41 7.96l-1.37-1.37c-.4-.4-.92-.59-1.43-.59-.52 0-1.04.2-1.43.59L10.3 9.45l-7.72 7.72c-.78.78-.78 2.05 0 2.83L4 21.41c.39.39.9.59 1.41.59.51 0 1.02-.2 1.41-.59l7.78-7.78 2.81-2.81c.8-.78.8-2.07 0-2.86zM5.41 20L4 18.59l7.72-7.72 1.47 1.35L5.41 20z\"/>\n",
              "  </svg>\n",
              "      </button>\n",
              "      \n",
              "  <style>\n",
              "    .colab-df-container {\n",
              "      display:flex;\n",
              "      flex-wrap:wrap;\n",
              "      gap: 12px;\n",
              "    }\n",
              "\n",
              "    .colab-df-convert {\n",
              "      background-color: #E8F0FE;\n",
              "      border: none;\n",
              "      border-radius: 50%;\n",
              "      cursor: pointer;\n",
              "      display: none;\n",
              "      fill: #1967D2;\n",
              "      height: 32px;\n",
              "      padding: 0 0 0 0;\n",
              "      width: 32px;\n",
              "    }\n",
              "\n",
              "    .colab-df-convert:hover {\n",
              "      background-color: #E2EBFA;\n",
              "      box-shadow: 0px 1px 2px rgba(60, 64, 67, 0.3), 0px 1px 3px 1px rgba(60, 64, 67, 0.15);\n",
              "      fill: #174EA6;\n",
              "    }\n",
              "\n",
              "    [theme=dark] .colab-df-convert {\n",
              "      background-color: #3B4455;\n",
              "      fill: #D2E3FC;\n",
              "    }\n",
              "\n",
              "    [theme=dark] .colab-df-convert:hover {\n",
              "      background-color: #434B5C;\n",
              "      box-shadow: 0px 1px 3px 1px rgba(0, 0, 0, 0.15);\n",
              "      filter: drop-shadow(0px 1px 2px rgba(0, 0, 0, 0.3));\n",
              "      fill: #FFFFFF;\n",
              "    }\n",
              "  </style>\n",
              "\n",
              "      <script>\n",
              "        const buttonEl =\n",
              "          document.querySelector('#df-de7d0f50-0917-44ee-b60d-ebc50d956f21 button.colab-df-convert');\n",
              "        buttonEl.style.display =\n",
              "          google.colab.kernel.accessAllowed ? 'block' : 'none';\n",
              "\n",
              "        async function convertToInteractive(key) {\n",
              "          const element = document.querySelector('#df-de7d0f50-0917-44ee-b60d-ebc50d956f21');\n",
              "          const dataTable =\n",
              "            await google.colab.kernel.invokeFunction('convertToInteractive',\n",
              "                                                     [key], {});\n",
              "          if (!dataTable) return;\n",
              "\n",
              "          const docLinkHtml = 'Like what you see? Visit the ' +\n",
              "            '<a target=\"_blank\" href=https://colab.research.google.com/notebooks/data_table.ipynb>data table notebook</a>'\n",
              "            + ' to learn more about interactive tables.';\n",
              "          element.innerHTML = '';\n",
              "          dataTable['output_type'] = 'display_data';\n",
              "          await google.colab.output.renderOutput(dataTable, element);\n",
              "          const docLink = document.createElement('div');\n",
              "          docLink.innerHTML = docLinkHtml;\n",
              "          element.appendChild(docLink);\n",
              "        }\n",
              "      </script>\n",
              "    </div>\n",
              "  </div>\n",
              "  "
            ]
          },
          "metadata": {},
          "execution_count": 7
        }
      ]
    },
    {
      "cell_type": "markdown",
      "metadata": {
        "id": "yJTuujVFjr61"
      },
      "source": [
        "# Define X and Y\n",
        "If we are going to use our split sequences script from Brownlee, then we need to make sure our Y variables are on the end!"
      ]
    },
    {
      "cell_type": "code",
      "metadata": {
        "id": "TDAb-LqUjjlt",
        "colab": {
          "base_uri": "https://localhost:8080/",
          "height": 206
        },
        "outputId": "74a4f9dd-ef64-4076-a2f8-eda9ca2eb3f3"
      },
      "source": [
        "# let's drop the valid column\n",
        "# Y will be dwpf and relh\n",
        "# X will be everything else!\n",
        "\n",
        "del df['valid']\n",
        "df.head() # check your work"
      ],
      "execution_count": null,
      "outputs": [
        {
          "output_type": "execute_result",
          "data": {
            "text/plain": [
              "    tmpf  dwpf   relh   drct  sknt  p01i   alti    mslp  vsby\n",
              "0  17.96  6.08  59.10  190.0   5.0   0.0  30.09  1019.0  10.0\n",
              "1  19.94  8.06  59.40  190.0   5.0   0.0  30.08  1018.7  10.0\n",
              "2  23.00  6.98  49.69  210.0   9.0   0.0  30.06  1018.1  10.0\n",
              "3  21.92  5.00  47.52  230.0  11.0   0.0  30.04  1017.4  10.0\n",
              "4  23.00  3.92  43.21  250.0  13.0   0.0  30.05  1017.7  10.0"
            ],
            "text/html": [
              "\n",
              "  <div id=\"df-9d9d90e2-ca3b-43a2-8db2-52063c5fda6f\">\n",
              "    <div class=\"colab-df-container\">\n",
              "      <div>\n",
              "<style scoped>\n",
              "    .dataframe tbody tr th:only-of-type {\n",
              "        vertical-align: middle;\n",
              "    }\n",
              "\n",
              "    .dataframe tbody tr th {\n",
              "        vertical-align: top;\n",
              "    }\n",
              "\n",
              "    .dataframe thead th {\n",
              "        text-align: right;\n",
              "    }\n",
              "</style>\n",
              "<table border=\"1\" class=\"dataframe\">\n",
              "  <thead>\n",
              "    <tr style=\"text-align: right;\">\n",
              "      <th></th>\n",
              "      <th>tmpf</th>\n",
              "      <th>dwpf</th>\n",
              "      <th>relh</th>\n",
              "      <th>drct</th>\n",
              "      <th>sknt</th>\n",
              "      <th>p01i</th>\n",
              "      <th>alti</th>\n",
              "      <th>mslp</th>\n",
              "      <th>vsby</th>\n",
              "    </tr>\n",
              "  </thead>\n",
              "  <tbody>\n",
              "    <tr>\n",
              "      <th>0</th>\n",
              "      <td>17.96</td>\n",
              "      <td>6.08</td>\n",
              "      <td>59.10</td>\n",
              "      <td>190.0</td>\n",
              "      <td>5.0</td>\n",
              "      <td>0.0</td>\n",
              "      <td>30.09</td>\n",
              "      <td>1019.0</td>\n",
              "      <td>10.0</td>\n",
              "    </tr>\n",
              "    <tr>\n",
              "      <th>1</th>\n",
              "      <td>19.94</td>\n",
              "      <td>8.06</td>\n",
              "      <td>59.40</td>\n",
              "      <td>190.0</td>\n",
              "      <td>5.0</td>\n",
              "      <td>0.0</td>\n",
              "      <td>30.08</td>\n",
              "      <td>1018.7</td>\n",
              "      <td>10.0</td>\n",
              "    </tr>\n",
              "    <tr>\n",
              "      <th>2</th>\n",
              "      <td>23.00</td>\n",
              "      <td>6.98</td>\n",
              "      <td>49.69</td>\n",
              "      <td>210.0</td>\n",
              "      <td>9.0</td>\n",
              "      <td>0.0</td>\n",
              "      <td>30.06</td>\n",
              "      <td>1018.1</td>\n",
              "      <td>10.0</td>\n",
              "    </tr>\n",
              "    <tr>\n",
              "      <th>3</th>\n",
              "      <td>21.92</td>\n",
              "      <td>5.00</td>\n",
              "      <td>47.52</td>\n",
              "      <td>230.0</td>\n",
              "      <td>11.0</td>\n",
              "      <td>0.0</td>\n",
              "      <td>30.04</td>\n",
              "      <td>1017.4</td>\n",
              "      <td>10.0</td>\n",
              "    </tr>\n",
              "    <tr>\n",
              "      <th>4</th>\n",
              "      <td>23.00</td>\n",
              "      <td>3.92</td>\n",
              "      <td>43.21</td>\n",
              "      <td>250.0</td>\n",
              "      <td>13.0</td>\n",
              "      <td>0.0</td>\n",
              "      <td>30.05</td>\n",
              "      <td>1017.7</td>\n",
              "      <td>10.0</td>\n",
              "    </tr>\n",
              "  </tbody>\n",
              "</table>\n",
              "</div>\n",
              "      <button class=\"colab-df-convert\" onclick=\"convertToInteractive('df-9d9d90e2-ca3b-43a2-8db2-52063c5fda6f')\"\n",
              "              title=\"Convert this dataframe to an interactive table.\"\n",
              "              style=\"display:none;\">\n",
              "        \n",
              "  <svg xmlns=\"http://www.w3.org/2000/svg\" height=\"24px\"viewBox=\"0 0 24 24\"\n",
              "       width=\"24px\">\n",
              "    <path d=\"M0 0h24v24H0V0z\" fill=\"none\"/>\n",
              "    <path d=\"M18.56 5.44l.94 2.06.94-2.06 2.06-.94-2.06-.94-.94-2.06-.94 2.06-2.06.94zm-11 1L8.5 8.5l.94-2.06 2.06-.94-2.06-.94L8.5 2.5l-.94 2.06-2.06.94zm10 10l.94 2.06.94-2.06 2.06-.94-2.06-.94-.94-2.06-.94 2.06-2.06.94z\"/><path d=\"M17.41 7.96l-1.37-1.37c-.4-.4-.92-.59-1.43-.59-.52 0-1.04.2-1.43.59L10.3 9.45l-7.72 7.72c-.78.78-.78 2.05 0 2.83L4 21.41c.39.39.9.59 1.41.59.51 0 1.02-.2 1.41-.59l7.78-7.78 2.81-2.81c.8-.78.8-2.07 0-2.86zM5.41 20L4 18.59l7.72-7.72 1.47 1.35L5.41 20z\"/>\n",
              "  </svg>\n",
              "      </button>\n",
              "      \n",
              "  <style>\n",
              "    .colab-df-container {\n",
              "      display:flex;\n",
              "      flex-wrap:wrap;\n",
              "      gap: 12px;\n",
              "    }\n",
              "\n",
              "    .colab-df-convert {\n",
              "      background-color: #E8F0FE;\n",
              "      border: none;\n",
              "      border-radius: 50%;\n",
              "      cursor: pointer;\n",
              "      display: none;\n",
              "      fill: #1967D2;\n",
              "      height: 32px;\n",
              "      padding: 0 0 0 0;\n",
              "      width: 32px;\n",
              "    }\n",
              "\n",
              "    .colab-df-convert:hover {\n",
              "      background-color: #E2EBFA;\n",
              "      box-shadow: 0px 1px 2px rgba(60, 64, 67, 0.3), 0px 1px 3px 1px rgba(60, 64, 67, 0.15);\n",
              "      fill: #174EA6;\n",
              "    }\n",
              "\n",
              "    [theme=dark] .colab-df-convert {\n",
              "      background-color: #3B4455;\n",
              "      fill: #D2E3FC;\n",
              "    }\n",
              "\n",
              "    [theme=dark] .colab-df-convert:hover {\n",
              "      background-color: #434B5C;\n",
              "      box-shadow: 0px 1px 3px 1px rgba(0, 0, 0, 0.15);\n",
              "      filter: drop-shadow(0px 1px 2px rgba(0, 0, 0, 0.3));\n",
              "      fill: #FFFFFF;\n",
              "    }\n",
              "  </style>\n",
              "\n",
              "      <script>\n",
              "        const buttonEl =\n",
              "          document.querySelector('#df-9d9d90e2-ca3b-43a2-8db2-52063c5fda6f button.colab-df-convert');\n",
              "        buttonEl.style.display =\n",
              "          google.colab.kernel.accessAllowed ? 'block' : 'none';\n",
              "\n",
              "        async function convertToInteractive(key) {\n",
              "          const element = document.querySelector('#df-9d9d90e2-ca3b-43a2-8db2-52063c5fda6f');\n",
              "          const dataTable =\n",
              "            await google.colab.kernel.invokeFunction('convertToInteractive',\n",
              "                                                     [key], {});\n",
              "          if (!dataTable) return;\n",
              "\n",
              "          const docLinkHtml = 'Like what you see? Visit the ' +\n",
              "            '<a target=\"_blank\" href=https://colab.research.google.com/notebooks/data_table.ipynb>data table notebook</a>'\n",
              "            + ' to learn more about interactive tables.';\n",
              "          element.innerHTML = '';\n",
              "          dataTable['output_type'] = 'display_data';\n",
              "          await google.colab.output.renderOutput(dataTable, element);\n",
              "          const docLink = document.createElement('div');\n",
              "          docLink.innerHTML = docLinkHtml;\n",
              "          element.appendChild(docLink);\n",
              "        }\n",
              "      </script>\n",
              "    </div>\n",
              "  </div>\n",
              "  "
            ]
          },
          "metadata": {},
          "execution_count": 8
        }
      ]
    },
    {
      "cell_type": "code",
      "metadata": {
        "id": "fAVX9IKNjrQS",
        "colab": {
          "base_uri": "https://localhost:8080/"
        },
        "outputId": "7bc5647d-4a08-4357-b2a2-fdf8318f34c3"
      },
      "source": [
        "Y = df[['dwpf', 'mslp']]\n",
        "X = df.drop(axis=1, columns=['dwpf', 'mslp'])\n",
        "print(df.shape, X.shape, Y.shape)\n",
        "\n",
        "# looks good! Let's prepare samples for modeling"
      ],
      "execution_count": null,
      "outputs": [
        {
          "output_type": "stream",
          "name": "stdout",
          "text": [
            "(46272, 9) (46272, 7) (46272, 2)\n"
          ]
        }
      ]
    },
    {
      "cell_type": "code",
      "metadata": {
        "id": "IUNGj5QRlBdc",
        "colab": {
          "base_uri": "https://localhost:8080/",
          "height": 394
        },
        "outputId": "13d815df-9ea7-491a-b25f-8233e2ccf5e1"
      },
      "source": [
        "# put Y all the way on the left\n",
        "df = pd.concat([X, Y], axis=1, sort=False)\n",
        "df.head(n=11)"
      ],
      "execution_count": null,
      "outputs": [
        {
          "output_type": "execute_result",
          "data": {
            "text/plain": [
              "     tmpf   relh   drct  sknt  p01i   alti  vsby  dwpf    mslp\n",
              "0   17.96  59.10  190.0   5.0   0.0  30.09  10.0  6.08  1019.0\n",
              "1   19.94  59.40  190.0   5.0   0.0  30.08  10.0  8.06  1018.7\n",
              "2   23.00  49.69  210.0   9.0   0.0  30.06  10.0  6.98  1018.1\n",
              "3   21.92  47.52  230.0  11.0   0.0  30.04  10.0  5.00  1017.4\n",
              "4   23.00  43.21  250.0  13.0   0.0  30.05  10.0  3.92  1017.7\n",
              "5   23.00  43.21  250.0  11.0   0.0  30.06  10.0  3.92  1018.1\n",
              "6   23.00  41.45  240.0  13.0   0.0  30.07  10.0  3.02  1018.4\n",
              "7   24.08  41.30  240.0  11.0   0.0  30.08  10.0  3.92  1018.9\n",
              "8   26.06  38.03  210.0   8.0   0.0  30.08  10.0  3.92  1018.9\n",
              "9   28.04  35.05  220.0  14.0   0.0  30.08  10.0  3.92  1018.8\n",
              "10  30.02  33.97  210.0  10.0   0.0  30.07  10.0  5.00  1018.4"
            ],
            "text/html": [
              "\n",
              "  <div id=\"df-98835e6d-facd-47cb-bc20-effb59666d07\">\n",
              "    <div class=\"colab-df-container\">\n",
              "      <div>\n",
              "<style scoped>\n",
              "    .dataframe tbody tr th:only-of-type {\n",
              "        vertical-align: middle;\n",
              "    }\n",
              "\n",
              "    .dataframe tbody tr th {\n",
              "        vertical-align: top;\n",
              "    }\n",
              "\n",
              "    .dataframe thead th {\n",
              "        text-align: right;\n",
              "    }\n",
              "</style>\n",
              "<table border=\"1\" class=\"dataframe\">\n",
              "  <thead>\n",
              "    <tr style=\"text-align: right;\">\n",
              "      <th></th>\n",
              "      <th>tmpf</th>\n",
              "      <th>relh</th>\n",
              "      <th>drct</th>\n",
              "      <th>sknt</th>\n",
              "      <th>p01i</th>\n",
              "      <th>alti</th>\n",
              "      <th>vsby</th>\n",
              "      <th>dwpf</th>\n",
              "      <th>mslp</th>\n",
              "    </tr>\n",
              "  </thead>\n",
              "  <tbody>\n",
              "    <tr>\n",
              "      <th>0</th>\n",
              "      <td>17.96</td>\n",
              "      <td>59.10</td>\n",
              "      <td>190.0</td>\n",
              "      <td>5.0</td>\n",
              "      <td>0.0</td>\n",
              "      <td>30.09</td>\n",
              "      <td>10.0</td>\n",
              "      <td>6.08</td>\n",
              "      <td>1019.0</td>\n",
              "    </tr>\n",
              "    <tr>\n",
              "      <th>1</th>\n",
              "      <td>19.94</td>\n",
              "      <td>59.40</td>\n",
              "      <td>190.0</td>\n",
              "      <td>5.0</td>\n",
              "      <td>0.0</td>\n",
              "      <td>30.08</td>\n",
              "      <td>10.0</td>\n",
              "      <td>8.06</td>\n",
              "      <td>1018.7</td>\n",
              "    </tr>\n",
              "    <tr>\n",
              "      <th>2</th>\n",
              "      <td>23.00</td>\n",
              "      <td>49.69</td>\n",
              "      <td>210.0</td>\n",
              "      <td>9.0</td>\n",
              "      <td>0.0</td>\n",
              "      <td>30.06</td>\n",
              "      <td>10.0</td>\n",
              "      <td>6.98</td>\n",
              "      <td>1018.1</td>\n",
              "    </tr>\n",
              "    <tr>\n",
              "      <th>3</th>\n",
              "      <td>21.92</td>\n",
              "      <td>47.52</td>\n",
              "      <td>230.0</td>\n",
              "      <td>11.0</td>\n",
              "      <td>0.0</td>\n",
              "      <td>30.04</td>\n",
              "      <td>10.0</td>\n",
              "      <td>5.00</td>\n",
              "      <td>1017.4</td>\n",
              "    </tr>\n",
              "    <tr>\n",
              "      <th>4</th>\n",
              "      <td>23.00</td>\n",
              "      <td>43.21</td>\n",
              "      <td>250.0</td>\n",
              "      <td>13.0</td>\n",
              "      <td>0.0</td>\n",
              "      <td>30.05</td>\n",
              "      <td>10.0</td>\n",
              "      <td>3.92</td>\n",
              "      <td>1017.7</td>\n",
              "    </tr>\n",
              "    <tr>\n",
              "      <th>5</th>\n",
              "      <td>23.00</td>\n",
              "      <td>43.21</td>\n",
              "      <td>250.0</td>\n",
              "      <td>11.0</td>\n",
              "      <td>0.0</td>\n",
              "      <td>30.06</td>\n",
              "      <td>10.0</td>\n",
              "      <td>3.92</td>\n",
              "      <td>1018.1</td>\n",
              "    </tr>\n",
              "    <tr>\n",
              "      <th>6</th>\n",
              "      <td>23.00</td>\n",
              "      <td>41.45</td>\n",
              "      <td>240.0</td>\n",
              "      <td>13.0</td>\n",
              "      <td>0.0</td>\n",
              "      <td>30.07</td>\n",
              "      <td>10.0</td>\n",
              "      <td>3.02</td>\n",
              "      <td>1018.4</td>\n",
              "    </tr>\n",
              "    <tr>\n",
              "      <th>7</th>\n",
              "      <td>24.08</td>\n",
              "      <td>41.30</td>\n",
              "      <td>240.0</td>\n",
              "      <td>11.0</td>\n",
              "      <td>0.0</td>\n",
              "      <td>30.08</td>\n",
              "      <td>10.0</td>\n",
              "      <td>3.92</td>\n",
              "      <td>1018.9</td>\n",
              "    </tr>\n",
              "    <tr>\n",
              "      <th>8</th>\n",
              "      <td>26.06</td>\n",
              "      <td>38.03</td>\n",
              "      <td>210.0</td>\n",
              "      <td>8.0</td>\n",
              "      <td>0.0</td>\n",
              "      <td>30.08</td>\n",
              "      <td>10.0</td>\n",
              "      <td>3.92</td>\n",
              "      <td>1018.9</td>\n",
              "    </tr>\n",
              "    <tr>\n",
              "      <th>9</th>\n",
              "      <td>28.04</td>\n",
              "      <td>35.05</td>\n",
              "      <td>220.0</td>\n",
              "      <td>14.0</td>\n",
              "      <td>0.0</td>\n",
              "      <td>30.08</td>\n",
              "      <td>10.0</td>\n",
              "      <td>3.92</td>\n",
              "      <td>1018.8</td>\n",
              "    </tr>\n",
              "    <tr>\n",
              "      <th>10</th>\n",
              "      <td>30.02</td>\n",
              "      <td>33.97</td>\n",
              "      <td>210.0</td>\n",
              "      <td>10.0</td>\n",
              "      <td>0.0</td>\n",
              "      <td>30.07</td>\n",
              "      <td>10.0</td>\n",
              "      <td>5.00</td>\n",
              "      <td>1018.4</td>\n",
              "    </tr>\n",
              "  </tbody>\n",
              "</table>\n",
              "</div>\n",
              "      <button class=\"colab-df-convert\" onclick=\"convertToInteractive('df-98835e6d-facd-47cb-bc20-effb59666d07')\"\n",
              "              title=\"Convert this dataframe to an interactive table.\"\n",
              "              style=\"display:none;\">\n",
              "        \n",
              "  <svg xmlns=\"http://www.w3.org/2000/svg\" height=\"24px\"viewBox=\"0 0 24 24\"\n",
              "       width=\"24px\">\n",
              "    <path d=\"M0 0h24v24H0V0z\" fill=\"none\"/>\n",
              "    <path d=\"M18.56 5.44l.94 2.06.94-2.06 2.06-.94-2.06-.94-.94-2.06-.94 2.06-2.06.94zm-11 1L8.5 8.5l.94-2.06 2.06-.94-2.06-.94L8.5 2.5l-.94 2.06-2.06.94zm10 10l.94 2.06.94-2.06 2.06-.94-2.06-.94-.94-2.06-.94 2.06-2.06.94z\"/><path d=\"M17.41 7.96l-1.37-1.37c-.4-.4-.92-.59-1.43-.59-.52 0-1.04.2-1.43.59L10.3 9.45l-7.72 7.72c-.78.78-.78 2.05 0 2.83L4 21.41c.39.39.9.59 1.41.59.51 0 1.02-.2 1.41-.59l7.78-7.78 2.81-2.81c.8-.78.8-2.07 0-2.86zM5.41 20L4 18.59l7.72-7.72 1.47 1.35L5.41 20z\"/>\n",
              "  </svg>\n",
              "      </button>\n",
              "      \n",
              "  <style>\n",
              "    .colab-df-container {\n",
              "      display:flex;\n",
              "      flex-wrap:wrap;\n",
              "      gap: 12px;\n",
              "    }\n",
              "\n",
              "    .colab-df-convert {\n",
              "      background-color: #E8F0FE;\n",
              "      border: none;\n",
              "      border-radius: 50%;\n",
              "      cursor: pointer;\n",
              "      display: none;\n",
              "      fill: #1967D2;\n",
              "      height: 32px;\n",
              "      padding: 0 0 0 0;\n",
              "      width: 32px;\n",
              "    }\n",
              "\n",
              "    .colab-df-convert:hover {\n",
              "      background-color: #E2EBFA;\n",
              "      box-shadow: 0px 1px 2px rgba(60, 64, 67, 0.3), 0px 1px 3px 1px rgba(60, 64, 67, 0.15);\n",
              "      fill: #174EA6;\n",
              "    }\n",
              "\n",
              "    [theme=dark] .colab-df-convert {\n",
              "      background-color: #3B4455;\n",
              "      fill: #D2E3FC;\n",
              "    }\n",
              "\n",
              "    [theme=dark] .colab-df-convert:hover {\n",
              "      background-color: #434B5C;\n",
              "      box-shadow: 0px 1px 3px 1px rgba(0, 0, 0, 0.15);\n",
              "      filter: drop-shadow(0px 1px 2px rgba(0, 0, 0, 0.3));\n",
              "      fill: #FFFFFF;\n",
              "    }\n",
              "  </style>\n",
              "\n",
              "      <script>\n",
              "        const buttonEl =\n",
              "          document.querySelector('#df-98835e6d-facd-47cb-bc20-effb59666d07 button.colab-df-convert');\n",
              "        buttonEl.style.display =\n",
              "          google.colab.kernel.accessAllowed ? 'block' : 'none';\n",
              "\n",
              "        async function convertToInteractive(key) {\n",
              "          const element = document.querySelector('#df-98835e6d-facd-47cb-bc20-effb59666d07');\n",
              "          const dataTable =\n",
              "            await google.colab.kernel.invokeFunction('convertToInteractive',\n",
              "                                                     [key], {});\n",
              "          if (!dataTable) return;\n",
              "\n",
              "          const docLinkHtml = 'Like what you see? Visit the ' +\n",
              "            '<a target=\"_blank\" href=https://colab.research.google.com/notebooks/data_table.ipynb>data table notebook</a>'\n",
              "            + ' to learn more about interactive tables.';\n",
              "          element.innerHTML = '';\n",
              "          dataTable['output_type'] = 'display_data';\n",
              "          await google.colab.output.renderOutput(dataTable, element);\n",
              "          const docLink = document.createElement('div');\n",
              "          docLink.innerHTML = docLinkHtml;\n",
              "          element.appendChild(docLink);\n",
              "        }\n",
              "      </script>\n",
              "    </div>\n",
              "  </div>\n",
              "  "
            ]
          },
          "metadata": {},
          "execution_count": 10
        }
      ]
    },
    {
      "cell_type": "code",
      "metadata": {
        "id": "KA4N8tCD4fyk",
        "colab": {
          "base_uri": "https://localhost:8080/",
          "height": 559
        },
        "outputId": "96c5e03c-51be-47dd-e334-f08e7e86e86a"
      },
      "source": [
        "# some eda\n",
        "df.plot.scatter(x='tmpf', y='dwpf')\n",
        "df.plot.scatter(x='alti', y='mslp')"
      ],
      "execution_count": null,
      "outputs": [
        {
          "output_type": "execute_result",
          "data": {
            "text/plain": [
              "<matplotlib.axes._subplots.AxesSubplot at 0x7f6458b2b8d0>"
            ]
          },
          "metadata": {},
          "execution_count": 11
        },
        {
          "output_type": "display_data",
          "data": {
            "text/plain": [
              "<Figure size 432x288 with 1 Axes>"
            ],
            "image/png": "[encoded data removed]"
          },
          "metadata": {
            "needs_background": "light"
          }
        },
        {
          "output_type": "display_data",
          "data": {
            "text/plain": [
              "<Figure size 432x288 with 1 Axes>"
            ],
            "image/png": "[encoded data removed]"
          },
          "metadata": {
            "needs_background": "light"
          }
        }
      ]
    },
    {
      "cell_type": "code",
      "metadata": {
        "id": "7rIIsJzMkxZF"
      },
      "source": [
        "# to get our other code to run, we will put Y\n",
        "# on the end then re-run our code (needs updating from blog)\n",
        "\n",
        "# prep data for modeling (multivariate)\n",
        "# link: https://machinelearningmastery.com/how-to-develop-lstm-models-for-time-series-forecasting/\n",
        "\n",
        "from numpy import array\n",
        "\n",
        "# split a multivariate sequence into samples\n",
        "def split_sequences(sequences, n_steps):\n",
        "\tX, y = list(), list()\n",
        "\tfor i in np.arange(len(sequences)): # be careful of this line!\n",
        "\t\t# find the end of this pattern\n",
        "\t\tend_ix = i + n_steps\n",
        "\t\t# check if we are beyond the dataset\n",
        "\t\tif end_ix > len(sequences):\n",
        "\t\t\tbreak\n",
        "\t\t# gather input and output parts of the pattern\n",
        "    # X and Y have been UPDATED so the last two columns drop off\n",
        "\t\t# USERS NEED TO UPDATE THIS FOR THEIR OWN PROBLEMS!!!\n",
        "\t\tseq_x, seq_y = sequences[i:end_ix, :-2], sequences[end_ix-1, 7:]\n",
        "\t\tX.append(seq_x)\n",
        "\t\ty.append(seq_y)\n",
        "\treturn np.array(X), np.array(y)"
      ],
      "execution_count": null,
      "outputs": []
    },
    {
      "cell_type": "markdown",
      "metadata": {
        "id": "T2jfDvRPkGJJ"
      },
      "source": [
        "# Prepare Samples for Modeling\n",
        "Everything needs to be in 3D arrays."
      ]
    },
    {
      "cell_type": "code",
      "metadata": {
        "id": "pTYftzn4kXUf"
      },
      "source": [
        "# let's turn X into lookbacks of 10 with all of our samples\n",
        "# all we need to do is decide on is n_steps (what our lookback period is)\n",
        "# since we have a bunch of data, why not n_steps=10? then try 30 later on.\n",
        "n_steps = 10\n",
        "raw_seq = np.array(df) #make sure your data is stored as a numpy array!\n",
        "# let's ignore the date column and just use the temperature data\n",
        "X, y = split_sequences(raw_seq, n_steps=10)"
      ],
      "execution_count": null,
      "outputs": []
    },
    {
      "cell_type": "code",
      "metadata": {
        "id": "wOdmLgEqlb0i",
        "colab": {
          "base_uri": "https://localhost:8080/"
        },
        "outputId": "715e7409-9771-4a8a-d89c-e00acfc06a07"
      },
      "source": [
        "# check your work\n",
        "print(df.shape, X.shape, y.shape)"
      ],
      "execution_count": null,
      "outputs": [
        {
          "output_type": "stream",
          "name": "stdout",
          "text": [
            "(46272, 9) (46263, 10, 7) (46263, 2)\n"
          ]
        }
      ]
    },
    {
      "cell_type": "code",
      "metadata": {
        "id": "NKVqx41_lnH2",
        "colab": {
          "base_uri": "https://localhost:8080/"
        },
        "outputId": "80216465-97b0-4303-e71e-017daa651288"
      },
      "source": [
        "# here's the first X\n",
        "X[0]"
      ],
      "execution_count": null,
      "outputs": [
        {
          "output_type": "execute_result",
          "data": {
            "text/plain": [
              "array([[ 17.96,  59.1 , 190.  ,   5.  ,   0.  ,  30.09,  10.  ],\n",
              "       [ 19.94,  59.4 , 190.  ,   5.  ,   0.  ,  30.08,  10.  ],\n",
              "       [ 23.  ,  49.69, 210.  ,   9.  ,   0.  ,  30.06,  10.  ],\n",
              "       [ 21.92,  47.52, 230.  ,  11.  ,   0.  ,  30.04,  10.  ],\n",
              "       [ 23.  ,  43.21, 250.  ,  13.  ,   0.  ,  30.05,  10.  ],\n",
              "       [ 23.  ,  43.21, 250.  ,  11.  ,   0.  ,  30.06,  10.  ],\n",
              "       [ 23.  ,  41.45, 240.  ,  13.  ,   0.  ,  30.07,  10.  ],\n",
              "       [ 24.08,  41.3 , 240.  ,  11.  ,   0.  ,  30.08,  10.  ],\n",
              "       [ 26.06,  38.03, 210.  ,   8.  ,   0.  ,  30.08,  10.  ],\n",
              "       [ 28.04,  35.05, 220.  ,  14.  ,   0.  ,  30.08,  10.  ]])"
            ]
          },
          "metadata": {},
          "execution_count": 15
        }
      ]
    },
    {
      "cell_type": "code",
      "metadata": {
        "id": "ElbzqDKHlsqR",
        "colab": {
          "base_uri": "https://localhost:8080/"
        },
        "outputId": "d066c3ff-2595-4a58-b312-9447a84ab0ae"
      },
      "source": [
        "# here's the first Y\n",
        "y[0]\n",
        "\n",
        "# go scroll up and make sure this matches!\n",
        "# and it does!\n",
        "\n",
        "# you will need to customize your split script when\n",
        "# prepping your data... be careful! take control of your data!"
      ],
      "execution_count": null,
      "outputs": [
        {
          "output_type": "execute_result",
          "data": {
            "text/plain": [
              "array([   3.92, 1018.8 ])"
            ]
          },
          "metadata": {},
          "execution_count": 16
        }
      ]
    },
    {
      "cell_type": "code",
      "metadata": {
        "id": "kx55ew-mUuzK",
        "colab": {
          "base_uri": "https://localhost:8080/",
          "height": 520
        },
        "outputId": "5688a3a5-ece5-4648-e06c-1a159456d823"
      },
      "source": [
        "df.head(n=15)"
      ],
      "execution_count": null,
      "outputs": [
        {
          "output_type": "execute_result",
          "data": {
            "text/plain": [
              "     tmpf   relh   drct  sknt  p01i   alti  vsby  dwpf    mslp\n",
              "0   17.96  59.10  190.0   5.0   0.0  30.09  10.0  6.08  1019.0\n",
              "1   19.94  59.40  190.0   5.0   0.0  30.08  10.0  8.06  1018.7\n",
              "2   23.00  49.69  210.0   9.0   0.0  30.06  10.0  6.98  1018.1\n",
              "3   21.92  47.52  230.0  11.0   0.0  30.04  10.0  5.00  1017.4\n",
              "4   23.00  43.21  250.0  13.0   0.0  30.05  10.0  3.92  1017.7\n",
              "5   23.00  43.21  250.0  11.0   0.0  30.06  10.0  3.92  1018.1\n",
              "6   23.00  41.45  240.0  13.0   0.0  30.07  10.0  3.02  1018.4\n",
              "7   24.08  41.30  240.0  11.0   0.0  30.08  10.0  3.92  1018.9\n",
              "8   26.06  38.03  210.0   8.0   0.0  30.08  10.0  3.92  1018.9\n",
              "9   28.04  35.05  220.0  14.0   0.0  30.08  10.0  3.92  1018.8\n",
              "10  30.02  33.97  210.0  10.0   0.0  30.07  10.0  5.00  1018.4\n",
              "11  32.00  32.93  240.0  13.0   0.0  30.03  10.0  6.08  1017.2\n",
              "12  33.08  31.53  220.0  15.0   0.0  29.99  10.0  6.08  1015.7\n",
              "13  33.98  31.69  220.0  15.0   0.0  29.94  10.0  6.98  1014.2\n",
              "14  33.08  31.53  220.0  12.0   0.0  29.93  10.0  6.08  1013.7"
            ],
            "text/html": [
              "\n",
              "  <div id=\"df-a51a23a8-03d0-4b69-ae57-d0a709d9073f\">\n",
              "    <div class=\"colab-df-container\">\n",
              "      <div>\n",
              "<style scoped>\n",
              "    .dataframe tbody tr th:only-of-type {\n",
              "        vertical-align: middle;\n",
              "    }\n",
              "\n",
              "    .dataframe tbody tr th {\n",
              "        vertical-align: top;\n",
              "    }\n",
              "\n",
              "    .dataframe thead th {\n",
              "        text-align: right;\n",
              "    }\n",
              "</style>\n",
              "<table border=\"1\" class=\"dataframe\">\n",
              "  <thead>\n",
              "    <tr style=\"text-align: right;\">\n",
              "      <th></th>\n",
              "      <th>tmpf</th>\n",
              "      <th>relh</th>\n",
              "      <th>drct</th>\n",
              "      <th>sknt</th>\n",
              "      <th>p01i</th>\n",
              "      <th>alti</th>\n",
              "      <th>vsby</th>\n",
              "      <th>dwpf</th>\n",
              "      <th>mslp</th>\n",
              "    </tr>\n",
              "  </thead>\n",
              "  <tbody>\n",
              "    <tr>\n",
              "      <th>0</th>\n",
              "      <td>17.96</td>\n",
              "      <td>59.10</td>\n",
              "      <td>190.0</td>\n",
              "      <td>5.0</td>\n",
              "      <td>0.0</td>\n",
              "      <td>30.09</td>\n",
              "      <td>10.0</td>\n",
              "      <td>6.08</td>\n",
              "      <td>1019.0</td>\n",
              "    </tr>\n",
              "    <tr>\n",
              "      <th>1</th>\n",
              "      <td>19.94</td>\n",
              "      <td>59.40</td>\n",
              "      <td>190.0</td>\n",
              "      <td>5.0</td>\n",
              "      <td>0.0</td>\n",
              "      <td>30.08</td>\n",
              "      <td>10.0</td>\n",
              "      <td>8.06</td>\n",
              "      <td>1018.7</td>\n",
              "    </tr>\n",
              "    <tr>\n",
              "      <th>2</th>\n",
              "      <td>23.00</td>\n",
              "      <td>49.69</td>\n",
              "      <td>210.0</td>\n",
              "      <td>9.0</td>\n",
              "      <td>0.0</td>\n",
              "      <td>30.06</td>\n",
              "      <td>10.0</td>\n",
              "      <td>6.98</td>\n",
              "      <td>1018.1</td>\n",
              "    </tr>\n",
              "    <tr>\n",
              "      <th>3</th>\n",
              "      <td>21.92</td>\n",
              "      <td>47.52</td>\n",
              "      <td>230.0</td>\n",
              "      <td>11.0</td>\n",
              "      <td>0.0</td>\n",
              "      <td>30.04</td>\n",
              "      <td>10.0</td>\n",
              "      <td>5.00</td>\n",
              "      <td>1017.4</td>\n",
              "    </tr>\n",
              "    <tr>\n",
              "      <th>4</th>\n",
              "      <td>23.00</td>\n",
              "      <td>43.21</td>\n",
              "      <td>250.0</td>\n",
              "      <td>13.0</td>\n",
              "      <td>0.0</td>\n",
              "      <td>30.05</td>\n",
              "      <td>10.0</td>\n",
              "      <td>3.92</td>\n",
              "      <td>1017.7</td>\n",
              "    </tr>\n",
              "    <tr>\n",
              "      <th>5</th>\n",
              "      <td>23.00</td>\n",
              "      <td>43.21</td>\n",
              "      <td>250.0</td>\n",
              "      <td>11.0</td>\n",
              "      <td>0.0</td>\n",
              "      <td>30.06</td>\n",
              "      <td>10.0</td>\n",
              "      <td>3.92</td>\n",
              "      <td>1018.1</td>\n",
              "    </tr>\n",
              "    <tr>\n",
              "      <th>6</th>\n",
              "      <td>23.00</td>\n",
              "      <td>41.45</td>\n",
              "      <td>240.0</td>\n",
              "      <td>13.0</td>\n",
              "      <td>0.0</td>\n",
              "      <td>30.07</td>\n",
              "      <td>10.0</td>\n",
              "      <td>3.02</td>\n",
              "      <td>1018.4</td>\n",
              "    </tr>\n",
              "    <tr>\n",
              "      <th>7</th>\n",
              "      <td>24.08</td>\n",
              "      <td>41.30</td>\n",
              "      <td>240.0</td>\n",
              "      <td>11.0</td>\n",
              "      <td>0.0</td>\n",
              "      <td>30.08</td>\n",
              "      <td>10.0</td>\n",
              "      <td>3.92</td>\n",
              "      <td>1018.9</td>\n",
              "    </tr>\n",
              "    <tr>\n",
              "      <th>8</th>\n",
              "      <td>26.06</td>\n",
              "      <td>38.03</td>\n",
              "      <td>210.0</td>\n",
              "      <td>8.0</td>\n",
              "      <td>0.0</td>\n",
              "      <td>30.08</td>\n",
              "      <td>10.0</td>\n",
              "      <td>3.92</td>\n",
              "      <td>1018.9</td>\n",
              "    </tr>\n",
              "    <tr>\n",
              "      <th>9</th>\n",
              "      <td>28.04</td>\n",
              "      <td>35.05</td>\n",
              "      <td>220.0</td>\n",
              "      <td>14.0</td>\n",
              "      <td>0.0</td>\n",
              "      <td>30.08</td>\n",
              "      <td>10.0</td>\n",
              "      <td>3.92</td>\n",
              "      <td>1018.8</td>\n",
              "    </tr>\n",
              "    <tr>\n",
              "      <th>10</th>\n",
              "      <td>30.02</td>\n",
              "      <td>33.97</td>\n",
              "      <td>210.0</td>\n",
              "      <td>10.0</td>\n",
              "      <td>0.0</td>\n",
              "      <td>30.07</td>\n",
              "      <td>10.0</td>\n",
              "      <td>5.00</td>\n",
              "      <td>1018.4</td>\n",
              "    </tr>\n",
              "    <tr>\n",
              "      <th>11</th>\n",
              "      <td>32.00</td>\n",
              "      <td>32.93</td>\n",
              "      <td>240.0</td>\n",
              "      <td>13.0</td>\n",
              "      <td>0.0</td>\n",
              "      <td>30.03</td>\n",
              "      <td>10.0</td>\n",
              "      <td>6.08</td>\n",
              "      <td>1017.2</td>\n",
              "    </tr>\n",
              "    <tr>\n",
              "      <th>12</th>\n",
              "      <td>33.08</td>\n",
              "      <td>31.53</td>\n",
              "      <td>220.0</td>\n",
              "      <td>15.0</td>\n",
              "      <td>0.0</td>\n",
              "      <td>29.99</td>\n",
              "      <td>10.0</td>\n",
              "      <td>6.08</td>\n",
              "      <td>1015.7</td>\n",
              "    </tr>\n",
              "    <tr>\n",
              "      <th>13</th>\n",
              "      <td>33.98</td>\n",
              "      <td>31.69</td>\n",
              "      <td>220.0</td>\n",
              "      <td>15.0</td>\n",
              "      <td>0.0</td>\n",
              "      <td>29.94</td>\n",
              "      <td>10.0</td>\n",
              "      <td>6.98</td>\n",
              "      <td>1014.2</td>\n",
              "    </tr>\n",
              "    <tr>\n",
              "      <th>14</th>\n",
              "      <td>33.08</td>\n",
              "      <td>31.53</td>\n",
              "      <td>220.0</td>\n",
              "      <td>12.0</td>\n",
              "      <td>0.0</td>\n",
              "      <td>29.93</td>\n",
              "      <td>10.0</td>\n",
              "      <td>6.08</td>\n",
              "      <td>1013.7</td>\n",
              "    </tr>\n",
              "  </tbody>\n",
              "</table>\n",
              "</div>\n",
              "      <button class=\"colab-df-convert\" onclick=\"convertToInteractive('df-a51a23a8-03d0-4b69-ae57-d0a709d9073f')\"\n",
              "              title=\"Convert this dataframe to an interactive table.\"\n",
              "              style=\"display:none;\">\n",
              "        \n",
              "  <svg xmlns=\"http://www.w3.org/2000/svg\" height=\"24px\"viewBox=\"0 0 24 24\"\n",
              "       width=\"24px\">\n",
              "    <path d=\"M0 0h24v24H0V0z\" fill=\"none\"/>\n",
              "    <path d=\"M18.56 5.44l.94 2.06.94-2.06 2.06-.94-2.06-.94-.94-2.06-.94 2.06-2.06.94zm-11 1L8.5 8.5l.94-2.06 2.06-.94-2.06-.94L8.5 2.5l-.94 2.06-2.06.94zm10 10l.94 2.06.94-2.06 2.06-.94-2.06-.94-.94-2.06-.94 2.06-2.06.94z\"/><path d=\"M17.41 7.96l-1.37-1.37c-.4-.4-.92-.59-1.43-.59-.52 0-1.04.2-1.43.59L10.3 9.45l-7.72 7.72c-.78.78-.78 2.05 0 2.83L4 21.41c.39.39.9.59 1.41.59.51 0 1.02-.2 1.41-.59l7.78-7.78 2.81-2.81c.8-.78.8-2.07 0-2.86zM5.41 20L4 18.59l7.72-7.72 1.47 1.35L5.41 20z\"/>\n",
              "  </svg>\n",
              "      </button>\n",
              "      \n",
              "  <style>\n",
              "    .colab-df-container {\n",
              "      display:flex;\n",
              "      flex-wrap:wrap;\n",
              "      gap: 12px;\n",
              "    }\n",
              "\n",
              "    .colab-df-convert {\n",
              "      background-color: #E8F0FE;\n",
              "      border: none;\n",
              "      border-radius: 50%;\n",
              "      cursor: pointer;\n",
              "      display: none;\n",
              "      fill: #1967D2;\n",
              "      height: 32px;\n",
              "      padding: 0 0 0 0;\n",
              "      width: 32px;\n",
              "    }\n",
              "\n",
              "    .colab-df-convert:hover {\n",
              "      background-color: #E2EBFA;\n",
              "      box-shadow: 0px 1px 2px rgba(60, 64, 67, 0.3), 0px 1px 3px 1px rgba(60, 64, 67, 0.15);\n",
              "      fill: #174EA6;\n",
              "    }\n",
              "\n",
              "    [theme=dark] .colab-df-convert {\n",
              "      background-color: #3B4455;\n",
              "      fill: #D2E3FC;\n",
              "    }\n",
              "\n",
              "    [theme=dark] .colab-df-convert:hover {\n",
              "      background-color: #434B5C;\n",
              "      box-shadow: 0px 1px 3px 1px rgba(0, 0, 0, 0.15);\n",
              "      filter: drop-shadow(0px 1px 2px rgba(0, 0, 0, 0.3));\n",
              "      fill: #FFFFFF;\n",
              "    }\n",
              "  </style>\n",
              "\n",
              "      <script>\n",
              "        const buttonEl =\n",
              "          document.querySelector('#df-a51a23a8-03d0-4b69-ae57-d0a709d9073f button.colab-df-convert');\n",
              "        buttonEl.style.display =\n",
              "          google.colab.kernel.accessAllowed ? 'block' : 'none';\n",
              "\n",
              "        async function convertToInteractive(key) {\n",
              "          const element = document.querySelector('#df-a51a23a8-03d0-4b69-ae57-d0a709d9073f');\n",
              "          const dataTable =\n",
              "            await google.colab.kernel.invokeFunction('convertToInteractive',\n",
              "                                                     [key], {});\n",
              "          if (!dataTable) return;\n",
              "\n",
              "          const docLinkHtml = 'Like what you see? Visit the ' +\n",
              "            '<a target=\"_blank\" href=https://colab.research.google.com/notebooks/data_table.ipynb>data table notebook</a>'\n",
              "            + ' to learn more about interactive tables.';\n",
              "          element.innerHTML = '';\n",
              "          dataTable['output_type'] = 'display_data';\n",
              "          await google.colab.output.renderOutput(dataTable, element);\n",
              "          const docLink = document.createElement('div');\n",
              "          docLink.innerHTML = docLinkHtml;\n",
              "          element.appendChild(docLink);\n",
              "        }\n",
              "      </script>\n",
              "    </div>\n",
              "  </div>\n",
              "  "
            ]
          },
          "metadata": {},
          "execution_count": 17
        }
      ]
    },
    {
      "cell_type": "markdown",
      "metadata": {
        "id": "BBdpcbZtkBLs"
      },
      "source": [
        "# Fit a Model\n",
        "This will be similar to the last example in 'Sequence Problems_Pt1.ipynb'"
      ]
    },
    {
      "cell_type": "code",
      "metadata": {
        "id": "m706W18wml1J",
        "colab": {
          "base_uri": "https://localhost:8080/"
        },
        "outputId": "ec11e4f9-ebee-44bb-dc6a-24606fe8c20a"
      },
      "source": [
        "# note how there's a 2 at the end\n",
        "# usually we did this for a multi-classification problem, but not today!\n",
        "# by default, it's a 'linear' activiation function\n",
        "# so this is 2 node output and we're doing regression.\n",
        "\n",
        "n_steps = X.shape[1]\n",
        "n_features = X.shape[2]\n",
        "\n",
        "model = Sequential()\n",
        "model.add(LSTM(50, activation='relu',\n",
        "               recurrent_dropout = 0.1,\n",
        "               input_shape=(n_steps, n_features)))\n",
        "model.add(Dropout(0.2))\n",
        "model.add(Dense(2)) # since Y has two values, we need to predict two values\n",
        "model.compile(optimizer='adam', loss='mse')\n",
        "\n",
        "import keras\n",
        "from keras.callbacks import EarlyStopping\n",
        "\n",
        "# early stopping callback\n",
        "# This callback will stop the training when there is no improvement in\n",
        "# the validation loss for 10 consecutive epochs.\n",
        "es = keras.callbacks.EarlyStopping(monitor='val_loss',\n",
        "                                   mode='min',\n",
        "                                   patience=10, # you can play with this!\n",
        "                                   restore_best_weights=True) # important - otherwise you just return the last weigths...\n",
        "\n",
        "# now we just update our model fit call\n",
        "history = model.fit(X,\n",
        "                    y,\n",
        "                    callbacks=[es],\n",
        "                    epochs=800, # you can set this to a big number!\n",
        "                    batch_size=10,\n",
        "                    validation_split=0.2,\n",
        "                    verbose=1)"
      ],
      "execution_count": null,
      "outputs": [
        {
          "output_type": "stream",
          "name": "stdout",
          "text": [
            "Epoch 1/800\n",
            "3701/3701 [==============================] - 39s 10ms/step - loss: 19479.1992 - val_loss: 4197.8794\n",
            "Epoch 2/800\n",
            "3701/3701 [==============================] - 39s 10ms/step - loss: 7631.1597 - val_loss: 310.6028\n",
            "Epoch 3/800\n",
            "3701/3701 [==============================] - 42s 11ms/step - loss: 7279.7510 - val_loss: 495.4328\n",
            "Epoch 4/800\n",
            "3701/3701 [==============================] - 36s 10ms/step - loss: 7066.7051 - val_loss: 1348.7335\n",
            "Epoch 5/800\n",
            "3701/3701 [==============================] - 36s 10ms/step - loss: 6942.7192 - val_loss: 820.7538\n",
            "Epoch 6/800\n",
            "3701/3701 [==============================] - 36s 10ms/step - loss: 6905.9194 - val_loss: 2463.5769\n",
            "Epoch 7/800\n",
            "3701/3701 [==============================] - 37s 10ms/step - loss: 6727.7456 - val_loss: 220.6017\n",
            "Epoch 8/800\n",
            "3701/3701 [==============================] - 34s 9ms/step - loss: 6745.4302 - val_loss: 2268.9434\n",
            "Epoch 9/800\n",
            "3701/3701 [==============================] - 34s 9ms/step - loss: 6588.1372 - val_loss: 1489.9812\n",
            "Epoch 10/800\n",
            "3701/3701 [==============================] - 34s 9ms/step - loss: 6572.6128 - val_loss: 1079.6487\n",
            "Epoch 11/800\n",
            "3701/3701 [==============================] - 36s 10ms/step - loss: 6479.9097 - val_loss: 546.9421\n",
            "Epoch 12/800\n",
            "3701/3701 [==============================] - 36s 10ms/step - loss: 6236.1709 - val_loss: 1739.1848\n",
            "Epoch 13/800\n",
            "3701/3701 [==============================] - 36s 10ms/step - loss: 6431.7764 - val_loss: 457.9991\n",
            "Epoch 14/800\n",
            "3701/3701 [==============================] - 41s 11ms/step - loss: 6726.3877 - val_loss: 103.9410\n",
            "Epoch 15/800\n",
            "3701/3701 [==============================] - 41s 11ms/step - loss: 6632.3257 - val_loss: 467.7972\n",
            "Epoch 16/800\n",
            "3701/3701 [==============================] - 37s 10ms/step - loss: 6440.5591 - val_loss: 368.1082\n",
            "Epoch 17/800\n",
            "3701/3701 [==============================] - 38s 10ms/step - loss: 6279.4736 - val_loss: 2488.2336\n",
            "Epoch 18/800\n",
            "3701/3701 [==============================] - 37s 10ms/step - loss: 6452.7778 - val_loss: 1439.2523\n",
            "Epoch 19/800\n",
            "3701/3701 [==============================] - 37s 10ms/step - loss: 6555.7881 - val_loss: 1041.7686\n",
            "Epoch 20/800\n",
            "3701/3701 [==============================] - 36s 10ms/step - loss: 6530.2627 - val_loss: 246.4089\n",
            "Epoch 21/800\n",
            "3701/3701 [==============================] - 36s 10ms/step - loss: 6395.5078 - val_loss: 1005.9031\n",
            "Epoch 22/800\n",
            "3701/3701 [==============================] - 34s 9ms/step - loss: 6208.5767 - val_loss: 191.9357\n",
            "Epoch 23/800\n",
            "3701/3701 [==============================] - 35s 9ms/step - loss: 6182.5317 - val_loss: 107.8675\n",
            "Epoch 24/800\n",
            "3701/3701 [==============================] - 34s 9ms/step - loss: 6279.2500 - val_loss: 186.0783\n"
          ]
        }
      ]
    },
    {
      "cell_type": "code",
      "metadata": {
        "id": "xae0zjUBngB7",
        "colab": {
          "base_uri": "https://localhost:8080/"
        },
        "outputId": "cdff5c05-6575-4b84-c931-d2240393abe4"
      },
      "source": [
        "# and you can show how your model did\n",
        "\n",
        "# since it's a single sample, we need to reshape\n",
        "data = X[0]\n",
        "data = data.reshape(1,10,7)\n",
        "print(data)\n",
        "print(model.predict(data))\n",
        "\n",
        "# did we get close?\n",
        "print(y[0])\n",
        "# of course you can show scatterplots and everything else"
      ],
      "execution_count": null,
      "outputs": [
        {
          "output_type": "stream",
          "name": "stdout",
          "text": [
            "[[[ 17.96  59.1  190.     5.     0.    30.09  10.  ]\n",
            "  [ 19.94  59.4  190.     5.     0.    30.08  10.  ]\n",
            "  [ 23.    49.69 210.     9.     0.    30.06  10.  ]\n",
            "  [ 21.92  47.52 230.    11.     0.    30.04  10.  ]\n",
            "  [ 23.    43.21 250.    13.     0.    30.05  10.  ]\n",
            "  [ 23.    43.21 250.    11.     0.    30.06  10.  ]\n",
            "  [ 23.    41.45 240.    13.     0.    30.07  10.  ]\n",
            "  [ 24.08  41.3  240.    11.     0.    30.08  10.  ]\n",
            "  [ 26.06  38.03 210.     8.     0.    30.08  10.  ]\n",
            "  [ 28.04  35.05 220.    14.     0.    30.08  10.  ]]]\n",
            "1/1 [==============================] - 0s 310ms/step\n",
            "[[  26.881792 1015.07874 ]]\n",
            "[   3.92 1018.8 ]\n"
          ]
        }
      ]
    },
    {
      "cell_type": "code",
      "metadata": {
        "id": "vYo3diPQMW9_",
        "colab": {
          "base_uri": "https://localhost:8080/"
        },
        "outputId": "0ec5b81c-866d-4753-cdfe-1a457f2d390a"
      },
      "source": [
        "# well done! You can also make scatterplots of actual vs. predicted\n",
        "pred = model.predict(X)\n",
        "pred"
      ],
      "execution_count": null,
      "outputs": [
        {
          "output_type": "stream",
          "name": "stdout",
          "text": [
            "1446/1446 [==============================] - 5s 3ms/step\n"
          ]
        },
        {
          "output_type": "execute_result",
          "data": {
            "text/plain": [
              "array([[  26.88179 , 1015.0787  ],\n",
              "       [  27.071068, 1015.8112  ],\n",
              "       [  27.471872, 1018.0251  ],\n",
              "       ...,\n",
              "       [  35.16939 , 1008.7328  ],\n",
              "       [  34.990215, 1007.3141  ],\n",
              "       [  35.40531 , 1009.2861  ]], dtype=float32)"
            ]
          },
          "metadata": {},
          "execution_count": 20
        }
      ]
    },
    {
      "cell_type": "code",
      "metadata": {
        "id": "GydQkK97Oo4U",
        "colab": {
          "base_uri": "https://localhost:8080/",
          "height": 265
        },
        "outputId": "96f46faf-bddf-4aac-c4d7-dbf1349da9a8"
      },
      "source": [
        "# pred1\n",
        "plt.scatter(y[:,0], pred[:,0])\n",
        "plt.show()"
      ],
      "execution_count": null,
      "outputs": [
        {
          "output_type": "display_data",
          "data": {
            "text/plain": [
              "<Figure size 432x288 with 1 Axes>"
            ],
            "image/png": "[encoded data removed]"
          },
          "metadata": {
            "needs_background": "light"
          }
        }
      ]
    },
    {
      "cell_type": "code",
      "metadata": {
        "id": "Y0qnA047TrBs",
        "colab": {
          "base_uri": "https://localhost:8080/",
          "height": 265
        },
        "outputId": "c7ccb593-adeb-4fa4-c343-445f17e43d86"
      },
      "source": [
        "# pred2\n",
        "plt.scatter(y[:,1], pred[:,1])\n",
        "plt.show()"
      ],
      "execution_count": null,
      "outputs": [
        {
          "output_type": "display_data",
          "data": {
            "text/plain": [
              "<Figure size 432x288 with 1 Axes>"
            ],
            "image/png": "[encoded data removed]"
          },
          "metadata": {
            "needs_background": "light"
          }
        }
      ]
    },
    {
      "cell_type": "code",
      "metadata": {
        "id": "2l5wN5AIetV0"
      },
      "source": [
        "# it worked! predict two outputs at once -\n",
        "# may have taken longer to fit,\n",
        "# but it worked great!\n",
        "\n",
        "# you may also try other architectures\n",
        "# and advanced methods (Conv1D and MaxPooling1D etc)"
      ],
      "execution_count": null,
      "outputs": []
    }
  ]
}