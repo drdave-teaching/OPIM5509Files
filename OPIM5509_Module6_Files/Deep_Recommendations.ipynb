{
  "nbformat": 4,
  "nbformat_minor": 0,
  "metadata": {
    "colab": {
      "provenance": [],
      "toc_visible": true
    },
    "kernelspec": {
      "name": "python3",
      "display_name": "Python 3"
    }
  },
  "cells": [
    {
      "cell_type": "markdown",
      "source": [
        "[![Open In Colab](https://colab.research.google.com/assets/colab-badge.svg)](https://colab.research.google.com/github/drdave-teaching/OPIM5509Files/blob/main/OPIM5509_Module6_Files/Deep_Recommendations.ipynb)"
      ],
      "metadata": {
        "id": "hlBKV7MLAhet"
      }
    },
    {
      "cell_type": "markdown",
      "metadata": {
        "id": "63gx2h_xUCbg"
      },
      "source": [
        "# Deep Recommendations\n",
        "-----------------------------------------\n",
        "**OPIM 5509: Introduction to Deep Learning - University of Connecticut**\n",
        "\n",
        "This material is largely based off [this excellent blog](https://medium.com/@jdwittenauer/deep-learning-with-keras-recommender-systems-e7b99cb29929) post (which I think is a step above the [Keras documentation for collaborative filtering](https://keras.io/examples/structured_data/collaborative_filtering_movielens/)). Think about how you can extend these methodologies to other things besides movie reviews... like trying predict student success in their major degree programs!\n",
        "\n",
        "This script will make use of the Functional() API instead of the Sequential() API from Keras. You will be able to follow along easily enough - [read here](https://hanifi.medium.com/sequential-api-vs-functional-api-model-in-keras-266823d7cd5e) for more comparisons."
      ]
    },
    {
      "cell_type": "markdown",
      "metadata": {
        "id": "aXTW9jiWVq0L"
      },
      "source": [
        "# Import Modules"
      ]
    },
    {
      "cell_type": "code",
      "metadata": {
        "id": "Hg3X2Ph0UARg"
      },
      "source": [
        "import numpy as np\n",
        "import pandas as pd\n",
        "import matplotlib.pyplot as plt\n",
        "\n",
        "from sklearn.model_selection import train_test_split\n",
        "from sklearn.preprocessing import LabelEncoder"
      ],
      "execution_count": 1,
      "outputs": []
    },
    {
      "cell_type": "markdown",
      "metadata": {
        "id": "8yxOLncxXuVm"
      },
      "source": [
        "# Read Data and Basic EDA\n",
        "Whenever you get a dataset for the first time, make sure you take a minute and try to get understand the inner workings. Here, you will use the movie ratings dataset where you have a column for:\n",
        "* userID (unique key to identify each person)\n",
        "* movieID (unique key to indentify each movie)\n",
        "* rating (the score the user gave to the movie)\n",
        "* timestamp (when they watched the movie)"
      ]
    },
    {
      "cell_type": "markdown",
      "metadata": {
        "id": "pAmKQQ4lVvrx"
      },
      "source": [
        "We will use Gdown to get the file. You can download the full .zip file locally and unzip it to your Drive if you wish. [Here is the source](http://files.grouplens.org/datasets/movielens/ml-latest-small.zip)."
      ]
    },
    {
      "cell_type": "code",
      "metadata": {
        "colab": {
          "base_uri": "https://localhost:8080/"
        },
        "id": "lF76ad-oWEV1",
        "outputId": "1fbb71c3-8df2-44c0-f123-e8af9535d8ca"
      },
      "source": [
        "# # https://drive.google.com/file/d/1awQcb13uqlXNywGbzNG9jK7cYwkPbYfr/view?usp=sharing\n",
        "# !gdown --id 1awQcb13uqlXNywGbzNG9jK7cYwkPbYfr"
      ],
      "execution_count": null,
      "outputs": [
        {
          "output_type": "stream",
          "text": [
            "Downloading...\n",
            "From: https://drive.google.com/uc?id=1awQcb13uqlXNywGbzNG9jK7cYwkPbYfr\n",
            "To: /content/ratings.csv\n",
            "\r0.00B [00:00, ?B/s]\r2.48MB [00:00, 75.1MB/s]\n"
          ],
          "name": "stdout"
        }
      ]
    },
    {
      "cell_type": "code",
      "source": [
        "# Link to the data file on Github\n",
        "url = \"https://raw.githubusercontent.com/drdave-teaching/OPIM5509Files/refs/heads/main/OPIM5509_Module6_Files/ratings.csv\"\n",
        "\n",
        "# retrieve the data and build a dataframe\n",
        "ratings = pd.read_csv(url)\n",
        "\n",
        "ratings.shape"
      ],
      "metadata": {
        "id": "4BVL_51GDu4R",
        "colab": {
          "base_uri": "https://localhost:8080/"
        },
        "outputId": "c5d75007-712d-401d-824d-67e864805811"
      },
      "execution_count": 4,
      "outputs": [
        {
          "output_type": "execute_result",
          "data": {
            "text/plain": [
              "(100836, 4)"
            ]
          },
          "metadata": {},
          "execution_count": 4
        }
      ]
    },
    {
      "cell_type": "markdown",
      "metadata": {
        "id": "PxnEjM2CWRDT"
      },
      "source": [
        "Look left to see the file downloaded to your local workspace, then read the data."
      ]
    },
    {
      "cell_type": "code",
      "metadata": {
        "colab": {
          "base_uri": "https://localhost:8080/",
          "height": 206
        },
        "id": "1yGFqgRGVxse",
        "outputId": "3ab5fc40-45d4-45a8-beff-e3f70c617f0f"
      },
      "source": [
        "ratings.head()"
      ],
      "execution_count": 5,
      "outputs": [
        {
          "output_type": "execute_result",
          "data": {
            "text/plain": [
              "   userId  movieId  rating  timestamp\n",
              "0       1        1     4.0  964982703\n",
              "1       1        3     4.0  964981247\n",
              "2       1        6     4.0  964982224\n",
              "3       1       47     5.0  964983815\n",
              "4       1       50     5.0  964982931"
            ],
            "text/html": [
              "\n",
              "  <div id=\"df-f474cbe3-2faf-4305-b893-b14e232e181d\" class=\"colab-df-container\">\n",
              "    <div>\n",
              "<style scoped>\n",
              "    .dataframe tbody tr th:only-of-type {\n",
              "        vertical-align: middle;\n",
              "    }\n",
              "\n",
              "    .dataframe tbody tr th {\n",
              "        vertical-align: top;\n",
              "    }\n",
              "\n",
              "    .dataframe thead th {\n",
              "        text-align: right;\n",
              "    }\n",
              "</style>\n",
              "<table border=\"1\" class=\"dataframe\">\n",
              "  <thead>\n",
              "    <tr style=\"text-align: right;\">\n",
              "      <th></th>\n",
              "      <th>userId</th>\n",
              "      <th>movieId</th>\n",
              "      <th>rating</th>\n",
              "      <th>timestamp</th>\n",
              "    </tr>\n",
              "  </thead>\n",
              "  <tbody>\n",
              "    <tr>\n",
              "      <th>0</th>\n",
              "      <td>1</td>\n",
              "      <td>1</td>\n",
              "      <td>4.0</td>\n",
              "      <td>964982703</td>\n",
              "    </tr>\n",
              "    <tr>\n",
              "      <th>1</th>\n",
              "      <td>1</td>\n",
              "      <td>3</td>\n",
              "      <td>4.0</td>\n",
              "      <td>964981247</td>\n",
              "    </tr>\n",
              "    <tr>\n",
              "      <th>2</th>\n",
              "      <td>1</td>\n",
              "      <td>6</td>\n",
              "      <td>4.0</td>\n",
              "      <td>964982224</td>\n",
              "    </tr>\n",
              "    <tr>\n",
              "      <th>3</th>\n",
              "      <td>1</td>\n",
              "      <td>47</td>\n",
              "      <td>5.0</td>\n",
              "      <td>964983815</td>\n",
              "    </tr>\n",
              "    <tr>\n",
              "      <th>4</th>\n",
              "      <td>1</td>\n",
              "      <td>50</td>\n",
              "      <td>5.0</td>\n",
              "      <td>964982931</td>\n",
              "    </tr>\n",
              "  </tbody>\n",
              "</table>\n",
              "</div>\n",
              "    <div class=\"colab-df-buttons\">\n",
              "\n",
              "  <div class=\"colab-df-container\">\n",
              "    <button class=\"colab-df-convert\" onclick=\"convertToInteractive('df-f474cbe3-2faf-4305-b893-b14e232e181d')\"\n",
              "            title=\"Convert this dataframe to an interactive table.\"\n",
              "            style=\"display:none;\">\n",
              "\n",
              "  <svg xmlns=\"http://www.w3.org/2000/svg\" height=\"24px\" viewBox=\"0 -960 960 960\">\n",
              "    <path d=\"M120-120v-720h720v720H120Zm60-500h600v-160H180v160Zm220 220h160v-160H400v160Zm0 220h160v-160H400v160ZM180-400h160v-160H180v160Zm440 0h160v-160H620v160ZM180-180h160v-160H180v160Zm440 0h160v-160H620v160Z\"/>\n",
              "  </svg>\n",
              "    </button>\n",
              "\n",
              "  <style>\n",
              "    .colab-df-container {\n",
              "      display:flex;\n",
              "      gap: 12px;\n",
              "    }\n",
              "\n",
              "    .colab-df-convert {\n",
              "      background-color: #E8F0FE;\n",
              "      border: none;\n",
              "      border-radius: 50%;\n",
              "      cursor: pointer;\n",
              "      display: none;\n",
              "      fill: #1967D2;\n",
              "      height: 32px;\n",
              "      padding: 0 0 0 0;\n",
              "      width: 32px;\n",
              "    }\n",
              "\n",
              "    .colab-df-convert:hover {\n",
              "      background-color: #E2EBFA;\n",
              "      box-shadow: 0px 1px 2px rgba(60, 64, 67, 0.3), 0px 1px 3px 1px rgba(60, 64, 67, 0.15);\n",
              "      fill: #174EA6;\n",
              "    }\n",
              "\n",
              "    .colab-df-buttons div {\n",
              "      margin-bottom: 4px;\n",
              "    }\n",
              "\n",
              "    [theme=dark] .colab-df-convert {\n",
              "      background-color: #3B4455;\n",
              "      fill: #D2E3FC;\n",
              "    }\n",
              "\n",
              "    [theme=dark] .colab-df-convert:hover {\n",
              "      background-color: #434B5C;\n",
              "      box-shadow: 0px 1px 3px 1px rgba(0, 0, 0, 0.15);\n",
              "      filter: drop-shadow(0px 1px 2px rgba(0, 0, 0, 0.3));\n",
              "      fill: #FFFFFF;\n",
              "    }\n",
              "  </style>\n",
              "\n",
              "    <script>\n",
              "      const buttonEl =\n",
              "        document.querySelector('#df-f474cbe3-2faf-4305-b893-b14e232e181d button.colab-df-convert');\n",
              "      buttonEl.style.display =\n",
              "        google.colab.kernel.accessAllowed ? 'block' : 'none';\n",
              "\n",
              "      async function convertToInteractive(key) {\n",
              "        const element = document.querySelector('#df-f474cbe3-2faf-4305-b893-b14e232e181d');\n",
              "        const dataTable =\n",
              "          await google.colab.kernel.invokeFunction('convertToInteractive',\n",
              "                                                    [key], {});\n",
              "        if (!dataTable) return;\n",
              "\n",
              "        const docLinkHtml = 'Like what you see? Visit the ' +\n",
              "          '<a target=\"_blank\" href=https://colab.research.google.com/notebooks/data_table.ipynb>data table notebook</a>'\n",
              "          + ' to learn more about interactive tables.';\n",
              "        element.innerHTML = '';\n",
              "        dataTable['output_type'] = 'display_data';\n",
              "        await google.colab.output.renderOutput(dataTable, element);\n",
              "        const docLink = document.createElement('div');\n",
              "        docLink.innerHTML = docLinkHtml;\n",
              "        element.appendChild(docLink);\n",
              "      }\n",
              "    </script>\n",
              "  </div>\n",
              "\n",
              "\n",
              "    <div id=\"df-c44a77e4-caec-4f66-8e7f-e61bfbf8ebb1\">\n",
              "      <button class=\"colab-df-quickchart\" onclick=\"quickchart('df-c44a77e4-caec-4f66-8e7f-e61bfbf8ebb1')\"\n",
              "                title=\"Suggest charts\"\n",
              "                style=\"display:none;\">\n",
              "\n",
              "<svg xmlns=\"http://www.w3.org/2000/svg\" height=\"24px\"viewBox=\"0 0 24 24\"\n",
              "     width=\"24px\">\n",
              "    <g>\n",
              "        <path d=\"M19 3H5c-1.1 0-2 .9-2 2v14c0 1.1.9 2 2 2h14c1.1 0 2-.9 2-2V5c0-1.1-.9-2-2-2zM9 17H7v-7h2v7zm4 0h-2V7h2v10zm4 0h-2v-4h2v4z\"/>\n",
              "    </g>\n",
              "</svg>\n",
              "      </button>\n",
              "\n",
              "<style>\n",
              "  .colab-df-quickchart {\n",
              "      --bg-color: #E8F0FE;\n",
              "      --fill-color: #1967D2;\n",
              "      --hover-bg-color: #E2EBFA;\n",
              "      --hover-fill-color: #174EA6;\n",
              "      --disabled-fill-color: #AAA;\n",
              "      --disabled-bg-color: #DDD;\n",
              "  }\n",
              "\n",
              "  [theme=dark] .colab-df-quickchart {\n",
              "      --bg-color: #3B4455;\n",
              "      --fill-color: #D2E3FC;\n",
              "      --hover-bg-color: #434B5C;\n",
              "      --hover-fill-color: #FFFFFF;\n",
              "      --disabled-bg-color: #3B4455;\n",
              "      --disabled-fill-color: #666;\n",
              "  }\n",
              "\n",
              "  .colab-df-quickchart {\n",
              "    background-color: var(--bg-color);\n",
              "    border: none;\n",
              "    border-radius: 50%;\n",
              "    cursor: pointer;\n",
              "    display: none;\n",
              "    fill: var(--fill-color);\n",
              "    height: 32px;\n",
              "    padding: 0;\n",
              "    width: 32px;\n",
              "  }\n",
              "\n",
              "  .colab-df-quickchart:hover {\n",
              "    background-color: var(--hover-bg-color);\n",
              "    box-shadow: 0 1px 2px rgba(60, 64, 67, 0.3), 0 1px 3px 1px rgba(60, 64, 67, 0.15);\n",
              "    fill: var(--button-hover-fill-color);\n",
              "  }\n",
              "\n",
              "  .colab-df-quickchart-complete:disabled,\n",
              "  .colab-df-quickchart-complete:disabled:hover {\n",
              "    background-color: var(--disabled-bg-color);\n",
              "    fill: var(--disabled-fill-color);\n",
              "    box-shadow: none;\n",
              "  }\n",
              "\n",
              "  .colab-df-spinner {\n",
              "    border: 2px solid var(--fill-color);\n",
              "    border-color: transparent;\n",
              "    border-bottom-color: var(--fill-color);\n",
              "    animation:\n",
              "      spin 1s steps(1) infinite;\n",
              "  }\n",
              "\n",
              "  @keyframes spin {\n",
              "    0% {\n",
              "      border-color: transparent;\n",
              "      border-bottom-color: var(--fill-color);\n",
              "      border-left-color: var(--fill-color);\n",
              "    }\n",
              "    20% {\n",
              "      border-color: transparent;\n",
              "      border-left-color: var(--fill-color);\n",
              "      border-top-color: var(--fill-color);\n",
              "    }\n",
              "    30% {\n",
              "      border-color: transparent;\n",
              "      border-left-color: var(--fill-color);\n",
              "      border-top-color: var(--fill-color);\n",
              "      border-right-color: var(--fill-color);\n",
              "    }\n",
              "    40% {\n",
              "      border-color: transparent;\n",
              "      border-right-color: var(--fill-color);\n",
              "      border-top-color: var(--fill-color);\n",
              "    }\n",
              "    60% {\n",
              "      border-color: transparent;\n",
              "      border-right-color: var(--fill-color);\n",
              "    }\n",
              "    80% {\n",
              "      border-color: transparent;\n",
              "      border-right-color: var(--fill-color);\n",
              "      border-bottom-color: var(--fill-color);\n",
              "    }\n",
              "    90% {\n",
              "      border-color: transparent;\n",
              "      border-bottom-color: var(--fill-color);\n",
              "    }\n",
              "  }\n",
              "</style>\n",
              "\n",
              "      <script>\n",
              "        async function quickchart(key) {\n",
              "          const quickchartButtonEl =\n",
              "            document.querySelector('#' + key + ' button');\n",
              "          quickchartButtonEl.disabled = true;  // To prevent multiple clicks.\n",
              "          quickchartButtonEl.classList.add('colab-df-spinner');\n",
              "          try {\n",
              "            const charts = await google.colab.kernel.invokeFunction(\n",
              "                'suggestCharts', [key], {});\n",
              "          } catch (error) {\n",
              "            console.error('Error during call to suggestCharts:', error);\n",
              "          }\n",
              "          quickchartButtonEl.classList.remove('colab-df-spinner');\n",
              "          quickchartButtonEl.classList.add('colab-df-quickchart-complete');\n",
              "        }\n",
              "        (() => {\n",
              "          let quickchartButtonEl =\n",
              "            document.querySelector('#df-c44a77e4-caec-4f66-8e7f-e61bfbf8ebb1 button');\n",
              "          quickchartButtonEl.style.display =\n",
              "            google.colab.kernel.accessAllowed ? 'block' : 'none';\n",
              "        })();\n",
              "      </script>\n",
              "    </div>\n",
              "\n",
              "    </div>\n",
              "  </div>\n"
            ],
            "application/vnd.google.colaboratory.intrinsic+json": {
              "type": "dataframe",
              "variable_name": "ratings"
            }
          },
          "metadata": {},
          "execution_count": 5
        }
      ]
    },
    {
      "cell_type": "markdown",
      "metadata": {
        "id": "DYeY6VV9Yczl"
      },
      "source": [
        "Note that this data has largely been cleaned up for you - most people and users aren't called `1, 2, 3`... you would need to use `LabelEncoder()` to go from names like `Dave` or `Magnolia` to `1, 2` respectively."
      ]
    },
    {
      "cell_type": "markdown",
      "metadata": {
        "id": "R0HyHEGRWSIK"
      },
      "source": [
        "How many movies are these people watching?"
      ]
    },
    {
      "cell_type": "code",
      "metadata": {
        "colab": {
          "base_uri": "https://localhost:8080/",
          "height": 431
        },
        "id": "GeJPCwNjWUAT",
        "outputId": "e3ad01ea-6801-4e80-d31e-342c45cb8d9b"
      },
      "source": [
        "tmp = ratings.groupby('userId')['movieId'].nunique()\n",
        "tmp = pd.DataFrame(tmp)\n",
        "tmp"
      ],
      "execution_count": null,
      "outputs": [
        {
          "output_type": "execute_result",
          "data": {
            "text/html": [
              "<div>\n",
              "<style scoped>\n",
              "    .dataframe tbody tr th:only-of-type {\n",
              "        vertical-align: middle;\n",
              "    }\n",
              "\n",
              "    .dataframe tbody tr th {\n",
              "        vertical-align: top;\n",
              "    }\n",
              "\n",
              "    .dataframe thead th {\n",
              "        text-align: right;\n",
              "    }\n",
              "</style>\n",
              "<table border=\"1\" class=\"dataframe\">\n",
              "  <thead>\n",
              "    <tr style=\"text-align: right;\">\n",
              "      <th></th>\n",
              "      <th>movieId</th>\n",
              "    </tr>\n",
              "    <tr>\n",
              "      <th>userId</th>\n",
              "      <th></th>\n",
              "    </tr>\n",
              "  </thead>\n",
              "  <tbody>\n",
              "    <tr>\n",
              "      <th>1</th>\n",
              "      <td>232</td>\n",
              "    </tr>\n",
              "    <tr>\n",
              "      <th>2</th>\n",
              "      <td>29</td>\n",
              "    </tr>\n",
              "    <tr>\n",
              "      <th>3</th>\n",
              "      <td>39</td>\n",
              "    </tr>\n",
              "    <tr>\n",
              "      <th>4</th>\n",
              "      <td>216</td>\n",
              "    </tr>\n",
              "    <tr>\n",
              "      <th>5</th>\n",
              "      <td>44</td>\n",
              "    </tr>\n",
              "    <tr>\n",
              "      <th>...</th>\n",
              "      <td>...</td>\n",
              "    </tr>\n",
              "    <tr>\n",
              "      <th>606</th>\n",
              "      <td>1115</td>\n",
              "    </tr>\n",
              "    <tr>\n",
              "      <th>607</th>\n",
              "      <td>187</td>\n",
              "    </tr>\n",
              "    <tr>\n",
              "      <th>608</th>\n",
              "      <td>831</td>\n",
              "    </tr>\n",
              "    <tr>\n",
              "      <th>609</th>\n",
              "      <td>37</td>\n",
              "    </tr>\n",
              "    <tr>\n",
              "      <th>610</th>\n",
              "      <td>1302</td>\n",
              "    </tr>\n",
              "  </tbody>\n",
              "</table>\n",
              "<p>610 rows × 1 columns</p>\n",
              "</div>"
            ],
            "text/plain": [
              "        movieId\n",
              "userId         \n",
              "1           232\n",
              "2            29\n",
              "3            39\n",
              "4           216\n",
              "5            44\n",
              "...         ...\n",
              "606        1115\n",
              "607         187\n",
              "608         831\n",
              "609          37\n",
              "610        1302\n",
              "\n",
              "[610 rows x 1 columns]"
            ]
          },
          "metadata": {
            "tags": []
          },
          "execution_count": 23
        }
      ]
    },
    {
      "cell_type": "code",
      "metadata": {
        "colab": {
          "base_uri": "https://localhost:8080/"
        },
        "id": "_qSrK7vrWrLJ",
        "outputId": "9389e33a-80f8-47cf-af39-f89918014d63"
      },
      "source": [
        "# check your work! number of unique movie users\n",
        "ratings['userId'].nunique() # 610 movie users!"
      ],
      "execution_count": null,
      "outputs": [
        {
          "output_type": "execute_result",
          "data": {
            "text/plain": [
              "610"
            ]
          },
          "metadata": {
            "tags": []
          },
          "execution_count": 24
        }
      ]
    },
    {
      "cell_type": "code",
      "metadata": {
        "colab": {
          "base_uri": "https://localhost:8080/"
        },
        "id": "7ytWibwbWw-8",
        "outputId": "2bedf4ae-e02f-4345-b245-5f23267ca69f"
      },
      "source": [
        "# check your work! number of unique movies\n",
        "ratings['movieId'].nunique() # 9724 movies..."
      ],
      "execution_count": null,
      "outputs": [
        {
          "output_type": "execute_result",
          "data": {
            "text/plain": [
              "9724"
            ]
          },
          "metadata": {
            "tags": []
          },
          "execution_count": 25
        }
      ]
    },
    {
      "cell_type": "markdown",
      "metadata": {
        "id": "7tDP-YzaW8mw"
      },
      "source": [
        "Here's what the number of movies per person is."
      ]
    },
    {
      "cell_type": "code",
      "metadata": {
        "colab": {
          "base_uri": "https://localhost:8080/",
          "height": 281
        },
        "id": "aYSUYSmSW-mk",
        "outputId": "5d5284e3-2e68-4ff1-a6a4-99e24470c16e"
      },
      "source": [
        "tmp.hist()\n",
        "plt.show()"
      ],
      "execution_count": null,
      "outputs": [
        {
          "output_type": "display_data",
          "data": {
            "image/png": "[encoded data removed]",
            "text/plain": [
              "<Figure size 432x288 with 1 Axes>"
            ]
          },
          "metadata": {
            "tags": [],
            "needs_background": "light"
          }
        }
      ]
    },
    {
      "cell_type": "markdown",
      "metadata": {
        "id": "NJMX2PJrXQQi"
      },
      "source": [
        "Here are the summary stats on number of movies watched per user."
      ]
    },
    {
      "cell_type": "code",
      "metadata": {
        "colab": {
          "base_uri": "https://localhost:8080/",
          "height": 284
        },
        "id": "yGgNfJbQXJcR",
        "outputId": "56830e33-8b6c-4d17-d717-f2068fe4e653"
      },
      "source": [
        "# someone really watched >2500 movies... do you have a friend like that?\n",
        "tmp.describe()"
      ],
      "execution_count": null,
      "outputs": [
        {
          "output_type": "execute_result",
          "data": {
            "text/html": [
              "<div>\n",
              "<style scoped>\n",
              "    .dataframe tbody tr th:only-of-type {\n",
              "        vertical-align: middle;\n",
              "    }\n",
              "\n",
              "    .dataframe tbody tr th {\n",
              "        vertical-align: top;\n",
              "    }\n",
              "\n",
              "    .dataframe thead th {\n",
              "        text-align: right;\n",
              "    }\n",
              "</style>\n",
              "<table border=\"1\" class=\"dataframe\">\n",
              "  <thead>\n",
              "    <tr style=\"text-align: right;\">\n",
              "      <th></th>\n",
              "      <th>movieId</th>\n",
              "    </tr>\n",
              "  </thead>\n",
              "  <tbody>\n",
              "    <tr>\n",
              "      <th>count</th>\n",
              "      <td>610.000000</td>\n",
              "    </tr>\n",
              "    <tr>\n",
              "      <th>mean</th>\n",
              "      <td>165.304918</td>\n",
              "    </tr>\n",
              "    <tr>\n",
              "      <th>std</th>\n",
              "      <td>269.480584</td>\n",
              "    </tr>\n",
              "    <tr>\n",
              "      <th>min</th>\n",
              "      <td>20.000000</td>\n",
              "    </tr>\n",
              "    <tr>\n",
              "      <th>25%</th>\n",
              "      <td>35.000000</td>\n",
              "    </tr>\n",
              "    <tr>\n",
              "      <th>50%</th>\n",
              "      <td>70.500000</td>\n",
              "    </tr>\n",
              "    <tr>\n",
              "      <th>75%</th>\n",
              "      <td>168.000000</td>\n",
              "    </tr>\n",
              "    <tr>\n",
              "      <th>max</th>\n",
              "      <td>2698.000000</td>\n",
              "    </tr>\n",
              "  </tbody>\n",
              "</table>\n",
              "</div>"
            ],
            "text/plain": [
              "           movieId\n",
              "count   610.000000\n",
              "mean    165.304918\n",
              "std     269.480584\n",
              "min      20.000000\n",
              "25%      35.000000\n",
              "50%      70.500000\n",
              "75%     168.000000\n",
              "max    2698.000000"
            ]
          },
          "metadata": {
            "tags": []
          },
          "execution_count": 27
        }
      ]
    },
    {
      "cell_type": "markdown",
      "metadata": {
        "id": "bCUlQ2fmXTG4"
      },
      "source": [
        "We also may be interested in the average score per user. I will overwrite my `tmp` variable because I am lazy."
      ]
    },
    {
      "cell_type": "code",
      "metadata": {
        "colab": {
          "base_uri": "https://localhost:8080/",
          "height": 431
        },
        "id": "kyDlD2CoXVW2",
        "outputId": "5c5e6bb3-5c7e-4a31-b480-e1f663cca3d0"
      },
      "source": [
        "tmp = ratings.groupby('userId')['rating'].mean()\n",
        "tmp = pd.DataFrame(tmp)\n",
        "tmp"
      ],
      "execution_count": null,
      "outputs": [
        {
          "output_type": "execute_result",
          "data": {
            "text/html": [
              "<div>\n",
              "<style scoped>\n",
              "    .dataframe tbody tr th:only-of-type {\n",
              "        vertical-align: middle;\n",
              "    }\n",
              "\n",
              "    .dataframe tbody tr th {\n",
              "        vertical-align: top;\n",
              "    }\n",
              "\n",
              "    .dataframe thead th {\n",
              "        text-align: right;\n",
              "    }\n",
              "</style>\n",
              "<table border=\"1\" class=\"dataframe\">\n",
              "  <thead>\n",
              "    <tr style=\"text-align: right;\">\n",
              "      <th></th>\n",
              "      <th>rating</th>\n",
              "    </tr>\n",
              "    <tr>\n",
              "      <th>userId</th>\n",
              "      <th></th>\n",
              "    </tr>\n",
              "  </thead>\n",
              "  <tbody>\n",
              "    <tr>\n",
              "      <th>1</th>\n",
              "      <td>4.366379</td>\n",
              "    </tr>\n",
              "    <tr>\n",
              "      <th>2</th>\n",
              "      <td>3.948276</td>\n",
              "    </tr>\n",
              "    <tr>\n",
              "      <th>3</th>\n",
              "      <td>2.435897</td>\n",
              "    </tr>\n",
              "    <tr>\n",
              "      <th>4</th>\n",
              "      <td>3.555556</td>\n",
              "    </tr>\n",
              "    <tr>\n",
              "      <th>5</th>\n",
              "      <td>3.636364</td>\n",
              "    </tr>\n",
              "    <tr>\n",
              "      <th>...</th>\n",
              "      <td>...</td>\n",
              "    </tr>\n",
              "    <tr>\n",
              "      <th>606</th>\n",
              "      <td>3.657399</td>\n",
              "    </tr>\n",
              "    <tr>\n",
              "      <th>607</th>\n",
              "      <td>3.786096</td>\n",
              "    </tr>\n",
              "    <tr>\n",
              "      <th>608</th>\n",
              "      <td>3.134176</td>\n",
              "    </tr>\n",
              "    <tr>\n",
              "      <th>609</th>\n",
              "      <td>3.270270</td>\n",
              "    </tr>\n",
              "    <tr>\n",
              "      <th>610</th>\n",
              "      <td>3.688556</td>\n",
              "    </tr>\n",
              "  </tbody>\n",
              "</table>\n",
              "<p>610 rows × 1 columns</p>\n",
              "</div>"
            ],
            "text/plain": [
              "          rating\n",
              "userId          \n",
              "1       4.366379\n",
              "2       3.948276\n",
              "3       2.435897\n",
              "4       3.555556\n",
              "5       3.636364\n",
              "...          ...\n",
              "606     3.657399\n",
              "607     3.786096\n",
              "608     3.134176\n",
              "609     3.270270\n",
              "610     3.688556\n",
              "\n",
              "[610 rows x 1 columns]"
            ]
          },
          "metadata": {
            "tags": []
          },
          "execution_count": 28
        }
      ]
    },
    {
      "cell_type": "markdown",
      "metadata": {
        "id": "jP6CjNLAXg5-"
      },
      "source": [
        "And here is the distribution of average rating by user."
      ]
    },
    {
      "cell_type": "code",
      "metadata": {
        "colab": {
          "base_uri": "https://localhost:8080/",
          "height": 281
        },
        "id": "q_ev7B4qXjIE",
        "outputId": "9c2685d7-e4ad-40b0-af0d-2ea36b06e789"
      },
      "source": [
        "tmp.hist()\n",
        "plt.show()"
      ],
      "execution_count": null,
      "outputs": [
        {
          "output_type": "display_data",
          "data": {
            "image/png": "[encoded data removed]",
            "text/plain": [
              "<Figure size 432x288 with 1 Axes>"
            ]
          },
          "metadata": {
            "tags": [],
            "needs_background": "light"
          }
        }
      ]
    },
    {
      "cell_type": "markdown",
      "metadata": {
        "id": "9Gru2suOXm6T"
      },
      "source": [
        "Some people are real grumps! 1.5 as the average rating, but this is rare."
      ]
    },
    {
      "cell_type": "markdown",
      "metadata": {
        "id": "OtDLdePgc1FC"
      },
      "source": [
        "# Using `LabelEncoder()` to prep the data\n",
        "The data looks pretty clean - but so that you know how to use `LabelEncoder` we will add this section."
      ]
    },
    {
      "cell_type": "code",
      "metadata": {
        "colab": {
          "base_uri": "https://localhost:8080/"
        },
        "id": "LQFHWkm8c5Ui",
        "outputId": "4975779a-8d2d-4f61-a602-d267bcd566de"
      },
      "source": [
        "# encode the users\n",
        "user_enc = LabelEncoder()\n",
        "ratings['user'] = user_enc.fit_transform(ratings['userId'].values)\n",
        "n_users = ratings['user'].nunique()\n",
        "\n",
        "# encode the movies\n",
        "item_enc = LabelEncoder()\n",
        "ratings['movie'] = item_enc.fit_transform(ratings['movieId'].values)\n",
        "n_movies = ratings['movie'].nunique()\n",
        "ratings['rating'] = ratings['rating'].values.astype(np.float32)\n",
        "\n",
        "# stats\n",
        "min_rating = min(ratings['rating'])\n",
        "max_rating = max(ratings['rating'])\n",
        "\n",
        "print(n_users, n_movies, min_rating, max_rating)"
      ],
      "execution_count": null,
      "outputs": [
        {
          "output_type": "stream",
          "text": [
            "610 9724 0.5 5.0\n"
          ],
          "name": "stdout"
        }
      ]
    },
    {
      "cell_type": "markdown",
      "metadata": {
        "id": "SM1FNsybYwSQ"
      },
      "source": [
        "# Basic Modeling Idea\n",
        "You have now learned about embedding layers for words when we covered 'text sequences'. NOW you are going to make embeddings for categories like movies and users.\n",
        "\n",
        "If you make 3D embedding for each person, and a 3D embedding for each movie... like this...\n",
        "\n",
        "![dot product](http://media5.datahacker.rs/2020/04/Picture27-768x290.jpg)\n",
        "\n",
        "..You can take the dot product of these and get a numeric output (a single `[1,1]` value)! In this case, we would have predicted a person might have ranked the movie 38/100... HOW COOL IS THAT?!\n",
        "\n",
        "But it gets better. If you relate that output to a DENSE LAYER - then you have built a really cool neural network that will try to simulataneously predict the user review AND generate an embedding for each person.\n",
        "\n",
        "Recall that the embedding we learn is simply a latent representation of the movie or user, respectively. The numbers don't 'mean' anything... they are just numeric constructs! Just like an LSTM cell and word embeddings update at the same time, so do our embedding layers in the deep recommender system.\n",
        "\n"
      ]
    },
    {
      "cell_type": "markdown",
      "metadata": {
        "id": "xhdJSGqlcjzH"
      },
      "source": [
        "## What's so special about 'deep recommendations'?\n",
        "Honestly - not too much! You should be able to get the hang of this pretty quickly."
      ]
    },
    {
      "cell_type": "markdown",
      "metadata": {
        "id": "6iMQYLVcdRWs"
      },
      "source": [
        "# Data Splitting\n",
        "We will use a random 10% holdout for this example."
      ]
    },
    {
      "cell_type": "code",
      "metadata": {
        "colab": {
          "base_uri": "https://localhost:8080/"
        },
        "id": "-94fUaNtdVEs",
        "outputId": "6593714b-92f1-4ef6-8ffd-2660f4fb1fbf"
      },
      "source": [
        "X = ratings[['user', 'movie']].values\n",
        "y = ratings['rating'].values\n",
        "X_train, X_test, y_train, y_test = train_test_split(X, y, test_size=0.1, random_state=42)\n",
        "X_train.shape, X_test.shape, y_train.shape, y_test.shape # looks good!"
      ],
      "execution_count": null,
      "outputs": [
        {
          "output_type": "execute_result",
          "data": {
            "text/plain": [
              "((90752, 2), (10084, 2), (90752,), (10084,))"
            ]
          },
          "metadata": {
            "tags": []
          },
          "execution_count": 31
        }
      ]
    },
    {
      "cell_type": "markdown",
      "metadata": {
        "id": "gBAgMLHgdg_R"
      },
      "source": [
        "# Formatting as Arrays\n",
        "The way we will build the Deep Recommender requires that the USER ID and the MOVIE ID both be fed as separate arrays. They will be pushed together as two entries in a list. Look below."
      ]
    },
    {
      "cell_type": "code",
      "metadata": {
        "id": "a0n0LowEdsNb"
      },
      "source": [
        "n_factors = 8 # to start, we will give everybody a 2D vector\n",
        "X_train_array = [X_train[:, 0], X_train[:, 1]]\n",
        "X_test_array = [X_test[:, 0], X_test[:, 1]]\n",
        "\n",
        "# 0 is user, 1 is movie - need to use integers because we are slicing arrays"
      ],
      "execution_count": null,
      "outputs": []
    },
    {
      "cell_type": "markdown",
      "metadata": {
        "id": "VDwj1w_UeJdr"
      },
      "source": [
        "# Model 1: Basic Deep Recommender"
      ]
    },
    {
      "cell_type": "code",
      "metadata": {
        "colab": {
          "base_uri": "https://localhost:8080/"
        },
        "id": "3ns9FVWTeMbO",
        "outputId": "488801be-10e4-429e-d445-276533ed2a94"
      },
      "source": [
        "from keras.models import Model\n",
        "from keras.layers import Input, Reshape, Dot\n",
        "from keras.layers.embeddings import Embedding\n",
        "from keras.optimizers import Adam\n",
        "from keras.regularizers import l2\n",
        "\n",
        "# the model is going to be a FUNCTION with three inputs\n",
        "def RecommenderV1(n_users, n_movies, n_factors):\n",
        "    user = Input(shape=(1,))\n",
        "    u = Embedding(n_users, n_factors, embeddings_initializer='he_normal',\n",
        "                  embeddings_regularizer=l2(1e-6))(user)\n",
        "    u = Reshape((n_factors,))(u)\n",
        "\n",
        "    movie = Input(shape=(1,))\n",
        "    m = Embedding(n_movies, n_factors, embeddings_initializer='he_normal',\n",
        "                  embeddings_regularizer=l2(1e-6))(movie)\n",
        "    m = Reshape((n_factors,))(m)\n",
        "\n",
        "    x = Dot(axes=1)([u, m])\n",
        "    model = Model(inputs=[user, movie], outputs=x)\n",
        "    opt = Adam(lr=0.001)\n",
        "    model.compile(loss='mean_squared_error', optimizer=opt)\n",
        "    return model\n",
        "\n",
        "# declare and inspect the model\n",
        "model = RecommenderV1(n_users, n_movies, n_factors) # NOTE THE INPUTS! This helps with layer input/output shapes.\n",
        "model.summary() # later on, it will fit with x_Train_array and x_Test_array"
      ],
      "execution_count": null,
      "outputs": [
        {
          "output_type": "stream",
          "text": [
            "Model: \"model_3\"\n",
            "__________________________________________________________________________________________________\n",
            "Layer (type)                    Output Shape         Param #     Connected to                     \n",
            "==================================================================================================\n",
            "input_7 (InputLayer)            [(None, 1)]          0                                            \n",
            "__________________________________________________________________________________________________\n",
            "input_8 (InputLayer)            [(None, 1)]          0                                            \n",
            "__________________________________________________________________________________________________\n",
            "embedding_8 (Embedding)         (None, 1, 8)         4880        input_7[0][0]                    \n",
            "__________________________________________________________________________________________________\n",
            "embedding_9 (Embedding)         (None, 1, 8)         77792       input_8[0][0]                    \n",
            "__________________________________________________________________________________________________\n",
            "reshape_8 (Reshape)             (None, 8)            0           embedding_8[0][0]                \n",
            "__________________________________________________________________________________________________\n",
            "reshape_9 (Reshape)             (None, 8)            0           embedding_9[0][0]                \n",
            "__________________________________________________________________________________________________\n",
            "dot_2 (Dot)                     (None, 1)            0           reshape_8[0][0]                  \n",
            "                                                                 reshape_9[0][0]                  \n",
            "==================================================================================================\n",
            "Total params: 82,672\n",
            "Trainable params: 82,672\n",
            "Non-trainable params: 0\n",
            "__________________________________________________________________________________________________\n"
          ],
          "name": "stdout"
        }
      ]
    },
    {
      "cell_type": "markdown",
      "metadata": {
        "id": "uz97h6fmejMr"
      },
      "source": [
        "The way the model was built results in 20,668 trainable parameters. Let's see how it does!"
      ]
    },
    {
      "cell_type": "markdown",
      "metadata": {
        "id": "WYsduQv9envw"
      },
      "source": [
        "## Fit The Model\n",
        "We will add early stopping here as a callback and return the best model. Note that this model fits just like any other DL model in Keras - all of the prep has happened about when we defined our `RecommenderNetV1`."
      ]
    },
    {
      "cell_type": "code",
      "metadata": {
        "colab": {
          "base_uri": "https://localhost:8080/",
          "height": 1000
        },
        "id": "uKI0femUeriF",
        "outputId": "2a1fe722-1bcf-4815-8f97-22d699a38a91"
      },
      "source": [
        "# early stop!\n",
        "from tensorflow.keras.callbacks import EarlyStopping\n",
        "from sklearn.metrics import mean_absolute_error\n",
        "\n",
        "early_stop = EarlyStopping(monitor='val_loss',mode='min',verbose=1,\n",
        "                           patience=25,\n",
        "                           restore_best_weights=True)\n",
        "\n",
        "# fit the model\n",
        "history = model.fit(x=X_train_array, y=y_train, batch_size=64, epochs=500,\n",
        "                    verbose=1, validation_data=(X_test_array, y_test),\n",
        "                    callbacks=[early_stop])\n",
        "\n",
        "# store results\n",
        "train_preds = model.predict(X_train_array)\n",
        "test_preds = model.predict(X_test_array)\n",
        "\n",
        "# score/metrics\n",
        "train_score = mean_absolute_error(y_train, train_preds)\n",
        "test_score = mean_absolute_error(y_test, test_preds)\n",
        "\n",
        "print('Train Score:', train_score)\n",
        "print('Test Score:', test_score)\n",
        "\n",
        "# a nice plot\n",
        "plt.plot(history.history[\"loss\"])\n",
        "plt.plot(history.history[\"val_loss\"])\n",
        "plt.title(\"model loss\")\n",
        "plt.ylabel(\"loss\")\n",
        "plt.xlabel(\"epoch\")\n",
        "plt.legend([\"train\", \"test\"], loc=\"upper left\")\n",
        "plt.show()\n",
        "\n",
        "# actual vs. pred\n",
        "# train\n",
        "plt.scatter(y_train,\n",
        "          train_preds,\n",
        "          marker = '*',\n",
        "          color='red')\n",
        "plt.scatter(y_test,\n",
        "          test_preds,\n",
        "          marker = '*',\n",
        "          color='blue')\n",
        "plt.show()\n",
        "\n"
      ],
      "execution_count": null,
      "outputs": [
        {
          "output_type": "stream",
          "text": [
            "Epoch 1/500\n",
            "1418/1418 [==============================] - 3s 2ms/step - loss: 13.0556 - val_loss: 7.7753\n",
            "Epoch 2/500\n",
            "1418/1418 [==============================] - 3s 2ms/step - loss: 5.9014 - val_loss: 3.1970\n",
            "Epoch 3/500\n",
            "1418/1418 [==============================] - 3s 2ms/step - loss: 2.6222 - val_loss: 2.1633\n",
            "Epoch 4/500\n",
            "1418/1418 [==============================] - 3s 2ms/step - loss: 1.7316 - val_loss: 1.7330\n",
            "Epoch 5/500\n",
            "1418/1418 [==============================] - 3s 2ms/step - loss: 1.3019 - val_loss: 1.5156\n",
            "Epoch 6/500\n",
            "1418/1418 [==============================] - 3s 2ms/step - loss: 1.0699 - val_loss: 1.3943\n",
            "Epoch 7/500\n",
            "1418/1418 [==============================] - 3s 2ms/step - loss: 0.9373 - val_loss: 1.3235\n",
            "Epoch 8/500\n",
            "1418/1418 [==============================] - 3s 2ms/step - loss: 0.8513 - val_loss: 1.2802\n",
            "Epoch 9/500\n",
            "1418/1418 [==============================] - 3s 2ms/step - loss: 0.8018 - val_loss: 1.2560\n",
            "Epoch 10/500\n",
            "1418/1418 [==============================] - 3s 2ms/step - loss: 0.7469 - val_loss: 1.2414\n",
            "Epoch 11/500\n",
            "1418/1418 [==============================] - 3s 2ms/step - loss: 0.7332 - val_loss: 1.2319\n",
            "Epoch 12/500\n",
            "1418/1418 [==============================] - 3s 2ms/step - loss: 0.7023 - val_loss: 1.2267\n",
            "Epoch 13/500\n",
            "1418/1418 [==============================] - 3s 2ms/step - loss: 0.6892 - val_loss: 1.2194\n",
            "Epoch 14/500\n",
            "1418/1418 [==============================] - 3s 2ms/step - loss: 0.6790 - val_loss: 1.2195\n",
            "Epoch 15/500\n",
            "1418/1418 [==============================] - 3s 2ms/step - loss: 0.6624 - val_loss: 1.2168\n",
            "Epoch 16/500\n",
            "1418/1418 [==============================] - 3s 2ms/step - loss: 0.6488 - val_loss: 1.2171\n",
            "Epoch 17/500\n",
            "1418/1418 [==============================] - 3s 2ms/step - loss: 0.6398 - val_loss: 1.2169\n",
            "Epoch 18/500\n",
            "1418/1418 [==============================] - 3s 2ms/step - loss: 0.6358 - val_loss: 1.2154\n",
            "Epoch 19/500\n",
            "1418/1418 [==============================] - 3s 2ms/step - loss: 0.6166 - val_loss: 1.2180\n",
            "Epoch 20/500\n",
            "1418/1418 [==============================] - 3s 2ms/step - loss: 0.6095 - val_loss: 1.2188\n",
            "Epoch 21/500\n",
            "1418/1418 [==============================] - 3s 2ms/step - loss: 0.5978 - val_loss: 1.2200\n",
            "Epoch 22/500\n",
            "1418/1418 [==============================] - 3s 2ms/step - loss: 0.5813 - val_loss: 1.2165\n",
            "Epoch 23/500\n",
            "1418/1418 [==============================] - 3s 2ms/step - loss: 0.5690 - val_loss: 1.2180\n",
            "Epoch 24/500\n",
            "1418/1418 [==============================] - 3s 2ms/step - loss: 0.5565 - val_loss: 1.2212\n",
            "Epoch 25/500\n",
            "1418/1418 [==============================] - 3s 2ms/step - loss: 0.5484 - val_loss: 1.2208\n",
            "Epoch 26/500\n",
            "1418/1418 [==============================] - 3s 2ms/step - loss: 0.5256 - val_loss: 1.2282\n",
            "Epoch 27/500\n",
            "1418/1418 [==============================] - 3s 2ms/step - loss: 0.5196 - val_loss: 1.2284\n",
            "Epoch 28/500\n",
            "1418/1418 [==============================] - 3s 2ms/step - loss: 0.5065 - val_loss: 1.2325\n",
            "Epoch 29/500\n",
            "1418/1418 [==============================] - 3s 2ms/step - loss: 0.4950 - val_loss: 1.2344\n",
            "Epoch 30/500\n",
            "1418/1418 [==============================] - 3s 2ms/step - loss: 0.4861 - val_loss: 1.2412\n",
            "Epoch 31/500\n",
            "1418/1418 [==============================] - 3s 2ms/step - loss: 0.4760 - val_loss: 1.2444\n",
            "Epoch 32/500\n",
            "1418/1418 [==============================] - 3s 2ms/step - loss: 0.4575 - val_loss: 1.2497\n",
            "Epoch 33/500\n",
            "1418/1418 [==============================] - 3s 2ms/step - loss: 0.4557 - val_loss: 1.2562\n",
            "Epoch 34/500\n",
            "1418/1418 [==============================] - 3s 2ms/step - loss: 0.4508 - val_loss: 1.2598\n",
            "Epoch 35/500\n",
            "1418/1418 [==============================] - 3s 2ms/step - loss: 0.4418 - val_loss: 1.2637\n",
            "Epoch 36/500\n",
            "1418/1418 [==============================] - 3s 2ms/step - loss: 0.4377 - val_loss: 1.2718\n",
            "Epoch 37/500\n",
            "1418/1418 [==============================] - 3s 2ms/step - loss: 0.4325 - val_loss: 1.2753\n",
            "Epoch 38/500\n",
            "1418/1418 [==============================] - 3s 2ms/step - loss: 0.4245 - val_loss: 1.2799\n",
            "Epoch 39/500\n",
            "1418/1418 [==============================] - 3s 2ms/step - loss: 0.4170 - val_loss: 1.2875\n",
            "Epoch 40/500\n",
            "1418/1418 [==============================] - 3s 2ms/step - loss: 0.4185 - val_loss: 1.2912\n",
            "Epoch 41/500\n",
            "1418/1418 [==============================] - 3s 2ms/step - loss: 0.4120 - val_loss: 1.2971\n",
            "Epoch 42/500\n",
            "1418/1418 [==============================] - 3s 2ms/step - loss: 0.4081 - val_loss: 1.3000\n",
            "Epoch 43/500\n",
            "1418/1418 [==============================] - 3s 2ms/step - loss: 0.4017 - val_loss: 1.3085\n",
            "Restoring model weights from the end of the best epoch.\n",
            "Epoch 00043: early stopping\n",
            "Train Score: 0.57338417\n",
            "Test Score: 0.77440155\n"
          ],
          "name": "stdout"
        },
        {
          "output_type": "display_data",
          "data": {
            "image/png": "[encoded data removed]",
            "text/plain": [
              "<Figure size 432x288 with 1 Axes>"
            ]
          },
          "metadata": {
            "tags": [],
            "needs_background": "light"
          }
        },
        {
          "output_type": "display_data",
          "data": {
            "image/png": "[encoded data removed]",
            "text/plain": [
              "<Figure size 432x288 with 1 Axes>"
            ]
          },
          "metadata": {
            "tags": [],
            "needs_background": "light"
          }
        }
      ]
    },
    {
      "cell_type": "markdown",
      "metadata": {
        "id": "Ek_jPB4igl28"
      },
      "source": [
        "# Model 2: Intermediate Deep Recommender\n",
        "Now let's add some bias terms (recall how they help our other models converge by adding an extra term or degree of freedom.)\n",
        "\n",
        "We also will add some cool functionality near the output node... note the use of the `sigmoid` activation function and the scaling that happens afterward to constrain the prediction!"
      ]
    },
    {
      "cell_type": "code",
      "metadata": {
        "colab": {
          "base_uri": "https://localhost:8080/"
        },
        "id": "CHjdtnoYhCAG",
        "outputId": "a78f2ac8-8635-442f-c6fb-4ee6c2b901c8"
      },
      "source": [
        "from keras.layers import Add, Activation, Lambda\n",
        "class EmbeddingLayer:\n",
        "    def __init__(self, n_items, n_factors):\n",
        "        self.n_items = n_items\n",
        "        self.n_factors = n_factors\n",
        "\n",
        "    def __call__(self, x):\n",
        "        x = Embedding(self.n_items, self.n_factors, embeddings_initializer='he_normal',\n",
        "                      embeddings_regularizer=l2(1e-6))(x)\n",
        "        x = Reshape((self.n_factors,))(x)\n",
        "        return x\n",
        "def RecommenderV2(n_users, n_movies, n_factors, min_rating, max_rating):\n",
        "    user = Input(shape=(1,))\n",
        "    u = EmbeddingLayer(n_users, n_factors)(user)\n",
        "    ub = EmbeddingLayer(n_users, 1)(user)\n",
        "\n",
        "    movie = Input(shape=(1,))\n",
        "    m = EmbeddingLayer(n_movies, n_factors)(movie)\n",
        "    mb = EmbeddingLayer(n_movies, 1)(movie)\n",
        "    x = Dot(axes=1)([u, m])\n",
        "    x = Add()([x, ub, mb])\n",
        "    x = Activation('sigmoid')(x)\n",
        "    x = Lambda(lambda x: x * (max_rating - min_rating) + min_rating)(x)\n",
        "    model = Model(inputs=[user, movie], outputs=x)\n",
        "    opt = Adam(lr=0.001)\n",
        "    model.compile(loss='mean_squared_error', optimizer=opt)\n",
        "    return model\n",
        "\n",
        "model = RecommenderV2(n_users, n_movies, n_factors, min_rating, max_rating)\n",
        "model.summary()"
      ],
      "execution_count": null,
      "outputs": [
        {
          "output_type": "stream",
          "text": [
            "Model: \"model_4\"\n",
            "__________________________________________________________________________________________________\n",
            "Layer (type)                    Output Shape         Param #     Connected to                     \n",
            "==================================================================================================\n",
            "input_9 (InputLayer)            [(None, 1)]          0                                            \n",
            "__________________________________________________________________________________________________\n",
            "input_10 (InputLayer)           [(None, 1)]          0                                            \n",
            "__________________________________________________________________________________________________\n",
            "embedding_10 (Embedding)        (None, 1, 8)         4880        input_9[0][0]                    \n",
            "__________________________________________________________________________________________________\n",
            "embedding_12 (Embedding)        (None, 1, 8)         77792       input_10[0][0]                   \n",
            "__________________________________________________________________________________________________\n",
            "reshape_10 (Reshape)            (None, 8)            0           embedding_10[0][0]               \n",
            "__________________________________________________________________________________________________\n",
            "reshape_12 (Reshape)            (None, 8)            0           embedding_12[0][0]               \n",
            "__________________________________________________________________________________________________\n",
            "embedding_11 (Embedding)        (None, 1, 1)         610         input_9[0][0]                    \n",
            "__________________________________________________________________________________________________\n",
            "embedding_13 (Embedding)        (None, 1, 1)         9724        input_10[0][0]                   \n",
            "__________________________________________________________________________________________________\n",
            "dot_3 (Dot)                     (None, 1)            0           reshape_10[0][0]                 \n",
            "                                                                 reshape_12[0][0]                 \n",
            "__________________________________________________________________________________________________\n",
            "reshape_11 (Reshape)            (None, 1)            0           embedding_11[0][0]               \n",
            "__________________________________________________________________________________________________\n",
            "reshape_13 (Reshape)            (None, 1)            0           embedding_13[0][0]               \n",
            "__________________________________________________________________________________________________\n",
            "add_1 (Add)                     (None, 1)            0           dot_3[0][0]                      \n",
            "                                                                 reshape_11[0][0]                 \n",
            "                                                                 reshape_13[0][0]                 \n",
            "__________________________________________________________________________________________________\n",
            "activation_3 (Activation)       (None, 1)            0           add_1[0][0]                      \n",
            "__________________________________________________________________________________________________\n",
            "lambda_2 (Lambda)               (None, 1)            0           activation_3[0][0]               \n",
            "==================================================================================================\n",
            "Total params: 93,006\n",
            "Trainable params: 93,006\n",
            "Non-trainable params: 0\n",
            "__________________________________________________________________________________________________\n"
          ],
          "name": "stdout"
        }
      ]
    },
    {
      "cell_type": "markdown",
      "metadata": {
        "id": "Kzqbeujhhg6z"
      },
      "source": [
        "Now we have 31K parameters to train with (when n_factors = 2) - nice!"
      ]
    },
    {
      "cell_type": "markdown",
      "metadata": {
        "id": "_RT-az2phnpw"
      },
      "source": [
        "## Fit The Model\n",
        "Same code as before! Note that we overwrote `model` above so our code is quite modular."
      ]
    },
    {
      "cell_type": "code",
      "metadata": {
        "colab": {
          "base_uri": "https://localhost:8080/",
          "height": 1000
        },
        "id": "u2qEhDGPhl41",
        "outputId": "5f665a8d-3d2e-4656-e335-74c256b01984"
      },
      "source": [
        "# early stop!\n",
        "from tensorflow.keras.callbacks import EarlyStopping\n",
        "from sklearn.metrics import mean_squared_error\n",
        "\n",
        "early_stop = EarlyStopping(monitor='val_loss',mode='min',verbose=1,\n",
        "                           patience=25,\n",
        "                           restore_best_weights=True)\n",
        "\n",
        "# fit the model\n",
        "history = model.fit(x=X_train_array, y=y_train, batch_size=64, epochs=500,\n",
        "                    verbose=1, validation_data=(X_test_array, y_test),\n",
        "                    callbacks=[early_stop])\n",
        "\n",
        "# store results\n",
        "train_preds = model.predict(X_train_array)\n",
        "test_preds = model.predict(X_test_array)\n",
        "\n",
        "# score/metrics\n",
        "train_score = mean_absolute_error(y_train, train_preds)\n",
        "test_score = mean_absolute_error(y_test, test_preds)\n",
        "\n",
        "print('Train Score:', train_score)\n",
        "print('Test Score:', test_score)\n",
        "\n",
        "# a nice plot\n",
        "plt.plot(history.history[\"loss\"])\n",
        "plt.plot(history.history[\"val_loss\"])\n",
        "plt.title(\"model loss\")\n",
        "plt.ylabel(\"loss\")\n",
        "plt.xlabel(\"epoch\")\n",
        "plt.legend([\"train\", \"test\"], loc=\"upper left\")\n",
        "plt.show()\n",
        "\n",
        "# actual vs. pred\n",
        "# train\n",
        "plt.scatter(y_train,\n",
        "          train_preds,\n",
        "          marker = '*',\n",
        "          color='red')\n",
        "plt.scatter(y_test,\n",
        "          test_preds,\n",
        "          marker = '*',\n",
        "          color='blue')\n",
        "plt.show()"
      ],
      "execution_count": null,
      "outputs": [
        {
          "output_type": "stream",
          "text": [
            "Epoch 1/500\n",
            "1418/1418 [==============================] - 4s 2ms/step - loss: 1.4345 - val_loss: 0.9490\n",
            "Epoch 2/500\n",
            "1418/1418 [==============================] - 3s 2ms/step - loss: 0.8391 - val_loss: 0.7982\n",
            "Epoch 3/500\n",
            "1418/1418 [==============================] - 3s 2ms/step - loss: 0.6950 - val_loss: 0.7667\n",
            "Epoch 4/500\n",
            "1418/1418 [==============================] - 3s 2ms/step - loss: 0.6330 - val_loss: 0.7532\n",
            "Epoch 5/500\n",
            "1418/1418 [==============================] - 3s 2ms/step - loss: 0.6043 - val_loss: 0.7468\n",
            "Epoch 6/500\n",
            "1418/1418 [==============================] - 3s 2ms/step - loss: 0.5673 - val_loss: 0.7456\n",
            "Epoch 7/500\n",
            "1418/1418 [==============================] - 3s 2ms/step - loss: 0.5203 - val_loss: 0.7464\n",
            "Epoch 8/500\n",
            "1418/1418 [==============================] - 3s 2ms/step - loss: 0.5013 - val_loss: 0.7513\n",
            "Epoch 9/500\n",
            "1418/1418 [==============================] - 3s 2ms/step - loss: 0.4744 - val_loss: 0.7586\n",
            "Epoch 10/500\n",
            "1418/1418 [==============================] - 3s 2ms/step - loss: 0.4534 - val_loss: 0.7678\n",
            "Epoch 11/500\n",
            "1418/1418 [==============================] - 3s 2ms/step - loss: 0.4378 - val_loss: 0.7767\n",
            "Epoch 12/500\n",
            "1418/1418 [==============================] - 3s 2ms/step - loss: 0.4178 - val_loss: 0.7889\n",
            "Epoch 13/500\n",
            "1418/1418 [==============================] - 3s 2ms/step - loss: 0.4077 - val_loss: 0.7995\n",
            "Epoch 14/500\n",
            "1418/1418 [==============================] - 3s 2ms/step - loss: 0.3912 - val_loss: 0.8103\n",
            "Epoch 15/500\n",
            "1418/1418 [==============================] - 3s 2ms/step - loss: 0.3803 - val_loss: 0.8197\n",
            "Epoch 16/500\n",
            "1418/1418 [==============================] - 3s 2ms/step - loss: 0.3677 - val_loss: 0.8308\n",
            "Epoch 17/500\n",
            "1418/1418 [==============================] - 3s 2ms/step - loss: 0.3635 - val_loss: 0.8385\n",
            "Epoch 18/500\n",
            "1418/1418 [==============================] - 3s 2ms/step - loss: 0.3560 - val_loss: 0.8479\n",
            "Epoch 19/500\n",
            "1418/1418 [==============================] - 3s 2ms/step - loss: 0.3503 - val_loss: 0.8558\n",
            "Epoch 20/500\n",
            "1418/1418 [==============================] - 3s 2ms/step - loss: 0.3468 - val_loss: 0.8637\n",
            "Epoch 21/500\n",
            "1418/1418 [==============================] - 3s 2ms/step - loss: 0.3371 - val_loss: 0.8699\n",
            "Epoch 22/500\n",
            "1418/1418 [==============================] - 3s 2ms/step - loss: 0.3378 - val_loss: 0.8780\n",
            "Epoch 23/500\n",
            "1418/1418 [==============================] - 3s 2ms/step - loss: 0.3331 - val_loss: 0.8831\n",
            "Epoch 24/500\n",
            "1418/1418 [==============================] - 3s 2ms/step - loss: 0.3298 - val_loss: 0.8901\n",
            "Epoch 25/500\n",
            "1418/1418 [==============================] - 3s 2ms/step - loss: 0.3255 - val_loss: 0.8956\n",
            "Epoch 26/500\n",
            "1418/1418 [==============================] - 3s 2ms/step - loss: 0.3214 - val_loss: 0.9013\n",
            "Epoch 27/500\n",
            "1418/1418 [==============================] - 3s 2ms/step - loss: 0.3164 - val_loss: 0.9065\n",
            "Epoch 28/500\n",
            "1418/1418 [==============================] - 3s 2ms/step - loss: 0.3121 - val_loss: 0.9111\n",
            "Epoch 29/500\n",
            "1418/1418 [==============================] - 3s 2ms/step - loss: 0.3113 - val_loss: 0.9150\n",
            "Epoch 30/500\n",
            "1418/1418 [==============================] - 3s 2ms/step - loss: 0.3141 - val_loss: 0.9198\n",
            "Epoch 31/500\n",
            "1418/1418 [==============================] - 3s 2ms/step - loss: 0.3132 - val_loss: 0.9241\n",
            "Restoring model weights from the end of the best epoch.\n",
            "Epoch 00031: early stopping\n",
            "Train Score: 0.5410476\n",
            "Test Score: 0.66174966\n"
          ],
          "name": "stdout"
        },
        {
          "output_type": "display_data",
          "data": {
            "image/png": "[encoded data removed]",
            "text/plain": [
              "<Figure size 432x288 with 1 Axes>"
            ]
          },
          "metadata": {
            "tags": [],
            "needs_background": "light"
          }
        },
        {
          "output_type": "display_data",
          "data": {
            "image/png": "[encoded data removed]",
            "text/plain": [
              "<Figure size 432x288 with 1 Axes>"
            ]
          },
          "metadata": {
            "tags": [],
            "needs_background": "light"
          }
        }
      ]
    },
    {
      "cell_type": "markdown",
      "metadata": {
        "id": "1W2zGS93iahf"
      },
      "source": [
        "# Model 3: Something totally different!\n",
        "Let's play with embeddings a little bit. Instead of them being multiplied... what if they both just went into a dense layer?!"
      ]
    },
    {
      "cell_type": "code",
      "metadata": {
        "colab": {
          "base_uri": "https://localhost:8080/"
        },
        "id": "7yga-W3TiorD",
        "outputId": "86056d7b-b3ad-4e79-d385-f9d298b9d9a4"
      },
      "source": [
        "# note that you defined 'EmbeddingLayer' in the second model!\n",
        "\n",
        "from keras.layers import Concatenate, Dense, Dropout\n",
        "def RecommenderNet(n_users, n_movies, n_factors, min_rating, max_rating):\n",
        "    user = Input(shape=(1,))\n",
        "    u = EmbeddingLayer(n_users, n_factors)(user)\n",
        "\n",
        "    movie = Input(shape=(1,))\n",
        "    m = EmbeddingLayer(n_movies, n_factors)(movie)\n",
        "\n",
        "    x = Concatenate()([u, m])\n",
        "    x = Dropout(0.05)(x)\n",
        "\n",
        "    x = Dense(10, kernel_initializer='he_normal')(x)\n",
        "    x = Activation('relu')(x)\n",
        "    x = Dropout(0.5)(x)\n",
        "\n",
        "    x = Dense(1, kernel_initializer='he_normal')(x)\n",
        "    x = Activation('sigmoid')(x)\n",
        "    x = Lambda(lambda x: x * (max_rating - min_rating) + min_rating)(x)\n",
        "    model = Model(inputs=[user, movie], outputs=x)\n",
        "    opt = Adam(lr=0.001)\n",
        "    model.compile(loss='mean_squared_error', optimizer=opt)\n",
        "    return model\n",
        "\n",
        "model = RecommenderNet(n_users, n_movies, n_factors, min_rating, max_rating)\n",
        "model.summary()"
      ],
      "execution_count": null,
      "outputs": [
        {
          "output_type": "stream",
          "text": [
            "Model: \"model_5\"\n",
            "__________________________________________________________________________________________________\n",
            "Layer (type)                    Output Shape         Param #     Connected to                     \n",
            "==================================================================================================\n",
            "input_11 (InputLayer)           [(None, 1)]          0                                            \n",
            "__________________________________________________________________________________________________\n",
            "input_12 (InputLayer)           [(None, 1)]          0                                            \n",
            "__________________________________________________________________________________________________\n",
            "embedding_14 (Embedding)        (None, 1, 8)         4880        input_11[0][0]                   \n",
            "__________________________________________________________________________________________________\n",
            "embedding_15 (Embedding)        (None, 1, 8)         77792       input_12[0][0]                   \n",
            "__________________________________________________________________________________________________\n",
            "reshape_14 (Reshape)            (None, 8)            0           embedding_14[0][0]               \n",
            "__________________________________________________________________________________________________\n",
            "reshape_15 (Reshape)            (None, 8)            0           embedding_15[0][0]               \n",
            "__________________________________________________________________________________________________\n",
            "concatenate_1 (Concatenate)     (None, 16)           0           reshape_14[0][0]                 \n",
            "                                                                 reshape_15[0][0]                 \n",
            "__________________________________________________________________________________________________\n",
            "dropout_2 (Dropout)             (None, 16)           0           concatenate_1[0][0]              \n",
            "__________________________________________________________________________________________________\n",
            "dense_2 (Dense)                 (None, 10)           170         dropout_2[0][0]                  \n",
            "__________________________________________________________________________________________________\n",
            "activation_4 (Activation)       (None, 10)           0           dense_2[0][0]                    \n",
            "__________________________________________________________________________________________________\n",
            "dropout_3 (Dropout)             (None, 10)           0           activation_4[0][0]               \n",
            "__________________________________________________________________________________________________\n",
            "dense_3 (Dense)                 (None, 1)            11          dropout_3[0][0]                  \n",
            "__________________________________________________________________________________________________\n",
            "activation_5 (Activation)       (None, 1)            0           dense_3[0][0]                    \n",
            "__________________________________________________________________________________________________\n",
            "lambda_3 (Lambda)               (None, 1)            0           activation_5[0][0]               \n",
            "==================================================================================================\n",
            "Total params: 82,853\n",
            "Trainable params: 82,853\n",
            "Non-trainable params: 0\n",
            "__________________________________________________________________________________________________\n"
          ],
          "name": "stdout"
        }
      ]
    },
    {
      "cell_type": "markdown",
      "metadata": {
        "id": "zLbB_F96kFmt"
      },
      "source": [
        "## Fit The Model"
      ]
    },
    {
      "cell_type": "code",
      "metadata": {
        "colab": {
          "base_uri": "https://localhost:8080/",
          "height": 1000
        },
        "id": "NLKWHm9yi7x_",
        "outputId": "e0d872dc-c21c-45cb-f799-b762e795da38"
      },
      "source": [
        "# early stop!\n",
        "from tensorflow.keras.callbacks import EarlyStopping\n",
        "from sklearn.metrics import mean_squared_error\n",
        "\n",
        "early_stop = EarlyStopping(monitor='val_loss',mode='min',verbose=1,\n",
        "                           patience=25,\n",
        "                           restore_best_weights=True)\n",
        "\n",
        "# fit the model\n",
        "history = model.fit(x=X_train_array, y=y_train, batch_size=64, epochs=500,\n",
        "                    verbose=1, validation_data=(X_test_array, y_test),\n",
        "                    callbacks=[early_stop])\n",
        "\n",
        "# store results\n",
        "train_preds = model.predict(X_train_array)\n",
        "test_preds = model.predict(X_test_array)\n",
        "\n",
        "# score/metrics\n",
        "train_score = mean_absolute_error(y_train, train_preds)\n",
        "test_score = mean_absolute_error(y_test, test_preds)\n",
        "\n",
        "print('Train Score:', train_score)\n",
        "print('Test Score:', test_score)\n",
        "\n",
        "# a nice plot\n",
        "plt.plot(history.history[\"loss\"])\n",
        "plt.plot(history.history[\"val_loss\"])\n",
        "plt.title(\"model loss\")\n",
        "plt.ylabel(\"loss\")\n",
        "plt.xlabel(\"epoch\")\n",
        "plt.legend([\"train\", \"test\"], loc=\"upper left\")\n",
        "plt.show()\n",
        "\n",
        "# actual vs. pred\n",
        "# train\n",
        "plt.scatter(y_train,\n",
        "          train_preds,\n",
        "          marker = '*',\n",
        "          color='red')\n",
        "plt.scatter(y_test,\n",
        "          test_preds,\n",
        "          marker = '*',\n",
        "          color='blue')\n",
        "plt.show()"
      ],
      "execution_count": null,
      "outputs": [
        {
          "output_type": "stream",
          "text": [
            "Epoch 1/500\n",
            "1418/1418 [==============================] - 4s 2ms/step - loss: 1.2174 - val_loss: 0.7995\n",
            "Epoch 2/500\n",
            "1418/1418 [==============================] - 3s 2ms/step - loss: 0.7777 - val_loss: 0.7809\n",
            "Epoch 3/500\n",
            "1418/1418 [==============================] - 3s 2ms/step - loss: 0.7290 - val_loss: 0.7768\n",
            "Epoch 4/500\n",
            "1418/1418 [==============================] - 3s 2ms/step - loss: 0.6991 - val_loss: 0.7799\n",
            "Epoch 5/500\n",
            "1418/1418 [==============================] - 3s 2ms/step - loss: 0.6942 - val_loss: 0.7828\n",
            "Epoch 6/500\n",
            "1418/1418 [==============================] - 3s 2ms/step - loss: 0.6815 - val_loss: 0.7812\n",
            "Epoch 7/500\n",
            "1418/1418 [==============================] - 3s 2ms/step - loss: 0.6782 - val_loss: 0.7823\n",
            "Epoch 8/500\n",
            "1418/1418 [==============================] - 3s 2ms/step - loss: 0.6769 - val_loss: 0.7821\n",
            "Epoch 9/500\n",
            "1418/1418 [==============================] - 3s 2ms/step - loss: 0.6745 - val_loss: 0.7869\n",
            "Epoch 10/500\n",
            "1418/1418 [==============================] - 3s 2ms/step - loss: 0.6726 - val_loss: 0.7891\n",
            "Epoch 11/500\n",
            "1418/1418 [==============================] - 3s 2ms/step - loss: 0.6702 - val_loss: 0.7913\n",
            "Epoch 12/500\n",
            "1418/1418 [==============================] - 3s 2ms/step - loss: 0.6648 - val_loss: 0.7910\n",
            "Epoch 13/500\n",
            "1418/1418 [==============================] - 3s 2ms/step - loss: 0.6594 - val_loss: 0.7889\n",
            "Epoch 14/500\n",
            "1418/1418 [==============================] - 3s 2ms/step - loss: 0.6663 - val_loss: 0.7939\n",
            "Epoch 15/500\n",
            "1418/1418 [==============================] - 3s 2ms/step - loss: 0.6567 - val_loss: 0.7966\n",
            "Epoch 16/500\n",
            "1418/1418 [==============================] - 3s 2ms/step - loss: 0.6583 - val_loss: 0.7917\n",
            "Epoch 17/500\n",
            "1418/1418 [==============================] - 3s 2ms/step - loss: 0.6489 - val_loss: 0.7927\n",
            "Epoch 18/500\n",
            "1418/1418 [==============================] - 3s 2ms/step - loss: 0.6643 - val_loss: 0.7930\n",
            "Epoch 19/500\n",
            "1418/1418 [==============================] - 3s 2ms/step - loss: 0.6607 - val_loss: 0.7953\n",
            "Epoch 20/500\n",
            "1418/1418 [==============================] - 3s 2ms/step - loss: 0.6552 - val_loss: 0.7967\n",
            "Epoch 21/500\n",
            "1418/1418 [==============================] - 3s 2ms/step - loss: 0.6510 - val_loss: 0.7920\n",
            "Epoch 22/500\n",
            "1418/1418 [==============================] - 3s 2ms/step - loss: 0.6439 - val_loss: 0.7944\n",
            "Epoch 23/500\n",
            "1418/1418 [==============================] - 3s 2ms/step - loss: 0.6467 - val_loss: 0.7951\n",
            "Epoch 24/500\n",
            "1418/1418 [==============================] - 3s 2ms/step - loss: 0.6581 - val_loss: 0.7970\n",
            "Epoch 25/500\n",
            "1418/1418 [==============================] - 3s 2ms/step - loss: 0.6513 - val_loss: 0.7961\n",
            "Epoch 26/500\n",
            "1418/1418 [==============================] - 3s 2ms/step - loss: 0.6438 - val_loss: 0.7975\n",
            "Epoch 27/500\n",
            "1418/1418 [==============================] - 3s 2ms/step - loss: 0.6429 - val_loss: 0.7999\n",
            "Epoch 28/500\n",
            "1418/1418 [==============================] - 3s 2ms/step - loss: 0.6467 - val_loss: 0.7947\n",
            "Restoring model weights from the end of the best epoch.\n",
            "Epoch 00028: early stopping\n",
            "Train Score: 0.6004553\n",
            "Test Score: 0.67209023\n"
          ],
          "name": "stdout"
        },
        {
          "output_type": "display_data",
          "data": {
            "image/png": "[encoded data removed]",
            "text/plain": [
              "<Figure size 432x288 with 1 Axes>"
            ]
          },
          "metadata": {
            "tags": [],
            "needs_background": "light"
          }
        },
        {
          "output_type": "display_data",
          "data": {
            "image/png": "[encoded data removed]",
            "text/plain": [
              "<Figure size 432x288 with 1 Axes>"
            ]
          },
          "metadata": {
            "tags": [],
            "needs_background": "light"
          }
        }
      ]
    },
    {
      "cell_type": "markdown",
      "metadata": {
        "id": "YBV4u6dTjgYU"
      },
      "source": [
        "## What's the benefit of ditching the dot product?\n",
        "\n",
        "Flexibility! Now you can include extra metadata on the movie or the user - you don't have to worry about the dot products lining up because they are going straight into a Dense Layer.\n",
        "\n",
        "You can consider metadata like what time or day or holiday did they watch the movie? Maybe add some proxy data that describes what's happening in the World... or from THEIR World by scraping data off of a wearable like an APPLE WATCH or by READING YOUR EMAIL (!) about whether or not they are having a good day or bad day?!\n",
        "\n",
        "Look out World - this (the embedding layer) is the future!"
      ]
    },
    {
      "cell_type": "markdown",
      "metadata": {
        "id": "bNImd5j2j9wd"
      },
      "source": [
        "# On Your Own\n",
        "You can try updating the code in the Keras documentation for what show you should watch next!"
      ]
    }
  ]
}